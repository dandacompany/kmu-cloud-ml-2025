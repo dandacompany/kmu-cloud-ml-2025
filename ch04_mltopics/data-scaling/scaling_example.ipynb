{
 "cells": [
  {
   "cell_type": "markdown",
   "metadata": {},
   "source": [
    "## 스케일링 예제"
   ]
  },
  {
   "cell_type": "markdown",
   "metadata": {},
   "source": [
    "### 라이브러리 준비"
   ]
  },
  {
   "cell_type": "code",
   "execution_count": 47,
   "metadata": {},
   "outputs": [
    {
     "name": "stdout",
     "output_type": "stream",
     "text": [
      "Requirement already satisfied: scikit-learn in /Users/dante/aws-ds-class/.conda/lib/python3.12/site-packages (1.5.1)\n",
      "Requirement already satisfied: numpy>=1.19.5 in /Users/dante/aws-ds-class/.conda/lib/python3.12/site-packages (from scikit-learn) (1.26.4)\n",
      "Requirement already satisfied: scipy>=1.6.0 in /Users/dante/aws-ds-class/.conda/lib/python3.12/site-packages (from scikit-learn) (1.14.0)\n",
      "Requirement already satisfied: joblib>=1.2.0 in /Users/dante/aws-ds-class/.conda/lib/python3.12/site-packages (from scikit-learn) (1.4.2)\n",
      "Requirement already satisfied: threadpoolctl>=3.1.0 in /Users/dante/aws-ds-class/.conda/lib/python3.12/site-packages (from scikit-learn) (3.5.0)\n",
      "Requirement already satisfied: plotly in /Users/dante/aws-ds-class/.conda/lib/python3.12/site-packages (5.22.0)\n",
      "Requirement already satisfied: tenacity>=6.2.0 in /Users/dante/aws-ds-class/.conda/lib/python3.12/site-packages (from plotly) (8.5.0)\n",
      "Requirement already satisfied: packaging in /Users/dante/aws-ds-class/.conda/lib/python3.12/site-packages (from plotly) (24.1)\n",
      "Requirement already satisfied: ipywidgets in /Users/dante/aws-ds-class/.conda/lib/python3.12/site-packages (8.1.3)\n",
      "Requirement already satisfied: comm>=0.1.3 in /Users/dante/aws-ds-class/.conda/lib/python3.12/site-packages (from ipywidgets) (0.2.2)\n",
      "Requirement already satisfied: ipython>=6.1.0 in /Users/dante/aws-ds-class/.conda/lib/python3.12/site-packages (from ipywidgets) (8.26.0)\n",
      "Requirement already satisfied: traitlets>=4.3.1 in /Users/dante/aws-ds-class/.conda/lib/python3.12/site-packages (from ipywidgets) (5.14.3)\n",
      "Requirement already satisfied: widgetsnbextension~=4.0.11 in /Users/dante/aws-ds-class/.conda/lib/python3.12/site-packages (from ipywidgets) (4.0.11)\n",
      "Requirement already satisfied: jupyterlab-widgets~=3.0.11 in /Users/dante/aws-ds-class/.conda/lib/python3.12/site-packages (from ipywidgets) (3.0.11)\n",
      "Requirement already satisfied: decorator in /Users/dante/aws-ds-class/.conda/lib/python3.12/site-packages (from ipython>=6.1.0->ipywidgets) (5.1.1)\n",
      "Requirement already satisfied: jedi>=0.16 in /Users/dante/aws-ds-class/.conda/lib/python3.12/site-packages (from ipython>=6.1.0->ipywidgets) (0.19.1)\n",
      "Requirement already satisfied: matplotlib-inline in /Users/dante/aws-ds-class/.conda/lib/python3.12/site-packages (from ipython>=6.1.0->ipywidgets) (0.1.7)\n",
      "Requirement already satisfied: prompt-toolkit<3.1.0,>=3.0.41 in /Users/dante/aws-ds-class/.conda/lib/python3.12/site-packages (from ipython>=6.1.0->ipywidgets) (3.0.47)\n",
      "Requirement already satisfied: pygments>=2.4.0 in /Users/dante/aws-ds-class/.conda/lib/python3.12/site-packages (from ipython>=6.1.0->ipywidgets) (2.18.0)\n",
      "Requirement already satisfied: stack-data in /Users/dante/aws-ds-class/.conda/lib/python3.12/site-packages (from ipython>=6.1.0->ipywidgets) (0.6.2)\n",
      "Requirement already satisfied: pexpect>4.3 in /Users/dante/aws-ds-class/.conda/lib/python3.12/site-packages (from ipython>=6.1.0->ipywidgets) (4.9.0)\n",
      "Requirement already satisfied: parso<0.9.0,>=0.8.3 in /Users/dante/aws-ds-class/.conda/lib/python3.12/site-packages (from jedi>=0.16->ipython>=6.1.0->ipywidgets) (0.8.4)\n",
      "Requirement already satisfied: ptyprocess>=0.5 in /Users/dante/aws-ds-class/.conda/lib/python3.12/site-packages (from pexpect>4.3->ipython>=6.1.0->ipywidgets) (0.7.0)\n",
      "Requirement already satisfied: wcwidth in /Users/dante/aws-ds-class/.conda/lib/python3.12/site-packages (from prompt-toolkit<3.1.0,>=3.0.41->ipython>=6.1.0->ipywidgets) (0.2.13)\n",
      "Requirement already satisfied: executing>=1.2.0 in /Users/dante/aws-ds-class/.conda/lib/python3.12/site-packages (from stack-data->ipython>=6.1.0->ipywidgets) (2.0.1)\n",
      "Requirement already satisfied: asttokens>=2.1.0 in /Users/dante/aws-ds-class/.conda/lib/python3.12/site-packages (from stack-data->ipython>=6.1.0->ipywidgets) (2.4.1)\n",
      "Requirement already satisfied: pure-eval in /Users/dante/aws-ds-class/.conda/lib/python3.12/site-packages (from stack-data->ipython>=6.1.0->ipywidgets) (0.2.2)\n",
      "Requirement already satisfied: six>=1.12.0 in /Users/dante/aws-ds-class/.conda/lib/python3.12/site-packages (from asttokens>=2.1.0->stack-data->ipython>=6.1.0->ipywidgets) (1.16.0)\n",
      "Requirement already satisfied: chart_studio in /Users/dante/aws-ds-class/.conda/lib/python3.12/site-packages (1.1.0)\n",
      "Requirement already satisfied: plotly in /Users/dante/aws-ds-class/.conda/lib/python3.12/site-packages (from chart_studio) (5.22.0)\n",
      "Requirement already satisfied: requests in /Users/dante/aws-ds-class/.conda/lib/python3.12/site-packages (from chart_studio) (2.32.3)\n",
      "Requirement already satisfied: retrying>=1.3.3 in /Users/dante/aws-ds-class/.conda/lib/python3.12/site-packages (from chart_studio) (1.3.4)\n",
      "Requirement already satisfied: six in /Users/dante/aws-ds-class/.conda/lib/python3.12/site-packages (from chart_studio) (1.16.0)\n",
      "Requirement already satisfied: tenacity>=6.2.0 in /Users/dante/aws-ds-class/.conda/lib/python3.12/site-packages (from plotly->chart_studio) (8.5.0)\n",
      "Requirement already satisfied: packaging in /Users/dante/aws-ds-class/.conda/lib/python3.12/site-packages (from plotly->chart_studio) (24.1)\n",
      "Requirement already satisfied: charset-normalizer<4,>=2 in /Users/dante/aws-ds-class/.conda/lib/python3.12/site-packages (from requests->chart_studio) (3.3.2)\n",
      "Requirement already satisfied: idna<4,>=2.5 in /Users/dante/aws-ds-class/.conda/lib/python3.12/site-packages (from requests->chart_studio) (3.7)\n",
      "Requirement already satisfied: urllib3<3,>=1.21.1 in /Users/dante/aws-ds-class/.conda/lib/python3.12/site-packages (from requests->chart_studio) (2.2.2)\n",
      "Requirement already satisfied: certifi>=2017.4.17 in /Users/dante/aws-ds-class/.conda/lib/python3.12/site-packages (from requests->chart_studio) (2024.7.4)\n",
      "Collecting cufflinks\n",
      "  Using cached cufflinks-0.17.3-py3-none-any.whl\n",
      "Requirement already satisfied: numpy>=1.9.2 in /Users/dante/aws-ds-class/.conda/lib/python3.12/site-packages (from cufflinks) (1.26.4)\n",
      "Requirement already satisfied: pandas>=0.19.2 in /Users/dante/aws-ds-class/.conda/lib/python3.12/site-packages (from cufflinks) (2.2.2)\n",
      "Requirement already satisfied: plotly>=4.1.1 in /Users/dante/aws-ds-class/.conda/lib/python3.12/site-packages (from cufflinks) (5.22.0)\n",
      "Requirement already satisfied: six>=1.9.0 in /Users/dante/aws-ds-class/.conda/lib/python3.12/site-packages (from cufflinks) (1.16.0)\n",
      "Collecting colorlover>=0.2.1 (from cufflinks)\n",
      "  Using cached colorlover-0.3.0-py3-none-any.whl.metadata (421 bytes)\n",
      "Requirement already satisfied: setuptools>=34.4.1 in /Users/dante/aws-ds-class/.conda/lib/python3.12/site-packages (from cufflinks) (70.3.0)\n",
      "Requirement already satisfied: ipython>=5.3.0 in /Users/dante/aws-ds-class/.conda/lib/python3.12/site-packages (from cufflinks) (8.26.0)\n",
      "Requirement already satisfied: ipywidgets>=7.0.0 in /Users/dante/aws-ds-class/.conda/lib/python3.12/site-packages (from cufflinks) (8.1.3)\n",
      "Requirement already satisfied: decorator in /Users/dante/aws-ds-class/.conda/lib/python3.12/site-packages (from ipython>=5.3.0->cufflinks) (5.1.1)\n",
      "Requirement already satisfied: jedi>=0.16 in /Users/dante/aws-ds-class/.conda/lib/python3.12/site-packages (from ipython>=5.3.0->cufflinks) (0.19.1)\n",
      "Requirement already satisfied: matplotlib-inline in /Users/dante/aws-ds-class/.conda/lib/python3.12/site-packages (from ipython>=5.3.0->cufflinks) (0.1.7)\n",
      "Requirement already satisfied: prompt-toolkit<3.1.0,>=3.0.41 in /Users/dante/aws-ds-class/.conda/lib/python3.12/site-packages (from ipython>=5.3.0->cufflinks) (3.0.47)\n",
      "Requirement already satisfied: pygments>=2.4.0 in /Users/dante/aws-ds-class/.conda/lib/python3.12/site-packages (from ipython>=5.3.0->cufflinks) (2.18.0)\n",
      "Requirement already satisfied: stack-data in /Users/dante/aws-ds-class/.conda/lib/python3.12/site-packages (from ipython>=5.3.0->cufflinks) (0.6.2)\n",
      "Requirement already satisfied: traitlets>=5.13.0 in /Users/dante/aws-ds-class/.conda/lib/python3.12/site-packages (from ipython>=5.3.0->cufflinks) (5.14.3)\n",
      "Requirement already satisfied: pexpect>4.3 in /Users/dante/aws-ds-class/.conda/lib/python3.12/site-packages (from ipython>=5.3.0->cufflinks) (4.9.0)\n",
      "Requirement already satisfied: comm>=0.1.3 in /Users/dante/aws-ds-class/.conda/lib/python3.12/site-packages (from ipywidgets>=7.0.0->cufflinks) (0.2.2)\n",
      "Requirement already satisfied: widgetsnbextension~=4.0.11 in /Users/dante/aws-ds-class/.conda/lib/python3.12/site-packages (from ipywidgets>=7.0.0->cufflinks) (4.0.11)\n",
      "Requirement already satisfied: jupyterlab-widgets~=3.0.11 in /Users/dante/aws-ds-class/.conda/lib/python3.12/site-packages (from ipywidgets>=7.0.0->cufflinks) (3.0.11)\n",
      "Requirement already satisfied: python-dateutil>=2.8.2 in /Users/dante/aws-ds-class/.conda/lib/python3.12/site-packages (from pandas>=0.19.2->cufflinks) (2.9.0)\n",
      "Requirement already satisfied: pytz>=2020.1 in /Users/dante/aws-ds-class/.conda/lib/python3.12/site-packages (from pandas>=0.19.2->cufflinks) (2024.1)\n",
      "Requirement already satisfied: tzdata>=2022.7 in /Users/dante/aws-ds-class/.conda/lib/python3.12/site-packages (from pandas>=0.19.2->cufflinks) (2023.3)\n",
      "Requirement already satisfied: tenacity>=6.2.0 in /Users/dante/aws-ds-class/.conda/lib/python3.12/site-packages (from plotly>=4.1.1->cufflinks) (8.5.0)\n",
      "Requirement already satisfied: packaging in /Users/dante/aws-ds-class/.conda/lib/python3.12/site-packages (from plotly>=4.1.1->cufflinks) (24.1)\n",
      "Requirement already satisfied: parso<0.9.0,>=0.8.3 in /Users/dante/aws-ds-class/.conda/lib/python3.12/site-packages (from jedi>=0.16->ipython>=5.3.0->cufflinks) (0.8.4)\n",
      "Requirement already satisfied: ptyprocess>=0.5 in /Users/dante/aws-ds-class/.conda/lib/python3.12/site-packages (from pexpect>4.3->ipython>=5.3.0->cufflinks) (0.7.0)\n",
      "Requirement already satisfied: wcwidth in /Users/dante/aws-ds-class/.conda/lib/python3.12/site-packages (from prompt-toolkit<3.1.0,>=3.0.41->ipython>=5.3.0->cufflinks) (0.2.13)\n",
      "Requirement already satisfied: executing>=1.2.0 in /Users/dante/aws-ds-class/.conda/lib/python3.12/site-packages (from stack-data->ipython>=5.3.0->cufflinks) (2.0.1)\n",
      "Requirement already satisfied: asttokens>=2.1.0 in /Users/dante/aws-ds-class/.conda/lib/python3.12/site-packages (from stack-data->ipython>=5.3.0->cufflinks) (2.4.1)\n",
      "Requirement already satisfied: pure-eval in /Users/dante/aws-ds-class/.conda/lib/python3.12/site-packages (from stack-data->ipython>=5.3.0->cufflinks) (0.2.2)\n",
      "Using cached colorlover-0.3.0-py3-none-any.whl (8.9 kB)\n",
      "Installing collected packages: colorlover, cufflinks\n",
      "Successfully installed colorlover-0.3.0 cufflinks-0.17.3\n"
     ]
    }
   ],
   "source": [
    "!pip install scikit-learn\n",
    "!pip install plotly\n",
    "!pip install ipywidgets\n",
    "!pip install chart_studio\n",
    "!pip install cufflinks"
   ]
  },
  {
   "cell_type": "code",
   "execution_count": 48,
   "metadata": {},
   "outputs": [
    {
     "data": {
      "text/html": [
       "        <script type=\"text/javascript\">\n",
       "        window.PlotlyConfig = {MathJaxConfig: 'local'};\n",
       "        if (window.MathJax && window.MathJax.Hub && window.MathJax.Hub.Config) {window.MathJax.Hub.Config({SVG: {font: \"STIX-Web\"}});}\n",
       "        if (typeof require !== 'undefined') {\n",
       "        require.undef(\"plotly\");\n",
       "        requirejs.config({\n",
       "            paths: {\n",
       "                'plotly': ['https://cdn.plot.ly/plotly-2.32.0.min']\n",
       "            }\n",
       "        });\n",
       "        require(['plotly'], function(Plotly) {\n",
       "            window._Plotly = Plotly;\n",
       "        });\n",
       "        }\n",
       "        </script>\n",
       "        "
      ]
     },
     "metadata": {},
     "output_type": "display_data"
    }
   ],
   "source": [
    "# 분석도구\n",
    "import numpy as np\n",
    "import pandas as pd\n",
    "# 시각화도구\n",
    "import plotly.express as px\n",
    "import plotly.graph_objects as go\n",
    "from plotly.subplots import make_subplots\n",
    "import chart_studio.plotly as py\n",
    "import cufflinks as cf\n",
    "cf.go_offline(connected=True)\n",
    "# 경고 무시\n",
    "import warnings\n",
    "warnings.filterwarnings('ignore')"
   ]
  },
  {
   "cell_type": "markdown",
   "metadata": {},
   "source": [
    "### 샘플 데이터 생성"
   ]
  },
  {
   "cell_type": "code",
   "execution_count": 6,
   "metadata": {},
   "outputs": [
    {
     "name": "stdout",
     "output_type": "stream",
     "text": [
      "생성된 샘플 데이터:\n",
      "              특성1          특성2         특성3\n",
      "count  100.000000   100.000000  100.000000\n",
      "mean    50.698325   646.709015  149.666397\n",
      "std     26.183394   343.098691   29.483443\n",
      "min      1.778343    22.928337  100.376798\n",
      "25%     28.854793   345.173916  125.053057\n",
      "50%     49.019900   717.983968  147.839686\n",
      "75%     74.309943   917.506860  175.089639\n",
      "max     94.222314  1189.430241  199.974131\n"
     ]
    }
   ],
   "source": [
    "# 샘플 데이터 생성\n",
    "np.random.seed(2024)\n",
    "X = np.random.rand(100, 3) * 100  # 100개의 샘플, 3개의 특성\n",
    "X[:, 1] *= 12  # 두 번째 특성의 스케일을 10배로 증가\n",
    "X[:, 2] += 100  # 세 번째 특성에 100을 더해 평균 이동\n",
    "\n",
    "# DataFrame으로 변환\n",
    "df = pd.DataFrame(X, columns=['특성1', '특성2', '특성3'])\n",
    "\n",
    "print(\"생성된 샘플 데이터:\")\n",
    "print(df.describe())"
   ]
  },
  {
   "cell_type": "markdown",
   "metadata": {},
   "source": [
    "### 스케일링 수행"
   ]
  },
  {
   "cell_type": "markdown",
   "metadata": {},
   "source": [
    "__표준화 (Standardization) : 평균을 0, 표준편차를 1로 변환__\n",
    "\n",
    "* 정규 분포를 가정하는 알고리즘(예: 선형 회귀, 로지스틱 회귀, SVM)에 적합"
   ]
  },
  {
   "cell_type": "code",
   "execution_count": 56,
   "metadata": {},
   "outputs": [],
   "source": [
    "from sklearn.preprocessing import StandardScaler\n",
    "scaler = StandardScaler()\n",
    "X_scaled = scaler.fit_transform(X)"
   ]
  },
  {
   "cell_type": "code",
   "execution_count": 57,
   "metadata": {},
   "outputs": [
    {
     "name": "stdout",
     "output_type": "stream",
     "text": [
      "표준화된 데이터:\n",
      "                특성1           특성2           특성3\n",
      "count  1.000000e+02  1.000000e+02  1.000000e+02\n",
      "mean  -6.450396e-16  3.930190e-16  1.987299e-15\n",
      "std    1.005038e+00  1.005038e+00  1.005038e+00\n",
      "min   -1.877772e+00 -1.827239e+00 -1.680194e+00\n",
      "25%   -8.384542e-01 -8.832857e-01 -8.390247e-01\n",
      "50%   -6.442560e-02  2.087855e-01 -6.226932e-02\n",
      "75%    9.063213e-01  7.932472e-01  8.666328e-01\n",
      "max    1.670649e+00  1.589791e+00  1.714901e+00\n"
     ]
    }
   ],
   "source": [
    "X_scaled_df = pd.DataFrame(X_scaled, columns=['특성1', '특성2', '특성3'])\n",
    "print(\"표준화된 데이터:\")\n",
    "print(X_scaled_df.describe())"
   ]
  },
  {
   "cell_type": "code",
   "execution_count": 59,
   "metadata": {},
   "outputs": [
    {
     "data": {
      "application/vnd.plotly.v1+json": {
       "config": {
        "linkText": "Export to plot.ly",
        "plotlyServerURL": "https://plot.ly",
        "showLink": true
       },
       "data": [
        {
         "boxpoints": false,
         "line": {
          "width": 1.3
         },
         "marker": {
          "color": "rgba(255, 153, 51, 1.0)"
         },
         "name": "특성1",
         "orientation": "h",
         "type": "box",
         "x": [
          0.31103486497934996,
          -1.7778752144281922,
          0.8454461630958796,
          -0.22526905871750091,
          0.36643920191208473,
          0.38248809061109956,
          0.6264014771172102,
          -1.5792981558538615,
          -0.8629542971222256,
          0.14222989844378484,
          -0.8488968421728853,
          -0.26585734204240924,
          1.065261866526301,
          -1.079429156872757,
          0.34334762428022875,
          -1.176316842541288,
          -0.9636914324587398,
          0.17470229120101172,
          -1.0019703785355807,
          1.4089300419691821,
          -0.6148409755105337,
          1.432695077190477,
          0.20048449936730345,
          -0.7506275173952388,
          -0.8193858625648982,
          0.670691170740659,
          1.312227534170646,
          -0.4887054179650728,
          0.3046787484851746,
          -0.8349732833460362,
          -0.4475068155449026,
          -0.7199492732472589,
          1.4038204546146507,
          -1.2810841081990596,
          1.2824547442896146,
          -1.1897396798777389,
          0.4209009561673103,
          1.0388666628468624,
          1.656289283862426,
          -0.7492568371713467,
          1.4362205192456046,
          1.305017038746769,
          -1.0644583230757432,
          -0.3720947170839385,
          -1.059622095715624,
          1.5268229958668695,
          0.0508008485536629,
          -0.49433128355805794,
          0.4908148262431896,
          -0.6555284555940171,
          -0.9660232604920301,
          0.20875312786528563,
          -0.3769153181347752,
          -0.18087676705095662,
          -1.8777715290095587,
          0.8255885205493677,
          0.39562302175590447,
          -1.3956201043865009,
          -0.1541836666034792,
          0.8222089769658203,
          1.4374075366019679,
          1.127724552897968,
          -1.3970338798046567,
          1.1105922178008383,
          -0.9586502170525383,
          0.8931466986065654,
          -1.4334800801147936,
          1.053560349877974,
          1.4328086000871592,
          -1.561691430253116,
          -0.06297327995949097,
          -0.6676577044183079,
          1.0652096196220402,
          -0.27253544206535596,
          1.1393759838382795,
          1.3737815946320686,
          -1.5194999485704987,
          1.6384222108059745,
          1.4033886894814742,
          -0.06587792206791035,
          0.36758807574135727,
          -0.19299147085726587,
          1.670648730856593,
          -1.2164277210587255,
          1.2886645116828077,
          0.0008923296624977457,
          -0.734756688322736,
          1.5602543084192955,
          -0.40398593547326955,
          -0.2635393857031958,
          -0.8312455811891892,
          -1.5163607746309007,
          -0.8271236473498023,
          0.7654770140311017,
          -1.2560340706358097,
          -1.4253001103112446,
          0.5986174525454068,
          -0.8672887638212212,
          0.4248618439517292,
          0.9458452171253438
         ]
        },
        {
         "boxpoints": false,
         "line": {
          "width": 1.3
         },
         "marker": {
          "color": "rgba(55, 128, 191, 1.0)"
         },
         "name": "특성2",
         "orientation": "h",
         "type": "box",
         "x": [
          0.5630737272381995,
          -1.1737289167872704,
          0.4937962474148197,
          -1.8272385907157267,
          1.4863955984371322,
          -0.3155656096486484,
          0.6919317654503946,
          1.4833450299219528,
          0.8061298371114253,
          -0.5491255164627743,
          0.7077554529279014,
          1.2113737664248974,
          0.7734379107000875,
          -0.4176920518001979,
          1.0489209065761371,
          -0.12840493372993345,
          1.1540543700255363,
          -0.03873277276802746,
          -1.669367919961873,
          -1.319086453627852,
          -0.7945869923844425,
          0.4838066244488909,
          0.5469187533154645,
          -0.118438389501022,
          0.4857782722412255,
          -1.1167516249116727,
          0.6947449758278605,
          0.8738559091520525,
          -0.37862977046882695,
          0.6862330154736683,
          0.33989147560188254,
          -1.3347025438718154,
          0.19063458884850487,
          -0.025279547770011398,
          1.5225242464284934,
          0.25204330799050834,
          -1.4025153291680375,
          1.408879185408682,
          0.9085377063165861,
          -0.8744665872342704,
          0.9882238837351538,
          0.24673386948171552,
          1.4261043941979987,
          -0.7074599312061407,
          -1.298681857795523,
          1.2129941988785617,
          -1.2796041056795395,
          0.5763347772224539,
          1.388735308166777,
          0.4237274453838948,
          1.1834758954103595,
          -1.2909096430142912,
          -1.530693231658875,
          -0.4478307618228281,
          0.259922572228269,
          0.12183972918538304,
          -0.12852050819832367,
          0.7889529844387944,
          1.4171794006807417,
          0.2269363605702253,
          1.3178345296292917,
          1.58979141901191,
          -1.659479756703501,
          0.09688232712584093,
          0.2483501547128339,
          -0.6126648777591701,
          1.0704762084425457,
          -1.2274911708842158,
          1.2005659456361693,
          -0.09377019252013716,
          0.7593942299549115,
          0.2723963871457993,
          1.152476517778334,
          -1.5573119541338416,
          -0.7074086324758937,
          -0.8674992977379629,
          -1.177372918323436,
          -1.7529030818044533,
          -0.36716317596503967,
          -0.8117850164475348,
          -0.30651062281404995,
          0.25166231398606365,
          0.7354292191094615,
          -1.7963375851772263,
          -0.6520420937591259,
          -1.2791272207730722,
          0.44418660689365136,
          -0.9901702179500695,
          -1.1193173793597266,
          1.387465207055218,
          -0.9097431437087145,
          -1.3191548577689376,
          -1.8115912109630148,
          -1.0550403400721935,
          -0.9661177930997351,
          0.8209184007941346,
          0.5669143748291859,
          -0.4348895930748539,
          1.1428564934841612,
          1.5100818950117227
         ]
        },
        {
         "boxpoints": false,
         "line": {
          "width": 1.3
         },
         "marker": {
          "color": "rgba(50, 171, 96, 1.0)"
         },
         "name": "특성3",
         "orientation": "h",
         "type": "box",
         "x": [
          -1.0516622603365582,
          -1.3314892664564326,
          -0.07778340266903257,
          0.8724344543107823,
          0.5716752267825395,
          -0.9248466056316806,
          -0.8135776576346831,
          -0.8348089929364969,
          1.0269394744233116,
          -0.39205882178180873,
          -0.8783752752036159,
          -0.7069309777395554,
          -0.26888299859219356,
          -1.473634322929051,
          1.3492877863856436,
          1.3591578851318442,
          -1.6368342098998485,
          1.4544976423501323,
          1.3820749125105134,
          1.7149006209014377,
          1.1945874223072355,
          -1.5100696319446962,
          1.1165025177793304,
          1.2010633877568546,
          -0.2582440091247431,
          0.17839630292335618,
          0.010085379300921307,
          -1.1173933727586125,
          -1.4819978848539495,
          -0.7090638272866756,
          1.140199121913893,
          0.7328973584544388,
          0.6751132831796587,
          1.2759034847421602,
          0.9735362444094332,
          -0.06070588223857274,
          -0.2912093065577172,
          -1.336546137641672,
          -0.5653913458048984,
          -1.1002801257425785,
          0.8180996882437689,
          -0.5196099003888168,
          -0.6985978738891659,
          1.5430527082104766,
          -0.019656427445025604,
          -1.028619881703419,
          1.3733523333151187,
          0.05141005995184036,
          -0.9755151203379162,
          -0.279729942585756,
          -0.32340394125427124,
          -1.6631162192853848,
          0.09675206389360948,
          0.8907664897398218,
          0.5265894057139126,
          1.7050688997215715,
          -0.4869147736216619,
          1.2609596605396955,
          0.6733563277649868,
          1.293423119593651,
          -1.5526739279527486,
          -1.2621542274467208,
          -0.532241404105797,
          0.8334987418431042,
          1.5093418146229756,
          -0.504323826030266,
          -0.23535748505549137,
          -1.680194253294245,
          0.29132941108733357,
          -0.027458405860815605,
          1.4533149600498045,
          1.7035334696289535,
          1.5334295472047625,
          0.8646989408577064,
          -1.1476984087883322,
          -1.1740537667267341,
          0.7318068846784841,
          -0.5724940145033437,
          0.7365048511190456,
          0.7255116689328149,
          -0.3183129189014221,
          0.20295198190223995,
          1.2538282088024744,
          -1.3555336755028113,
          -0.06383276097080194,
          0.588478665278857,
          -0.8516719686776755,
          -0.4146708371669976,
          0.6157249460021735,
          -0.3704020692589033,
          0.5575144776748701,
          -0.6651196800364966,
          -1.2871841947426275,
          -0.402209872663818,
          0.39990766662407456,
          -1.3178528452051474,
          0.05808123468748385,
          -1.415168801286963,
          -1.5613280412185633,
          1.007347048424311
         ]
        }
       ],
       "layout": {
        "legend": {
         "bgcolor": "#F5F6F9",
         "font": {
          "color": "#4D5663"
         }
        },
        "paper_bgcolor": "#F5F6F9",
        "plot_bgcolor": "#F5F6F9",
        "template": {
         "data": {
          "bar": [
           {
            "error_x": {
             "color": "#2a3f5f"
            },
            "error_y": {
             "color": "#2a3f5f"
            },
            "marker": {
             "line": {
              "color": "#E5ECF6",
              "width": 0.5
             },
             "pattern": {
              "fillmode": "overlay",
              "size": 10,
              "solidity": 0.2
             }
            },
            "type": "bar"
           }
          ],
          "barpolar": [
           {
            "marker": {
             "line": {
              "color": "#E5ECF6",
              "width": 0.5
             },
             "pattern": {
              "fillmode": "overlay",
              "size": 10,
              "solidity": 0.2
             }
            },
            "type": "barpolar"
           }
          ],
          "carpet": [
           {
            "aaxis": {
             "endlinecolor": "#2a3f5f",
             "gridcolor": "white",
             "linecolor": "white",
             "minorgridcolor": "white",
             "startlinecolor": "#2a3f5f"
            },
            "baxis": {
             "endlinecolor": "#2a3f5f",
             "gridcolor": "white",
             "linecolor": "white",
             "minorgridcolor": "white",
             "startlinecolor": "#2a3f5f"
            },
            "type": "carpet"
           }
          ],
          "choropleth": [
           {
            "colorbar": {
             "outlinewidth": 0,
             "ticks": ""
            },
            "type": "choropleth"
           }
          ],
          "contour": [
           {
            "colorbar": {
             "outlinewidth": 0,
             "ticks": ""
            },
            "colorscale": [
             [
              0,
              "#0d0887"
             ],
             [
              0.1111111111111111,
              "#46039f"
             ],
             [
              0.2222222222222222,
              "#7201a8"
             ],
             [
              0.3333333333333333,
              "#9c179e"
             ],
             [
              0.4444444444444444,
              "#bd3786"
             ],
             [
              0.5555555555555556,
              "#d8576b"
             ],
             [
              0.6666666666666666,
              "#ed7953"
             ],
             [
              0.7777777777777778,
              "#fb9f3a"
             ],
             [
              0.8888888888888888,
              "#fdca26"
             ],
             [
              1,
              "#f0f921"
             ]
            ],
            "type": "contour"
           }
          ],
          "contourcarpet": [
           {
            "colorbar": {
             "outlinewidth": 0,
             "ticks": ""
            },
            "type": "contourcarpet"
           }
          ],
          "heatmap": [
           {
            "colorbar": {
             "outlinewidth": 0,
             "ticks": ""
            },
            "colorscale": [
             [
              0,
              "#0d0887"
             ],
             [
              0.1111111111111111,
              "#46039f"
             ],
             [
              0.2222222222222222,
              "#7201a8"
             ],
             [
              0.3333333333333333,
              "#9c179e"
             ],
             [
              0.4444444444444444,
              "#bd3786"
             ],
             [
              0.5555555555555556,
              "#d8576b"
             ],
             [
              0.6666666666666666,
              "#ed7953"
             ],
             [
              0.7777777777777778,
              "#fb9f3a"
             ],
             [
              0.8888888888888888,
              "#fdca26"
             ],
             [
              1,
              "#f0f921"
             ]
            ],
            "type": "heatmap"
           }
          ],
          "heatmapgl": [
           {
            "colorbar": {
             "outlinewidth": 0,
             "ticks": ""
            },
            "colorscale": [
             [
              0,
              "#0d0887"
             ],
             [
              0.1111111111111111,
              "#46039f"
             ],
             [
              0.2222222222222222,
              "#7201a8"
             ],
             [
              0.3333333333333333,
              "#9c179e"
             ],
             [
              0.4444444444444444,
              "#bd3786"
             ],
             [
              0.5555555555555556,
              "#d8576b"
             ],
             [
              0.6666666666666666,
              "#ed7953"
             ],
             [
              0.7777777777777778,
              "#fb9f3a"
             ],
             [
              0.8888888888888888,
              "#fdca26"
             ],
             [
              1,
              "#f0f921"
             ]
            ],
            "type": "heatmapgl"
           }
          ],
          "histogram": [
           {
            "marker": {
             "pattern": {
              "fillmode": "overlay",
              "size": 10,
              "solidity": 0.2
             }
            },
            "type": "histogram"
           }
          ],
          "histogram2d": [
           {
            "colorbar": {
             "outlinewidth": 0,
             "ticks": ""
            },
            "colorscale": [
             [
              0,
              "#0d0887"
             ],
             [
              0.1111111111111111,
              "#46039f"
             ],
             [
              0.2222222222222222,
              "#7201a8"
             ],
             [
              0.3333333333333333,
              "#9c179e"
             ],
             [
              0.4444444444444444,
              "#bd3786"
             ],
             [
              0.5555555555555556,
              "#d8576b"
             ],
             [
              0.6666666666666666,
              "#ed7953"
             ],
             [
              0.7777777777777778,
              "#fb9f3a"
             ],
             [
              0.8888888888888888,
              "#fdca26"
             ],
             [
              1,
              "#f0f921"
             ]
            ],
            "type": "histogram2d"
           }
          ],
          "histogram2dcontour": [
           {
            "colorbar": {
             "outlinewidth": 0,
             "ticks": ""
            },
            "colorscale": [
             [
              0,
              "#0d0887"
             ],
             [
              0.1111111111111111,
              "#46039f"
             ],
             [
              0.2222222222222222,
              "#7201a8"
             ],
             [
              0.3333333333333333,
              "#9c179e"
             ],
             [
              0.4444444444444444,
              "#bd3786"
             ],
             [
              0.5555555555555556,
              "#d8576b"
             ],
             [
              0.6666666666666666,
              "#ed7953"
             ],
             [
              0.7777777777777778,
              "#fb9f3a"
             ],
             [
              0.8888888888888888,
              "#fdca26"
             ],
             [
              1,
              "#f0f921"
             ]
            ],
            "type": "histogram2dcontour"
           }
          ],
          "mesh3d": [
           {
            "colorbar": {
             "outlinewidth": 0,
             "ticks": ""
            },
            "type": "mesh3d"
           }
          ],
          "parcoords": [
           {
            "line": {
             "colorbar": {
              "outlinewidth": 0,
              "ticks": ""
             }
            },
            "type": "parcoords"
           }
          ],
          "pie": [
           {
            "automargin": true,
            "type": "pie"
           }
          ],
          "scatter": [
           {
            "fillpattern": {
             "fillmode": "overlay",
             "size": 10,
             "solidity": 0.2
            },
            "type": "scatter"
           }
          ],
          "scatter3d": [
           {
            "line": {
             "colorbar": {
              "outlinewidth": 0,
              "ticks": ""
             }
            },
            "marker": {
             "colorbar": {
              "outlinewidth": 0,
              "ticks": ""
             }
            },
            "type": "scatter3d"
           }
          ],
          "scattercarpet": [
           {
            "marker": {
             "colorbar": {
              "outlinewidth": 0,
              "ticks": ""
             }
            },
            "type": "scattercarpet"
           }
          ],
          "scattergeo": [
           {
            "marker": {
             "colorbar": {
              "outlinewidth": 0,
              "ticks": ""
             }
            },
            "type": "scattergeo"
           }
          ],
          "scattergl": [
           {
            "marker": {
             "colorbar": {
              "outlinewidth": 0,
              "ticks": ""
             }
            },
            "type": "scattergl"
           }
          ],
          "scattermapbox": [
           {
            "marker": {
             "colorbar": {
              "outlinewidth": 0,
              "ticks": ""
             }
            },
            "type": "scattermapbox"
           }
          ],
          "scatterpolar": [
           {
            "marker": {
             "colorbar": {
              "outlinewidth": 0,
              "ticks": ""
             }
            },
            "type": "scatterpolar"
           }
          ],
          "scatterpolargl": [
           {
            "marker": {
             "colorbar": {
              "outlinewidth": 0,
              "ticks": ""
             }
            },
            "type": "scatterpolargl"
           }
          ],
          "scatterternary": [
           {
            "marker": {
             "colorbar": {
              "outlinewidth": 0,
              "ticks": ""
             }
            },
            "type": "scatterternary"
           }
          ],
          "surface": [
           {
            "colorbar": {
             "outlinewidth": 0,
             "ticks": ""
            },
            "colorscale": [
             [
              0,
              "#0d0887"
             ],
             [
              0.1111111111111111,
              "#46039f"
             ],
             [
              0.2222222222222222,
              "#7201a8"
             ],
             [
              0.3333333333333333,
              "#9c179e"
             ],
             [
              0.4444444444444444,
              "#bd3786"
             ],
             [
              0.5555555555555556,
              "#d8576b"
             ],
             [
              0.6666666666666666,
              "#ed7953"
             ],
             [
              0.7777777777777778,
              "#fb9f3a"
             ],
             [
              0.8888888888888888,
              "#fdca26"
             ],
             [
              1,
              "#f0f921"
             ]
            ],
            "type": "surface"
           }
          ],
          "table": [
           {
            "cells": {
             "fill": {
              "color": "#EBF0F8"
             },
             "line": {
              "color": "white"
             }
            },
            "header": {
             "fill": {
              "color": "#C8D4E3"
             },
             "line": {
              "color": "white"
             }
            },
            "type": "table"
           }
          ]
         },
         "layout": {
          "annotationdefaults": {
           "arrowcolor": "#2a3f5f",
           "arrowhead": 0,
           "arrowwidth": 1
          },
          "autotypenumbers": "strict",
          "coloraxis": {
           "colorbar": {
            "outlinewidth": 0,
            "ticks": ""
           }
          },
          "colorscale": {
           "diverging": [
            [
             0,
             "#8e0152"
            ],
            [
             0.1,
             "#c51b7d"
            ],
            [
             0.2,
             "#de77ae"
            ],
            [
             0.3,
             "#f1b6da"
            ],
            [
             0.4,
             "#fde0ef"
            ],
            [
             0.5,
             "#f7f7f7"
            ],
            [
             0.6,
             "#e6f5d0"
            ],
            [
             0.7,
             "#b8e186"
            ],
            [
             0.8,
             "#7fbc41"
            ],
            [
             0.9,
             "#4d9221"
            ],
            [
             1,
             "#276419"
            ]
           ],
           "sequential": [
            [
             0,
             "#0d0887"
            ],
            [
             0.1111111111111111,
             "#46039f"
            ],
            [
             0.2222222222222222,
             "#7201a8"
            ],
            [
             0.3333333333333333,
             "#9c179e"
            ],
            [
             0.4444444444444444,
             "#bd3786"
            ],
            [
             0.5555555555555556,
             "#d8576b"
            ],
            [
             0.6666666666666666,
             "#ed7953"
            ],
            [
             0.7777777777777778,
             "#fb9f3a"
            ],
            [
             0.8888888888888888,
             "#fdca26"
            ],
            [
             1,
             "#f0f921"
            ]
           ],
           "sequentialminus": [
            [
             0,
             "#0d0887"
            ],
            [
             0.1111111111111111,
             "#46039f"
            ],
            [
             0.2222222222222222,
             "#7201a8"
            ],
            [
             0.3333333333333333,
             "#9c179e"
            ],
            [
             0.4444444444444444,
             "#bd3786"
            ],
            [
             0.5555555555555556,
             "#d8576b"
            ],
            [
             0.6666666666666666,
             "#ed7953"
            ],
            [
             0.7777777777777778,
             "#fb9f3a"
            ],
            [
             0.8888888888888888,
             "#fdca26"
            ],
            [
             1,
             "#f0f921"
            ]
           ]
          },
          "colorway": [
           "#636efa",
           "#EF553B",
           "#00cc96",
           "#ab63fa",
           "#FFA15A",
           "#19d3f3",
           "#FF6692",
           "#B6E880",
           "#FF97FF",
           "#FECB52"
          ],
          "font": {
           "color": "#2a3f5f"
          },
          "geo": {
           "bgcolor": "white",
           "lakecolor": "white",
           "landcolor": "#E5ECF6",
           "showlakes": true,
           "showland": true,
           "subunitcolor": "white"
          },
          "hoverlabel": {
           "align": "left"
          },
          "hovermode": "closest",
          "mapbox": {
           "style": "light"
          },
          "paper_bgcolor": "white",
          "plot_bgcolor": "#E5ECF6",
          "polar": {
           "angularaxis": {
            "gridcolor": "white",
            "linecolor": "white",
            "ticks": ""
           },
           "bgcolor": "#E5ECF6",
           "radialaxis": {
            "gridcolor": "white",
            "linecolor": "white",
            "ticks": ""
           }
          },
          "scene": {
           "xaxis": {
            "backgroundcolor": "#E5ECF6",
            "gridcolor": "white",
            "gridwidth": 2,
            "linecolor": "white",
            "showbackground": true,
            "ticks": "",
            "zerolinecolor": "white"
           },
           "yaxis": {
            "backgroundcolor": "#E5ECF6",
            "gridcolor": "white",
            "gridwidth": 2,
            "linecolor": "white",
            "showbackground": true,
            "ticks": "",
            "zerolinecolor": "white"
           },
           "zaxis": {
            "backgroundcolor": "#E5ECF6",
            "gridcolor": "white",
            "gridwidth": 2,
            "linecolor": "white",
            "showbackground": true,
            "ticks": "",
            "zerolinecolor": "white"
           }
          },
          "shapedefaults": {
           "line": {
            "color": "#2a3f5f"
           }
          },
          "ternary": {
           "aaxis": {
            "gridcolor": "white",
            "linecolor": "white",
            "ticks": ""
           },
           "baxis": {
            "gridcolor": "white",
            "linecolor": "white",
            "ticks": ""
           },
           "bgcolor": "#E5ECF6",
           "caxis": {
            "gridcolor": "white",
            "linecolor": "white",
            "ticks": ""
           }
          },
          "title": {
           "x": 0.05
          },
          "xaxis": {
           "automargin": true,
           "gridcolor": "white",
           "linecolor": "white",
           "ticks": "",
           "title": {
            "standoff": 15
           },
           "zerolinecolor": "white",
           "zerolinewidth": 2
          },
          "yaxis": {
           "automargin": true,
           "gridcolor": "white",
           "linecolor": "white",
           "ticks": "",
           "title": {
            "standoff": 15
           },
           "zerolinecolor": "white",
           "zerolinewidth": 2
          }
         }
        },
        "title": {
         "font": {
          "color": "#4D5663"
         }
        },
        "xaxis": {
         "gridcolor": "#E1E5ED",
         "showgrid": true,
         "tickfont": {
          "color": "#4D5663"
         },
         "title": {
          "font": {
           "color": "#4D5663"
          },
          "text": ""
         },
         "zerolinecolor": "#E1E5ED"
        },
        "yaxis": {
         "gridcolor": "#E1E5ED",
         "showgrid": true,
         "tickfont": {
          "color": "#4D5663"
         },
         "title": {
          "font": {
           "color": "#4D5663"
          },
          "text": ""
         },
         "zerolinecolor": "#E1E5ED"
        }
       }
      },
      "text/html": [
       "<div>                            <div id=\"fa86ef56-3a48-4074-9b7b-b15fa7c7cde5\" class=\"plotly-graph-div\" style=\"height:525px; width:100%;\"></div>            <script type=\"text/javascript\">                require([\"plotly\"], function(Plotly) {                    window.PLOTLYENV=window.PLOTLYENV || {};\n",
       "                    window.PLOTLYENV.BASE_URL='https://plot.ly';                                    if (document.getElementById(\"fa86ef56-3a48-4074-9b7b-b15fa7c7cde5\")) {                    Plotly.newPlot(                        \"fa86ef56-3a48-4074-9b7b-b15fa7c7cde5\",                        [{\"boxpoints\":false,\"line\":{\"width\":1.3},\"marker\":{\"color\":\"rgba(255, 153, 51, 1.0)\"},\"name\":\"\\ud2b9\\uc1311\",\"orientation\":\"h\",\"x\":[0.31103486497934996,-1.7778752144281922,0.8454461630958796,-0.22526905871750091,0.36643920191208473,0.38248809061109956,0.6264014771172102,-1.5792981558538615,-0.8629542971222256,0.14222989844378484,-0.8488968421728853,-0.26585734204240924,1.065261866526301,-1.079429156872757,0.34334762428022875,-1.176316842541288,-0.9636914324587398,0.17470229120101172,-1.0019703785355807,1.4089300419691821,-0.6148409755105337,1.432695077190477,0.20048449936730345,-0.7506275173952388,-0.8193858625648982,0.670691170740659,1.312227534170646,-0.4887054179650728,0.3046787484851746,-0.8349732833460362,-0.4475068155449026,-0.7199492732472589,1.4038204546146507,-1.2810841081990596,1.2824547442896146,-1.1897396798777389,0.4209009561673103,1.0388666628468624,1.656289283862426,-0.7492568371713467,1.4362205192456046,1.305017038746769,-1.0644583230757432,-0.3720947170839385,-1.059622095715624,1.5268229958668695,0.0508008485536629,-0.49433128355805794,0.4908148262431896,-0.6555284555940171,-0.9660232604920301,0.20875312786528563,-0.3769153181347752,-0.18087676705095662,-1.8777715290095587,0.8255885205493677,0.39562302175590447,-1.3956201043865009,-0.1541836666034792,0.8222089769658203,1.4374075366019679,1.127724552897968,-1.3970338798046567,1.1105922178008383,-0.9586502170525383,0.8931466986065654,-1.4334800801147936,1.053560349877974,1.4328086000871592,-1.561691430253116,-0.06297327995949097,-0.6676577044183079,1.0652096196220402,-0.27253544206535596,1.1393759838382795,1.3737815946320686,-1.5194999485704987,1.6384222108059745,1.4033886894814742,-0.06587792206791035,0.36758807574135727,-0.19299147085726587,1.670648730856593,-1.2164277210587255,1.2886645116828077,0.0008923296624977457,-0.734756688322736,1.5602543084192955,-0.40398593547326955,-0.2635393857031958,-0.8312455811891892,-1.5163607746309007,-0.8271236473498023,0.7654770140311017,-1.2560340706358097,-1.4253001103112446,0.5986174525454068,-0.8672887638212212,0.4248618439517292,0.9458452171253438],\"type\":\"box\"},{\"boxpoints\":false,\"line\":{\"width\":1.3},\"marker\":{\"color\":\"rgba(55, 128, 191, 1.0)\"},\"name\":\"\\ud2b9\\uc1312\",\"orientation\":\"h\",\"x\":[0.5630737272381995,-1.1737289167872704,0.4937962474148197,-1.8272385907157267,1.4863955984371322,-0.3155656096486484,0.6919317654503946,1.4833450299219528,0.8061298371114253,-0.5491255164627743,0.7077554529279014,1.2113737664248974,0.7734379107000875,-0.4176920518001979,1.0489209065761371,-0.12840493372993345,1.1540543700255363,-0.03873277276802746,-1.669367919961873,-1.319086453627852,-0.7945869923844425,0.4838066244488909,0.5469187533154645,-0.118438389501022,0.4857782722412255,-1.1167516249116727,0.6947449758278605,0.8738559091520525,-0.37862977046882695,0.6862330154736683,0.33989147560188254,-1.3347025438718154,0.19063458884850487,-0.025279547770011398,1.5225242464284934,0.25204330799050834,-1.4025153291680375,1.408879185408682,0.9085377063165861,-0.8744665872342704,0.9882238837351538,0.24673386948171552,1.4261043941979987,-0.7074599312061407,-1.298681857795523,1.2129941988785617,-1.2796041056795395,0.5763347772224539,1.388735308166777,0.4237274453838948,1.1834758954103595,-1.2909096430142912,-1.530693231658875,-0.4478307618228281,0.259922572228269,0.12183972918538304,-0.12852050819832367,0.7889529844387944,1.4171794006807417,0.2269363605702253,1.3178345296292917,1.58979141901191,-1.659479756703501,0.09688232712584093,0.2483501547128339,-0.6126648777591701,1.0704762084425457,-1.2274911708842158,1.2005659456361693,-0.09377019252013716,0.7593942299549115,0.2723963871457993,1.152476517778334,-1.5573119541338416,-0.7074086324758937,-0.8674992977379629,-1.177372918323436,-1.7529030818044533,-0.36716317596503967,-0.8117850164475348,-0.30651062281404995,0.25166231398606365,0.7354292191094615,-1.7963375851772263,-0.6520420937591259,-1.2791272207730722,0.44418660689365136,-0.9901702179500695,-1.1193173793597266,1.387465207055218,-0.9097431437087145,-1.3191548577689376,-1.8115912109630148,-1.0550403400721935,-0.9661177930997351,0.8209184007941346,0.5669143748291859,-0.4348895930748539,1.1428564934841612,1.5100818950117227],\"type\":\"box\"},{\"boxpoints\":false,\"line\":{\"width\":1.3},\"marker\":{\"color\":\"rgba(50, 171, 96, 1.0)\"},\"name\":\"\\ud2b9\\uc1313\",\"orientation\":\"h\",\"x\":[-1.0516622603365582,-1.3314892664564326,-0.07778340266903257,0.8724344543107823,0.5716752267825395,-0.9248466056316806,-0.8135776576346831,-0.8348089929364969,1.0269394744233116,-0.39205882178180873,-0.8783752752036159,-0.7069309777395554,-0.26888299859219356,-1.473634322929051,1.3492877863856436,1.3591578851318442,-1.6368342098998485,1.4544976423501323,1.3820749125105134,1.7149006209014377,1.1945874223072355,-1.5100696319446962,1.1165025177793304,1.2010633877568546,-0.2582440091247431,0.17839630292335618,0.010085379300921307,-1.1173933727586125,-1.4819978848539495,-0.7090638272866756,1.140199121913893,0.7328973584544388,0.6751132831796587,1.2759034847421602,0.9735362444094332,-0.06070588223857274,-0.2912093065577172,-1.336546137641672,-0.5653913458048984,-1.1002801257425785,0.8180996882437689,-0.5196099003888168,-0.6985978738891659,1.5430527082104766,-0.019656427445025604,-1.028619881703419,1.3733523333151187,0.05141005995184036,-0.9755151203379162,-0.279729942585756,-0.32340394125427124,-1.6631162192853848,0.09675206389360948,0.8907664897398218,0.5265894057139126,1.7050688997215715,-0.4869147736216619,1.2609596605396955,0.6733563277649868,1.293423119593651,-1.5526739279527486,-1.2621542274467208,-0.532241404105797,0.8334987418431042,1.5093418146229756,-0.504323826030266,-0.23535748505549137,-1.680194253294245,0.29132941108733357,-0.027458405860815605,1.4533149600498045,1.7035334696289535,1.5334295472047625,0.8646989408577064,-1.1476984087883322,-1.1740537667267341,0.7318068846784841,-0.5724940145033437,0.7365048511190456,0.7255116689328149,-0.3183129189014221,0.20295198190223995,1.2538282088024744,-1.3555336755028113,-0.06383276097080194,0.588478665278857,-0.8516719686776755,-0.4146708371669976,0.6157249460021735,-0.3704020692589033,0.5575144776748701,-0.6651196800364966,-1.2871841947426275,-0.402209872663818,0.39990766662407456,-1.3178528452051474,0.05808123468748385,-1.415168801286963,-1.5613280412185633,1.007347048424311],\"type\":\"box\"}],                        {\"legend\":{\"bgcolor\":\"#F5F6F9\",\"font\":{\"color\":\"#4D5663\"}},\"paper_bgcolor\":\"#F5F6F9\",\"plot_bgcolor\":\"#F5F6F9\",\"template\":{\"data\":{\"barpolar\":[{\"marker\":{\"line\":{\"color\":\"#E5ECF6\",\"width\":0.5},\"pattern\":{\"fillmode\":\"overlay\",\"size\":10,\"solidity\":0.2}},\"type\":\"barpolar\"}],\"bar\":[{\"error_x\":{\"color\":\"#2a3f5f\"},\"error_y\":{\"color\":\"#2a3f5f\"},\"marker\":{\"line\":{\"color\":\"#E5ECF6\",\"width\":0.5},\"pattern\":{\"fillmode\":\"overlay\",\"size\":10,\"solidity\":0.2}},\"type\":\"bar\"}],\"carpet\":[{\"aaxis\":{\"endlinecolor\":\"#2a3f5f\",\"gridcolor\":\"white\",\"linecolor\":\"white\",\"minorgridcolor\":\"white\",\"startlinecolor\":\"#2a3f5f\"},\"baxis\":{\"endlinecolor\":\"#2a3f5f\",\"gridcolor\":\"white\",\"linecolor\":\"white\",\"minorgridcolor\":\"white\",\"startlinecolor\":\"#2a3f5f\"},\"type\":\"carpet\"}],\"choropleth\":[{\"colorbar\":{\"outlinewidth\":0,\"ticks\":\"\"},\"type\":\"choropleth\"}],\"contourcarpet\":[{\"colorbar\":{\"outlinewidth\":0,\"ticks\":\"\"},\"type\":\"contourcarpet\"}],\"contour\":[{\"colorbar\":{\"outlinewidth\":0,\"ticks\":\"\"},\"colorscale\":[[0.0,\"#0d0887\"],[0.1111111111111111,\"#46039f\"],[0.2222222222222222,\"#7201a8\"],[0.3333333333333333,\"#9c179e\"],[0.4444444444444444,\"#bd3786\"],[0.5555555555555556,\"#d8576b\"],[0.6666666666666666,\"#ed7953\"],[0.7777777777777778,\"#fb9f3a\"],[0.8888888888888888,\"#fdca26\"],[1.0,\"#f0f921\"]],\"type\":\"contour\"}],\"heatmapgl\":[{\"colorbar\":{\"outlinewidth\":0,\"ticks\":\"\"},\"colorscale\":[[0.0,\"#0d0887\"],[0.1111111111111111,\"#46039f\"],[0.2222222222222222,\"#7201a8\"],[0.3333333333333333,\"#9c179e\"],[0.4444444444444444,\"#bd3786\"],[0.5555555555555556,\"#d8576b\"],[0.6666666666666666,\"#ed7953\"],[0.7777777777777778,\"#fb9f3a\"],[0.8888888888888888,\"#fdca26\"],[1.0,\"#f0f921\"]],\"type\":\"heatmapgl\"}],\"heatmap\":[{\"colorbar\":{\"outlinewidth\":0,\"ticks\":\"\"},\"colorscale\":[[0.0,\"#0d0887\"],[0.1111111111111111,\"#46039f\"],[0.2222222222222222,\"#7201a8\"],[0.3333333333333333,\"#9c179e\"],[0.4444444444444444,\"#bd3786\"],[0.5555555555555556,\"#d8576b\"],[0.6666666666666666,\"#ed7953\"],[0.7777777777777778,\"#fb9f3a\"],[0.8888888888888888,\"#fdca26\"],[1.0,\"#f0f921\"]],\"type\":\"heatmap\"}],\"histogram2dcontour\":[{\"colorbar\":{\"outlinewidth\":0,\"ticks\":\"\"},\"colorscale\":[[0.0,\"#0d0887\"],[0.1111111111111111,\"#46039f\"],[0.2222222222222222,\"#7201a8\"],[0.3333333333333333,\"#9c179e\"],[0.4444444444444444,\"#bd3786\"],[0.5555555555555556,\"#d8576b\"],[0.6666666666666666,\"#ed7953\"],[0.7777777777777778,\"#fb9f3a\"],[0.8888888888888888,\"#fdca26\"],[1.0,\"#f0f921\"]],\"type\":\"histogram2dcontour\"}],\"histogram2d\":[{\"colorbar\":{\"outlinewidth\":0,\"ticks\":\"\"},\"colorscale\":[[0.0,\"#0d0887\"],[0.1111111111111111,\"#46039f\"],[0.2222222222222222,\"#7201a8\"],[0.3333333333333333,\"#9c179e\"],[0.4444444444444444,\"#bd3786\"],[0.5555555555555556,\"#d8576b\"],[0.6666666666666666,\"#ed7953\"],[0.7777777777777778,\"#fb9f3a\"],[0.8888888888888888,\"#fdca26\"],[1.0,\"#f0f921\"]],\"type\":\"histogram2d\"}],\"histogram\":[{\"marker\":{\"pattern\":{\"fillmode\":\"overlay\",\"size\":10,\"solidity\":0.2}},\"type\":\"histogram\"}],\"mesh3d\":[{\"colorbar\":{\"outlinewidth\":0,\"ticks\":\"\"},\"type\":\"mesh3d\"}],\"parcoords\":[{\"line\":{\"colorbar\":{\"outlinewidth\":0,\"ticks\":\"\"}},\"type\":\"parcoords\"}],\"pie\":[{\"automargin\":true,\"type\":\"pie\"}],\"scatter3d\":[{\"line\":{\"colorbar\":{\"outlinewidth\":0,\"ticks\":\"\"}},\"marker\":{\"colorbar\":{\"outlinewidth\":0,\"ticks\":\"\"}},\"type\":\"scatter3d\"}],\"scattercarpet\":[{\"marker\":{\"colorbar\":{\"outlinewidth\":0,\"ticks\":\"\"}},\"type\":\"scattercarpet\"}],\"scattergeo\":[{\"marker\":{\"colorbar\":{\"outlinewidth\":0,\"ticks\":\"\"}},\"type\":\"scattergeo\"}],\"scattergl\":[{\"marker\":{\"colorbar\":{\"outlinewidth\":0,\"ticks\":\"\"}},\"type\":\"scattergl\"}],\"scattermapbox\":[{\"marker\":{\"colorbar\":{\"outlinewidth\":0,\"ticks\":\"\"}},\"type\":\"scattermapbox\"}],\"scatterpolargl\":[{\"marker\":{\"colorbar\":{\"outlinewidth\":0,\"ticks\":\"\"}},\"type\":\"scatterpolargl\"}],\"scatterpolar\":[{\"marker\":{\"colorbar\":{\"outlinewidth\":0,\"ticks\":\"\"}},\"type\":\"scatterpolar\"}],\"scatter\":[{\"fillpattern\":{\"fillmode\":\"overlay\",\"size\":10,\"solidity\":0.2},\"type\":\"scatter\"}],\"scatterternary\":[{\"marker\":{\"colorbar\":{\"outlinewidth\":0,\"ticks\":\"\"}},\"type\":\"scatterternary\"}],\"surface\":[{\"colorbar\":{\"outlinewidth\":0,\"ticks\":\"\"},\"colorscale\":[[0.0,\"#0d0887\"],[0.1111111111111111,\"#46039f\"],[0.2222222222222222,\"#7201a8\"],[0.3333333333333333,\"#9c179e\"],[0.4444444444444444,\"#bd3786\"],[0.5555555555555556,\"#d8576b\"],[0.6666666666666666,\"#ed7953\"],[0.7777777777777778,\"#fb9f3a\"],[0.8888888888888888,\"#fdca26\"],[1.0,\"#f0f921\"]],\"type\":\"surface\"}],\"table\":[{\"cells\":{\"fill\":{\"color\":\"#EBF0F8\"},\"line\":{\"color\":\"white\"}},\"header\":{\"fill\":{\"color\":\"#C8D4E3\"},\"line\":{\"color\":\"white\"}},\"type\":\"table\"}]},\"layout\":{\"annotationdefaults\":{\"arrowcolor\":\"#2a3f5f\",\"arrowhead\":0,\"arrowwidth\":1},\"autotypenumbers\":\"strict\",\"coloraxis\":{\"colorbar\":{\"outlinewidth\":0,\"ticks\":\"\"}},\"colorscale\":{\"diverging\":[[0,\"#8e0152\"],[0.1,\"#c51b7d\"],[0.2,\"#de77ae\"],[0.3,\"#f1b6da\"],[0.4,\"#fde0ef\"],[0.5,\"#f7f7f7\"],[0.6,\"#e6f5d0\"],[0.7,\"#b8e186\"],[0.8,\"#7fbc41\"],[0.9,\"#4d9221\"],[1,\"#276419\"]],\"sequential\":[[0.0,\"#0d0887\"],[0.1111111111111111,\"#46039f\"],[0.2222222222222222,\"#7201a8\"],[0.3333333333333333,\"#9c179e\"],[0.4444444444444444,\"#bd3786\"],[0.5555555555555556,\"#d8576b\"],[0.6666666666666666,\"#ed7953\"],[0.7777777777777778,\"#fb9f3a\"],[0.8888888888888888,\"#fdca26\"],[1.0,\"#f0f921\"]],\"sequentialminus\":[[0.0,\"#0d0887\"],[0.1111111111111111,\"#46039f\"],[0.2222222222222222,\"#7201a8\"],[0.3333333333333333,\"#9c179e\"],[0.4444444444444444,\"#bd3786\"],[0.5555555555555556,\"#d8576b\"],[0.6666666666666666,\"#ed7953\"],[0.7777777777777778,\"#fb9f3a\"],[0.8888888888888888,\"#fdca26\"],[1.0,\"#f0f921\"]]},\"colorway\":[\"#636efa\",\"#EF553B\",\"#00cc96\",\"#ab63fa\",\"#FFA15A\",\"#19d3f3\",\"#FF6692\",\"#B6E880\",\"#FF97FF\",\"#FECB52\"],\"font\":{\"color\":\"#2a3f5f\"},\"geo\":{\"bgcolor\":\"white\",\"lakecolor\":\"white\",\"landcolor\":\"#E5ECF6\",\"showlakes\":true,\"showland\":true,\"subunitcolor\":\"white\"},\"hoverlabel\":{\"align\":\"left\"},\"hovermode\":\"closest\",\"mapbox\":{\"style\":\"light\"},\"paper_bgcolor\":\"white\",\"plot_bgcolor\":\"#E5ECF6\",\"polar\":{\"angularaxis\":{\"gridcolor\":\"white\",\"linecolor\":\"white\",\"ticks\":\"\"},\"bgcolor\":\"#E5ECF6\",\"radialaxis\":{\"gridcolor\":\"white\",\"linecolor\":\"white\",\"ticks\":\"\"}},\"scene\":{\"xaxis\":{\"backgroundcolor\":\"#E5ECF6\",\"gridcolor\":\"white\",\"gridwidth\":2,\"linecolor\":\"white\",\"showbackground\":true,\"ticks\":\"\",\"zerolinecolor\":\"white\"},\"yaxis\":{\"backgroundcolor\":\"#E5ECF6\",\"gridcolor\":\"white\",\"gridwidth\":2,\"linecolor\":\"white\",\"showbackground\":true,\"ticks\":\"\",\"zerolinecolor\":\"white\"},\"zaxis\":{\"backgroundcolor\":\"#E5ECF6\",\"gridcolor\":\"white\",\"gridwidth\":2,\"linecolor\":\"white\",\"showbackground\":true,\"ticks\":\"\",\"zerolinecolor\":\"white\"}},\"shapedefaults\":{\"line\":{\"color\":\"#2a3f5f\"}},\"ternary\":{\"aaxis\":{\"gridcolor\":\"white\",\"linecolor\":\"white\",\"ticks\":\"\"},\"baxis\":{\"gridcolor\":\"white\",\"linecolor\":\"white\",\"ticks\":\"\"},\"bgcolor\":\"#E5ECF6\",\"caxis\":{\"gridcolor\":\"white\",\"linecolor\":\"white\",\"ticks\":\"\"}},\"title\":{\"x\":0.05},\"xaxis\":{\"automargin\":true,\"gridcolor\":\"white\",\"linecolor\":\"white\",\"ticks\":\"\",\"title\":{\"standoff\":15},\"zerolinecolor\":\"white\",\"zerolinewidth\":2},\"yaxis\":{\"automargin\":true,\"gridcolor\":\"white\",\"linecolor\":\"white\",\"ticks\":\"\",\"title\":{\"standoff\":15},\"zerolinecolor\":\"white\",\"zerolinewidth\":2}}},\"title\":{\"font\":{\"color\":\"#4D5663\"}},\"xaxis\":{\"gridcolor\":\"#E1E5ED\",\"showgrid\":true,\"tickfont\":{\"color\":\"#4D5663\"},\"title\":{\"font\":{\"color\":\"#4D5663\"},\"text\":\"\"},\"zerolinecolor\":\"#E1E5ED\"},\"yaxis\":{\"gridcolor\":\"#E1E5ED\",\"showgrid\":true,\"tickfont\":{\"color\":\"#4D5663\"},\"title\":{\"font\":{\"color\":\"#4D5663\"},\"text\":\"\"},\"zerolinecolor\":\"#E1E5ED\"}},                        {\"showLink\": true, \"linkText\": \"Export to plot.ly\", \"plotlyServerURL\": \"https://plot.ly\", \"responsive\": true}                    ).then(function(){\n",
       "                            \n",
       "var gd = document.getElementById('fa86ef56-3a48-4074-9b7b-b15fa7c7cde5');\n",
       "var x = new MutationObserver(function (mutations, observer) {{\n",
       "        var display = window.getComputedStyle(gd).display;\n",
       "        if (!display || display === 'none') {{\n",
       "            console.log([gd, 'removed!']);\n",
       "            Plotly.purge(gd);\n",
       "            observer.disconnect();\n",
       "        }}\n",
       "}});\n",
       "\n",
       "// Listen for the removal of the full notebook cells\n",
       "var notebookContainer = gd.closest('#notebook-container');\n",
       "if (notebookContainer) {{\n",
       "    x.observe(notebookContainer, {childList: true});\n",
       "}}\n",
       "\n",
       "// Listen for the clearing of the current output cell\n",
       "var outputEl = gd.closest('.output');\n",
       "if (outputEl) {{\n",
       "    x.observe(outputEl, {childList: true});\n",
       "}}\n",
       "\n",
       "                        })                };                });            </script>        </div>"
      ]
     },
     "metadata": {},
     "output_type": "display_data"
    }
   ],
   "source": [
    "X_scaled_df.iplot(kind='box', orientation='h')"
   ]
  },
  {
   "cell_type": "markdown",
   "metadata": {},
   "source": [
    "__정규화 (Normalization : 최소값을 0, 최대값을 1로 변환__\n",
    "\n",
    "* 이미지 처리, 신경망의 입력층 등에서 자주 사용"
   ]
  },
  {
   "cell_type": "code",
   "execution_count": 63,
   "metadata": {},
   "outputs": [],
   "source": [
    "from sklearn.preprocessing import MinMaxScaler\n",
    "scaler = MinMaxScaler()\n",
    "X_scaled = scaler.fit_transform(X)"
   ]
  },
  {
   "cell_type": "code",
   "execution_count": 64,
   "metadata": {},
   "outputs": [
    {
     "name": "stdout",
     "output_type": "stream",
     "text": [
      "정규화된 데이터:\n",
      "              특성1         특성2         특성3\n",
      "count  100.000000  100.000000  100.000000\n",
      "mean     0.529185    0.534745    0.494889\n",
      "std      0.283235    0.294126    0.296026\n",
      "min      0.000000    0.000000    0.000000\n",
      "25%      0.292896    0.276250    0.247760\n",
      "50%      0.511029    0.595846    0.476548\n",
      "75%      0.784601    0.766890    0.750149\n",
      "max      1.000000    1.000000    1.000000\n"
     ]
    }
   ],
   "source": [
    "X_scaled_df = pd.DataFrame(X_scaled, columns=['특성1', '특성2', '특성3'])\n",
    "print(\"정규화된 데이터:\")\n",
    "print(X_scaled_df.describe())"
   ]
  },
  {
   "cell_type": "code",
   "execution_count": 65,
   "metadata": {},
   "outputs": [
    {
     "data": {
      "application/vnd.plotly.v1+json": {
       "config": {
        "linkText": "Export to plot.ly",
        "plotlyServerURL": "https://plot.ly",
        "showLink": true
       },
       "data": [
        {
         "boxpoints": false,
         "line": {
          "width": 1.3
         },
         "marker": {
          "color": "rgba(255, 153, 51, 1.0)"
         },
         "name": "특성1",
         "orientation": "h",
         "type": "box",
         "x": [
          0.6168396733456457,
          0.02815233463500024,
          0.7674450861714331,
          0.4657008892048178,
          0.6324534769188518,
          0.6369763032820459,
          0.7057148879600939,
          0.08411443721352097,
          0.28599127430458654,
          0.5692678091995615,
          0.2899528836743489,
          0.4542624798980128,
          0.8293925690884405,
          0.22498529307994525,
          0.6259459113147914,
          0.19768083685068627,
          0.2576019833077208,
          0.578419034358684,
          0.24681438114295218,
          0.9262436042744037,
          0.3559134659958973,
          0.9329409606980735,
          0.58568486148122,
          0.31764670728625477,
          0.29826953656402105,
          0.7181964122384834,
          0.8989913340480512,
          0.39146042726542263,
          0.6150484208928105,
          0.2938767590349789,
          0.4030708339825019,
          0.3262923134719035,
          0.9248036431141311,
          0.16815579246890172,
          0.890600898952814,
          0.19389807259125857,
          0.6478016460382784,
          0.8219539902994574,
          0.9959532845766389,
          0.31803298628465726,
          0.9339344850827135,
          0.896959304328959,
          0.22920430681017867,
          0.42432313583465303,
          0.23056723087382996,
          0.9594676716801439,
          0.543501681403422,
          0.38987497087046974,
          0.6675044616451639,
          0.3444471015002166,
          0.2569448379127223,
          0.5880150895524278,
          0.42296461550791514,
          0.4782113272069441,
          0,
          0.761848893755583,
          0.6406779311003079,
          0.13587776793982254,
          0.48573385793685375,
          0.7608964858286609,
          0.9342690050294596,
          0.8469955252766185,
          0.13547934404563333,
          0.8421673668730318,
          0.2590226761899082,
          0.78088783872535,
          0.12520823813341775,
          0.8260948997619869,
          0.9329729532154104,
          0.08907628623684087,
          0.511438363030461,
          0.34102889059620484,
          0.829377845098486,
          0.4523804874805762,
          0.8502790796718217,
          0.9163382253274243,
          0.10096650176734528,
          0.9909180655924238,
          0.924681964986526,
          0.5106197897229889,
          0.6327772474266089,
          0.4747972153151451,
          0.9999999999999999,
          0.18637696764130735,
          0.8923509079535595,
          0.5294366848032032,
          0.3221193536782302,
          0.96888913534682,
          0.4153356946484915,
          0.4549157160339436,
          0.2949272834610196,
          0.10185116979133994,
          0.2960889085047066,
          0.7449085366061924,
          0.17521528253172608,
          0.1275134808060704,
          0.6978849178502818,
          0.284769754196605,
          0.6489178857997345,
          0.7957391005994906
         ]
        },
        {
         "boxpoints": false,
         "line": {
          "width": 1.3
         },
         "marker": {
          "color": "rgba(55, 128, 191, 1.0)"
         },
         "name": "특성2",
         "orientation": "h",
         "type": "box",
         "x": [
          0.6995292143028184,
          0.19125078564368408,
          0.6792550347883981,
          0,
          0.9697410264819362,
          0.4423938264409828,
          0.7372397517711348,
          0.9688482720997694,
          0.770660023567382,
          0.3740420981420726,
          0.7418705824727849,
          0.8892553909360674,
          0.7610926722949991,
          0.4125063388096729,
          0.8417132682780024,
          0.49716673606890643,
          0.8724807661197258,
          0.523409455830403,
          0.04620113674870452,
          0.1487116401205906,
          0.30220735416180733,
          0.6763315535964008,
          0.6948014320250085,
          0.500083463226859,
          0.6769085598816023,
          0.20792529295365628,
          0.7380630428658741,
          0.7904801807939278,
          0.42393798594773374,
          0.7355720023043455,
          0.6342145255231006,
          0.14414156312404464,
          0.5905342282097988,
          0.5273465664088051,
          0.9803141405279087,
          0.6085056007078994,
          0.12429602910673374,
          0.9470557082939847,
          0.8006298713339,
          0.278830446548346,
          0.8239501749869894,
          0.6069517839448982,
          0.9520966967372468,
          0.327705245877791,
          0.1546830819207039,
          0.8897296134184721,
          0.16026622051230904,
          0.7034100845165722,
          0.9411605662599496,
          0.6587492734016229,
          0.8810910286287075,
          0.1569576346050835,
          0.08678453458490058,
          0.4036861909219368,
          0.6108114816089537,
          0.5704012883563951,
          0.4971329129921231,
          0.7656331866289495,
          0.9494847812750328,
          0.6011580072279451,
          0.9204113254468328,
          1,
          0.04909492557415299,
          0.5630974595961873,
          0.6074247927351392,
          0.3554471893717337,
          0.8480214662759845,
          0.17551716494269687,
          0.8860924626744014,
          0.5073026555987901,
          0.7569827637764329,
          0.6144619660594911,
          0.8720190048115984,
          0.07899451740647717,
          0.32772025854379067,
          0.28086943639522266,
          0.19018436201679415,
          0.021754420856607646,
          0.42729370552618173,
          0.2971743213777426,
          0.4450437846821515,
          0.608394102124814,
          0.7499693600962702,
          0.009043235046379768,
          0.3439233760344623,
          0.160405781740952,
          0.664736683945725,
          0.24496957017722468,
          0.2071744202833111,
          0.9407888688771513,
          0.26850669862280296,
          0.14869162152523413,
          0.00457923392775789,
          0.22598521184924655,
          0.2520085557236968,
          0.7749879234221122,
          0.700653186752593,
          0.40747344731451546,
          0.869203687338007,
          0.9766728639276595
         ]
        },
        {
         "boxpoints": false,
         "line": {
          "width": 1.3
         },
         "marker": {
          "color": "rgba(50, 171, 96, 1.0)"
         },
         "name": "특성3",
         "orientation": "h",
         "type": "box",
         "x": [
          0.18512943415361538,
          0.10270846611331352,
          0.4719782244685673,
          0.7518578426206011,
          0.6632714441036835,
          0.2224820441406694,
          0.25525548703992196,
          0.24900195478573317,
          0.7973661497041056,
          0.37941073202486053,
          0.23616982965183975,
          0.2866674751718863,
          0.4156912566504931,
          0.06084069459594388,
          0.8923114528272469,
          0.8952186171663696,
          0.012771379004443473,
          0.9233002351331945,
          0.9019686575121784,
          1,
          0.8467456086282514,
          0.050108944713909365,
          0.8237462794721249,
          0.8486530561929246,
          0.41882489204557793,
          0.5474340556264754,
          0.4978593221185321,
          0.16576882278406524,
          0.05837726949743893,
          0.2860392601657813,
          0.8307259383660979,
          0.7107582265489292,
          0.6937383559956889,
          0.870696651367282,
          0.7816366246119593,
          0.4770082813780978,
          0.4091152083240637,
          0.10121900223303326,
          0.3283569233844901,
          0.1708094026942475,
          0.7358539404969864,
          0.341841508385057,
          0.28912192907057555,
          0.9493834726101216,
          0.4890990936571722,
          0.19191639578118935,
          0.8993994865409369,
          0.5100312001314284,
          0.20755800914790967,
          0.41249636979298465,
          0.39963251759242957,
          0.005030208180236917,
          0.5233863509068573,
          0.7572574076131353,
          0.6499917500923909,
          0.9971041394882385,
          0.3514716153419064,
          0.8662950588474252,
          0.6932208578167645,
          0.8758569297985708,
          0.037560165493668585,
          0.12313058731431181,
          0.33812099270433627,
          0.7403896174574083,
          0.9394541790744035,
          0.3463439081485311,
          0.42556594786796453,
          0,
          0.5806976645530837,
          0.4868010788137318,
          0.9229518848383862,
          0.9966518899489731,
          0.9465490419499198,
          0.7495794045386879,
          0.15684269931692674,
          0.14907992422079763,
          0.7104370355906904,
          0.3262648850286758,
          0.7118207867418787,
          0.7085828265099616,
          0.4011320404456915,
          0.5546667486405996,
          0.8641945426611402,
          0.0956263638636452,
          0.4760872824522666,
          0.6682207722134903,
          0.2440350904222819,
          0.37275053069821995,
          0.6762459620043269,
          0.38578956776447626,
          0.6591005005417532,
          0.29898268262627714,
          0.11575819619612937,
          0.3764208153190973,
          0.6126785839559512,
          0.10672497279621318,
          0.5119961451426407,
          0.07806128011962188,
          0.0350111606538952,
          0.7915953460226202
         ]
        }
       ],
       "layout": {
        "legend": {
         "bgcolor": "#F5F6F9",
         "font": {
          "color": "#4D5663"
         }
        },
        "paper_bgcolor": "#F5F6F9",
        "plot_bgcolor": "#F5F6F9",
        "template": {
         "data": {
          "bar": [
           {
            "error_x": {
             "color": "#2a3f5f"
            },
            "error_y": {
             "color": "#2a3f5f"
            },
            "marker": {
             "line": {
              "color": "#E5ECF6",
              "width": 0.5
             },
             "pattern": {
              "fillmode": "overlay",
              "size": 10,
              "solidity": 0.2
             }
            },
            "type": "bar"
           }
          ],
          "barpolar": [
           {
            "marker": {
             "line": {
              "color": "#E5ECF6",
              "width": 0.5
             },
             "pattern": {
              "fillmode": "overlay",
              "size": 10,
              "solidity": 0.2
             }
            },
            "type": "barpolar"
           }
          ],
          "carpet": [
           {
            "aaxis": {
             "endlinecolor": "#2a3f5f",
             "gridcolor": "white",
             "linecolor": "white",
             "minorgridcolor": "white",
             "startlinecolor": "#2a3f5f"
            },
            "baxis": {
             "endlinecolor": "#2a3f5f",
             "gridcolor": "white",
             "linecolor": "white",
             "minorgridcolor": "white",
             "startlinecolor": "#2a3f5f"
            },
            "type": "carpet"
           }
          ],
          "choropleth": [
           {
            "colorbar": {
             "outlinewidth": 0,
             "ticks": ""
            },
            "type": "choropleth"
           }
          ],
          "contour": [
           {
            "colorbar": {
             "outlinewidth": 0,
             "ticks": ""
            },
            "colorscale": [
             [
              0,
              "#0d0887"
             ],
             [
              0.1111111111111111,
              "#46039f"
             ],
             [
              0.2222222222222222,
              "#7201a8"
             ],
             [
              0.3333333333333333,
              "#9c179e"
             ],
             [
              0.4444444444444444,
              "#bd3786"
             ],
             [
              0.5555555555555556,
              "#d8576b"
             ],
             [
              0.6666666666666666,
              "#ed7953"
             ],
             [
              0.7777777777777778,
              "#fb9f3a"
             ],
             [
              0.8888888888888888,
              "#fdca26"
             ],
             [
              1,
              "#f0f921"
             ]
            ],
            "type": "contour"
           }
          ],
          "contourcarpet": [
           {
            "colorbar": {
             "outlinewidth": 0,
             "ticks": ""
            },
            "type": "contourcarpet"
           }
          ],
          "heatmap": [
           {
            "colorbar": {
             "outlinewidth": 0,
             "ticks": ""
            },
            "colorscale": [
             [
              0,
              "#0d0887"
             ],
             [
              0.1111111111111111,
              "#46039f"
             ],
             [
              0.2222222222222222,
              "#7201a8"
             ],
             [
              0.3333333333333333,
              "#9c179e"
             ],
             [
              0.4444444444444444,
              "#bd3786"
             ],
             [
              0.5555555555555556,
              "#d8576b"
             ],
             [
              0.6666666666666666,
              "#ed7953"
             ],
             [
              0.7777777777777778,
              "#fb9f3a"
             ],
             [
              0.8888888888888888,
              "#fdca26"
             ],
             [
              1,
              "#f0f921"
             ]
            ],
            "type": "heatmap"
           }
          ],
          "heatmapgl": [
           {
            "colorbar": {
             "outlinewidth": 0,
             "ticks": ""
            },
            "colorscale": [
             [
              0,
              "#0d0887"
             ],
             [
              0.1111111111111111,
              "#46039f"
             ],
             [
              0.2222222222222222,
              "#7201a8"
             ],
             [
              0.3333333333333333,
              "#9c179e"
             ],
             [
              0.4444444444444444,
              "#bd3786"
             ],
             [
              0.5555555555555556,
              "#d8576b"
             ],
             [
              0.6666666666666666,
              "#ed7953"
             ],
             [
              0.7777777777777778,
              "#fb9f3a"
             ],
             [
              0.8888888888888888,
              "#fdca26"
             ],
             [
              1,
              "#f0f921"
             ]
            ],
            "type": "heatmapgl"
           }
          ],
          "histogram": [
           {
            "marker": {
             "pattern": {
              "fillmode": "overlay",
              "size": 10,
              "solidity": 0.2
             }
            },
            "type": "histogram"
           }
          ],
          "histogram2d": [
           {
            "colorbar": {
             "outlinewidth": 0,
             "ticks": ""
            },
            "colorscale": [
             [
              0,
              "#0d0887"
             ],
             [
              0.1111111111111111,
              "#46039f"
             ],
             [
              0.2222222222222222,
              "#7201a8"
             ],
             [
              0.3333333333333333,
              "#9c179e"
             ],
             [
              0.4444444444444444,
              "#bd3786"
             ],
             [
              0.5555555555555556,
              "#d8576b"
             ],
             [
              0.6666666666666666,
              "#ed7953"
             ],
             [
              0.7777777777777778,
              "#fb9f3a"
             ],
             [
              0.8888888888888888,
              "#fdca26"
             ],
             [
              1,
              "#f0f921"
             ]
            ],
            "type": "histogram2d"
           }
          ],
          "histogram2dcontour": [
           {
            "colorbar": {
             "outlinewidth": 0,
             "ticks": ""
            },
            "colorscale": [
             [
              0,
              "#0d0887"
             ],
             [
              0.1111111111111111,
              "#46039f"
             ],
             [
              0.2222222222222222,
              "#7201a8"
             ],
             [
              0.3333333333333333,
              "#9c179e"
             ],
             [
              0.4444444444444444,
              "#bd3786"
             ],
             [
              0.5555555555555556,
              "#d8576b"
             ],
             [
              0.6666666666666666,
              "#ed7953"
             ],
             [
              0.7777777777777778,
              "#fb9f3a"
             ],
             [
              0.8888888888888888,
              "#fdca26"
             ],
             [
              1,
              "#f0f921"
             ]
            ],
            "type": "histogram2dcontour"
           }
          ],
          "mesh3d": [
           {
            "colorbar": {
             "outlinewidth": 0,
             "ticks": ""
            },
            "type": "mesh3d"
           }
          ],
          "parcoords": [
           {
            "line": {
             "colorbar": {
              "outlinewidth": 0,
              "ticks": ""
             }
            },
            "type": "parcoords"
           }
          ],
          "pie": [
           {
            "automargin": true,
            "type": "pie"
           }
          ],
          "scatter": [
           {
            "fillpattern": {
             "fillmode": "overlay",
             "size": 10,
             "solidity": 0.2
            },
            "type": "scatter"
           }
          ],
          "scatter3d": [
           {
            "line": {
             "colorbar": {
              "outlinewidth": 0,
              "ticks": ""
             }
            },
            "marker": {
             "colorbar": {
              "outlinewidth": 0,
              "ticks": ""
             }
            },
            "type": "scatter3d"
           }
          ],
          "scattercarpet": [
           {
            "marker": {
             "colorbar": {
              "outlinewidth": 0,
              "ticks": ""
             }
            },
            "type": "scattercarpet"
           }
          ],
          "scattergeo": [
           {
            "marker": {
             "colorbar": {
              "outlinewidth": 0,
              "ticks": ""
             }
            },
            "type": "scattergeo"
           }
          ],
          "scattergl": [
           {
            "marker": {
             "colorbar": {
              "outlinewidth": 0,
              "ticks": ""
             }
            },
            "type": "scattergl"
           }
          ],
          "scattermapbox": [
           {
            "marker": {
             "colorbar": {
              "outlinewidth": 0,
              "ticks": ""
             }
            },
            "type": "scattermapbox"
           }
          ],
          "scatterpolar": [
           {
            "marker": {
             "colorbar": {
              "outlinewidth": 0,
              "ticks": ""
             }
            },
            "type": "scatterpolar"
           }
          ],
          "scatterpolargl": [
           {
            "marker": {
             "colorbar": {
              "outlinewidth": 0,
              "ticks": ""
             }
            },
            "type": "scatterpolargl"
           }
          ],
          "scatterternary": [
           {
            "marker": {
             "colorbar": {
              "outlinewidth": 0,
              "ticks": ""
             }
            },
            "type": "scatterternary"
           }
          ],
          "surface": [
           {
            "colorbar": {
             "outlinewidth": 0,
             "ticks": ""
            },
            "colorscale": [
             [
              0,
              "#0d0887"
             ],
             [
              0.1111111111111111,
              "#46039f"
             ],
             [
              0.2222222222222222,
              "#7201a8"
             ],
             [
              0.3333333333333333,
              "#9c179e"
             ],
             [
              0.4444444444444444,
              "#bd3786"
             ],
             [
              0.5555555555555556,
              "#d8576b"
             ],
             [
              0.6666666666666666,
              "#ed7953"
             ],
             [
              0.7777777777777778,
              "#fb9f3a"
             ],
             [
              0.8888888888888888,
              "#fdca26"
             ],
             [
              1,
              "#f0f921"
             ]
            ],
            "type": "surface"
           }
          ],
          "table": [
           {
            "cells": {
             "fill": {
              "color": "#EBF0F8"
             },
             "line": {
              "color": "white"
             }
            },
            "header": {
             "fill": {
              "color": "#C8D4E3"
             },
             "line": {
              "color": "white"
             }
            },
            "type": "table"
           }
          ]
         },
         "layout": {
          "annotationdefaults": {
           "arrowcolor": "#2a3f5f",
           "arrowhead": 0,
           "arrowwidth": 1
          },
          "autotypenumbers": "strict",
          "coloraxis": {
           "colorbar": {
            "outlinewidth": 0,
            "ticks": ""
           }
          },
          "colorscale": {
           "diverging": [
            [
             0,
             "#8e0152"
            ],
            [
             0.1,
             "#c51b7d"
            ],
            [
             0.2,
             "#de77ae"
            ],
            [
             0.3,
             "#f1b6da"
            ],
            [
             0.4,
             "#fde0ef"
            ],
            [
             0.5,
             "#f7f7f7"
            ],
            [
             0.6,
             "#e6f5d0"
            ],
            [
             0.7,
             "#b8e186"
            ],
            [
             0.8,
             "#7fbc41"
            ],
            [
             0.9,
             "#4d9221"
            ],
            [
             1,
             "#276419"
            ]
           ],
           "sequential": [
            [
             0,
             "#0d0887"
            ],
            [
             0.1111111111111111,
             "#46039f"
            ],
            [
             0.2222222222222222,
             "#7201a8"
            ],
            [
             0.3333333333333333,
             "#9c179e"
            ],
            [
             0.4444444444444444,
             "#bd3786"
            ],
            [
             0.5555555555555556,
             "#d8576b"
            ],
            [
             0.6666666666666666,
             "#ed7953"
            ],
            [
             0.7777777777777778,
             "#fb9f3a"
            ],
            [
             0.8888888888888888,
             "#fdca26"
            ],
            [
             1,
             "#f0f921"
            ]
           ],
           "sequentialminus": [
            [
             0,
             "#0d0887"
            ],
            [
             0.1111111111111111,
             "#46039f"
            ],
            [
             0.2222222222222222,
             "#7201a8"
            ],
            [
             0.3333333333333333,
             "#9c179e"
            ],
            [
             0.4444444444444444,
             "#bd3786"
            ],
            [
             0.5555555555555556,
             "#d8576b"
            ],
            [
             0.6666666666666666,
             "#ed7953"
            ],
            [
             0.7777777777777778,
             "#fb9f3a"
            ],
            [
             0.8888888888888888,
             "#fdca26"
            ],
            [
             1,
             "#f0f921"
            ]
           ]
          },
          "colorway": [
           "#636efa",
           "#EF553B",
           "#00cc96",
           "#ab63fa",
           "#FFA15A",
           "#19d3f3",
           "#FF6692",
           "#B6E880",
           "#FF97FF",
           "#FECB52"
          ],
          "font": {
           "color": "#2a3f5f"
          },
          "geo": {
           "bgcolor": "white",
           "lakecolor": "white",
           "landcolor": "#E5ECF6",
           "showlakes": true,
           "showland": true,
           "subunitcolor": "white"
          },
          "hoverlabel": {
           "align": "left"
          },
          "hovermode": "closest",
          "mapbox": {
           "style": "light"
          },
          "paper_bgcolor": "white",
          "plot_bgcolor": "#E5ECF6",
          "polar": {
           "angularaxis": {
            "gridcolor": "white",
            "linecolor": "white",
            "ticks": ""
           },
           "bgcolor": "#E5ECF6",
           "radialaxis": {
            "gridcolor": "white",
            "linecolor": "white",
            "ticks": ""
           }
          },
          "scene": {
           "xaxis": {
            "backgroundcolor": "#E5ECF6",
            "gridcolor": "white",
            "gridwidth": 2,
            "linecolor": "white",
            "showbackground": true,
            "ticks": "",
            "zerolinecolor": "white"
           },
           "yaxis": {
            "backgroundcolor": "#E5ECF6",
            "gridcolor": "white",
            "gridwidth": 2,
            "linecolor": "white",
            "showbackground": true,
            "ticks": "",
            "zerolinecolor": "white"
           },
           "zaxis": {
            "backgroundcolor": "#E5ECF6",
            "gridcolor": "white",
            "gridwidth": 2,
            "linecolor": "white",
            "showbackground": true,
            "ticks": "",
            "zerolinecolor": "white"
           }
          },
          "shapedefaults": {
           "line": {
            "color": "#2a3f5f"
           }
          },
          "ternary": {
           "aaxis": {
            "gridcolor": "white",
            "linecolor": "white",
            "ticks": ""
           },
           "baxis": {
            "gridcolor": "white",
            "linecolor": "white",
            "ticks": ""
           },
           "bgcolor": "#E5ECF6",
           "caxis": {
            "gridcolor": "white",
            "linecolor": "white",
            "ticks": ""
           }
          },
          "title": {
           "x": 0.05
          },
          "xaxis": {
           "automargin": true,
           "gridcolor": "white",
           "linecolor": "white",
           "ticks": "",
           "title": {
            "standoff": 15
           },
           "zerolinecolor": "white",
           "zerolinewidth": 2
          },
          "yaxis": {
           "automargin": true,
           "gridcolor": "white",
           "linecolor": "white",
           "ticks": "",
           "title": {
            "standoff": 15
           },
           "zerolinecolor": "white",
           "zerolinewidth": 2
          }
         }
        },
        "title": {
         "font": {
          "color": "#4D5663"
         }
        },
        "xaxis": {
         "gridcolor": "#E1E5ED",
         "showgrid": true,
         "tickfont": {
          "color": "#4D5663"
         },
         "title": {
          "font": {
           "color": "#4D5663"
          },
          "text": ""
         },
         "zerolinecolor": "#E1E5ED"
        },
        "yaxis": {
         "gridcolor": "#E1E5ED",
         "showgrid": true,
         "tickfont": {
          "color": "#4D5663"
         },
         "title": {
          "font": {
           "color": "#4D5663"
          },
          "text": ""
         },
         "zerolinecolor": "#E1E5ED"
        }
       }
      },
      "text/html": [
       "<div>                            <div id=\"fb85a199-5b27-49e7-9d70-5295358b225f\" class=\"plotly-graph-div\" style=\"height:525px; width:100%;\"></div>            <script type=\"text/javascript\">                require([\"plotly\"], function(Plotly) {                    window.PLOTLYENV=window.PLOTLYENV || {};\n",
       "                    window.PLOTLYENV.BASE_URL='https://plot.ly';                                    if (document.getElementById(\"fb85a199-5b27-49e7-9d70-5295358b225f\")) {                    Plotly.newPlot(                        \"fb85a199-5b27-49e7-9d70-5295358b225f\",                        [{\"boxpoints\":false,\"line\":{\"width\":1.3},\"marker\":{\"color\":\"rgba(255, 153, 51, 1.0)\"},\"name\":\"\\ud2b9\\uc1311\",\"orientation\":\"h\",\"x\":[0.6168396733456457,0.02815233463500024,0.7674450861714331,0.4657008892048178,0.6324534769188518,0.6369763032820459,0.7057148879600939,0.08411443721352097,0.28599127430458654,0.5692678091995615,0.2899528836743489,0.4542624798980128,0.8293925690884405,0.22498529307994525,0.6259459113147914,0.19768083685068627,0.2576019833077208,0.578419034358684,0.24681438114295218,0.9262436042744037,0.3559134659958973,0.9329409606980735,0.58568486148122,0.31764670728625477,0.29826953656402105,0.7181964122384834,0.8989913340480512,0.39146042726542263,0.6150484208928105,0.2938767590349789,0.4030708339825019,0.3262923134719035,0.9248036431141311,0.16815579246890172,0.890600898952814,0.19389807259125857,0.6478016460382784,0.8219539902994574,0.9959532845766389,0.31803298628465726,0.9339344850827135,0.896959304328959,0.22920430681017867,0.42432313583465303,0.23056723087382996,0.9594676716801439,0.543501681403422,0.38987497087046974,0.6675044616451639,0.3444471015002166,0.2569448379127223,0.5880150895524278,0.42296461550791514,0.4782113272069441,0.0,0.761848893755583,0.6406779311003079,0.13587776793982254,0.48573385793685375,0.7608964858286609,0.9342690050294596,0.8469955252766185,0.13547934404563333,0.8421673668730318,0.2590226761899082,0.78088783872535,0.12520823813341775,0.8260948997619869,0.9329729532154104,0.08907628623684087,0.511438363030461,0.34102889059620484,0.829377845098486,0.4523804874805762,0.8502790796718217,0.9163382253274243,0.10096650176734528,0.9909180655924238,0.924681964986526,0.5106197897229889,0.6327772474266089,0.4747972153151451,0.9999999999999999,0.18637696764130735,0.8923509079535595,0.5294366848032032,0.3221193536782302,0.96888913534682,0.4153356946484915,0.4549157160339436,0.2949272834610196,0.10185116979133994,0.2960889085047066,0.7449085366061924,0.17521528253172608,0.1275134808060704,0.6978849178502818,0.284769754196605,0.6489178857997345,0.7957391005994906],\"type\":\"box\"},{\"boxpoints\":false,\"line\":{\"width\":1.3},\"marker\":{\"color\":\"rgba(55, 128, 191, 1.0)\"},\"name\":\"\\ud2b9\\uc1312\",\"orientation\":\"h\",\"x\":[0.6995292143028184,0.19125078564368408,0.6792550347883981,0.0,0.9697410264819362,0.4423938264409828,0.7372397517711348,0.9688482720997694,0.770660023567382,0.3740420981420726,0.7418705824727849,0.8892553909360674,0.7610926722949991,0.4125063388096729,0.8417132682780024,0.49716673606890643,0.8724807661197258,0.523409455830403,0.04620113674870452,0.1487116401205906,0.30220735416180733,0.6763315535964008,0.6948014320250085,0.500083463226859,0.6769085598816023,0.20792529295365628,0.7380630428658741,0.7904801807939278,0.42393798594773374,0.7355720023043455,0.6342145255231006,0.14414156312404464,0.5905342282097988,0.5273465664088051,0.9803141405279087,0.6085056007078994,0.12429602910673374,0.9470557082939847,0.8006298713339,0.278830446548346,0.8239501749869894,0.6069517839448982,0.9520966967372468,0.327705245877791,0.1546830819207039,0.8897296134184721,0.16026622051230904,0.7034100845165722,0.9411605662599496,0.6587492734016229,0.8810910286287075,0.1569576346050835,0.08678453458490058,0.4036861909219368,0.6108114816089537,0.5704012883563951,0.4971329129921231,0.7656331866289495,0.9494847812750328,0.6011580072279451,0.9204113254468328,1.0,0.04909492557415299,0.5630974595961873,0.6074247927351392,0.3554471893717337,0.8480214662759845,0.17551716494269687,0.8860924626744014,0.5073026555987901,0.7569827637764329,0.6144619660594911,0.8720190048115984,0.07899451740647717,0.32772025854379067,0.28086943639522266,0.19018436201679415,0.021754420856607646,0.42729370552618173,0.2971743213777426,0.4450437846821515,0.608394102124814,0.7499693600962702,0.009043235046379768,0.3439233760344623,0.160405781740952,0.664736683945725,0.24496957017722468,0.2071744202833111,0.9407888688771513,0.26850669862280296,0.14869162152523413,0.00457923392775789,0.22598521184924655,0.2520085557236968,0.7749879234221122,0.700653186752593,0.40747344731451546,0.869203687338007,0.9766728639276595],\"type\":\"box\"},{\"boxpoints\":false,\"line\":{\"width\":1.3},\"marker\":{\"color\":\"rgba(50, 171, 96, 1.0)\"},\"name\":\"\\ud2b9\\uc1313\",\"orientation\":\"h\",\"x\":[0.18512943415361538,0.10270846611331352,0.4719782244685673,0.7518578426206011,0.6632714441036835,0.2224820441406694,0.25525548703992196,0.24900195478573317,0.7973661497041056,0.37941073202486053,0.23616982965183975,0.2866674751718863,0.4156912566504931,0.06084069459594388,0.8923114528272469,0.8952186171663696,0.012771379004443473,0.9233002351331945,0.9019686575121784,1.0,0.8467456086282514,0.050108944713909365,0.8237462794721249,0.8486530561929246,0.41882489204557793,0.5474340556264754,0.4978593221185321,0.16576882278406524,0.05837726949743893,0.2860392601657813,0.8307259383660979,0.7107582265489292,0.6937383559956889,0.870696651367282,0.7816366246119593,0.4770082813780978,0.4091152083240637,0.10121900223303326,0.3283569233844901,0.1708094026942475,0.7358539404969864,0.341841508385057,0.28912192907057555,0.9493834726101216,0.4890990936571722,0.19191639578118935,0.8993994865409369,0.5100312001314284,0.20755800914790967,0.41249636979298465,0.39963251759242957,0.005030208180236917,0.5233863509068573,0.7572574076131353,0.6499917500923909,0.9971041394882385,0.3514716153419064,0.8662950588474252,0.6932208578167645,0.8758569297985708,0.037560165493668585,0.12313058731431181,0.33812099270433627,0.7403896174574083,0.9394541790744035,0.3463439081485311,0.42556594786796453,0.0,0.5806976645530837,0.4868010788137318,0.9229518848383862,0.9966518899489731,0.9465490419499198,0.7495794045386879,0.15684269931692674,0.14907992422079763,0.7104370355906904,0.3262648850286758,0.7118207867418787,0.7085828265099616,0.4011320404456915,0.5546667486405996,0.8641945426611402,0.0956263638636452,0.4760872824522666,0.6682207722134903,0.2440350904222819,0.37275053069821995,0.6762459620043269,0.38578956776447626,0.6591005005417532,0.29898268262627714,0.11575819619612937,0.3764208153190973,0.6126785839559512,0.10672497279621318,0.5119961451426407,0.07806128011962188,0.0350111606538952,0.7915953460226202],\"type\":\"box\"}],                        {\"legend\":{\"bgcolor\":\"#F5F6F9\",\"font\":{\"color\":\"#4D5663\"}},\"paper_bgcolor\":\"#F5F6F9\",\"plot_bgcolor\":\"#F5F6F9\",\"template\":{\"data\":{\"barpolar\":[{\"marker\":{\"line\":{\"color\":\"#E5ECF6\",\"width\":0.5},\"pattern\":{\"fillmode\":\"overlay\",\"size\":10,\"solidity\":0.2}},\"type\":\"barpolar\"}],\"bar\":[{\"error_x\":{\"color\":\"#2a3f5f\"},\"error_y\":{\"color\":\"#2a3f5f\"},\"marker\":{\"line\":{\"color\":\"#E5ECF6\",\"width\":0.5},\"pattern\":{\"fillmode\":\"overlay\",\"size\":10,\"solidity\":0.2}},\"type\":\"bar\"}],\"carpet\":[{\"aaxis\":{\"endlinecolor\":\"#2a3f5f\",\"gridcolor\":\"white\",\"linecolor\":\"white\",\"minorgridcolor\":\"white\",\"startlinecolor\":\"#2a3f5f\"},\"baxis\":{\"endlinecolor\":\"#2a3f5f\",\"gridcolor\":\"white\",\"linecolor\":\"white\",\"minorgridcolor\":\"white\",\"startlinecolor\":\"#2a3f5f\"},\"type\":\"carpet\"}],\"choropleth\":[{\"colorbar\":{\"outlinewidth\":0,\"ticks\":\"\"},\"type\":\"choropleth\"}],\"contourcarpet\":[{\"colorbar\":{\"outlinewidth\":0,\"ticks\":\"\"},\"type\":\"contourcarpet\"}],\"contour\":[{\"colorbar\":{\"outlinewidth\":0,\"ticks\":\"\"},\"colorscale\":[[0.0,\"#0d0887\"],[0.1111111111111111,\"#46039f\"],[0.2222222222222222,\"#7201a8\"],[0.3333333333333333,\"#9c179e\"],[0.4444444444444444,\"#bd3786\"],[0.5555555555555556,\"#d8576b\"],[0.6666666666666666,\"#ed7953\"],[0.7777777777777778,\"#fb9f3a\"],[0.8888888888888888,\"#fdca26\"],[1.0,\"#f0f921\"]],\"type\":\"contour\"}],\"heatmapgl\":[{\"colorbar\":{\"outlinewidth\":0,\"ticks\":\"\"},\"colorscale\":[[0.0,\"#0d0887\"],[0.1111111111111111,\"#46039f\"],[0.2222222222222222,\"#7201a8\"],[0.3333333333333333,\"#9c179e\"],[0.4444444444444444,\"#bd3786\"],[0.5555555555555556,\"#d8576b\"],[0.6666666666666666,\"#ed7953\"],[0.7777777777777778,\"#fb9f3a\"],[0.8888888888888888,\"#fdca26\"],[1.0,\"#f0f921\"]],\"type\":\"heatmapgl\"}],\"heatmap\":[{\"colorbar\":{\"outlinewidth\":0,\"ticks\":\"\"},\"colorscale\":[[0.0,\"#0d0887\"],[0.1111111111111111,\"#46039f\"],[0.2222222222222222,\"#7201a8\"],[0.3333333333333333,\"#9c179e\"],[0.4444444444444444,\"#bd3786\"],[0.5555555555555556,\"#d8576b\"],[0.6666666666666666,\"#ed7953\"],[0.7777777777777778,\"#fb9f3a\"],[0.8888888888888888,\"#fdca26\"],[1.0,\"#f0f921\"]],\"type\":\"heatmap\"}],\"histogram2dcontour\":[{\"colorbar\":{\"outlinewidth\":0,\"ticks\":\"\"},\"colorscale\":[[0.0,\"#0d0887\"],[0.1111111111111111,\"#46039f\"],[0.2222222222222222,\"#7201a8\"],[0.3333333333333333,\"#9c179e\"],[0.4444444444444444,\"#bd3786\"],[0.5555555555555556,\"#d8576b\"],[0.6666666666666666,\"#ed7953\"],[0.7777777777777778,\"#fb9f3a\"],[0.8888888888888888,\"#fdca26\"],[1.0,\"#f0f921\"]],\"type\":\"histogram2dcontour\"}],\"histogram2d\":[{\"colorbar\":{\"outlinewidth\":0,\"ticks\":\"\"},\"colorscale\":[[0.0,\"#0d0887\"],[0.1111111111111111,\"#46039f\"],[0.2222222222222222,\"#7201a8\"],[0.3333333333333333,\"#9c179e\"],[0.4444444444444444,\"#bd3786\"],[0.5555555555555556,\"#d8576b\"],[0.6666666666666666,\"#ed7953\"],[0.7777777777777778,\"#fb9f3a\"],[0.8888888888888888,\"#fdca26\"],[1.0,\"#f0f921\"]],\"type\":\"histogram2d\"}],\"histogram\":[{\"marker\":{\"pattern\":{\"fillmode\":\"overlay\",\"size\":10,\"solidity\":0.2}},\"type\":\"histogram\"}],\"mesh3d\":[{\"colorbar\":{\"outlinewidth\":0,\"ticks\":\"\"},\"type\":\"mesh3d\"}],\"parcoords\":[{\"line\":{\"colorbar\":{\"outlinewidth\":0,\"ticks\":\"\"}},\"type\":\"parcoords\"}],\"pie\":[{\"automargin\":true,\"type\":\"pie\"}],\"scatter3d\":[{\"line\":{\"colorbar\":{\"outlinewidth\":0,\"ticks\":\"\"}},\"marker\":{\"colorbar\":{\"outlinewidth\":0,\"ticks\":\"\"}},\"type\":\"scatter3d\"}],\"scattercarpet\":[{\"marker\":{\"colorbar\":{\"outlinewidth\":0,\"ticks\":\"\"}},\"type\":\"scattercarpet\"}],\"scattergeo\":[{\"marker\":{\"colorbar\":{\"outlinewidth\":0,\"ticks\":\"\"}},\"type\":\"scattergeo\"}],\"scattergl\":[{\"marker\":{\"colorbar\":{\"outlinewidth\":0,\"ticks\":\"\"}},\"type\":\"scattergl\"}],\"scattermapbox\":[{\"marker\":{\"colorbar\":{\"outlinewidth\":0,\"ticks\":\"\"}},\"type\":\"scattermapbox\"}],\"scatterpolargl\":[{\"marker\":{\"colorbar\":{\"outlinewidth\":0,\"ticks\":\"\"}},\"type\":\"scatterpolargl\"}],\"scatterpolar\":[{\"marker\":{\"colorbar\":{\"outlinewidth\":0,\"ticks\":\"\"}},\"type\":\"scatterpolar\"}],\"scatter\":[{\"fillpattern\":{\"fillmode\":\"overlay\",\"size\":10,\"solidity\":0.2},\"type\":\"scatter\"}],\"scatterternary\":[{\"marker\":{\"colorbar\":{\"outlinewidth\":0,\"ticks\":\"\"}},\"type\":\"scatterternary\"}],\"surface\":[{\"colorbar\":{\"outlinewidth\":0,\"ticks\":\"\"},\"colorscale\":[[0.0,\"#0d0887\"],[0.1111111111111111,\"#46039f\"],[0.2222222222222222,\"#7201a8\"],[0.3333333333333333,\"#9c179e\"],[0.4444444444444444,\"#bd3786\"],[0.5555555555555556,\"#d8576b\"],[0.6666666666666666,\"#ed7953\"],[0.7777777777777778,\"#fb9f3a\"],[0.8888888888888888,\"#fdca26\"],[1.0,\"#f0f921\"]],\"type\":\"surface\"}],\"table\":[{\"cells\":{\"fill\":{\"color\":\"#EBF0F8\"},\"line\":{\"color\":\"white\"}},\"header\":{\"fill\":{\"color\":\"#C8D4E3\"},\"line\":{\"color\":\"white\"}},\"type\":\"table\"}]},\"layout\":{\"annotationdefaults\":{\"arrowcolor\":\"#2a3f5f\",\"arrowhead\":0,\"arrowwidth\":1},\"autotypenumbers\":\"strict\",\"coloraxis\":{\"colorbar\":{\"outlinewidth\":0,\"ticks\":\"\"}},\"colorscale\":{\"diverging\":[[0,\"#8e0152\"],[0.1,\"#c51b7d\"],[0.2,\"#de77ae\"],[0.3,\"#f1b6da\"],[0.4,\"#fde0ef\"],[0.5,\"#f7f7f7\"],[0.6,\"#e6f5d0\"],[0.7,\"#b8e186\"],[0.8,\"#7fbc41\"],[0.9,\"#4d9221\"],[1,\"#276419\"]],\"sequential\":[[0.0,\"#0d0887\"],[0.1111111111111111,\"#46039f\"],[0.2222222222222222,\"#7201a8\"],[0.3333333333333333,\"#9c179e\"],[0.4444444444444444,\"#bd3786\"],[0.5555555555555556,\"#d8576b\"],[0.6666666666666666,\"#ed7953\"],[0.7777777777777778,\"#fb9f3a\"],[0.8888888888888888,\"#fdca26\"],[1.0,\"#f0f921\"]],\"sequentialminus\":[[0.0,\"#0d0887\"],[0.1111111111111111,\"#46039f\"],[0.2222222222222222,\"#7201a8\"],[0.3333333333333333,\"#9c179e\"],[0.4444444444444444,\"#bd3786\"],[0.5555555555555556,\"#d8576b\"],[0.6666666666666666,\"#ed7953\"],[0.7777777777777778,\"#fb9f3a\"],[0.8888888888888888,\"#fdca26\"],[1.0,\"#f0f921\"]]},\"colorway\":[\"#636efa\",\"#EF553B\",\"#00cc96\",\"#ab63fa\",\"#FFA15A\",\"#19d3f3\",\"#FF6692\",\"#B6E880\",\"#FF97FF\",\"#FECB52\"],\"font\":{\"color\":\"#2a3f5f\"},\"geo\":{\"bgcolor\":\"white\",\"lakecolor\":\"white\",\"landcolor\":\"#E5ECF6\",\"showlakes\":true,\"showland\":true,\"subunitcolor\":\"white\"},\"hoverlabel\":{\"align\":\"left\"},\"hovermode\":\"closest\",\"mapbox\":{\"style\":\"light\"},\"paper_bgcolor\":\"white\",\"plot_bgcolor\":\"#E5ECF6\",\"polar\":{\"angularaxis\":{\"gridcolor\":\"white\",\"linecolor\":\"white\",\"ticks\":\"\"},\"bgcolor\":\"#E5ECF6\",\"radialaxis\":{\"gridcolor\":\"white\",\"linecolor\":\"white\",\"ticks\":\"\"}},\"scene\":{\"xaxis\":{\"backgroundcolor\":\"#E5ECF6\",\"gridcolor\":\"white\",\"gridwidth\":2,\"linecolor\":\"white\",\"showbackground\":true,\"ticks\":\"\",\"zerolinecolor\":\"white\"},\"yaxis\":{\"backgroundcolor\":\"#E5ECF6\",\"gridcolor\":\"white\",\"gridwidth\":2,\"linecolor\":\"white\",\"showbackground\":true,\"ticks\":\"\",\"zerolinecolor\":\"white\"},\"zaxis\":{\"backgroundcolor\":\"#E5ECF6\",\"gridcolor\":\"white\",\"gridwidth\":2,\"linecolor\":\"white\",\"showbackground\":true,\"ticks\":\"\",\"zerolinecolor\":\"white\"}},\"shapedefaults\":{\"line\":{\"color\":\"#2a3f5f\"}},\"ternary\":{\"aaxis\":{\"gridcolor\":\"white\",\"linecolor\":\"white\",\"ticks\":\"\"},\"baxis\":{\"gridcolor\":\"white\",\"linecolor\":\"white\",\"ticks\":\"\"},\"bgcolor\":\"#E5ECF6\",\"caxis\":{\"gridcolor\":\"white\",\"linecolor\":\"white\",\"ticks\":\"\"}},\"title\":{\"x\":0.05},\"xaxis\":{\"automargin\":true,\"gridcolor\":\"white\",\"linecolor\":\"white\",\"ticks\":\"\",\"title\":{\"standoff\":15},\"zerolinecolor\":\"white\",\"zerolinewidth\":2},\"yaxis\":{\"automargin\":true,\"gridcolor\":\"white\",\"linecolor\":\"white\",\"ticks\":\"\",\"title\":{\"standoff\":15},\"zerolinecolor\":\"white\",\"zerolinewidth\":2}}},\"title\":{\"font\":{\"color\":\"#4D5663\"}},\"xaxis\":{\"gridcolor\":\"#E1E5ED\",\"showgrid\":true,\"tickfont\":{\"color\":\"#4D5663\"},\"title\":{\"font\":{\"color\":\"#4D5663\"},\"text\":\"\"},\"zerolinecolor\":\"#E1E5ED\"},\"yaxis\":{\"gridcolor\":\"#E1E5ED\",\"showgrid\":true,\"tickfont\":{\"color\":\"#4D5663\"},\"title\":{\"font\":{\"color\":\"#4D5663\"},\"text\":\"\"},\"zerolinecolor\":\"#E1E5ED\"}},                        {\"showLink\": true, \"linkText\": \"Export to plot.ly\", \"plotlyServerURL\": \"https://plot.ly\", \"responsive\": true}                    ).then(function(){\n",
       "                            \n",
       "var gd = document.getElementById('fb85a199-5b27-49e7-9d70-5295358b225f');\n",
       "var x = new MutationObserver(function (mutations, observer) {{\n",
       "        var display = window.getComputedStyle(gd).display;\n",
       "        if (!display || display === 'none') {{\n",
       "            console.log([gd, 'removed!']);\n",
       "            Plotly.purge(gd);\n",
       "            observer.disconnect();\n",
       "        }}\n",
       "}});\n",
       "\n",
       "// Listen for the removal of the full notebook cells\n",
       "var notebookContainer = gd.closest('#notebook-container');\n",
       "if (notebookContainer) {{\n",
       "    x.observe(notebookContainer, {childList: true});\n",
       "}}\n",
       "\n",
       "// Listen for the clearing of the current output cell\n",
       "var outputEl = gd.closest('.output');\n",
       "if (outputEl) {{\n",
       "    x.observe(outputEl, {childList: true});\n",
       "}}\n",
       "\n",
       "                        })                };                });            </script>        </div>"
      ]
     },
     "metadata": {},
     "output_type": "display_data"
    }
   ],
   "source": [
    "X_scaled_df.iplot(kind='box', orientation='h')"
   ]
  },
  {
   "cell_type": "markdown",
   "metadata": {},
   "source": [
    "__최대 절대값 스케일링 (MaxAbs Scaling) : 각 특성의 최대 절대값을 1로 스케일링__\n",
    "\n",
    "* 희소 데이터(sparse data)에 적합, 0을 중심으로 대칭적인 분포를 유지"
   ]
  },
  {
   "cell_type": "code",
   "execution_count": 93,
   "metadata": {},
   "outputs": [],
   "source": [
    "from sklearn.preprocessing import MaxAbsScaler\n",
    "scaler = MaxAbsScaler()\n",
    "X_scaled = scaler.fit_transform(X)"
   ]
  },
  {
   "cell_type": "code",
   "execution_count": 94,
   "metadata": {},
   "outputs": [
    {
     "name": "stdout",
     "output_type": "stream",
     "text": [
      "최대 절대값 스케일링된 데이터:\n",
      "              특성1         특성2         특성3\n",
      "count  100.000000  100.000000  100.000000\n",
      "mean     0.538071    0.543713    0.748429\n",
      "std      0.277890    0.288456    0.147436\n",
      "min      0.018874    0.019277    0.501949\n",
      "25%      0.306242    0.290201    0.625346\n",
      "50%      0.520258    0.603637    0.739294\n",
      "75%      0.788666    0.771383    0.875561\n",
      "max      1.000000    1.000000    1.000000\n"
     ]
    }
   ],
   "source": [
    "X_scaled_df = pd.DataFrame(X_scaled, columns=['특성1', '특성2', '특성3'])\n",
    "print(\"최대 절대값 스케일링된 데이터:\")\n",
    "print(X_scaled_df.describe())"
   ]
  },
  {
   "cell_type": "code",
   "execution_count": 95,
   "metadata": {},
   "outputs": [
    {
     "data": {
      "application/vnd.plotly.v1+json": {
       "config": {
        "linkText": "Export to plot.ly",
        "plotlyServerURL": "https://plot.ly",
        "showLink": true
       },
       "data": [
        {
         "boxpoints": false,
         "line": {
          "width": 1.3
         },
         "marker": {
          "color": "rgba(255, 153, 51, 1.0)"
         },
         "name": "특성1",
         "orientation": "h",
         "type": "box",
         "x": [
          0.6240714039326555,
          0.04649489256343111,
          0.7718343049044326,
          0.4757851984439505,
          0.6393905141020171,
          0.6438279770821176,
          0.7112691964257519,
          0.10140077188297247,
          0.2994674052654553,
          0.5773974065047419,
          0.30335424360685137,
          0.4645626765573621,
          0.8326125970784659,
          0.23961284497279042,
          0.6330057716556587,
          0.21282373038393287,
          0.27161393097445313,
          0.5863759123338916,
          0.26102993295945814,
          0.9276356752845049,
          0.3680698923391715,
          0.9342066264570776,
          0.5935046049448753,
          0.3305253766964002,
          0.31151392880206275,
          0.7235151456338187,
          0.9008977617450312,
          0.40294594373310316,
          0.6223139594036868,
          0.3072040601271185,
          0.41433721676764107,
          0.3390078065552044,
          0.9262228918105491,
          0.18385593880648468,
          0.8926656869023974,
          0.20911236164772445,
          0.6544490033763388,
          0.8253144132991171,
          0.9960296618883496,
          0.33090436510270965,
          0.9351813991595066,
          0.8989040843564154,
          0.2437522294498954,
          0.4351884047500695,
          0.24508942981786833,
          0.9602326748865899,
          0.5521175860883855,
          0.40139041108731777,
          0.6737799499655767,
          0.3568199428872122,
          0.27096918847746504,
          0.59579085251903,
          0.4338555250033095,
          0.4880595156609557,
          0.018873902343061032,
          0.7663437344777322,
          0.6474597407384274,
          0.15218712656019429,
          0.49544006688049647,
          0.7654093022050136,
          0.9355096054094459,
          0.8498833167905991,
          0.15179622247967514,
          0.8451462845772185,
          0.27300780983792267,
          0.7850233402594248,
          0.14171897241740192,
          0.8293771676408396,
          0.9342380151507667,
          0.10626897145238523,
          0.5206594276551901,
          0.3534662469619907,
          0.8325981509876599,
          0.46271620468102254,
          0.853104897700809,
          0.9179172494924417,
          0.11793477221612896,
          0.9910894771355185,
          0.9261035102240417,
          0.519856304020384,
          0.6397081737968292,
          0.48470984138359086,
          1,
          0.20173320929811048,
          0.8943826664041633,
          0.5383180508604547,
          0.3349136067971584,
          0.9694763187680924,
          0.42637059165116953,
          0.46520358357825636,
          0.30823475705773307,
          0.11880274310223271,
          0.3093744577037863,
          0.7497231079748358,
          0.1907821887432715,
          0.1439807061649739,
          0.7035870084071416,
          0.29826894000870185,
          0.6555441753375457,
          0.7995943008672817
         ]
        },
        {
         "boxpoints": false,
         "line": {
          "width": 1.3
         },
         "marker": {
          "color": "rgba(55, 128, 191, 1.0)"
         },
         "name": "특성2",
         "orientation": "h",
         "type": "box",
         "x": [
          0.7053213115040341,
          0.2068408339410232,
          0.6854379520759989,
          0.019276739959181576,
          0.9703243208458756,
          0.45314265564831435,
          0.7423049127478526,
          0.9694487758577814,
          0.7750809506553183,
          0.3861085258415829,
          0.7468464761302721,
          0.8913901859668741,
          0.7656980267255115,
          0.42383130134410646,
          0.8447645204443962,
          0.5068597221405328,
          0.87493892123103,
          0.5325965678173652,
          0.06458726940896273,
          0.16512170446426416,
          0.3156585215410595,
          0.6825708260707154,
          0.7006846654557771,
          0.5097202243075296,
          0.6831367095558022,
          0.22319391110963357,
          0.743112333474248,
          0.794519039865058,
          0.43504258359298176,
          0.7406693120538517,
          0.6412656769954377,
          0.16063972365357407,
          0.5984273934147841,
          0.5364577837389569,
          0.9806936197218252,
          0.6160523364385292,
          0.14117674683486595,
          0.9480763016375247,
          0.804473077459825,
          0.2927322444967127,
          0.8273438416836246,
          0.6145284721972126,
          0.9530201162574288,
          0.34066489702892677,
          0.1709780363336153,
          0.8918552669858028,
          0.176453550214434,
          0.7091273711918619,
          0.9422947987235021,
          0.6653274749191417,
          0.8833832059486457,
          0.17320874305737466,
          0.10438835163841044,
          0.4151811771536037,
          0.6183137674730771,
          0.5786825510075484,
          0.5068265510624052,
          0.7701510147453653,
          0.9504585500103752,
          0.6088463806074138,
          0.9219455356298902,
          1,
          0.06742527541972625,
          0.5715195162550575,
          0.6149923629200057,
          0.36787206629217445,
          0.8509511169499602,
          0.19141050615490532,
          0.8882882286508178,
          0.5168002541853914,
          0.7616673438447137,
          0.6218938824841365,
          0.8744860611755626,
          0.09674850059541305,
          0.3406796202996679,
          0.2947319292665317,
          0.20579496748507514,
          0.0406118065019738,
          0.43833361583774005,
          0.3107225092211792,
          0.4557415313335653,
          0.6159429871846358,
          0.7547891357235222,
          0.02814565091518252,
          0.3565703945079438,
          0.17659042115756401,
          0.6711994677071562,
          0.2595240954341874,
          0.2224575128164971,
          0.9419302664544955,
          0.2826075047753345,
          0.16510207176216474,
          0.023767701185301818,
          0.24090569364498965,
          0.2664273922867038,
          0.7793254227099796,
          0.7064236174291729,
          0.4188954275895439,
          0.871725013844812,
          0.9771225350637185
         ]
        },
        {
         "boxpoints": false,
         "line": {
          "width": 1.3
         },
         "marker": {
          "color": "rgba(50, 171, 96, 1.0)"
         },
         "name": "특성3",
         "orientation": "h",
         "type": "box",
         "x": [
          0.5941528317016631,
          0.5531029792593674,
          0.7370181825420234,
          0.8764125296349774,
          0.8322919778630575,
          0.6127563395803067,
          0.6290791883289709,
          0.6259646098135613,
          0.8990779912898694,
          0.6909148426260272,
          0.6195735559859743,
          0.6447239630555401,
          0.7089843972287232,
          0.532250690288005,
          0.9463656023913093,
          0.9478135187405585,
          0.5083097155706445,
          0.961799598997653,
          0.9511753836490063,
          1,
          0.9236714843137008,
          0.5269057306305338,
          0.912216643505848,
          0.924621490640161,
          0.710545107732794,
          0.7745990410127507,
          0.7499082912708631,
          0.5845102582302613,
          0.5310237787483733,
          0.6444110798910275,
          0.9156928701810194,
          0.8559428213157039,
          0.8474660563442483,
          0.9356003271027783,
          0.891243884273506,
          0.7395234078362909,
          0.7057091892340617,
          0.5523611501598383,
          0.6654874379117358,
          0.5870207245164061,
          0.8684417688407813,
          0.6722034500829132,
          0.6459464064793828,
          0.9747903836863462,
          0.7455452499932625,
          0.5975330852945013,
          0.9498958052628738,
          0.755970508304406,
          0.6053234077807569,
          0.7073931803674213,
          0.7009863248399045,
          0.5044542170534603,
          0.7626220556195006,
          0.8791017888303769,
          0.8256780118711046,
          0.9985577135342169,
          0.6769997352877761,
          0.9334081091787799,
          0.8472083158154836,
          0.9381704093670631,
          0.5206557975422698,
          0.563274238852554,
          0.6703504432166487,
          0.8707007676656943,
          0.9698450882816845,
          0.6744458751638278,
          0.713902497889616,
          0.5019489164186534,
          0.7911660174824741,
          0.744400721210401,
          0.9616261027558579,
          0.9983324701611365,
          0.9733786924246965,
          0.8752777510794074,
          0.5800645927652721,
          0.5761983342170467,
          0.8557828518109165,
          0.6644454959417289,
          0.8564720305711727,
          0.8548593609690732,
          0.7017331638218266,
          0.7782012916056464,
          0.9323619448161206,
          0.5495757305598861,
          0.7390647033233034,
          0.8347569960911464,
          0.6234908576353428,
          0.6875977221384239,
          0.8387539505624185,
          0.6940918286781302,
          0.8302146349024815,
          0.6508575654727287,
          0.5596024114675578,
          0.6894257113709038,
          0.807094149045,
          0.5551034047649972,
          0.756949151296418,
          0.5408274215679781,
          0.5193862629197666,
          0.8962038362631705
         ]
        }
       ],
       "layout": {
        "legend": {
         "bgcolor": "#F5F6F9",
         "font": {
          "color": "#4D5663"
         }
        },
        "paper_bgcolor": "#F5F6F9",
        "plot_bgcolor": "#F5F6F9",
        "template": {
         "data": {
          "bar": [
           {
            "error_x": {
             "color": "#2a3f5f"
            },
            "error_y": {
             "color": "#2a3f5f"
            },
            "marker": {
             "line": {
              "color": "#E5ECF6",
              "width": 0.5
             },
             "pattern": {
              "fillmode": "overlay",
              "size": 10,
              "solidity": 0.2
             }
            },
            "type": "bar"
           }
          ],
          "barpolar": [
           {
            "marker": {
             "line": {
              "color": "#E5ECF6",
              "width": 0.5
             },
             "pattern": {
              "fillmode": "overlay",
              "size": 10,
              "solidity": 0.2
             }
            },
            "type": "barpolar"
           }
          ],
          "carpet": [
           {
            "aaxis": {
             "endlinecolor": "#2a3f5f",
             "gridcolor": "white",
             "linecolor": "white",
             "minorgridcolor": "white",
             "startlinecolor": "#2a3f5f"
            },
            "baxis": {
             "endlinecolor": "#2a3f5f",
             "gridcolor": "white",
             "linecolor": "white",
             "minorgridcolor": "white",
             "startlinecolor": "#2a3f5f"
            },
            "type": "carpet"
           }
          ],
          "choropleth": [
           {
            "colorbar": {
             "outlinewidth": 0,
             "ticks": ""
            },
            "type": "choropleth"
           }
          ],
          "contour": [
           {
            "colorbar": {
             "outlinewidth": 0,
             "ticks": ""
            },
            "colorscale": [
             [
              0,
              "#0d0887"
             ],
             [
              0.1111111111111111,
              "#46039f"
             ],
             [
              0.2222222222222222,
              "#7201a8"
             ],
             [
              0.3333333333333333,
              "#9c179e"
             ],
             [
              0.4444444444444444,
              "#bd3786"
             ],
             [
              0.5555555555555556,
              "#d8576b"
             ],
             [
              0.6666666666666666,
              "#ed7953"
             ],
             [
              0.7777777777777778,
              "#fb9f3a"
             ],
             [
              0.8888888888888888,
              "#fdca26"
             ],
             [
              1,
              "#f0f921"
             ]
            ],
            "type": "contour"
           }
          ],
          "contourcarpet": [
           {
            "colorbar": {
             "outlinewidth": 0,
             "ticks": ""
            },
            "type": "contourcarpet"
           }
          ],
          "heatmap": [
           {
            "colorbar": {
             "outlinewidth": 0,
             "ticks": ""
            },
            "colorscale": [
             [
              0,
              "#0d0887"
             ],
             [
              0.1111111111111111,
              "#46039f"
             ],
             [
              0.2222222222222222,
              "#7201a8"
             ],
             [
              0.3333333333333333,
              "#9c179e"
             ],
             [
              0.4444444444444444,
              "#bd3786"
             ],
             [
              0.5555555555555556,
              "#d8576b"
             ],
             [
              0.6666666666666666,
              "#ed7953"
             ],
             [
              0.7777777777777778,
              "#fb9f3a"
             ],
             [
              0.8888888888888888,
              "#fdca26"
             ],
             [
              1,
              "#f0f921"
             ]
            ],
            "type": "heatmap"
           }
          ],
          "heatmapgl": [
           {
            "colorbar": {
             "outlinewidth": 0,
             "ticks": ""
            },
            "colorscale": [
             [
              0,
              "#0d0887"
             ],
             [
              0.1111111111111111,
              "#46039f"
             ],
             [
              0.2222222222222222,
              "#7201a8"
             ],
             [
              0.3333333333333333,
              "#9c179e"
             ],
             [
              0.4444444444444444,
              "#bd3786"
             ],
             [
              0.5555555555555556,
              "#d8576b"
             ],
             [
              0.6666666666666666,
              "#ed7953"
             ],
             [
              0.7777777777777778,
              "#fb9f3a"
             ],
             [
              0.8888888888888888,
              "#fdca26"
             ],
             [
              1,
              "#f0f921"
             ]
            ],
            "type": "heatmapgl"
           }
          ],
          "histogram": [
           {
            "marker": {
             "pattern": {
              "fillmode": "overlay",
              "size": 10,
              "solidity": 0.2
             }
            },
            "type": "histogram"
           }
          ],
          "histogram2d": [
           {
            "colorbar": {
             "outlinewidth": 0,
             "ticks": ""
            },
            "colorscale": [
             [
              0,
              "#0d0887"
             ],
             [
              0.1111111111111111,
              "#46039f"
             ],
             [
              0.2222222222222222,
              "#7201a8"
             ],
             [
              0.3333333333333333,
              "#9c179e"
             ],
             [
              0.4444444444444444,
              "#bd3786"
             ],
             [
              0.5555555555555556,
              "#d8576b"
             ],
             [
              0.6666666666666666,
              "#ed7953"
             ],
             [
              0.7777777777777778,
              "#fb9f3a"
             ],
             [
              0.8888888888888888,
              "#fdca26"
             ],
             [
              1,
              "#f0f921"
             ]
            ],
            "type": "histogram2d"
           }
          ],
          "histogram2dcontour": [
           {
            "colorbar": {
             "outlinewidth": 0,
             "ticks": ""
            },
            "colorscale": [
             [
              0,
              "#0d0887"
             ],
             [
              0.1111111111111111,
              "#46039f"
             ],
             [
              0.2222222222222222,
              "#7201a8"
             ],
             [
              0.3333333333333333,
              "#9c179e"
             ],
             [
              0.4444444444444444,
              "#bd3786"
             ],
             [
              0.5555555555555556,
              "#d8576b"
             ],
             [
              0.6666666666666666,
              "#ed7953"
             ],
             [
              0.7777777777777778,
              "#fb9f3a"
             ],
             [
              0.8888888888888888,
              "#fdca26"
             ],
             [
              1,
              "#f0f921"
             ]
            ],
            "type": "histogram2dcontour"
           }
          ],
          "mesh3d": [
           {
            "colorbar": {
             "outlinewidth": 0,
             "ticks": ""
            },
            "type": "mesh3d"
           }
          ],
          "parcoords": [
           {
            "line": {
             "colorbar": {
              "outlinewidth": 0,
              "ticks": ""
             }
            },
            "type": "parcoords"
           }
          ],
          "pie": [
           {
            "automargin": true,
            "type": "pie"
           }
          ],
          "scatter": [
           {
            "fillpattern": {
             "fillmode": "overlay",
             "size": 10,
             "solidity": 0.2
            },
            "type": "scatter"
           }
          ],
          "scatter3d": [
           {
            "line": {
             "colorbar": {
              "outlinewidth": 0,
              "ticks": ""
             }
            },
            "marker": {
             "colorbar": {
              "outlinewidth": 0,
              "ticks": ""
             }
            },
            "type": "scatter3d"
           }
          ],
          "scattercarpet": [
           {
            "marker": {
             "colorbar": {
              "outlinewidth": 0,
              "ticks": ""
             }
            },
            "type": "scattercarpet"
           }
          ],
          "scattergeo": [
           {
            "marker": {
             "colorbar": {
              "outlinewidth": 0,
              "ticks": ""
             }
            },
            "type": "scattergeo"
           }
          ],
          "scattergl": [
           {
            "marker": {
             "colorbar": {
              "outlinewidth": 0,
              "ticks": ""
             }
            },
            "type": "scattergl"
           }
          ],
          "scattermapbox": [
           {
            "marker": {
             "colorbar": {
              "outlinewidth": 0,
              "ticks": ""
             }
            },
            "type": "scattermapbox"
           }
          ],
          "scatterpolar": [
           {
            "marker": {
             "colorbar": {
              "outlinewidth": 0,
              "ticks": ""
             }
            },
            "type": "scatterpolar"
           }
          ],
          "scatterpolargl": [
           {
            "marker": {
             "colorbar": {
              "outlinewidth": 0,
              "ticks": ""
             }
            },
            "type": "scatterpolargl"
           }
          ],
          "scatterternary": [
           {
            "marker": {
             "colorbar": {
              "outlinewidth": 0,
              "ticks": ""
             }
            },
            "type": "scatterternary"
           }
          ],
          "surface": [
           {
            "colorbar": {
             "outlinewidth": 0,
             "ticks": ""
            },
            "colorscale": [
             [
              0,
              "#0d0887"
             ],
             [
              0.1111111111111111,
              "#46039f"
             ],
             [
              0.2222222222222222,
              "#7201a8"
             ],
             [
              0.3333333333333333,
              "#9c179e"
             ],
             [
              0.4444444444444444,
              "#bd3786"
             ],
             [
              0.5555555555555556,
              "#d8576b"
             ],
             [
              0.6666666666666666,
              "#ed7953"
             ],
             [
              0.7777777777777778,
              "#fb9f3a"
             ],
             [
              0.8888888888888888,
              "#fdca26"
             ],
             [
              1,
              "#f0f921"
             ]
            ],
            "type": "surface"
           }
          ],
          "table": [
           {
            "cells": {
             "fill": {
              "color": "#EBF0F8"
             },
             "line": {
              "color": "white"
             }
            },
            "header": {
             "fill": {
              "color": "#C8D4E3"
             },
             "line": {
              "color": "white"
             }
            },
            "type": "table"
           }
          ]
         },
         "layout": {
          "annotationdefaults": {
           "arrowcolor": "#2a3f5f",
           "arrowhead": 0,
           "arrowwidth": 1
          },
          "autotypenumbers": "strict",
          "coloraxis": {
           "colorbar": {
            "outlinewidth": 0,
            "ticks": ""
           }
          },
          "colorscale": {
           "diverging": [
            [
             0,
             "#8e0152"
            ],
            [
             0.1,
             "#c51b7d"
            ],
            [
             0.2,
             "#de77ae"
            ],
            [
             0.3,
             "#f1b6da"
            ],
            [
             0.4,
             "#fde0ef"
            ],
            [
             0.5,
             "#f7f7f7"
            ],
            [
             0.6,
             "#e6f5d0"
            ],
            [
             0.7,
             "#b8e186"
            ],
            [
             0.8,
             "#7fbc41"
            ],
            [
             0.9,
             "#4d9221"
            ],
            [
             1,
             "#276419"
            ]
           ],
           "sequential": [
            [
             0,
             "#0d0887"
            ],
            [
             0.1111111111111111,
             "#46039f"
            ],
            [
             0.2222222222222222,
             "#7201a8"
            ],
            [
             0.3333333333333333,
             "#9c179e"
            ],
            [
             0.4444444444444444,
             "#bd3786"
            ],
            [
             0.5555555555555556,
             "#d8576b"
            ],
            [
             0.6666666666666666,
             "#ed7953"
            ],
            [
             0.7777777777777778,
             "#fb9f3a"
            ],
            [
             0.8888888888888888,
             "#fdca26"
            ],
            [
             1,
             "#f0f921"
            ]
           ],
           "sequentialminus": [
            [
             0,
             "#0d0887"
            ],
            [
             0.1111111111111111,
             "#46039f"
            ],
            [
             0.2222222222222222,
             "#7201a8"
            ],
            [
             0.3333333333333333,
             "#9c179e"
            ],
            [
             0.4444444444444444,
             "#bd3786"
            ],
            [
             0.5555555555555556,
             "#d8576b"
            ],
            [
             0.6666666666666666,
             "#ed7953"
            ],
            [
             0.7777777777777778,
             "#fb9f3a"
            ],
            [
             0.8888888888888888,
             "#fdca26"
            ],
            [
             1,
             "#f0f921"
            ]
           ]
          },
          "colorway": [
           "#636efa",
           "#EF553B",
           "#00cc96",
           "#ab63fa",
           "#FFA15A",
           "#19d3f3",
           "#FF6692",
           "#B6E880",
           "#FF97FF",
           "#FECB52"
          ],
          "font": {
           "color": "#2a3f5f"
          },
          "geo": {
           "bgcolor": "white",
           "lakecolor": "white",
           "landcolor": "#E5ECF6",
           "showlakes": true,
           "showland": true,
           "subunitcolor": "white"
          },
          "hoverlabel": {
           "align": "left"
          },
          "hovermode": "closest",
          "mapbox": {
           "style": "light"
          },
          "paper_bgcolor": "white",
          "plot_bgcolor": "#E5ECF6",
          "polar": {
           "angularaxis": {
            "gridcolor": "white",
            "linecolor": "white",
            "ticks": ""
           },
           "bgcolor": "#E5ECF6",
           "radialaxis": {
            "gridcolor": "white",
            "linecolor": "white",
            "ticks": ""
           }
          },
          "scene": {
           "xaxis": {
            "backgroundcolor": "#E5ECF6",
            "gridcolor": "white",
            "gridwidth": 2,
            "linecolor": "white",
            "showbackground": true,
            "ticks": "",
            "zerolinecolor": "white"
           },
           "yaxis": {
            "backgroundcolor": "#E5ECF6",
            "gridcolor": "white",
            "gridwidth": 2,
            "linecolor": "white",
            "showbackground": true,
            "ticks": "",
            "zerolinecolor": "white"
           },
           "zaxis": {
            "backgroundcolor": "#E5ECF6",
            "gridcolor": "white",
            "gridwidth": 2,
            "linecolor": "white",
            "showbackground": true,
            "ticks": "",
            "zerolinecolor": "white"
           }
          },
          "shapedefaults": {
           "line": {
            "color": "#2a3f5f"
           }
          },
          "ternary": {
           "aaxis": {
            "gridcolor": "white",
            "linecolor": "white",
            "ticks": ""
           },
           "baxis": {
            "gridcolor": "white",
            "linecolor": "white",
            "ticks": ""
           },
           "bgcolor": "#E5ECF6",
           "caxis": {
            "gridcolor": "white",
            "linecolor": "white",
            "ticks": ""
           }
          },
          "title": {
           "x": 0.05
          },
          "xaxis": {
           "automargin": true,
           "gridcolor": "white",
           "linecolor": "white",
           "ticks": "",
           "title": {
            "standoff": 15
           },
           "zerolinecolor": "white",
           "zerolinewidth": 2
          },
          "yaxis": {
           "automargin": true,
           "gridcolor": "white",
           "linecolor": "white",
           "ticks": "",
           "title": {
            "standoff": 15
           },
           "zerolinecolor": "white",
           "zerolinewidth": 2
          }
         }
        },
        "title": {
         "font": {
          "color": "#4D5663"
         }
        },
        "xaxis": {
         "gridcolor": "#E1E5ED",
         "showgrid": true,
         "tickfont": {
          "color": "#4D5663"
         },
         "title": {
          "font": {
           "color": "#4D5663"
          },
          "text": ""
         },
         "zerolinecolor": "#E1E5ED"
        },
        "yaxis": {
         "gridcolor": "#E1E5ED",
         "showgrid": true,
         "tickfont": {
          "color": "#4D5663"
         },
         "title": {
          "font": {
           "color": "#4D5663"
          },
          "text": ""
         },
         "zerolinecolor": "#E1E5ED"
        }
       }
      },
      "text/html": [
       "<div>                            <div id=\"d01b5fe0-c34b-47e1-b7a8-d7cdfff7ee6a\" class=\"plotly-graph-div\" style=\"height:525px; width:100%;\"></div>            <script type=\"text/javascript\">                require([\"plotly\"], function(Plotly) {                    window.PLOTLYENV=window.PLOTLYENV || {};\n",
       "                    window.PLOTLYENV.BASE_URL='https://plot.ly';                                    if (document.getElementById(\"d01b5fe0-c34b-47e1-b7a8-d7cdfff7ee6a\")) {                    Plotly.newPlot(                        \"d01b5fe0-c34b-47e1-b7a8-d7cdfff7ee6a\",                        [{\"boxpoints\":false,\"line\":{\"width\":1.3},\"marker\":{\"color\":\"rgba(255, 153, 51, 1.0)\"},\"name\":\"\\ud2b9\\uc1311\",\"orientation\":\"h\",\"x\":[0.6240714039326555,0.04649489256343111,0.7718343049044326,0.4757851984439505,0.6393905141020171,0.6438279770821176,0.7112691964257519,0.10140077188297247,0.2994674052654553,0.5773974065047419,0.30335424360685137,0.4645626765573621,0.8326125970784659,0.23961284497279042,0.6330057716556587,0.21282373038393287,0.27161393097445313,0.5863759123338916,0.26102993295945814,0.9276356752845049,0.3680698923391715,0.9342066264570776,0.5935046049448753,0.3305253766964002,0.31151392880206275,0.7235151456338187,0.9008977617450312,0.40294594373310316,0.6223139594036868,0.3072040601271185,0.41433721676764107,0.3390078065552044,0.9262228918105491,0.18385593880648468,0.8926656869023974,0.20911236164772445,0.6544490033763388,0.8253144132991171,0.9960296618883496,0.33090436510270965,0.9351813991595066,0.8989040843564154,0.2437522294498954,0.4351884047500695,0.24508942981786833,0.9602326748865899,0.5521175860883855,0.40139041108731777,0.6737799499655767,0.3568199428872122,0.27096918847746504,0.59579085251903,0.4338555250033095,0.4880595156609557,0.018873902343061032,0.7663437344777322,0.6474597407384274,0.15218712656019429,0.49544006688049647,0.7654093022050136,0.9355096054094459,0.8498833167905991,0.15179622247967514,0.8451462845772185,0.27300780983792267,0.7850233402594248,0.14171897241740192,0.8293771676408396,0.9342380151507667,0.10626897145238523,0.5206594276551901,0.3534662469619907,0.8325981509876599,0.46271620468102254,0.853104897700809,0.9179172494924417,0.11793477221612896,0.9910894771355185,0.9261035102240417,0.519856304020384,0.6397081737968292,0.48470984138359086,1.0,0.20173320929811048,0.8943826664041633,0.5383180508604547,0.3349136067971584,0.9694763187680924,0.42637059165116953,0.46520358357825636,0.30823475705773307,0.11880274310223271,0.3093744577037863,0.7497231079748358,0.1907821887432715,0.1439807061649739,0.7035870084071416,0.29826894000870185,0.6555441753375457,0.7995943008672817],\"type\":\"box\"},{\"boxpoints\":false,\"line\":{\"width\":1.3},\"marker\":{\"color\":\"rgba(55, 128, 191, 1.0)\"},\"name\":\"\\ud2b9\\uc1312\",\"orientation\":\"h\",\"x\":[0.7053213115040341,0.2068408339410232,0.6854379520759989,0.019276739959181576,0.9703243208458756,0.45314265564831435,0.7423049127478526,0.9694487758577814,0.7750809506553183,0.3861085258415829,0.7468464761302721,0.8913901859668741,0.7656980267255115,0.42383130134410646,0.8447645204443962,0.5068597221405328,0.87493892123103,0.5325965678173652,0.06458726940896273,0.16512170446426416,0.3156585215410595,0.6825708260707154,0.7006846654557771,0.5097202243075296,0.6831367095558022,0.22319391110963357,0.743112333474248,0.794519039865058,0.43504258359298176,0.7406693120538517,0.6412656769954377,0.16063972365357407,0.5984273934147841,0.5364577837389569,0.9806936197218252,0.6160523364385292,0.14117674683486595,0.9480763016375247,0.804473077459825,0.2927322444967127,0.8273438416836246,0.6145284721972126,0.9530201162574288,0.34066489702892677,0.1709780363336153,0.8918552669858028,0.176453550214434,0.7091273711918619,0.9422947987235021,0.6653274749191417,0.8833832059486457,0.17320874305737466,0.10438835163841044,0.4151811771536037,0.6183137674730771,0.5786825510075484,0.5068265510624052,0.7701510147453653,0.9504585500103752,0.6088463806074138,0.9219455356298902,1.0,0.06742527541972625,0.5715195162550575,0.6149923629200057,0.36787206629217445,0.8509511169499602,0.19141050615490532,0.8882882286508178,0.5168002541853914,0.7616673438447137,0.6218938824841365,0.8744860611755626,0.09674850059541305,0.3406796202996679,0.2947319292665317,0.20579496748507514,0.0406118065019738,0.43833361583774005,0.3107225092211792,0.4557415313335653,0.6159429871846358,0.7547891357235222,0.02814565091518252,0.3565703945079438,0.17659042115756401,0.6711994677071562,0.2595240954341874,0.2224575128164971,0.9419302664544955,0.2826075047753345,0.16510207176216474,0.023767701185301818,0.24090569364498965,0.2664273922867038,0.7793254227099796,0.7064236174291729,0.4188954275895439,0.871725013844812,0.9771225350637185],\"type\":\"box\"},{\"boxpoints\":false,\"line\":{\"width\":1.3},\"marker\":{\"color\":\"rgba(50, 171, 96, 1.0)\"},\"name\":\"\\ud2b9\\uc1313\",\"orientation\":\"h\",\"x\":[0.5941528317016631,0.5531029792593674,0.7370181825420234,0.8764125296349774,0.8322919778630575,0.6127563395803067,0.6290791883289709,0.6259646098135613,0.8990779912898694,0.6909148426260272,0.6195735559859743,0.6447239630555401,0.7089843972287232,0.532250690288005,0.9463656023913093,0.9478135187405585,0.5083097155706445,0.961799598997653,0.9511753836490063,1.0,0.9236714843137008,0.5269057306305338,0.912216643505848,0.924621490640161,0.710545107732794,0.7745990410127507,0.7499082912708631,0.5845102582302613,0.5310237787483733,0.6444110798910275,0.9156928701810194,0.8559428213157039,0.8474660563442483,0.9356003271027783,0.891243884273506,0.7395234078362909,0.7057091892340617,0.5523611501598383,0.6654874379117358,0.5870207245164061,0.8684417688407813,0.6722034500829132,0.6459464064793828,0.9747903836863462,0.7455452499932625,0.5975330852945013,0.9498958052628738,0.755970508304406,0.6053234077807569,0.7073931803674213,0.7009863248399045,0.5044542170534603,0.7626220556195006,0.8791017888303769,0.8256780118711046,0.9985577135342169,0.6769997352877761,0.9334081091787799,0.8472083158154836,0.9381704093670631,0.5206557975422698,0.563274238852554,0.6703504432166487,0.8707007676656943,0.9698450882816845,0.6744458751638278,0.713902497889616,0.5019489164186534,0.7911660174824741,0.744400721210401,0.9616261027558579,0.9983324701611365,0.9733786924246965,0.8752777510794074,0.5800645927652721,0.5761983342170467,0.8557828518109165,0.6644454959417289,0.8564720305711727,0.8548593609690732,0.7017331638218266,0.7782012916056464,0.9323619448161206,0.5495757305598861,0.7390647033233034,0.8347569960911464,0.6234908576353428,0.6875977221384239,0.8387539505624185,0.6940918286781302,0.8302146349024815,0.6508575654727287,0.5596024114675578,0.6894257113709038,0.807094149045,0.5551034047649972,0.756949151296418,0.5408274215679781,0.5193862629197666,0.8962038362631705],\"type\":\"box\"}],                        {\"legend\":{\"bgcolor\":\"#F5F6F9\",\"font\":{\"color\":\"#4D5663\"}},\"paper_bgcolor\":\"#F5F6F9\",\"plot_bgcolor\":\"#F5F6F9\",\"template\":{\"data\":{\"barpolar\":[{\"marker\":{\"line\":{\"color\":\"#E5ECF6\",\"width\":0.5},\"pattern\":{\"fillmode\":\"overlay\",\"size\":10,\"solidity\":0.2}},\"type\":\"barpolar\"}],\"bar\":[{\"error_x\":{\"color\":\"#2a3f5f\"},\"error_y\":{\"color\":\"#2a3f5f\"},\"marker\":{\"line\":{\"color\":\"#E5ECF6\",\"width\":0.5},\"pattern\":{\"fillmode\":\"overlay\",\"size\":10,\"solidity\":0.2}},\"type\":\"bar\"}],\"carpet\":[{\"aaxis\":{\"endlinecolor\":\"#2a3f5f\",\"gridcolor\":\"white\",\"linecolor\":\"white\",\"minorgridcolor\":\"white\",\"startlinecolor\":\"#2a3f5f\"},\"baxis\":{\"endlinecolor\":\"#2a3f5f\",\"gridcolor\":\"white\",\"linecolor\":\"white\",\"minorgridcolor\":\"white\",\"startlinecolor\":\"#2a3f5f\"},\"type\":\"carpet\"}],\"choropleth\":[{\"colorbar\":{\"outlinewidth\":0,\"ticks\":\"\"},\"type\":\"choropleth\"}],\"contourcarpet\":[{\"colorbar\":{\"outlinewidth\":0,\"ticks\":\"\"},\"type\":\"contourcarpet\"}],\"contour\":[{\"colorbar\":{\"outlinewidth\":0,\"ticks\":\"\"},\"colorscale\":[[0.0,\"#0d0887\"],[0.1111111111111111,\"#46039f\"],[0.2222222222222222,\"#7201a8\"],[0.3333333333333333,\"#9c179e\"],[0.4444444444444444,\"#bd3786\"],[0.5555555555555556,\"#d8576b\"],[0.6666666666666666,\"#ed7953\"],[0.7777777777777778,\"#fb9f3a\"],[0.8888888888888888,\"#fdca26\"],[1.0,\"#f0f921\"]],\"type\":\"contour\"}],\"heatmapgl\":[{\"colorbar\":{\"outlinewidth\":0,\"ticks\":\"\"},\"colorscale\":[[0.0,\"#0d0887\"],[0.1111111111111111,\"#46039f\"],[0.2222222222222222,\"#7201a8\"],[0.3333333333333333,\"#9c179e\"],[0.4444444444444444,\"#bd3786\"],[0.5555555555555556,\"#d8576b\"],[0.6666666666666666,\"#ed7953\"],[0.7777777777777778,\"#fb9f3a\"],[0.8888888888888888,\"#fdca26\"],[1.0,\"#f0f921\"]],\"type\":\"heatmapgl\"}],\"heatmap\":[{\"colorbar\":{\"outlinewidth\":0,\"ticks\":\"\"},\"colorscale\":[[0.0,\"#0d0887\"],[0.1111111111111111,\"#46039f\"],[0.2222222222222222,\"#7201a8\"],[0.3333333333333333,\"#9c179e\"],[0.4444444444444444,\"#bd3786\"],[0.5555555555555556,\"#d8576b\"],[0.6666666666666666,\"#ed7953\"],[0.7777777777777778,\"#fb9f3a\"],[0.8888888888888888,\"#fdca26\"],[1.0,\"#f0f921\"]],\"type\":\"heatmap\"}],\"histogram2dcontour\":[{\"colorbar\":{\"outlinewidth\":0,\"ticks\":\"\"},\"colorscale\":[[0.0,\"#0d0887\"],[0.1111111111111111,\"#46039f\"],[0.2222222222222222,\"#7201a8\"],[0.3333333333333333,\"#9c179e\"],[0.4444444444444444,\"#bd3786\"],[0.5555555555555556,\"#d8576b\"],[0.6666666666666666,\"#ed7953\"],[0.7777777777777778,\"#fb9f3a\"],[0.8888888888888888,\"#fdca26\"],[1.0,\"#f0f921\"]],\"type\":\"histogram2dcontour\"}],\"histogram2d\":[{\"colorbar\":{\"outlinewidth\":0,\"ticks\":\"\"},\"colorscale\":[[0.0,\"#0d0887\"],[0.1111111111111111,\"#46039f\"],[0.2222222222222222,\"#7201a8\"],[0.3333333333333333,\"#9c179e\"],[0.4444444444444444,\"#bd3786\"],[0.5555555555555556,\"#d8576b\"],[0.6666666666666666,\"#ed7953\"],[0.7777777777777778,\"#fb9f3a\"],[0.8888888888888888,\"#fdca26\"],[1.0,\"#f0f921\"]],\"type\":\"histogram2d\"}],\"histogram\":[{\"marker\":{\"pattern\":{\"fillmode\":\"overlay\",\"size\":10,\"solidity\":0.2}},\"type\":\"histogram\"}],\"mesh3d\":[{\"colorbar\":{\"outlinewidth\":0,\"ticks\":\"\"},\"type\":\"mesh3d\"}],\"parcoords\":[{\"line\":{\"colorbar\":{\"outlinewidth\":0,\"ticks\":\"\"}},\"type\":\"parcoords\"}],\"pie\":[{\"automargin\":true,\"type\":\"pie\"}],\"scatter3d\":[{\"line\":{\"colorbar\":{\"outlinewidth\":0,\"ticks\":\"\"}},\"marker\":{\"colorbar\":{\"outlinewidth\":0,\"ticks\":\"\"}},\"type\":\"scatter3d\"}],\"scattercarpet\":[{\"marker\":{\"colorbar\":{\"outlinewidth\":0,\"ticks\":\"\"}},\"type\":\"scattercarpet\"}],\"scattergeo\":[{\"marker\":{\"colorbar\":{\"outlinewidth\":0,\"ticks\":\"\"}},\"type\":\"scattergeo\"}],\"scattergl\":[{\"marker\":{\"colorbar\":{\"outlinewidth\":0,\"ticks\":\"\"}},\"type\":\"scattergl\"}],\"scattermapbox\":[{\"marker\":{\"colorbar\":{\"outlinewidth\":0,\"ticks\":\"\"}},\"type\":\"scattermapbox\"}],\"scatterpolargl\":[{\"marker\":{\"colorbar\":{\"outlinewidth\":0,\"ticks\":\"\"}},\"type\":\"scatterpolargl\"}],\"scatterpolar\":[{\"marker\":{\"colorbar\":{\"outlinewidth\":0,\"ticks\":\"\"}},\"type\":\"scatterpolar\"}],\"scatter\":[{\"fillpattern\":{\"fillmode\":\"overlay\",\"size\":10,\"solidity\":0.2},\"type\":\"scatter\"}],\"scatterternary\":[{\"marker\":{\"colorbar\":{\"outlinewidth\":0,\"ticks\":\"\"}},\"type\":\"scatterternary\"}],\"surface\":[{\"colorbar\":{\"outlinewidth\":0,\"ticks\":\"\"},\"colorscale\":[[0.0,\"#0d0887\"],[0.1111111111111111,\"#46039f\"],[0.2222222222222222,\"#7201a8\"],[0.3333333333333333,\"#9c179e\"],[0.4444444444444444,\"#bd3786\"],[0.5555555555555556,\"#d8576b\"],[0.6666666666666666,\"#ed7953\"],[0.7777777777777778,\"#fb9f3a\"],[0.8888888888888888,\"#fdca26\"],[1.0,\"#f0f921\"]],\"type\":\"surface\"}],\"table\":[{\"cells\":{\"fill\":{\"color\":\"#EBF0F8\"},\"line\":{\"color\":\"white\"}},\"header\":{\"fill\":{\"color\":\"#C8D4E3\"},\"line\":{\"color\":\"white\"}},\"type\":\"table\"}]},\"layout\":{\"annotationdefaults\":{\"arrowcolor\":\"#2a3f5f\",\"arrowhead\":0,\"arrowwidth\":1},\"autotypenumbers\":\"strict\",\"coloraxis\":{\"colorbar\":{\"outlinewidth\":0,\"ticks\":\"\"}},\"colorscale\":{\"diverging\":[[0,\"#8e0152\"],[0.1,\"#c51b7d\"],[0.2,\"#de77ae\"],[0.3,\"#f1b6da\"],[0.4,\"#fde0ef\"],[0.5,\"#f7f7f7\"],[0.6,\"#e6f5d0\"],[0.7,\"#b8e186\"],[0.8,\"#7fbc41\"],[0.9,\"#4d9221\"],[1,\"#276419\"]],\"sequential\":[[0.0,\"#0d0887\"],[0.1111111111111111,\"#46039f\"],[0.2222222222222222,\"#7201a8\"],[0.3333333333333333,\"#9c179e\"],[0.4444444444444444,\"#bd3786\"],[0.5555555555555556,\"#d8576b\"],[0.6666666666666666,\"#ed7953\"],[0.7777777777777778,\"#fb9f3a\"],[0.8888888888888888,\"#fdca26\"],[1.0,\"#f0f921\"]],\"sequentialminus\":[[0.0,\"#0d0887\"],[0.1111111111111111,\"#46039f\"],[0.2222222222222222,\"#7201a8\"],[0.3333333333333333,\"#9c179e\"],[0.4444444444444444,\"#bd3786\"],[0.5555555555555556,\"#d8576b\"],[0.6666666666666666,\"#ed7953\"],[0.7777777777777778,\"#fb9f3a\"],[0.8888888888888888,\"#fdca26\"],[1.0,\"#f0f921\"]]},\"colorway\":[\"#636efa\",\"#EF553B\",\"#00cc96\",\"#ab63fa\",\"#FFA15A\",\"#19d3f3\",\"#FF6692\",\"#B6E880\",\"#FF97FF\",\"#FECB52\"],\"font\":{\"color\":\"#2a3f5f\"},\"geo\":{\"bgcolor\":\"white\",\"lakecolor\":\"white\",\"landcolor\":\"#E5ECF6\",\"showlakes\":true,\"showland\":true,\"subunitcolor\":\"white\"},\"hoverlabel\":{\"align\":\"left\"},\"hovermode\":\"closest\",\"mapbox\":{\"style\":\"light\"},\"paper_bgcolor\":\"white\",\"plot_bgcolor\":\"#E5ECF6\",\"polar\":{\"angularaxis\":{\"gridcolor\":\"white\",\"linecolor\":\"white\",\"ticks\":\"\"},\"bgcolor\":\"#E5ECF6\",\"radialaxis\":{\"gridcolor\":\"white\",\"linecolor\":\"white\",\"ticks\":\"\"}},\"scene\":{\"xaxis\":{\"backgroundcolor\":\"#E5ECF6\",\"gridcolor\":\"white\",\"gridwidth\":2,\"linecolor\":\"white\",\"showbackground\":true,\"ticks\":\"\",\"zerolinecolor\":\"white\"},\"yaxis\":{\"backgroundcolor\":\"#E5ECF6\",\"gridcolor\":\"white\",\"gridwidth\":2,\"linecolor\":\"white\",\"showbackground\":true,\"ticks\":\"\",\"zerolinecolor\":\"white\"},\"zaxis\":{\"backgroundcolor\":\"#E5ECF6\",\"gridcolor\":\"white\",\"gridwidth\":2,\"linecolor\":\"white\",\"showbackground\":true,\"ticks\":\"\",\"zerolinecolor\":\"white\"}},\"shapedefaults\":{\"line\":{\"color\":\"#2a3f5f\"}},\"ternary\":{\"aaxis\":{\"gridcolor\":\"white\",\"linecolor\":\"white\",\"ticks\":\"\"},\"baxis\":{\"gridcolor\":\"white\",\"linecolor\":\"white\",\"ticks\":\"\"},\"bgcolor\":\"#E5ECF6\",\"caxis\":{\"gridcolor\":\"white\",\"linecolor\":\"white\",\"ticks\":\"\"}},\"title\":{\"x\":0.05},\"xaxis\":{\"automargin\":true,\"gridcolor\":\"white\",\"linecolor\":\"white\",\"ticks\":\"\",\"title\":{\"standoff\":15},\"zerolinecolor\":\"white\",\"zerolinewidth\":2},\"yaxis\":{\"automargin\":true,\"gridcolor\":\"white\",\"linecolor\":\"white\",\"ticks\":\"\",\"title\":{\"standoff\":15},\"zerolinecolor\":\"white\",\"zerolinewidth\":2}}},\"title\":{\"font\":{\"color\":\"#4D5663\"}},\"xaxis\":{\"gridcolor\":\"#E1E5ED\",\"showgrid\":true,\"tickfont\":{\"color\":\"#4D5663\"},\"title\":{\"font\":{\"color\":\"#4D5663\"},\"text\":\"\"},\"zerolinecolor\":\"#E1E5ED\"},\"yaxis\":{\"gridcolor\":\"#E1E5ED\",\"showgrid\":true,\"tickfont\":{\"color\":\"#4D5663\"},\"title\":{\"font\":{\"color\":\"#4D5663\"},\"text\":\"\"},\"zerolinecolor\":\"#E1E5ED\"}},                        {\"showLink\": true, \"linkText\": \"Export to plot.ly\", \"plotlyServerURL\": \"https://plot.ly\", \"responsive\": true}                    ).then(function(){\n",
       "                            \n",
       "var gd = document.getElementById('d01b5fe0-c34b-47e1-b7a8-d7cdfff7ee6a');\n",
       "var x = new MutationObserver(function (mutations, observer) {{\n",
       "        var display = window.getComputedStyle(gd).display;\n",
       "        if (!display || display === 'none') {{\n",
       "            console.log([gd, 'removed!']);\n",
       "            Plotly.purge(gd);\n",
       "            observer.disconnect();\n",
       "        }}\n",
       "}});\n",
       "\n",
       "// Listen for the removal of the full notebook cells\n",
       "var notebookContainer = gd.closest('#notebook-container');\n",
       "if (notebookContainer) {{\n",
       "    x.observe(notebookContainer, {childList: true});\n",
       "}}\n",
       "\n",
       "// Listen for the clearing of the current output cell\n",
       "var outputEl = gd.closest('.output');\n",
       "if (outputEl) {{\n",
       "    x.observe(outputEl, {childList: true});\n",
       "}}\n",
       "\n",
       "                        })                };                });            </script>        </div>"
      ]
     },
     "metadata": {},
     "output_type": "display_data"
    }
   ],
   "source": [
    "X_scaled_df.iplot(kind='box', orientation='h')"
   ]
  },
  {
   "cell_type": "markdown",
   "metadata": {},
   "source": [
    "__로버스트 스케일링 (Robust Scaling) : 중앙값(median)과 사분위 범위(IQR)를 사용__\n",
    "\n",
    "* 이상치가 많은 데이터에 적합"
   ]
  },
  {
   "cell_type": "code",
   "execution_count": 69,
   "metadata": {},
   "outputs": [],
   "source": [
    "from sklearn.preprocessing import RobustScaler\n",
    "scaler = RobustScaler()\n",
    "X_scaled = scaler.fit_transform(X)"
   ]
  },
  {
   "cell_type": "code",
   "execution_count": 70,
   "metadata": {},
   "outputs": [
    {
     "name": "stdout",
     "output_type": "stream",
     "text": [
      "로버스트 스케일링된 데이터:\n",
      "              특성1           특성2         특성3\n",
      "count  100.000000  1.000000e+02  100.000000\n",
      "mean     0.036925 -1.245341e-01    0.036508\n",
      "std      0.576027  5.994740e-01    0.589238\n",
      "min     -1.039300 -1.214425e+00   -0.948564\n",
      "25%     -0.443626 -6.513867e-01   -0.455399\n",
      "50%      0.000000 -1.006140e-16    0.000000\n",
      "75%      0.556374  3.486133e-01    0.544601\n",
      "max      0.994440  8.237273e-01    1.041927\n"
     ]
    }
   ],
   "source": [
    "X_scaled_df = pd.DataFrame(X_scaled, columns=['특성1', '특성2', '특성3'])\n",
    "print(\"로버스트 스케일링된 데이터:\")\n",
    "print(X_scaled_df.describe())"
   ]
  },
  {
   "cell_type": "code",
   "execution_count": 71,
   "metadata": {},
   "outputs": [
    {
     "data": {
      "application/vnd.plotly.v1+json": {
       "config": {
        "linkText": "Export to plot.ly",
        "plotlyServerURL": "https://plot.ly",
        "showLink": true
       },
       "data": [
        {
         "boxpoints": false,
         "line": {
          "width": 1.3
         },
         "marker": {
          "color": "rgba(255, 153, 51, 1.0)"
         },
         "name": "특성1",
         "orientation": "h",
         "type": "box",
         "x": [
          0.21519127573471047,
          -0.9820458919492085,
          0.5214835739253467,
          -0.09218576119676831,
          0.24694569737337005,
          0.2561439516399838,
          0.3959403817972802,
          -0.8682335083917677,
          -0.4576684481863636,
          0.1184424582445204,
          -0.44961156353905224,
          -0.11544851522725676,
          0.6474686667169554,
          -0.5817387710391339,
          0.23371099891801211,
          -0.6372689441742749,
          -0.5154048935124765,
          0.13705367368927926,
          -0.5373440748275289,
          0.8444385205399748,
          -0.3154648687411053,
          0.8580592042346608,
          0.15183047915636905,
          -0.39328951826443276,
          -0.4326976513559749,
          0.4213245607880606,
          0.7890144801822931,
          -0.24317158089274063,
          0.21154833342523882,
          -0.44163142006697653,
          -0.21955902879664954,
          -0.37570660050491844,
          0.8415100134909265,
          -0.6973152169356539,
          0.7719505141539784,
          -0.6449621043123753,
          0.27815988751702475,
          0.6323405292230839,
          0.9862099070080328,
          -0.39250392709646903,
          0.860079774819543,
          0.7848818594419458,
          -0.5731583927692914,
          -0.17633736594933702,
          -0.5703865591686096,
          0.9120076455136978,
          0.06604084564589334,
          -0.24639598746472016,
          0.31823029773554756,
          -0.33878447636593956,
          -0.5167413565884239,
          0.15656955790425006,
          -0.17910024349276615,
          -0.06674277920066161,
          -1.0393004295717079,
          0.510102371855601,
          0.26367210132749436,
          -0.762960336381006,
          -0.05144390526085845,
          0.5081654214679721,
          0.8607601015180129,
          0.6832685082011583,
          -0.7637706271130293,
          0.6734492878576397,
          -0.5125155731371749,
          0.5488226416022172,
          -0.7846593891819666,
          0.6407620636957173,
          0.858124268706622,
          -0.8581423960465188,
          0.0008323827639353855,
          -0.3457362296518666,
          0.6474387219451367,
          -0.11927599905999801,
          0.6899464051178124,
          0.8242935521408045,
          -0.8339607854889158,
          0.9759695792161469,
          0.8412625517785989,
          -0.0008323827639353855,
          0.24760416250451373,
          -0.0736861961602413,
          0.9944398752667335,
          -0.660258078586011,
          0.7755095779926244,
          0.03743629517261259,
          -0.3841933170277821,
          0.9311684559031879,
          -0.19461548732699877,
          -0.11412000256903741,
          -0.43949492620052033,
          -0.8321616004721163,
          -0.4371324825300643,
          0.47565008474252735,
          -0.6829580474632815,
          -0.7799711242461593,
          0.3800162559992752,
          -0.46015270286313625,
          0.2804300293097612,
          0.5790262514533674
         ]
        },
        {
         "boxpoints": false,
         "line": {
          "width": 1.3
         },
         "marker": {
          "color": "rgba(55, 128, 191, 1.0)"
         },
         "name": "특성2",
         "orientation": "h",
         "type": "box",
         "x": [
          0.21132197731735228,
          -0.8246270453378571,
          0.17000010475922078,
          -1.2144253395371263,
          0.7620548964288494,
          -0.31275919301336436,
          0.28818180892020745,
          0.7602353267254557,
          0.3562974242051755,
          -0.4520704486864569,
          0.29762014875318404,
          0.5980128856327501,
          0.3367977019246717,
          -0.3736744549160863,
          0.5011147826923916,
          -0.2011236425007882,
          0.5638236397311681,
          -0.14763697386435745,
          -1.1202603705719025,
          -0.9113283172086527,
          -0.598480621975454,
          0.16404160384154473,
          0.20168603537320107,
          -0.19517890733544993,
          0.16521763072664625,
          -0.7906418541964735,
          0.28985980184075283,
          0.39669393003738057,
          -0.35037501308996993,
          0.28478268093692494,
          0.07820067176662159,
          -0.9206428317170107,
          -0.010826441641235094,
          -0.13961254153394986,
          0.7836045167643858,
          0.02580195871070138,
          -0.9610910593223796,
          0.715818755211078,
          0.4173805486351341,
          -0.6461263280085684,
          0.46491088715682294,
          0.022635042968747233,
          0.7260930591290901,
          -0.5465120265884247,
          -0.8991576073223625,
          0.5989794234385435,
          -0.8877783186467049,
          0.2192317831999191,
          0.7038035558946656,
          0.12820623299592243,
          0.5813726690191418,
          -0.8945217217574823,
          -1.0375452110178274,
          -0.3916512626434556,
          0.030501695963191754,
          -0.051860446210995656,
          -0.2011925790941223,
          0.3460519632141318,
          0.7207695767269807,
          0.010826441641234894,
          0.6615134358950991,
          0.8237273032734257,
          -1.114362387229579,
          -0.06674676410124905,
          0.023599107084649497,
          -0.4899697111395444,
          0.513971853113351,
          -0.856694565950553,
          0.5915663550372156,
          -0.1804650913236411,
          0.32842108101584633,
          0.03794194049359335,
          0.5628824997006607,
          -1.0534224551175706,
          -0.5464814284835418,
          -0.6419705554634928,
          -0.8268005794713585,
          -1.1700865091754182,
          -0.34353554436262507,
          -0.6087387110456478,
          -0.3073581736207888,
          0.02557470757891639,
          0.31412669377002556,
          -1.1959938461277904,
          -0.5134570017481596,
          -0.8874938715597124,
          0.14040948961997593,
          -0.7151399626722508,
          -0.7921722473139517,
          0.7030459798915896,
          -0.6671677021267239,
          -0.9113691181616839,
          -1.2050921618052188,
          -0.7538329827704819,
          -0.7007934356780033,
          0.36511834473191346,
          0.21361280473630642,
          -0.38393225601792025,
          0.5571444529515094,
          0.7761830392383837
         ]
        },
        {
         "boxpoints": false,
         "line": {
          "width": 1.3
         },
         "marker": {
          "color": "rgba(50, 171, 96, 1.0)"
         },
         "name": "특성3",
         "orientation": "h",
         "type": "box",
         "x": [
          -0.5800654036313841,
          -0.7441235436257261,
          -0.009095659916568537,
          0.5480020139896319,
          0.3716716442422561,
          -0.5057153945971086,
          -0.4404801733772719,
          -0.45292776886674957,
          0.6385858592407627,
          -0.19335035863387864,
          -0.47846998987793454,
          -0.37795491470845183,
          -0.12113432514601952,
          -0.8274609380311054,
          0.8275735671255454,
          0.8333602496345541,
          -0.923142445956206,
          0.889256438689459,
          0.8467961396798962,
          1.0419265790826004,
          0.7368751948023295,
          -0.8488223824110134,
          0.6910952524868405,
          0.7406719507375913,
          -0.11489685418976162,
          0.14109844245602737,
          0.04242041472343083,
          -0.6186025133737569,
          -0.8323643618719716,
          -0.3792053706041863,
          0.7049881960322292,
          0.4661936255719779,
          0.43231573779293925,
          0.7845495138029145,
          0.6072763916262836,
          0.0009166197285790756,
          -0.1342238857590347,
          -0.747088307078493,
          -0.29497247111708474,
          -0.6085692877975537,
          0.5161464015468384,
          -0.2681315350496157,
          -0.3730693479540803,
          0.9411748707006311,
          0.024983264669654552,
          -0.5665560221316629,
          0.8416822297017551,
          0.06664842022389221,
          -0.5354215419566667,
          -0.12749371654602015,
          -0.1530990899766409,
          -0.9385511716360205,
          0.09323171871766271,
          0.5587497959013971,
          0.3452385417079425,
          1.0361623967326636,
          -0.24896290026101767,
          0.7757881864490833,
          0.4312856626712386,
          0.7948209981280706,
          -0.8738006061206121,
          -0.7034735088270992,
          -0.2755371855401607,
          0.525174622683214,
          0.9214107079194898,
          -0.2591695518520228,
          -0.10147884775142413,
          -0.9485637523840469,
          0.20730933441412874,
          0.02040908834221965,
          0.8885630507956798,
          1.0352621983973453,
          0.9355329638762868,
          0.5434668050167382,
          -0.6363698758325735,
          -0.6518216046067686,
          0.46555429807504894,
          -0.2991366532373902,
          0.468308641362645,
          0.4618635128273408,
          -0.15011430423540958,
          0.15549504797110783,
          0.7716071292891938,
          -0.7582203996801492,
          -0.0009166197285790756,
          0.3815232339920826,
          -0.4628142643599056,
          -0.20660742498017812,
          0.39749729667892747,
          -0.1806533477681597,
          0.36336942140914064,
          -0.3534416133404809,
          -0.7181481820676318,
          -0.19930175892859125,
          0.27096704527695076,
          -0.7361287259071434,
          0.07055962427057405,
          -0.7931835290440297,
          -0.8788743756090427,
          0.627099130307974
         ]
        }
       ],
       "layout": {
        "legend": {
         "bgcolor": "#F5F6F9",
         "font": {
          "color": "#4D5663"
         }
        },
        "paper_bgcolor": "#F5F6F9",
        "plot_bgcolor": "#F5F6F9",
        "template": {
         "data": {
          "bar": [
           {
            "error_x": {
             "color": "#2a3f5f"
            },
            "error_y": {
             "color": "#2a3f5f"
            },
            "marker": {
             "line": {
              "color": "#E5ECF6",
              "width": 0.5
             },
             "pattern": {
              "fillmode": "overlay",
              "size": 10,
              "solidity": 0.2
             }
            },
            "type": "bar"
           }
          ],
          "barpolar": [
           {
            "marker": {
             "line": {
              "color": "#E5ECF6",
              "width": 0.5
             },
             "pattern": {
              "fillmode": "overlay",
              "size": 10,
              "solidity": 0.2
             }
            },
            "type": "barpolar"
           }
          ],
          "carpet": [
           {
            "aaxis": {
             "endlinecolor": "#2a3f5f",
             "gridcolor": "white",
             "linecolor": "white",
             "minorgridcolor": "white",
             "startlinecolor": "#2a3f5f"
            },
            "baxis": {
             "endlinecolor": "#2a3f5f",
             "gridcolor": "white",
             "linecolor": "white",
             "minorgridcolor": "white",
             "startlinecolor": "#2a3f5f"
            },
            "type": "carpet"
           }
          ],
          "choropleth": [
           {
            "colorbar": {
             "outlinewidth": 0,
             "ticks": ""
            },
            "type": "choropleth"
           }
          ],
          "contour": [
           {
            "colorbar": {
             "outlinewidth": 0,
             "ticks": ""
            },
            "colorscale": [
             [
              0,
              "#0d0887"
             ],
             [
              0.1111111111111111,
              "#46039f"
             ],
             [
              0.2222222222222222,
              "#7201a8"
             ],
             [
              0.3333333333333333,
              "#9c179e"
             ],
             [
              0.4444444444444444,
              "#bd3786"
             ],
             [
              0.5555555555555556,
              "#d8576b"
             ],
             [
              0.6666666666666666,
              "#ed7953"
             ],
             [
              0.7777777777777778,
              "#fb9f3a"
             ],
             [
              0.8888888888888888,
              "#fdca26"
             ],
             [
              1,
              "#f0f921"
             ]
            ],
            "type": "contour"
           }
          ],
          "contourcarpet": [
           {
            "colorbar": {
             "outlinewidth": 0,
             "ticks": ""
            },
            "type": "contourcarpet"
           }
          ],
          "heatmap": [
           {
            "colorbar": {
             "outlinewidth": 0,
             "ticks": ""
            },
            "colorscale": [
             [
              0,
              "#0d0887"
             ],
             [
              0.1111111111111111,
              "#46039f"
             ],
             [
              0.2222222222222222,
              "#7201a8"
             ],
             [
              0.3333333333333333,
              "#9c179e"
             ],
             [
              0.4444444444444444,
              "#bd3786"
             ],
             [
              0.5555555555555556,
              "#d8576b"
             ],
             [
              0.6666666666666666,
              "#ed7953"
             ],
             [
              0.7777777777777778,
              "#fb9f3a"
             ],
             [
              0.8888888888888888,
              "#fdca26"
             ],
             [
              1,
              "#f0f921"
             ]
            ],
            "type": "heatmap"
           }
          ],
          "heatmapgl": [
           {
            "colorbar": {
             "outlinewidth": 0,
             "ticks": ""
            },
            "colorscale": [
             [
              0,
              "#0d0887"
             ],
             [
              0.1111111111111111,
              "#46039f"
             ],
             [
              0.2222222222222222,
              "#7201a8"
             ],
             [
              0.3333333333333333,
              "#9c179e"
             ],
             [
              0.4444444444444444,
              "#bd3786"
             ],
             [
              0.5555555555555556,
              "#d8576b"
             ],
             [
              0.6666666666666666,
              "#ed7953"
             ],
             [
              0.7777777777777778,
              "#fb9f3a"
             ],
             [
              0.8888888888888888,
              "#fdca26"
             ],
             [
              1,
              "#f0f921"
             ]
            ],
            "type": "heatmapgl"
           }
          ],
          "histogram": [
           {
            "marker": {
             "pattern": {
              "fillmode": "overlay",
              "size": 10,
              "solidity": 0.2
             }
            },
            "type": "histogram"
           }
          ],
          "histogram2d": [
           {
            "colorbar": {
             "outlinewidth": 0,
             "ticks": ""
            },
            "colorscale": [
             [
              0,
              "#0d0887"
             ],
             [
              0.1111111111111111,
              "#46039f"
             ],
             [
              0.2222222222222222,
              "#7201a8"
             ],
             [
              0.3333333333333333,
              "#9c179e"
             ],
             [
              0.4444444444444444,
              "#bd3786"
             ],
             [
              0.5555555555555556,
              "#d8576b"
             ],
             [
              0.6666666666666666,
              "#ed7953"
             ],
             [
              0.7777777777777778,
              "#fb9f3a"
             ],
             [
              0.8888888888888888,
              "#fdca26"
             ],
             [
              1,
              "#f0f921"
             ]
            ],
            "type": "histogram2d"
           }
          ],
          "histogram2dcontour": [
           {
            "colorbar": {
             "outlinewidth": 0,
             "ticks": ""
            },
            "colorscale": [
             [
              0,
              "#0d0887"
             ],
             [
              0.1111111111111111,
              "#46039f"
             ],
             [
              0.2222222222222222,
              "#7201a8"
             ],
             [
              0.3333333333333333,
              "#9c179e"
             ],
             [
              0.4444444444444444,
              "#bd3786"
             ],
             [
              0.5555555555555556,
              "#d8576b"
             ],
             [
              0.6666666666666666,
              "#ed7953"
             ],
             [
              0.7777777777777778,
              "#fb9f3a"
             ],
             [
              0.8888888888888888,
              "#fdca26"
             ],
             [
              1,
              "#f0f921"
             ]
            ],
            "type": "histogram2dcontour"
           }
          ],
          "mesh3d": [
           {
            "colorbar": {
             "outlinewidth": 0,
             "ticks": ""
            },
            "type": "mesh3d"
           }
          ],
          "parcoords": [
           {
            "line": {
             "colorbar": {
              "outlinewidth": 0,
              "ticks": ""
             }
            },
            "type": "parcoords"
           }
          ],
          "pie": [
           {
            "automargin": true,
            "type": "pie"
           }
          ],
          "scatter": [
           {
            "fillpattern": {
             "fillmode": "overlay",
             "size": 10,
             "solidity": 0.2
            },
            "type": "scatter"
           }
          ],
          "scatter3d": [
           {
            "line": {
             "colorbar": {
              "outlinewidth": 0,
              "ticks": ""
             }
            },
            "marker": {
             "colorbar": {
              "outlinewidth": 0,
              "ticks": ""
             }
            },
            "type": "scatter3d"
           }
          ],
          "scattercarpet": [
           {
            "marker": {
             "colorbar": {
              "outlinewidth": 0,
              "ticks": ""
             }
            },
            "type": "scattercarpet"
           }
          ],
          "scattergeo": [
           {
            "marker": {
             "colorbar": {
              "outlinewidth": 0,
              "ticks": ""
             }
            },
            "type": "scattergeo"
           }
          ],
          "scattergl": [
           {
            "marker": {
             "colorbar": {
              "outlinewidth": 0,
              "ticks": ""
             }
            },
            "type": "scattergl"
           }
          ],
          "scattermapbox": [
           {
            "marker": {
             "colorbar": {
              "outlinewidth": 0,
              "ticks": ""
             }
            },
            "type": "scattermapbox"
           }
          ],
          "scatterpolar": [
           {
            "marker": {
             "colorbar": {
              "outlinewidth": 0,
              "ticks": ""
             }
            },
            "type": "scatterpolar"
           }
          ],
          "scatterpolargl": [
           {
            "marker": {
             "colorbar": {
              "outlinewidth": 0,
              "ticks": ""
             }
            },
            "type": "scatterpolargl"
           }
          ],
          "scatterternary": [
           {
            "marker": {
             "colorbar": {
              "outlinewidth": 0,
              "ticks": ""
             }
            },
            "type": "scatterternary"
           }
          ],
          "surface": [
           {
            "colorbar": {
             "outlinewidth": 0,
             "ticks": ""
            },
            "colorscale": [
             [
              0,
              "#0d0887"
             ],
             [
              0.1111111111111111,
              "#46039f"
             ],
             [
              0.2222222222222222,
              "#7201a8"
             ],
             [
              0.3333333333333333,
              "#9c179e"
             ],
             [
              0.4444444444444444,
              "#bd3786"
             ],
             [
              0.5555555555555556,
              "#d8576b"
             ],
             [
              0.6666666666666666,
              "#ed7953"
             ],
             [
              0.7777777777777778,
              "#fb9f3a"
             ],
             [
              0.8888888888888888,
              "#fdca26"
             ],
             [
              1,
              "#f0f921"
             ]
            ],
            "type": "surface"
           }
          ],
          "table": [
           {
            "cells": {
             "fill": {
              "color": "#EBF0F8"
             },
             "line": {
              "color": "white"
             }
            },
            "header": {
             "fill": {
              "color": "#C8D4E3"
             },
             "line": {
              "color": "white"
             }
            },
            "type": "table"
           }
          ]
         },
         "layout": {
          "annotationdefaults": {
           "arrowcolor": "#2a3f5f",
           "arrowhead": 0,
           "arrowwidth": 1
          },
          "autotypenumbers": "strict",
          "coloraxis": {
           "colorbar": {
            "outlinewidth": 0,
            "ticks": ""
           }
          },
          "colorscale": {
           "diverging": [
            [
             0,
             "#8e0152"
            ],
            [
             0.1,
             "#c51b7d"
            ],
            [
             0.2,
             "#de77ae"
            ],
            [
             0.3,
             "#f1b6da"
            ],
            [
             0.4,
             "#fde0ef"
            ],
            [
             0.5,
             "#f7f7f7"
            ],
            [
             0.6,
             "#e6f5d0"
            ],
            [
             0.7,
             "#b8e186"
            ],
            [
             0.8,
             "#7fbc41"
            ],
            [
             0.9,
             "#4d9221"
            ],
            [
             1,
             "#276419"
            ]
           ],
           "sequential": [
            [
             0,
             "#0d0887"
            ],
            [
             0.1111111111111111,
             "#46039f"
            ],
            [
             0.2222222222222222,
             "#7201a8"
            ],
            [
             0.3333333333333333,
             "#9c179e"
            ],
            [
             0.4444444444444444,
             "#bd3786"
            ],
            [
             0.5555555555555556,
             "#d8576b"
            ],
            [
             0.6666666666666666,
             "#ed7953"
            ],
            [
             0.7777777777777778,
             "#fb9f3a"
            ],
            [
             0.8888888888888888,
             "#fdca26"
            ],
            [
             1,
             "#f0f921"
            ]
           ],
           "sequentialminus": [
            [
             0,
             "#0d0887"
            ],
            [
             0.1111111111111111,
             "#46039f"
            ],
            [
             0.2222222222222222,
             "#7201a8"
            ],
            [
             0.3333333333333333,
             "#9c179e"
            ],
            [
             0.4444444444444444,
             "#bd3786"
            ],
            [
             0.5555555555555556,
             "#d8576b"
            ],
            [
             0.6666666666666666,
             "#ed7953"
            ],
            [
             0.7777777777777778,
             "#fb9f3a"
            ],
            [
             0.8888888888888888,
             "#fdca26"
            ],
            [
             1,
             "#f0f921"
            ]
           ]
          },
          "colorway": [
           "#636efa",
           "#EF553B",
           "#00cc96",
           "#ab63fa",
           "#FFA15A",
           "#19d3f3",
           "#FF6692",
           "#B6E880",
           "#FF97FF",
           "#FECB52"
          ],
          "font": {
           "color": "#2a3f5f"
          },
          "geo": {
           "bgcolor": "white",
           "lakecolor": "white",
           "landcolor": "#E5ECF6",
           "showlakes": true,
           "showland": true,
           "subunitcolor": "white"
          },
          "hoverlabel": {
           "align": "left"
          },
          "hovermode": "closest",
          "mapbox": {
           "style": "light"
          },
          "paper_bgcolor": "white",
          "plot_bgcolor": "#E5ECF6",
          "polar": {
           "angularaxis": {
            "gridcolor": "white",
            "linecolor": "white",
            "ticks": ""
           },
           "bgcolor": "#E5ECF6",
           "radialaxis": {
            "gridcolor": "white",
            "linecolor": "white",
            "ticks": ""
           }
          },
          "scene": {
           "xaxis": {
            "backgroundcolor": "#E5ECF6",
            "gridcolor": "white",
            "gridwidth": 2,
            "linecolor": "white",
            "showbackground": true,
            "ticks": "",
            "zerolinecolor": "white"
           },
           "yaxis": {
            "backgroundcolor": "#E5ECF6",
            "gridcolor": "white",
            "gridwidth": 2,
            "linecolor": "white",
            "showbackground": true,
            "ticks": "",
            "zerolinecolor": "white"
           },
           "zaxis": {
            "backgroundcolor": "#E5ECF6",
            "gridcolor": "white",
            "gridwidth": 2,
            "linecolor": "white",
            "showbackground": true,
            "ticks": "",
            "zerolinecolor": "white"
           }
          },
          "shapedefaults": {
           "line": {
            "color": "#2a3f5f"
           }
          },
          "ternary": {
           "aaxis": {
            "gridcolor": "white",
            "linecolor": "white",
            "ticks": ""
           },
           "baxis": {
            "gridcolor": "white",
            "linecolor": "white",
            "ticks": ""
           },
           "bgcolor": "#E5ECF6",
           "caxis": {
            "gridcolor": "white",
            "linecolor": "white",
            "ticks": ""
           }
          },
          "title": {
           "x": 0.05
          },
          "xaxis": {
           "automargin": true,
           "gridcolor": "white",
           "linecolor": "white",
           "ticks": "",
           "title": {
            "standoff": 15
           },
           "zerolinecolor": "white",
           "zerolinewidth": 2
          },
          "yaxis": {
           "automargin": true,
           "gridcolor": "white",
           "linecolor": "white",
           "ticks": "",
           "title": {
            "standoff": 15
           },
           "zerolinecolor": "white",
           "zerolinewidth": 2
          }
         }
        },
        "title": {
         "font": {
          "color": "#4D5663"
         }
        },
        "xaxis": {
         "gridcolor": "#E1E5ED",
         "showgrid": true,
         "tickfont": {
          "color": "#4D5663"
         },
         "title": {
          "font": {
           "color": "#4D5663"
          },
          "text": ""
         },
         "zerolinecolor": "#E1E5ED"
        },
        "yaxis": {
         "gridcolor": "#E1E5ED",
         "showgrid": true,
         "tickfont": {
          "color": "#4D5663"
         },
         "title": {
          "font": {
           "color": "#4D5663"
          },
          "text": ""
         },
         "zerolinecolor": "#E1E5ED"
        }
       }
      },
      "text/html": [
       "<div>                            <div id=\"cbda0863-235f-4b68-93ed-51bd34c92c8f\" class=\"plotly-graph-div\" style=\"height:525px; width:100%;\"></div>            <script type=\"text/javascript\">                require([\"plotly\"], function(Plotly) {                    window.PLOTLYENV=window.PLOTLYENV || {};\n",
       "                    window.PLOTLYENV.BASE_URL='https://plot.ly';                                    if (document.getElementById(\"cbda0863-235f-4b68-93ed-51bd34c92c8f\")) {                    Plotly.newPlot(                        \"cbda0863-235f-4b68-93ed-51bd34c92c8f\",                        [{\"boxpoints\":false,\"line\":{\"width\":1.3},\"marker\":{\"color\":\"rgba(255, 153, 51, 1.0)\"},\"name\":\"\\ud2b9\\uc1311\",\"orientation\":\"h\",\"x\":[0.21519127573471047,-0.9820458919492085,0.5214835739253467,-0.09218576119676831,0.24694569737337005,0.2561439516399838,0.3959403817972802,-0.8682335083917677,-0.4576684481863636,0.1184424582445204,-0.44961156353905224,-0.11544851522725676,0.6474686667169554,-0.5817387710391339,0.23371099891801211,-0.6372689441742749,-0.5154048935124765,0.13705367368927926,-0.5373440748275289,0.8444385205399748,-0.3154648687411053,0.8580592042346608,0.15183047915636905,-0.39328951826443276,-0.4326976513559749,0.4213245607880606,0.7890144801822931,-0.24317158089274063,0.21154833342523882,-0.44163142006697653,-0.21955902879664954,-0.37570660050491844,0.8415100134909265,-0.6973152169356539,0.7719505141539784,-0.6449621043123753,0.27815988751702475,0.6323405292230839,0.9862099070080328,-0.39250392709646903,0.860079774819543,0.7848818594419458,-0.5731583927692914,-0.17633736594933702,-0.5703865591686096,0.9120076455136978,0.06604084564589334,-0.24639598746472016,0.31823029773554756,-0.33878447636593956,-0.5167413565884239,0.15656955790425006,-0.17910024349276615,-0.06674277920066161,-1.0393004295717079,0.510102371855601,0.26367210132749436,-0.762960336381006,-0.05144390526085845,0.5081654214679721,0.8607601015180129,0.6832685082011583,-0.7637706271130293,0.6734492878576397,-0.5125155731371749,0.5488226416022172,-0.7846593891819666,0.6407620636957173,0.858124268706622,-0.8581423960465188,0.0008323827639353855,-0.3457362296518666,0.6474387219451367,-0.11927599905999801,0.6899464051178124,0.8242935521408045,-0.8339607854889158,0.9759695792161469,0.8412625517785989,-0.0008323827639353855,0.24760416250451373,-0.0736861961602413,0.9944398752667335,-0.660258078586011,0.7755095779926244,0.03743629517261259,-0.3841933170277821,0.9311684559031879,-0.19461548732699877,-0.11412000256903741,-0.43949492620052033,-0.8321616004721163,-0.4371324825300643,0.47565008474252735,-0.6829580474632815,-0.7799711242461593,0.3800162559992752,-0.46015270286313625,0.2804300293097612,0.5790262514533674],\"type\":\"box\"},{\"boxpoints\":false,\"line\":{\"width\":1.3},\"marker\":{\"color\":\"rgba(55, 128, 191, 1.0)\"},\"name\":\"\\ud2b9\\uc1312\",\"orientation\":\"h\",\"x\":[0.21132197731735228,-0.8246270453378571,0.17000010475922078,-1.2144253395371263,0.7620548964288494,-0.31275919301336436,0.28818180892020745,0.7602353267254557,0.3562974242051755,-0.4520704486864569,0.29762014875318404,0.5980128856327501,0.3367977019246717,-0.3736744549160863,0.5011147826923916,-0.2011236425007882,0.5638236397311681,-0.14763697386435745,-1.1202603705719025,-0.9113283172086527,-0.598480621975454,0.16404160384154473,0.20168603537320107,-0.19517890733544993,0.16521763072664625,-0.7906418541964735,0.28985980184075283,0.39669393003738057,-0.35037501308996993,0.28478268093692494,0.07820067176662159,-0.9206428317170107,-0.010826441641235094,-0.13961254153394986,0.7836045167643858,0.02580195871070138,-0.9610910593223796,0.715818755211078,0.4173805486351341,-0.6461263280085684,0.46491088715682294,0.022635042968747233,0.7260930591290901,-0.5465120265884247,-0.8991576073223625,0.5989794234385435,-0.8877783186467049,0.2192317831999191,0.7038035558946656,0.12820623299592243,0.5813726690191418,-0.8945217217574823,-1.0375452110178274,-0.3916512626434556,0.030501695963191754,-0.051860446210995656,-0.2011925790941223,0.3460519632141318,0.7207695767269807,0.010826441641234894,0.6615134358950991,0.8237273032734257,-1.114362387229579,-0.06674676410124905,0.023599107084649497,-0.4899697111395444,0.513971853113351,-0.856694565950553,0.5915663550372156,-0.1804650913236411,0.32842108101584633,0.03794194049359335,0.5628824997006607,-1.0534224551175706,-0.5464814284835418,-0.6419705554634928,-0.8268005794713585,-1.1700865091754182,-0.34353554436262507,-0.6087387110456478,-0.3073581736207888,0.02557470757891639,0.31412669377002556,-1.1959938461277904,-0.5134570017481596,-0.8874938715597124,0.14040948961997593,-0.7151399626722508,-0.7921722473139517,0.7030459798915896,-0.6671677021267239,-0.9113691181616839,-1.2050921618052188,-0.7538329827704819,-0.7007934356780033,0.36511834473191346,0.21361280473630642,-0.38393225601792025,0.5571444529515094,0.7761830392383837],\"type\":\"box\"},{\"boxpoints\":false,\"line\":{\"width\":1.3},\"marker\":{\"color\":\"rgba(50, 171, 96, 1.0)\"},\"name\":\"\\ud2b9\\uc1313\",\"orientation\":\"h\",\"x\":[-0.5800654036313841,-0.7441235436257261,-0.009095659916568537,0.5480020139896319,0.3716716442422561,-0.5057153945971086,-0.4404801733772719,-0.45292776886674957,0.6385858592407627,-0.19335035863387864,-0.47846998987793454,-0.37795491470845183,-0.12113432514601952,-0.8274609380311054,0.8275735671255454,0.8333602496345541,-0.923142445956206,0.889256438689459,0.8467961396798962,1.0419265790826004,0.7368751948023295,-0.8488223824110134,0.6910952524868405,0.7406719507375913,-0.11489685418976162,0.14109844245602737,0.04242041472343083,-0.6186025133737569,-0.8323643618719716,-0.3792053706041863,0.7049881960322292,0.4661936255719779,0.43231573779293925,0.7845495138029145,0.6072763916262836,0.0009166197285790756,-0.1342238857590347,-0.747088307078493,-0.29497247111708474,-0.6085692877975537,0.5161464015468384,-0.2681315350496157,-0.3730693479540803,0.9411748707006311,0.024983264669654552,-0.5665560221316629,0.8416822297017551,0.06664842022389221,-0.5354215419566667,-0.12749371654602015,-0.1530990899766409,-0.9385511716360205,0.09323171871766271,0.5587497959013971,0.3452385417079425,1.0361623967326636,-0.24896290026101767,0.7757881864490833,0.4312856626712386,0.7948209981280706,-0.8738006061206121,-0.7034735088270992,-0.2755371855401607,0.525174622683214,0.9214107079194898,-0.2591695518520228,-0.10147884775142413,-0.9485637523840469,0.20730933441412874,0.02040908834221965,0.8885630507956798,1.0352621983973453,0.9355329638762868,0.5434668050167382,-0.6363698758325735,-0.6518216046067686,0.46555429807504894,-0.2991366532373902,0.468308641362645,0.4618635128273408,-0.15011430423540958,0.15549504797110783,0.7716071292891938,-0.7582203996801492,-0.0009166197285790756,0.3815232339920826,-0.4628142643599056,-0.20660742498017812,0.39749729667892747,-0.1806533477681597,0.36336942140914064,-0.3534416133404809,-0.7181481820676318,-0.19930175892859125,0.27096704527695076,-0.7361287259071434,0.07055962427057405,-0.7931835290440297,-0.8788743756090427,0.627099130307974],\"type\":\"box\"}],                        {\"legend\":{\"bgcolor\":\"#F5F6F9\",\"font\":{\"color\":\"#4D5663\"}},\"paper_bgcolor\":\"#F5F6F9\",\"plot_bgcolor\":\"#F5F6F9\",\"template\":{\"data\":{\"barpolar\":[{\"marker\":{\"line\":{\"color\":\"#E5ECF6\",\"width\":0.5},\"pattern\":{\"fillmode\":\"overlay\",\"size\":10,\"solidity\":0.2}},\"type\":\"barpolar\"}],\"bar\":[{\"error_x\":{\"color\":\"#2a3f5f\"},\"error_y\":{\"color\":\"#2a3f5f\"},\"marker\":{\"line\":{\"color\":\"#E5ECF6\",\"width\":0.5},\"pattern\":{\"fillmode\":\"overlay\",\"size\":10,\"solidity\":0.2}},\"type\":\"bar\"}],\"carpet\":[{\"aaxis\":{\"endlinecolor\":\"#2a3f5f\",\"gridcolor\":\"white\",\"linecolor\":\"white\",\"minorgridcolor\":\"white\",\"startlinecolor\":\"#2a3f5f\"},\"baxis\":{\"endlinecolor\":\"#2a3f5f\",\"gridcolor\":\"white\",\"linecolor\":\"white\",\"minorgridcolor\":\"white\",\"startlinecolor\":\"#2a3f5f\"},\"type\":\"carpet\"}],\"choropleth\":[{\"colorbar\":{\"outlinewidth\":0,\"ticks\":\"\"},\"type\":\"choropleth\"}],\"contourcarpet\":[{\"colorbar\":{\"outlinewidth\":0,\"ticks\":\"\"},\"type\":\"contourcarpet\"}],\"contour\":[{\"colorbar\":{\"outlinewidth\":0,\"ticks\":\"\"},\"colorscale\":[[0.0,\"#0d0887\"],[0.1111111111111111,\"#46039f\"],[0.2222222222222222,\"#7201a8\"],[0.3333333333333333,\"#9c179e\"],[0.4444444444444444,\"#bd3786\"],[0.5555555555555556,\"#d8576b\"],[0.6666666666666666,\"#ed7953\"],[0.7777777777777778,\"#fb9f3a\"],[0.8888888888888888,\"#fdca26\"],[1.0,\"#f0f921\"]],\"type\":\"contour\"}],\"heatmapgl\":[{\"colorbar\":{\"outlinewidth\":0,\"ticks\":\"\"},\"colorscale\":[[0.0,\"#0d0887\"],[0.1111111111111111,\"#46039f\"],[0.2222222222222222,\"#7201a8\"],[0.3333333333333333,\"#9c179e\"],[0.4444444444444444,\"#bd3786\"],[0.5555555555555556,\"#d8576b\"],[0.6666666666666666,\"#ed7953\"],[0.7777777777777778,\"#fb9f3a\"],[0.8888888888888888,\"#fdca26\"],[1.0,\"#f0f921\"]],\"type\":\"heatmapgl\"}],\"heatmap\":[{\"colorbar\":{\"outlinewidth\":0,\"ticks\":\"\"},\"colorscale\":[[0.0,\"#0d0887\"],[0.1111111111111111,\"#46039f\"],[0.2222222222222222,\"#7201a8\"],[0.3333333333333333,\"#9c179e\"],[0.4444444444444444,\"#bd3786\"],[0.5555555555555556,\"#d8576b\"],[0.6666666666666666,\"#ed7953\"],[0.7777777777777778,\"#fb9f3a\"],[0.8888888888888888,\"#fdca26\"],[1.0,\"#f0f921\"]],\"type\":\"heatmap\"}],\"histogram2dcontour\":[{\"colorbar\":{\"outlinewidth\":0,\"ticks\":\"\"},\"colorscale\":[[0.0,\"#0d0887\"],[0.1111111111111111,\"#46039f\"],[0.2222222222222222,\"#7201a8\"],[0.3333333333333333,\"#9c179e\"],[0.4444444444444444,\"#bd3786\"],[0.5555555555555556,\"#d8576b\"],[0.6666666666666666,\"#ed7953\"],[0.7777777777777778,\"#fb9f3a\"],[0.8888888888888888,\"#fdca26\"],[1.0,\"#f0f921\"]],\"type\":\"histogram2dcontour\"}],\"histogram2d\":[{\"colorbar\":{\"outlinewidth\":0,\"ticks\":\"\"},\"colorscale\":[[0.0,\"#0d0887\"],[0.1111111111111111,\"#46039f\"],[0.2222222222222222,\"#7201a8\"],[0.3333333333333333,\"#9c179e\"],[0.4444444444444444,\"#bd3786\"],[0.5555555555555556,\"#d8576b\"],[0.6666666666666666,\"#ed7953\"],[0.7777777777777778,\"#fb9f3a\"],[0.8888888888888888,\"#fdca26\"],[1.0,\"#f0f921\"]],\"type\":\"histogram2d\"}],\"histogram\":[{\"marker\":{\"pattern\":{\"fillmode\":\"overlay\",\"size\":10,\"solidity\":0.2}},\"type\":\"histogram\"}],\"mesh3d\":[{\"colorbar\":{\"outlinewidth\":0,\"ticks\":\"\"},\"type\":\"mesh3d\"}],\"parcoords\":[{\"line\":{\"colorbar\":{\"outlinewidth\":0,\"ticks\":\"\"}},\"type\":\"parcoords\"}],\"pie\":[{\"automargin\":true,\"type\":\"pie\"}],\"scatter3d\":[{\"line\":{\"colorbar\":{\"outlinewidth\":0,\"ticks\":\"\"}},\"marker\":{\"colorbar\":{\"outlinewidth\":0,\"ticks\":\"\"}},\"type\":\"scatter3d\"}],\"scattercarpet\":[{\"marker\":{\"colorbar\":{\"outlinewidth\":0,\"ticks\":\"\"}},\"type\":\"scattercarpet\"}],\"scattergeo\":[{\"marker\":{\"colorbar\":{\"outlinewidth\":0,\"ticks\":\"\"}},\"type\":\"scattergeo\"}],\"scattergl\":[{\"marker\":{\"colorbar\":{\"outlinewidth\":0,\"ticks\":\"\"}},\"type\":\"scattergl\"}],\"scattermapbox\":[{\"marker\":{\"colorbar\":{\"outlinewidth\":0,\"ticks\":\"\"}},\"type\":\"scattermapbox\"}],\"scatterpolargl\":[{\"marker\":{\"colorbar\":{\"outlinewidth\":0,\"ticks\":\"\"}},\"type\":\"scatterpolargl\"}],\"scatterpolar\":[{\"marker\":{\"colorbar\":{\"outlinewidth\":0,\"ticks\":\"\"}},\"type\":\"scatterpolar\"}],\"scatter\":[{\"fillpattern\":{\"fillmode\":\"overlay\",\"size\":10,\"solidity\":0.2},\"type\":\"scatter\"}],\"scatterternary\":[{\"marker\":{\"colorbar\":{\"outlinewidth\":0,\"ticks\":\"\"}},\"type\":\"scatterternary\"}],\"surface\":[{\"colorbar\":{\"outlinewidth\":0,\"ticks\":\"\"},\"colorscale\":[[0.0,\"#0d0887\"],[0.1111111111111111,\"#46039f\"],[0.2222222222222222,\"#7201a8\"],[0.3333333333333333,\"#9c179e\"],[0.4444444444444444,\"#bd3786\"],[0.5555555555555556,\"#d8576b\"],[0.6666666666666666,\"#ed7953\"],[0.7777777777777778,\"#fb9f3a\"],[0.8888888888888888,\"#fdca26\"],[1.0,\"#f0f921\"]],\"type\":\"surface\"}],\"table\":[{\"cells\":{\"fill\":{\"color\":\"#EBF0F8\"},\"line\":{\"color\":\"white\"}},\"header\":{\"fill\":{\"color\":\"#C8D4E3\"},\"line\":{\"color\":\"white\"}},\"type\":\"table\"}]},\"layout\":{\"annotationdefaults\":{\"arrowcolor\":\"#2a3f5f\",\"arrowhead\":0,\"arrowwidth\":1},\"autotypenumbers\":\"strict\",\"coloraxis\":{\"colorbar\":{\"outlinewidth\":0,\"ticks\":\"\"}},\"colorscale\":{\"diverging\":[[0,\"#8e0152\"],[0.1,\"#c51b7d\"],[0.2,\"#de77ae\"],[0.3,\"#f1b6da\"],[0.4,\"#fde0ef\"],[0.5,\"#f7f7f7\"],[0.6,\"#e6f5d0\"],[0.7,\"#b8e186\"],[0.8,\"#7fbc41\"],[0.9,\"#4d9221\"],[1,\"#276419\"]],\"sequential\":[[0.0,\"#0d0887\"],[0.1111111111111111,\"#46039f\"],[0.2222222222222222,\"#7201a8\"],[0.3333333333333333,\"#9c179e\"],[0.4444444444444444,\"#bd3786\"],[0.5555555555555556,\"#d8576b\"],[0.6666666666666666,\"#ed7953\"],[0.7777777777777778,\"#fb9f3a\"],[0.8888888888888888,\"#fdca26\"],[1.0,\"#f0f921\"]],\"sequentialminus\":[[0.0,\"#0d0887\"],[0.1111111111111111,\"#46039f\"],[0.2222222222222222,\"#7201a8\"],[0.3333333333333333,\"#9c179e\"],[0.4444444444444444,\"#bd3786\"],[0.5555555555555556,\"#d8576b\"],[0.6666666666666666,\"#ed7953\"],[0.7777777777777778,\"#fb9f3a\"],[0.8888888888888888,\"#fdca26\"],[1.0,\"#f0f921\"]]},\"colorway\":[\"#636efa\",\"#EF553B\",\"#00cc96\",\"#ab63fa\",\"#FFA15A\",\"#19d3f3\",\"#FF6692\",\"#B6E880\",\"#FF97FF\",\"#FECB52\"],\"font\":{\"color\":\"#2a3f5f\"},\"geo\":{\"bgcolor\":\"white\",\"lakecolor\":\"white\",\"landcolor\":\"#E5ECF6\",\"showlakes\":true,\"showland\":true,\"subunitcolor\":\"white\"},\"hoverlabel\":{\"align\":\"left\"},\"hovermode\":\"closest\",\"mapbox\":{\"style\":\"light\"},\"paper_bgcolor\":\"white\",\"plot_bgcolor\":\"#E5ECF6\",\"polar\":{\"angularaxis\":{\"gridcolor\":\"white\",\"linecolor\":\"white\",\"ticks\":\"\"},\"bgcolor\":\"#E5ECF6\",\"radialaxis\":{\"gridcolor\":\"white\",\"linecolor\":\"white\",\"ticks\":\"\"}},\"scene\":{\"xaxis\":{\"backgroundcolor\":\"#E5ECF6\",\"gridcolor\":\"white\",\"gridwidth\":2,\"linecolor\":\"white\",\"showbackground\":true,\"ticks\":\"\",\"zerolinecolor\":\"white\"},\"yaxis\":{\"backgroundcolor\":\"#E5ECF6\",\"gridcolor\":\"white\",\"gridwidth\":2,\"linecolor\":\"white\",\"showbackground\":true,\"ticks\":\"\",\"zerolinecolor\":\"white\"},\"zaxis\":{\"backgroundcolor\":\"#E5ECF6\",\"gridcolor\":\"white\",\"gridwidth\":2,\"linecolor\":\"white\",\"showbackground\":true,\"ticks\":\"\",\"zerolinecolor\":\"white\"}},\"shapedefaults\":{\"line\":{\"color\":\"#2a3f5f\"}},\"ternary\":{\"aaxis\":{\"gridcolor\":\"white\",\"linecolor\":\"white\",\"ticks\":\"\"},\"baxis\":{\"gridcolor\":\"white\",\"linecolor\":\"white\",\"ticks\":\"\"},\"bgcolor\":\"#E5ECF6\",\"caxis\":{\"gridcolor\":\"white\",\"linecolor\":\"white\",\"ticks\":\"\"}},\"title\":{\"x\":0.05},\"xaxis\":{\"automargin\":true,\"gridcolor\":\"white\",\"linecolor\":\"white\",\"ticks\":\"\",\"title\":{\"standoff\":15},\"zerolinecolor\":\"white\",\"zerolinewidth\":2},\"yaxis\":{\"automargin\":true,\"gridcolor\":\"white\",\"linecolor\":\"white\",\"ticks\":\"\",\"title\":{\"standoff\":15},\"zerolinecolor\":\"white\",\"zerolinewidth\":2}}},\"title\":{\"font\":{\"color\":\"#4D5663\"}},\"xaxis\":{\"gridcolor\":\"#E1E5ED\",\"showgrid\":true,\"tickfont\":{\"color\":\"#4D5663\"},\"title\":{\"font\":{\"color\":\"#4D5663\"},\"text\":\"\"},\"zerolinecolor\":\"#E1E5ED\"},\"yaxis\":{\"gridcolor\":\"#E1E5ED\",\"showgrid\":true,\"tickfont\":{\"color\":\"#4D5663\"},\"title\":{\"font\":{\"color\":\"#4D5663\"},\"text\":\"\"},\"zerolinecolor\":\"#E1E5ED\"}},                        {\"showLink\": true, \"linkText\": \"Export to plot.ly\", \"plotlyServerURL\": \"https://plot.ly\", \"responsive\": true}                    ).then(function(){\n",
       "                            \n",
       "var gd = document.getElementById('cbda0863-235f-4b68-93ed-51bd34c92c8f');\n",
       "var x = new MutationObserver(function (mutations, observer) {{\n",
       "        var display = window.getComputedStyle(gd).display;\n",
       "        if (!display || display === 'none') {{\n",
       "            console.log([gd, 'removed!']);\n",
       "            Plotly.purge(gd);\n",
       "            observer.disconnect();\n",
       "        }}\n",
       "}});\n",
       "\n",
       "// Listen for the removal of the full notebook cells\n",
       "var notebookContainer = gd.closest('#notebook-container');\n",
       "if (notebookContainer) {{\n",
       "    x.observe(notebookContainer, {childList: true});\n",
       "}}\n",
       "\n",
       "// Listen for the clearing of the current output cell\n",
       "var outputEl = gd.closest('.output');\n",
       "if (outputEl) {{\n",
       "    x.observe(outputEl, {childList: true});\n",
       "}}\n",
       "\n",
       "                        })                };                });            </script>        </div>"
      ]
     },
     "metadata": {},
     "output_type": "display_data"
    }
   ],
   "source": [
    "X_scaled_df.iplot(kind='box', orientation='h')"
   ]
  },
  {
   "cell_type": "markdown",
   "metadata": {},
   "source": [
    "__로그 변환 (Log Transformation) : 데이터에 로그를 취함__\n",
    "\n",
    "* 지수적으로 증가하는 데이터, 오른쪽으로 치우친 분포"
   ]
  },
  {
   "cell_type": "code",
   "execution_count": 72,
   "metadata": {},
   "outputs": [],
   "source": [
    "import numpy as np\n",
    "X_scaled = np.log1p(X)  # log(1+x) to handle zero values"
   ]
  },
  {
   "cell_type": "code",
   "execution_count": 73,
   "metadata": {},
   "outputs": [
    {
     "name": "stdout",
     "output_type": "stream",
     "text": [
      "로그 변환된 데이터:\n",
      "              특성1         특성2         특성3\n",
      "count  100.000000  100.000000  100.000000\n",
      "mean     3.766916    6.228572    4.995532\n",
      "std      0.679703    0.855960    0.200369\n",
      "min      1.021855    3.175063    4.618844\n",
      "25%      3.396331    5.846826    4.836701\n",
      "50%      3.912421    6.577802    5.002870\n",
      "75%      4.321581    6.822746    5.170993\n",
      "max      4.556214    7.082070    5.303176\n"
     ]
    }
   ],
   "source": [
    "X_scaled_df = pd.DataFrame(X_scaled, columns=['특성1', '특성2', '특성3'])\n",
    "print(\"로그 변환된 데이터:\")\n",
    "print(X_scaled_df.describe())"
   ]
  },
  {
   "cell_type": "code",
   "execution_count": 74,
   "metadata": {},
   "outputs": [
    {
     "data": {
      "application/vnd.plotly.v1+json": {
       "config": {
        "linkText": "Export to plot.ly",
        "plotlyServerURL": "https://plot.ly",
        "showLink": true
       },
       "data": [
        {
         "boxpoints": false,
         "line": {
          "width": 1.3
         },
         "marker": {
          "color": "rgba(255, 153, 51, 1.0)"
         },
         "name": "특성1",
         "orientation": "h",
         "type": "box",
         "x": [
          4.091029939751148,
          1.6828475389573256,
          4.300328585584445,
          3.8249297875921284,
          4.114879827949215,
          4.121683457825008,
          4.2197639912918605,
          2.3565253427756665,
          3.3747340269987793,
          4.01464673662621,
          3.387191044197107,
          3.801586751421416,
          4.375136523640787,
          3.160266433393739,
          4.105008643115222,
          3.047030926372513,
          3.2806139211799556,
          4.029800626618421,
          3.2423909387275893,
          4.481916991677974,
          3.5746014353032702,
          4.488896001903999,
          4.041670970960533,
          3.470190525164089,
          3.4128480242435253,
          4.236585622708638,
          4.453005372410139,
          3.6627022848390047,
          4.088257094446888,
          3.3993783104686024,
          3.6898742444721435,
          3.494751476734548,
          4.480410090635811,
          2.9081752220381993,
          4.443933102872517,
          3.0302810631924415,
          4.137782326363806,
          4.3664437744074975,
          4.552277926895051,
          3.471300860002262,
          4.489927172277497,
          4.450815754324222,
          3.176673676052386,
          3.737775769746037,
          3.1819169114280714,
          4.5160694799622005,
          3.970703086715666,
          3.658933862661194,
          4.166434284440867,
          3.544443125733829,
          3.2783268268255146,
          4.045448267981676,
          3.734781441604319,
          3.8498517498894973,
          1.0218546191161366,
          4.293286675228278,
          4.1272175284934995,
          2.7304261975975295,
          3.8645436841045417,
          4.292083269224569,
          4.490274128496002,
          4.395411319883774,
          2.7280221843310657,
          4.389891112811766,
          3.2855406200455133,
          4.31704422571723,
          2.6639652182514966,
          4.371292176728076,
          4.488929223235219,
          2.399068077097811,
          3.913177062671308,
          3.535273852382997,
          4.375119391557482,
          3.797693311381932,
          4.399148191897894,
          4.471504926908517,
          2.4942038928392556,
          4.547358260797111,
          4.48028265191415,
          3.9116642211474146,
          4.115368413004538,
          3.8431119082903744,
          4.556214306935693,
          2.9961206894207733,
          4.445832128471319,
          3.945874957825322,
          3.4829719758748716,
          4.525545665703562,
          3.717797853329635,
          3.8029346211759987,
          3.402616112102253,
          2.5009333160569036,
          3.4061841719877015,
          4.271662597594872,
          2.9431718254522266,
          2.6787034558077316,
          4.2090650784267245,
          3.370861526514719,
          4.139427693109332,
          4.335192140697486
         ]
        },
        {
         "boxpoints": false,
         "line": {
          "width": 1.3
         },
         "marker": {
          "color": "rgba(55, 128, 191, 1.0)"
         },
         "name": "특성2",
         "orientation": "h",
         "type": "box",
         "x": [
          6.733319147006838,
          5.509480408798705,
          6.704758202986415,
          3.1750634238259674,
          7.051970846074882,
          6.2915350240098356,
          6.784366460051787,
          7.0510688985772125,
          6.827526002300639,
          6.131767988011498,
          6.7904591315163465,
          6.967199386224797,
          6.815359674614523,
          6.22479160350738,
          6.913527056952094,
          6.403366032624801,
          6.9485889325315915,
          6.4528159532517435,
          4.354424827920126,
          5.285235919613469,
          5.93079530720568,
          6.7005716649257225,
          6.726731515921439,
          6.408984451676847,
          6.7013993496767705,
          5.585275129440165,
          6.785452360796563,
          6.852268966927772,
          6.250849001075564,
          6.7821631190976035,
          6.638228449470082,
          5.257858562053661,
          6.569183533848621,
          6.460028250729506,
          7.062591422134013,
          6.5981701138743345,
          5.129424590413547,
          7.028795779805072,
          6.864706438182388,
          5.855600676349694,
          6.892710455701539,
          6.595696833574417,
          7.033992209464091,
          6.006838584683084,
          5.31991469068468,
          6.967720506749743,
          5.351285404000744,
          6.738694456366906,
          7.022684405336371,
          6.675016614633798,
          6.958184764598783,
          5.33281403956361,
          4.829614188960084,
          6.204212344170929,
          6.601829250613226,
          6.535680254262818,
          6.403300694567488,
          6.821152080574472,
          7.031303125505203,
          6.586420309390036,
          7.000872055245733,
          7.082070067456637,
          4.396886448263412,
          6.523243012459522,
          6.596450390873733,
          6.083492437696769,
          6.920816599094956,
          5.432277486429361,
          6.96371669812186,
          6.422756341022341,
          6.810087511472365,
          6.60759486180983,
          6.948071705194508,
          4.754241636951418,
          6.006881696572992,
          5.862389124827096,
          5.504431772253594,
          3.8980236861776234,
          6.258370900143549,
          5.915076763636468,
          6.29724330589216,
          6.59799284012793,
          6.8010260751862335,
          3.540300798239555,
          6.052361155739609,
          5.352057104764918,
          6.683792572679642,
          5.73555825856293,
          5.581982731513458,
          7.022297819611864,
          5.820503946728595,
          5.285117616562154,
          3.376563870724398,
          5.661363779510079,
          5.761726793316441,
          6.832981327434395,
          6.734878911482334,
          6.213100741348981,
          6.944912415313051,
          7.058946519937517
         ]
        },
        {
         "boxpoints": false,
         "line": {
          "width": 1.3
         },
         "marker": {
          "color": "rgba(50, 171, 96, 1.0)"
         },
         "name": "특성3",
         "orientation": "h",
         "type": "box",
         "x": [
          4.785950522410608,
          4.71497738749666,
          4.99980735188307,
          5.171959234296838,
          5.120606353258944,
          4.816527886772802,
          4.842607601995784,
          4.837683532760974,
          5.197349078208159,
          4.9356609622910055,
          4.827502874590555,
          4.866981328537022,
          4.96129474794855,
          4.67689875685732,
          5.248331841041583,
          5.249852617767443,
          4.631313389685815,
          5.2644246356282896,
          5.253374760930793,
          5.303176196635019,
          5.224188482401284,
          4.666900224156474,
          5.211777134551515,
          5.225210932317081,
          4.963478277153658,
          5.049213299752742,
          5.017029862713709,
          4.76972595115724,
          4.674612462660169,
          4.866499649806696,
          5.215559941428341,
          5.1484615764327035,
          5.138566883062561,
          5.236951737477415,
          5.188646022447185,
          5.003177893954799,
          4.956696972228127,
          4.713647307346146,
          4.898438664381625,
          4.773975467000765,
          5.1628749362552275,
          4.908405432547305,
          4.868861040102051,
          5.277772047289762,
          5.011233536723687,
          4.791576383247668,
          5.252035640003632,
          5.025028185772291,
          4.804422785699426,
          4.959063619104064,
          4.950029516122232,
          4.623773992214721,
          5.033731072107508,
          5.17500566589657,
          5.11267576030098,
          5.301740055890805,
          4.9154629506572585,
          5.234618360610067,
          5.1382644906064465,
          5.239680394467599,
          4.6550805842809355,
          4.733037987839942,
          4.905665421576252,
          5.165457914329354,
          5.272711970611115,
          4.9117112610220826,
          4.968159372854367,
          4.618844250388107,
          5.070241273731701,
          5.009707444397881,
          5.264245165451578,
          5.3015155859814245,
          5.276330199810066,
          5.170670951229541,
          4.762156094210355,
          4.75552591102708,
          5.148275751957237,
          4.896883450463443,
          5.149076072846358,
          5.147202326896119,
          4.951086822082271,
          5.053823298759648,
          5.233502910720661,
          4.7086372708342745,
          5.00256159972883,
          5.123546062402946,
          4.833755243301915,
          4.93088300954961,
          5.128294423460908,
          4.940215762872056,
          5.118122246581943,
          4.87637735832329,
          4.7265556650755975,
          4.933518853388675,
          5.090049809563112,
          4.718555305408752,
          5.026313404318456,
          4.692736765630868,
          4.652662521757832,
          5.194164915656188
         ]
        }
       ],
       "layout": {
        "legend": {
         "bgcolor": "#F5F6F9",
         "font": {
          "color": "#4D5663"
         }
        },
        "paper_bgcolor": "#F5F6F9",
        "plot_bgcolor": "#F5F6F9",
        "template": {
         "data": {
          "bar": [
           {
            "error_x": {
             "color": "#2a3f5f"
            },
            "error_y": {
             "color": "#2a3f5f"
            },
            "marker": {
             "line": {
              "color": "#E5ECF6",
              "width": 0.5
             },
             "pattern": {
              "fillmode": "overlay",
              "size": 10,
              "solidity": 0.2
             }
            },
            "type": "bar"
           }
          ],
          "barpolar": [
           {
            "marker": {
             "line": {
              "color": "#E5ECF6",
              "width": 0.5
             },
             "pattern": {
              "fillmode": "overlay",
              "size": 10,
              "solidity": 0.2
             }
            },
            "type": "barpolar"
           }
          ],
          "carpet": [
           {
            "aaxis": {
             "endlinecolor": "#2a3f5f",
             "gridcolor": "white",
             "linecolor": "white",
             "minorgridcolor": "white",
             "startlinecolor": "#2a3f5f"
            },
            "baxis": {
             "endlinecolor": "#2a3f5f",
             "gridcolor": "white",
             "linecolor": "white",
             "minorgridcolor": "white",
             "startlinecolor": "#2a3f5f"
            },
            "type": "carpet"
           }
          ],
          "choropleth": [
           {
            "colorbar": {
             "outlinewidth": 0,
             "ticks": ""
            },
            "type": "choropleth"
           }
          ],
          "contour": [
           {
            "colorbar": {
             "outlinewidth": 0,
             "ticks": ""
            },
            "colorscale": [
             [
              0,
              "#0d0887"
             ],
             [
              0.1111111111111111,
              "#46039f"
             ],
             [
              0.2222222222222222,
              "#7201a8"
             ],
             [
              0.3333333333333333,
              "#9c179e"
             ],
             [
              0.4444444444444444,
              "#bd3786"
             ],
             [
              0.5555555555555556,
              "#d8576b"
             ],
             [
              0.6666666666666666,
              "#ed7953"
             ],
             [
              0.7777777777777778,
              "#fb9f3a"
             ],
             [
              0.8888888888888888,
              "#fdca26"
             ],
             [
              1,
              "#f0f921"
             ]
            ],
            "type": "contour"
           }
          ],
          "contourcarpet": [
           {
            "colorbar": {
             "outlinewidth": 0,
             "ticks": ""
            },
            "type": "contourcarpet"
           }
          ],
          "heatmap": [
           {
            "colorbar": {
             "outlinewidth": 0,
             "ticks": ""
            },
            "colorscale": [
             [
              0,
              "#0d0887"
             ],
             [
              0.1111111111111111,
              "#46039f"
             ],
             [
              0.2222222222222222,
              "#7201a8"
             ],
             [
              0.3333333333333333,
              "#9c179e"
             ],
             [
              0.4444444444444444,
              "#bd3786"
             ],
             [
              0.5555555555555556,
              "#d8576b"
             ],
             [
              0.6666666666666666,
              "#ed7953"
             ],
             [
              0.7777777777777778,
              "#fb9f3a"
             ],
             [
              0.8888888888888888,
              "#fdca26"
             ],
             [
              1,
              "#f0f921"
             ]
            ],
            "type": "heatmap"
           }
          ],
          "heatmapgl": [
           {
            "colorbar": {
             "outlinewidth": 0,
             "ticks": ""
            },
            "colorscale": [
             [
              0,
              "#0d0887"
             ],
             [
              0.1111111111111111,
              "#46039f"
             ],
             [
              0.2222222222222222,
              "#7201a8"
             ],
             [
              0.3333333333333333,
              "#9c179e"
             ],
             [
              0.4444444444444444,
              "#bd3786"
             ],
             [
              0.5555555555555556,
              "#d8576b"
             ],
             [
              0.6666666666666666,
              "#ed7953"
             ],
             [
              0.7777777777777778,
              "#fb9f3a"
             ],
             [
              0.8888888888888888,
              "#fdca26"
             ],
             [
              1,
              "#f0f921"
             ]
            ],
            "type": "heatmapgl"
           }
          ],
          "histogram": [
           {
            "marker": {
             "pattern": {
              "fillmode": "overlay",
              "size": 10,
              "solidity": 0.2
             }
            },
            "type": "histogram"
           }
          ],
          "histogram2d": [
           {
            "colorbar": {
             "outlinewidth": 0,
             "ticks": ""
            },
            "colorscale": [
             [
              0,
              "#0d0887"
             ],
             [
              0.1111111111111111,
              "#46039f"
             ],
             [
              0.2222222222222222,
              "#7201a8"
             ],
             [
              0.3333333333333333,
              "#9c179e"
             ],
             [
              0.4444444444444444,
              "#bd3786"
             ],
             [
              0.5555555555555556,
              "#d8576b"
             ],
             [
              0.6666666666666666,
              "#ed7953"
             ],
             [
              0.7777777777777778,
              "#fb9f3a"
             ],
             [
              0.8888888888888888,
              "#fdca26"
             ],
             [
              1,
              "#f0f921"
             ]
            ],
            "type": "histogram2d"
           }
          ],
          "histogram2dcontour": [
           {
            "colorbar": {
             "outlinewidth": 0,
             "ticks": ""
            },
            "colorscale": [
             [
              0,
              "#0d0887"
             ],
             [
              0.1111111111111111,
              "#46039f"
             ],
             [
              0.2222222222222222,
              "#7201a8"
             ],
             [
              0.3333333333333333,
              "#9c179e"
             ],
             [
              0.4444444444444444,
              "#bd3786"
             ],
             [
              0.5555555555555556,
              "#d8576b"
             ],
             [
              0.6666666666666666,
              "#ed7953"
             ],
             [
              0.7777777777777778,
              "#fb9f3a"
             ],
             [
              0.8888888888888888,
              "#fdca26"
             ],
             [
              1,
              "#f0f921"
             ]
            ],
            "type": "histogram2dcontour"
           }
          ],
          "mesh3d": [
           {
            "colorbar": {
             "outlinewidth": 0,
             "ticks": ""
            },
            "type": "mesh3d"
           }
          ],
          "parcoords": [
           {
            "line": {
             "colorbar": {
              "outlinewidth": 0,
              "ticks": ""
             }
            },
            "type": "parcoords"
           }
          ],
          "pie": [
           {
            "automargin": true,
            "type": "pie"
           }
          ],
          "scatter": [
           {
            "fillpattern": {
             "fillmode": "overlay",
             "size": 10,
             "solidity": 0.2
            },
            "type": "scatter"
           }
          ],
          "scatter3d": [
           {
            "line": {
             "colorbar": {
              "outlinewidth": 0,
              "ticks": ""
             }
            },
            "marker": {
             "colorbar": {
              "outlinewidth": 0,
              "ticks": ""
             }
            },
            "type": "scatter3d"
           }
          ],
          "scattercarpet": [
           {
            "marker": {
             "colorbar": {
              "outlinewidth": 0,
              "ticks": ""
             }
            },
            "type": "scattercarpet"
           }
          ],
          "scattergeo": [
           {
            "marker": {
             "colorbar": {
              "outlinewidth": 0,
              "ticks": ""
             }
            },
            "type": "scattergeo"
           }
          ],
          "scattergl": [
           {
            "marker": {
             "colorbar": {
              "outlinewidth": 0,
              "ticks": ""
             }
            },
            "type": "scattergl"
           }
          ],
          "scattermapbox": [
           {
            "marker": {
             "colorbar": {
              "outlinewidth": 0,
              "ticks": ""
             }
            },
            "type": "scattermapbox"
           }
          ],
          "scatterpolar": [
           {
            "marker": {
             "colorbar": {
              "outlinewidth": 0,
              "ticks": ""
             }
            },
            "type": "scatterpolar"
           }
          ],
          "scatterpolargl": [
           {
            "marker": {
             "colorbar": {
              "outlinewidth": 0,
              "ticks": ""
             }
            },
            "type": "scatterpolargl"
           }
          ],
          "scatterternary": [
           {
            "marker": {
             "colorbar": {
              "outlinewidth": 0,
              "ticks": ""
             }
            },
            "type": "scatterternary"
           }
          ],
          "surface": [
           {
            "colorbar": {
             "outlinewidth": 0,
             "ticks": ""
            },
            "colorscale": [
             [
              0,
              "#0d0887"
             ],
             [
              0.1111111111111111,
              "#46039f"
             ],
             [
              0.2222222222222222,
              "#7201a8"
             ],
             [
              0.3333333333333333,
              "#9c179e"
             ],
             [
              0.4444444444444444,
              "#bd3786"
             ],
             [
              0.5555555555555556,
              "#d8576b"
             ],
             [
              0.6666666666666666,
              "#ed7953"
             ],
             [
              0.7777777777777778,
              "#fb9f3a"
             ],
             [
              0.8888888888888888,
              "#fdca26"
             ],
             [
              1,
              "#f0f921"
             ]
            ],
            "type": "surface"
           }
          ],
          "table": [
           {
            "cells": {
             "fill": {
              "color": "#EBF0F8"
             },
             "line": {
              "color": "white"
             }
            },
            "header": {
             "fill": {
              "color": "#C8D4E3"
             },
             "line": {
              "color": "white"
             }
            },
            "type": "table"
           }
          ]
         },
         "layout": {
          "annotationdefaults": {
           "arrowcolor": "#2a3f5f",
           "arrowhead": 0,
           "arrowwidth": 1
          },
          "autotypenumbers": "strict",
          "coloraxis": {
           "colorbar": {
            "outlinewidth": 0,
            "ticks": ""
           }
          },
          "colorscale": {
           "diverging": [
            [
             0,
             "#8e0152"
            ],
            [
             0.1,
             "#c51b7d"
            ],
            [
             0.2,
             "#de77ae"
            ],
            [
             0.3,
             "#f1b6da"
            ],
            [
             0.4,
             "#fde0ef"
            ],
            [
             0.5,
             "#f7f7f7"
            ],
            [
             0.6,
             "#e6f5d0"
            ],
            [
             0.7,
             "#b8e186"
            ],
            [
             0.8,
             "#7fbc41"
            ],
            [
             0.9,
             "#4d9221"
            ],
            [
             1,
             "#276419"
            ]
           ],
           "sequential": [
            [
             0,
             "#0d0887"
            ],
            [
             0.1111111111111111,
             "#46039f"
            ],
            [
             0.2222222222222222,
             "#7201a8"
            ],
            [
             0.3333333333333333,
             "#9c179e"
            ],
            [
             0.4444444444444444,
             "#bd3786"
            ],
            [
             0.5555555555555556,
             "#d8576b"
            ],
            [
             0.6666666666666666,
             "#ed7953"
            ],
            [
             0.7777777777777778,
             "#fb9f3a"
            ],
            [
             0.8888888888888888,
             "#fdca26"
            ],
            [
             1,
             "#f0f921"
            ]
           ],
           "sequentialminus": [
            [
             0,
             "#0d0887"
            ],
            [
             0.1111111111111111,
             "#46039f"
            ],
            [
             0.2222222222222222,
             "#7201a8"
            ],
            [
             0.3333333333333333,
             "#9c179e"
            ],
            [
             0.4444444444444444,
             "#bd3786"
            ],
            [
             0.5555555555555556,
             "#d8576b"
            ],
            [
             0.6666666666666666,
             "#ed7953"
            ],
            [
             0.7777777777777778,
             "#fb9f3a"
            ],
            [
             0.8888888888888888,
             "#fdca26"
            ],
            [
             1,
             "#f0f921"
            ]
           ]
          },
          "colorway": [
           "#636efa",
           "#EF553B",
           "#00cc96",
           "#ab63fa",
           "#FFA15A",
           "#19d3f3",
           "#FF6692",
           "#B6E880",
           "#FF97FF",
           "#FECB52"
          ],
          "font": {
           "color": "#2a3f5f"
          },
          "geo": {
           "bgcolor": "white",
           "lakecolor": "white",
           "landcolor": "#E5ECF6",
           "showlakes": true,
           "showland": true,
           "subunitcolor": "white"
          },
          "hoverlabel": {
           "align": "left"
          },
          "hovermode": "closest",
          "mapbox": {
           "style": "light"
          },
          "paper_bgcolor": "white",
          "plot_bgcolor": "#E5ECF6",
          "polar": {
           "angularaxis": {
            "gridcolor": "white",
            "linecolor": "white",
            "ticks": ""
           },
           "bgcolor": "#E5ECF6",
           "radialaxis": {
            "gridcolor": "white",
            "linecolor": "white",
            "ticks": ""
           }
          },
          "scene": {
           "xaxis": {
            "backgroundcolor": "#E5ECF6",
            "gridcolor": "white",
            "gridwidth": 2,
            "linecolor": "white",
            "showbackground": true,
            "ticks": "",
            "zerolinecolor": "white"
           },
           "yaxis": {
            "backgroundcolor": "#E5ECF6",
            "gridcolor": "white",
            "gridwidth": 2,
            "linecolor": "white",
            "showbackground": true,
            "ticks": "",
            "zerolinecolor": "white"
           },
           "zaxis": {
            "backgroundcolor": "#E5ECF6",
            "gridcolor": "white",
            "gridwidth": 2,
            "linecolor": "white",
            "showbackground": true,
            "ticks": "",
            "zerolinecolor": "white"
           }
          },
          "shapedefaults": {
           "line": {
            "color": "#2a3f5f"
           }
          },
          "ternary": {
           "aaxis": {
            "gridcolor": "white",
            "linecolor": "white",
            "ticks": ""
           },
           "baxis": {
            "gridcolor": "white",
            "linecolor": "white",
            "ticks": ""
           },
           "bgcolor": "#E5ECF6",
           "caxis": {
            "gridcolor": "white",
            "linecolor": "white",
            "ticks": ""
           }
          },
          "title": {
           "x": 0.05
          },
          "xaxis": {
           "automargin": true,
           "gridcolor": "white",
           "linecolor": "white",
           "ticks": "",
           "title": {
            "standoff": 15
           },
           "zerolinecolor": "white",
           "zerolinewidth": 2
          },
          "yaxis": {
           "automargin": true,
           "gridcolor": "white",
           "linecolor": "white",
           "ticks": "",
           "title": {
            "standoff": 15
           },
           "zerolinecolor": "white",
           "zerolinewidth": 2
          }
         }
        },
        "title": {
         "font": {
          "color": "#4D5663"
         }
        },
        "xaxis": {
         "gridcolor": "#E1E5ED",
         "showgrid": true,
         "tickfont": {
          "color": "#4D5663"
         },
         "title": {
          "font": {
           "color": "#4D5663"
          },
          "text": ""
         },
         "zerolinecolor": "#E1E5ED"
        },
        "yaxis": {
         "gridcolor": "#E1E5ED",
         "showgrid": true,
         "tickfont": {
          "color": "#4D5663"
         },
         "title": {
          "font": {
           "color": "#4D5663"
          },
          "text": ""
         },
         "zerolinecolor": "#E1E5ED"
        }
       }
      },
      "text/html": [
       "<div>                            <div id=\"eed1ab01-5628-4e37-aa6e-43a9f11b4a09\" class=\"plotly-graph-div\" style=\"height:525px; width:100%;\"></div>            <script type=\"text/javascript\">                require([\"plotly\"], function(Plotly) {                    window.PLOTLYENV=window.PLOTLYENV || {};\n",
       "                    window.PLOTLYENV.BASE_URL='https://plot.ly';                                    if (document.getElementById(\"eed1ab01-5628-4e37-aa6e-43a9f11b4a09\")) {                    Plotly.newPlot(                        \"eed1ab01-5628-4e37-aa6e-43a9f11b4a09\",                        [{\"boxpoints\":false,\"line\":{\"width\":1.3},\"marker\":{\"color\":\"rgba(255, 153, 51, 1.0)\"},\"name\":\"\\ud2b9\\uc1311\",\"orientation\":\"h\",\"x\":[4.091029939751148,1.6828475389573256,4.300328585584445,3.8249297875921284,4.114879827949215,4.121683457825008,4.2197639912918605,2.3565253427756665,3.3747340269987793,4.01464673662621,3.387191044197107,3.801586751421416,4.375136523640787,3.160266433393739,4.105008643115222,3.047030926372513,3.2806139211799556,4.029800626618421,3.2423909387275893,4.481916991677974,3.5746014353032702,4.488896001903999,4.041670970960533,3.470190525164089,3.4128480242435253,4.236585622708638,4.453005372410139,3.6627022848390047,4.088257094446888,3.3993783104686024,3.6898742444721435,3.494751476734548,4.480410090635811,2.9081752220381993,4.443933102872517,3.0302810631924415,4.137782326363806,4.3664437744074975,4.552277926895051,3.471300860002262,4.489927172277497,4.450815754324222,3.176673676052386,3.737775769746037,3.1819169114280714,4.5160694799622005,3.970703086715666,3.658933862661194,4.166434284440867,3.544443125733829,3.2783268268255146,4.045448267981676,3.734781441604319,3.8498517498894973,1.0218546191161366,4.293286675228278,4.1272175284934995,2.7304261975975295,3.8645436841045417,4.292083269224569,4.490274128496002,4.395411319883774,2.7280221843310657,4.389891112811766,3.2855406200455133,4.31704422571723,2.6639652182514966,4.371292176728076,4.488929223235219,2.399068077097811,3.913177062671308,3.535273852382997,4.375119391557482,3.797693311381932,4.399148191897894,4.471504926908517,2.4942038928392556,4.547358260797111,4.48028265191415,3.9116642211474146,4.115368413004538,3.8431119082903744,4.556214306935693,2.9961206894207733,4.445832128471319,3.945874957825322,3.4829719758748716,4.525545665703562,3.717797853329635,3.8029346211759987,3.402616112102253,2.5009333160569036,3.4061841719877015,4.271662597594872,2.9431718254522266,2.6787034558077316,4.2090650784267245,3.370861526514719,4.139427693109332,4.335192140697486],\"type\":\"box\"},{\"boxpoints\":false,\"line\":{\"width\":1.3},\"marker\":{\"color\":\"rgba(55, 128, 191, 1.0)\"},\"name\":\"\\ud2b9\\uc1312\",\"orientation\":\"h\",\"x\":[6.733319147006838,5.509480408798705,6.704758202986415,3.1750634238259674,7.051970846074882,6.2915350240098356,6.784366460051787,7.0510688985772125,6.827526002300639,6.131767988011498,6.7904591315163465,6.967199386224797,6.815359674614523,6.22479160350738,6.913527056952094,6.403366032624801,6.9485889325315915,6.4528159532517435,4.354424827920126,5.285235919613469,5.93079530720568,6.7005716649257225,6.726731515921439,6.408984451676847,6.7013993496767705,5.585275129440165,6.785452360796563,6.852268966927772,6.250849001075564,6.7821631190976035,6.638228449470082,5.257858562053661,6.569183533848621,6.460028250729506,7.062591422134013,6.5981701138743345,5.129424590413547,7.028795779805072,6.864706438182388,5.855600676349694,6.892710455701539,6.595696833574417,7.033992209464091,6.006838584683084,5.31991469068468,6.967720506749743,5.351285404000744,6.738694456366906,7.022684405336371,6.675016614633798,6.958184764598783,5.33281403956361,4.829614188960084,6.204212344170929,6.601829250613226,6.535680254262818,6.403300694567488,6.821152080574472,7.031303125505203,6.586420309390036,7.000872055245733,7.082070067456637,4.396886448263412,6.523243012459522,6.596450390873733,6.083492437696769,6.920816599094956,5.432277486429361,6.96371669812186,6.422756341022341,6.810087511472365,6.60759486180983,6.948071705194508,4.754241636951418,6.006881696572992,5.862389124827096,5.504431772253594,3.8980236861776234,6.258370900143549,5.915076763636468,6.29724330589216,6.59799284012793,6.8010260751862335,3.540300798239555,6.052361155739609,5.352057104764918,6.683792572679642,5.73555825856293,5.581982731513458,7.022297819611864,5.820503946728595,5.285117616562154,3.376563870724398,5.661363779510079,5.761726793316441,6.832981327434395,6.734878911482334,6.213100741348981,6.944912415313051,7.058946519937517],\"type\":\"box\"},{\"boxpoints\":false,\"line\":{\"width\":1.3},\"marker\":{\"color\":\"rgba(50, 171, 96, 1.0)\"},\"name\":\"\\ud2b9\\uc1313\",\"orientation\":\"h\",\"x\":[4.785950522410608,4.71497738749666,4.99980735188307,5.171959234296838,5.120606353258944,4.816527886772802,4.842607601995784,4.837683532760974,5.197349078208159,4.9356609622910055,4.827502874590555,4.866981328537022,4.96129474794855,4.67689875685732,5.248331841041583,5.249852617767443,4.631313389685815,5.2644246356282896,5.253374760930793,5.303176196635019,5.224188482401284,4.666900224156474,5.211777134551515,5.225210932317081,4.963478277153658,5.049213299752742,5.017029862713709,4.76972595115724,4.674612462660169,4.866499649806696,5.215559941428341,5.1484615764327035,5.138566883062561,5.236951737477415,5.188646022447185,5.003177893954799,4.956696972228127,4.713647307346146,4.898438664381625,4.773975467000765,5.1628749362552275,4.908405432547305,4.868861040102051,5.277772047289762,5.011233536723687,4.791576383247668,5.252035640003632,5.025028185772291,4.804422785699426,4.959063619104064,4.950029516122232,4.623773992214721,5.033731072107508,5.17500566589657,5.11267576030098,5.301740055890805,4.9154629506572585,5.234618360610067,5.1382644906064465,5.239680394467599,4.6550805842809355,4.733037987839942,4.905665421576252,5.165457914329354,5.272711970611115,4.9117112610220826,4.968159372854367,4.618844250388107,5.070241273731701,5.009707444397881,5.264245165451578,5.3015155859814245,5.276330199810066,5.170670951229541,4.762156094210355,4.75552591102708,5.148275751957237,4.896883450463443,5.149076072846358,5.147202326896119,4.951086822082271,5.053823298759648,5.233502910720661,4.7086372708342745,5.00256159972883,5.123546062402946,4.833755243301915,4.93088300954961,5.128294423460908,4.940215762872056,5.118122246581943,4.87637735832329,4.7265556650755975,4.933518853388675,5.090049809563112,4.718555305408752,5.026313404318456,4.692736765630868,4.652662521757832,5.194164915656188],\"type\":\"box\"}],                        {\"legend\":{\"bgcolor\":\"#F5F6F9\",\"font\":{\"color\":\"#4D5663\"}},\"paper_bgcolor\":\"#F5F6F9\",\"plot_bgcolor\":\"#F5F6F9\",\"template\":{\"data\":{\"barpolar\":[{\"marker\":{\"line\":{\"color\":\"#E5ECF6\",\"width\":0.5},\"pattern\":{\"fillmode\":\"overlay\",\"size\":10,\"solidity\":0.2}},\"type\":\"barpolar\"}],\"bar\":[{\"error_x\":{\"color\":\"#2a3f5f\"},\"error_y\":{\"color\":\"#2a3f5f\"},\"marker\":{\"line\":{\"color\":\"#E5ECF6\",\"width\":0.5},\"pattern\":{\"fillmode\":\"overlay\",\"size\":10,\"solidity\":0.2}},\"type\":\"bar\"}],\"carpet\":[{\"aaxis\":{\"endlinecolor\":\"#2a3f5f\",\"gridcolor\":\"white\",\"linecolor\":\"white\",\"minorgridcolor\":\"white\",\"startlinecolor\":\"#2a3f5f\"},\"baxis\":{\"endlinecolor\":\"#2a3f5f\",\"gridcolor\":\"white\",\"linecolor\":\"white\",\"minorgridcolor\":\"white\",\"startlinecolor\":\"#2a3f5f\"},\"type\":\"carpet\"}],\"choropleth\":[{\"colorbar\":{\"outlinewidth\":0,\"ticks\":\"\"},\"type\":\"choropleth\"}],\"contourcarpet\":[{\"colorbar\":{\"outlinewidth\":0,\"ticks\":\"\"},\"type\":\"contourcarpet\"}],\"contour\":[{\"colorbar\":{\"outlinewidth\":0,\"ticks\":\"\"},\"colorscale\":[[0.0,\"#0d0887\"],[0.1111111111111111,\"#46039f\"],[0.2222222222222222,\"#7201a8\"],[0.3333333333333333,\"#9c179e\"],[0.4444444444444444,\"#bd3786\"],[0.5555555555555556,\"#d8576b\"],[0.6666666666666666,\"#ed7953\"],[0.7777777777777778,\"#fb9f3a\"],[0.8888888888888888,\"#fdca26\"],[1.0,\"#f0f921\"]],\"type\":\"contour\"}],\"heatmapgl\":[{\"colorbar\":{\"outlinewidth\":0,\"ticks\":\"\"},\"colorscale\":[[0.0,\"#0d0887\"],[0.1111111111111111,\"#46039f\"],[0.2222222222222222,\"#7201a8\"],[0.3333333333333333,\"#9c179e\"],[0.4444444444444444,\"#bd3786\"],[0.5555555555555556,\"#d8576b\"],[0.6666666666666666,\"#ed7953\"],[0.7777777777777778,\"#fb9f3a\"],[0.8888888888888888,\"#fdca26\"],[1.0,\"#f0f921\"]],\"type\":\"heatmapgl\"}],\"heatmap\":[{\"colorbar\":{\"outlinewidth\":0,\"ticks\":\"\"},\"colorscale\":[[0.0,\"#0d0887\"],[0.1111111111111111,\"#46039f\"],[0.2222222222222222,\"#7201a8\"],[0.3333333333333333,\"#9c179e\"],[0.4444444444444444,\"#bd3786\"],[0.5555555555555556,\"#d8576b\"],[0.6666666666666666,\"#ed7953\"],[0.7777777777777778,\"#fb9f3a\"],[0.8888888888888888,\"#fdca26\"],[1.0,\"#f0f921\"]],\"type\":\"heatmap\"}],\"histogram2dcontour\":[{\"colorbar\":{\"outlinewidth\":0,\"ticks\":\"\"},\"colorscale\":[[0.0,\"#0d0887\"],[0.1111111111111111,\"#46039f\"],[0.2222222222222222,\"#7201a8\"],[0.3333333333333333,\"#9c179e\"],[0.4444444444444444,\"#bd3786\"],[0.5555555555555556,\"#d8576b\"],[0.6666666666666666,\"#ed7953\"],[0.7777777777777778,\"#fb9f3a\"],[0.8888888888888888,\"#fdca26\"],[1.0,\"#f0f921\"]],\"type\":\"histogram2dcontour\"}],\"histogram2d\":[{\"colorbar\":{\"outlinewidth\":0,\"ticks\":\"\"},\"colorscale\":[[0.0,\"#0d0887\"],[0.1111111111111111,\"#46039f\"],[0.2222222222222222,\"#7201a8\"],[0.3333333333333333,\"#9c179e\"],[0.4444444444444444,\"#bd3786\"],[0.5555555555555556,\"#d8576b\"],[0.6666666666666666,\"#ed7953\"],[0.7777777777777778,\"#fb9f3a\"],[0.8888888888888888,\"#fdca26\"],[1.0,\"#f0f921\"]],\"type\":\"histogram2d\"}],\"histogram\":[{\"marker\":{\"pattern\":{\"fillmode\":\"overlay\",\"size\":10,\"solidity\":0.2}},\"type\":\"histogram\"}],\"mesh3d\":[{\"colorbar\":{\"outlinewidth\":0,\"ticks\":\"\"},\"type\":\"mesh3d\"}],\"parcoords\":[{\"line\":{\"colorbar\":{\"outlinewidth\":0,\"ticks\":\"\"}},\"type\":\"parcoords\"}],\"pie\":[{\"automargin\":true,\"type\":\"pie\"}],\"scatter3d\":[{\"line\":{\"colorbar\":{\"outlinewidth\":0,\"ticks\":\"\"}},\"marker\":{\"colorbar\":{\"outlinewidth\":0,\"ticks\":\"\"}},\"type\":\"scatter3d\"}],\"scattercarpet\":[{\"marker\":{\"colorbar\":{\"outlinewidth\":0,\"ticks\":\"\"}},\"type\":\"scattercarpet\"}],\"scattergeo\":[{\"marker\":{\"colorbar\":{\"outlinewidth\":0,\"ticks\":\"\"}},\"type\":\"scattergeo\"}],\"scattergl\":[{\"marker\":{\"colorbar\":{\"outlinewidth\":0,\"ticks\":\"\"}},\"type\":\"scattergl\"}],\"scattermapbox\":[{\"marker\":{\"colorbar\":{\"outlinewidth\":0,\"ticks\":\"\"}},\"type\":\"scattermapbox\"}],\"scatterpolargl\":[{\"marker\":{\"colorbar\":{\"outlinewidth\":0,\"ticks\":\"\"}},\"type\":\"scatterpolargl\"}],\"scatterpolar\":[{\"marker\":{\"colorbar\":{\"outlinewidth\":0,\"ticks\":\"\"}},\"type\":\"scatterpolar\"}],\"scatter\":[{\"fillpattern\":{\"fillmode\":\"overlay\",\"size\":10,\"solidity\":0.2},\"type\":\"scatter\"}],\"scatterternary\":[{\"marker\":{\"colorbar\":{\"outlinewidth\":0,\"ticks\":\"\"}},\"type\":\"scatterternary\"}],\"surface\":[{\"colorbar\":{\"outlinewidth\":0,\"ticks\":\"\"},\"colorscale\":[[0.0,\"#0d0887\"],[0.1111111111111111,\"#46039f\"],[0.2222222222222222,\"#7201a8\"],[0.3333333333333333,\"#9c179e\"],[0.4444444444444444,\"#bd3786\"],[0.5555555555555556,\"#d8576b\"],[0.6666666666666666,\"#ed7953\"],[0.7777777777777778,\"#fb9f3a\"],[0.8888888888888888,\"#fdca26\"],[1.0,\"#f0f921\"]],\"type\":\"surface\"}],\"table\":[{\"cells\":{\"fill\":{\"color\":\"#EBF0F8\"},\"line\":{\"color\":\"white\"}},\"header\":{\"fill\":{\"color\":\"#C8D4E3\"},\"line\":{\"color\":\"white\"}},\"type\":\"table\"}]},\"layout\":{\"annotationdefaults\":{\"arrowcolor\":\"#2a3f5f\",\"arrowhead\":0,\"arrowwidth\":1},\"autotypenumbers\":\"strict\",\"coloraxis\":{\"colorbar\":{\"outlinewidth\":0,\"ticks\":\"\"}},\"colorscale\":{\"diverging\":[[0,\"#8e0152\"],[0.1,\"#c51b7d\"],[0.2,\"#de77ae\"],[0.3,\"#f1b6da\"],[0.4,\"#fde0ef\"],[0.5,\"#f7f7f7\"],[0.6,\"#e6f5d0\"],[0.7,\"#b8e186\"],[0.8,\"#7fbc41\"],[0.9,\"#4d9221\"],[1,\"#276419\"]],\"sequential\":[[0.0,\"#0d0887\"],[0.1111111111111111,\"#46039f\"],[0.2222222222222222,\"#7201a8\"],[0.3333333333333333,\"#9c179e\"],[0.4444444444444444,\"#bd3786\"],[0.5555555555555556,\"#d8576b\"],[0.6666666666666666,\"#ed7953\"],[0.7777777777777778,\"#fb9f3a\"],[0.8888888888888888,\"#fdca26\"],[1.0,\"#f0f921\"]],\"sequentialminus\":[[0.0,\"#0d0887\"],[0.1111111111111111,\"#46039f\"],[0.2222222222222222,\"#7201a8\"],[0.3333333333333333,\"#9c179e\"],[0.4444444444444444,\"#bd3786\"],[0.5555555555555556,\"#d8576b\"],[0.6666666666666666,\"#ed7953\"],[0.7777777777777778,\"#fb9f3a\"],[0.8888888888888888,\"#fdca26\"],[1.0,\"#f0f921\"]]},\"colorway\":[\"#636efa\",\"#EF553B\",\"#00cc96\",\"#ab63fa\",\"#FFA15A\",\"#19d3f3\",\"#FF6692\",\"#B6E880\",\"#FF97FF\",\"#FECB52\"],\"font\":{\"color\":\"#2a3f5f\"},\"geo\":{\"bgcolor\":\"white\",\"lakecolor\":\"white\",\"landcolor\":\"#E5ECF6\",\"showlakes\":true,\"showland\":true,\"subunitcolor\":\"white\"},\"hoverlabel\":{\"align\":\"left\"},\"hovermode\":\"closest\",\"mapbox\":{\"style\":\"light\"},\"paper_bgcolor\":\"white\",\"plot_bgcolor\":\"#E5ECF6\",\"polar\":{\"angularaxis\":{\"gridcolor\":\"white\",\"linecolor\":\"white\",\"ticks\":\"\"},\"bgcolor\":\"#E5ECF6\",\"radialaxis\":{\"gridcolor\":\"white\",\"linecolor\":\"white\",\"ticks\":\"\"}},\"scene\":{\"xaxis\":{\"backgroundcolor\":\"#E5ECF6\",\"gridcolor\":\"white\",\"gridwidth\":2,\"linecolor\":\"white\",\"showbackground\":true,\"ticks\":\"\",\"zerolinecolor\":\"white\"},\"yaxis\":{\"backgroundcolor\":\"#E5ECF6\",\"gridcolor\":\"white\",\"gridwidth\":2,\"linecolor\":\"white\",\"showbackground\":true,\"ticks\":\"\",\"zerolinecolor\":\"white\"},\"zaxis\":{\"backgroundcolor\":\"#E5ECF6\",\"gridcolor\":\"white\",\"gridwidth\":2,\"linecolor\":\"white\",\"showbackground\":true,\"ticks\":\"\",\"zerolinecolor\":\"white\"}},\"shapedefaults\":{\"line\":{\"color\":\"#2a3f5f\"}},\"ternary\":{\"aaxis\":{\"gridcolor\":\"white\",\"linecolor\":\"white\",\"ticks\":\"\"},\"baxis\":{\"gridcolor\":\"white\",\"linecolor\":\"white\",\"ticks\":\"\"},\"bgcolor\":\"#E5ECF6\",\"caxis\":{\"gridcolor\":\"white\",\"linecolor\":\"white\",\"ticks\":\"\"}},\"title\":{\"x\":0.05},\"xaxis\":{\"automargin\":true,\"gridcolor\":\"white\",\"linecolor\":\"white\",\"ticks\":\"\",\"title\":{\"standoff\":15},\"zerolinecolor\":\"white\",\"zerolinewidth\":2},\"yaxis\":{\"automargin\":true,\"gridcolor\":\"white\",\"linecolor\":\"white\",\"ticks\":\"\",\"title\":{\"standoff\":15},\"zerolinecolor\":\"white\",\"zerolinewidth\":2}}},\"title\":{\"font\":{\"color\":\"#4D5663\"}},\"xaxis\":{\"gridcolor\":\"#E1E5ED\",\"showgrid\":true,\"tickfont\":{\"color\":\"#4D5663\"},\"title\":{\"font\":{\"color\":\"#4D5663\"},\"text\":\"\"},\"zerolinecolor\":\"#E1E5ED\"},\"yaxis\":{\"gridcolor\":\"#E1E5ED\",\"showgrid\":true,\"tickfont\":{\"color\":\"#4D5663\"},\"title\":{\"font\":{\"color\":\"#4D5663\"},\"text\":\"\"},\"zerolinecolor\":\"#E1E5ED\"}},                        {\"showLink\": true, \"linkText\": \"Export to plot.ly\", \"plotlyServerURL\": \"https://plot.ly\", \"responsive\": true}                    ).then(function(){\n",
       "                            \n",
       "var gd = document.getElementById('eed1ab01-5628-4e37-aa6e-43a9f11b4a09');\n",
       "var x = new MutationObserver(function (mutations, observer) {{\n",
       "        var display = window.getComputedStyle(gd).display;\n",
       "        if (!display || display === 'none') {{\n",
       "            console.log([gd, 'removed!']);\n",
       "            Plotly.purge(gd);\n",
       "            observer.disconnect();\n",
       "        }}\n",
       "}});\n",
       "\n",
       "// Listen for the removal of the full notebook cells\n",
       "var notebookContainer = gd.closest('#notebook-container');\n",
       "if (notebookContainer) {{\n",
       "    x.observe(notebookContainer, {childList: true});\n",
       "}}\n",
       "\n",
       "// Listen for the clearing of the current output cell\n",
       "var outputEl = gd.closest('.output');\n",
       "if (outputEl) {{\n",
       "    x.observe(outputEl, {childList: true});\n",
       "}}\n",
       "\n",
       "                        })                };                });            </script>        </div>"
      ]
     },
     "metadata": {},
     "output_type": "display_data"
    }
   ],
   "source": [
    "X_scaled_df.iplot(kind='box', orientation='h')"
   ]
  },
  {
   "cell_type": "markdown",
   "metadata": {},
   "source": [
    "__제곱근 변환 (Square Root Transformation) : 데이터의 제곱근을 취함__\n",
    "\n",
    "* 로그 변환보다 덜 극단적인 변환이 필요한 경우"
   ]
  },
  {
   "cell_type": "code",
   "execution_count": 75,
   "metadata": {},
   "outputs": [],
   "source": [
    "import numpy as np\n",
    "X_scaled = np.sqrt(X)"
   ]
  },
  {
   "cell_type": "code",
   "execution_count": 76,
   "metadata": {},
   "outputs": [
    {
     "name": "stdout",
     "output_type": "stream",
     "text": [
      "제곱근 변환된 데이터:\n",
      "              특성1         특성2         특성3\n",
      "count  100.000000  100.000000  100.000000\n",
      "mean     6.832115   24.206742   12.173974\n",
      "std      2.015227    7.833022    1.214702\n",
      "min      1.333545    4.788354   10.018822\n",
      "25%      5.371646   18.578322   11.182708\n",
      "50%      7.001421   26.794973   12.158934\n",
      "75%      8.620253   30.290347   13.232144\n",
      "max      9.706818   34.488117   14.141221\n"
     ]
    }
   ],
   "source": [
    "X_scaled_df = pd.DataFrame(X_scaled, columns=['특성1', '특성2', '특성3'])\n",
    "print(\"제곱근 변환된 데이터:\")\n",
    "print(X_scaled_df.describe())"
   ]
  },
  {
   "cell_type": "code",
   "execution_count": 77,
   "metadata": {},
   "outputs": [
    {
     "data": {
      "application/vnd.plotly.v1+json": {
       "config": {
        "linkText": "Export to plot.ly",
        "plotlyServerURL": "https://plot.ly",
        "showLink": true
       },
       "data": [
        {
         "boxpoints": false,
         "line": {
          "width": 1.3
         },
         "marker": {
          "color": "rgba(255, 153, 51, 1.0)"
         },
         "name": "특성1",
         "orientation": "h",
         "type": "box",
         "x": [
          7.668210475041735,
          2.0930495394726045,
          8.527837613864694,
          6.695489709351397,
          7.761755851662216,
          7.788643138048349,
          8.186417390364943,
          3.0909893862704454,
          5.311921680932835,
          7.375887732337146,
          5.346282713037002,
          6.616053995017451,
          8.857239169670315,
          4.7515131021189765,
          7.722905456633511,
          4.4780290740818876,
          5.058862830600082,
          7.43301388651373,
          4.959318940401098,
          9.34900957521346,
          5.889006455648725,
          9.382063219955919,
          7.478059731772774,
          5.58057935040772,
          5.417708304233254,
          8.256589572149883,
          9.213287792504287,
          6.1616961387532205,
          7.657405657204311,
          5.380100135630422,
          6.248184649404183,
          5.651734252185639,
          9.341887620234326,
          4.1621307078622936,
          9.171097361023179,
          4.438811849722517,
          7.85262374039609,
          8.81833510044673,
          9.687529082844755,
          5.583777847558529,
          9.38695667418722,
          9.203087691108509,
          4.792379278010553,
          6.40347238598491,
          4.80550655576415,
          9.511852857100576,
          7.212613718927505,
          6.1497913314733115,
          7.967754145998799,
          5.798310164431256,
          5.052855035394672,
          7.492449058163651,
          6.393658700917132,
          6.781304964470026,
          1.3335451834464465,
          8.497451389487084,
          7.8105796909131575,
          3.786743092986716,
          6.832386818451129,
          8.492269175286415,
          9.38860372768306,
          8.948629665345566,
          3.7818766988355508,
          8.92365613131928,
          5.071826853415251,
          8.600390444703116,
          3.6541879458778026,
          8.840013351787208,
          9.382220834035403,
          3.164318001613737,
          7.004122798122073,
          5.770997121107422,
          8.857162331392349,
          6.602892670014933,
          8.965574030488376,
          9.299907927993587,
          3.333479737453298,
          9.663474742094309,
          9.341285559265204,
          6.998718740150413,
          7.76368369605423,
          6.75799400406637,
          9.706817922259766,
          4.359790112631552,
          9.179913103478448,
          7.121907926583558,
          5.617502566214531,
          9.557525950425951,
          6.338266627550652,
          6.620616150152991,
          5.389117935193754,
          3.3457240450368455,
          5.399071897258445,
          8.404798999651314,
          4.239804161389419,
          3.6832316423956564,
          8.142087948199878,
          5.301281899164918,
          7.85919138619475,
          8.679840173043445
         ]
        },
        {
         "boxpoints": false,
         "line": {
          "width": 1.3
         },
         "marker": {
          "color": "rgba(55, 128, 191, 1.0)"
         },
         "name": "특성2",
         "orientation": "h",
         "type": "box",
         "x": [
          28.964296939817114,
          15.68511214091715,
          28.55311941330001,
          4.788354356870347,
          33.97253435305979,
          23.21597678147658,
          29.71396827995709,
          33.95720381132718,
          30.362883947269275,
          21.430099317921286,
          29.80472754058974,
          32.56142569562799,
          30.178541848941418,
          22.452567040690877,
          31.698398489087683,
          24.553498350303318,
          32.2595538028589,
          25.16915699389092,
          8.764818959370592,
          14.014305143796486,
          19.376630027251647,
          28.49333925421826,
          28.86893711575308,
          24.622685658127864,
          28.505147969897887,
          16.29336022383921,
          29.730124143217594,
          30.741258476519917,
          22.74758899002355,
          29.681214227442954,
          27.617762191292627,
          13.822798021731113,
          26.679348539836237,
          25.260227844689375,
          34.15357445460635,
          27.06937898679503,
          12.95839079322682,
          33.58080736865543,
          30.933228186711208,
          18.659704820625425,
          31.369854711868932,
          27.035878911542763,
          33.66824833791334,
          20.12950894644934,
          14.260660815250874,
          32.56991901678801,
          14.487207759955373,
          29.04234046539633,
          33.47826054514914,
          28.13113255003451,
          32.41485306402949,
          14.353386949521806,
          11.142830080435735,
          22.222264678018103,
          27.119017187025488,
          26.235520308461666,
          24.552694893940068,
          30.266167691665167,
          33.62297044857798,
          26.910598227334813,
          33.11479881008087,
          34.48811738215134,
          8.955314710419152,
          26.07264075054296,
          27.04608130901056,
          20.91789091440776,
          31.81425768021137,
          15.08871911006719,
          32.50472091089606,
          24.793100868181224,
          30.09900616332306,
          27.19741513910906,
          32.25120410333282,
          10.727329226676598,
          20.129943932575756,
          18.723329552451183,
          15.645406919695292,
          6.950173435060734,
          22.833467939269124,
          19.224535076092813,
          23.28245603989335,
          27.066976473580795,
          29.962793983197137,
          5.785956130053653,
          20.594067352467263,
          14.492825367019528,
          28.25499857267835,
          17.569456658209788,
          16.266459140969452,
          33.47178428803088,
          18.334173348979068,
          14.013471979986244,
          5.316956134717658,
          16.927507706264677,
          17.801595358301253,
          30.445906539506908,
          28.986921416728844,
          22.321444603999765,
          32.20024988915467,
          34.091334557954305
         ]
        },
        {
         "boxpoints": false,
         "line": {
          "width": 1.3
         },
         "marker": {
          "color": "rgba(50, 171, 96, 1.0)"
         },
         "name": "특성3",
         "orientation": "h",
         "type": "box",
         "x": [
          10.900238346194573,
          10.516952384014418,
          12.140204707533636,
          13.238573704174401,
          12.901041226802105,
          11.069571641182398,
          11.216040469248467,
          11.188240642603336,
          13.408666589616521,
          11.754364934789107,
          11.130978539354611,
          11.354651647376583,
          11.907079343543629,
          10.316800331892013,
          13.756767012379962,
          13.767286749615101,
          10.0821026319743,
          13.868490858309055,
          13.791681204937264,
          14.141220975171825,
          13.590820508675858,
          10.26486801801004,
          13.50628484323303,
          13.597807867016943,
          11.92017786023851,
          12.445873607075026,
          12.245907831928829,
          10.81142593539347,
          10.304902644837648,
          11.351896118906632,
          13.531994888926052,
          13.083058571858134,
          13.018113837596497,
          13.678298946348297,
          13.350120635085512,
          12.160820309139186,
          11.879544672332857,
          10.509897279152806,
          11.536042296528722,
          10.834618547491337,
          13.178235381122576,
          11.594106285643186,
          11.36541117136755,
          13.961835823480618,
          12.210231907770476,
          10.931201181824346,
          13.782401383040277,
          12.29530582008041,
          11.002228058186,
          11.893709946223643,
          11.83972680936788,
          10.043793781106567,
          12.349278626755513,
          13.258869333038945,
          12.849678697778199,
          14.131019449652932,
          11.635395718542286,
          13.662264643611802,
          13.016134082378054,
          13.697073119182074,
          10.203807646712212,
          10.613212343234217,
          11.57811500744342,
          13.195363923987255,
          13.92637527903007,
          11.613428760229956,
          11.948306633060865,
          10.018822196290632,
          12.578264449463108,
          12.200855998378076,
          13.867239953461343,
          14.129425601868919,
          13.95172239650022,
          13.230000278371365,
          10.770232711965594,
          10.734279713971132,
          13.08183595035564,
          11.527007869678945,
          13.08710242014919,
          13.074775621544683,
          11.846032221660712,
          12.47477962827607,
          13.654606159941993,
          10.483364391038581,
          12.157048225410378,
          12.920131756793038,
          11.166111330067967,
          11.726114306724462,
          12.951026681642144,
          11.781358582273752,
          12.884931116734995,
          11.408535219059285,
          10.578563501406949,
          11.74169098946165,
          12.704249321507325,
          10.535953720431875,
          12.303261701307736,
          10.399591024161397,
          10.191359890054605,
          13.387217151395854
         ]
        }
       ],
       "layout": {
        "legend": {
         "bgcolor": "#F5F6F9",
         "font": {
          "color": "#4D5663"
         }
        },
        "paper_bgcolor": "#F5F6F9",
        "plot_bgcolor": "#F5F6F9",
        "template": {
         "data": {
          "bar": [
           {
            "error_x": {
             "color": "#2a3f5f"
            },
            "error_y": {
             "color": "#2a3f5f"
            },
            "marker": {
             "line": {
              "color": "#E5ECF6",
              "width": 0.5
             },
             "pattern": {
              "fillmode": "overlay",
              "size": 10,
              "solidity": 0.2
             }
            },
            "type": "bar"
           }
          ],
          "barpolar": [
           {
            "marker": {
             "line": {
              "color": "#E5ECF6",
              "width": 0.5
             },
             "pattern": {
              "fillmode": "overlay",
              "size": 10,
              "solidity": 0.2
             }
            },
            "type": "barpolar"
           }
          ],
          "carpet": [
           {
            "aaxis": {
             "endlinecolor": "#2a3f5f",
             "gridcolor": "white",
             "linecolor": "white",
             "minorgridcolor": "white",
             "startlinecolor": "#2a3f5f"
            },
            "baxis": {
             "endlinecolor": "#2a3f5f",
             "gridcolor": "white",
             "linecolor": "white",
             "minorgridcolor": "white",
             "startlinecolor": "#2a3f5f"
            },
            "type": "carpet"
           }
          ],
          "choropleth": [
           {
            "colorbar": {
             "outlinewidth": 0,
             "ticks": ""
            },
            "type": "choropleth"
           }
          ],
          "contour": [
           {
            "colorbar": {
             "outlinewidth": 0,
             "ticks": ""
            },
            "colorscale": [
             [
              0,
              "#0d0887"
             ],
             [
              0.1111111111111111,
              "#46039f"
             ],
             [
              0.2222222222222222,
              "#7201a8"
             ],
             [
              0.3333333333333333,
              "#9c179e"
             ],
             [
              0.4444444444444444,
              "#bd3786"
             ],
             [
              0.5555555555555556,
              "#d8576b"
             ],
             [
              0.6666666666666666,
              "#ed7953"
             ],
             [
              0.7777777777777778,
              "#fb9f3a"
             ],
             [
              0.8888888888888888,
              "#fdca26"
             ],
             [
              1,
              "#f0f921"
             ]
            ],
            "type": "contour"
           }
          ],
          "contourcarpet": [
           {
            "colorbar": {
             "outlinewidth": 0,
             "ticks": ""
            },
            "type": "contourcarpet"
           }
          ],
          "heatmap": [
           {
            "colorbar": {
             "outlinewidth": 0,
             "ticks": ""
            },
            "colorscale": [
             [
              0,
              "#0d0887"
             ],
             [
              0.1111111111111111,
              "#46039f"
             ],
             [
              0.2222222222222222,
              "#7201a8"
             ],
             [
              0.3333333333333333,
              "#9c179e"
             ],
             [
              0.4444444444444444,
              "#bd3786"
             ],
             [
              0.5555555555555556,
              "#d8576b"
             ],
             [
              0.6666666666666666,
              "#ed7953"
             ],
             [
              0.7777777777777778,
              "#fb9f3a"
             ],
             [
              0.8888888888888888,
              "#fdca26"
             ],
             [
              1,
              "#f0f921"
             ]
            ],
            "type": "heatmap"
           }
          ],
          "heatmapgl": [
           {
            "colorbar": {
             "outlinewidth": 0,
             "ticks": ""
            },
            "colorscale": [
             [
              0,
              "#0d0887"
             ],
             [
              0.1111111111111111,
              "#46039f"
             ],
             [
              0.2222222222222222,
              "#7201a8"
             ],
             [
              0.3333333333333333,
              "#9c179e"
             ],
             [
              0.4444444444444444,
              "#bd3786"
             ],
             [
              0.5555555555555556,
              "#d8576b"
             ],
             [
              0.6666666666666666,
              "#ed7953"
             ],
             [
              0.7777777777777778,
              "#fb9f3a"
             ],
             [
              0.8888888888888888,
              "#fdca26"
             ],
             [
              1,
              "#f0f921"
             ]
            ],
            "type": "heatmapgl"
           }
          ],
          "histogram": [
           {
            "marker": {
             "pattern": {
              "fillmode": "overlay",
              "size": 10,
              "solidity": 0.2
             }
            },
            "type": "histogram"
           }
          ],
          "histogram2d": [
           {
            "colorbar": {
             "outlinewidth": 0,
             "ticks": ""
            },
            "colorscale": [
             [
              0,
              "#0d0887"
             ],
             [
              0.1111111111111111,
              "#46039f"
             ],
             [
              0.2222222222222222,
              "#7201a8"
             ],
             [
              0.3333333333333333,
              "#9c179e"
             ],
             [
              0.4444444444444444,
              "#bd3786"
             ],
             [
              0.5555555555555556,
              "#d8576b"
             ],
             [
              0.6666666666666666,
              "#ed7953"
             ],
             [
              0.7777777777777778,
              "#fb9f3a"
             ],
             [
              0.8888888888888888,
              "#fdca26"
             ],
             [
              1,
              "#f0f921"
             ]
            ],
            "type": "histogram2d"
           }
          ],
          "histogram2dcontour": [
           {
            "colorbar": {
             "outlinewidth": 0,
             "ticks": ""
            },
            "colorscale": [
             [
              0,
              "#0d0887"
             ],
             [
              0.1111111111111111,
              "#46039f"
             ],
             [
              0.2222222222222222,
              "#7201a8"
             ],
             [
              0.3333333333333333,
              "#9c179e"
             ],
             [
              0.4444444444444444,
              "#bd3786"
             ],
             [
              0.5555555555555556,
              "#d8576b"
             ],
             [
              0.6666666666666666,
              "#ed7953"
             ],
             [
              0.7777777777777778,
              "#fb9f3a"
             ],
             [
              0.8888888888888888,
              "#fdca26"
             ],
             [
              1,
              "#f0f921"
             ]
            ],
            "type": "histogram2dcontour"
           }
          ],
          "mesh3d": [
           {
            "colorbar": {
             "outlinewidth": 0,
             "ticks": ""
            },
            "type": "mesh3d"
           }
          ],
          "parcoords": [
           {
            "line": {
             "colorbar": {
              "outlinewidth": 0,
              "ticks": ""
             }
            },
            "type": "parcoords"
           }
          ],
          "pie": [
           {
            "automargin": true,
            "type": "pie"
           }
          ],
          "scatter": [
           {
            "fillpattern": {
             "fillmode": "overlay",
             "size": 10,
             "solidity": 0.2
            },
            "type": "scatter"
           }
          ],
          "scatter3d": [
           {
            "line": {
             "colorbar": {
              "outlinewidth": 0,
              "ticks": ""
             }
            },
            "marker": {
             "colorbar": {
              "outlinewidth": 0,
              "ticks": ""
             }
            },
            "type": "scatter3d"
           }
          ],
          "scattercarpet": [
           {
            "marker": {
             "colorbar": {
              "outlinewidth": 0,
              "ticks": ""
             }
            },
            "type": "scattercarpet"
           }
          ],
          "scattergeo": [
           {
            "marker": {
             "colorbar": {
              "outlinewidth": 0,
              "ticks": ""
             }
            },
            "type": "scattergeo"
           }
          ],
          "scattergl": [
           {
            "marker": {
             "colorbar": {
              "outlinewidth": 0,
              "ticks": ""
             }
            },
            "type": "scattergl"
           }
          ],
          "scattermapbox": [
           {
            "marker": {
             "colorbar": {
              "outlinewidth": 0,
              "ticks": ""
             }
            },
            "type": "scattermapbox"
           }
          ],
          "scatterpolar": [
           {
            "marker": {
             "colorbar": {
              "outlinewidth": 0,
              "ticks": ""
             }
            },
            "type": "scatterpolar"
           }
          ],
          "scatterpolargl": [
           {
            "marker": {
             "colorbar": {
              "outlinewidth": 0,
              "ticks": ""
             }
            },
            "type": "scatterpolargl"
           }
          ],
          "scatterternary": [
           {
            "marker": {
             "colorbar": {
              "outlinewidth": 0,
              "ticks": ""
             }
            },
            "type": "scatterternary"
           }
          ],
          "surface": [
           {
            "colorbar": {
             "outlinewidth": 0,
             "ticks": ""
            },
            "colorscale": [
             [
              0,
              "#0d0887"
             ],
             [
              0.1111111111111111,
              "#46039f"
             ],
             [
              0.2222222222222222,
              "#7201a8"
             ],
             [
              0.3333333333333333,
              "#9c179e"
             ],
             [
              0.4444444444444444,
              "#bd3786"
             ],
             [
              0.5555555555555556,
              "#d8576b"
             ],
             [
              0.6666666666666666,
              "#ed7953"
             ],
             [
              0.7777777777777778,
              "#fb9f3a"
             ],
             [
              0.8888888888888888,
              "#fdca26"
             ],
             [
              1,
              "#f0f921"
             ]
            ],
            "type": "surface"
           }
          ],
          "table": [
           {
            "cells": {
             "fill": {
              "color": "#EBF0F8"
             },
             "line": {
              "color": "white"
             }
            },
            "header": {
             "fill": {
              "color": "#C8D4E3"
             },
             "line": {
              "color": "white"
             }
            },
            "type": "table"
           }
          ]
         },
         "layout": {
          "annotationdefaults": {
           "arrowcolor": "#2a3f5f",
           "arrowhead": 0,
           "arrowwidth": 1
          },
          "autotypenumbers": "strict",
          "coloraxis": {
           "colorbar": {
            "outlinewidth": 0,
            "ticks": ""
           }
          },
          "colorscale": {
           "diverging": [
            [
             0,
             "#8e0152"
            ],
            [
             0.1,
             "#c51b7d"
            ],
            [
             0.2,
             "#de77ae"
            ],
            [
             0.3,
             "#f1b6da"
            ],
            [
             0.4,
             "#fde0ef"
            ],
            [
             0.5,
             "#f7f7f7"
            ],
            [
             0.6,
             "#e6f5d0"
            ],
            [
             0.7,
             "#b8e186"
            ],
            [
             0.8,
             "#7fbc41"
            ],
            [
             0.9,
             "#4d9221"
            ],
            [
             1,
             "#276419"
            ]
           ],
           "sequential": [
            [
             0,
             "#0d0887"
            ],
            [
             0.1111111111111111,
             "#46039f"
            ],
            [
             0.2222222222222222,
             "#7201a8"
            ],
            [
             0.3333333333333333,
             "#9c179e"
            ],
            [
             0.4444444444444444,
             "#bd3786"
            ],
            [
             0.5555555555555556,
             "#d8576b"
            ],
            [
             0.6666666666666666,
             "#ed7953"
            ],
            [
             0.7777777777777778,
             "#fb9f3a"
            ],
            [
             0.8888888888888888,
             "#fdca26"
            ],
            [
             1,
             "#f0f921"
            ]
           ],
           "sequentialminus": [
            [
             0,
             "#0d0887"
            ],
            [
             0.1111111111111111,
             "#46039f"
            ],
            [
             0.2222222222222222,
             "#7201a8"
            ],
            [
             0.3333333333333333,
             "#9c179e"
            ],
            [
             0.4444444444444444,
             "#bd3786"
            ],
            [
             0.5555555555555556,
             "#d8576b"
            ],
            [
             0.6666666666666666,
             "#ed7953"
            ],
            [
             0.7777777777777778,
             "#fb9f3a"
            ],
            [
             0.8888888888888888,
             "#fdca26"
            ],
            [
             1,
             "#f0f921"
            ]
           ]
          },
          "colorway": [
           "#636efa",
           "#EF553B",
           "#00cc96",
           "#ab63fa",
           "#FFA15A",
           "#19d3f3",
           "#FF6692",
           "#B6E880",
           "#FF97FF",
           "#FECB52"
          ],
          "font": {
           "color": "#2a3f5f"
          },
          "geo": {
           "bgcolor": "white",
           "lakecolor": "white",
           "landcolor": "#E5ECF6",
           "showlakes": true,
           "showland": true,
           "subunitcolor": "white"
          },
          "hoverlabel": {
           "align": "left"
          },
          "hovermode": "closest",
          "mapbox": {
           "style": "light"
          },
          "paper_bgcolor": "white",
          "plot_bgcolor": "#E5ECF6",
          "polar": {
           "angularaxis": {
            "gridcolor": "white",
            "linecolor": "white",
            "ticks": ""
           },
           "bgcolor": "#E5ECF6",
           "radialaxis": {
            "gridcolor": "white",
            "linecolor": "white",
            "ticks": ""
           }
          },
          "scene": {
           "xaxis": {
            "backgroundcolor": "#E5ECF6",
            "gridcolor": "white",
            "gridwidth": 2,
            "linecolor": "white",
            "showbackground": true,
            "ticks": "",
            "zerolinecolor": "white"
           },
           "yaxis": {
            "backgroundcolor": "#E5ECF6",
            "gridcolor": "white",
            "gridwidth": 2,
            "linecolor": "white",
            "showbackground": true,
            "ticks": "",
            "zerolinecolor": "white"
           },
           "zaxis": {
            "backgroundcolor": "#E5ECF6",
            "gridcolor": "white",
            "gridwidth": 2,
            "linecolor": "white",
            "showbackground": true,
            "ticks": "",
            "zerolinecolor": "white"
           }
          },
          "shapedefaults": {
           "line": {
            "color": "#2a3f5f"
           }
          },
          "ternary": {
           "aaxis": {
            "gridcolor": "white",
            "linecolor": "white",
            "ticks": ""
           },
           "baxis": {
            "gridcolor": "white",
            "linecolor": "white",
            "ticks": ""
           },
           "bgcolor": "#E5ECF6",
           "caxis": {
            "gridcolor": "white",
            "linecolor": "white",
            "ticks": ""
           }
          },
          "title": {
           "x": 0.05
          },
          "xaxis": {
           "automargin": true,
           "gridcolor": "white",
           "linecolor": "white",
           "ticks": "",
           "title": {
            "standoff": 15
           },
           "zerolinecolor": "white",
           "zerolinewidth": 2
          },
          "yaxis": {
           "automargin": true,
           "gridcolor": "white",
           "linecolor": "white",
           "ticks": "",
           "title": {
            "standoff": 15
           },
           "zerolinecolor": "white",
           "zerolinewidth": 2
          }
         }
        },
        "title": {
         "font": {
          "color": "#4D5663"
         }
        },
        "xaxis": {
         "gridcolor": "#E1E5ED",
         "showgrid": true,
         "tickfont": {
          "color": "#4D5663"
         },
         "title": {
          "font": {
           "color": "#4D5663"
          },
          "text": ""
         },
         "zerolinecolor": "#E1E5ED"
        },
        "yaxis": {
         "gridcolor": "#E1E5ED",
         "showgrid": true,
         "tickfont": {
          "color": "#4D5663"
         },
         "title": {
          "font": {
           "color": "#4D5663"
          },
          "text": ""
         },
         "zerolinecolor": "#E1E5ED"
        }
       }
      },
      "text/html": [
       "<div>                            <div id=\"78877271-afdc-43dd-bd0b-a87ded879dc2\" class=\"plotly-graph-div\" style=\"height:525px; width:100%;\"></div>            <script type=\"text/javascript\">                require([\"plotly\"], function(Plotly) {                    window.PLOTLYENV=window.PLOTLYENV || {};\n",
       "                    window.PLOTLYENV.BASE_URL='https://plot.ly';                                    if (document.getElementById(\"78877271-afdc-43dd-bd0b-a87ded879dc2\")) {                    Plotly.newPlot(                        \"78877271-afdc-43dd-bd0b-a87ded879dc2\",                        [{\"boxpoints\":false,\"line\":{\"width\":1.3},\"marker\":{\"color\":\"rgba(255, 153, 51, 1.0)\"},\"name\":\"\\ud2b9\\uc1311\",\"orientation\":\"h\",\"x\":[7.668210475041735,2.0930495394726045,8.527837613864694,6.695489709351397,7.761755851662216,7.788643138048349,8.186417390364943,3.0909893862704454,5.311921680932835,7.375887732337146,5.346282713037002,6.616053995017451,8.857239169670315,4.7515131021189765,7.722905456633511,4.4780290740818876,5.058862830600082,7.43301388651373,4.959318940401098,9.34900957521346,5.889006455648725,9.382063219955919,7.478059731772774,5.58057935040772,5.417708304233254,8.256589572149883,9.213287792504287,6.1616961387532205,7.657405657204311,5.380100135630422,6.248184649404183,5.651734252185639,9.341887620234326,4.1621307078622936,9.171097361023179,4.438811849722517,7.85262374039609,8.81833510044673,9.687529082844755,5.583777847558529,9.38695667418722,9.203087691108509,4.792379278010553,6.40347238598491,4.80550655576415,9.511852857100576,7.212613718927505,6.1497913314733115,7.967754145998799,5.798310164431256,5.052855035394672,7.492449058163651,6.393658700917132,6.781304964470026,1.3335451834464465,8.497451389487084,7.8105796909131575,3.786743092986716,6.832386818451129,8.492269175286415,9.38860372768306,8.948629665345566,3.7818766988355508,8.92365613131928,5.071826853415251,8.600390444703116,3.6541879458778026,8.840013351787208,9.382220834035403,3.164318001613737,7.004122798122073,5.770997121107422,8.857162331392349,6.602892670014933,8.965574030488376,9.299907927993587,3.333479737453298,9.663474742094309,9.341285559265204,6.998718740150413,7.76368369605423,6.75799400406637,9.706817922259766,4.359790112631552,9.179913103478448,7.121907926583558,5.617502566214531,9.557525950425951,6.338266627550652,6.620616150152991,5.389117935193754,3.3457240450368455,5.399071897258445,8.404798999651314,4.239804161389419,3.6832316423956564,8.142087948199878,5.301281899164918,7.85919138619475,8.679840173043445],\"type\":\"box\"},{\"boxpoints\":false,\"line\":{\"width\":1.3},\"marker\":{\"color\":\"rgba(55, 128, 191, 1.0)\"},\"name\":\"\\ud2b9\\uc1312\",\"orientation\":\"h\",\"x\":[28.964296939817114,15.68511214091715,28.55311941330001,4.788354356870347,33.97253435305979,23.21597678147658,29.71396827995709,33.95720381132718,30.362883947269275,21.430099317921286,29.80472754058974,32.56142569562799,30.178541848941418,22.452567040690877,31.698398489087683,24.553498350303318,32.2595538028589,25.16915699389092,8.764818959370592,14.014305143796486,19.376630027251647,28.49333925421826,28.86893711575308,24.622685658127864,28.505147969897887,16.29336022383921,29.730124143217594,30.741258476519917,22.74758899002355,29.681214227442954,27.617762191292627,13.822798021731113,26.679348539836237,25.260227844689375,34.15357445460635,27.06937898679503,12.95839079322682,33.58080736865543,30.933228186711208,18.659704820625425,31.369854711868932,27.035878911542763,33.66824833791334,20.12950894644934,14.260660815250874,32.56991901678801,14.487207759955373,29.04234046539633,33.47826054514914,28.13113255003451,32.41485306402949,14.353386949521806,11.142830080435735,22.222264678018103,27.119017187025488,26.235520308461666,24.552694893940068,30.266167691665167,33.62297044857798,26.910598227334813,33.11479881008087,34.48811738215134,8.955314710419152,26.07264075054296,27.04608130901056,20.91789091440776,31.81425768021137,15.08871911006719,32.50472091089606,24.793100868181224,30.09900616332306,27.19741513910906,32.25120410333282,10.727329226676598,20.129943932575756,18.723329552451183,15.645406919695292,6.950173435060734,22.833467939269124,19.224535076092813,23.28245603989335,27.066976473580795,29.962793983197137,5.785956130053653,20.594067352467263,14.492825367019528,28.25499857267835,17.569456658209788,16.266459140969452,33.47178428803088,18.334173348979068,14.013471979986244,5.316956134717658,16.927507706264677,17.801595358301253,30.445906539506908,28.986921416728844,22.321444603999765,32.20024988915467,34.091334557954305],\"type\":\"box\"},{\"boxpoints\":false,\"line\":{\"width\":1.3},\"marker\":{\"color\":\"rgba(50, 171, 96, 1.0)\"},\"name\":\"\\ud2b9\\uc1313\",\"orientation\":\"h\",\"x\":[10.900238346194573,10.516952384014418,12.140204707533636,13.238573704174401,12.901041226802105,11.069571641182398,11.216040469248467,11.188240642603336,13.408666589616521,11.754364934789107,11.130978539354611,11.354651647376583,11.907079343543629,10.316800331892013,13.756767012379962,13.767286749615101,10.0821026319743,13.868490858309055,13.791681204937264,14.141220975171825,13.590820508675858,10.26486801801004,13.50628484323303,13.597807867016943,11.92017786023851,12.445873607075026,12.245907831928829,10.81142593539347,10.304902644837648,11.351896118906632,13.531994888926052,13.083058571858134,13.018113837596497,13.678298946348297,13.350120635085512,12.160820309139186,11.879544672332857,10.509897279152806,11.536042296528722,10.834618547491337,13.178235381122576,11.594106285643186,11.36541117136755,13.961835823480618,12.210231907770476,10.931201181824346,13.782401383040277,12.29530582008041,11.002228058186,11.893709946223643,11.83972680936788,10.043793781106567,12.349278626755513,13.258869333038945,12.849678697778199,14.131019449652932,11.635395718542286,13.662264643611802,13.016134082378054,13.697073119182074,10.203807646712212,10.613212343234217,11.57811500744342,13.195363923987255,13.92637527903007,11.613428760229956,11.948306633060865,10.018822196290632,12.578264449463108,12.200855998378076,13.867239953461343,14.129425601868919,13.95172239650022,13.230000278371365,10.770232711965594,10.734279713971132,13.08183595035564,11.527007869678945,13.08710242014919,13.074775621544683,11.846032221660712,12.47477962827607,13.654606159941993,10.483364391038581,12.157048225410378,12.920131756793038,11.166111330067967,11.726114306724462,12.951026681642144,11.781358582273752,12.884931116734995,11.408535219059285,10.578563501406949,11.74169098946165,12.704249321507325,10.535953720431875,12.303261701307736,10.399591024161397,10.191359890054605,13.387217151395854],\"type\":\"box\"}],                        {\"legend\":{\"bgcolor\":\"#F5F6F9\",\"font\":{\"color\":\"#4D5663\"}},\"paper_bgcolor\":\"#F5F6F9\",\"plot_bgcolor\":\"#F5F6F9\",\"template\":{\"data\":{\"barpolar\":[{\"marker\":{\"line\":{\"color\":\"#E5ECF6\",\"width\":0.5},\"pattern\":{\"fillmode\":\"overlay\",\"size\":10,\"solidity\":0.2}},\"type\":\"barpolar\"}],\"bar\":[{\"error_x\":{\"color\":\"#2a3f5f\"},\"error_y\":{\"color\":\"#2a3f5f\"},\"marker\":{\"line\":{\"color\":\"#E5ECF6\",\"width\":0.5},\"pattern\":{\"fillmode\":\"overlay\",\"size\":10,\"solidity\":0.2}},\"type\":\"bar\"}],\"carpet\":[{\"aaxis\":{\"endlinecolor\":\"#2a3f5f\",\"gridcolor\":\"white\",\"linecolor\":\"white\",\"minorgridcolor\":\"white\",\"startlinecolor\":\"#2a3f5f\"},\"baxis\":{\"endlinecolor\":\"#2a3f5f\",\"gridcolor\":\"white\",\"linecolor\":\"white\",\"minorgridcolor\":\"white\",\"startlinecolor\":\"#2a3f5f\"},\"type\":\"carpet\"}],\"choropleth\":[{\"colorbar\":{\"outlinewidth\":0,\"ticks\":\"\"},\"type\":\"choropleth\"}],\"contourcarpet\":[{\"colorbar\":{\"outlinewidth\":0,\"ticks\":\"\"},\"type\":\"contourcarpet\"}],\"contour\":[{\"colorbar\":{\"outlinewidth\":0,\"ticks\":\"\"},\"colorscale\":[[0.0,\"#0d0887\"],[0.1111111111111111,\"#46039f\"],[0.2222222222222222,\"#7201a8\"],[0.3333333333333333,\"#9c179e\"],[0.4444444444444444,\"#bd3786\"],[0.5555555555555556,\"#d8576b\"],[0.6666666666666666,\"#ed7953\"],[0.7777777777777778,\"#fb9f3a\"],[0.8888888888888888,\"#fdca26\"],[1.0,\"#f0f921\"]],\"type\":\"contour\"}],\"heatmapgl\":[{\"colorbar\":{\"outlinewidth\":0,\"ticks\":\"\"},\"colorscale\":[[0.0,\"#0d0887\"],[0.1111111111111111,\"#46039f\"],[0.2222222222222222,\"#7201a8\"],[0.3333333333333333,\"#9c179e\"],[0.4444444444444444,\"#bd3786\"],[0.5555555555555556,\"#d8576b\"],[0.6666666666666666,\"#ed7953\"],[0.7777777777777778,\"#fb9f3a\"],[0.8888888888888888,\"#fdca26\"],[1.0,\"#f0f921\"]],\"type\":\"heatmapgl\"}],\"heatmap\":[{\"colorbar\":{\"outlinewidth\":0,\"ticks\":\"\"},\"colorscale\":[[0.0,\"#0d0887\"],[0.1111111111111111,\"#46039f\"],[0.2222222222222222,\"#7201a8\"],[0.3333333333333333,\"#9c179e\"],[0.4444444444444444,\"#bd3786\"],[0.5555555555555556,\"#d8576b\"],[0.6666666666666666,\"#ed7953\"],[0.7777777777777778,\"#fb9f3a\"],[0.8888888888888888,\"#fdca26\"],[1.0,\"#f0f921\"]],\"type\":\"heatmap\"}],\"histogram2dcontour\":[{\"colorbar\":{\"outlinewidth\":0,\"ticks\":\"\"},\"colorscale\":[[0.0,\"#0d0887\"],[0.1111111111111111,\"#46039f\"],[0.2222222222222222,\"#7201a8\"],[0.3333333333333333,\"#9c179e\"],[0.4444444444444444,\"#bd3786\"],[0.5555555555555556,\"#d8576b\"],[0.6666666666666666,\"#ed7953\"],[0.7777777777777778,\"#fb9f3a\"],[0.8888888888888888,\"#fdca26\"],[1.0,\"#f0f921\"]],\"type\":\"histogram2dcontour\"}],\"histogram2d\":[{\"colorbar\":{\"outlinewidth\":0,\"ticks\":\"\"},\"colorscale\":[[0.0,\"#0d0887\"],[0.1111111111111111,\"#46039f\"],[0.2222222222222222,\"#7201a8\"],[0.3333333333333333,\"#9c179e\"],[0.4444444444444444,\"#bd3786\"],[0.5555555555555556,\"#d8576b\"],[0.6666666666666666,\"#ed7953\"],[0.7777777777777778,\"#fb9f3a\"],[0.8888888888888888,\"#fdca26\"],[1.0,\"#f0f921\"]],\"type\":\"histogram2d\"}],\"histogram\":[{\"marker\":{\"pattern\":{\"fillmode\":\"overlay\",\"size\":10,\"solidity\":0.2}},\"type\":\"histogram\"}],\"mesh3d\":[{\"colorbar\":{\"outlinewidth\":0,\"ticks\":\"\"},\"type\":\"mesh3d\"}],\"parcoords\":[{\"line\":{\"colorbar\":{\"outlinewidth\":0,\"ticks\":\"\"}},\"type\":\"parcoords\"}],\"pie\":[{\"automargin\":true,\"type\":\"pie\"}],\"scatter3d\":[{\"line\":{\"colorbar\":{\"outlinewidth\":0,\"ticks\":\"\"}},\"marker\":{\"colorbar\":{\"outlinewidth\":0,\"ticks\":\"\"}},\"type\":\"scatter3d\"}],\"scattercarpet\":[{\"marker\":{\"colorbar\":{\"outlinewidth\":0,\"ticks\":\"\"}},\"type\":\"scattercarpet\"}],\"scattergeo\":[{\"marker\":{\"colorbar\":{\"outlinewidth\":0,\"ticks\":\"\"}},\"type\":\"scattergeo\"}],\"scattergl\":[{\"marker\":{\"colorbar\":{\"outlinewidth\":0,\"ticks\":\"\"}},\"type\":\"scattergl\"}],\"scattermapbox\":[{\"marker\":{\"colorbar\":{\"outlinewidth\":0,\"ticks\":\"\"}},\"type\":\"scattermapbox\"}],\"scatterpolargl\":[{\"marker\":{\"colorbar\":{\"outlinewidth\":0,\"ticks\":\"\"}},\"type\":\"scatterpolargl\"}],\"scatterpolar\":[{\"marker\":{\"colorbar\":{\"outlinewidth\":0,\"ticks\":\"\"}},\"type\":\"scatterpolar\"}],\"scatter\":[{\"fillpattern\":{\"fillmode\":\"overlay\",\"size\":10,\"solidity\":0.2},\"type\":\"scatter\"}],\"scatterternary\":[{\"marker\":{\"colorbar\":{\"outlinewidth\":0,\"ticks\":\"\"}},\"type\":\"scatterternary\"}],\"surface\":[{\"colorbar\":{\"outlinewidth\":0,\"ticks\":\"\"},\"colorscale\":[[0.0,\"#0d0887\"],[0.1111111111111111,\"#46039f\"],[0.2222222222222222,\"#7201a8\"],[0.3333333333333333,\"#9c179e\"],[0.4444444444444444,\"#bd3786\"],[0.5555555555555556,\"#d8576b\"],[0.6666666666666666,\"#ed7953\"],[0.7777777777777778,\"#fb9f3a\"],[0.8888888888888888,\"#fdca26\"],[1.0,\"#f0f921\"]],\"type\":\"surface\"}],\"table\":[{\"cells\":{\"fill\":{\"color\":\"#EBF0F8\"},\"line\":{\"color\":\"white\"}},\"header\":{\"fill\":{\"color\":\"#C8D4E3\"},\"line\":{\"color\":\"white\"}},\"type\":\"table\"}]},\"layout\":{\"annotationdefaults\":{\"arrowcolor\":\"#2a3f5f\",\"arrowhead\":0,\"arrowwidth\":1},\"autotypenumbers\":\"strict\",\"coloraxis\":{\"colorbar\":{\"outlinewidth\":0,\"ticks\":\"\"}},\"colorscale\":{\"diverging\":[[0,\"#8e0152\"],[0.1,\"#c51b7d\"],[0.2,\"#de77ae\"],[0.3,\"#f1b6da\"],[0.4,\"#fde0ef\"],[0.5,\"#f7f7f7\"],[0.6,\"#e6f5d0\"],[0.7,\"#b8e186\"],[0.8,\"#7fbc41\"],[0.9,\"#4d9221\"],[1,\"#276419\"]],\"sequential\":[[0.0,\"#0d0887\"],[0.1111111111111111,\"#46039f\"],[0.2222222222222222,\"#7201a8\"],[0.3333333333333333,\"#9c179e\"],[0.4444444444444444,\"#bd3786\"],[0.5555555555555556,\"#d8576b\"],[0.6666666666666666,\"#ed7953\"],[0.7777777777777778,\"#fb9f3a\"],[0.8888888888888888,\"#fdca26\"],[1.0,\"#f0f921\"]],\"sequentialminus\":[[0.0,\"#0d0887\"],[0.1111111111111111,\"#46039f\"],[0.2222222222222222,\"#7201a8\"],[0.3333333333333333,\"#9c179e\"],[0.4444444444444444,\"#bd3786\"],[0.5555555555555556,\"#d8576b\"],[0.6666666666666666,\"#ed7953\"],[0.7777777777777778,\"#fb9f3a\"],[0.8888888888888888,\"#fdca26\"],[1.0,\"#f0f921\"]]},\"colorway\":[\"#636efa\",\"#EF553B\",\"#00cc96\",\"#ab63fa\",\"#FFA15A\",\"#19d3f3\",\"#FF6692\",\"#B6E880\",\"#FF97FF\",\"#FECB52\"],\"font\":{\"color\":\"#2a3f5f\"},\"geo\":{\"bgcolor\":\"white\",\"lakecolor\":\"white\",\"landcolor\":\"#E5ECF6\",\"showlakes\":true,\"showland\":true,\"subunitcolor\":\"white\"},\"hoverlabel\":{\"align\":\"left\"},\"hovermode\":\"closest\",\"mapbox\":{\"style\":\"light\"},\"paper_bgcolor\":\"white\",\"plot_bgcolor\":\"#E5ECF6\",\"polar\":{\"angularaxis\":{\"gridcolor\":\"white\",\"linecolor\":\"white\",\"ticks\":\"\"},\"bgcolor\":\"#E5ECF6\",\"radialaxis\":{\"gridcolor\":\"white\",\"linecolor\":\"white\",\"ticks\":\"\"}},\"scene\":{\"xaxis\":{\"backgroundcolor\":\"#E5ECF6\",\"gridcolor\":\"white\",\"gridwidth\":2,\"linecolor\":\"white\",\"showbackground\":true,\"ticks\":\"\",\"zerolinecolor\":\"white\"},\"yaxis\":{\"backgroundcolor\":\"#E5ECF6\",\"gridcolor\":\"white\",\"gridwidth\":2,\"linecolor\":\"white\",\"showbackground\":true,\"ticks\":\"\",\"zerolinecolor\":\"white\"},\"zaxis\":{\"backgroundcolor\":\"#E5ECF6\",\"gridcolor\":\"white\",\"gridwidth\":2,\"linecolor\":\"white\",\"showbackground\":true,\"ticks\":\"\",\"zerolinecolor\":\"white\"}},\"shapedefaults\":{\"line\":{\"color\":\"#2a3f5f\"}},\"ternary\":{\"aaxis\":{\"gridcolor\":\"white\",\"linecolor\":\"white\",\"ticks\":\"\"},\"baxis\":{\"gridcolor\":\"white\",\"linecolor\":\"white\",\"ticks\":\"\"},\"bgcolor\":\"#E5ECF6\",\"caxis\":{\"gridcolor\":\"white\",\"linecolor\":\"white\",\"ticks\":\"\"}},\"title\":{\"x\":0.05},\"xaxis\":{\"automargin\":true,\"gridcolor\":\"white\",\"linecolor\":\"white\",\"ticks\":\"\",\"title\":{\"standoff\":15},\"zerolinecolor\":\"white\",\"zerolinewidth\":2},\"yaxis\":{\"automargin\":true,\"gridcolor\":\"white\",\"linecolor\":\"white\",\"ticks\":\"\",\"title\":{\"standoff\":15},\"zerolinecolor\":\"white\",\"zerolinewidth\":2}}},\"title\":{\"font\":{\"color\":\"#4D5663\"}},\"xaxis\":{\"gridcolor\":\"#E1E5ED\",\"showgrid\":true,\"tickfont\":{\"color\":\"#4D5663\"},\"title\":{\"font\":{\"color\":\"#4D5663\"},\"text\":\"\"},\"zerolinecolor\":\"#E1E5ED\"},\"yaxis\":{\"gridcolor\":\"#E1E5ED\",\"showgrid\":true,\"tickfont\":{\"color\":\"#4D5663\"},\"title\":{\"font\":{\"color\":\"#4D5663\"},\"text\":\"\"},\"zerolinecolor\":\"#E1E5ED\"}},                        {\"showLink\": true, \"linkText\": \"Export to plot.ly\", \"plotlyServerURL\": \"https://plot.ly\", \"responsive\": true}                    ).then(function(){\n",
       "                            \n",
       "var gd = document.getElementById('78877271-afdc-43dd-bd0b-a87ded879dc2');\n",
       "var x = new MutationObserver(function (mutations, observer) {{\n",
       "        var display = window.getComputedStyle(gd).display;\n",
       "        if (!display || display === 'none') {{\n",
       "            console.log([gd, 'removed!']);\n",
       "            Plotly.purge(gd);\n",
       "            observer.disconnect();\n",
       "        }}\n",
       "}});\n",
       "\n",
       "// Listen for the removal of the full notebook cells\n",
       "var notebookContainer = gd.closest('#notebook-container');\n",
       "if (notebookContainer) {{\n",
       "    x.observe(notebookContainer, {childList: true});\n",
       "}}\n",
       "\n",
       "// Listen for the clearing of the current output cell\n",
       "var outputEl = gd.closest('.output');\n",
       "if (outputEl) {{\n",
       "    x.observe(outputEl, {childList: true});\n",
       "}}\n",
       "\n",
       "                        })                };                });            </script>        </div>"
      ]
     },
     "metadata": {},
     "output_type": "display_data"
    }
   ],
   "source": [
    "X_scaled_df.iplot(kind='box', orientation='h')"
   ]
  },
  {
   "cell_type": "markdown",
   "metadata": {},
   "source": [
    "__박스-콕스 변환 (Box-Cox Transformation) : 데이터를 정규 분포에 가깝게 변환__\n",
    "\n",
    "* 정규성 가정이 중요한 알고리즘에 사용"
   ]
  },
  {
   "cell_type": "code",
   "execution_count": 78,
   "metadata": {},
   "outputs": [
    {
     "name": "stdout",
     "output_type": "stream",
     "text": [
      "Box-Cox 변환에 사용된 lambda 값: [0.7176740276840164, 0.8387553164730721, 0.6300906597156184]\n"
     ]
    }
   ],
   "source": [
    "from scipy import stats\n",
    "import numpy as np\n",
    "\n",
    "# 각 열에 대해 개별적으로 Box-Cox 변환을 적용합니다.\n",
    "X_scaled = np.zeros_like(df)\n",
    "lambda_params = []\n",
    "\n",
    "for i in range(df.shape[1]):\n",
    "    X_scaled[:, i], lambda_param = stats.boxcox(df.iloc[:, i])\n",
    "    lambda_params.append(lambda_param)\n",
    "\n",
    "print(\"Box-Cox 변환에 사용된 lambda 값:\", lambda_params)"
   ]
  },
  {
   "cell_type": "code",
   "execution_count": 79,
   "metadata": {},
   "outputs": [
    {
     "name": "stdout",
     "output_type": "stream",
     "text": [
      "Box-Cox 변환된 데이터:\n",
      "              특성1         특성2         특성3\n",
      "count  100.000000  100.000000  100.000000\n",
      "mean    21.199955  264.073779   35.493163\n",
      "std      8.984627  124.994413    4.647588\n",
      "min      0.712823   15.303977   27.373518\n",
      "25%     14.167411  159.187978   31.675539\n",
      "50%     21.368542  295.252638   35.375485\n",
      "75%     29.287768  362.948109   39.533049\n",
      "max     34.987360  451.519365   43.124409\n"
     ]
    }
   ],
   "source": [
    "X_scaled_df = pd.DataFrame(X_scaled, columns=['특성1', '특성2', '특성3'])\n",
    "print(\"Box-Cox 변환된 데이터:\")\n",
    "print(X_scaled_df.describe())"
   ]
  },
  {
   "cell_type": "code",
   "execution_count": 80,
   "metadata": {},
   "outputs": [
    {
     "data": {
      "application/vnd.plotly.v1+json": {
       "config": {
        "linkText": "Export to plot.ly",
        "plotlyServerURL": "https://plot.ly",
        "showLink": true
       },
       "data": [
        {
         "boxpoints": false,
         "line": {
          "width": 1.3
         },
         "marker": {
          "color": "rgba(255, 153, 51, 1.0)"
         },
         "name": "특성1",
         "orientation": "h",
         "type": "box",
         "x": [
          24.543423194538498,
          2.629174205662391,
          28.816601508027343,
          19.954642283345326,
          24.998779367771707,
          25.13010407846352,
          27.095812801538127,
          5.645971486673665,
          13.919646842404878,
          23.136089367067193,
          14.062025022730314,
          19.592046289365893,
          30.50550528561863,
          11.655157112737749,
          24.809373296766932,
          10.59081114348915,
          12.883503796231905,
          23.40923655949941,
          12.482007512861637,
          33.07803920658494,
          16.362853616960063,
          33.253106149422095,
          23.625267807484683,
          15.043415920984977,
          14.359258562606916,
          27.44698238838789,
          32.36202418858371,
          17.5547908881194,
          24.490983034381596,
          14.20254023307,
          17.93770760673946,
          15.345064312719117,
          33.0403533747137,
          9.396235395957438,
          32.14037481574993,
          10.44045326119094,
          25.443395973607025,
          30.30458963996271,
          34.88363854533783,
          15.056939620509636,
          33.27904692901966,
          32.30839690152299,
          11.816541847166373,
          18.631020670546032,
          11.868510330473509,
          33.94312450522894,
          22.36048222590221,
          17.502266126153724,
          26.009952164639856,
          15.97165870721482,
          12.859173865567245,
          23.69439589962468,
          18.586986623259968,
          20.348468191990055,
          0.7128231810671324,
          28.662215318049537,
          25.237394406866365,
          8.027360675404548,
          20.583928540320127,
          28.635909505782717,
          33.28777947886946,
          30.978992199572467,
          8.00998816210599,
          30.849396284199926,
          12.93604740754963,
          29.186196030081998,
          7.557651155253206,
          30.41649700923621,
          33.25394158851186,
          5.886902948423838,
          21.381150792894665,
          15.854370065555127,
          30.505108083731734,
          19.532151693775056,
          31.067011833168838,
          32.818472075689925,
          6.451974474807509,
          34.75441713704115,
          33.03716814169442,
          21.35593340194142,
          25.008188894848352,
          20.241272956661614,
          34.98736036563612,
          10.139242166305992,
          32.186652112136855,
          21.932879307298922,
          15.199737574844164,
          34.18692215920959,
          18.338994465468982,
          19.612819872650675,
          14.24007529267238,
          6.493370022706995,
          14.281538729212373,
          28.192952086227034,
          9.686420424544773,
          7.659943091691806,
          26.874644349546735,
          13.875641019015108,
          25.47561865756867,
          29.59248403072715
         ]
        },
        {
         "boxpoints": false,
         "line": {
          "width": 1.3
         },
         "marker": {
          "color": "rgba(55, 128, 191, 1.0)"
         },
         "name": "특성2",
         "orientation": "h",
         "type": "box",
         "x": [
          336.6044751530068,
          119.5357337003223,
          328.59894092055896,
          15.303977004117831,
          440.223811722548,
          231.8780184643995,
          351.39928716104197,
          439.88971165485964,
          364.41171720103733,
          202.5926264093548,
          353.2077785192324,
          409.90141088971484,
          360.6958261845985,
          219.16523863356494,
          391.7880573305221,
          254.84001590869198,
          403.52820596241816,
          265.7005233098083,
          44.28834161660423,
          98.75037326089893,
          170.9104481685698,
          327.44149786711995,
          334.7409367369007,
          256.05141503408066,
          327.67000392280806,
          127.49203280807787,
          351.72093945207797,
          372.08678320131224,
          224.04397703220474,
          350.7475397397993,
          310.6778452286728,
          96.46997184965167,
          293.1067739900845,
          267.3224999915688,
          444.1769598883359,
          300.35980436582236,
          86.44343878046652,
          431.7189527369291,
          376.0053483225446,
          160.36297085756073,
          384.9793801192261,
          299.73403698555273,
          433.6116046006904,
          182.27508601601818,
          101.71507280193757,
          410.08130566914525,
          104.47220149415601,
          338.1327121547845,
          429.50358649577214,
          320.4637741294329,
          406.80190508871965,
          102.8400116718985,
          66.83937694891854,
          215.386802177926,
          301.2879902064365,
          284.9402918121623,
          254.82596177530422,
          362.46023952685886,
          432.6311524849238,
          297.3985018083861,
          421.6885733862164,
          451.5193648595398,
          45.9587093857797,
          281.9666101224448,
          299.92455789944125,
          194.4882448181454,
          394.200552313352,
          111.93484403086033,
          408.7011766281911,
          259.0450522534011,
          359.09731637211524,
          302.7563010904689,
          403.3524966257952,
          62.63783092682277,
          182.2817367476527,
          161.2881133345577,
          119.0235090009608,
          29.626956859932736,
          225.47224501760192,
          168.65032464658515,
          232.9986743989475,
          300.3149089500804,
          356.3663640029606,
          21.467611412731237,
          189.43330465379066,
          104.54094281399897,
          322.84318225474544,
          144.84379780986,
          127.13582219515835,
          429.3638310678692,
          155.66299761958842,
          98.74040622376496,
          18.471774240986274,
          136.0041108118119,
          148.09505488905185,
          366.09025611431565,
          337.04721759447244,
          217.01075338932856,
          402.280894723491,
          442.8162989272744
         ]
        },
        {
         "boxpoints": false,
         "line": {
          "width": 1.3
         },
         "marker": {
          "color": "rgba(50, 171, 96, 1.0)"
         },
         "name": "특성3",
         "orientation": "h",
         "type": "box",
         "x": [
          30.62023420268259,
          29.19965448633682,
          35.30374791460891,
          39.55823112315431,
          38.24065526061314,
          31.25201625328221,
          31.800524333361153,
          31.69627324798502,
          40.225531354565646,
          33.83238880643911,
          31.481749241579713,
          32.32132608409003,
          34.41326946260776,
          28.463133637639046,
          41.59803725109569,
          41.63965693479771,
          27.604219341156014,
          42.04047711389197,
          41.73620159171176,
          43.12440917830591,
          40.94259460564493,
          28.27263656420924,
          40.60950028723956,
          40.9701509377072,
          34.46318303705421,
          36.47807230388709,
          35.70897994160755,
          30.289892336030345,
          28.41946870035817,
          32.310956586816474,
          40.71074786698717,
          38.950070013142735,
          38.6966505631351,
          41.287852242588954,
          39.9955966438705,
          35.38270975314328,
          34.30839166072863,
          29.173630595714044,
          33.005362930669015,
          30.37609046017875,
          39.32204874844526,
          33.22492036026629,
          32.36182217380719,
          42.41084645915749,
          35.57210768921067,
          30.735566922054055,
          41.69947008669236,
          35.89866879177729,
          31.00045417058976,
          34.36233839309059,
          34.15683982367574,
          27.46451192990759,
          36.106151776134006,
          39.6377373611901,
          38.040938276350055,
          43.083765823260926,
          33.38122236617909,
          41.22452535409704,
          38.68893055983891,
          41.36202469669286,
          28.0489767341041,
          29.555177712759367,
          33.16442391242878,
          39.38906648527633,
          42.27007181288684,
          33.298047991904106,
          34.5704195458172,
          27.373518379220545,
          36.989038409424154,
          35.536153850537076,
          42.03551823113451,
          43.077416548471305,
          42.37068772063807,
          39.52465504890818,
          30.136911408635818,
          30.003515657959635,
          38.94529621951208,
          32.97122684698327,
          38.96586027042996,
          38.917731044054676,
          34.18083019794173,
          36.58951576343096,
          41.19428527636054,
          29.07580046915713,
          35.368259320003084,
          38.314939274440555,
          31.613335100523383,
          33.72514603074072,
          38.435216398766215,
          33.93492260636392,
          38.17799073722352,
          32.52423008035198,
          29.42710981791449,
          33.78426868452222,
          37.476581820670724,
          29.269766562254766,
          35.929238032727554,
          28.767340668158585,
          28.003424127464495,
          40.14125996290135
         ]
        }
       ],
       "layout": {
        "legend": {
         "bgcolor": "#F5F6F9",
         "font": {
          "color": "#4D5663"
         }
        },
        "paper_bgcolor": "#F5F6F9",
        "plot_bgcolor": "#F5F6F9",
        "template": {
         "data": {
          "bar": [
           {
            "error_x": {
             "color": "#2a3f5f"
            },
            "error_y": {
             "color": "#2a3f5f"
            },
            "marker": {
             "line": {
              "color": "#E5ECF6",
              "width": 0.5
             },
             "pattern": {
              "fillmode": "overlay",
              "size": 10,
              "solidity": 0.2
             }
            },
            "type": "bar"
           }
          ],
          "barpolar": [
           {
            "marker": {
             "line": {
              "color": "#E5ECF6",
              "width": 0.5
             },
             "pattern": {
              "fillmode": "overlay",
              "size": 10,
              "solidity": 0.2
             }
            },
            "type": "barpolar"
           }
          ],
          "carpet": [
           {
            "aaxis": {
             "endlinecolor": "#2a3f5f",
             "gridcolor": "white",
             "linecolor": "white",
             "minorgridcolor": "white",
             "startlinecolor": "#2a3f5f"
            },
            "baxis": {
             "endlinecolor": "#2a3f5f",
             "gridcolor": "white",
             "linecolor": "white",
             "minorgridcolor": "white",
             "startlinecolor": "#2a3f5f"
            },
            "type": "carpet"
           }
          ],
          "choropleth": [
           {
            "colorbar": {
             "outlinewidth": 0,
             "ticks": ""
            },
            "type": "choropleth"
           }
          ],
          "contour": [
           {
            "colorbar": {
             "outlinewidth": 0,
             "ticks": ""
            },
            "colorscale": [
             [
              0,
              "#0d0887"
             ],
             [
              0.1111111111111111,
              "#46039f"
             ],
             [
              0.2222222222222222,
              "#7201a8"
             ],
             [
              0.3333333333333333,
              "#9c179e"
             ],
             [
              0.4444444444444444,
              "#bd3786"
             ],
             [
              0.5555555555555556,
              "#d8576b"
             ],
             [
              0.6666666666666666,
              "#ed7953"
             ],
             [
              0.7777777777777778,
              "#fb9f3a"
             ],
             [
              0.8888888888888888,
              "#fdca26"
             ],
             [
              1,
              "#f0f921"
             ]
            ],
            "type": "contour"
           }
          ],
          "contourcarpet": [
           {
            "colorbar": {
             "outlinewidth": 0,
             "ticks": ""
            },
            "type": "contourcarpet"
           }
          ],
          "heatmap": [
           {
            "colorbar": {
             "outlinewidth": 0,
             "ticks": ""
            },
            "colorscale": [
             [
              0,
              "#0d0887"
             ],
             [
              0.1111111111111111,
              "#46039f"
             ],
             [
              0.2222222222222222,
              "#7201a8"
             ],
             [
              0.3333333333333333,
              "#9c179e"
             ],
             [
              0.4444444444444444,
              "#bd3786"
             ],
             [
              0.5555555555555556,
              "#d8576b"
             ],
             [
              0.6666666666666666,
              "#ed7953"
             ],
             [
              0.7777777777777778,
              "#fb9f3a"
             ],
             [
              0.8888888888888888,
              "#fdca26"
             ],
             [
              1,
              "#f0f921"
             ]
            ],
            "type": "heatmap"
           }
          ],
          "heatmapgl": [
           {
            "colorbar": {
             "outlinewidth": 0,
             "ticks": ""
            },
            "colorscale": [
             [
              0,
              "#0d0887"
             ],
             [
              0.1111111111111111,
              "#46039f"
             ],
             [
              0.2222222222222222,
              "#7201a8"
             ],
             [
              0.3333333333333333,
              "#9c179e"
             ],
             [
              0.4444444444444444,
              "#bd3786"
             ],
             [
              0.5555555555555556,
              "#d8576b"
             ],
             [
              0.6666666666666666,
              "#ed7953"
             ],
             [
              0.7777777777777778,
              "#fb9f3a"
             ],
             [
              0.8888888888888888,
              "#fdca26"
             ],
             [
              1,
              "#f0f921"
             ]
            ],
            "type": "heatmapgl"
           }
          ],
          "histogram": [
           {
            "marker": {
             "pattern": {
              "fillmode": "overlay",
              "size": 10,
              "solidity": 0.2
             }
            },
            "type": "histogram"
           }
          ],
          "histogram2d": [
           {
            "colorbar": {
             "outlinewidth": 0,
             "ticks": ""
            },
            "colorscale": [
             [
              0,
              "#0d0887"
             ],
             [
              0.1111111111111111,
              "#46039f"
             ],
             [
              0.2222222222222222,
              "#7201a8"
             ],
             [
              0.3333333333333333,
              "#9c179e"
             ],
             [
              0.4444444444444444,
              "#bd3786"
             ],
             [
              0.5555555555555556,
              "#d8576b"
             ],
             [
              0.6666666666666666,
              "#ed7953"
             ],
             [
              0.7777777777777778,
              "#fb9f3a"
             ],
             [
              0.8888888888888888,
              "#fdca26"
             ],
             [
              1,
              "#f0f921"
             ]
            ],
            "type": "histogram2d"
           }
          ],
          "histogram2dcontour": [
           {
            "colorbar": {
             "outlinewidth": 0,
             "ticks": ""
            },
            "colorscale": [
             [
              0,
              "#0d0887"
             ],
             [
              0.1111111111111111,
              "#46039f"
             ],
             [
              0.2222222222222222,
              "#7201a8"
             ],
             [
              0.3333333333333333,
              "#9c179e"
             ],
             [
              0.4444444444444444,
              "#bd3786"
             ],
             [
              0.5555555555555556,
              "#d8576b"
             ],
             [
              0.6666666666666666,
              "#ed7953"
             ],
             [
              0.7777777777777778,
              "#fb9f3a"
             ],
             [
              0.8888888888888888,
              "#fdca26"
             ],
             [
              1,
              "#f0f921"
             ]
            ],
            "type": "histogram2dcontour"
           }
          ],
          "mesh3d": [
           {
            "colorbar": {
             "outlinewidth": 0,
             "ticks": ""
            },
            "type": "mesh3d"
           }
          ],
          "parcoords": [
           {
            "line": {
             "colorbar": {
              "outlinewidth": 0,
              "ticks": ""
             }
            },
            "type": "parcoords"
           }
          ],
          "pie": [
           {
            "automargin": true,
            "type": "pie"
           }
          ],
          "scatter": [
           {
            "fillpattern": {
             "fillmode": "overlay",
             "size": 10,
             "solidity": 0.2
            },
            "type": "scatter"
           }
          ],
          "scatter3d": [
           {
            "line": {
             "colorbar": {
              "outlinewidth": 0,
              "ticks": ""
             }
            },
            "marker": {
             "colorbar": {
              "outlinewidth": 0,
              "ticks": ""
             }
            },
            "type": "scatter3d"
           }
          ],
          "scattercarpet": [
           {
            "marker": {
             "colorbar": {
              "outlinewidth": 0,
              "ticks": ""
             }
            },
            "type": "scattercarpet"
           }
          ],
          "scattergeo": [
           {
            "marker": {
             "colorbar": {
              "outlinewidth": 0,
              "ticks": ""
             }
            },
            "type": "scattergeo"
           }
          ],
          "scattergl": [
           {
            "marker": {
             "colorbar": {
              "outlinewidth": 0,
              "ticks": ""
             }
            },
            "type": "scattergl"
           }
          ],
          "scattermapbox": [
           {
            "marker": {
             "colorbar": {
              "outlinewidth": 0,
              "ticks": ""
             }
            },
            "type": "scattermapbox"
           }
          ],
          "scatterpolar": [
           {
            "marker": {
             "colorbar": {
              "outlinewidth": 0,
              "ticks": ""
             }
            },
            "type": "scatterpolar"
           }
          ],
          "scatterpolargl": [
           {
            "marker": {
             "colorbar": {
              "outlinewidth": 0,
              "ticks": ""
             }
            },
            "type": "scatterpolargl"
           }
          ],
          "scatterternary": [
           {
            "marker": {
             "colorbar": {
              "outlinewidth": 0,
              "ticks": ""
             }
            },
            "type": "scatterternary"
           }
          ],
          "surface": [
           {
            "colorbar": {
             "outlinewidth": 0,
             "ticks": ""
            },
            "colorscale": [
             [
              0,
              "#0d0887"
             ],
             [
              0.1111111111111111,
              "#46039f"
             ],
             [
              0.2222222222222222,
              "#7201a8"
             ],
             [
              0.3333333333333333,
              "#9c179e"
             ],
             [
              0.4444444444444444,
              "#bd3786"
             ],
             [
              0.5555555555555556,
              "#d8576b"
             ],
             [
              0.6666666666666666,
              "#ed7953"
             ],
             [
              0.7777777777777778,
              "#fb9f3a"
             ],
             [
              0.8888888888888888,
              "#fdca26"
             ],
             [
              1,
              "#f0f921"
             ]
            ],
            "type": "surface"
           }
          ],
          "table": [
           {
            "cells": {
             "fill": {
              "color": "#EBF0F8"
             },
             "line": {
              "color": "white"
             }
            },
            "header": {
             "fill": {
              "color": "#C8D4E3"
             },
             "line": {
              "color": "white"
             }
            },
            "type": "table"
           }
          ]
         },
         "layout": {
          "annotationdefaults": {
           "arrowcolor": "#2a3f5f",
           "arrowhead": 0,
           "arrowwidth": 1
          },
          "autotypenumbers": "strict",
          "coloraxis": {
           "colorbar": {
            "outlinewidth": 0,
            "ticks": ""
           }
          },
          "colorscale": {
           "diverging": [
            [
             0,
             "#8e0152"
            ],
            [
             0.1,
             "#c51b7d"
            ],
            [
             0.2,
             "#de77ae"
            ],
            [
             0.3,
             "#f1b6da"
            ],
            [
             0.4,
             "#fde0ef"
            ],
            [
             0.5,
             "#f7f7f7"
            ],
            [
             0.6,
             "#e6f5d0"
            ],
            [
             0.7,
             "#b8e186"
            ],
            [
             0.8,
             "#7fbc41"
            ],
            [
             0.9,
             "#4d9221"
            ],
            [
             1,
             "#276419"
            ]
           ],
           "sequential": [
            [
             0,
             "#0d0887"
            ],
            [
             0.1111111111111111,
             "#46039f"
            ],
            [
             0.2222222222222222,
             "#7201a8"
            ],
            [
             0.3333333333333333,
             "#9c179e"
            ],
            [
             0.4444444444444444,
             "#bd3786"
            ],
            [
             0.5555555555555556,
             "#d8576b"
            ],
            [
             0.6666666666666666,
             "#ed7953"
            ],
            [
             0.7777777777777778,
             "#fb9f3a"
            ],
            [
             0.8888888888888888,
             "#fdca26"
            ],
            [
             1,
             "#f0f921"
            ]
           ],
           "sequentialminus": [
            [
             0,
             "#0d0887"
            ],
            [
             0.1111111111111111,
             "#46039f"
            ],
            [
             0.2222222222222222,
             "#7201a8"
            ],
            [
             0.3333333333333333,
             "#9c179e"
            ],
            [
             0.4444444444444444,
             "#bd3786"
            ],
            [
             0.5555555555555556,
             "#d8576b"
            ],
            [
             0.6666666666666666,
             "#ed7953"
            ],
            [
             0.7777777777777778,
             "#fb9f3a"
            ],
            [
             0.8888888888888888,
             "#fdca26"
            ],
            [
             1,
             "#f0f921"
            ]
           ]
          },
          "colorway": [
           "#636efa",
           "#EF553B",
           "#00cc96",
           "#ab63fa",
           "#FFA15A",
           "#19d3f3",
           "#FF6692",
           "#B6E880",
           "#FF97FF",
           "#FECB52"
          ],
          "font": {
           "color": "#2a3f5f"
          },
          "geo": {
           "bgcolor": "white",
           "lakecolor": "white",
           "landcolor": "#E5ECF6",
           "showlakes": true,
           "showland": true,
           "subunitcolor": "white"
          },
          "hoverlabel": {
           "align": "left"
          },
          "hovermode": "closest",
          "mapbox": {
           "style": "light"
          },
          "paper_bgcolor": "white",
          "plot_bgcolor": "#E5ECF6",
          "polar": {
           "angularaxis": {
            "gridcolor": "white",
            "linecolor": "white",
            "ticks": ""
           },
           "bgcolor": "#E5ECF6",
           "radialaxis": {
            "gridcolor": "white",
            "linecolor": "white",
            "ticks": ""
           }
          },
          "scene": {
           "xaxis": {
            "backgroundcolor": "#E5ECF6",
            "gridcolor": "white",
            "gridwidth": 2,
            "linecolor": "white",
            "showbackground": true,
            "ticks": "",
            "zerolinecolor": "white"
           },
           "yaxis": {
            "backgroundcolor": "#E5ECF6",
            "gridcolor": "white",
            "gridwidth": 2,
            "linecolor": "white",
            "showbackground": true,
            "ticks": "",
            "zerolinecolor": "white"
           },
           "zaxis": {
            "backgroundcolor": "#E5ECF6",
            "gridcolor": "white",
            "gridwidth": 2,
            "linecolor": "white",
            "showbackground": true,
            "ticks": "",
            "zerolinecolor": "white"
           }
          },
          "shapedefaults": {
           "line": {
            "color": "#2a3f5f"
           }
          },
          "ternary": {
           "aaxis": {
            "gridcolor": "white",
            "linecolor": "white",
            "ticks": ""
           },
           "baxis": {
            "gridcolor": "white",
            "linecolor": "white",
            "ticks": ""
           },
           "bgcolor": "#E5ECF6",
           "caxis": {
            "gridcolor": "white",
            "linecolor": "white",
            "ticks": ""
           }
          },
          "title": {
           "x": 0.05
          },
          "xaxis": {
           "automargin": true,
           "gridcolor": "white",
           "linecolor": "white",
           "ticks": "",
           "title": {
            "standoff": 15
           },
           "zerolinecolor": "white",
           "zerolinewidth": 2
          },
          "yaxis": {
           "automargin": true,
           "gridcolor": "white",
           "linecolor": "white",
           "ticks": "",
           "title": {
            "standoff": 15
           },
           "zerolinecolor": "white",
           "zerolinewidth": 2
          }
         }
        },
        "title": {
         "font": {
          "color": "#4D5663"
         }
        },
        "xaxis": {
         "gridcolor": "#E1E5ED",
         "showgrid": true,
         "tickfont": {
          "color": "#4D5663"
         },
         "title": {
          "font": {
           "color": "#4D5663"
          },
          "text": ""
         },
         "zerolinecolor": "#E1E5ED"
        },
        "yaxis": {
         "gridcolor": "#E1E5ED",
         "showgrid": true,
         "tickfont": {
          "color": "#4D5663"
         },
         "title": {
          "font": {
           "color": "#4D5663"
          },
          "text": ""
         },
         "zerolinecolor": "#E1E5ED"
        }
       }
      },
      "text/html": [
       "<div>                            <div id=\"815fe15c-c71f-4a8b-b488-bb83b856e14e\" class=\"plotly-graph-div\" style=\"height:525px; width:100%;\"></div>            <script type=\"text/javascript\">                require([\"plotly\"], function(Plotly) {                    window.PLOTLYENV=window.PLOTLYENV || {};\n",
       "                    window.PLOTLYENV.BASE_URL='https://plot.ly';                                    if (document.getElementById(\"815fe15c-c71f-4a8b-b488-bb83b856e14e\")) {                    Plotly.newPlot(                        \"815fe15c-c71f-4a8b-b488-bb83b856e14e\",                        [{\"boxpoints\":false,\"line\":{\"width\":1.3},\"marker\":{\"color\":\"rgba(255, 153, 51, 1.0)\"},\"name\":\"\\ud2b9\\uc1311\",\"orientation\":\"h\",\"x\":[24.543423194538498,2.629174205662391,28.816601508027343,19.954642283345326,24.998779367771707,25.13010407846352,27.095812801538127,5.645971486673665,13.919646842404878,23.136089367067193,14.062025022730314,19.592046289365893,30.50550528561863,11.655157112737749,24.809373296766932,10.59081114348915,12.883503796231905,23.40923655949941,12.482007512861637,33.07803920658494,16.362853616960063,33.253106149422095,23.625267807484683,15.043415920984977,14.359258562606916,27.44698238838789,32.36202418858371,17.5547908881194,24.490983034381596,14.20254023307,17.93770760673946,15.345064312719117,33.0403533747137,9.396235395957438,32.14037481574993,10.44045326119094,25.443395973607025,30.30458963996271,34.88363854533783,15.056939620509636,33.27904692901966,32.30839690152299,11.816541847166373,18.631020670546032,11.868510330473509,33.94312450522894,22.36048222590221,17.502266126153724,26.009952164639856,15.97165870721482,12.859173865567245,23.69439589962468,18.586986623259968,20.348468191990055,0.7128231810671324,28.662215318049537,25.237394406866365,8.027360675404548,20.583928540320127,28.635909505782717,33.28777947886946,30.978992199572467,8.00998816210599,30.849396284199926,12.93604740754963,29.186196030081998,7.557651155253206,30.41649700923621,33.25394158851186,5.886902948423838,21.381150792894665,15.854370065555127,30.505108083731734,19.532151693775056,31.067011833168838,32.818472075689925,6.451974474807509,34.75441713704115,33.03716814169442,21.35593340194142,25.008188894848352,20.241272956661614,34.98736036563612,10.139242166305992,32.186652112136855,21.932879307298922,15.199737574844164,34.18692215920959,18.338994465468982,19.612819872650675,14.24007529267238,6.493370022706995,14.281538729212373,28.192952086227034,9.686420424544773,7.659943091691806,26.874644349546735,13.875641019015108,25.47561865756867,29.59248403072715],\"type\":\"box\"},{\"boxpoints\":false,\"line\":{\"width\":1.3},\"marker\":{\"color\":\"rgba(55, 128, 191, 1.0)\"},\"name\":\"\\ud2b9\\uc1312\",\"orientation\":\"h\",\"x\":[336.6044751530068,119.5357337003223,328.59894092055896,15.303977004117831,440.223811722548,231.8780184643995,351.39928716104197,439.88971165485964,364.41171720103733,202.5926264093548,353.2077785192324,409.90141088971484,360.6958261845985,219.16523863356494,391.7880573305221,254.84001590869198,403.52820596241816,265.7005233098083,44.28834161660423,98.75037326089893,170.9104481685698,327.44149786711995,334.7409367369007,256.05141503408066,327.67000392280806,127.49203280807787,351.72093945207797,372.08678320131224,224.04397703220474,350.7475397397993,310.6778452286728,96.46997184965167,293.1067739900845,267.3224999915688,444.1769598883359,300.35980436582236,86.44343878046652,431.7189527369291,376.0053483225446,160.36297085756073,384.9793801192261,299.73403698555273,433.6116046006904,182.27508601601818,101.71507280193757,410.08130566914525,104.47220149415601,338.1327121547845,429.50358649577214,320.4637741294329,406.80190508871965,102.8400116718985,66.83937694891854,215.386802177926,301.2879902064365,284.9402918121623,254.82596177530422,362.46023952685886,432.6311524849238,297.3985018083861,421.6885733862164,451.5193648595398,45.9587093857797,281.9666101224448,299.92455789944125,194.4882448181454,394.200552313352,111.93484403086033,408.7011766281911,259.0450522534011,359.09731637211524,302.7563010904689,403.3524966257952,62.63783092682277,182.2817367476527,161.2881133345577,119.0235090009608,29.626956859932736,225.47224501760192,168.65032464658515,232.9986743989475,300.3149089500804,356.3663640029606,21.467611412731237,189.43330465379066,104.54094281399897,322.84318225474544,144.84379780986,127.13582219515835,429.3638310678692,155.66299761958842,98.74040622376496,18.471774240986274,136.0041108118119,148.09505488905185,366.09025611431565,337.04721759447244,217.01075338932856,402.280894723491,442.8162989272744],\"type\":\"box\"},{\"boxpoints\":false,\"line\":{\"width\":1.3},\"marker\":{\"color\":\"rgba(50, 171, 96, 1.0)\"},\"name\":\"\\ud2b9\\uc1313\",\"orientation\":\"h\",\"x\":[30.62023420268259,29.19965448633682,35.30374791460891,39.55823112315431,38.24065526061314,31.25201625328221,31.800524333361153,31.69627324798502,40.225531354565646,33.83238880643911,31.481749241579713,32.32132608409003,34.41326946260776,28.463133637639046,41.59803725109569,41.63965693479771,27.604219341156014,42.04047711389197,41.73620159171176,43.12440917830591,40.94259460564493,28.27263656420924,40.60950028723956,40.9701509377072,34.46318303705421,36.47807230388709,35.70897994160755,30.289892336030345,28.41946870035817,32.310956586816474,40.71074786698717,38.950070013142735,38.6966505631351,41.287852242588954,39.9955966438705,35.38270975314328,34.30839166072863,29.173630595714044,33.005362930669015,30.37609046017875,39.32204874844526,33.22492036026629,32.36182217380719,42.41084645915749,35.57210768921067,30.735566922054055,41.69947008669236,35.89866879177729,31.00045417058976,34.36233839309059,34.15683982367574,27.46451192990759,36.106151776134006,39.6377373611901,38.040938276350055,43.083765823260926,33.38122236617909,41.22452535409704,38.68893055983891,41.36202469669286,28.0489767341041,29.555177712759367,33.16442391242878,39.38906648527633,42.27007181288684,33.298047991904106,34.5704195458172,27.373518379220545,36.989038409424154,35.536153850537076,42.03551823113451,43.077416548471305,42.37068772063807,39.52465504890818,30.136911408635818,30.003515657959635,38.94529621951208,32.97122684698327,38.96586027042996,38.917731044054676,34.18083019794173,36.58951576343096,41.19428527636054,29.07580046915713,35.368259320003084,38.314939274440555,31.613335100523383,33.72514603074072,38.435216398766215,33.93492260636392,38.17799073722352,32.52423008035198,29.42710981791449,33.78426868452222,37.476581820670724,29.269766562254766,35.929238032727554,28.767340668158585,28.003424127464495,40.14125996290135],\"type\":\"box\"}],                        {\"legend\":{\"bgcolor\":\"#F5F6F9\",\"font\":{\"color\":\"#4D5663\"}},\"paper_bgcolor\":\"#F5F6F9\",\"plot_bgcolor\":\"#F5F6F9\",\"template\":{\"data\":{\"barpolar\":[{\"marker\":{\"line\":{\"color\":\"#E5ECF6\",\"width\":0.5},\"pattern\":{\"fillmode\":\"overlay\",\"size\":10,\"solidity\":0.2}},\"type\":\"barpolar\"}],\"bar\":[{\"error_x\":{\"color\":\"#2a3f5f\"},\"error_y\":{\"color\":\"#2a3f5f\"},\"marker\":{\"line\":{\"color\":\"#E5ECF6\",\"width\":0.5},\"pattern\":{\"fillmode\":\"overlay\",\"size\":10,\"solidity\":0.2}},\"type\":\"bar\"}],\"carpet\":[{\"aaxis\":{\"endlinecolor\":\"#2a3f5f\",\"gridcolor\":\"white\",\"linecolor\":\"white\",\"minorgridcolor\":\"white\",\"startlinecolor\":\"#2a3f5f\"},\"baxis\":{\"endlinecolor\":\"#2a3f5f\",\"gridcolor\":\"white\",\"linecolor\":\"white\",\"minorgridcolor\":\"white\",\"startlinecolor\":\"#2a3f5f\"},\"type\":\"carpet\"}],\"choropleth\":[{\"colorbar\":{\"outlinewidth\":0,\"ticks\":\"\"},\"type\":\"choropleth\"}],\"contourcarpet\":[{\"colorbar\":{\"outlinewidth\":0,\"ticks\":\"\"},\"type\":\"contourcarpet\"}],\"contour\":[{\"colorbar\":{\"outlinewidth\":0,\"ticks\":\"\"},\"colorscale\":[[0.0,\"#0d0887\"],[0.1111111111111111,\"#46039f\"],[0.2222222222222222,\"#7201a8\"],[0.3333333333333333,\"#9c179e\"],[0.4444444444444444,\"#bd3786\"],[0.5555555555555556,\"#d8576b\"],[0.6666666666666666,\"#ed7953\"],[0.7777777777777778,\"#fb9f3a\"],[0.8888888888888888,\"#fdca26\"],[1.0,\"#f0f921\"]],\"type\":\"contour\"}],\"heatmapgl\":[{\"colorbar\":{\"outlinewidth\":0,\"ticks\":\"\"},\"colorscale\":[[0.0,\"#0d0887\"],[0.1111111111111111,\"#46039f\"],[0.2222222222222222,\"#7201a8\"],[0.3333333333333333,\"#9c179e\"],[0.4444444444444444,\"#bd3786\"],[0.5555555555555556,\"#d8576b\"],[0.6666666666666666,\"#ed7953\"],[0.7777777777777778,\"#fb9f3a\"],[0.8888888888888888,\"#fdca26\"],[1.0,\"#f0f921\"]],\"type\":\"heatmapgl\"}],\"heatmap\":[{\"colorbar\":{\"outlinewidth\":0,\"ticks\":\"\"},\"colorscale\":[[0.0,\"#0d0887\"],[0.1111111111111111,\"#46039f\"],[0.2222222222222222,\"#7201a8\"],[0.3333333333333333,\"#9c179e\"],[0.4444444444444444,\"#bd3786\"],[0.5555555555555556,\"#d8576b\"],[0.6666666666666666,\"#ed7953\"],[0.7777777777777778,\"#fb9f3a\"],[0.8888888888888888,\"#fdca26\"],[1.0,\"#f0f921\"]],\"type\":\"heatmap\"}],\"histogram2dcontour\":[{\"colorbar\":{\"outlinewidth\":0,\"ticks\":\"\"},\"colorscale\":[[0.0,\"#0d0887\"],[0.1111111111111111,\"#46039f\"],[0.2222222222222222,\"#7201a8\"],[0.3333333333333333,\"#9c179e\"],[0.4444444444444444,\"#bd3786\"],[0.5555555555555556,\"#d8576b\"],[0.6666666666666666,\"#ed7953\"],[0.7777777777777778,\"#fb9f3a\"],[0.8888888888888888,\"#fdca26\"],[1.0,\"#f0f921\"]],\"type\":\"histogram2dcontour\"}],\"histogram2d\":[{\"colorbar\":{\"outlinewidth\":0,\"ticks\":\"\"},\"colorscale\":[[0.0,\"#0d0887\"],[0.1111111111111111,\"#46039f\"],[0.2222222222222222,\"#7201a8\"],[0.3333333333333333,\"#9c179e\"],[0.4444444444444444,\"#bd3786\"],[0.5555555555555556,\"#d8576b\"],[0.6666666666666666,\"#ed7953\"],[0.7777777777777778,\"#fb9f3a\"],[0.8888888888888888,\"#fdca26\"],[1.0,\"#f0f921\"]],\"type\":\"histogram2d\"}],\"histogram\":[{\"marker\":{\"pattern\":{\"fillmode\":\"overlay\",\"size\":10,\"solidity\":0.2}},\"type\":\"histogram\"}],\"mesh3d\":[{\"colorbar\":{\"outlinewidth\":0,\"ticks\":\"\"},\"type\":\"mesh3d\"}],\"parcoords\":[{\"line\":{\"colorbar\":{\"outlinewidth\":0,\"ticks\":\"\"}},\"type\":\"parcoords\"}],\"pie\":[{\"automargin\":true,\"type\":\"pie\"}],\"scatter3d\":[{\"line\":{\"colorbar\":{\"outlinewidth\":0,\"ticks\":\"\"}},\"marker\":{\"colorbar\":{\"outlinewidth\":0,\"ticks\":\"\"}},\"type\":\"scatter3d\"}],\"scattercarpet\":[{\"marker\":{\"colorbar\":{\"outlinewidth\":0,\"ticks\":\"\"}},\"type\":\"scattercarpet\"}],\"scattergeo\":[{\"marker\":{\"colorbar\":{\"outlinewidth\":0,\"ticks\":\"\"}},\"type\":\"scattergeo\"}],\"scattergl\":[{\"marker\":{\"colorbar\":{\"outlinewidth\":0,\"ticks\":\"\"}},\"type\":\"scattergl\"}],\"scattermapbox\":[{\"marker\":{\"colorbar\":{\"outlinewidth\":0,\"ticks\":\"\"}},\"type\":\"scattermapbox\"}],\"scatterpolargl\":[{\"marker\":{\"colorbar\":{\"outlinewidth\":0,\"ticks\":\"\"}},\"type\":\"scatterpolargl\"}],\"scatterpolar\":[{\"marker\":{\"colorbar\":{\"outlinewidth\":0,\"ticks\":\"\"}},\"type\":\"scatterpolar\"}],\"scatter\":[{\"fillpattern\":{\"fillmode\":\"overlay\",\"size\":10,\"solidity\":0.2},\"type\":\"scatter\"}],\"scatterternary\":[{\"marker\":{\"colorbar\":{\"outlinewidth\":0,\"ticks\":\"\"}},\"type\":\"scatterternary\"}],\"surface\":[{\"colorbar\":{\"outlinewidth\":0,\"ticks\":\"\"},\"colorscale\":[[0.0,\"#0d0887\"],[0.1111111111111111,\"#46039f\"],[0.2222222222222222,\"#7201a8\"],[0.3333333333333333,\"#9c179e\"],[0.4444444444444444,\"#bd3786\"],[0.5555555555555556,\"#d8576b\"],[0.6666666666666666,\"#ed7953\"],[0.7777777777777778,\"#fb9f3a\"],[0.8888888888888888,\"#fdca26\"],[1.0,\"#f0f921\"]],\"type\":\"surface\"}],\"table\":[{\"cells\":{\"fill\":{\"color\":\"#EBF0F8\"},\"line\":{\"color\":\"white\"}},\"header\":{\"fill\":{\"color\":\"#C8D4E3\"},\"line\":{\"color\":\"white\"}},\"type\":\"table\"}]},\"layout\":{\"annotationdefaults\":{\"arrowcolor\":\"#2a3f5f\",\"arrowhead\":0,\"arrowwidth\":1},\"autotypenumbers\":\"strict\",\"coloraxis\":{\"colorbar\":{\"outlinewidth\":0,\"ticks\":\"\"}},\"colorscale\":{\"diverging\":[[0,\"#8e0152\"],[0.1,\"#c51b7d\"],[0.2,\"#de77ae\"],[0.3,\"#f1b6da\"],[0.4,\"#fde0ef\"],[0.5,\"#f7f7f7\"],[0.6,\"#e6f5d0\"],[0.7,\"#b8e186\"],[0.8,\"#7fbc41\"],[0.9,\"#4d9221\"],[1,\"#276419\"]],\"sequential\":[[0.0,\"#0d0887\"],[0.1111111111111111,\"#46039f\"],[0.2222222222222222,\"#7201a8\"],[0.3333333333333333,\"#9c179e\"],[0.4444444444444444,\"#bd3786\"],[0.5555555555555556,\"#d8576b\"],[0.6666666666666666,\"#ed7953\"],[0.7777777777777778,\"#fb9f3a\"],[0.8888888888888888,\"#fdca26\"],[1.0,\"#f0f921\"]],\"sequentialminus\":[[0.0,\"#0d0887\"],[0.1111111111111111,\"#46039f\"],[0.2222222222222222,\"#7201a8\"],[0.3333333333333333,\"#9c179e\"],[0.4444444444444444,\"#bd3786\"],[0.5555555555555556,\"#d8576b\"],[0.6666666666666666,\"#ed7953\"],[0.7777777777777778,\"#fb9f3a\"],[0.8888888888888888,\"#fdca26\"],[1.0,\"#f0f921\"]]},\"colorway\":[\"#636efa\",\"#EF553B\",\"#00cc96\",\"#ab63fa\",\"#FFA15A\",\"#19d3f3\",\"#FF6692\",\"#B6E880\",\"#FF97FF\",\"#FECB52\"],\"font\":{\"color\":\"#2a3f5f\"},\"geo\":{\"bgcolor\":\"white\",\"lakecolor\":\"white\",\"landcolor\":\"#E5ECF6\",\"showlakes\":true,\"showland\":true,\"subunitcolor\":\"white\"},\"hoverlabel\":{\"align\":\"left\"},\"hovermode\":\"closest\",\"mapbox\":{\"style\":\"light\"},\"paper_bgcolor\":\"white\",\"plot_bgcolor\":\"#E5ECF6\",\"polar\":{\"angularaxis\":{\"gridcolor\":\"white\",\"linecolor\":\"white\",\"ticks\":\"\"},\"bgcolor\":\"#E5ECF6\",\"radialaxis\":{\"gridcolor\":\"white\",\"linecolor\":\"white\",\"ticks\":\"\"}},\"scene\":{\"xaxis\":{\"backgroundcolor\":\"#E5ECF6\",\"gridcolor\":\"white\",\"gridwidth\":2,\"linecolor\":\"white\",\"showbackground\":true,\"ticks\":\"\",\"zerolinecolor\":\"white\"},\"yaxis\":{\"backgroundcolor\":\"#E5ECF6\",\"gridcolor\":\"white\",\"gridwidth\":2,\"linecolor\":\"white\",\"showbackground\":true,\"ticks\":\"\",\"zerolinecolor\":\"white\"},\"zaxis\":{\"backgroundcolor\":\"#E5ECF6\",\"gridcolor\":\"white\",\"gridwidth\":2,\"linecolor\":\"white\",\"showbackground\":true,\"ticks\":\"\",\"zerolinecolor\":\"white\"}},\"shapedefaults\":{\"line\":{\"color\":\"#2a3f5f\"}},\"ternary\":{\"aaxis\":{\"gridcolor\":\"white\",\"linecolor\":\"white\",\"ticks\":\"\"},\"baxis\":{\"gridcolor\":\"white\",\"linecolor\":\"white\",\"ticks\":\"\"},\"bgcolor\":\"#E5ECF6\",\"caxis\":{\"gridcolor\":\"white\",\"linecolor\":\"white\",\"ticks\":\"\"}},\"title\":{\"x\":0.05},\"xaxis\":{\"automargin\":true,\"gridcolor\":\"white\",\"linecolor\":\"white\",\"ticks\":\"\",\"title\":{\"standoff\":15},\"zerolinecolor\":\"white\",\"zerolinewidth\":2},\"yaxis\":{\"automargin\":true,\"gridcolor\":\"white\",\"linecolor\":\"white\",\"ticks\":\"\",\"title\":{\"standoff\":15},\"zerolinecolor\":\"white\",\"zerolinewidth\":2}}},\"title\":{\"font\":{\"color\":\"#4D5663\"}},\"xaxis\":{\"gridcolor\":\"#E1E5ED\",\"showgrid\":true,\"tickfont\":{\"color\":\"#4D5663\"},\"title\":{\"font\":{\"color\":\"#4D5663\"},\"text\":\"\"},\"zerolinecolor\":\"#E1E5ED\"},\"yaxis\":{\"gridcolor\":\"#E1E5ED\",\"showgrid\":true,\"tickfont\":{\"color\":\"#4D5663\"},\"title\":{\"font\":{\"color\":\"#4D5663\"},\"text\":\"\"},\"zerolinecolor\":\"#E1E5ED\"}},                        {\"showLink\": true, \"linkText\": \"Export to plot.ly\", \"plotlyServerURL\": \"https://plot.ly\", \"responsive\": true}                    ).then(function(){\n",
       "                            \n",
       "var gd = document.getElementById('815fe15c-c71f-4a8b-b488-bb83b856e14e');\n",
       "var x = new MutationObserver(function (mutations, observer) {{\n",
       "        var display = window.getComputedStyle(gd).display;\n",
       "        if (!display || display === 'none') {{\n",
       "            console.log([gd, 'removed!']);\n",
       "            Plotly.purge(gd);\n",
       "            observer.disconnect();\n",
       "        }}\n",
       "}});\n",
       "\n",
       "// Listen for the removal of the full notebook cells\n",
       "var notebookContainer = gd.closest('#notebook-container');\n",
       "if (notebookContainer) {{\n",
       "    x.observe(notebookContainer, {childList: true});\n",
       "}}\n",
       "\n",
       "// Listen for the clearing of the current output cell\n",
       "var outputEl = gd.closest('.output');\n",
       "if (outputEl) {{\n",
       "    x.observe(outputEl, {childList: true});\n",
       "}}\n",
       "\n",
       "                        })                };                });            </script>        </div>"
      ]
     },
     "metadata": {},
     "output_type": "display_data"
    }
   ],
   "source": [
    "X_scaled_df.iplot(kind='box', orientation='h')"
   ]
  },
  {
   "cell_type": "markdown",
   "metadata": {},
   "source": [
    "__양자화 (Quantile Transformation) : 데이터를 균일 분포 또는 정규 분포로 변환__\n",
    "\n",
    "* 이상치가 많거나 복잡한 분포를 가진 데이터"
   ]
  },
  {
   "cell_type": "code",
   "execution_count": 81,
   "metadata": {},
   "outputs": [],
   "source": [
    "from sklearn.preprocessing import QuantileTransformer\n",
    "scaler = QuantileTransformer(output_distribution='normal')\n",
    "X_scaled = scaler.fit_transform(X)"
   ]
  },
  {
   "cell_type": "code",
   "execution_count": 82,
   "metadata": {},
   "outputs": [
    {
     "name": "stdout",
     "output_type": "stream",
     "text": [
      "양자화된 데이터:\n",
      "                특성1           특성2           특성3\n",
      "count  1.000000e+02  1.000000e+02  1.000000e+02\n",
      "mean   9.805667e-13  9.783196e-13  9.786261e-13\n",
      "std    1.207630e+00  1.207630e+00  1.207630e+00\n",
      "min   -5.199338e+00 -5.199338e+00 -5.199338e+00\n",
      "25%   -6.745546e-01 -6.745546e-01 -6.745546e-01\n",
      "50%    6.938894e-17  6.938894e-17  6.938894e-17\n",
      "75%    6.745546e-01  6.745546e-01  6.745546e-01\n",
      "max    5.199338e+00  5.199338e+00  5.199338e+00\n"
     ]
    }
   ],
   "source": [
    "X_scaled_df = pd.DataFrame(X_scaled, columns=['특성1', '특성2', '특성3'])\n",
    "print(\"양자화된 데이터:\")\n",
    "print(X_scaled_df.describe())"
   ]
  },
  {
   "cell_type": "code",
   "execution_count": 83,
   "metadata": {},
   "outputs": [
    {
     "data": {
      "application/vnd.plotly.v1+json": {
       "config": {
        "linkText": "Export to plot.ly",
        "plotlyServerURL": "https://plot.ly",
        "showLink": true
       },
       "data": [
        {
         "boxpoints": false,
         "line": {
          "width": 1.3
         },
         "marker": {
          "color": "rgba(255, 153, 51, 1.0)"
         },
         "name": "특성1",
         "orientation": "h",
         "type": "box",
         "x": [
          0.21690442598171078,
          -2.3225745319461932,
          0.6352697098765959,
          -0.11418529432142838,
          0.2690661378543142,
          0.3219708901819885,
          0.48699393885129005,
          -2.0495942663939903,
          -0.7312172511297165,
          0.08873448029941519,
          -0.6985257103450601,
          -0.16532666916589686,
          0.8344270065319034,
          -1.0299567622253682,
          0.24290265588608934,
          -1.0739875026403316,
          -0.8344270065319033,
          0.11418529432142824,
          -0.9084578685373852,
          1.33517773611893,
          -0.3757931145253802,
          1.3996566480501436,
          0.13971029888186212,
          -0.5448472393466709,
          -0.5744599931693587,
          0.5157047936930386,
          1.1202053547494821,
          -0.3219708901819884,
          0.19105200614617424,
          -0.6665642591979041,
          -0.2954151418352379,
          -0.4586790696940935,
          1.275817041401785,
          -1.2758170414017846,
          0.9878373274485258,
          -1.1202053547494892,
          0.3757931145253799,
          0.7312172511297167,
          2.3225745319461946,
          -0.5157047936930385,
          1.5497059007365894,
          1.0739875026403316,
          -0.9878373274485253,
          -0.21690442598171505,
          -0.947401271557124,
          1.7460165226992121,
          0.06334102325685856,
          -0.3487556955170447,
          0.43072729929545717,
          -0.4031081206562861,
          -0.8708457453650698,
          0.16532666916589542,
          -0.24290265588608934,
          -0.06334102325685911,
          -5.199337582605575,
          0.6045853465832371,
          0.34875569551704444,
          -1.3351777361189372,
          -0.037988351230282213,
          0.574459993169358,
          1.63997627013313,
          0.9084578685373853,
          -1.399656648049819,
          0.8708457453650702,
          -0.7990827621351786,
          0.6665642591979043,
          -1.5497059007365892,
          0.7647096737863871,
          1.4705452438880633,
          -1.8763585618945948,
          0.012660076940314149,
          -0.43072729929545744,
          0.799082762135179,
          -0.19105200614617102,
          0.9474012715571147,
          1.1689488445314817,
          -1.7460165226992128,
          2.0495942663939926,
          1.22064034884735,
          -0.012660076940314008,
          0.2954151418352382,
          -0.08873448029941505,
          5.19933758270342,
          -1.1689488445314817,
          1.0299567622253682,
          0.0379883512302825,
          -0.48699393885129033,
          1.8763585618945953,
          -0.2690661378543142,
          -0.13971029888186198,
          -0.6352697098765964,
          -1.6399762701332206,
          -0.604585346583237,
          0.5448472393466709,
          -1.2206403488473496,
          -1.470545243888062,
          0.4586790696940937,
          -0.7647096737863871,
          0.40310812065628565,
          0.6985257103450597
         ]
        },
        {
         "boxpoints": false,
         "line": {
          "width": 1.3
         },
         "marker": {
          "color": "rgba(55, 128, 191, 1.0)"
         },
         "name": "특성2",
         "orientation": "h",
         "type": "box",
         "x": [
          0.3757931145253799,
          -0.9084578685373852,
          0.3219708901819885,
          -5.199337582605575,
          1.8763585618945953,
          -0.2690661378543141,
          0.48699393885129066,
          1.7460165226992137,
          0.6985257103450597,
          -0.4307272992954577,
          0.5448472393466707,
          1.1689488445314824,
          0.6352697098765959,
          -0.3487556955170447,
          0.8708457453650702,
          -0.1910520061461741,
          1.0299567622253682,
          -0.11418529432142824,
          -1.7460165226992128,
          -1.2206403488473496,
          -0.5744599931693584,
          0.2690661378543142,
          0.348755695517045,
          -0.1653266691658977,
          0.2954151418352382,
          -0.8344270065319057,
          0.5157047936930386,
          0.7647096737863868,
          -0.3219708901819884,
          0.4586790696940937,
          0.19105200614617396,
          -1.3351777361189372,
          -0.012660076940314008,
          -0.088734480299417,
          2.3225745319461946,
          0.11418529432142852,
          -1.399656648049819,
          1.4705452438880633,
          0.7990827621351779,
          -0.6665642591979041,
          0.8344270065319034,
          0.0379883512302825,
          1.639976270133212,
          -0.5448472393466709,
          -1.1689488445314817,
          1.22064034884735,
          -1.0739875026403312,
          0.43072729929545284,
          1.3996566480498194,
          0.21690442598171078,
          1.0739875026403316,
          -1.1202053547494892,
          -1.4705452438880628,
          -0.40310812065628554,
          0.13971029888186212,
          -0.037988351230282213,
          -0.21690442598171064,
          0.6665642591979043,
          1.5497059007365894,
          0.012660076940314149,
          1.2758170414017846,
          5.19933758270342,
          -1.639976270133219,
          -0.06334102325685856,
          0.06334102325685884,
          -0.4586790696940935,
          0.9084578685373853,
          -0.9878373274485253,
          1.1202053547494892,
          -0.13971029888186198,
          0.6045853465832371,
          0.16532666916589658,
          0.9878373274485258,
          -1.5497059007365892,
          -0.5157047936930385,
          -0.635269709876597,
          -0.9474012715571217,
          -1.8763585618945948,
          -0.2954151418352379,
          -0.604585346583237,
          -0.2429026558860932,
          0.08873448029941519,
          0.574459993169358,
          -2.0495942663939903,
          -0.48699393885129033,
          -1.0299567622253682,
          0.24290265588608934,
          -0.7647096737863871,
          -0.8708457453650698,
          1.3351777361189372,
          -0.6985257103450601,
          -1.2758170414017846,
          -2.3225745319461932,
          -0.7990827621351786,
          -0.7312172511297167,
          0.7312172511297167,
          0.40310812065628565,
          -0.3757931145253799,
          0.9474012715571222,
          2.0495942663939926
         ]
        },
        {
         "boxpoints": false,
         "line": {
          "width": 1.3
         },
         "marker": {
          "color": "rgba(50, 171, 96, 1.0)"
         },
         "name": "특성3",
         "orientation": "h",
         "type": "box",
         "x": [
          -0.8708457453650698,
          -1.2206403488473496,
          -0.037988351230282213,
          0.6985257103450605,
          0.348755695517045,
          -0.7647096737863871,
          -0.635269709876597,
          -0.6665642591979041,
          0.8344270065319034,
          -0.2690661378543141,
          -0.7312172511297165,
          -0.5744599931693578,
          -0.11418529432142824,
          -1.470545243888062,
          1.22064034884735,
          1.275817041401785,
          -2.0495942663939903,
          1.5497059007365894,
          1.3996566480498194,
          5.19933758270342,
          0.9474012715571222,
          -1.639976270133218,
          0.8708457453650702,
          0.9878373274485258,
          -0.08873448029941505,
          0.19105200614617424,
          0.08873448029941519,
          -0.9474012715571217,
          -1.5497059007365892,
          -0.604585346583237,
          0.9084578685373853,
          0.5448472393466712,
          0.4586790696940937,
          1.1202053547494892,
          0.7647096737863871,
          0.012660076940314149,
          -0.16532666916589686,
          -1.2758170414017846,
          -0.4586790696940935,
          -0.9084578685373852,
          0.6045853465832371,
          -0.40310812065628554,
          -0.5448472393466709,
          1.8763585618945953,
          0.06334102325685884,
          -0.8344270065319033,
          1.3351777361189372,
          0.11418529432142852,
          -0.7990827621351786,
          -0.13971029888186198,
          -0.21690442598171064,
          -2.3225745319461932,
          0.16532666916589658,
          0.7312172511297167,
          0.2954151418352382,
          2.3225745319461946,
          -0.3487556955170447,
          1.0739875026403316,
          0.4307272992954577,
          1.1689488445314795,
          -1.7460165226992128,
          -1.0739875026403312,
          -0.43072729929545744,
          0.6352697098765966,
          1.6399762701332194,
          -0.3757931145253796,
          -0.06334102325685967,
          -5.199337582605575,
          0.24290265588608934,
          0.0379883512302825,
          1.4705452438880633,
          2.0495942663939926,
          1.7460165226992137,
          0.6665642591979043,
          -0.9878373274485253,
          -1.0299567622253682,
          0.5157047936930386,
          -0.48699393885129033,
          0.574459993169358,
          0.48699393885129066,
          -0.1910520061461741,
          0.21690442598171078,
          1.029956762225374,
          -1.3351777361189372,
          -0.012660076940314008,
          0.3757931145253799,
          -0.6985257103450601,
          -0.3219708901819884,
          0.40310812065628565,
          -0.24290265588608934,
          0.3219708901819885,
          -0.5157047936930385,
          -1.1202053547494892,
          -0.2954151418352379,
          0.2690661378543142,
          -1.1689488445314817,
          0.13971029888186212,
          -1.399656648049819,
          -1.8763585618945948,
          0.799082762135179
         ]
        }
       ],
       "layout": {
        "legend": {
         "bgcolor": "#F5F6F9",
         "font": {
          "color": "#4D5663"
         }
        },
        "paper_bgcolor": "#F5F6F9",
        "plot_bgcolor": "#F5F6F9",
        "template": {
         "data": {
          "bar": [
           {
            "error_x": {
             "color": "#2a3f5f"
            },
            "error_y": {
             "color": "#2a3f5f"
            },
            "marker": {
             "line": {
              "color": "#E5ECF6",
              "width": 0.5
             },
             "pattern": {
              "fillmode": "overlay",
              "size": 10,
              "solidity": 0.2
             }
            },
            "type": "bar"
           }
          ],
          "barpolar": [
           {
            "marker": {
             "line": {
              "color": "#E5ECF6",
              "width": 0.5
             },
             "pattern": {
              "fillmode": "overlay",
              "size": 10,
              "solidity": 0.2
             }
            },
            "type": "barpolar"
           }
          ],
          "carpet": [
           {
            "aaxis": {
             "endlinecolor": "#2a3f5f",
             "gridcolor": "white",
             "linecolor": "white",
             "minorgridcolor": "white",
             "startlinecolor": "#2a3f5f"
            },
            "baxis": {
             "endlinecolor": "#2a3f5f",
             "gridcolor": "white",
             "linecolor": "white",
             "minorgridcolor": "white",
             "startlinecolor": "#2a3f5f"
            },
            "type": "carpet"
           }
          ],
          "choropleth": [
           {
            "colorbar": {
             "outlinewidth": 0,
             "ticks": ""
            },
            "type": "choropleth"
           }
          ],
          "contour": [
           {
            "colorbar": {
             "outlinewidth": 0,
             "ticks": ""
            },
            "colorscale": [
             [
              0,
              "#0d0887"
             ],
             [
              0.1111111111111111,
              "#46039f"
             ],
             [
              0.2222222222222222,
              "#7201a8"
             ],
             [
              0.3333333333333333,
              "#9c179e"
             ],
             [
              0.4444444444444444,
              "#bd3786"
             ],
             [
              0.5555555555555556,
              "#d8576b"
             ],
             [
              0.6666666666666666,
              "#ed7953"
             ],
             [
              0.7777777777777778,
              "#fb9f3a"
             ],
             [
              0.8888888888888888,
              "#fdca26"
             ],
             [
              1,
              "#f0f921"
             ]
            ],
            "type": "contour"
           }
          ],
          "contourcarpet": [
           {
            "colorbar": {
             "outlinewidth": 0,
             "ticks": ""
            },
            "type": "contourcarpet"
           }
          ],
          "heatmap": [
           {
            "colorbar": {
             "outlinewidth": 0,
             "ticks": ""
            },
            "colorscale": [
             [
              0,
              "#0d0887"
             ],
             [
              0.1111111111111111,
              "#46039f"
             ],
             [
              0.2222222222222222,
              "#7201a8"
             ],
             [
              0.3333333333333333,
              "#9c179e"
             ],
             [
              0.4444444444444444,
              "#bd3786"
             ],
             [
              0.5555555555555556,
              "#d8576b"
             ],
             [
              0.6666666666666666,
              "#ed7953"
             ],
             [
              0.7777777777777778,
              "#fb9f3a"
             ],
             [
              0.8888888888888888,
              "#fdca26"
             ],
             [
              1,
              "#f0f921"
             ]
            ],
            "type": "heatmap"
           }
          ],
          "heatmapgl": [
           {
            "colorbar": {
             "outlinewidth": 0,
             "ticks": ""
            },
            "colorscale": [
             [
              0,
              "#0d0887"
             ],
             [
              0.1111111111111111,
              "#46039f"
             ],
             [
              0.2222222222222222,
              "#7201a8"
             ],
             [
              0.3333333333333333,
              "#9c179e"
             ],
             [
              0.4444444444444444,
              "#bd3786"
             ],
             [
              0.5555555555555556,
              "#d8576b"
             ],
             [
              0.6666666666666666,
              "#ed7953"
             ],
             [
              0.7777777777777778,
              "#fb9f3a"
             ],
             [
              0.8888888888888888,
              "#fdca26"
             ],
             [
              1,
              "#f0f921"
             ]
            ],
            "type": "heatmapgl"
           }
          ],
          "histogram": [
           {
            "marker": {
             "pattern": {
              "fillmode": "overlay",
              "size": 10,
              "solidity": 0.2
             }
            },
            "type": "histogram"
           }
          ],
          "histogram2d": [
           {
            "colorbar": {
             "outlinewidth": 0,
             "ticks": ""
            },
            "colorscale": [
             [
              0,
              "#0d0887"
             ],
             [
              0.1111111111111111,
              "#46039f"
             ],
             [
              0.2222222222222222,
              "#7201a8"
             ],
             [
              0.3333333333333333,
              "#9c179e"
             ],
             [
              0.4444444444444444,
              "#bd3786"
             ],
             [
              0.5555555555555556,
              "#d8576b"
             ],
             [
              0.6666666666666666,
              "#ed7953"
             ],
             [
              0.7777777777777778,
              "#fb9f3a"
             ],
             [
              0.8888888888888888,
              "#fdca26"
             ],
             [
              1,
              "#f0f921"
             ]
            ],
            "type": "histogram2d"
           }
          ],
          "histogram2dcontour": [
           {
            "colorbar": {
             "outlinewidth": 0,
             "ticks": ""
            },
            "colorscale": [
             [
              0,
              "#0d0887"
             ],
             [
              0.1111111111111111,
              "#46039f"
             ],
             [
              0.2222222222222222,
              "#7201a8"
             ],
             [
              0.3333333333333333,
              "#9c179e"
             ],
             [
              0.4444444444444444,
              "#bd3786"
             ],
             [
              0.5555555555555556,
              "#d8576b"
             ],
             [
              0.6666666666666666,
              "#ed7953"
             ],
             [
              0.7777777777777778,
              "#fb9f3a"
             ],
             [
              0.8888888888888888,
              "#fdca26"
             ],
             [
              1,
              "#f0f921"
             ]
            ],
            "type": "histogram2dcontour"
           }
          ],
          "mesh3d": [
           {
            "colorbar": {
             "outlinewidth": 0,
             "ticks": ""
            },
            "type": "mesh3d"
           }
          ],
          "parcoords": [
           {
            "line": {
             "colorbar": {
              "outlinewidth": 0,
              "ticks": ""
             }
            },
            "type": "parcoords"
           }
          ],
          "pie": [
           {
            "automargin": true,
            "type": "pie"
           }
          ],
          "scatter": [
           {
            "fillpattern": {
             "fillmode": "overlay",
             "size": 10,
             "solidity": 0.2
            },
            "type": "scatter"
           }
          ],
          "scatter3d": [
           {
            "line": {
             "colorbar": {
              "outlinewidth": 0,
              "ticks": ""
             }
            },
            "marker": {
             "colorbar": {
              "outlinewidth": 0,
              "ticks": ""
             }
            },
            "type": "scatter3d"
           }
          ],
          "scattercarpet": [
           {
            "marker": {
             "colorbar": {
              "outlinewidth": 0,
              "ticks": ""
             }
            },
            "type": "scattercarpet"
           }
          ],
          "scattergeo": [
           {
            "marker": {
             "colorbar": {
              "outlinewidth": 0,
              "ticks": ""
             }
            },
            "type": "scattergeo"
           }
          ],
          "scattergl": [
           {
            "marker": {
             "colorbar": {
              "outlinewidth": 0,
              "ticks": ""
             }
            },
            "type": "scattergl"
           }
          ],
          "scattermapbox": [
           {
            "marker": {
             "colorbar": {
              "outlinewidth": 0,
              "ticks": ""
             }
            },
            "type": "scattermapbox"
           }
          ],
          "scatterpolar": [
           {
            "marker": {
             "colorbar": {
              "outlinewidth": 0,
              "ticks": ""
             }
            },
            "type": "scatterpolar"
           }
          ],
          "scatterpolargl": [
           {
            "marker": {
             "colorbar": {
              "outlinewidth": 0,
              "ticks": ""
             }
            },
            "type": "scatterpolargl"
           }
          ],
          "scatterternary": [
           {
            "marker": {
             "colorbar": {
              "outlinewidth": 0,
              "ticks": ""
             }
            },
            "type": "scatterternary"
           }
          ],
          "surface": [
           {
            "colorbar": {
             "outlinewidth": 0,
             "ticks": ""
            },
            "colorscale": [
             [
              0,
              "#0d0887"
             ],
             [
              0.1111111111111111,
              "#46039f"
             ],
             [
              0.2222222222222222,
              "#7201a8"
             ],
             [
              0.3333333333333333,
              "#9c179e"
             ],
             [
              0.4444444444444444,
              "#bd3786"
             ],
             [
              0.5555555555555556,
              "#d8576b"
             ],
             [
              0.6666666666666666,
              "#ed7953"
             ],
             [
              0.7777777777777778,
              "#fb9f3a"
             ],
             [
              0.8888888888888888,
              "#fdca26"
             ],
             [
              1,
              "#f0f921"
             ]
            ],
            "type": "surface"
           }
          ],
          "table": [
           {
            "cells": {
             "fill": {
              "color": "#EBF0F8"
             },
             "line": {
              "color": "white"
             }
            },
            "header": {
             "fill": {
              "color": "#C8D4E3"
             },
             "line": {
              "color": "white"
             }
            },
            "type": "table"
           }
          ]
         },
         "layout": {
          "annotationdefaults": {
           "arrowcolor": "#2a3f5f",
           "arrowhead": 0,
           "arrowwidth": 1
          },
          "autotypenumbers": "strict",
          "coloraxis": {
           "colorbar": {
            "outlinewidth": 0,
            "ticks": ""
           }
          },
          "colorscale": {
           "diverging": [
            [
             0,
             "#8e0152"
            ],
            [
             0.1,
             "#c51b7d"
            ],
            [
             0.2,
             "#de77ae"
            ],
            [
             0.3,
             "#f1b6da"
            ],
            [
             0.4,
             "#fde0ef"
            ],
            [
             0.5,
             "#f7f7f7"
            ],
            [
             0.6,
             "#e6f5d0"
            ],
            [
             0.7,
             "#b8e186"
            ],
            [
             0.8,
             "#7fbc41"
            ],
            [
             0.9,
             "#4d9221"
            ],
            [
             1,
             "#276419"
            ]
           ],
           "sequential": [
            [
             0,
             "#0d0887"
            ],
            [
             0.1111111111111111,
             "#46039f"
            ],
            [
             0.2222222222222222,
             "#7201a8"
            ],
            [
             0.3333333333333333,
             "#9c179e"
            ],
            [
             0.4444444444444444,
             "#bd3786"
            ],
            [
             0.5555555555555556,
             "#d8576b"
            ],
            [
             0.6666666666666666,
             "#ed7953"
            ],
            [
             0.7777777777777778,
             "#fb9f3a"
            ],
            [
             0.8888888888888888,
             "#fdca26"
            ],
            [
             1,
             "#f0f921"
            ]
           ],
           "sequentialminus": [
            [
             0,
             "#0d0887"
            ],
            [
             0.1111111111111111,
             "#46039f"
            ],
            [
             0.2222222222222222,
             "#7201a8"
            ],
            [
             0.3333333333333333,
             "#9c179e"
            ],
            [
             0.4444444444444444,
             "#bd3786"
            ],
            [
             0.5555555555555556,
             "#d8576b"
            ],
            [
             0.6666666666666666,
             "#ed7953"
            ],
            [
             0.7777777777777778,
             "#fb9f3a"
            ],
            [
             0.8888888888888888,
             "#fdca26"
            ],
            [
             1,
             "#f0f921"
            ]
           ]
          },
          "colorway": [
           "#636efa",
           "#EF553B",
           "#00cc96",
           "#ab63fa",
           "#FFA15A",
           "#19d3f3",
           "#FF6692",
           "#B6E880",
           "#FF97FF",
           "#FECB52"
          ],
          "font": {
           "color": "#2a3f5f"
          },
          "geo": {
           "bgcolor": "white",
           "lakecolor": "white",
           "landcolor": "#E5ECF6",
           "showlakes": true,
           "showland": true,
           "subunitcolor": "white"
          },
          "hoverlabel": {
           "align": "left"
          },
          "hovermode": "closest",
          "mapbox": {
           "style": "light"
          },
          "paper_bgcolor": "white",
          "plot_bgcolor": "#E5ECF6",
          "polar": {
           "angularaxis": {
            "gridcolor": "white",
            "linecolor": "white",
            "ticks": ""
           },
           "bgcolor": "#E5ECF6",
           "radialaxis": {
            "gridcolor": "white",
            "linecolor": "white",
            "ticks": ""
           }
          },
          "scene": {
           "xaxis": {
            "backgroundcolor": "#E5ECF6",
            "gridcolor": "white",
            "gridwidth": 2,
            "linecolor": "white",
            "showbackground": true,
            "ticks": "",
            "zerolinecolor": "white"
           },
           "yaxis": {
            "backgroundcolor": "#E5ECF6",
            "gridcolor": "white",
            "gridwidth": 2,
            "linecolor": "white",
            "showbackground": true,
            "ticks": "",
            "zerolinecolor": "white"
           },
           "zaxis": {
            "backgroundcolor": "#E5ECF6",
            "gridcolor": "white",
            "gridwidth": 2,
            "linecolor": "white",
            "showbackground": true,
            "ticks": "",
            "zerolinecolor": "white"
           }
          },
          "shapedefaults": {
           "line": {
            "color": "#2a3f5f"
           }
          },
          "ternary": {
           "aaxis": {
            "gridcolor": "white",
            "linecolor": "white",
            "ticks": ""
           },
           "baxis": {
            "gridcolor": "white",
            "linecolor": "white",
            "ticks": ""
           },
           "bgcolor": "#E5ECF6",
           "caxis": {
            "gridcolor": "white",
            "linecolor": "white",
            "ticks": ""
           }
          },
          "title": {
           "x": 0.05
          },
          "xaxis": {
           "automargin": true,
           "gridcolor": "white",
           "linecolor": "white",
           "ticks": "",
           "title": {
            "standoff": 15
           },
           "zerolinecolor": "white",
           "zerolinewidth": 2
          },
          "yaxis": {
           "automargin": true,
           "gridcolor": "white",
           "linecolor": "white",
           "ticks": "",
           "title": {
            "standoff": 15
           },
           "zerolinecolor": "white",
           "zerolinewidth": 2
          }
         }
        },
        "title": {
         "font": {
          "color": "#4D5663"
         }
        },
        "xaxis": {
         "gridcolor": "#E1E5ED",
         "showgrid": true,
         "tickfont": {
          "color": "#4D5663"
         },
         "title": {
          "font": {
           "color": "#4D5663"
          },
          "text": ""
         },
         "zerolinecolor": "#E1E5ED"
        },
        "yaxis": {
         "gridcolor": "#E1E5ED",
         "showgrid": true,
         "tickfont": {
          "color": "#4D5663"
         },
         "title": {
          "font": {
           "color": "#4D5663"
          },
          "text": ""
         },
         "zerolinecolor": "#E1E5ED"
        }
       }
      },
      "text/html": [
       "<div>                            <div id=\"e437f27a-758c-4633-acd6-cfef8746e7b5\" class=\"plotly-graph-div\" style=\"height:525px; width:100%;\"></div>            <script type=\"text/javascript\">                require([\"plotly\"], function(Plotly) {                    window.PLOTLYENV=window.PLOTLYENV || {};\n",
       "                    window.PLOTLYENV.BASE_URL='https://plot.ly';                                    if (document.getElementById(\"e437f27a-758c-4633-acd6-cfef8746e7b5\")) {                    Plotly.newPlot(                        \"e437f27a-758c-4633-acd6-cfef8746e7b5\",                        [{\"boxpoints\":false,\"line\":{\"width\":1.3},\"marker\":{\"color\":\"rgba(255, 153, 51, 1.0)\"},\"name\":\"\\ud2b9\\uc1311\",\"orientation\":\"h\",\"x\":[0.21690442598171078,-2.3225745319461932,0.6352697098765959,-0.11418529432142838,0.2690661378543142,0.3219708901819885,0.48699393885129005,-2.0495942663939903,-0.7312172511297165,0.08873448029941519,-0.6985257103450601,-0.16532666916589686,0.8344270065319034,-1.0299567622253682,0.24290265588608934,-1.0739875026403316,-0.8344270065319033,0.11418529432142824,-0.9084578685373852,1.33517773611893,-0.3757931145253802,1.3996566480501436,0.13971029888186212,-0.5448472393466709,-0.5744599931693587,0.5157047936930386,1.1202053547494821,-0.3219708901819884,0.19105200614617424,-0.6665642591979041,-0.2954151418352379,-0.4586790696940935,1.275817041401785,-1.2758170414017846,0.9878373274485258,-1.1202053547494892,0.3757931145253799,0.7312172511297167,2.3225745319461946,-0.5157047936930385,1.5497059007365894,1.0739875026403316,-0.9878373274485253,-0.21690442598171505,-0.947401271557124,1.7460165226992121,0.06334102325685856,-0.3487556955170447,0.43072729929545717,-0.4031081206562861,-0.8708457453650698,0.16532666916589542,-0.24290265588608934,-0.06334102325685911,-5.199337582605575,0.6045853465832371,0.34875569551704444,-1.3351777361189372,-0.037988351230282213,0.574459993169358,1.63997627013313,0.9084578685373853,-1.399656648049819,0.8708457453650702,-0.7990827621351786,0.6665642591979043,-1.5497059007365892,0.7647096737863871,1.4705452438880633,-1.8763585618945948,0.012660076940314149,-0.43072729929545744,0.799082762135179,-0.19105200614617102,0.9474012715571147,1.1689488445314817,-1.7460165226992128,2.0495942663939926,1.22064034884735,-0.012660076940314008,0.2954151418352382,-0.08873448029941505,5.19933758270342,-1.1689488445314817,1.0299567622253682,0.0379883512302825,-0.48699393885129033,1.8763585618945953,-0.2690661378543142,-0.13971029888186198,-0.6352697098765964,-1.6399762701332206,-0.604585346583237,0.5448472393466709,-1.2206403488473496,-1.470545243888062,0.4586790696940937,-0.7647096737863871,0.40310812065628565,0.6985257103450597],\"type\":\"box\"},{\"boxpoints\":false,\"line\":{\"width\":1.3},\"marker\":{\"color\":\"rgba(55, 128, 191, 1.0)\"},\"name\":\"\\ud2b9\\uc1312\",\"orientation\":\"h\",\"x\":[0.3757931145253799,-0.9084578685373852,0.3219708901819885,-5.199337582605575,1.8763585618945953,-0.2690661378543141,0.48699393885129066,1.7460165226992137,0.6985257103450597,-0.4307272992954577,0.5448472393466707,1.1689488445314824,0.6352697098765959,-0.3487556955170447,0.8708457453650702,-0.1910520061461741,1.0299567622253682,-0.11418529432142824,-1.7460165226992128,-1.2206403488473496,-0.5744599931693584,0.2690661378543142,0.348755695517045,-0.1653266691658977,0.2954151418352382,-0.8344270065319057,0.5157047936930386,0.7647096737863868,-0.3219708901819884,0.4586790696940937,0.19105200614617396,-1.3351777361189372,-0.012660076940314008,-0.088734480299417,2.3225745319461946,0.11418529432142852,-1.399656648049819,1.4705452438880633,0.7990827621351779,-0.6665642591979041,0.8344270065319034,0.0379883512302825,1.639976270133212,-0.5448472393466709,-1.1689488445314817,1.22064034884735,-1.0739875026403312,0.43072729929545284,1.3996566480498194,0.21690442598171078,1.0739875026403316,-1.1202053547494892,-1.4705452438880628,-0.40310812065628554,0.13971029888186212,-0.037988351230282213,-0.21690442598171064,0.6665642591979043,1.5497059007365894,0.012660076940314149,1.2758170414017846,5.19933758270342,-1.639976270133219,-0.06334102325685856,0.06334102325685884,-0.4586790696940935,0.9084578685373853,-0.9878373274485253,1.1202053547494892,-0.13971029888186198,0.6045853465832371,0.16532666916589658,0.9878373274485258,-1.5497059007365892,-0.5157047936930385,-0.635269709876597,-0.9474012715571217,-1.8763585618945948,-0.2954151418352379,-0.604585346583237,-0.2429026558860932,0.08873448029941519,0.574459993169358,-2.0495942663939903,-0.48699393885129033,-1.0299567622253682,0.24290265588608934,-0.7647096737863871,-0.8708457453650698,1.3351777361189372,-0.6985257103450601,-1.2758170414017846,-2.3225745319461932,-0.7990827621351786,-0.7312172511297167,0.7312172511297167,0.40310812065628565,-0.3757931145253799,0.9474012715571222,2.0495942663939926],\"type\":\"box\"},{\"boxpoints\":false,\"line\":{\"width\":1.3},\"marker\":{\"color\":\"rgba(50, 171, 96, 1.0)\"},\"name\":\"\\ud2b9\\uc1313\",\"orientation\":\"h\",\"x\":[-0.8708457453650698,-1.2206403488473496,-0.037988351230282213,0.6985257103450605,0.348755695517045,-0.7647096737863871,-0.635269709876597,-0.6665642591979041,0.8344270065319034,-0.2690661378543141,-0.7312172511297165,-0.5744599931693578,-0.11418529432142824,-1.470545243888062,1.22064034884735,1.275817041401785,-2.0495942663939903,1.5497059007365894,1.3996566480498194,5.19933758270342,0.9474012715571222,-1.639976270133218,0.8708457453650702,0.9878373274485258,-0.08873448029941505,0.19105200614617424,0.08873448029941519,-0.9474012715571217,-1.5497059007365892,-0.604585346583237,0.9084578685373853,0.5448472393466712,0.4586790696940937,1.1202053547494892,0.7647096737863871,0.012660076940314149,-0.16532666916589686,-1.2758170414017846,-0.4586790696940935,-0.9084578685373852,0.6045853465832371,-0.40310812065628554,-0.5448472393466709,1.8763585618945953,0.06334102325685884,-0.8344270065319033,1.3351777361189372,0.11418529432142852,-0.7990827621351786,-0.13971029888186198,-0.21690442598171064,-2.3225745319461932,0.16532666916589658,0.7312172511297167,0.2954151418352382,2.3225745319461946,-0.3487556955170447,1.0739875026403316,0.4307272992954577,1.1689488445314795,-1.7460165226992128,-1.0739875026403312,-0.43072729929545744,0.6352697098765966,1.6399762701332194,-0.3757931145253796,-0.06334102325685967,-5.199337582605575,0.24290265588608934,0.0379883512302825,1.4705452438880633,2.0495942663939926,1.7460165226992137,0.6665642591979043,-0.9878373274485253,-1.0299567622253682,0.5157047936930386,-0.48699393885129033,0.574459993169358,0.48699393885129066,-0.1910520061461741,0.21690442598171078,1.029956762225374,-1.3351777361189372,-0.012660076940314008,0.3757931145253799,-0.6985257103450601,-0.3219708901819884,0.40310812065628565,-0.24290265588608934,0.3219708901819885,-0.5157047936930385,-1.1202053547494892,-0.2954151418352379,0.2690661378543142,-1.1689488445314817,0.13971029888186212,-1.399656648049819,-1.8763585618945948,0.799082762135179],\"type\":\"box\"}],                        {\"legend\":{\"bgcolor\":\"#F5F6F9\",\"font\":{\"color\":\"#4D5663\"}},\"paper_bgcolor\":\"#F5F6F9\",\"plot_bgcolor\":\"#F5F6F9\",\"template\":{\"data\":{\"barpolar\":[{\"marker\":{\"line\":{\"color\":\"#E5ECF6\",\"width\":0.5},\"pattern\":{\"fillmode\":\"overlay\",\"size\":10,\"solidity\":0.2}},\"type\":\"barpolar\"}],\"bar\":[{\"error_x\":{\"color\":\"#2a3f5f\"},\"error_y\":{\"color\":\"#2a3f5f\"},\"marker\":{\"line\":{\"color\":\"#E5ECF6\",\"width\":0.5},\"pattern\":{\"fillmode\":\"overlay\",\"size\":10,\"solidity\":0.2}},\"type\":\"bar\"}],\"carpet\":[{\"aaxis\":{\"endlinecolor\":\"#2a3f5f\",\"gridcolor\":\"white\",\"linecolor\":\"white\",\"minorgridcolor\":\"white\",\"startlinecolor\":\"#2a3f5f\"},\"baxis\":{\"endlinecolor\":\"#2a3f5f\",\"gridcolor\":\"white\",\"linecolor\":\"white\",\"minorgridcolor\":\"white\",\"startlinecolor\":\"#2a3f5f\"},\"type\":\"carpet\"}],\"choropleth\":[{\"colorbar\":{\"outlinewidth\":0,\"ticks\":\"\"},\"type\":\"choropleth\"}],\"contourcarpet\":[{\"colorbar\":{\"outlinewidth\":0,\"ticks\":\"\"},\"type\":\"contourcarpet\"}],\"contour\":[{\"colorbar\":{\"outlinewidth\":0,\"ticks\":\"\"},\"colorscale\":[[0.0,\"#0d0887\"],[0.1111111111111111,\"#46039f\"],[0.2222222222222222,\"#7201a8\"],[0.3333333333333333,\"#9c179e\"],[0.4444444444444444,\"#bd3786\"],[0.5555555555555556,\"#d8576b\"],[0.6666666666666666,\"#ed7953\"],[0.7777777777777778,\"#fb9f3a\"],[0.8888888888888888,\"#fdca26\"],[1.0,\"#f0f921\"]],\"type\":\"contour\"}],\"heatmapgl\":[{\"colorbar\":{\"outlinewidth\":0,\"ticks\":\"\"},\"colorscale\":[[0.0,\"#0d0887\"],[0.1111111111111111,\"#46039f\"],[0.2222222222222222,\"#7201a8\"],[0.3333333333333333,\"#9c179e\"],[0.4444444444444444,\"#bd3786\"],[0.5555555555555556,\"#d8576b\"],[0.6666666666666666,\"#ed7953\"],[0.7777777777777778,\"#fb9f3a\"],[0.8888888888888888,\"#fdca26\"],[1.0,\"#f0f921\"]],\"type\":\"heatmapgl\"}],\"heatmap\":[{\"colorbar\":{\"outlinewidth\":0,\"ticks\":\"\"},\"colorscale\":[[0.0,\"#0d0887\"],[0.1111111111111111,\"#46039f\"],[0.2222222222222222,\"#7201a8\"],[0.3333333333333333,\"#9c179e\"],[0.4444444444444444,\"#bd3786\"],[0.5555555555555556,\"#d8576b\"],[0.6666666666666666,\"#ed7953\"],[0.7777777777777778,\"#fb9f3a\"],[0.8888888888888888,\"#fdca26\"],[1.0,\"#f0f921\"]],\"type\":\"heatmap\"}],\"histogram2dcontour\":[{\"colorbar\":{\"outlinewidth\":0,\"ticks\":\"\"},\"colorscale\":[[0.0,\"#0d0887\"],[0.1111111111111111,\"#46039f\"],[0.2222222222222222,\"#7201a8\"],[0.3333333333333333,\"#9c179e\"],[0.4444444444444444,\"#bd3786\"],[0.5555555555555556,\"#d8576b\"],[0.6666666666666666,\"#ed7953\"],[0.7777777777777778,\"#fb9f3a\"],[0.8888888888888888,\"#fdca26\"],[1.0,\"#f0f921\"]],\"type\":\"histogram2dcontour\"}],\"histogram2d\":[{\"colorbar\":{\"outlinewidth\":0,\"ticks\":\"\"},\"colorscale\":[[0.0,\"#0d0887\"],[0.1111111111111111,\"#46039f\"],[0.2222222222222222,\"#7201a8\"],[0.3333333333333333,\"#9c179e\"],[0.4444444444444444,\"#bd3786\"],[0.5555555555555556,\"#d8576b\"],[0.6666666666666666,\"#ed7953\"],[0.7777777777777778,\"#fb9f3a\"],[0.8888888888888888,\"#fdca26\"],[1.0,\"#f0f921\"]],\"type\":\"histogram2d\"}],\"histogram\":[{\"marker\":{\"pattern\":{\"fillmode\":\"overlay\",\"size\":10,\"solidity\":0.2}},\"type\":\"histogram\"}],\"mesh3d\":[{\"colorbar\":{\"outlinewidth\":0,\"ticks\":\"\"},\"type\":\"mesh3d\"}],\"parcoords\":[{\"line\":{\"colorbar\":{\"outlinewidth\":0,\"ticks\":\"\"}},\"type\":\"parcoords\"}],\"pie\":[{\"automargin\":true,\"type\":\"pie\"}],\"scatter3d\":[{\"line\":{\"colorbar\":{\"outlinewidth\":0,\"ticks\":\"\"}},\"marker\":{\"colorbar\":{\"outlinewidth\":0,\"ticks\":\"\"}},\"type\":\"scatter3d\"}],\"scattercarpet\":[{\"marker\":{\"colorbar\":{\"outlinewidth\":0,\"ticks\":\"\"}},\"type\":\"scattercarpet\"}],\"scattergeo\":[{\"marker\":{\"colorbar\":{\"outlinewidth\":0,\"ticks\":\"\"}},\"type\":\"scattergeo\"}],\"scattergl\":[{\"marker\":{\"colorbar\":{\"outlinewidth\":0,\"ticks\":\"\"}},\"type\":\"scattergl\"}],\"scattermapbox\":[{\"marker\":{\"colorbar\":{\"outlinewidth\":0,\"ticks\":\"\"}},\"type\":\"scattermapbox\"}],\"scatterpolargl\":[{\"marker\":{\"colorbar\":{\"outlinewidth\":0,\"ticks\":\"\"}},\"type\":\"scatterpolargl\"}],\"scatterpolar\":[{\"marker\":{\"colorbar\":{\"outlinewidth\":0,\"ticks\":\"\"}},\"type\":\"scatterpolar\"}],\"scatter\":[{\"fillpattern\":{\"fillmode\":\"overlay\",\"size\":10,\"solidity\":0.2},\"type\":\"scatter\"}],\"scatterternary\":[{\"marker\":{\"colorbar\":{\"outlinewidth\":0,\"ticks\":\"\"}},\"type\":\"scatterternary\"}],\"surface\":[{\"colorbar\":{\"outlinewidth\":0,\"ticks\":\"\"},\"colorscale\":[[0.0,\"#0d0887\"],[0.1111111111111111,\"#46039f\"],[0.2222222222222222,\"#7201a8\"],[0.3333333333333333,\"#9c179e\"],[0.4444444444444444,\"#bd3786\"],[0.5555555555555556,\"#d8576b\"],[0.6666666666666666,\"#ed7953\"],[0.7777777777777778,\"#fb9f3a\"],[0.8888888888888888,\"#fdca26\"],[1.0,\"#f0f921\"]],\"type\":\"surface\"}],\"table\":[{\"cells\":{\"fill\":{\"color\":\"#EBF0F8\"},\"line\":{\"color\":\"white\"}},\"header\":{\"fill\":{\"color\":\"#C8D4E3\"},\"line\":{\"color\":\"white\"}},\"type\":\"table\"}]},\"layout\":{\"annotationdefaults\":{\"arrowcolor\":\"#2a3f5f\",\"arrowhead\":0,\"arrowwidth\":1},\"autotypenumbers\":\"strict\",\"coloraxis\":{\"colorbar\":{\"outlinewidth\":0,\"ticks\":\"\"}},\"colorscale\":{\"diverging\":[[0,\"#8e0152\"],[0.1,\"#c51b7d\"],[0.2,\"#de77ae\"],[0.3,\"#f1b6da\"],[0.4,\"#fde0ef\"],[0.5,\"#f7f7f7\"],[0.6,\"#e6f5d0\"],[0.7,\"#b8e186\"],[0.8,\"#7fbc41\"],[0.9,\"#4d9221\"],[1,\"#276419\"]],\"sequential\":[[0.0,\"#0d0887\"],[0.1111111111111111,\"#46039f\"],[0.2222222222222222,\"#7201a8\"],[0.3333333333333333,\"#9c179e\"],[0.4444444444444444,\"#bd3786\"],[0.5555555555555556,\"#d8576b\"],[0.6666666666666666,\"#ed7953\"],[0.7777777777777778,\"#fb9f3a\"],[0.8888888888888888,\"#fdca26\"],[1.0,\"#f0f921\"]],\"sequentialminus\":[[0.0,\"#0d0887\"],[0.1111111111111111,\"#46039f\"],[0.2222222222222222,\"#7201a8\"],[0.3333333333333333,\"#9c179e\"],[0.4444444444444444,\"#bd3786\"],[0.5555555555555556,\"#d8576b\"],[0.6666666666666666,\"#ed7953\"],[0.7777777777777778,\"#fb9f3a\"],[0.8888888888888888,\"#fdca26\"],[1.0,\"#f0f921\"]]},\"colorway\":[\"#636efa\",\"#EF553B\",\"#00cc96\",\"#ab63fa\",\"#FFA15A\",\"#19d3f3\",\"#FF6692\",\"#B6E880\",\"#FF97FF\",\"#FECB52\"],\"font\":{\"color\":\"#2a3f5f\"},\"geo\":{\"bgcolor\":\"white\",\"lakecolor\":\"white\",\"landcolor\":\"#E5ECF6\",\"showlakes\":true,\"showland\":true,\"subunitcolor\":\"white\"},\"hoverlabel\":{\"align\":\"left\"},\"hovermode\":\"closest\",\"mapbox\":{\"style\":\"light\"},\"paper_bgcolor\":\"white\",\"plot_bgcolor\":\"#E5ECF6\",\"polar\":{\"angularaxis\":{\"gridcolor\":\"white\",\"linecolor\":\"white\",\"ticks\":\"\"},\"bgcolor\":\"#E5ECF6\",\"radialaxis\":{\"gridcolor\":\"white\",\"linecolor\":\"white\",\"ticks\":\"\"}},\"scene\":{\"xaxis\":{\"backgroundcolor\":\"#E5ECF6\",\"gridcolor\":\"white\",\"gridwidth\":2,\"linecolor\":\"white\",\"showbackground\":true,\"ticks\":\"\",\"zerolinecolor\":\"white\"},\"yaxis\":{\"backgroundcolor\":\"#E5ECF6\",\"gridcolor\":\"white\",\"gridwidth\":2,\"linecolor\":\"white\",\"showbackground\":true,\"ticks\":\"\",\"zerolinecolor\":\"white\"},\"zaxis\":{\"backgroundcolor\":\"#E5ECF6\",\"gridcolor\":\"white\",\"gridwidth\":2,\"linecolor\":\"white\",\"showbackground\":true,\"ticks\":\"\",\"zerolinecolor\":\"white\"}},\"shapedefaults\":{\"line\":{\"color\":\"#2a3f5f\"}},\"ternary\":{\"aaxis\":{\"gridcolor\":\"white\",\"linecolor\":\"white\",\"ticks\":\"\"},\"baxis\":{\"gridcolor\":\"white\",\"linecolor\":\"white\",\"ticks\":\"\"},\"bgcolor\":\"#E5ECF6\",\"caxis\":{\"gridcolor\":\"white\",\"linecolor\":\"white\",\"ticks\":\"\"}},\"title\":{\"x\":0.05},\"xaxis\":{\"automargin\":true,\"gridcolor\":\"white\",\"linecolor\":\"white\",\"ticks\":\"\",\"title\":{\"standoff\":15},\"zerolinecolor\":\"white\",\"zerolinewidth\":2},\"yaxis\":{\"automargin\":true,\"gridcolor\":\"white\",\"linecolor\":\"white\",\"ticks\":\"\",\"title\":{\"standoff\":15},\"zerolinecolor\":\"white\",\"zerolinewidth\":2}}},\"title\":{\"font\":{\"color\":\"#4D5663\"}},\"xaxis\":{\"gridcolor\":\"#E1E5ED\",\"showgrid\":true,\"tickfont\":{\"color\":\"#4D5663\"},\"title\":{\"font\":{\"color\":\"#4D5663\"},\"text\":\"\"},\"zerolinecolor\":\"#E1E5ED\"},\"yaxis\":{\"gridcolor\":\"#E1E5ED\",\"showgrid\":true,\"tickfont\":{\"color\":\"#4D5663\"},\"title\":{\"font\":{\"color\":\"#4D5663\"},\"text\":\"\"},\"zerolinecolor\":\"#E1E5ED\"}},                        {\"showLink\": true, \"linkText\": \"Export to plot.ly\", \"plotlyServerURL\": \"https://plot.ly\", \"responsive\": true}                    ).then(function(){\n",
       "                            \n",
       "var gd = document.getElementById('e437f27a-758c-4633-acd6-cfef8746e7b5');\n",
       "var x = new MutationObserver(function (mutations, observer) {{\n",
       "        var display = window.getComputedStyle(gd).display;\n",
       "        if (!display || display === 'none') {{\n",
       "            console.log([gd, 'removed!']);\n",
       "            Plotly.purge(gd);\n",
       "            observer.disconnect();\n",
       "        }}\n",
       "}});\n",
       "\n",
       "// Listen for the removal of the full notebook cells\n",
       "var notebookContainer = gd.closest('#notebook-container');\n",
       "if (notebookContainer) {{\n",
       "    x.observe(notebookContainer, {childList: true});\n",
       "}}\n",
       "\n",
       "// Listen for the clearing of the current output cell\n",
       "var outputEl = gd.closest('.output');\n",
       "if (outputEl) {{\n",
       "    x.observe(outputEl, {childList: true});\n",
       "}}\n",
       "\n",
       "                        })                };                });            </script>        </div>"
      ]
     },
     "metadata": {},
     "output_type": "display_data"
    }
   ],
   "source": [
    "X_scaled_df.iplot(kind='box', orientation='h')"
   ]
  },
  {
   "cell_type": "markdown",
   "metadata": {},
   "source": [
    "__파워 변환 (Power Transformation) : Yeo-Johnson 또는 Box-Cox 변환을 사용__\n",
    "\n",
    "* 정규성을 향상시키고자 할 때"
   ]
  },
  {
   "cell_type": "code",
   "execution_count": 84,
   "metadata": {},
   "outputs": [],
   "source": [
    "from sklearn.preprocessing import PowerTransformer\n",
    "scaler = PowerTransformer(method='yeo-johnson')\n",
    "X_scaled = scaler.fit_transform(X)"
   ]
  },
  {
   "cell_type": "code",
   "execution_count": 85,
   "metadata": {},
   "outputs": [
    {
     "name": "stdout",
     "output_type": "stream",
     "text": [
      "파워 변환된 데이터:\n",
      "                특성1           특성2           특성3\n",
      "count  1.000000e+02  1.000000e+02  1.000000e+02\n",
      "mean   6.794565e-16  4.884981e-17 -2.100542e-15\n",
      "std    1.005038e+00  1.005038e+00  1.005038e+00\n",
      "min   -2.262206e+00 -1.997699e+00 -1.755455e+00\n",
      "25%   -7.893526e-01 -8.439052e-01 -8.256474e-01\n",
      "50%    1.682651e-02  2.502742e-01 -2.562468e-02\n",
      "75%    9.054330e-01  7.950453e-01  8.736076e-01\n",
      "max    1.545592e+00  1.508079e+00  1.650536e+00\n"
     ]
    }
   ],
   "source": [
    "X_scaled_df = pd.DataFrame(X_scaled, columns=['특성1', '특성2', '특성3'])\n",
    "print(\"파워 변환된 데이터:\")\n",
    "print(X_scaled_df.describe())"
   ]
  },
  {
   "cell_type": "code",
   "execution_count": 86,
   "metadata": {},
   "outputs": [
    {
     "data": {
      "application/vnd.plotly.v1+json": {
       "config": {
        "linkText": "Export to plot.ly",
        "plotlyServerURL": "https://plot.ly",
        "showLink": true
       },
       "data": [
        {
         "boxpoints": false,
         "line": {
          "width": 1.3
         },
         "marker": {
          "color": "rgba(255, 153, 51, 1.0)"
         },
         "name": "특성1",
         "orientation": "h",
         "type": "box",
         "x": [
          0.37291185272699473,
          -2.0631472933892323,
          0.8525306184880123,
          -0.1416543219527551,
          0.4240039370069832,
          0.43873973248459075,
          0.6593508653376031,
          -1.7357296292826825,
          -0.8170329766319848,
          0.2150361903418271,
          -0.8011271710996901,
          -0.1822851466731451,
          1.0421736057264848,
          -1.069737992971685,
          0.40275155433073195,
          -1.1882950389568456,
          -0.9327290746110264,
          0.24567419463972562,
          -0.977530937472784,
          1.331105039331404,
          -0.5438715744575775,
          1.3507700977359247,
          0.269907045728582,
          -0.6914452379061748,
          -0.7679160640329356,
          0.6987700579829207,
          1.2506791972372557,
          -0.41046606621958953,
          0.36702823424174363,
          -0.7854277680900814,
          -0.3675925783754922,
          -0.6577176170473947,
          1.3268718754925148,
          -1.321137372506343,
          1.2257836971991227,
          -1.2050294454574353,
          0.4738953286202872,
          1.0196112626871752,
          1.5339398340193837,
          -0.6899332811858081,
          1.3536840201475977,
          1.24465576982587,
          -1.0517476485112136,
          -0.2899472981867191,
          -1.0459537568993678,
          1.4282819413923333,
          0.1280498303416896,
          -0.416346448255778,
          0.537475697206874,
          -0.5876371609553642,
          -0.9354444796371273,
          0.2776615910390816,
          -0.29487940647454264,
          -0.09751836625180986,
          -2.2622055543671733,
          0.8351969668651478,
          0.450778929733582,
          -1.4729900444668234,
          -0.07112769308467795,
          0.8322435271482398,
          1.3546649471652896,
          1.095347047482066,
          -1.4749141193785495,
          1.0807929156161298,
          -0.9268645962863677,
          0.8940281264809912,
          -1.5249805347178755,
          1.0321781271802892,
          1.3508639423323985,
          -1.709260195497321,
          0.018240090676541455,
          -0.6007571237711735,
          1.042129000404885,
          -0.1889961607999591,
          1.1052321152389317,
          1.3019487457036438,
          -1.6470649790777574,
          1.5194225602243674,
          1.3265140861634626,
          0.01541292532077653,
          0.42505975697221815,
          -0.10953227291326015,
          1.5455924816171895,
          -1.2385419539538376,
          1.2309814862754755,
          0.08010032677293454,
          -0.6739675741121817,
          1.455669544213132,
          -0.32265454124813364,
          -0.17995749413426856,
          -0.7812337882605892,
          -1.642502929739279,
          -0.7766007335834799,
          0.7825128298644712,
          -1.2888919804616648,
          -1.5136639786194896,
          0.6345255496688922,
          -0.8219487344847077,
          0.4775112660935468,
          0.9396477699239061
         ]
        },
        {
         "boxpoints": false,
         "line": {
          "width": 1.3
         },
         "marker": {
          "color": "rgba(55, 128, 191, 1.0)"
         },
         "name": "특성2",
         "orientation": "h",
         "type": "box",
         "x": [
          0.5830243537846121,
          -1.1624642354810786,
          0.5185993289912298,
          -1.9976987486249347,
          1.4171310119870595,
          -0.2595183996021209,
          0.7020936426495558,
          1.4144410014706603,
          0.8068256039712596,
          -0.49500795041922996,
          0.7166490776862106,
          1.1730045645623157,
          0.7769171655450957,
          -0.36175186201712817,
          1.0271882899639515,
          -0.07483628191296109,
          1.1216976299435104,
          0.012525256605108554,
          -1.7661168007937036,
          -1.3293575028848157,
          -0.7496943957927814,
          0.509284966023082,
          0.5680271680223471,
          -0.06509216859245566,
          0.5111238322549785,
          -1.09856142945507,
          0.7046824144970162,
          0.8686023187294127,
          -0.32251939917173966,
          0.6968481608665477,
          0.37438852299239794,
          -1.347662759486682,
          0.23300894164091934,
          0.02557295624697887,
          1.4489600958667477,
          0.2913661434026018,
          -1.428134329866847,
          1.3486551456216396,
          0.9001437721657695,
          -0.8344628556856868,
          0.9723800310932891,
          0.2863311759223875,
          1.363893408578984,
          -0.6583465228738874,
          -1.305557668717966,
          1.17445281213599,
          -1.2834226217021438,
          0.5953232471087437,
          1.330818766630893,
          0.453133956377312,
          1.1480520868082422,
          -1.2965265013155003,
          -1.5853972830199996,
          -0.39213507137511255,
          0.29883442571449603,
          0.16730534653307313,
          -0.07494932843172948,
          0.7911184962493706,
          1.3559995034026928,
          0.2675394678075153,
          1.267899729846557,
          1.5080793380873123,
          -1.7527403513025042,
          0.14338138174865192,
          0.287864118310744,
          -0.5601655134309603,
          1.0466087111292672,
          -1.2235033105354187,
          1.1633420758853694,
          -0.041011924653341775,
          0.7640512575899981,
          0.31064869693879876,
          1.1202831170001342,
          -1.6190855072536752,
          -0.6582930614703745,
          -0.8270280802515343,
          -1.1665779558079363,
          -1.8834236245659437,
          -0.311033644036755,
          -0.7678595974320889,
          -0.2505058007049146,
          0.29100491115803323,
          0.742070906349835,
          -1.9485847439587942,
          -0.6008034816650095,
          -1.2828707275665658,
          0.4722812414794448,
          -0.959166530506321,
          -1.1014226135098724,
          1.3296935716423222,
          -0.872232118777794,
          -1.3294375126893458,
          -1.9724724359869847,
          -1.0301848017984339,
          -0.9330434505764771,
          0.8203359932952043,
          0.5865874309974536,
          -0.37907666029322706,
          1.1116564230081587,
          1.4380045716765681
         ]
        },
        {
         "boxpoints": false,
         "line": {
          "width": 1.3
         },
         "marker": {
          "color": "rgba(50, 171, 96, 1.0)"
         },
         "name": "특성3",
         "orientation": "h",
         "type": "box",
         "x": [
          -1.0537791342954392,
          -1.3608305124556426,
          -0.04113830872732707,
          0.8790548841435977,
          0.5940538425719329,
          -0.9172060357488173,
          -0.7986268008981555,
          -0.8211648482864325,
          1.023404194397987,
          -0.35931259327575865,
          -0.8675420365803815,
          -0.686031085456318,
          -0.23370443089111953,
          -1.520003781361162,
          1.3203169160381203,
          1.3293207440615988,
          -1.7056070466155733,
          1.4160333235098874,
          1.3502068729784973,
          1.6505360094705617,
          1.1785233806725854,
          -1.561170418641357,
          1.1064658771240747,
          1.1844846262837685,
          -0.22291096714438807,
          0.21282891347030744,
          0.04649747663201131,
          -1.1251856397502606,
          -1.5294399235762661,
          -0.688272995216249,
          1.128368407616472,
          0.7475027672012445,
          0.6926865457004389,
          1.2532133065532503,
          0.9736645455305077,
          -0.024062166058508853,
          -0.2563833853155005,
          -1.366454937639482,
          -0.5381357984153675,
          -1.1065533689655611,
          0.8279654678148133,
          -0.49066339600297393,
          -0.6772757136685389,
          1.4961595275896518,
          0.016897089783172056,
          -1.0288482397679588,
          1.3422604991330884,
          0.08752061299122164,
          -0.9715876660627807,
          -0.2447178761229753,
          -0.2891548702388673,
          -1.7357942242041295,
          0.13239263391747108,
          0.8962532905106222,
          0.5508554663431837,
          1.6417428643737708,
          -0.4568674221499679,
          1.2395136512129503,
          0.6910166724114004,
          1.2692592578086215,
          -1.6095021189613226,
          -1.2839909849773206,
          -0.5037439481033446,
          0.842462239551392,
          1.4657040068479048,
          -0.47485163242336365,
          -0.199721671111006,
          -1.7554552346541916,
          0.3233402251685564,
          0.009121657941194176,
          1.4149605204525237,
          1.6403692070026281,
          1.487471473077839,
          0.8717918906435721,
          -1.1582529677996585,
          -1.1870864003735846,
          0.746470158591044,
          -0.545516569733961,
          0.7509183242992477,
          0.7405076024481924,
          -0.2839672322007212,
          0.23693149212400158,
          1.2329717574652554,
          -1.387598344995235,
          -0.0271871977495673,
          0.6101214504813456,
          -0.8390950770478024,
          -0.3825018314674144,
          0.6361374978479255,
          -0.337141385204843,
          0.580499580098601,
          -0.6421623092774674,
          -1.3116708109426571,
          -0.3697176930743473,
          0.42878907852646436,
          -1.3456774124652269,
          0.09413173397426562,
          -1.4542619963690164,
          -1.6193456005558782,
          1.005174478632213
         ]
        }
       ],
       "layout": {
        "legend": {
         "bgcolor": "#F5F6F9",
         "font": {
          "color": "#4D5663"
         }
        },
        "paper_bgcolor": "#F5F6F9",
        "plot_bgcolor": "#F5F6F9",
        "template": {
         "data": {
          "bar": [
           {
            "error_x": {
             "color": "#2a3f5f"
            },
            "error_y": {
             "color": "#2a3f5f"
            },
            "marker": {
             "line": {
              "color": "#E5ECF6",
              "width": 0.5
             },
             "pattern": {
              "fillmode": "overlay",
              "size": 10,
              "solidity": 0.2
             }
            },
            "type": "bar"
           }
          ],
          "barpolar": [
           {
            "marker": {
             "line": {
              "color": "#E5ECF6",
              "width": 0.5
             },
             "pattern": {
              "fillmode": "overlay",
              "size": 10,
              "solidity": 0.2
             }
            },
            "type": "barpolar"
           }
          ],
          "carpet": [
           {
            "aaxis": {
             "endlinecolor": "#2a3f5f",
             "gridcolor": "white",
             "linecolor": "white",
             "minorgridcolor": "white",
             "startlinecolor": "#2a3f5f"
            },
            "baxis": {
             "endlinecolor": "#2a3f5f",
             "gridcolor": "white",
             "linecolor": "white",
             "minorgridcolor": "white",
             "startlinecolor": "#2a3f5f"
            },
            "type": "carpet"
           }
          ],
          "choropleth": [
           {
            "colorbar": {
             "outlinewidth": 0,
             "ticks": ""
            },
            "type": "choropleth"
           }
          ],
          "contour": [
           {
            "colorbar": {
             "outlinewidth": 0,
             "ticks": ""
            },
            "colorscale": [
             [
              0,
              "#0d0887"
             ],
             [
              0.1111111111111111,
              "#46039f"
             ],
             [
              0.2222222222222222,
              "#7201a8"
             ],
             [
              0.3333333333333333,
              "#9c179e"
             ],
             [
              0.4444444444444444,
              "#bd3786"
             ],
             [
              0.5555555555555556,
              "#d8576b"
             ],
             [
              0.6666666666666666,
              "#ed7953"
             ],
             [
              0.7777777777777778,
              "#fb9f3a"
             ],
             [
              0.8888888888888888,
              "#fdca26"
             ],
             [
              1,
              "#f0f921"
             ]
            ],
            "type": "contour"
           }
          ],
          "contourcarpet": [
           {
            "colorbar": {
             "outlinewidth": 0,
             "ticks": ""
            },
            "type": "contourcarpet"
           }
          ],
          "heatmap": [
           {
            "colorbar": {
             "outlinewidth": 0,
             "ticks": ""
            },
            "colorscale": [
             [
              0,
              "#0d0887"
             ],
             [
              0.1111111111111111,
              "#46039f"
             ],
             [
              0.2222222222222222,
              "#7201a8"
             ],
             [
              0.3333333333333333,
              "#9c179e"
             ],
             [
              0.4444444444444444,
              "#bd3786"
             ],
             [
              0.5555555555555556,
              "#d8576b"
             ],
             [
              0.6666666666666666,
              "#ed7953"
             ],
             [
              0.7777777777777778,
              "#fb9f3a"
             ],
             [
              0.8888888888888888,
              "#fdca26"
             ],
             [
              1,
              "#f0f921"
             ]
            ],
            "type": "heatmap"
           }
          ],
          "heatmapgl": [
           {
            "colorbar": {
             "outlinewidth": 0,
             "ticks": ""
            },
            "colorscale": [
             [
              0,
              "#0d0887"
             ],
             [
              0.1111111111111111,
              "#46039f"
             ],
             [
              0.2222222222222222,
              "#7201a8"
             ],
             [
              0.3333333333333333,
              "#9c179e"
             ],
             [
              0.4444444444444444,
              "#bd3786"
             ],
             [
              0.5555555555555556,
              "#d8576b"
             ],
             [
              0.6666666666666666,
              "#ed7953"
             ],
             [
              0.7777777777777778,
              "#fb9f3a"
             ],
             [
              0.8888888888888888,
              "#fdca26"
             ],
             [
              1,
              "#f0f921"
             ]
            ],
            "type": "heatmapgl"
           }
          ],
          "histogram": [
           {
            "marker": {
             "pattern": {
              "fillmode": "overlay",
              "size": 10,
              "solidity": 0.2
             }
            },
            "type": "histogram"
           }
          ],
          "histogram2d": [
           {
            "colorbar": {
             "outlinewidth": 0,
             "ticks": ""
            },
            "colorscale": [
             [
              0,
              "#0d0887"
             ],
             [
              0.1111111111111111,
              "#46039f"
             ],
             [
              0.2222222222222222,
              "#7201a8"
             ],
             [
              0.3333333333333333,
              "#9c179e"
             ],
             [
              0.4444444444444444,
              "#bd3786"
             ],
             [
              0.5555555555555556,
              "#d8576b"
             ],
             [
              0.6666666666666666,
              "#ed7953"
             ],
             [
              0.7777777777777778,
              "#fb9f3a"
             ],
             [
              0.8888888888888888,
              "#fdca26"
             ],
             [
              1,
              "#f0f921"
             ]
            ],
            "type": "histogram2d"
           }
          ],
          "histogram2dcontour": [
           {
            "colorbar": {
             "outlinewidth": 0,
             "ticks": ""
            },
            "colorscale": [
             [
              0,
              "#0d0887"
             ],
             [
              0.1111111111111111,
              "#46039f"
             ],
             [
              0.2222222222222222,
              "#7201a8"
             ],
             [
              0.3333333333333333,
              "#9c179e"
             ],
             [
              0.4444444444444444,
              "#bd3786"
             ],
             [
              0.5555555555555556,
              "#d8576b"
             ],
             [
              0.6666666666666666,
              "#ed7953"
             ],
             [
              0.7777777777777778,
              "#fb9f3a"
             ],
             [
              0.8888888888888888,
              "#fdca26"
             ],
             [
              1,
              "#f0f921"
             ]
            ],
            "type": "histogram2dcontour"
           }
          ],
          "mesh3d": [
           {
            "colorbar": {
             "outlinewidth": 0,
             "ticks": ""
            },
            "type": "mesh3d"
           }
          ],
          "parcoords": [
           {
            "line": {
             "colorbar": {
              "outlinewidth": 0,
              "ticks": ""
             }
            },
            "type": "parcoords"
           }
          ],
          "pie": [
           {
            "automargin": true,
            "type": "pie"
           }
          ],
          "scatter": [
           {
            "fillpattern": {
             "fillmode": "overlay",
             "size": 10,
             "solidity": 0.2
            },
            "type": "scatter"
           }
          ],
          "scatter3d": [
           {
            "line": {
             "colorbar": {
              "outlinewidth": 0,
              "ticks": ""
             }
            },
            "marker": {
             "colorbar": {
              "outlinewidth": 0,
              "ticks": ""
             }
            },
            "type": "scatter3d"
           }
          ],
          "scattercarpet": [
           {
            "marker": {
             "colorbar": {
              "outlinewidth": 0,
              "ticks": ""
             }
            },
            "type": "scattercarpet"
           }
          ],
          "scattergeo": [
           {
            "marker": {
             "colorbar": {
              "outlinewidth": 0,
              "ticks": ""
             }
            },
            "type": "scattergeo"
           }
          ],
          "scattergl": [
           {
            "marker": {
             "colorbar": {
              "outlinewidth": 0,
              "ticks": ""
             }
            },
            "type": "scattergl"
           }
          ],
          "scattermapbox": [
           {
            "marker": {
             "colorbar": {
              "outlinewidth": 0,
              "ticks": ""
             }
            },
            "type": "scattermapbox"
           }
          ],
          "scatterpolar": [
           {
            "marker": {
             "colorbar": {
              "outlinewidth": 0,
              "ticks": ""
             }
            },
            "type": "scatterpolar"
           }
          ],
          "scatterpolargl": [
           {
            "marker": {
             "colorbar": {
              "outlinewidth": 0,
              "ticks": ""
             }
            },
            "type": "scatterpolargl"
           }
          ],
          "scatterternary": [
           {
            "marker": {
             "colorbar": {
              "outlinewidth": 0,
              "ticks": ""
             }
            },
            "type": "scatterternary"
           }
          ],
          "surface": [
           {
            "colorbar": {
             "outlinewidth": 0,
             "ticks": ""
            },
            "colorscale": [
             [
              0,
              "#0d0887"
             ],
             [
              0.1111111111111111,
              "#46039f"
             ],
             [
              0.2222222222222222,
              "#7201a8"
             ],
             [
              0.3333333333333333,
              "#9c179e"
             ],
             [
              0.4444444444444444,
              "#bd3786"
             ],
             [
              0.5555555555555556,
              "#d8576b"
             ],
             [
              0.6666666666666666,
              "#ed7953"
             ],
             [
              0.7777777777777778,
              "#fb9f3a"
             ],
             [
              0.8888888888888888,
              "#fdca26"
             ],
             [
              1,
              "#f0f921"
             ]
            ],
            "type": "surface"
           }
          ],
          "table": [
           {
            "cells": {
             "fill": {
              "color": "#EBF0F8"
             },
             "line": {
              "color": "white"
             }
            },
            "header": {
             "fill": {
              "color": "#C8D4E3"
             },
             "line": {
              "color": "white"
             }
            },
            "type": "table"
           }
          ]
         },
         "layout": {
          "annotationdefaults": {
           "arrowcolor": "#2a3f5f",
           "arrowhead": 0,
           "arrowwidth": 1
          },
          "autotypenumbers": "strict",
          "coloraxis": {
           "colorbar": {
            "outlinewidth": 0,
            "ticks": ""
           }
          },
          "colorscale": {
           "diverging": [
            [
             0,
             "#8e0152"
            ],
            [
             0.1,
             "#c51b7d"
            ],
            [
             0.2,
             "#de77ae"
            ],
            [
             0.3,
             "#f1b6da"
            ],
            [
             0.4,
             "#fde0ef"
            ],
            [
             0.5,
             "#f7f7f7"
            ],
            [
             0.6,
             "#e6f5d0"
            ],
            [
             0.7,
             "#b8e186"
            ],
            [
             0.8,
             "#7fbc41"
            ],
            [
             0.9,
             "#4d9221"
            ],
            [
             1,
             "#276419"
            ]
           ],
           "sequential": [
            [
             0,
             "#0d0887"
            ],
            [
             0.1111111111111111,
             "#46039f"
            ],
            [
             0.2222222222222222,
             "#7201a8"
            ],
            [
             0.3333333333333333,
             "#9c179e"
            ],
            [
             0.4444444444444444,
             "#bd3786"
            ],
            [
             0.5555555555555556,
             "#d8576b"
            ],
            [
             0.6666666666666666,
             "#ed7953"
            ],
            [
             0.7777777777777778,
             "#fb9f3a"
            ],
            [
             0.8888888888888888,
             "#fdca26"
            ],
            [
             1,
             "#f0f921"
            ]
           ],
           "sequentialminus": [
            [
             0,
             "#0d0887"
            ],
            [
             0.1111111111111111,
             "#46039f"
            ],
            [
             0.2222222222222222,
             "#7201a8"
            ],
            [
             0.3333333333333333,
             "#9c179e"
            ],
            [
             0.4444444444444444,
             "#bd3786"
            ],
            [
             0.5555555555555556,
             "#d8576b"
            ],
            [
             0.6666666666666666,
             "#ed7953"
            ],
            [
             0.7777777777777778,
             "#fb9f3a"
            ],
            [
             0.8888888888888888,
             "#fdca26"
            ],
            [
             1,
             "#f0f921"
            ]
           ]
          },
          "colorway": [
           "#636efa",
           "#EF553B",
           "#00cc96",
           "#ab63fa",
           "#FFA15A",
           "#19d3f3",
           "#FF6692",
           "#B6E880",
           "#FF97FF",
           "#FECB52"
          ],
          "font": {
           "color": "#2a3f5f"
          },
          "geo": {
           "bgcolor": "white",
           "lakecolor": "white",
           "landcolor": "#E5ECF6",
           "showlakes": true,
           "showland": true,
           "subunitcolor": "white"
          },
          "hoverlabel": {
           "align": "left"
          },
          "hovermode": "closest",
          "mapbox": {
           "style": "light"
          },
          "paper_bgcolor": "white",
          "plot_bgcolor": "#E5ECF6",
          "polar": {
           "angularaxis": {
            "gridcolor": "white",
            "linecolor": "white",
            "ticks": ""
           },
           "bgcolor": "#E5ECF6",
           "radialaxis": {
            "gridcolor": "white",
            "linecolor": "white",
            "ticks": ""
           }
          },
          "scene": {
           "xaxis": {
            "backgroundcolor": "#E5ECF6",
            "gridcolor": "white",
            "gridwidth": 2,
            "linecolor": "white",
            "showbackground": true,
            "ticks": "",
            "zerolinecolor": "white"
           },
           "yaxis": {
            "backgroundcolor": "#E5ECF6",
            "gridcolor": "white",
            "gridwidth": 2,
            "linecolor": "white",
            "showbackground": true,
            "ticks": "",
            "zerolinecolor": "white"
           },
           "zaxis": {
            "backgroundcolor": "#E5ECF6",
            "gridcolor": "white",
            "gridwidth": 2,
            "linecolor": "white",
            "showbackground": true,
            "ticks": "",
            "zerolinecolor": "white"
           }
          },
          "shapedefaults": {
           "line": {
            "color": "#2a3f5f"
           }
          },
          "ternary": {
           "aaxis": {
            "gridcolor": "white",
            "linecolor": "white",
            "ticks": ""
           },
           "baxis": {
            "gridcolor": "white",
            "linecolor": "white",
            "ticks": ""
           },
           "bgcolor": "#E5ECF6",
           "caxis": {
            "gridcolor": "white",
            "linecolor": "white",
            "ticks": ""
           }
          },
          "title": {
           "x": 0.05
          },
          "xaxis": {
           "automargin": true,
           "gridcolor": "white",
           "linecolor": "white",
           "ticks": "",
           "title": {
            "standoff": 15
           },
           "zerolinecolor": "white",
           "zerolinewidth": 2
          },
          "yaxis": {
           "automargin": true,
           "gridcolor": "white",
           "linecolor": "white",
           "ticks": "",
           "title": {
            "standoff": 15
           },
           "zerolinecolor": "white",
           "zerolinewidth": 2
          }
         }
        },
        "title": {
         "font": {
          "color": "#4D5663"
         }
        },
        "xaxis": {
         "gridcolor": "#E1E5ED",
         "showgrid": true,
         "tickfont": {
          "color": "#4D5663"
         },
         "title": {
          "font": {
           "color": "#4D5663"
          },
          "text": ""
         },
         "zerolinecolor": "#E1E5ED"
        },
        "yaxis": {
         "gridcolor": "#E1E5ED",
         "showgrid": true,
         "tickfont": {
          "color": "#4D5663"
         },
         "title": {
          "font": {
           "color": "#4D5663"
          },
          "text": ""
         },
         "zerolinecolor": "#E1E5ED"
        }
       }
      },
      "text/html": [
       "<div>                            <div id=\"127ee2da-7d7c-4147-9ab1-18c4c2312a6f\" class=\"plotly-graph-div\" style=\"height:525px; width:100%;\"></div>            <script type=\"text/javascript\">                require([\"plotly\"], function(Plotly) {                    window.PLOTLYENV=window.PLOTLYENV || {};\n",
       "                    window.PLOTLYENV.BASE_URL='https://plot.ly';                                    if (document.getElementById(\"127ee2da-7d7c-4147-9ab1-18c4c2312a6f\")) {                    Plotly.newPlot(                        \"127ee2da-7d7c-4147-9ab1-18c4c2312a6f\",                        [{\"boxpoints\":false,\"line\":{\"width\":1.3},\"marker\":{\"color\":\"rgba(255, 153, 51, 1.0)\"},\"name\":\"\\ud2b9\\uc1311\",\"orientation\":\"h\",\"x\":[0.37291185272699473,-2.0631472933892323,0.8525306184880123,-0.1416543219527551,0.4240039370069832,0.43873973248459075,0.6593508653376031,-1.7357296292826825,-0.8170329766319848,0.2150361903418271,-0.8011271710996901,-0.1822851466731451,1.0421736057264848,-1.069737992971685,0.40275155433073195,-1.1882950389568456,-0.9327290746110264,0.24567419463972562,-0.977530937472784,1.331105039331404,-0.5438715744575775,1.3507700977359247,0.269907045728582,-0.6914452379061748,-0.7679160640329356,0.6987700579829207,1.2506791972372557,-0.41046606621958953,0.36702823424174363,-0.7854277680900814,-0.3675925783754922,-0.6577176170473947,1.3268718754925148,-1.321137372506343,1.2257836971991227,-1.2050294454574353,0.4738953286202872,1.0196112626871752,1.5339398340193837,-0.6899332811858081,1.3536840201475977,1.24465576982587,-1.0517476485112136,-0.2899472981867191,-1.0459537568993678,1.4282819413923333,0.1280498303416896,-0.416346448255778,0.537475697206874,-0.5876371609553642,-0.9354444796371273,0.2776615910390816,-0.29487940647454264,-0.09751836625180986,-2.2622055543671733,0.8351969668651478,0.450778929733582,-1.4729900444668234,-0.07112769308467795,0.8322435271482398,1.3546649471652896,1.095347047482066,-1.4749141193785495,1.0807929156161298,-0.9268645962863677,0.8940281264809912,-1.5249805347178755,1.0321781271802892,1.3508639423323985,-1.709260195497321,0.018240090676541455,-0.6007571237711735,1.042129000404885,-0.1889961607999591,1.1052321152389317,1.3019487457036438,-1.6470649790777574,1.5194225602243674,1.3265140861634626,0.01541292532077653,0.42505975697221815,-0.10953227291326015,1.5455924816171895,-1.2385419539538376,1.2309814862754755,0.08010032677293454,-0.6739675741121817,1.455669544213132,-0.32265454124813364,-0.17995749413426856,-0.7812337882605892,-1.642502929739279,-0.7766007335834799,0.7825128298644712,-1.2888919804616648,-1.5136639786194896,0.6345255496688922,-0.8219487344847077,0.4775112660935468,0.9396477699239061],\"type\":\"box\"},{\"boxpoints\":false,\"line\":{\"width\":1.3},\"marker\":{\"color\":\"rgba(55, 128, 191, 1.0)\"},\"name\":\"\\ud2b9\\uc1312\",\"orientation\":\"h\",\"x\":[0.5830243537846121,-1.1624642354810786,0.5185993289912298,-1.9976987486249347,1.4171310119870595,-0.2595183996021209,0.7020936426495558,1.4144410014706603,0.8068256039712596,-0.49500795041922996,0.7166490776862106,1.1730045645623157,0.7769171655450957,-0.36175186201712817,1.0271882899639515,-0.07483628191296109,1.1216976299435104,0.012525256605108554,-1.7661168007937036,-1.3293575028848157,-0.7496943957927814,0.509284966023082,0.5680271680223471,-0.06509216859245566,0.5111238322549785,-1.09856142945507,0.7046824144970162,0.8686023187294127,-0.32251939917173966,0.6968481608665477,0.37438852299239794,-1.347662759486682,0.23300894164091934,0.02557295624697887,1.4489600958667477,0.2913661434026018,-1.428134329866847,1.3486551456216396,0.9001437721657695,-0.8344628556856868,0.9723800310932891,0.2863311759223875,1.363893408578984,-0.6583465228738874,-1.305557668717966,1.17445281213599,-1.2834226217021438,0.5953232471087437,1.330818766630893,0.453133956377312,1.1480520868082422,-1.2965265013155003,-1.5853972830199996,-0.39213507137511255,0.29883442571449603,0.16730534653307313,-0.07494932843172948,0.7911184962493706,1.3559995034026928,0.2675394678075153,1.267899729846557,1.5080793380873123,-1.7527403513025042,0.14338138174865192,0.287864118310744,-0.5601655134309603,1.0466087111292672,-1.2235033105354187,1.1633420758853694,-0.041011924653341775,0.7640512575899981,0.31064869693879876,1.1202831170001342,-1.6190855072536752,-0.6582930614703745,-0.8270280802515343,-1.1665779558079363,-1.8834236245659437,-0.311033644036755,-0.7678595974320889,-0.2505058007049146,0.29100491115803323,0.742070906349835,-1.9485847439587942,-0.6008034816650095,-1.2828707275665658,0.4722812414794448,-0.959166530506321,-1.1014226135098724,1.3296935716423222,-0.872232118777794,-1.3294375126893458,-1.9724724359869847,-1.0301848017984339,-0.9330434505764771,0.8203359932952043,0.5865874309974536,-0.37907666029322706,1.1116564230081587,1.4380045716765681],\"type\":\"box\"},{\"boxpoints\":false,\"line\":{\"width\":1.3},\"marker\":{\"color\":\"rgba(50, 171, 96, 1.0)\"},\"name\":\"\\ud2b9\\uc1313\",\"orientation\":\"h\",\"x\":[-1.0537791342954392,-1.3608305124556426,-0.04113830872732707,0.8790548841435977,0.5940538425719329,-0.9172060357488173,-0.7986268008981555,-0.8211648482864325,1.023404194397987,-0.35931259327575865,-0.8675420365803815,-0.686031085456318,-0.23370443089111953,-1.520003781361162,1.3203169160381203,1.3293207440615988,-1.7056070466155733,1.4160333235098874,1.3502068729784973,1.6505360094705617,1.1785233806725854,-1.561170418641357,1.1064658771240747,1.1844846262837685,-0.22291096714438807,0.21282891347030744,0.04649747663201131,-1.1251856397502606,-1.5294399235762661,-0.688272995216249,1.128368407616472,0.7475027672012445,0.6926865457004389,1.2532133065532503,0.9736645455305077,-0.024062166058508853,-0.2563833853155005,-1.366454937639482,-0.5381357984153675,-1.1065533689655611,0.8279654678148133,-0.49066339600297393,-0.6772757136685389,1.4961595275896518,0.016897089783172056,-1.0288482397679588,1.3422604991330884,0.08752061299122164,-0.9715876660627807,-0.2447178761229753,-0.2891548702388673,-1.7357942242041295,0.13239263391747108,0.8962532905106222,0.5508554663431837,1.6417428643737708,-0.4568674221499679,1.2395136512129503,0.6910166724114004,1.2692592578086215,-1.6095021189613226,-1.2839909849773206,-0.5037439481033446,0.842462239551392,1.4657040068479048,-0.47485163242336365,-0.199721671111006,-1.7554552346541916,0.3233402251685564,0.009121657941194176,1.4149605204525237,1.6403692070026281,1.487471473077839,0.8717918906435721,-1.1582529677996585,-1.1870864003735846,0.746470158591044,-0.545516569733961,0.7509183242992477,0.7405076024481924,-0.2839672322007212,0.23693149212400158,1.2329717574652554,-1.387598344995235,-0.0271871977495673,0.6101214504813456,-0.8390950770478024,-0.3825018314674144,0.6361374978479255,-0.337141385204843,0.580499580098601,-0.6421623092774674,-1.3116708109426571,-0.3697176930743473,0.42878907852646436,-1.3456774124652269,0.09413173397426562,-1.4542619963690164,-1.6193456005558782,1.005174478632213],\"type\":\"box\"}],                        {\"legend\":{\"bgcolor\":\"#F5F6F9\",\"font\":{\"color\":\"#4D5663\"}},\"paper_bgcolor\":\"#F5F6F9\",\"plot_bgcolor\":\"#F5F6F9\",\"template\":{\"data\":{\"barpolar\":[{\"marker\":{\"line\":{\"color\":\"#E5ECF6\",\"width\":0.5},\"pattern\":{\"fillmode\":\"overlay\",\"size\":10,\"solidity\":0.2}},\"type\":\"barpolar\"}],\"bar\":[{\"error_x\":{\"color\":\"#2a3f5f\"},\"error_y\":{\"color\":\"#2a3f5f\"},\"marker\":{\"line\":{\"color\":\"#E5ECF6\",\"width\":0.5},\"pattern\":{\"fillmode\":\"overlay\",\"size\":10,\"solidity\":0.2}},\"type\":\"bar\"}],\"carpet\":[{\"aaxis\":{\"endlinecolor\":\"#2a3f5f\",\"gridcolor\":\"white\",\"linecolor\":\"white\",\"minorgridcolor\":\"white\",\"startlinecolor\":\"#2a3f5f\"},\"baxis\":{\"endlinecolor\":\"#2a3f5f\",\"gridcolor\":\"white\",\"linecolor\":\"white\",\"minorgridcolor\":\"white\",\"startlinecolor\":\"#2a3f5f\"},\"type\":\"carpet\"}],\"choropleth\":[{\"colorbar\":{\"outlinewidth\":0,\"ticks\":\"\"},\"type\":\"choropleth\"}],\"contourcarpet\":[{\"colorbar\":{\"outlinewidth\":0,\"ticks\":\"\"},\"type\":\"contourcarpet\"}],\"contour\":[{\"colorbar\":{\"outlinewidth\":0,\"ticks\":\"\"},\"colorscale\":[[0.0,\"#0d0887\"],[0.1111111111111111,\"#46039f\"],[0.2222222222222222,\"#7201a8\"],[0.3333333333333333,\"#9c179e\"],[0.4444444444444444,\"#bd3786\"],[0.5555555555555556,\"#d8576b\"],[0.6666666666666666,\"#ed7953\"],[0.7777777777777778,\"#fb9f3a\"],[0.8888888888888888,\"#fdca26\"],[1.0,\"#f0f921\"]],\"type\":\"contour\"}],\"heatmapgl\":[{\"colorbar\":{\"outlinewidth\":0,\"ticks\":\"\"},\"colorscale\":[[0.0,\"#0d0887\"],[0.1111111111111111,\"#46039f\"],[0.2222222222222222,\"#7201a8\"],[0.3333333333333333,\"#9c179e\"],[0.4444444444444444,\"#bd3786\"],[0.5555555555555556,\"#d8576b\"],[0.6666666666666666,\"#ed7953\"],[0.7777777777777778,\"#fb9f3a\"],[0.8888888888888888,\"#fdca26\"],[1.0,\"#f0f921\"]],\"type\":\"heatmapgl\"}],\"heatmap\":[{\"colorbar\":{\"outlinewidth\":0,\"ticks\":\"\"},\"colorscale\":[[0.0,\"#0d0887\"],[0.1111111111111111,\"#46039f\"],[0.2222222222222222,\"#7201a8\"],[0.3333333333333333,\"#9c179e\"],[0.4444444444444444,\"#bd3786\"],[0.5555555555555556,\"#d8576b\"],[0.6666666666666666,\"#ed7953\"],[0.7777777777777778,\"#fb9f3a\"],[0.8888888888888888,\"#fdca26\"],[1.0,\"#f0f921\"]],\"type\":\"heatmap\"}],\"histogram2dcontour\":[{\"colorbar\":{\"outlinewidth\":0,\"ticks\":\"\"},\"colorscale\":[[0.0,\"#0d0887\"],[0.1111111111111111,\"#46039f\"],[0.2222222222222222,\"#7201a8\"],[0.3333333333333333,\"#9c179e\"],[0.4444444444444444,\"#bd3786\"],[0.5555555555555556,\"#d8576b\"],[0.6666666666666666,\"#ed7953\"],[0.7777777777777778,\"#fb9f3a\"],[0.8888888888888888,\"#fdca26\"],[1.0,\"#f0f921\"]],\"type\":\"histogram2dcontour\"}],\"histogram2d\":[{\"colorbar\":{\"outlinewidth\":0,\"ticks\":\"\"},\"colorscale\":[[0.0,\"#0d0887\"],[0.1111111111111111,\"#46039f\"],[0.2222222222222222,\"#7201a8\"],[0.3333333333333333,\"#9c179e\"],[0.4444444444444444,\"#bd3786\"],[0.5555555555555556,\"#d8576b\"],[0.6666666666666666,\"#ed7953\"],[0.7777777777777778,\"#fb9f3a\"],[0.8888888888888888,\"#fdca26\"],[1.0,\"#f0f921\"]],\"type\":\"histogram2d\"}],\"histogram\":[{\"marker\":{\"pattern\":{\"fillmode\":\"overlay\",\"size\":10,\"solidity\":0.2}},\"type\":\"histogram\"}],\"mesh3d\":[{\"colorbar\":{\"outlinewidth\":0,\"ticks\":\"\"},\"type\":\"mesh3d\"}],\"parcoords\":[{\"line\":{\"colorbar\":{\"outlinewidth\":0,\"ticks\":\"\"}},\"type\":\"parcoords\"}],\"pie\":[{\"automargin\":true,\"type\":\"pie\"}],\"scatter3d\":[{\"line\":{\"colorbar\":{\"outlinewidth\":0,\"ticks\":\"\"}},\"marker\":{\"colorbar\":{\"outlinewidth\":0,\"ticks\":\"\"}},\"type\":\"scatter3d\"}],\"scattercarpet\":[{\"marker\":{\"colorbar\":{\"outlinewidth\":0,\"ticks\":\"\"}},\"type\":\"scattercarpet\"}],\"scattergeo\":[{\"marker\":{\"colorbar\":{\"outlinewidth\":0,\"ticks\":\"\"}},\"type\":\"scattergeo\"}],\"scattergl\":[{\"marker\":{\"colorbar\":{\"outlinewidth\":0,\"ticks\":\"\"}},\"type\":\"scattergl\"}],\"scattermapbox\":[{\"marker\":{\"colorbar\":{\"outlinewidth\":0,\"ticks\":\"\"}},\"type\":\"scattermapbox\"}],\"scatterpolargl\":[{\"marker\":{\"colorbar\":{\"outlinewidth\":0,\"ticks\":\"\"}},\"type\":\"scatterpolargl\"}],\"scatterpolar\":[{\"marker\":{\"colorbar\":{\"outlinewidth\":0,\"ticks\":\"\"}},\"type\":\"scatterpolar\"}],\"scatter\":[{\"fillpattern\":{\"fillmode\":\"overlay\",\"size\":10,\"solidity\":0.2},\"type\":\"scatter\"}],\"scatterternary\":[{\"marker\":{\"colorbar\":{\"outlinewidth\":0,\"ticks\":\"\"}},\"type\":\"scatterternary\"}],\"surface\":[{\"colorbar\":{\"outlinewidth\":0,\"ticks\":\"\"},\"colorscale\":[[0.0,\"#0d0887\"],[0.1111111111111111,\"#46039f\"],[0.2222222222222222,\"#7201a8\"],[0.3333333333333333,\"#9c179e\"],[0.4444444444444444,\"#bd3786\"],[0.5555555555555556,\"#d8576b\"],[0.6666666666666666,\"#ed7953\"],[0.7777777777777778,\"#fb9f3a\"],[0.8888888888888888,\"#fdca26\"],[1.0,\"#f0f921\"]],\"type\":\"surface\"}],\"table\":[{\"cells\":{\"fill\":{\"color\":\"#EBF0F8\"},\"line\":{\"color\":\"white\"}},\"header\":{\"fill\":{\"color\":\"#C8D4E3\"},\"line\":{\"color\":\"white\"}},\"type\":\"table\"}]},\"layout\":{\"annotationdefaults\":{\"arrowcolor\":\"#2a3f5f\",\"arrowhead\":0,\"arrowwidth\":1},\"autotypenumbers\":\"strict\",\"coloraxis\":{\"colorbar\":{\"outlinewidth\":0,\"ticks\":\"\"}},\"colorscale\":{\"diverging\":[[0,\"#8e0152\"],[0.1,\"#c51b7d\"],[0.2,\"#de77ae\"],[0.3,\"#f1b6da\"],[0.4,\"#fde0ef\"],[0.5,\"#f7f7f7\"],[0.6,\"#e6f5d0\"],[0.7,\"#b8e186\"],[0.8,\"#7fbc41\"],[0.9,\"#4d9221\"],[1,\"#276419\"]],\"sequential\":[[0.0,\"#0d0887\"],[0.1111111111111111,\"#46039f\"],[0.2222222222222222,\"#7201a8\"],[0.3333333333333333,\"#9c179e\"],[0.4444444444444444,\"#bd3786\"],[0.5555555555555556,\"#d8576b\"],[0.6666666666666666,\"#ed7953\"],[0.7777777777777778,\"#fb9f3a\"],[0.8888888888888888,\"#fdca26\"],[1.0,\"#f0f921\"]],\"sequentialminus\":[[0.0,\"#0d0887\"],[0.1111111111111111,\"#46039f\"],[0.2222222222222222,\"#7201a8\"],[0.3333333333333333,\"#9c179e\"],[0.4444444444444444,\"#bd3786\"],[0.5555555555555556,\"#d8576b\"],[0.6666666666666666,\"#ed7953\"],[0.7777777777777778,\"#fb9f3a\"],[0.8888888888888888,\"#fdca26\"],[1.0,\"#f0f921\"]]},\"colorway\":[\"#636efa\",\"#EF553B\",\"#00cc96\",\"#ab63fa\",\"#FFA15A\",\"#19d3f3\",\"#FF6692\",\"#B6E880\",\"#FF97FF\",\"#FECB52\"],\"font\":{\"color\":\"#2a3f5f\"},\"geo\":{\"bgcolor\":\"white\",\"lakecolor\":\"white\",\"landcolor\":\"#E5ECF6\",\"showlakes\":true,\"showland\":true,\"subunitcolor\":\"white\"},\"hoverlabel\":{\"align\":\"left\"},\"hovermode\":\"closest\",\"mapbox\":{\"style\":\"light\"},\"paper_bgcolor\":\"white\",\"plot_bgcolor\":\"#E5ECF6\",\"polar\":{\"angularaxis\":{\"gridcolor\":\"white\",\"linecolor\":\"white\",\"ticks\":\"\"},\"bgcolor\":\"#E5ECF6\",\"radialaxis\":{\"gridcolor\":\"white\",\"linecolor\":\"white\",\"ticks\":\"\"}},\"scene\":{\"xaxis\":{\"backgroundcolor\":\"#E5ECF6\",\"gridcolor\":\"white\",\"gridwidth\":2,\"linecolor\":\"white\",\"showbackground\":true,\"ticks\":\"\",\"zerolinecolor\":\"white\"},\"yaxis\":{\"backgroundcolor\":\"#E5ECF6\",\"gridcolor\":\"white\",\"gridwidth\":2,\"linecolor\":\"white\",\"showbackground\":true,\"ticks\":\"\",\"zerolinecolor\":\"white\"},\"zaxis\":{\"backgroundcolor\":\"#E5ECF6\",\"gridcolor\":\"white\",\"gridwidth\":2,\"linecolor\":\"white\",\"showbackground\":true,\"ticks\":\"\",\"zerolinecolor\":\"white\"}},\"shapedefaults\":{\"line\":{\"color\":\"#2a3f5f\"}},\"ternary\":{\"aaxis\":{\"gridcolor\":\"white\",\"linecolor\":\"white\",\"ticks\":\"\"},\"baxis\":{\"gridcolor\":\"white\",\"linecolor\":\"white\",\"ticks\":\"\"},\"bgcolor\":\"#E5ECF6\",\"caxis\":{\"gridcolor\":\"white\",\"linecolor\":\"white\",\"ticks\":\"\"}},\"title\":{\"x\":0.05},\"xaxis\":{\"automargin\":true,\"gridcolor\":\"white\",\"linecolor\":\"white\",\"ticks\":\"\",\"title\":{\"standoff\":15},\"zerolinecolor\":\"white\",\"zerolinewidth\":2},\"yaxis\":{\"automargin\":true,\"gridcolor\":\"white\",\"linecolor\":\"white\",\"ticks\":\"\",\"title\":{\"standoff\":15},\"zerolinecolor\":\"white\",\"zerolinewidth\":2}}},\"title\":{\"font\":{\"color\":\"#4D5663\"}},\"xaxis\":{\"gridcolor\":\"#E1E5ED\",\"showgrid\":true,\"tickfont\":{\"color\":\"#4D5663\"},\"title\":{\"font\":{\"color\":\"#4D5663\"},\"text\":\"\"},\"zerolinecolor\":\"#E1E5ED\"},\"yaxis\":{\"gridcolor\":\"#E1E5ED\",\"showgrid\":true,\"tickfont\":{\"color\":\"#4D5663\"},\"title\":{\"font\":{\"color\":\"#4D5663\"},\"text\":\"\"},\"zerolinecolor\":\"#E1E5ED\"}},                        {\"showLink\": true, \"linkText\": \"Export to plot.ly\", \"plotlyServerURL\": \"https://plot.ly\", \"responsive\": true}                    ).then(function(){\n",
       "                            \n",
       "var gd = document.getElementById('127ee2da-7d7c-4147-9ab1-18c4c2312a6f');\n",
       "var x = new MutationObserver(function (mutations, observer) {{\n",
       "        var display = window.getComputedStyle(gd).display;\n",
       "        if (!display || display === 'none') {{\n",
       "            console.log([gd, 'removed!']);\n",
       "            Plotly.purge(gd);\n",
       "            observer.disconnect();\n",
       "        }}\n",
       "}});\n",
       "\n",
       "// Listen for the removal of the full notebook cells\n",
       "var notebookContainer = gd.closest('#notebook-container');\n",
       "if (notebookContainer) {{\n",
       "    x.observe(notebookContainer, {childList: true});\n",
       "}}\n",
       "\n",
       "// Listen for the clearing of the current output cell\n",
       "var outputEl = gd.closest('.output');\n",
       "if (outputEl) {{\n",
       "    x.observe(outputEl, {childList: true});\n",
       "}}\n",
       "\n",
       "                        })                };                });            </script>        </div>"
      ]
     },
     "metadata": {},
     "output_type": "display_data"
    }
   ],
   "source": [
    "X_scaled_df.iplot(kind='box', orientation='h')"
   ]
  },
  {
   "cell_type": "markdown",
   "metadata": {},
   "source": [
    "__L1 정규화 (L1 Normalization) : 각 샘플의 L1 norm이 1이 되도록 스케일링__\n",
    "\n",
    "* 텍스트 분류 등에서 사용"
   ]
  },
  {
   "cell_type": "code",
   "execution_count": 87,
   "metadata": {},
   "outputs": [],
   "source": [
    "from sklearn.preprocessing import Normalizer\n",
    "scaler = Normalizer(norm='l1')\n",
    "X_scaled = scaler.fit_transform(X)"
   ]
  },
  {
   "cell_type": "code",
   "execution_count": 88,
   "metadata": {},
   "outputs": [
    {
     "name": "stdout",
     "output_type": "stream",
     "text": [
      "L1 정규화된 데이터:\n",
      "              특성1         특성2         특성3\n",
      "count  100.000000  100.000000  100.000000\n",
      "mean     0.071596    0.702282    0.226122\n",
      "std      0.051975    0.175675    0.142704\n",
      "min      0.001971    0.094348    0.080783\n",
      "25%      0.034757    0.632593    0.125699\n",
      "50%      0.062439    0.765441    0.172714\n",
      "75%      0.085093    0.819145    0.278029\n",
      "max      0.340118    0.895381    0.721181\n"
     ]
    }
   ],
   "source": [
    "X_scaled_df = pd.DataFrame(X_scaled, columns=['특성1', '특성2', '특성3'])\n",
    "print(\"L1 정규화된 데이터:\")\n",
    "print(X_scaled_df.describe())"
   ]
  },
  {
   "cell_type": "code",
   "execution_count": 89,
   "metadata": {},
   "outputs": [
    {
     "data": {
      "application/vnd.plotly.v1+json": {
       "config": {
        "linkText": "Export to plot.ly",
        "plotlyServerURL": "https://plot.ly",
        "showLink": true
       },
       "data": [
        {
         "boxpoints": false,
         "line": {
          "width": 1.3
         },
         "marker": {
          "color": "rgba(255, 153, 51, 1.0)"
         },
         "name": "특성1",
         "orientation": "h",
         "type": "box",
         "x": [
          0.057844293963466235,
          0.012135003877004842,
          0.07023833497548645,
          0.18447040095224976,
          0.04362993031930781,
          0.0839997862217809,
          0.06229908950106659,
          0.007418890713871194,
          0.02497227452819629,
          0.08346459012701948,
          0.027462193320300754,
          0.03550207764614467,
          0.06936561989902307,
          0.035659091580685975,
          0.04757454126615951,
          0.0246813576011777,
          0.02191254516788017,
          0.06270741294044994,
          0.0843365445189509,
          0.18066928379496067,
          0.058301609525369974,
          0.08756244358675931,
          0.05217730908215803,
          0.03787195971426363,
          0.02982925903841969,
          0.1395394962373938,
          0.07587611262679728,
          0.03451881518016843,
          0.08594109235144128,
          0.02786472995832612,
          0.03963853219570336,
          0.0810346555037441,
          0.09010653585091337,
          0.02056185980361837,
          0.058866842552385536,
          0.02188401411046127,
          0.16634072407944123,
          0.059095319131648054,
          0.0792775527389982,
          0.06276485577816461,
          0.07072685527134963,
          0.08914902595468784,
          0.017863475414972595,
          0.06395609951791531,
          0.06149100889668773,
          0.07119747900399226,
          0.11512925753584818,
          0.036631177767996036,
          0.048635364700932,
          0.03478783328992803,
          0.020988694284645133,
          0.15463219969673456,
          0.12873361253990057,
          0.06426114731856976,
          0.001970826090728035,
          0.0752000233118803,
          0.07633063581380603,
          0.012837008009693923,
          0.03466606454323426,
          0.07329809408824133,
          0.06839092415140668,
          0.05793731533517501,
          0.06257888263051284,
          0.0853014683909958,
          0.027044330322531042,
          0.1144293076116818,
          0.011429874682075451,
          0.1923864106873083,
          0.06756705501540303,
          0.012943737616203004,
          0.04275898485051256,
          0.03424109110865696,
          0.05973723132624173,
          0.1306482391466009,
          0.1336142114610123,
          0.1566033450550528,
          0.026022082923377043,
          0.34011834186277795,
          0.11188577245197953,
          0.08308880977512213,
          0.08115892078272445,
          0.04890235001729983,
          0.0799551488503328,
          0.11705301770962877,
          0.12842630718000242,
          0.11859331183238674,
          0.033057706294915785,
          0.16993590175659634,
          0.08502346893718443,
          0.03363989501318133,
          0.054672941594982365,
          0.03314483132037524,
          0.17215298524861683,
          0.14269440349961746,
          0.036222045310146785,
          0.01290143911912042,
          0.06266495334082574,
          0.044292359983902185,
          0.05136596037304363,
          0.05317679679331327
         ]
        },
        {
         "boxpoints": false,
         "line": {
          "width": 1.3
         },
         "marker": {
          "color": "rgba(55, 128, 191, 1.0)"
         },
         "name": "특성2",
         "orientation": "h",
         "type": "box",
         "x": [
          0.8252745593280425,
          0.6814847790600433,
          0.7874146437315238,
          0.09434840502724504,
          0.8358348149527791,
          0.7463258614613,
          0.8207582237800287,
          0.8953808230825809,
          0.815907290097118,
          0.7045665764985741,
          0.8534963946759885,
          0.8599288350420541,
          0.8052746573384862,
          0.7962297797967973,
          0.8014710029228319,
          0.742030887924825,
          0.8910533944938435,
          0.718995769340567,
          0.26342538559082757,
          0.4059721603366479,
          0.6311796346574419,
          0.8076214791594903,
          0.7776163923695173,
          0.7372759113194519,
          0.8257675800431982,
          0.5433967990805089,
          0.7900766799754921,
          0.8592085909942428,
          0.7584174296904461,
          0.8480812229135889,
          0.7744383029994601,
          0.4847292741427502,
          0.7349155858075468,
          0.7573654535378316,
          0.8163952327123393,
          0.8138607375294615,
          0.4529717904011901,
          0.8569631609425133,
          0.8083039240143721,
          0.7009221929746999,
          0.7898774879400148,
          0.769361531121584,
          0.881667104071068,
          0.6320002478722092,
          0.5415175939809086,
          0.8347717181848301,
          0.4644829036491434,
          0.816945993350655,
          0.8586300759303126,
          0.8188397712554707,
          0.8637734661808291,
          0.5674938016417729,
          0.391006586739905,
          0.6900785937942572,
          0.8150433821171528,
          0.7168362526337336,
          0.7542766758006052,
          0.8200625820258665,
          0.8395214689999964,
          0.7360238445194338,
          0.8508258891948962,
          0.8605661760896682,
          0.3508930600075297,
          0.7281836027820727,
          0.7690526852358536,
          0.6769190274481666,
          0.8663697818781978,
          0.560497007088387,
          0.8109920020332948,
          0.7946230367989349,
          0.7896310083601971,
          0.7605033660426953,
          0.7920411559913836,
          0.3448405301196112,
          0.6735682096137495,
          0.6347605085913407,
          0.5732184276979349,
          0.17593599671284046,
          0.6685060185742573,
          0.6269272506872648,
          0.7298912881683685,
          0.7844650808444741,
          0.7618286232656439,
          0.2061587267014839,
          0.6463401161471408,
          0.4911041523614632,
          0.8363281928649509,
          0.5742629936863247,
          0.5599946327687263,
          0.8598358359822804,
          0.6327901816812553,
          0.5814696841930755,
          0.1669561768203449,
          0.578813053926544,
          0.6385563469980431,
          0.8815316532382598,
          0.7942501921806762,
          0.7852566435415097,
          0.8622598552854028,
          0.8203264633867441
         ]
        },
        {
         "boxpoints": false,
         "line": {
          "width": 1.3
         },
         "marker": {
          "color": "rgba(50, 171, 96, 1.0)"
         },
         "name": "특성3",
         "orientation": "h",
         "type": "box",
         "x": [
          0.11688114670849128,
          0.3063802170629519,
          0.14234702129298962,
          0.7211811940205052,
          0.1205352547279131,
          0.16967435231691919,
          0.11694268671890475,
          0.09720028620354797,
          0.1591204353746855,
          0.21196883337440642,
          0.11904141200371092,
          0.10456908731180126,
          0.12535972276249072,
          0.16811112862251673,
          0.1509544558110086,
          0.2332877544739973,
          0.08703406033827644,
          0.21829681771898293,
          0.6522380698902215,
          0.4133585558683914,
          0.310518755817188,
          0.10481607725375038,
          0.1702062985483247,
          0.22485212896628456,
          0.14440316091838212,
          0.31706370468209727,
          0.13404720739771056,
          0.10627259382558878,
          0.15564147795811256,
          0.12405404712808492,
          0.1859231648048366,
          0.4342360703535057,
          0.17497787834153988,
          0.22207268665855012,
          0.12473792473527523,
          0.1642552483600771,
          0.3806874855193685,
          0.08394151992583868,
          0.11241852324662967,
          0.2363129512471355,
          0.13939565678863564,
          0.14148944292372817,
          0.10046942051395942,
          0.3040436526098754,
          0.39699139712240367,
          0.09403080281117758,
          0.4203878388150084,
          0.146422828881349,
          0.09273455936875546,
          0.1463723954546013,
          0.11523783953452563,
          0.27787399866149265,
          0.48025980072019436,
          0.24566025888717302,
          0.18298579179211916,
          0.20796372405438607,
          0.1693926883855887,
          0.16710040996443967,
          0.12581246645676927,
          0.19067806139232493,
          0.08078318665369699,
          0.08149650857515672,
          0.5865280573619576,
          0.18651492882693146,
          0.20390298444161536,
          0.20865166494015167,
          0.12220034343972677,
          0.24711658222430466,
          0.1214409429513021,
          0.19243322558486206,
          0.16761000678929036,
          0.20525554284864772,
          0.1482216126823747,
          0.524511230733788,
          0.19281757892523813,
          0.20863614635360656,
          0.4007594893786881,
          0.48394566142438167,
          0.219608208973763,
          0.2899839395376131,
          0.18894979104890713,
          0.1666325691382261,
          0.15821622788402326,
          0.6767882555888873,
          0.22523357667285682,
          0.39030253580615,
          0.13061410084013342,
          0.255801104557079,
          0.3549818982940893,
          0.1065242690045383,
          0.3125368767237623,
          0.3853854844865493,
          0.6608908379310382,
          0.27849254257383854,
          0.3252216076918102,
          0.10556690764261992,
          0.14308485447849806,
          0.17045099647458797,
          0.08637418434155351,
          0.12649673981994258
         ]
        }
       ],
       "layout": {
        "legend": {
         "bgcolor": "#F5F6F9",
         "font": {
          "color": "#4D5663"
         }
        },
        "paper_bgcolor": "#F5F6F9",
        "plot_bgcolor": "#F5F6F9",
        "template": {
         "data": {
          "bar": [
           {
            "error_x": {
             "color": "#2a3f5f"
            },
            "error_y": {
             "color": "#2a3f5f"
            },
            "marker": {
             "line": {
              "color": "#E5ECF6",
              "width": 0.5
             },
             "pattern": {
              "fillmode": "overlay",
              "size": 10,
              "solidity": 0.2
             }
            },
            "type": "bar"
           }
          ],
          "barpolar": [
           {
            "marker": {
             "line": {
              "color": "#E5ECF6",
              "width": 0.5
             },
             "pattern": {
              "fillmode": "overlay",
              "size": 10,
              "solidity": 0.2
             }
            },
            "type": "barpolar"
           }
          ],
          "carpet": [
           {
            "aaxis": {
             "endlinecolor": "#2a3f5f",
             "gridcolor": "white",
             "linecolor": "white",
             "minorgridcolor": "white",
             "startlinecolor": "#2a3f5f"
            },
            "baxis": {
             "endlinecolor": "#2a3f5f",
             "gridcolor": "white",
             "linecolor": "white",
             "minorgridcolor": "white",
             "startlinecolor": "#2a3f5f"
            },
            "type": "carpet"
           }
          ],
          "choropleth": [
           {
            "colorbar": {
             "outlinewidth": 0,
             "ticks": ""
            },
            "type": "choropleth"
           }
          ],
          "contour": [
           {
            "colorbar": {
             "outlinewidth": 0,
             "ticks": ""
            },
            "colorscale": [
             [
              0,
              "#0d0887"
             ],
             [
              0.1111111111111111,
              "#46039f"
             ],
             [
              0.2222222222222222,
              "#7201a8"
             ],
             [
              0.3333333333333333,
              "#9c179e"
             ],
             [
              0.4444444444444444,
              "#bd3786"
             ],
             [
              0.5555555555555556,
              "#d8576b"
             ],
             [
              0.6666666666666666,
              "#ed7953"
             ],
             [
              0.7777777777777778,
              "#fb9f3a"
             ],
             [
              0.8888888888888888,
              "#fdca26"
             ],
             [
              1,
              "#f0f921"
             ]
            ],
            "type": "contour"
           }
          ],
          "contourcarpet": [
           {
            "colorbar": {
             "outlinewidth": 0,
             "ticks": ""
            },
            "type": "contourcarpet"
           }
          ],
          "heatmap": [
           {
            "colorbar": {
             "outlinewidth": 0,
             "ticks": ""
            },
            "colorscale": [
             [
              0,
              "#0d0887"
             ],
             [
              0.1111111111111111,
              "#46039f"
             ],
             [
              0.2222222222222222,
              "#7201a8"
             ],
             [
              0.3333333333333333,
              "#9c179e"
             ],
             [
              0.4444444444444444,
              "#bd3786"
             ],
             [
              0.5555555555555556,
              "#d8576b"
             ],
             [
              0.6666666666666666,
              "#ed7953"
             ],
             [
              0.7777777777777778,
              "#fb9f3a"
             ],
             [
              0.8888888888888888,
              "#fdca26"
             ],
             [
              1,
              "#f0f921"
             ]
            ],
            "type": "heatmap"
           }
          ],
          "heatmapgl": [
           {
            "colorbar": {
             "outlinewidth": 0,
             "ticks": ""
            },
            "colorscale": [
             [
              0,
              "#0d0887"
             ],
             [
              0.1111111111111111,
              "#46039f"
             ],
             [
              0.2222222222222222,
              "#7201a8"
             ],
             [
              0.3333333333333333,
              "#9c179e"
             ],
             [
              0.4444444444444444,
              "#bd3786"
             ],
             [
              0.5555555555555556,
              "#d8576b"
             ],
             [
              0.6666666666666666,
              "#ed7953"
             ],
             [
              0.7777777777777778,
              "#fb9f3a"
             ],
             [
              0.8888888888888888,
              "#fdca26"
             ],
             [
              1,
              "#f0f921"
             ]
            ],
            "type": "heatmapgl"
           }
          ],
          "histogram": [
           {
            "marker": {
             "pattern": {
              "fillmode": "overlay",
              "size": 10,
              "solidity": 0.2
             }
            },
            "type": "histogram"
           }
          ],
          "histogram2d": [
           {
            "colorbar": {
             "outlinewidth": 0,
             "ticks": ""
            },
            "colorscale": [
             [
              0,
              "#0d0887"
             ],
             [
              0.1111111111111111,
              "#46039f"
             ],
             [
              0.2222222222222222,
              "#7201a8"
             ],
             [
              0.3333333333333333,
              "#9c179e"
             ],
             [
              0.4444444444444444,
              "#bd3786"
             ],
             [
              0.5555555555555556,
              "#d8576b"
             ],
             [
              0.6666666666666666,
              "#ed7953"
             ],
             [
              0.7777777777777778,
              "#fb9f3a"
             ],
             [
              0.8888888888888888,
              "#fdca26"
             ],
             [
              1,
              "#f0f921"
             ]
            ],
            "type": "histogram2d"
           }
          ],
          "histogram2dcontour": [
           {
            "colorbar": {
             "outlinewidth": 0,
             "ticks": ""
            },
            "colorscale": [
             [
              0,
              "#0d0887"
             ],
             [
              0.1111111111111111,
              "#46039f"
             ],
             [
              0.2222222222222222,
              "#7201a8"
             ],
             [
              0.3333333333333333,
              "#9c179e"
             ],
             [
              0.4444444444444444,
              "#bd3786"
             ],
             [
              0.5555555555555556,
              "#d8576b"
             ],
             [
              0.6666666666666666,
              "#ed7953"
             ],
             [
              0.7777777777777778,
              "#fb9f3a"
             ],
             [
              0.8888888888888888,
              "#fdca26"
             ],
             [
              1,
              "#f0f921"
             ]
            ],
            "type": "histogram2dcontour"
           }
          ],
          "mesh3d": [
           {
            "colorbar": {
             "outlinewidth": 0,
             "ticks": ""
            },
            "type": "mesh3d"
           }
          ],
          "parcoords": [
           {
            "line": {
             "colorbar": {
              "outlinewidth": 0,
              "ticks": ""
             }
            },
            "type": "parcoords"
           }
          ],
          "pie": [
           {
            "automargin": true,
            "type": "pie"
           }
          ],
          "scatter": [
           {
            "fillpattern": {
             "fillmode": "overlay",
             "size": 10,
             "solidity": 0.2
            },
            "type": "scatter"
           }
          ],
          "scatter3d": [
           {
            "line": {
             "colorbar": {
              "outlinewidth": 0,
              "ticks": ""
             }
            },
            "marker": {
             "colorbar": {
              "outlinewidth": 0,
              "ticks": ""
             }
            },
            "type": "scatter3d"
           }
          ],
          "scattercarpet": [
           {
            "marker": {
             "colorbar": {
              "outlinewidth": 0,
              "ticks": ""
             }
            },
            "type": "scattercarpet"
           }
          ],
          "scattergeo": [
           {
            "marker": {
             "colorbar": {
              "outlinewidth": 0,
              "ticks": ""
             }
            },
            "type": "scattergeo"
           }
          ],
          "scattergl": [
           {
            "marker": {
             "colorbar": {
              "outlinewidth": 0,
              "ticks": ""
             }
            },
            "type": "scattergl"
           }
          ],
          "scattermapbox": [
           {
            "marker": {
             "colorbar": {
              "outlinewidth": 0,
              "ticks": ""
             }
            },
            "type": "scattermapbox"
           }
          ],
          "scatterpolar": [
           {
            "marker": {
             "colorbar": {
              "outlinewidth": 0,
              "ticks": ""
             }
            },
            "type": "scatterpolar"
           }
          ],
          "scatterpolargl": [
           {
            "marker": {
             "colorbar": {
              "outlinewidth": 0,
              "ticks": ""
             }
            },
            "type": "scatterpolargl"
           }
          ],
          "scatterternary": [
           {
            "marker": {
             "colorbar": {
              "outlinewidth": 0,
              "ticks": ""
             }
            },
            "type": "scatterternary"
           }
          ],
          "surface": [
           {
            "colorbar": {
             "outlinewidth": 0,
             "ticks": ""
            },
            "colorscale": [
             [
              0,
              "#0d0887"
             ],
             [
              0.1111111111111111,
              "#46039f"
             ],
             [
              0.2222222222222222,
              "#7201a8"
             ],
             [
              0.3333333333333333,
              "#9c179e"
             ],
             [
              0.4444444444444444,
              "#bd3786"
             ],
             [
              0.5555555555555556,
              "#d8576b"
             ],
             [
              0.6666666666666666,
              "#ed7953"
             ],
             [
              0.7777777777777778,
              "#fb9f3a"
             ],
             [
              0.8888888888888888,
              "#fdca26"
             ],
             [
              1,
              "#f0f921"
             ]
            ],
            "type": "surface"
           }
          ],
          "table": [
           {
            "cells": {
             "fill": {
              "color": "#EBF0F8"
             },
             "line": {
              "color": "white"
             }
            },
            "header": {
             "fill": {
              "color": "#C8D4E3"
             },
             "line": {
              "color": "white"
             }
            },
            "type": "table"
           }
          ]
         },
         "layout": {
          "annotationdefaults": {
           "arrowcolor": "#2a3f5f",
           "arrowhead": 0,
           "arrowwidth": 1
          },
          "autotypenumbers": "strict",
          "coloraxis": {
           "colorbar": {
            "outlinewidth": 0,
            "ticks": ""
           }
          },
          "colorscale": {
           "diverging": [
            [
             0,
             "#8e0152"
            ],
            [
             0.1,
             "#c51b7d"
            ],
            [
             0.2,
             "#de77ae"
            ],
            [
             0.3,
             "#f1b6da"
            ],
            [
             0.4,
             "#fde0ef"
            ],
            [
             0.5,
             "#f7f7f7"
            ],
            [
             0.6,
             "#e6f5d0"
            ],
            [
             0.7,
             "#b8e186"
            ],
            [
             0.8,
             "#7fbc41"
            ],
            [
             0.9,
             "#4d9221"
            ],
            [
             1,
             "#276419"
            ]
           ],
           "sequential": [
            [
             0,
             "#0d0887"
            ],
            [
             0.1111111111111111,
             "#46039f"
            ],
            [
             0.2222222222222222,
             "#7201a8"
            ],
            [
             0.3333333333333333,
             "#9c179e"
            ],
            [
             0.4444444444444444,
             "#bd3786"
            ],
            [
             0.5555555555555556,
             "#d8576b"
            ],
            [
             0.6666666666666666,
             "#ed7953"
            ],
            [
             0.7777777777777778,
             "#fb9f3a"
            ],
            [
             0.8888888888888888,
             "#fdca26"
            ],
            [
             1,
             "#f0f921"
            ]
           ],
           "sequentialminus": [
            [
             0,
             "#0d0887"
            ],
            [
             0.1111111111111111,
             "#46039f"
            ],
            [
             0.2222222222222222,
             "#7201a8"
            ],
            [
             0.3333333333333333,
             "#9c179e"
            ],
            [
             0.4444444444444444,
             "#bd3786"
            ],
            [
             0.5555555555555556,
             "#d8576b"
            ],
            [
             0.6666666666666666,
             "#ed7953"
            ],
            [
             0.7777777777777778,
             "#fb9f3a"
            ],
            [
             0.8888888888888888,
             "#fdca26"
            ],
            [
             1,
             "#f0f921"
            ]
           ]
          },
          "colorway": [
           "#636efa",
           "#EF553B",
           "#00cc96",
           "#ab63fa",
           "#FFA15A",
           "#19d3f3",
           "#FF6692",
           "#B6E880",
           "#FF97FF",
           "#FECB52"
          ],
          "font": {
           "color": "#2a3f5f"
          },
          "geo": {
           "bgcolor": "white",
           "lakecolor": "white",
           "landcolor": "#E5ECF6",
           "showlakes": true,
           "showland": true,
           "subunitcolor": "white"
          },
          "hoverlabel": {
           "align": "left"
          },
          "hovermode": "closest",
          "mapbox": {
           "style": "light"
          },
          "paper_bgcolor": "white",
          "plot_bgcolor": "#E5ECF6",
          "polar": {
           "angularaxis": {
            "gridcolor": "white",
            "linecolor": "white",
            "ticks": ""
           },
           "bgcolor": "#E5ECF6",
           "radialaxis": {
            "gridcolor": "white",
            "linecolor": "white",
            "ticks": ""
           }
          },
          "scene": {
           "xaxis": {
            "backgroundcolor": "#E5ECF6",
            "gridcolor": "white",
            "gridwidth": 2,
            "linecolor": "white",
            "showbackground": true,
            "ticks": "",
            "zerolinecolor": "white"
           },
           "yaxis": {
            "backgroundcolor": "#E5ECF6",
            "gridcolor": "white",
            "gridwidth": 2,
            "linecolor": "white",
            "showbackground": true,
            "ticks": "",
            "zerolinecolor": "white"
           },
           "zaxis": {
            "backgroundcolor": "#E5ECF6",
            "gridcolor": "white",
            "gridwidth": 2,
            "linecolor": "white",
            "showbackground": true,
            "ticks": "",
            "zerolinecolor": "white"
           }
          },
          "shapedefaults": {
           "line": {
            "color": "#2a3f5f"
           }
          },
          "ternary": {
           "aaxis": {
            "gridcolor": "white",
            "linecolor": "white",
            "ticks": ""
           },
           "baxis": {
            "gridcolor": "white",
            "linecolor": "white",
            "ticks": ""
           },
           "bgcolor": "#E5ECF6",
           "caxis": {
            "gridcolor": "white",
            "linecolor": "white",
            "ticks": ""
           }
          },
          "title": {
           "x": 0.05
          },
          "xaxis": {
           "automargin": true,
           "gridcolor": "white",
           "linecolor": "white",
           "ticks": "",
           "title": {
            "standoff": 15
           },
           "zerolinecolor": "white",
           "zerolinewidth": 2
          },
          "yaxis": {
           "automargin": true,
           "gridcolor": "white",
           "linecolor": "white",
           "ticks": "",
           "title": {
            "standoff": 15
           },
           "zerolinecolor": "white",
           "zerolinewidth": 2
          }
         }
        },
        "title": {
         "font": {
          "color": "#4D5663"
         }
        },
        "xaxis": {
         "gridcolor": "#E1E5ED",
         "showgrid": true,
         "tickfont": {
          "color": "#4D5663"
         },
         "title": {
          "font": {
           "color": "#4D5663"
          },
          "text": ""
         },
         "zerolinecolor": "#E1E5ED"
        },
        "yaxis": {
         "gridcolor": "#E1E5ED",
         "showgrid": true,
         "tickfont": {
          "color": "#4D5663"
         },
         "title": {
          "font": {
           "color": "#4D5663"
          },
          "text": ""
         },
         "zerolinecolor": "#E1E5ED"
        }
       }
      },
      "text/html": [
       "<div>                            <div id=\"eb93fdd3-a1ec-4ae7-acfd-ebeccf043f16\" class=\"plotly-graph-div\" style=\"height:525px; width:100%;\"></div>            <script type=\"text/javascript\">                require([\"plotly\"], function(Plotly) {                    window.PLOTLYENV=window.PLOTLYENV || {};\n",
       "                    window.PLOTLYENV.BASE_URL='https://plot.ly';                                    if (document.getElementById(\"eb93fdd3-a1ec-4ae7-acfd-ebeccf043f16\")) {                    Plotly.newPlot(                        \"eb93fdd3-a1ec-4ae7-acfd-ebeccf043f16\",                        [{\"boxpoints\":false,\"line\":{\"width\":1.3},\"marker\":{\"color\":\"rgba(255, 153, 51, 1.0)\"},\"name\":\"\\ud2b9\\uc1311\",\"orientation\":\"h\",\"x\":[0.057844293963466235,0.012135003877004842,0.07023833497548645,0.18447040095224976,0.04362993031930781,0.0839997862217809,0.06229908950106659,0.007418890713871194,0.02497227452819629,0.08346459012701948,0.027462193320300754,0.03550207764614467,0.06936561989902307,0.035659091580685975,0.04757454126615951,0.0246813576011777,0.02191254516788017,0.06270741294044994,0.0843365445189509,0.18066928379496067,0.058301609525369974,0.08756244358675931,0.05217730908215803,0.03787195971426363,0.02982925903841969,0.1395394962373938,0.07587611262679728,0.03451881518016843,0.08594109235144128,0.02786472995832612,0.03963853219570336,0.0810346555037441,0.09010653585091337,0.02056185980361837,0.058866842552385536,0.02188401411046127,0.16634072407944123,0.059095319131648054,0.0792775527389982,0.06276485577816461,0.07072685527134963,0.08914902595468784,0.017863475414972595,0.06395609951791531,0.06149100889668773,0.07119747900399226,0.11512925753584818,0.036631177767996036,0.048635364700932,0.03478783328992803,0.020988694284645133,0.15463219969673456,0.12873361253990057,0.06426114731856976,0.001970826090728035,0.0752000233118803,0.07633063581380603,0.012837008009693923,0.03466606454323426,0.07329809408824133,0.06839092415140668,0.05793731533517501,0.06257888263051284,0.0853014683909958,0.027044330322531042,0.1144293076116818,0.011429874682075451,0.1923864106873083,0.06756705501540303,0.012943737616203004,0.04275898485051256,0.03424109110865696,0.05973723132624173,0.1306482391466009,0.1336142114610123,0.1566033450550528,0.026022082923377043,0.34011834186277795,0.11188577245197953,0.08308880977512213,0.08115892078272445,0.04890235001729983,0.0799551488503328,0.11705301770962877,0.12842630718000242,0.11859331183238674,0.033057706294915785,0.16993590175659634,0.08502346893718443,0.03363989501318133,0.054672941594982365,0.03314483132037524,0.17215298524861683,0.14269440349961746,0.036222045310146785,0.01290143911912042,0.06266495334082574,0.044292359983902185,0.05136596037304363,0.05317679679331327],\"type\":\"box\"},{\"boxpoints\":false,\"line\":{\"width\":1.3},\"marker\":{\"color\":\"rgba(55, 128, 191, 1.0)\"},\"name\":\"\\ud2b9\\uc1312\",\"orientation\":\"h\",\"x\":[0.8252745593280425,0.6814847790600433,0.7874146437315238,0.09434840502724504,0.8358348149527791,0.7463258614613,0.8207582237800287,0.8953808230825809,0.815907290097118,0.7045665764985741,0.8534963946759885,0.8599288350420541,0.8052746573384862,0.7962297797967973,0.8014710029228319,0.742030887924825,0.8910533944938435,0.718995769340567,0.26342538559082757,0.4059721603366479,0.6311796346574419,0.8076214791594903,0.7776163923695173,0.7372759113194519,0.8257675800431982,0.5433967990805089,0.7900766799754921,0.8592085909942428,0.7584174296904461,0.8480812229135889,0.7744383029994601,0.4847292741427502,0.7349155858075468,0.7573654535378316,0.8163952327123393,0.8138607375294615,0.4529717904011901,0.8569631609425133,0.8083039240143721,0.7009221929746999,0.7898774879400148,0.769361531121584,0.881667104071068,0.6320002478722092,0.5415175939809086,0.8347717181848301,0.4644829036491434,0.816945993350655,0.8586300759303126,0.8188397712554707,0.8637734661808291,0.5674938016417729,0.391006586739905,0.6900785937942572,0.8150433821171528,0.7168362526337336,0.7542766758006052,0.8200625820258665,0.8395214689999964,0.7360238445194338,0.8508258891948962,0.8605661760896682,0.3508930600075297,0.7281836027820727,0.7690526852358536,0.6769190274481666,0.8663697818781978,0.560497007088387,0.8109920020332948,0.7946230367989349,0.7896310083601971,0.7605033660426953,0.7920411559913836,0.3448405301196112,0.6735682096137495,0.6347605085913407,0.5732184276979349,0.17593599671284046,0.6685060185742573,0.6269272506872648,0.7298912881683685,0.7844650808444741,0.7618286232656439,0.2061587267014839,0.6463401161471408,0.4911041523614632,0.8363281928649509,0.5742629936863247,0.5599946327687263,0.8598358359822804,0.6327901816812553,0.5814696841930755,0.1669561768203449,0.578813053926544,0.6385563469980431,0.8815316532382598,0.7942501921806762,0.7852566435415097,0.8622598552854028,0.8203264633867441],\"type\":\"box\"},{\"boxpoints\":false,\"line\":{\"width\":1.3},\"marker\":{\"color\":\"rgba(50, 171, 96, 1.0)\"},\"name\":\"\\ud2b9\\uc1313\",\"orientation\":\"h\",\"x\":[0.11688114670849128,0.3063802170629519,0.14234702129298962,0.7211811940205052,0.1205352547279131,0.16967435231691919,0.11694268671890475,0.09720028620354797,0.1591204353746855,0.21196883337440642,0.11904141200371092,0.10456908731180126,0.12535972276249072,0.16811112862251673,0.1509544558110086,0.2332877544739973,0.08703406033827644,0.21829681771898293,0.6522380698902215,0.4133585558683914,0.310518755817188,0.10481607725375038,0.1702062985483247,0.22485212896628456,0.14440316091838212,0.31706370468209727,0.13404720739771056,0.10627259382558878,0.15564147795811256,0.12405404712808492,0.1859231648048366,0.4342360703535057,0.17497787834153988,0.22207268665855012,0.12473792473527523,0.1642552483600771,0.3806874855193685,0.08394151992583868,0.11241852324662967,0.2363129512471355,0.13939565678863564,0.14148944292372817,0.10046942051395942,0.3040436526098754,0.39699139712240367,0.09403080281117758,0.4203878388150084,0.146422828881349,0.09273455936875546,0.1463723954546013,0.11523783953452563,0.27787399866149265,0.48025980072019436,0.24566025888717302,0.18298579179211916,0.20796372405438607,0.1693926883855887,0.16710040996443967,0.12581246645676927,0.19067806139232493,0.08078318665369699,0.08149650857515672,0.5865280573619576,0.18651492882693146,0.20390298444161536,0.20865166494015167,0.12220034343972677,0.24711658222430466,0.1214409429513021,0.19243322558486206,0.16761000678929036,0.20525554284864772,0.1482216126823747,0.524511230733788,0.19281757892523813,0.20863614635360656,0.4007594893786881,0.48394566142438167,0.219608208973763,0.2899839395376131,0.18894979104890713,0.1666325691382261,0.15821622788402326,0.6767882555888873,0.22523357667285682,0.39030253580615,0.13061410084013342,0.255801104557079,0.3549818982940893,0.1065242690045383,0.3125368767237623,0.3853854844865493,0.6608908379310382,0.27849254257383854,0.3252216076918102,0.10556690764261992,0.14308485447849806,0.17045099647458797,0.08637418434155351,0.12649673981994258],\"type\":\"box\"}],                        {\"legend\":{\"bgcolor\":\"#F5F6F9\",\"font\":{\"color\":\"#4D5663\"}},\"paper_bgcolor\":\"#F5F6F9\",\"plot_bgcolor\":\"#F5F6F9\",\"template\":{\"data\":{\"barpolar\":[{\"marker\":{\"line\":{\"color\":\"#E5ECF6\",\"width\":0.5},\"pattern\":{\"fillmode\":\"overlay\",\"size\":10,\"solidity\":0.2}},\"type\":\"barpolar\"}],\"bar\":[{\"error_x\":{\"color\":\"#2a3f5f\"},\"error_y\":{\"color\":\"#2a3f5f\"},\"marker\":{\"line\":{\"color\":\"#E5ECF6\",\"width\":0.5},\"pattern\":{\"fillmode\":\"overlay\",\"size\":10,\"solidity\":0.2}},\"type\":\"bar\"}],\"carpet\":[{\"aaxis\":{\"endlinecolor\":\"#2a3f5f\",\"gridcolor\":\"white\",\"linecolor\":\"white\",\"minorgridcolor\":\"white\",\"startlinecolor\":\"#2a3f5f\"},\"baxis\":{\"endlinecolor\":\"#2a3f5f\",\"gridcolor\":\"white\",\"linecolor\":\"white\",\"minorgridcolor\":\"white\",\"startlinecolor\":\"#2a3f5f\"},\"type\":\"carpet\"}],\"choropleth\":[{\"colorbar\":{\"outlinewidth\":0,\"ticks\":\"\"},\"type\":\"choropleth\"}],\"contourcarpet\":[{\"colorbar\":{\"outlinewidth\":0,\"ticks\":\"\"},\"type\":\"contourcarpet\"}],\"contour\":[{\"colorbar\":{\"outlinewidth\":0,\"ticks\":\"\"},\"colorscale\":[[0.0,\"#0d0887\"],[0.1111111111111111,\"#46039f\"],[0.2222222222222222,\"#7201a8\"],[0.3333333333333333,\"#9c179e\"],[0.4444444444444444,\"#bd3786\"],[0.5555555555555556,\"#d8576b\"],[0.6666666666666666,\"#ed7953\"],[0.7777777777777778,\"#fb9f3a\"],[0.8888888888888888,\"#fdca26\"],[1.0,\"#f0f921\"]],\"type\":\"contour\"}],\"heatmapgl\":[{\"colorbar\":{\"outlinewidth\":0,\"ticks\":\"\"},\"colorscale\":[[0.0,\"#0d0887\"],[0.1111111111111111,\"#46039f\"],[0.2222222222222222,\"#7201a8\"],[0.3333333333333333,\"#9c179e\"],[0.4444444444444444,\"#bd3786\"],[0.5555555555555556,\"#d8576b\"],[0.6666666666666666,\"#ed7953\"],[0.7777777777777778,\"#fb9f3a\"],[0.8888888888888888,\"#fdca26\"],[1.0,\"#f0f921\"]],\"type\":\"heatmapgl\"}],\"heatmap\":[{\"colorbar\":{\"outlinewidth\":0,\"ticks\":\"\"},\"colorscale\":[[0.0,\"#0d0887\"],[0.1111111111111111,\"#46039f\"],[0.2222222222222222,\"#7201a8\"],[0.3333333333333333,\"#9c179e\"],[0.4444444444444444,\"#bd3786\"],[0.5555555555555556,\"#d8576b\"],[0.6666666666666666,\"#ed7953\"],[0.7777777777777778,\"#fb9f3a\"],[0.8888888888888888,\"#fdca26\"],[1.0,\"#f0f921\"]],\"type\":\"heatmap\"}],\"histogram2dcontour\":[{\"colorbar\":{\"outlinewidth\":0,\"ticks\":\"\"},\"colorscale\":[[0.0,\"#0d0887\"],[0.1111111111111111,\"#46039f\"],[0.2222222222222222,\"#7201a8\"],[0.3333333333333333,\"#9c179e\"],[0.4444444444444444,\"#bd3786\"],[0.5555555555555556,\"#d8576b\"],[0.6666666666666666,\"#ed7953\"],[0.7777777777777778,\"#fb9f3a\"],[0.8888888888888888,\"#fdca26\"],[1.0,\"#f0f921\"]],\"type\":\"histogram2dcontour\"}],\"histogram2d\":[{\"colorbar\":{\"outlinewidth\":0,\"ticks\":\"\"},\"colorscale\":[[0.0,\"#0d0887\"],[0.1111111111111111,\"#46039f\"],[0.2222222222222222,\"#7201a8\"],[0.3333333333333333,\"#9c179e\"],[0.4444444444444444,\"#bd3786\"],[0.5555555555555556,\"#d8576b\"],[0.6666666666666666,\"#ed7953\"],[0.7777777777777778,\"#fb9f3a\"],[0.8888888888888888,\"#fdca26\"],[1.0,\"#f0f921\"]],\"type\":\"histogram2d\"}],\"histogram\":[{\"marker\":{\"pattern\":{\"fillmode\":\"overlay\",\"size\":10,\"solidity\":0.2}},\"type\":\"histogram\"}],\"mesh3d\":[{\"colorbar\":{\"outlinewidth\":0,\"ticks\":\"\"},\"type\":\"mesh3d\"}],\"parcoords\":[{\"line\":{\"colorbar\":{\"outlinewidth\":0,\"ticks\":\"\"}},\"type\":\"parcoords\"}],\"pie\":[{\"automargin\":true,\"type\":\"pie\"}],\"scatter3d\":[{\"line\":{\"colorbar\":{\"outlinewidth\":0,\"ticks\":\"\"}},\"marker\":{\"colorbar\":{\"outlinewidth\":0,\"ticks\":\"\"}},\"type\":\"scatter3d\"}],\"scattercarpet\":[{\"marker\":{\"colorbar\":{\"outlinewidth\":0,\"ticks\":\"\"}},\"type\":\"scattercarpet\"}],\"scattergeo\":[{\"marker\":{\"colorbar\":{\"outlinewidth\":0,\"ticks\":\"\"}},\"type\":\"scattergeo\"}],\"scattergl\":[{\"marker\":{\"colorbar\":{\"outlinewidth\":0,\"ticks\":\"\"}},\"type\":\"scattergl\"}],\"scattermapbox\":[{\"marker\":{\"colorbar\":{\"outlinewidth\":0,\"ticks\":\"\"}},\"type\":\"scattermapbox\"}],\"scatterpolargl\":[{\"marker\":{\"colorbar\":{\"outlinewidth\":0,\"ticks\":\"\"}},\"type\":\"scatterpolargl\"}],\"scatterpolar\":[{\"marker\":{\"colorbar\":{\"outlinewidth\":0,\"ticks\":\"\"}},\"type\":\"scatterpolar\"}],\"scatter\":[{\"fillpattern\":{\"fillmode\":\"overlay\",\"size\":10,\"solidity\":0.2},\"type\":\"scatter\"}],\"scatterternary\":[{\"marker\":{\"colorbar\":{\"outlinewidth\":0,\"ticks\":\"\"}},\"type\":\"scatterternary\"}],\"surface\":[{\"colorbar\":{\"outlinewidth\":0,\"ticks\":\"\"},\"colorscale\":[[0.0,\"#0d0887\"],[0.1111111111111111,\"#46039f\"],[0.2222222222222222,\"#7201a8\"],[0.3333333333333333,\"#9c179e\"],[0.4444444444444444,\"#bd3786\"],[0.5555555555555556,\"#d8576b\"],[0.6666666666666666,\"#ed7953\"],[0.7777777777777778,\"#fb9f3a\"],[0.8888888888888888,\"#fdca26\"],[1.0,\"#f0f921\"]],\"type\":\"surface\"}],\"table\":[{\"cells\":{\"fill\":{\"color\":\"#EBF0F8\"},\"line\":{\"color\":\"white\"}},\"header\":{\"fill\":{\"color\":\"#C8D4E3\"},\"line\":{\"color\":\"white\"}},\"type\":\"table\"}]},\"layout\":{\"annotationdefaults\":{\"arrowcolor\":\"#2a3f5f\",\"arrowhead\":0,\"arrowwidth\":1},\"autotypenumbers\":\"strict\",\"coloraxis\":{\"colorbar\":{\"outlinewidth\":0,\"ticks\":\"\"}},\"colorscale\":{\"diverging\":[[0,\"#8e0152\"],[0.1,\"#c51b7d\"],[0.2,\"#de77ae\"],[0.3,\"#f1b6da\"],[0.4,\"#fde0ef\"],[0.5,\"#f7f7f7\"],[0.6,\"#e6f5d0\"],[0.7,\"#b8e186\"],[0.8,\"#7fbc41\"],[0.9,\"#4d9221\"],[1,\"#276419\"]],\"sequential\":[[0.0,\"#0d0887\"],[0.1111111111111111,\"#46039f\"],[0.2222222222222222,\"#7201a8\"],[0.3333333333333333,\"#9c179e\"],[0.4444444444444444,\"#bd3786\"],[0.5555555555555556,\"#d8576b\"],[0.6666666666666666,\"#ed7953\"],[0.7777777777777778,\"#fb9f3a\"],[0.8888888888888888,\"#fdca26\"],[1.0,\"#f0f921\"]],\"sequentialminus\":[[0.0,\"#0d0887\"],[0.1111111111111111,\"#46039f\"],[0.2222222222222222,\"#7201a8\"],[0.3333333333333333,\"#9c179e\"],[0.4444444444444444,\"#bd3786\"],[0.5555555555555556,\"#d8576b\"],[0.6666666666666666,\"#ed7953\"],[0.7777777777777778,\"#fb9f3a\"],[0.8888888888888888,\"#fdca26\"],[1.0,\"#f0f921\"]]},\"colorway\":[\"#636efa\",\"#EF553B\",\"#00cc96\",\"#ab63fa\",\"#FFA15A\",\"#19d3f3\",\"#FF6692\",\"#B6E880\",\"#FF97FF\",\"#FECB52\"],\"font\":{\"color\":\"#2a3f5f\"},\"geo\":{\"bgcolor\":\"white\",\"lakecolor\":\"white\",\"landcolor\":\"#E5ECF6\",\"showlakes\":true,\"showland\":true,\"subunitcolor\":\"white\"},\"hoverlabel\":{\"align\":\"left\"},\"hovermode\":\"closest\",\"mapbox\":{\"style\":\"light\"},\"paper_bgcolor\":\"white\",\"plot_bgcolor\":\"#E5ECF6\",\"polar\":{\"angularaxis\":{\"gridcolor\":\"white\",\"linecolor\":\"white\",\"ticks\":\"\"},\"bgcolor\":\"#E5ECF6\",\"radialaxis\":{\"gridcolor\":\"white\",\"linecolor\":\"white\",\"ticks\":\"\"}},\"scene\":{\"xaxis\":{\"backgroundcolor\":\"#E5ECF6\",\"gridcolor\":\"white\",\"gridwidth\":2,\"linecolor\":\"white\",\"showbackground\":true,\"ticks\":\"\",\"zerolinecolor\":\"white\"},\"yaxis\":{\"backgroundcolor\":\"#E5ECF6\",\"gridcolor\":\"white\",\"gridwidth\":2,\"linecolor\":\"white\",\"showbackground\":true,\"ticks\":\"\",\"zerolinecolor\":\"white\"},\"zaxis\":{\"backgroundcolor\":\"#E5ECF6\",\"gridcolor\":\"white\",\"gridwidth\":2,\"linecolor\":\"white\",\"showbackground\":true,\"ticks\":\"\",\"zerolinecolor\":\"white\"}},\"shapedefaults\":{\"line\":{\"color\":\"#2a3f5f\"}},\"ternary\":{\"aaxis\":{\"gridcolor\":\"white\",\"linecolor\":\"white\",\"ticks\":\"\"},\"baxis\":{\"gridcolor\":\"white\",\"linecolor\":\"white\",\"ticks\":\"\"},\"bgcolor\":\"#E5ECF6\",\"caxis\":{\"gridcolor\":\"white\",\"linecolor\":\"white\",\"ticks\":\"\"}},\"title\":{\"x\":0.05},\"xaxis\":{\"automargin\":true,\"gridcolor\":\"white\",\"linecolor\":\"white\",\"ticks\":\"\",\"title\":{\"standoff\":15},\"zerolinecolor\":\"white\",\"zerolinewidth\":2},\"yaxis\":{\"automargin\":true,\"gridcolor\":\"white\",\"linecolor\":\"white\",\"ticks\":\"\",\"title\":{\"standoff\":15},\"zerolinecolor\":\"white\",\"zerolinewidth\":2}}},\"title\":{\"font\":{\"color\":\"#4D5663\"}},\"xaxis\":{\"gridcolor\":\"#E1E5ED\",\"showgrid\":true,\"tickfont\":{\"color\":\"#4D5663\"},\"title\":{\"font\":{\"color\":\"#4D5663\"},\"text\":\"\"},\"zerolinecolor\":\"#E1E5ED\"},\"yaxis\":{\"gridcolor\":\"#E1E5ED\",\"showgrid\":true,\"tickfont\":{\"color\":\"#4D5663\"},\"title\":{\"font\":{\"color\":\"#4D5663\"},\"text\":\"\"},\"zerolinecolor\":\"#E1E5ED\"}},                        {\"showLink\": true, \"linkText\": \"Export to plot.ly\", \"plotlyServerURL\": \"https://plot.ly\", \"responsive\": true}                    ).then(function(){\n",
       "                            \n",
       "var gd = document.getElementById('eb93fdd3-a1ec-4ae7-acfd-ebeccf043f16');\n",
       "var x = new MutationObserver(function (mutations, observer) {{\n",
       "        var display = window.getComputedStyle(gd).display;\n",
       "        if (!display || display === 'none') {{\n",
       "            console.log([gd, 'removed!']);\n",
       "            Plotly.purge(gd);\n",
       "            observer.disconnect();\n",
       "        }}\n",
       "}});\n",
       "\n",
       "// Listen for the removal of the full notebook cells\n",
       "var notebookContainer = gd.closest('#notebook-container');\n",
       "if (notebookContainer) {{\n",
       "    x.observe(notebookContainer, {childList: true});\n",
       "}}\n",
       "\n",
       "// Listen for the clearing of the current output cell\n",
       "var outputEl = gd.closest('.output');\n",
       "if (outputEl) {{\n",
       "    x.observe(outputEl, {childList: true});\n",
       "}}\n",
       "\n",
       "                        })                };                });            </script>        </div>"
      ]
     },
     "metadata": {},
     "output_type": "display_data"
    }
   ],
   "source": [
    "X_scaled_df.iplot(kind='box', orientation='h')"
   ]
  },
  {
   "cell_type": "markdown",
   "metadata": {},
   "source": [
    "__L2 정규화 (L2 Normalization) : 각 샘플의 L2 norm이 1이 되도록 스케일링__\n",
    "\n",
    "* 벡터의 방향만 중요한 경우"
   ]
  },
  {
   "cell_type": "code",
   "execution_count": 90,
   "metadata": {},
   "outputs": [],
   "source": [
    "from sklearn.preprocessing import Normalizer\n",
    "scaler = Normalizer(norm='l2')\n",
    "X_scaled = scaler.fit_transform(X)"
   ]
  },
  {
   "cell_type": "code",
   "execution_count": 91,
   "metadata": {},
   "outputs": [
    {
     "name": "stdout",
     "output_type": "stream",
     "text": [
      "L2 정규화된 데이터:\n",
      "              특성1         특성2         특성3\n",
      "count  100.000000  100.000000  100.000000\n",
      "mean     0.098912    0.898855    0.310242\n",
      "std      0.083279    0.175394    0.221803\n",
      "min      0.002359    0.125738    0.094068\n",
      "25%      0.043017    0.896621    0.151731\n",
      "50%      0.080942    0.971477    0.219711\n",
      "75%      0.114531    0.985869    0.411695\n",
      "max      0.551138    0.994966    0.961119\n"
     ]
    }
   ],
   "source": [
    "X_scaled_df = pd.DataFrame(X_scaled, columns=['특성1', '특성2', '특성3'])\n",
    "print(\"L2 정규화된 데이터:\")\n",
    "print(X_scaled_df.describe())"
   ]
  },
  {
   "cell_type": "code",
   "execution_count": 92,
   "metadata": {},
   "outputs": [
    {
     "data": {
      "application/vnd.plotly.v1+json": {
       "config": {
        "linkText": "Export to plot.ly",
        "plotlyServerURL": "https://plot.ly",
        "showLink": true
       },
       "data": [
        {
         "boxpoints": false,
         "line": {
          "width": 1.3
         },
         "marker": {
          "color": "rgba(255, 153, 51, 1.0)"
         },
         "name": "특성1",
         "orientation": "h",
         "type": "box",
         "x": [
          0.06923190621845528,
          0.016238749915275463,
          0.08744218430423006,
          0.24584402886858828,
          0.0515959554447627,
          0.10909544863553812,
          0.07493411351432117,
          0.008237063076238674,
          0.030027256440229324,
          0.11271681602174495,
          0.031851468121612464,
          0.040948630614832913,
          0.0848072899516235,
          0.043776896847888276,
          0.05823437799051384,
          0.03171472762017855,
          0.02446792733789509,
          0.08316452821531453,
          0.11904153405699126,
          0.2976950575221243,
          0.08259901873354766,
          0.1069022928965806,
          0.06540688215160287,
          0.04907405057950997,
          0.035560594247196424,
          0.2165340770833777,
          0.09426171374841227,
          0.039839648188283304,
          0.11032540459541511,
          0.03249307243057071,
          0.049707901876164855,
          0.12356375360628861,
          0.11843444112141006,
          0.026043501467396223,
          0.07109822636315119,
          0.026348541363567023,
          0.2706335360836001,
          0.06846947739963528,
          0.09668870799351588,
          0.08454951448468863,
          0.08783810933689509,
          0.11322997127203403,
          0.020126660722643932,
          0.0908154737763367,
          0.09119796425960595,
          0.08445099052973107,
          0.18074645715804993,
          0.04409293328297248,
          0.05622639227587676,
          0.041784854176172094,
          0.024078457670778246,
          0.23770608329203036,
          0.2035182480304794,
          0.08739277746263013,
          0.002359326178838315,
          0.1002436962758769,
          0.09826004434616449,
          0.015336697552494876,
          0.040802618722229504,
          0.09595916406200254,
          0.07976693719695242,
          0.06687472769083065,
          0.09117819130190509,
          0.11275576249690358,
          0.03397170116708077,
          0.15947674135450582,
          0.013062413949463655,
          0.299641124359403,
          0.08211714547379514,
          0.01582955719576759,
          0.052896264272964844,
          0.043427862845238745,
          0.07393202583141865,
          0.2037661046693351,
          0.1873315365636718,
          0.22819299754706507,
          0.037179538229041784,
          0.5511379005665812,
          0.15703417288457922,
          0.11942779254273121,
          0.1070264152045632,
          0.060864917179046296,
          0.10222069795919234,
          0.16322906874805027,
          0.18441341756375307,
          0.18575981795611524,
          0.039024037233141295,
          0.2609491693480589,
          0.12719357279620178,
          0.038797560259377584,
          0.07723493299557165,
          0.04745993852174506,
          0.24486383653222815,
          0.2168657192459821,
          0.05048226062131274,
          0.014529892634140678,
          0.0774152749826212,
          0.05503777458237711,
          0.059170815547940694,
          0.06393563366314377
         ]
        },
        {
         "boxpoints": false,
         "line": {
          "width": 1.3
         },
         "marker": {
          "color": "rgba(55, 128, 191, 1.0)"
         },
         "name": "특성2",
         "orientation": "h",
         "type": "box",
         "x": [
          0.9877435954523369,
          0.9119453945287257,
          0.9802803045523744,
          0.12573828586856772,
          0.9884429233754793,
          0.9692971654648428,
          0.9872181182919587,
          0.9941254833685598,
          0.9810663183097844,
          0.9514993251317897,
          0.9899104885711182,
          0.991854859091735,
          0.9845390476581194,
          0.9774917809813329,
          0.9810533972682517,
          0.9534851314326463,
          0.9949656483820173,
          0.9535546300211682,
          0.37182649809941065,
          0.6689344369182164,
          0.894226058109379,
          0.9860002117132878,
          0.9747812723492791,
          0.9553536610232047,
          0.984428940007662,
          0.8432302505864145,
          0.9815207878855364,
          0.9916495629093088,
          0.9736053789105699,
          0.9889478435409753,
          0.9711687351231829,
          0.7391278240599485,
          0.9659600810816013,
          0.9592735525361725,
          0.9860262677673919,
          0.9798953335863203,
          0.736977418252953,
          0.9929013099964806,
          0.9858258659464553,
          0.9442008648440344,
          0.9809759656673491,
          0.977181557889183,
          0.9933685501691949,
          0.8974187351934957,
          0.8031304587113206,
          0.9901656554856588,
          0.7292120269161435,
          0.9833575488275303,
          0.9926454086649104,
          0.983536403385781,
          0.9909302865872939,
          0.872371531578354,
          0.6181522753198472,
          0.9384812985086384,
          0.9757092202932873,
          0.9555624110717713,
          0.9709765787125759,
          0.9797494700596213,
          0.9881327707681291,
          0.9635752979437505,
          0.9923506095443595,
          0.9933171454873408,
          0.5112554460388775,
          0.9625496362276217,
          0.9660445532573405,
          0.9434020262067395,
          0.9901141560149305,
          0.8729720191984642,
          0.9856334302844885,
          0.9717850579988146,
          0.9768363454458393,
          0.9645439092183179,
          0.9802464209381312,
          0.5378320596861242,
          0.9443648718774477,
          0.9249349247874452,
          0.8189965618409768,
          0.2850919339761004,
          0.9382630820216885,
          0.9011145765248562,
          0.9625269447684606,
          0.9763621208093652,
          0.9739792210415049,
          0.2874859412616313,
          0.9281103875406557,
          0.7692458919529417,
          0.9872706305248744,
          0.8818233795258582,
          0.8377418491496094,
          0.9916657779884079,
          0.8939249628173062,
          0.8326038891951569,
          0.2374720945439497,
          0.8796750690301595,
          0.8899488599976574,
          0.9928008927442578,
          0.9812039067235433,
          0.9757614665883527,
          0.9932768409458522,
          0.9862965693689976
         ]
        },
        {
         "boxpoints": false,
         "line": {
          "width": 1.3
         },
         "marker": {
          "color": "rgba(50, 171, 96, 1.0)"
         },
         "name": "특성3",
         "orientation": "h",
         "type": "box",
         "x": [
          0.13989114626826515,
          0.4099901223188626,
          0.17721283506227578,
          0.9611194498794075,
          0.14254278168563422,
          0.2203660321121018,
          0.1406601064549118,
          0.10791975773279697,
          0.1913301935104797,
          0.2862585433828462,
          0.1380677681263373,
          0.12061155892734514,
          0.1532663929486979,
          0.2063816886652282,
          0.18477821551384208,
          0.2997670431999607,
          0.09718373871970157,
          0.28951205296484145,
          0.9206379138838934,
          0.6811052575276513,
          0.43992858409339197,
          0.12796672331041944,
          0.2133621588856067,
          0.29136080712628354,
          0.1721485004645039,
          0.4920119286741151,
          0.1665282927005744,
          0.12265376803837122,
          0.19980208021255366,
          0.14465947255425826,
          0.23315319515354357,
          0.6621344716106615,
          0.22998783644594298,
          0.28127564316155934,
          0.15065603698730942,
          0.1977647329120299,
          0.6193720805235723,
          0.09725697544080529,
          0.13710819004518388,
          0.31833332597794534,
          0.17312025107170909,
          0.17970858779424945,
          0.11319823789665431,
          0.4317315872697827,
          0.5887821308472662,
          0.11153476989353081,
          0.6599852559153597,
          0.17624909758184426,
          0.10720860724826246,
          0.17581288114480795,
          0.1322020990764517,
          0.42715773299520077,
          0.7592549553578823,
          0.33408884267048977,
          0.2190569583798857,
          0.2772213554249614,
          0.2180583575025514,
          0.19963907840419096,
          0.1480836710765526,
          0.24962869231146903,
          0.09422050449427351,
          0.09406816293070802,
          0.8545784962930566,
          0.24654479475708885,
          0.2561324747891999,
          0.29079165379351307,
          0.13965432825607244,
          0.3848831644657755,
          0.14759239656861708,
          0.23533641063215502,
          0.20734690603426373,
          0.2603249275780956,
          0.18344211565081386,
          0.8180562634450437,
          0.27033661271197734,
          0.30401207340980446,
          0.5725926244981979,
          0.7841999768814255,
          0.3082250110903047,
          0.4168087359242842,
          0.24917308651448203,
          0.2073944813764972,
          0.2022755691825364,
          0.9437733333235042,
          0.32342356123447596,
          0.6113542735161293,
          0.1541876344621817,
          0.3928015508347086,
          0.531046503823093,
          0.12285655898064812,
          0.441512090408912,
          0.5518317840905969,
          0.940025907021518,
          0.4232505555137606,
          0.4532577279555548,
          0.11889183986399242,
          0.17676472676928834,
          0.21180274712658095,
          0.09949840113298078,
          0.15208981556645482
         ]
        }
       ],
       "layout": {
        "legend": {
         "bgcolor": "#F5F6F9",
         "font": {
          "color": "#4D5663"
         }
        },
        "paper_bgcolor": "#F5F6F9",
        "plot_bgcolor": "#F5F6F9",
        "template": {
         "data": {
          "bar": [
           {
            "error_x": {
             "color": "#2a3f5f"
            },
            "error_y": {
             "color": "#2a3f5f"
            },
            "marker": {
             "line": {
              "color": "#E5ECF6",
              "width": 0.5
             },
             "pattern": {
              "fillmode": "overlay",
              "size": 10,
              "solidity": 0.2
             }
            },
            "type": "bar"
           }
          ],
          "barpolar": [
           {
            "marker": {
             "line": {
              "color": "#E5ECF6",
              "width": 0.5
             },
             "pattern": {
              "fillmode": "overlay",
              "size": 10,
              "solidity": 0.2
             }
            },
            "type": "barpolar"
           }
          ],
          "carpet": [
           {
            "aaxis": {
             "endlinecolor": "#2a3f5f",
             "gridcolor": "white",
             "linecolor": "white",
             "minorgridcolor": "white",
             "startlinecolor": "#2a3f5f"
            },
            "baxis": {
             "endlinecolor": "#2a3f5f",
             "gridcolor": "white",
             "linecolor": "white",
             "minorgridcolor": "white",
             "startlinecolor": "#2a3f5f"
            },
            "type": "carpet"
           }
          ],
          "choropleth": [
           {
            "colorbar": {
             "outlinewidth": 0,
             "ticks": ""
            },
            "type": "choropleth"
           }
          ],
          "contour": [
           {
            "colorbar": {
             "outlinewidth": 0,
             "ticks": ""
            },
            "colorscale": [
             [
              0,
              "#0d0887"
             ],
             [
              0.1111111111111111,
              "#46039f"
             ],
             [
              0.2222222222222222,
              "#7201a8"
             ],
             [
              0.3333333333333333,
              "#9c179e"
             ],
             [
              0.4444444444444444,
              "#bd3786"
             ],
             [
              0.5555555555555556,
              "#d8576b"
             ],
             [
              0.6666666666666666,
              "#ed7953"
             ],
             [
              0.7777777777777778,
              "#fb9f3a"
             ],
             [
              0.8888888888888888,
              "#fdca26"
             ],
             [
              1,
              "#f0f921"
             ]
            ],
            "type": "contour"
           }
          ],
          "contourcarpet": [
           {
            "colorbar": {
             "outlinewidth": 0,
             "ticks": ""
            },
            "type": "contourcarpet"
           }
          ],
          "heatmap": [
           {
            "colorbar": {
             "outlinewidth": 0,
             "ticks": ""
            },
            "colorscale": [
             [
              0,
              "#0d0887"
             ],
             [
              0.1111111111111111,
              "#46039f"
             ],
             [
              0.2222222222222222,
              "#7201a8"
             ],
             [
              0.3333333333333333,
              "#9c179e"
             ],
             [
              0.4444444444444444,
              "#bd3786"
             ],
             [
              0.5555555555555556,
              "#d8576b"
             ],
             [
              0.6666666666666666,
              "#ed7953"
             ],
             [
              0.7777777777777778,
              "#fb9f3a"
             ],
             [
              0.8888888888888888,
              "#fdca26"
             ],
             [
              1,
              "#f0f921"
             ]
            ],
            "type": "heatmap"
           }
          ],
          "heatmapgl": [
           {
            "colorbar": {
             "outlinewidth": 0,
             "ticks": ""
            },
            "colorscale": [
             [
              0,
              "#0d0887"
             ],
             [
              0.1111111111111111,
              "#46039f"
             ],
             [
              0.2222222222222222,
              "#7201a8"
             ],
             [
              0.3333333333333333,
              "#9c179e"
             ],
             [
              0.4444444444444444,
              "#bd3786"
             ],
             [
              0.5555555555555556,
              "#d8576b"
             ],
             [
              0.6666666666666666,
              "#ed7953"
             ],
             [
              0.7777777777777778,
              "#fb9f3a"
             ],
             [
              0.8888888888888888,
              "#fdca26"
             ],
             [
              1,
              "#f0f921"
             ]
            ],
            "type": "heatmapgl"
           }
          ],
          "histogram": [
           {
            "marker": {
             "pattern": {
              "fillmode": "overlay",
              "size": 10,
              "solidity": 0.2
             }
            },
            "type": "histogram"
           }
          ],
          "histogram2d": [
           {
            "colorbar": {
             "outlinewidth": 0,
             "ticks": ""
            },
            "colorscale": [
             [
              0,
              "#0d0887"
             ],
             [
              0.1111111111111111,
              "#46039f"
             ],
             [
              0.2222222222222222,
              "#7201a8"
             ],
             [
              0.3333333333333333,
              "#9c179e"
             ],
             [
              0.4444444444444444,
              "#bd3786"
             ],
             [
              0.5555555555555556,
              "#d8576b"
             ],
             [
              0.6666666666666666,
              "#ed7953"
             ],
             [
              0.7777777777777778,
              "#fb9f3a"
             ],
             [
              0.8888888888888888,
              "#fdca26"
             ],
             [
              1,
              "#f0f921"
             ]
            ],
            "type": "histogram2d"
           }
          ],
          "histogram2dcontour": [
           {
            "colorbar": {
             "outlinewidth": 0,
             "ticks": ""
            },
            "colorscale": [
             [
              0,
              "#0d0887"
             ],
             [
              0.1111111111111111,
              "#46039f"
             ],
             [
              0.2222222222222222,
              "#7201a8"
             ],
             [
              0.3333333333333333,
              "#9c179e"
             ],
             [
              0.4444444444444444,
              "#bd3786"
             ],
             [
              0.5555555555555556,
              "#d8576b"
             ],
             [
              0.6666666666666666,
              "#ed7953"
             ],
             [
              0.7777777777777778,
              "#fb9f3a"
             ],
             [
              0.8888888888888888,
              "#fdca26"
             ],
             [
              1,
              "#f0f921"
             ]
            ],
            "type": "histogram2dcontour"
           }
          ],
          "mesh3d": [
           {
            "colorbar": {
             "outlinewidth": 0,
             "ticks": ""
            },
            "type": "mesh3d"
           }
          ],
          "parcoords": [
           {
            "line": {
             "colorbar": {
              "outlinewidth": 0,
              "ticks": ""
             }
            },
            "type": "parcoords"
           }
          ],
          "pie": [
           {
            "automargin": true,
            "type": "pie"
           }
          ],
          "scatter": [
           {
            "fillpattern": {
             "fillmode": "overlay",
             "size": 10,
             "solidity": 0.2
            },
            "type": "scatter"
           }
          ],
          "scatter3d": [
           {
            "line": {
             "colorbar": {
              "outlinewidth": 0,
              "ticks": ""
             }
            },
            "marker": {
             "colorbar": {
              "outlinewidth": 0,
              "ticks": ""
             }
            },
            "type": "scatter3d"
           }
          ],
          "scattercarpet": [
           {
            "marker": {
             "colorbar": {
              "outlinewidth": 0,
              "ticks": ""
             }
            },
            "type": "scattercarpet"
           }
          ],
          "scattergeo": [
           {
            "marker": {
             "colorbar": {
              "outlinewidth": 0,
              "ticks": ""
             }
            },
            "type": "scattergeo"
           }
          ],
          "scattergl": [
           {
            "marker": {
             "colorbar": {
              "outlinewidth": 0,
              "ticks": ""
             }
            },
            "type": "scattergl"
           }
          ],
          "scattermapbox": [
           {
            "marker": {
             "colorbar": {
              "outlinewidth": 0,
              "ticks": ""
             }
            },
            "type": "scattermapbox"
           }
          ],
          "scatterpolar": [
           {
            "marker": {
             "colorbar": {
              "outlinewidth": 0,
              "ticks": ""
             }
            },
            "type": "scatterpolar"
           }
          ],
          "scatterpolargl": [
           {
            "marker": {
             "colorbar": {
              "outlinewidth": 0,
              "ticks": ""
             }
            },
            "type": "scatterpolargl"
           }
          ],
          "scatterternary": [
           {
            "marker": {
             "colorbar": {
              "outlinewidth": 0,
              "ticks": ""
             }
            },
            "type": "scatterternary"
           }
          ],
          "surface": [
           {
            "colorbar": {
             "outlinewidth": 0,
             "ticks": ""
            },
            "colorscale": [
             [
              0,
              "#0d0887"
             ],
             [
              0.1111111111111111,
              "#46039f"
             ],
             [
              0.2222222222222222,
              "#7201a8"
             ],
             [
              0.3333333333333333,
              "#9c179e"
             ],
             [
              0.4444444444444444,
              "#bd3786"
             ],
             [
              0.5555555555555556,
              "#d8576b"
             ],
             [
              0.6666666666666666,
              "#ed7953"
             ],
             [
              0.7777777777777778,
              "#fb9f3a"
             ],
             [
              0.8888888888888888,
              "#fdca26"
             ],
             [
              1,
              "#f0f921"
             ]
            ],
            "type": "surface"
           }
          ],
          "table": [
           {
            "cells": {
             "fill": {
              "color": "#EBF0F8"
             },
             "line": {
              "color": "white"
             }
            },
            "header": {
             "fill": {
              "color": "#C8D4E3"
             },
             "line": {
              "color": "white"
             }
            },
            "type": "table"
           }
          ]
         },
         "layout": {
          "annotationdefaults": {
           "arrowcolor": "#2a3f5f",
           "arrowhead": 0,
           "arrowwidth": 1
          },
          "autotypenumbers": "strict",
          "coloraxis": {
           "colorbar": {
            "outlinewidth": 0,
            "ticks": ""
           }
          },
          "colorscale": {
           "diverging": [
            [
             0,
             "#8e0152"
            ],
            [
             0.1,
             "#c51b7d"
            ],
            [
             0.2,
             "#de77ae"
            ],
            [
             0.3,
             "#f1b6da"
            ],
            [
             0.4,
             "#fde0ef"
            ],
            [
             0.5,
             "#f7f7f7"
            ],
            [
             0.6,
             "#e6f5d0"
            ],
            [
             0.7,
             "#b8e186"
            ],
            [
             0.8,
             "#7fbc41"
            ],
            [
             0.9,
             "#4d9221"
            ],
            [
             1,
             "#276419"
            ]
           ],
           "sequential": [
            [
             0,
             "#0d0887"
            ],
            [
             0.1111111111111111,
             "#46039f"
            ],
            [
             0.2222222222222222,
             "#7201a8"
            ],
            [
             0.3333333333333333,
             "#9c179e"
            ],
            [
             0.4444444444444444,
             "#bd3786"
            ],
            [
             0.5555555555555556,
             "#d8576b"
            ],
            [
             0.6666666666666666,
             "#ed7953"
            ],
            [
             0.7777777777777778,
             "#fb9f3a"
            ],
            [
             0.8888888888888888,
             "#fdca26"
            ],
            [
             1,
             "#f0f921"
            ]
           ],
           "sequentialminus": [
            [
             0,
             "#0d0887"
            ],
            [
             0.1111111111111111,
             "#46039f"
            ],
            [
             0.2222222222222222,
             "#7201a8"
            ],
            [
             0.3333333333333333,
             "#9c179e"
            ],
            [
             0.4444444444444444,
             "#bd3786"
            ],
            [
             0.5555555555555556,
             "#d8576b"
            ],
            [
             0.6666666666666666,
             "#ed7953"
            ],
            [
             0.7777777777777778,
             "#fb9f3a"
            ],
            [
             0.8888888888888888,
             "#fdca26"
            ],
            [
             1,
             "#f0f921"
            ]
           ]
          },
          "colorway": [
           "#636efa",
           "#EF553B",
           "#00cc96",
           "#ab63fa",
           "#FFA15A",
           "#19d3f3",
           "#FF6692",
           "#B6E880",
           "#FF97FF",
           "#FECB52"
          ],
          "font": {
           "color": "#2a3f5f"
          },
          "geo": {
           "bgcolor": "white",
           "lakecolor": "white",
           "landcolor": "#E5ECF6",
           "showlakes": true,
           "showland": true,
           "subunitcolor": "white"
          },
          "hoverlabel": {
           "align": "left"
          },
          "hovermode": "closest",
          "mapbox": {
           "style": "light"
          },
          "paper_bgcolor": "white",
          "plot_bgcolor": "#E5ECF6",
          "polar": {
           "angularaxis": {
            "gridcolor": "white",
            "linecolor": "white",
            "ticks": ""
           },
           "bgcolor": "#E5ECF6",
           "radialaxis": {
            "gridcolor": "white",
            "linecolor": "white",
            "ticks": ""
           }
          },
          "scene": {
           "xaxis": {
            "backgroundcolor": "#E5ECF6",
            "gridcolor": "white",
            "gridwidth": 2,
            "linecolor": "white",
            "showbackground": true,
            "ticks": "",
            "zerolinecolor": "white"
           },
           "yaxis": {
            "backgroundcolor": "#E5ECF6",
            "gridcolor": "white",
            "gridwidth": 2,
            "linecolor": "white",
            "showbackground": true,
            "ticks": "",
            "zerolinecolor": "white"
           },
           "zaxis": {
            "backgroundcolor": "#E5ECF6",
            "gridcolor": "white",
            "gridwidth": 2,
            "linecolor": "white",
            "showbackground": true,
            "ticks": "",
            "zerolinecolor": "white"
           }
          },
          "shapedefaults": {
           "line": {
            "color": "#2a3f5f"
           }
          },
          "ternary": {
           "aaxis": {
            "gridcolor": "white",
            "linecolor": "white",
            "ticks": ""
           },
           "baxis": {
            "gridcolor": "white",
            "linecolor": "white",
            "ticks": ""
           },
           "bgcolor": "#E5ECF6",
           "caxis": {
            "gridcolor": "white",
            "linecolor": "white",
            "ticks": ""
           }
          },
          "title": {
           "x": 0.05
          },
          "xaxis": {
           "automargin": true,
           "gridcolor": "white",
           "linecolor": "white",
           "ticks": "",
           "title": {
            "standoff": 15
           },
           "zerolinecolor": "white",
           "zerolinewidth": 2
          },
          "yaxis": {
           "automargin": true,
           "gridcolor": "white",
           "linecolor": "white",
           "ticks": "",
           "title": {
            "standoff": 15
           },
           "zerolinecolor": "white",
           "zerolinewidth": 2
          }
         }
        },
        "title": {
         "font": {
          "color": "#4D5663"
         }
        },
        "xaxis": {
         "gridcolor": "#E1E5ED",
         "showgrid": true,
         "tickfont": {
          "color": "#4D5663"
         },
         "title": {
          "font": {
           "color": "#4D5663"
          },
          "text": ""
         },
         "zerolinecolor": "#E1E5ED"
        },
        "yaxis": {
         "gridcolor": "#E1E5ED",
         "showgrid": true,
         "tickfont": {
          "color": "#4D5663"
         },
         "title": {
          "font": {
           "color": "#4D5663"
          },
          "text": ""
         },
         "zerolinecolor": "#E1E5ED"
        }
       }
      },
      "text/html": [
       "<div>                            <div id=\"d455584c-3b77-4eb4-a5cb-38f0c69984b9\" class=\"plotly-graph-div\" style=\"height:525px; width:100%;\"></div>            <script type=\"text/javascript\">                require([\"plotly\"], function(Plotly) {                    window.PLOTLYENV=window.PLOTLYENV || {};\n",
       "                    window.PLOTLYENV.BASE_URL='https://plot.ly';                                    if (document.getElementById(\"d455584c-3b77-4eb4-a5cb-38f0c69984b9\")) {                    Plotly.newPlot(                        \"d455584c-3b77-4eb4-a5cb-38f0c69984b9\",                        [{\"boxpoints\":false,\"line\":{\"width\":1.3},\"marker\":{\"color\":\"rgba(255, 153, 51, 1.0)\"},\"name\":\"\\ud2b9\\uc1311\",\"orientation\":\"h\",\"x\":[0.06923190621845528,0.016238749915275463,0.08744218430423006,0.24584402886858828,0.0515959554447627,0.10909544863553812,0.07493411351432117,0.008237063076238674,0.030027256440229324,0.11271681602174495,0.031851468121612464,0.040948630614832913,0.0848072899516235,0.043776896847888276,0.05823437799051384,0.03171472762017855,0.02446792733789509,0.08316452821531453,0.11904153405699126,0.2976950575221243,0.08259901873354766,0.1069022928965806,0.06540688215160287,0.04907405057950997,0.035560594247196424,0.2165340770833777,0.09426171374841227,0.039839648188283304,0.11032540459541511,0.03249307243057071,0.049707901876164855,0.12356375360628861,0.11843444112141006,0.026043501467396223,0.07109822636315119,0.026348541363567023,0.2706335360836001,0.06846947739963528,0.09668870799351588,0.08454951448468863,0.08783810933689509,0.11322997127203403,0.020126660722643932,0.0908154737763367,0.09119796425960595,0.08445099052973107,0.18074645715804993,0.04409293328297248,0.05622639227587676,0.041784854176172094,0.024078457670778246,0.23770608329203036,0.2035182480304794,0.08739277746263013,0.002359326178838315,0.1002436962758769,0.09826004434616449,0.015336697552494876,0.040802618722229504,0.09595916406200254,0.07976693719695242,0.06687472769083065,0.09117819130190509,0.11275576249690358,0.03397170116708077,0.15947674135450582,0.013062413949463655,0.299641124359403,0.08211714547379514,0.01582955719576759,0.052896264272964844,0.043427862845238745,0.07393202583141865,0.2037661046693351,0.1873315365636718,0.22819299754706507,0.037179538229041784,0.5511379005665812,0.15703417288457922,0.11942779254273121,0.1070264152045632,0.060864917179046296,0.10222069795919234,0.16322906874805027,0.18441341756375307,0.18575981795611524,0.039024037233141295,0.2609491693480589,0.12719357279620178,0.038797560259377584,0.07723493299557165,0.04745993852174506,0.24486383653222815,0.2168657192459821,0.05048226062131274,0.014529892634140678,0.0774152749826212,0.05503777458237711,0.059170815547940694,0.06393563366314377],\"type\":\"box\"},{\"boxpoints\":false,\"line\":{\"width\":1.3},\"marker\":{\"color\":\"rgba(55, 128, 191, 1.0)\"},\"name\":\"\\ud2b9\\uc1312\",\"orientation\":\"h\",\"x\":[0.9877435954523369,0.9119453945287257,0.9802803045523744,0.12573828586856772,0.9884429233754793,0.9692971654648428,0.9872181182919587,0.9941254833685598,0.9810663183097844,0.9514993251317897,0.9899104885711182,0.991854859091735,0.9845390476581194,0.9774917809813329,0.9810533972682517,0.9534851314326463,0.9949656483820173,0.9535546300211682,0.37182649809941065,0.6689344369182164,0.894226058109379,0.9860002117132878,0.9747812723492791,0.9553536610232047,0.984428940007662,0.8432302505864145,0.9815207878855364,0.9916495629093088,0.9736053789105699,0.9889478435409753,0.9711687351231829,0.7391278240599485,0.9659600810816013,0.9592735525361725,0.9860262677673919,0.9798953335863203,0.736977418252953,0.9929013099964806,0.9858258659464553,0.9442008648440344,0.9809759656673491,0.977181557889183,0.9933685501691949,0.8974187351934957,0.8031304587113206,0.9901656554856588,0.7292120269161435,0.9833575488275303,0.9926454086649104,0.983536403385781,0.9909302865872939,0.872371531578354,0.6181522753198472,0.9384812985086384,0.9757092202932873,0.9555624110717713,0.9709765787125759,0.9797494700596213,0.9881327707681291,0.9635752979437505,0.9923506095443595,0.9933171454873408,0.5112554460388775,0.9625496362276217,0.9660445532573405,0.9434020262067395,0.9901141560149305,0.8729720191984642,0.9856334302844885,0.9717850579988146,0.9768363454458393,0.9645439092183179,0.9802464209381312,0.5378320596861242,0.9443648718774477,0.9249349247874452,0.8189965618409768,0.2850919339761004,0.9382630820216885,0.9011145765248562,0.9625269447684606,0.9763621208093652,0.9739792210415049,0.2874859412616313,0.9281103875406557,0.7692458919529417,0.9872706305248744,0.8818233795258582,0.8377418491496094,0.9916657779884079,0.8939249628173062,0.8326038891951569,0.2374720945439497,0.8796750690301595,0.8899488599976574,0.9928008927442578,0.9812039067235433,0.9757614665883527,0.9932768409458522,0.9862965693689976],\"type\":\"box\"},{\"boxpoints\":false,\"line\":{\"width\":1.3},\"marker\":{\"color\":\"rgba(50, 171, 96, 1.0)\"},\"name\":\"\\ud2b9\\uc1313\",\"orientation\":\"h\",\"x\":[0.13989114626826515,0.4099901223188626,0.17721283506227578,0.9611194498794075,0.14254278168563422,0.2203660321121018,0.1406601064549118,0.10791975773279697,0.1913301935104797,0.2862585433828462,0.1380677681263373,0.12061155892734514,0.1532663929486979,0.2063816886652282,0.18477821551384208,0.2997670431999607,0.09718373871970157,0.28951205296484145,0.9206379138838934,0.6811052575276513,0.43992858409339197,0.12796672331041944,0.2133621588856067,0.29136080712628354,0.1721485004645039,0.4920119286741151,0.1665282927005744,0.12265376803837122,0.19980208021255366,0.14465947255425826,0.23315319515354357,0.6621344716106615,0.22998783644594298,0.28127564316155934,0.15065603698730942,0.1977647329120299,0.6193720805235723,0.09725697544080529,0.13710819004518388,0.31833332597794534,0.17312025107170909,0.17970858779424945,0.11319823789665431,0.4317315872697827,0.5887821308472662,0.11153476989353081,0.6599852559153597,0.17624909758184426,0.10720860724826246,0.17581288114480795,0.1322020990764517,0.42715773299520077,0.7592549553578823,0.33408884267048977,0.2190569583798857,0.2772213554249614,0.2180583575025514,0.19963907840419096,0.1480836710765526,0.24962869231146903,0.09422050449427351,0.09406816293070802,0.8545784962930566,0.24654479475708885,0.2561324747891999,0.29079165379351307,0.13965432825607244,0.3848831644657755,0.14759239656861708,0.23533641063215502,0.20734690603426373,0.2603249275780956,0.18344211565081386,0.8180562634450437,0.27033661271197734,0.30401207340980446,0.5725926244981979,0.7841999768814255,0.3082250110903047,0.4168087359242842,0.24917308651448203,0.2073944813764972,0.2022755691825364,0.9437733333235042,0.32342356123447596,0.6113542735161293,0.1541876344621817,0.3928015508347086,0.531046503823093,0.12285655898064812,0.441512090408912,0.5518317840905969,0.940025907021518,0.4232505555137606,0.4532577279555548,0.11889183986399242,0.17676472676928834,0.21180274712658095,0.09949840113298078,0.15208981556645482],\"type\":\"box\"}],                        {\"legend\":{\"bgcolor\":\"#F5F6F9\",\"font\":{\"color\":\"#4D5663\"}},\"paper_bgcolor\":\"#F5F6F9\",\"plot_bgcolor\":\"#F5F6F9\",\"template\":{\"data\":{\"barpolar\":[{\"marker\":{\"line\":{\"color\":\"#E5ECF6\",\"width\":0.5},\"pattern\":{\"fillmode\":\"overlay\",\"size\":10,\"solidity\":0.2}},\"type\":\"barpolar\"}],\"bar\":[{\"error_x\":{\"color\":\"#2a3f5f\"},\"error_y\":{\"color\":\"#2a3f5f\"},\"marker\":{\"line\":{\"color\":\"#E5ECF6\",\"width\":0.5},\"pattern\":{\"fillmode\":\"overlay\",\"size\":10,\"solidity\":0.2}},\"type\":\"bar\"}],\"carpet\":[{\"aaxis\":{\"endlinecolor\":\"#2a3f5f\",\"gridcolor\":\"white\",\"linecolor\":\"white\",\"minorgridcolor\":\"white\",\"startlinecolor\":\"#2a3f5f\"},\"baxis\":{\"endlinecolor\":\"#2a3f5f\",\"gridcolor\":\"white\",\"linecolor\":\"white\",\"minorgridcolor\":\"white\",\"startlinecolor\":\"#2a3f5f\"},\"type\":\"carpet\"}],\"choropleth\":[{\"colorbar\":{\"outlinewidth\":0,\"ticks\":\"\"},\"type\":\"choropleth\"}],\"contourcarpet\":[{\"colorbar\":{\"outlinewidth\":0,\"ticks\":\"\"},\"type\":\"contourcarpet\"}],\"contour\":[{\"colorbar\":{\"outlinewidth\":0,\"ticks\":\"\"},\"colorscale\":[[0.0,\"#0d0887\"],[0.1111111111111111,\"#46039f\"],[0.2222222222222222,\"#7201a8\"],[0.3333333333333333,\"#9c179e\"],[0.4444444444444444,\"#bd3786\"],[0.5555555555555556,\"#d8576b\"],[0.6666666666666666,\"#ed7953\"],[0.7777777777777778,\"#fb9f3a\"],[0.8888888888888888,\"#fdca26\"],[1.0,\"#f0f921\"]],\"type\":\"contour\"}],\"heatmapgl\":[{\"colorbar\":{\"outlinewidth\":0,\"ticks\":\"\"},\"colorscale\":[[0.0,\"#0d0887\"],[0.1111111111111111,\"#46039f\"],[0.2222222222222222,\"#7201a8\"],[0.3333333333333333,\"#9c179e\"],[0.4444444444444444,\"#bd3786\"],[0.5555555555555556,\"#d8576b\"],[0.6666666666666666,\"#ed7953\"],[0.7777777777777778,\"#fb9f3a\"],[0.8888888888888888,\"#fdca26\"],[1.0,\"#f0f921\"]],\"type\":\"heatmapgl\"}],\"heatmap\":[{\"colorbar\":{\"outlinewidth\":0,\"ticks\":\"\"},\"colorscale\":[[0.0,\"#0d0887\"],[0.1111111111111111,\"#46039f\"],[0.2222222222222222,\"#7201a8\"],[0.3333333333333333,\"#9c179e\"],[0.4444444444444444,\"#bd3786\"],[0.5555555555555556,\"#d8576b\"],[0.6666666666666666,\"#ed7953\"],[0.7777777777777778,\"#fb9f3a\"],[0.8888888888888888,\"#fdca26\"],[1.0,\"#f0f921\"]],\"type\":\"heatmap\"}],\"histogram2dcontour\":[{\"colorbar\":{\"outlinewidth\":0,\"ticks\":\"\"},\"colorscale\":[[0.0,\"#0d0887\"],[0.1111111111111111,\"#46039f\"],[0.2222222222222222,\"#7201a8\"],[0.3333333333333333,\"#9c179e\"],[0.4444444444444444,\"#bd3786\"],[0.5555555555555556,\"#d8576b\"],[0.6666666666666666,\"#ed7953\"],[0.7777777777777778,\"#fb9f3a\"],[0.8888888888888888,\"#fdca26\"],[1.0,\"#f0f921\"]],\"type\":\"histogram2dcontour\"}],\"histogram2d\":[{\"colorbar\":{\"outlinewidth\":0,\"ticks\":\"\"},\"colorscale\":[[0.0,\"#0d0887\"],[0.1111111111111111,\"#46039f\"],[0.2222222222222222,\"#7201a8\"],[0.3333333333333333,\"#9c179e\"],[0.4444444444444444,\"#bd3786\"],[0.5555555555555556,\"#d8576b\"],[0.6666666666666666,\"#ed7953\"],[0.7777777777777778,\"#fb9f3a\"],[0.8888888888888888,\"#fdca26\"],[1.0,\"#f0f921\"]],\"type\":\"histogram2d\"}],\"histogram\":[{\"marker\":{\"pattern\":{\"fillmode\":\"overlay\",\"size\":10,\"solidity\":0.2}},\"type\":\"histogram\"}],\"mesh3d\":[{\"colorbar\":{\"outlinewidth\":0,\"ticks\":\"\"},\"type\":\"mesh3d\"}],\"parcoords\":[{\"line\":{\"colorbar\":{\"outlinewidth\":0,\"ticks\":\"\"}},\"type\":\"parcoords\"}],\"pie\":[{\"automargin\":true,\"type\":\"pie\"}],\"scatter3d\":[{\"line\":{\"colorbar\":{\"outlinewidth\":0,\"ticks\":\"\"}},\"marker\":{\"colorbar\":{\"outlinewidth\":0,\"ticks\":\"\"}},\"type\":\"scatter3d\"}],\"scattercarpet\":[{\"marker\":{\"colorbar\":{\"outlinewidth\":0,\"ticks\":\"\"}},\"type\":\"scattercarpet\"}],\"scattergeo\":[{\"marker\":{\"colorbar\":{\"outlinewidth\":0,\"ticks\":\"\"}},\"type\":\"scattergeo\"}],\"scattergl\":[{\"marker\":{\"colorbar\":{\"outlinewidth\":0,\"ticks\":\"\"}},\"type\":\"scattergl\"}],\"scattermapbox\":[{\"marker\":{\"colorbar\":{\"outlinewidth\":0,\"ticks\":\"\"}},\"type\":\"scattermapbox\"}],\"scatterpolargl\":[{\"marker\":{\"colorbar\":{\"outlinewidth\":0,\"ticks\":\"\"}},\"type\":\"scatterpolargl\"}],\"scatterpolar\":[{\"marker\":{\"colorbar\":{\"outlinewidth\":0,\"ticks\":\"\"}},\"type\":\"scatterpolar\"}],\"scatter\":[{\"fillpattern\":{\"fillmode\":\"overlay\",\"size\":10,\"solidity\":0.2},\"type\":\"scatter\"}],\"scatterternary\":[{\"marker\":{\"colorbar\":{\"outlinewidth\":0,\"ticks\":\"\"}},\"type\":\"scatterternary\"}],\"surface\":[{\"colorbar\":{\"outlinewidth\":0,\"ticks\":\"\"},\"colorscale\":[[0.0,\"#0d0887\"],[0.1111111111111111,\"#46039f\"],[0.2222222222222222,\"#7201a8\"],[0.3333333333333333,\"#9c179e\"],[0.4444444444444444,\"#bd3786\"],[0.5555555555555556,\"#d8576b\"],[0.6666666666666666,\"#ed7953\"],[0.7777777777777778,\"#fb9f3a\"],[0.8888888888888888,\"#fdca26\"],[1.0,\"#f0f921\"]],\"type\":\"surface\"}],\"table\":[{\"cells\":{\"fill\":{\"color\":\"#EBF0F8\"},\"line\":{\"color\":\"white\"}},\"header\":{\"fill\":{\"color\":\"#C8D4E3\"},\"line\":{\"color\":\"white\"}},\"type\":\"table\"}]},\"layout\":{\"annotationdefaults\":{\"arrowcolor\":\"#2a3f5f\",\"arrowhead\":0,\"arrowwidth\":1},\"autotypenumbers\":\"strict\",\"coloraxis\":{\"colorbar\":{\"outlinewidth\":0,\"ticks\":\"\"}},\"colorscale\":{\"diverging\":[[0,\"#8e0152\"],[0.1,\"#c51b7d\"],[0.2,\"#de77ae\"],[0.3,\"#f1b6da\"],[0.4,\"#fde0ef\"],[0.5,\"#f7f7f7\"],[0.6,\"#e6f5d0\"],[0.7,\"#b8e186\"],[0.8,\"#7fbc41\"],[0.9,\"#4d9221\"],[1,\"#276419\"]],\"sequential\":[[0.0,\"#0d0887\"],[0.1111111111111111,\"#46039f\"],[0.2222222222222222,\"#7201a8\"],[0.3333333333333333,\"#9c179e\"],[0.4444444444444444,\"#bd3786\"],[0.5555555555555556,\"#d8576b\"],[0.6666666666666666,\"#ed7953\"],[0.7777777777777778,\"#fb9f3a\"],[0.8888888888888888,\"#fdca26\"],[1.0,\"#f0f921\"]],\"sequentialminus\":[[0.0,\"#0d0887\"],[0.1111111111111111,\"#46039f\"],[0.2222222222222222,\"#7201a8\"],[0.3333333333333333,\"#9c179e\"],[0.4444444444444444,\"#bd3786\"],[0.5555555555555556,\"#d8576b\"],[0.6666666666666666,\"#ed7953\"],[0.7777777777777778,\"#fb9f3a\"],[0.8888888888888888,\"#fdca26\"],[1.0,\"#f0f921\"]]},\"colorway\":[\"#636efa\",\"#EF553B\",\"#00cc96\",\"#ab63fa\",\"#FFA15A\",\"#19d3f3\",\"#FF6692\",\"#B6E880\",\"#FF97FF\",\"#FECB52\"],\"font\":{\"color\":\"#2a3f5f\"},\"geo\":{\"bgcolor\":\"white\",\"lakecolor\":\"white\",\"landcolor\":\"#E5ECF6\",\"showlakes\":true,\"showland\":true,\"subunitcolor\":\"white\"},\"hoverlabel\":{\"align\":\"left\"},\"hovermode\":\"closest\",\"mapbox\":{\"style\":\"light\"},\"paper_bgcolor\":\"white\",\"plot_bgcolor\":\"#E5ECF6\",\"polar\":{\"angularaxis\":{\"gridcolor\":\"white\",\"linecolor\":\"white\",\"ticks\":\"\"},\"bgcolor\":\"#E5ECF6\",\"radialaxis\":{\"gridcolor\":\"white\",\"linecolor\":\"white\",\"ticks\":\"\"}},\"scene\":{\"xaxis\":{\"backgroundcolor\":\"#E5ECF6\",\"gridcolor\":\"white\",\"gridwidth\":2,\"linecolor\":\"white\",\"showbackground\":true,\"ticks\":\"\",\"zerolinecolor\":\"white\"},\"yaxis\":{\"backgroundcolor\":\"#E5ECF6\",\"gridcolor\":\"white\",\"gridwidth\":2,\"linecolor\":\"white\",\"showbackground\":true,\"ticks\":\"\",\"zerolinecolor\":\"white\"},\"zaxis\":{\"backgroundcolor\":\"#E5ECF6\",\"gridcolor\":\"white\",\"gridwidth\":2,\"linecolor\":\"white\",\"showbackground\":true,\"ticks\":\"\",\"zerolinecolor\":\"white\"}},\"shapedefaults\":{\"line\":{\"color\":\"#2a3f5f\"}},\"ternary\":{\"aaxis\":{\"gridcolor\":\"white\",\"linecolor\":\"white\",\"ticks\":\"\"},\"baxis\":{\"gridcolor\":\"white\",\"linecolor\":\"white\",\"ticks\":\"\"},\"bgcolor\":\"#E5ECF6\",\"caxis\":{\"gridcolor\":\"white\",\"linecolor\":\"white\",\"ticks\":\"\"}},\"title\":{\"x\":0.05},\"xaxis\":{\"automargin\":true,\"gridcolor\":\"white\",\"linecolor\":\"white\",\"ticks\":\"\",\"title\":{\"standoff\":15},\"zerolinecolor\":\"white\",\"zerolinewidth\":2},\"yaxis\":{\"automargin\":true,\"gridcolor\":\"white\",\"linecolor\":\"white\",\"ticks\":\"\",\"title\":{\"standoff\":15},\"zerolinecolor\":\"white\",\"zerolinewidth\":2}}},\"title\":{\"font\":{\"color\":\"#4D5663\"}},\"xaxis\":{\"gridcolor\":\"#E1E5ED\",\"showgrid\":true,\"tickfont\":{\"color\":\"#4D5663\"},\"title\":{\"font\":{\"color\":\"#4D5663\"},\"text\":\"\"},\"zerolinecolor\":\"#E1E5ED\"},\"yaxis\":{\"gridcolor\":\"#E1E5ED\",\"showgrid\":true,\"tickfont\":{\"color\":\"#4D5663\"},\"title\":{\"font\":{\"color\":\"#4D5663\"},\"text\":\"\"},\"zerolinecolor\":\"#E1E5ED\"}},                        {\"showLink\": true, \"linkText\": \"Export to plot.ly\", \"plotlyServerURL\": \"https://plot.ly\", \"responsive\": true}                    ).then(function(){\n",
       "                            \n",
       "var gd = document.getElementById('d455584c-3b77-4eb4-a5cb-38f0c69984b9');\n",
       "var x = new MutationObserver(function (mutations, observer) {{\n",
       "        var display = window.getComputedStyle(gd).display;\n",
       "        if (!display || display === 'none') {{\n",
       "            console.log([gd, 'removed!']);\n",
       "            Plotly.purge(gd);\n",
       "            observer.disconnect();\n",
       "        }}\n",
       "}});\n",
       "\n",
       "// Listen for the removal of the full notebook cells\n",
       "var notebookContainer = gd.closest('#notebook-container');\n",
       "if (notebookContainer) {{\n",
       "    x.observe(notebookContainer, {childList: true});\n",
       "}}\n",
       "\n",
       "// Listen for the clearing of the current output cell\n",
       "var outputEl = gd.closest('.output');\n",
       "if (outputEl) {{\n",
       "    x.observe(outputEl, {childList: true});\n",
       "}}\n",
       "\n",
       "                        })                };                });            </script>        </div>"
      ]
     },
     "metadata": {},
     "output_type": "display_data"
    }
   ],
   "source": [
    "X_scaled_df.iplot(kind='box', orientation='h')"
   ]
  }
 ],
 "metadata": {
  "kernelspec": {
   "display_name": "Python 3",
   "language": "python",
   "name": "python3"
  },
  "language_info": {
   "codemirror_mode": {
    "name": "ipython",
    "version": 3
   },
   "file_extension": ".py",
   "mimetype": "text/x-python",
   "name": "python",
   "nbconvert_exporter": "python",
   "pygments_lexer": "ipython3",
   "version": "3.12.4"
  }
 },
 "nbformat": 4,
 "nbformat_minor": 2
}
