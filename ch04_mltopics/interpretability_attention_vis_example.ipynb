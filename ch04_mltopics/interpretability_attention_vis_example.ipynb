{
 "cells": [
  {
   "cell_type": "markdown",
   "metadata": {},
   "source": [
    "## 어텐션 시각화 실습 예제"
   ]
  },
  {
   "cell_type": "markdown",
   "metadata": {},
   "source": [
    "### 라이브러리 준비"
   ]
  },
  {
   "cell_type": "code",
   "execution_count": 26,
   "metadata": {},
   "outputs": [],
   "source": [
    "import numpy as np\n",
    "import matplotlib.pyplot as plt\n",
    "from keras.datasets import imdb\n",
    "from keras.preprocessing import sequence\n",
    "from tensorflow.keras.models import Model\n",
    "from tensorflow.keras.layers import Input, Embedding, LSTM, Dense, Dropout, Bidirectional\n",
    "from tensorflow.keras.layers import Attention, Flatten\n",
    "import tensorflow as tf\n"
   ]
  },
  {
   "cell_type": "markdown",
   "metadata": {},
   "source": [
    "### 데이터 준비"
   ]
  },
  {
   "cell_type": "code",
   "execution_count": 2,
   "metadata": {},
   "outputs": [
    {
     "name": "stdout",
     "output_type": "stream",
     "text": [
      "Downloading data from https://storage.googleapis.com/tensorflow/tf-keras-datasets/imdb.npz\n",
      "\u001b[1m17464789/17464789\u001b[0m \u001b[32m━━━━━━━━━━━━━━━━━━━━\u001b[0m\u001b[37m\u001b[0m \u001b[1m2s\u001b[0m 0us/step\n"
     ]
    }
   ],
   "source": [
    "max_features = 10000\n",
    "maxlen = 200\n",
    "\n",
    "(x_train, y_train), (x_test, y_test) = imdb.load_data(num_words=max_features)\n",
    "x_train = sequence.pad_sequences(x_train, maxlen=maxlen)\n",
    "x_test = sequence.pad_sequences(x_test, maxlen=maxlen)"
   ]
  },
  {
   "cell_type": "markdown",
   "metadata": {},
   "source": [
    "### 모델 정의"
   ]
  },
  {
   "cell_type": "code",
   "execution_count": 11,
   "metadata": {},
   "outputs": [],
   "source": [
    "inputs = Input(shape=(maxlen,))\n",
    "embedding = Embedding(max_features, 128)(inputs)\n",
    "lstm = Bidirectional(LSTM(64, return_sequences=True))(embedding)\n",
    "attention = Attention()([lstm, lstm])\n",
    "dropout = Dropout(0.5)(attention)\n",
    "flatten = Flatten()(dropout)  # 추가된 Flatten 레이어\n",
    "outputs = Dense(1, activation='sigmoid')(flatten)\n",
    "\n",
    "model = Model(inputs=inputs, outputs=outputs)\n",
    "model.compile(optimizer='adam', loss='binary_crossentropy', metrics=['accuracy'])"
   ]
  },
  {
   "cell_type": "markdown",
   "metadata": {},
   "source": [
    "### 모델 학습"
   ]
  },
  {
   "cell_type": "code",
   "execution_count": 12,
   "metadata": {},
   "outputs": [
    {
     "name": "stdout",
     "output_type": "stream",
     "text": [
      "Epoch 1/5\n"
     ]
    },
    {
     "name": "stdout",
     "output_type": "stream",
     "text": [
      "\u001b[1m625/625\u001b[0m \u001b[32m━━━━━━━━━━━━━━━━━━━━\u001b[0m\u001b[37m\u001b[0m \u001b[1m80s\u001b[0m 127ms/step - accuracy: 0.7524 - loss: 0.4668 - val_accuracy: 0.8916 - val_loss: 0.2713\n",
      "Epoch 2/5\n",
      "\u001b[1m625/625\u001b[0m \u001b[32m━━━━━━━━━━━━━━━━━━━━\u001b[0m\u001b[37m\u001b[0m \u001b[1m90s\u001b[0m 144ms/step - accuracy: 0.9350 - loss: 0.1656 - val_accuracy: 0.8896 - val_loss: 0.2879\n",
      "Epoch 3/5\n",
      "\u001b[1m625/625\u001b[0m \u001b[32m━━━━━━━━━━━━━━━━━━━━\u001b[0m\u001b[37m\u001b[0m \u001b[1m99s\u001b[0m 158ms/step - accuracy: 0.9633 - loss: 0.1022 - val_accuracy: 0.8854 - val_loss: 0.3596\n",
      "Epoch 4/5\n",
      "\u001b[1m625/625\u001b[0m \u001b[32m━━━━━━━━━━━━━━━━━━━━\u001b[0m\u001b[37m\u001b[0m \u001b[1m95s\u001b[0m 152ms/step - accuracy: 0.9814 - loss: 0.0525 - val_accuracy: 0.8778 - val_loss: 0.4922\n",
      "Epoch 5/5\n",
      "\u001b[1m625/625\u001b[0m \u001b[32m━━━━━━━━━━━━━━━━━━━━\u001b[0m\u001b[37m\u001b[0m \u001b[1m101s\u001b[0m 162ms/step - accuracy: 0.9915 - loss: 0.0263 - val_accuracy: 0.8730 - val_loss: 0.7426\n"
     ]
    },
    {
     "data": {
      "text/plain": [
       "<keras.src.callbacks.history.History at 0x369a65400>"
      ]
     },
     "execution_count": 12,
     "metadata": {},
     "output_type": "execute_result"
    }
   ],
   "source": [
    "model.fit(x_train, y_train, batch_size=32, epochs=5, validation_split=0.2)"
   ]
  },
  {
   "cell_type": "markdown",
   "metadata": {},
   "source": [
    "### 어텐션 가중치 추출을 위한 함수"
   ]
  },
  {
   "cell_type": "code",
   "execution_count": 16,
   "metadata": {},
   "outputs": [
    {
     "name": "stdout",
     "output_type": "stream",
     "text": [
      "어텐션 레이어 이름: attention_3\n"
     ]
    }
   ],
   "source": [
    "# 어텐션 레이어 이름 변수에 저장\n",
    "attention_layer_name = None\n",
    "\n",
    "for layer in model.layers:\n",
    "    if 'attention' in layer.name:\n",
    "        attention_layer_name = layer.name\n",
    "        break\n",
    "\n",
    "if attention_layer_name:\n",
    "    print(f\"어텐션 레이어 이름: {attention_layer_name}\")\n",
    "else:\n",
    "    print(\"어텐션 레이어를 찾을 수 없습니다.\")\n"
   ]
  },
  {
   "cell_type": "code",
   "execution_count": 17,
   "metadata": {},
   "outputs": [],
   "source": [
    "attention_model = Model(inputs=model.input,\n",
    "                        outputs=[model.output, model.get_layer(attention_layer_name).output])\n",
    "\n",
    "def get_attention_weights(text):\n",
    "    # 텍스트를 모델 입력 형식으로 변환\n",
    "    x = sequence.pad_sequences([text], maxlen=maxlen)\n",
    "    \n",
    "    # 예측 및 주의 가중치 얻기\n",
    "    prediction, attention_weights = attention_model.predict(x)\n",
    "    \n",
    "    return prediction[0][0], attention_weights[0]\n"
   ]
  },
  {
   "cell_type": "markdown",
   "metadata": {},
   "source": [
    "### 어텐션 시각화 함수"
   ]
  },
  {
   "cell_type": "code",
   "execution_count": 54,
   "metadata": {},
   "outputs": [],
   "source": [
    "def visualize_attention(text, attention_weights):\n",
    "    # 패딩을 제외한 실제 단어에 대한 주의 가중치만 사용\n",
    "    word_count = min(len(text), maxlen)\n",
    "    att_weights = attention_weights[-word_count:]\n",
    "    \n",
    "    # 단어와 가중치 매핑\n",
    "    word_att_pairs = []\n",
    "    for idx, i in enumerate(text[-word_count:]):\n",
    "        if i != 0:  # 패딩된 단어(0)가 아닌 경우에만 처리\n",
    "            try:\n",
    "                word = list(imdb.get_word_index().keys())[list(imdb.get_word_index().values()).index(i)]\n",
    "                weight = att_weights[idx]\n",
    "                word_att_pairs.append((word, weight))\n",
    "            except ValueError:\n",
    "                continue  # 단어 인덱스를 찾을 수 없는 경우 건너뛰기\n",
    "    \n",
    "    # L2 norm을 사용한 중요도 계산 및 정렬\n",
    "    # L2 norm을 사용하면 가중치의 방향(양수/음수)에 대한 정보가 손실됩니다.\n",
    "    # 따라서 단어가 긍정적인 영향을 미치는지 부정적인 영향을 미치는지는 알 수 없습니다.\n",
    "    word_importance = [(word, np.linalg.norm(weight)) for word, weight in word_att_pairs]\n",
    "    word_importance = sorted(word_importance, key=lambda x: x[1], reverse=True)\n",
    "    \n",
    "    # 상위 10개 단어 선택\n",
    "    top_words = word_importance[:10]\n",
    "    \n",
    "    # 시각화\n",
    "    words, weights = zip(*top_words)\n",
    "    plt.figure(figsize=(10, 5))\n",
    "    plt.bar(words, weights)\n",
    "    plt.title('Top 10 words with highest attention weights (L2 norm)')\n",
    "    plt.xlabel('Words')\n",
    "    plt.ylabel('Attention Importance (L2 norm)')\n",
    "    plt.xticks(rotation=45, ha='right')\n",
    "    plt.tight_layout()\n",
    "    plt.show()\n",
    "\n",
    "    # 상위 10개 단어와 그 중요도 출력\n",
    "    print(\"Top 10 words with highest attention importance:\")\n",
    "    for word, importance in top_words:\n",
    "        print(f\"Word: {word}, Importance: {importance:.4f}\")\n"
   ]
  },
  {
   "cell_type": "markdown",
   "metadata": {},
   "source": [
    "### 예제 리뷰에 대한 어텐션 시각화"
   ]
  },
  {
   "cell_type": "code",
   "execution_count": 55,
   "metadata": {},
   "outputs": [
    {
     "name": "stdout",
     "output_type": "stream",
     "text": [
      "\u001b[1m1/1\u001b[0m \u001b[32m━━━━━━━━━━━━━━━━━━━━\u001b[0m\u001b[37m\u001b[0m \u001b[1m0s\u001b[0m 47ms/step\n",
      "Predicted sentiment: Negative (0.00)\n"
     ]
    }
   ],
   "source": [
    "sample_review = x_test[0]\n",
    "prediction, attention_weights = get_attention_weights(sample_review)\n",
    "print(f\"Predicted sentiment: {'Positive' if prediction > 0.5 else 'Negative'} ({prediction:.2f})\")"
   ]
  },
  {
   "cell_type": "code",
   "execution_count": 56,
   "metadata": {},
   "outputs": [
    {
     "data": {
      "image/png": "[encoded data removed]",
      "text/plain": [
       "<Figure size 1000x500 with 1 Axes>"
      ]
     },
     "metadata": {},
     "output_type": "display_data"
    },
    {
     "name": "stdout",
     "output_type": "stream",
     "text": [
      "Top 10 words with highest attention importance:\n",
      "Word: the, Importance: 2.9689\n",
      "Word: faint, Importance: 2.5820\n",
      "Word: faint, Importance: 2.4383\n",
      "Word: getting, Importance: 1.9778\n",
      "Word: shouting, Importance: 1.7366\n",
      "Word: down, Importance: 1.3582\n",
      "Word: hollywood, Importance: 1.0360\n",
      "Word: as, Importance: 0.6733\n",
      "Word: of, Importance: 0.6527\n",
      "Word: close, Importance: 0.6221\n"
     ]
    }
   ],
   "source": [
    "visualize_attention(sample_review, attention_weights)\n"
   ]
  }
 ],
 "metadata": {
  "kernelspec": {
   "display_name": "Python 3",
   "language": "python",
   "name": "python3"
  },
  "language_info": {
   "codemirror_mode": {
    "name": "ipython",
    "version": 3
   },
   "file_extension": ".py",
   "mimetype": "text/x-python",
   "name": "python",
   "nbconvert_exporter": "python",
   "pygments_lexer": "ipython3",
   "version": "3.12.4"
  }
 },
 "nbformat": 4,
 "nbformat_minor": 2
}
