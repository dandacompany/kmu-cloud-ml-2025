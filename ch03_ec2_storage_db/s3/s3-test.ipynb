{
 "cells": [
  {
   "cell_type": "code",
   "execution_count": 2,
   "metadata": {},
   "outputs": [
    {
     "name": "stdout",
     "output_type": "stream",
     "text": [
      "Collecting boto3\n",
      "  Downloading boto3-1.34.144-py3-none-any.whl.metadata (6.6 kB)\n",
      "Collecting botocore<1.35.0,>=1.34.144 (from boto3)\n",
      "  Using cached botocore-1.34.144-py3-none-any.whl.metadata (5.7 kB)\n",
      "Collecting jmespath<2.0.0,>=0.7.1 (from boto3)\n",
      "  Using cached jmespath-1.0.1-py3-none-any.whl.metadata (7.6 kB)\n",
      "Collecting s3transfer<0.11.0,>=0.10.0 (from boto3)\n",
      "  Downloading s3transfer-0.10.2-py3-none-any.whl.metadata (1.7 kB)\n",
      "Requirement already satisfied: python-dateutil<3.0.0,>=2.1 in ./.conda/lib/python3.12/site-packages (from botocore<1.35.0,>=1.34.144->boto3) (2.9.0)\n",
      "Collecting urllib3!=2.2.0,<3,>=1.25.4 (from botocore<1.35.0,>=1.34.144->boto3)\n",
      "  Using cached urllib3-2.2.2-py3-none-any.whl.metadata (6.4 kB)\n",
      "Requirement already satisfied: six>=1.5 in ./.conda/lib/python3.12/site-packages (from python-dateutil<3.0.0,>=2.1->botocore<1.35.0,>=1.34.144->boto3) (1.16.0)\n",
      "Downloading boto3-1.34.144-py3-none-any.whl (139 kB)\n",
      "\u001b[2K   \u001b[90m━━━━━━━━━━━━━━━━━━━━━━━━━━━━━━━━━━━━━━━━\u001b[0m \u001b[32m139.2/139.2 kB\u001b[0m \u001b[31m5.0 MB/s\u001b[0m eta \u001b[36m0:00:00\u001b[0m\n",
      "\u001b[?25hUsing cached botocore-1.34.144-py3-none-any.whl (12.4 MB)\n",
      "Using cached jmespath-1.0.1-py3-none-any.whl (20 kB)\n",
      "Downloading s3transfer-0.10.2-py3-none-any.whl (82 kB)\n",
      "\u001b[2K   \u001b[90m━━━━━━━━━━━━━━━━━━━━━━━━━━━━━━━━━━━━━━━━\u001b[0m \u001b[32m82.7/82.7 kB\u001b[0m \u001b[31m6.6 MB/s\u001b[0m eta \u001b[36m0:00:00\u001b[0m\n",
      "\u001b[?25hUsing cached urllib3-2.2.2-py3-none-any.whl (121 kB)\n",
      "Installing collected packages: urllib3, jmespath, botocore, s3transfer, boto3\n",
      "Successfully installed boto3-1.34.144 botocore-1.34.144 jmespath-1.0.1 s3transfer-0.10.2 urllib3-2.2.2\n"
     ]
    }
   ],
   "source": [
    "!pip install boto3"
   ]
  },
  {
   "cell_type": "code",
   "execution_count": 1,
   "metadata": {},
   "outputs": [],
   "source": [
    "import boto3\n",
    "import os"
   ]
  },
  {
   "cell_type": "code",
   "execution_count": 4,
   "metadata": {},
   "outputs": [],
   "source": [
    "# S3 클라이언트 생성\n",
    "session = boto3.Session(profile_name='awstutor2', region_name='ap-northeast-2')\n",
    "s3 = session.client('s3')"
   ]
  },
  {
   "cell_type": "code",
   "execution_count": 7,
   "metadata": {},
   "outputs": [],
   "source": [
    "# 버킷 이름 설정\n",
    "bucket_name = 'dante-code-test'"
   ]
  },
  {
   "cell_type": "code",
   "execution_count": null,
   "metadata": {},
   "outputs": [],
   "source": [
    "# 1. 버킷 생성\n",
    "try:\n",
    "    s3.create_bucket(\n",
    "        Bucket=bucket_name,\n",
    "        CreateBucketConfiguration={'LocationConstraint': 'ap-northeast-2'}\n",
    "    )\n",
    "    print(f\"버킷 생성됨: {bucket_name}\")\n",
    "except s3.exceptions.BucketAlreadyExists:\n",
    "    print(f\"버킷이 이미 존재합니다: {bucket_name}\")\n",
    "except s3.exceptions.BucketAlreadyOwnedByYou:\n",
    "    print(f\"이미 소유하고 있는 버킷입니다: {bucket_name}\")\n",
    "except Exception as e:\n",
    "    print(f\"버킷 생성 중 오류 발생: {str(e)}\")"
   ]
  },
  {
   "cell_type": "code",
   "execution_count": 8,
   "metadata": {},
   "outputs": [
    {
     "name": "stdout",
     "output_type": "stream",
     "text": [
      "현재 계정의 버킷 목록:\n",
      " - dante-code-test\n"
     ]
    }
   ],
   "source": [
    "# 버킷 리스트 조회\n",
    "response = s3.list_buckets()\n",
    "print(\"현재 계정의 버킷 목록:\")\n",
    "for bucket in response['Buckets']:\n",
    "    print(f\" - {bucket['Name']}\")\n"
   ]
  },
  {
   "cell_type": "code",
   "execution_count": 11,
   "metadata": {},
   "outputs": [
    {
     "name": "stdout",
     "output_type": "stream",
     "text": [
      "파일 업로드됨: test.txt\n"
     ]
    }
   ],
   "source": [
    "# 2. 파일 업로드\n",
    "filename = 'test.txt'\n",
    "with open(filename, 'w') as f:\n",
    "    f.write(\"Hello, S3 from Python!\")\n",
    "\n",
    "s3.upload_file(filename, bucket_name, filename)\n",
    "print(f\"파일 업로드됨: {filename}\")"
   ]
  },
  {
   "cell_type": "code",
   "execution_count": 9,
   "metadata": {},
   "outputs": [
    {
     "name": "stdout",
     "output_type": "stream",
     "text": [
      "버킷 내용:\n",
      " - test.txt\n"
     ]
    }
   ],
   "source": [
    "# 3. 버킷 내용 리스팅\n",
    "response = s3.list_objects_v2(Bucket=bucket_name)\n",
    "print(\"버킷 내용:\")\n",
    "for obj in response.get('Contents', []):\n",
    "    print(f\" - {obj['Key']}\")"
   ]
  },
  {
   "cell_type": "code",
   "execution_count": 13,
   "metadata": {},
   "outputs": [
    {
     "name": "stdout",
     "output_type": "stream",
     "text": [
      "파일 다운로드됨: downloaded_test.txt\n"
     ]
    }
   ],
   "source": [
    "# 4. 파일 다운로드\n",
    "download_filename = 'downloaded_' + filename\n",
    "s3.download_file(bucket_name, filename, download_filename)\n",
    "print(f\"파일 다운로드됨: {download_filename}\")"
   ]
  },
  {
   "cell_type": "code",
   "execution_count": 14,
   "metadata": {},
   "outputs": [
    {
     "name": "stdout",
     "output_type": "stream",
     "text": [
      "다운로드된 파일 내용: Hello, S3 from Python!\n"
     ]
    }
   ],
   "source": [
    "# 파일 내용 출력\n",
    "with open(download_filename, 'r') as f:\n",
    "    print(f\"다운로드된 파일 내용: {f.read()}\")"
   ]
  },
  {
   "cell_type": "code",
   "execution_count": 12,
   "metadata": {},
   "outputs": [
    {
     "name": "stdout",
     "output_type": "stream",
     "text": [
      "파일 삭제됨: test.txt\n"
     ]
    }
   ],
   "source": [
    "# 5. 파일 삭제\n",
    "s3.delete_object(Bucket=bucket_name, Key=filename)\n",
    "print(f\"파일 삭제됨: {filename}\")"
   ]
  },
  {
   "cell_type": "code",
   "execution_count": 8,
   "metadata": {},
   "outputs": [
    {
     "name": "stdout",
     "output_type": "stream",
     "text": [
      "버킷 삭제됨: dante-code-test\n"
     ]
    }
   ],
   "source": [
    "# 6. 버킷 삭제\n",
    "s3.delete_bucket(Bucket=bucket_name)\n",
    "print(f\"버킷 삭제됨: {bucket_name}\")"
   ]
  },
  {
   "cell_type": "code",
   "execution_count": 12,
   "metadata": {},
   "outputs": [],
   "source": [
    "# 로컬 파일 정리\n",
    "os.remove(filename)\n",
    "os.remove(download_filename)"
   ]
  }
 ],
 "metadata": {
  "kernelspec": {
   "display_name": "Python 3",
   "language": "python",
   "name": "python3"
  },
  "language_info": {
   "codemirror_mode": {
    "name": "ipython",
    "version": 3
   },
   "file_extension": ".py",
   "mimetype": "text/x-python",
   "name": "python",
   "nbconvert_exporter": "python",
   "pygments_lexer": "ipython3",
   "version": "3.12.4"
  }
 },
 "nbformat": 4,
 "nbformat_minor": 2
}
