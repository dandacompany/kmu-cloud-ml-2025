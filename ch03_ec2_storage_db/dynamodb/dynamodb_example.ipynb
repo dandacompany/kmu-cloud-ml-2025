{
 "cells": [
  {
   "cell_type": "markdown",
   "metadata": {},
   "source": [
    "# AWS pandas SDK를 이용한 Dynamodb 사용\n",
    "---"
   ]
  },
  {
   "cell_type": "markdown",
   "metadata": {},
   "source": [
    "#### 라이브러리 준비"
   ]
  },
  {
   "cell_type": "code",
   "execution_count": 1,
   "metadata": {},
   "outputs": [],
   "source": [
    "import awswrangler as wr\n",
    "import boto3\n",
    "import json\n",
    "from decimal import Decimal"
   ]
  },
  {
   "cell_type": "code",
   "execution_count": 69,
   "metadata": {},
   "outputs": [],
   "source": [
    "import warnings\n",
    "warnings.filterwarnings('ignore')"
   ]
  },
  {
   "cell_type": "markdown",
   "metadata": {},
   "source": [
    "#### 데이터 준비"
   ]
  },
  {
   "cell_type": "code",
   "execution_count": 17,
   "metadata": {},
   "outputs": [],
   "source": [
    "# JSON 파일 읽기\n",
    "with open('sample_orders.json', 'r') as file:\n",
    "    orders = json.load(file)"
   ]
  },
  {
   "cell_type": "code",
   "execution_count": null,
   "metadata": {},
   "outputs": [],
   "source": [
    "# Decimal 타입으로 변환하는 함수\n",
    "def convert_to_decimal(obj):\n",
    "    if isinstance(obj, dict):\n",
    "        return {k: convert_to_decimal(v) for k, v in obj.items()}\n",
    "    elif isinstance(obj, list):\n",
    "        return [convert_to_decimal(v) for v in obj]\n",
    "    elif isinstance(obj, float):\n",
    "        return Decimal(str(obj))\n",
    "    else:\n",
    "        return obj"
   ]
  },
  {
   "cell_type": "markdown",
   "metadata": {},
   "source": [
    "#### 데이터 삽입"
   ]
  },
  {
   "cell_type": "code",
   "execution_count": 25,
   "metadata": {},
   "outputs": [],
   "source": [
    "# dynamodb는 실수형 숫자 타입 Float을 지원하지 않기 때문에 Decimal 타입으로 형변환합니다.\n",
    "orders = [convert_to_decimal(order) for order in orders]"
   ]
  },
  {
   "cell_type": "code",
   "execution_count": null,
   "metadata": {},
   "outputs": [],
   "source": [
    "# boto3 session 설정\n",
    "boto3_session = boto3.Session(\n",
    "    profile_name='awstutor',\n",
    "    region_name='ap-northeast-2'\n",
    ")"
   ]
  },
  {
   "cell_type": "code",
   "execution_count": 26,
   "metadata": {},
   "outputs": [],
   "source": [
    "# 데이터 삽입\n",
    "wr.dynamodb.put_items(\n",
    "    table_name='Orders',\n",
    "    items=orders,\n",
    "    boto3_session=boto3_session\n",
    ")"
   ]
  },
  {
   "cell_type": "markdown",
   "metadata": {},
   "source": [
    "#### 데이터 조회"
   ]
  },
  {
   "cell_type": "code",
   "execution_count": 70,
   "metadata": {},
   "outputs": [],
   "source": [
    "new_orders = wr.dynamodb.read_items(\n",
    "    table_name='Orders',\n",
    "    boto3_session=boto3_session,\n",
    "    allow_full_scan=True  # 전체 테이블 스캔을 허용합니다.\n",
    ")"
   ]
  },
  {
   "cell_type": "code",
   "execution_count": 30,
   "metadata": {},
   "outputs": [
    {
     "data": {
      "text/html": [
       "<div>\n",
       "<style scoped>\n",
       "    .dataframe tbody tr th:only-of-type {\n",
       "        vertical-align: middle;\n",
       "    }\n",
       "\n",
       "    .dataframe tbody tr th {\n",
       "        vertical-align: top;\n",
       "    }\n",
       "\n",
       "    .dataframe thead th {\n",
       "        text-align: right;\n",
       "    }\n",
       "</style>\n",
       "<table border=\"1\" class=\"dataframe\">\n",
       "  <thead>\n",
       "    <tr style=\"text-align: right;\">\n",
       "      <th></th>\n",
       "      <th>Items</th>\n",
       "      <th>OrderStatus</th>\n",
       "      <th>TotalAmount</th>\n",
       "      <th>CustomerId</th>\n",
       "      <th>OrderId</th>\n",
       "      <th>OrderDate</th>\n",
       "    </tr>\n",
       "  </thead>\n",
       "  <tbody>\n",
       "    <tr>\n",
       "      <th>0</th>\n",
       "      <td>[{'id': 'P4', 'name': 'Backpack', 'price': 59....</td>\n",
       "      <td>Delivered</td>\n",
       "      <td>179.97</td>\n",
       "      <td>C0065</td>\n",
       "      <td>O-7309f2f2-c0b7-4001-95bf-8bd0a46f8e36</td>\n",
       "      <td>2023-01-01</td>\n",
       "    </tr>\n",
       "    <tr>\n",
       "      <th>1</th>\n",
       "      <td>[{'id': 'P2', 'name': 'Jeans', 'price': 49.99,...</td>\n",
       "      <td>Pending</td>\n",
       "      <td>539.92</td>\n",
       "      <td>C0065</td>\n",
       "      <td>O-a3e8837a-cc21-4cb4-ad3f-4e9a6cb78dfd</td>\n",
       "      <td>2023-01-13</td>\n",
       "    </tr>\n",
       "    <tr>\n",
       "      <th>2</th>\n",
       "      <td>[{'id': 'P3', 'name': 'Sneakers', 'price': 79....</td>\n",
       "      <td>Pending</td>\n",
       "      <td>329.92</td>\n",
       "      <td>C0065</td>\n",
       "      <td>O-6e9e1abe-ba91-4167-98f3-065e3dac4e8e</td>\n",
       "      <td>2023-01-31</td>\n",
       "    </tr>\n",
       "    <tr>\n",
       "      <th>3</th>\n",
       "      <td>[{'id': 'P2', 'name': 'Jeans', 'price': 49.99,...</td>\n",
       "      <td>Delivered</td>\n",
       "      <td>49.99</td>\n",
       "      <td>C0065</td>\n",
       "      <td>O-324a3473-956b-4c80-9047-d9f9c7d70ea1</td>\n",
       "      <td>2023-02-02</td>\n",
       "    </tr>\n",
       "    <tr>\n",
       "      <th>4</th>\n",
       "      <td>[{'id': 'P8', 'name': 'Sweater', 'price': 39.9...</td>\n",
       "      <td>Pending</td>\n",
       "      <td>129.96</td>\n",
       "      <td>C0065</td>\n",
       "      <td>O-a910678f-35fd-4aaa-8ecb-9fe14825d4e8</td>\n",
       "      <td>2023-02-24</td>\n",
       "    </tr>\n",
       "    <tr>\n",
       "      <th>...</th>\n",
       "      <td>...</td>\n",
       "      <td>...</td>\n",
       "      <td>...</td>\n",
       "      <td>...</td>\n",
       "      <td>...</td>\n",
       "      <td>...</td>\n",
       "    </tr>\n",
       "    <tr>\n",
       "      <th>986</th>\n",
       "      <td>[{'id': 'P10', 'name': 'Skirt', 'price': 34.99...</td>\n",
       "      <td>Pending</td>\n",
       "      <td>474.92</td>\n",
       "      <td>C0039</td>\n",
       "      <td>O-69096241-021f-4fa5-8cd1-8c00aa4fe1db</td>\n",
       "      <td>2023-09-08</td>\n",
       "    </tr>\n",
       "    <tr>\n",
       "      <th>987</th>\n",
       "      <td>[{'id': 'P7', 'name': 'Shorts', 'price': 29.99...</td>\n",
       "      <td>Delivered</td>\n",
       "      <td>524.91</td>\n",
       "      <td>C0039</td>\n",
       "      <td>O-ebaa7eaf-75a5-4cd1-a4ae-8fe9e2f4e7e0</td>\n",
       "      <td>2023-10-15</td>\n",
       "    </tr>\n",
       "    <tr>\n",
       "      <th>988</th>\n",
       "      <td>[{'id': 'P3', 'name': 'Sneakers', 'price': 79....</td>\n",
       "      <td>Pending</td>\n",
       "      <td>79.99</td>\n",
       "      <td>C0039</td>\n",
       "      <td>O-1ab14c4f-423c-47ac-9d6f-e0333c3ce232</td>\n",
       "      <td>2023-11-02</td>\n",
       "    </tr>\n",
       "    <tr>\n",
       "      <th>989</th>\n",
       "      <td>[{'id': 'P2', 'name': 'Jeans', 'price': 49.99,...</td>\n",
       "      <td>Pending</td>\n",
       "      <td>534.90</td>\n",
       "      <td>C0039</td>\n",
       "      <td>O-11323963-d8ad-4c41-bf31-10ef1e3611bc</td>\n",
       "      <td>2023-11-18</td>\n",
       "    </tr>\n",
       "    <tr>\n",
       "      <th>990</th>\n",
       "      <td>[{'id': 'P10', 'name': 'Skirt', 'price': 34.99...</td>\n",
       "      <td>Shipped</td>\n",
       "      <td>34.99</td>\n",
       "      <td>C0039</td>\n",
       "      <td>O-59fc9172-f72b-47d7-ab1a-c54e387fe98f</td>\n",
       "      <td>2023-11-30</td>\n",
       "    </tr>\n",
       "  </tbody>\n",
       "</table>\n",
       "<p>991 rows × 6 columns</p>\n",
       "</div>"
      ],
      "text/plain": [
       "                                                 Items OrderStatus  \\\n",
       "0    [{'id': 'P4', 'name': 'Backpack', 'price': 59....   Delivered   \n",
       "1    [{'id': 'P2', 'name': 'Jeans', 'price': 49.99,...     Pending   \n",
       "2    [{'id': 'P3', 'name': 'Sneakers', 'price': 79....     Pending   \n",
       "3    [{'id': 'P2', 'name': 'Jeans', 'price': 49.99,...   Delivered   \n",
       "4    [{'id': 'P8', 'name': 'Sweater', 'price': 39.9...     Pending   \n",
       "..                                                 ...         ...   \n",
       "986  [{'id': 'P10', 'name': 'Skirt', 'price': 34.99...     Pending   \n",
       "987  [{'id': 'P7', 'name': 'Shorts', 'price': 29.99...   Delivered   \n",
       "988  [{'id': 'P3', 'name': 'Sneakers', 'price': 79....     Pending   \n",
       "989  [{'id': 'P2', 'name': 'Jeans', 'price': 49.99,...     Pending   \n",
       "990  [{'id': 'P10', 'name': 'Skirt', 'price': 34.99...     Shipped   \n",
       "\n",
       "    TotalAmount CustomerId                                 OrderId   OrderDate  \n",
       "0        179.97      C0065  O-7309f2f2-c0b7-4001-95bf-8bd0a46f8e36  2023-01-01  \n",
       "1        539.92      C0065  O-a3e8837a-cc21-4cb4-ad3f-4e9a6cb78dfd  2023-01-13  \n",
       "2        329.92      C0065  O-6e9e1abe-ba91-4167-98f3-065e3dac4e8e  2023-01-31  \n",
       "3         49.99      C0065  O-324a3473-956b-4c80-9047-d9f9c7d70ea1  2023-02-02  \n",
       "4        129.96      C0065  O-a910678f-35fd-4aaa-8ecb-9fe14825d4e8  2023-02-24  \n",
       "..          ...        ...                                     ...         ...  \n",
       "986      474.92      C0039  O-69096241-021f-4fa5-8cd1-8c00aa4fe1db  2023-09-08  \n",
       "987      524.91      C0039  O-ebaa7eaf-75a5-4cd1-a4ae-8fe9e2f4e7e0  2023-10-15  \n",
       "988       79.99      C0039  O-1ab14c4f-423c-47ac-9d6f-e0333c3ce232  2023-11-02  \n",
       "989      534.90      C0039  O-11323963-d8ad-4c41-bf31-10ef1e3611bc  2023-11-18  \n",
       "990       34.99      C0039  O-59fc9172-f72b-47d7-ab1a-c54e387fe98f  2023-11-30  \n",
       "\n",
       "[991 rows x 6 columns]"
      ]
     },
     "execution_count": 30,
     "metadata": {},
     "output_type": "execute_result"
    }
   ],
   "source": [
    "new_orders"
   ]
  },
  {
   "cell_type": "markdown",
   "metadata": {},
   "source": [
    "#### 데이터 필터링"
   ]
  },
  {
   "cell_type": "code",
   "execution_count": 31,
   "metadata": {},
   "outputs": [
    {
     "name": "stdout",
     "output_type": "stream",
     "text": [
      "C0039 고객의 주문 데이터:\n",
      "                                                Items OrderStatus TotalAmount  \\\n",
      "0   [{'id': 'P3', 'name': 'Sneakers', 'price': 79....     Pending       79.99   \n",
      "1   [{'id': 'P1', 'name': 'T-shirt', 'price': 19.9...   Delivered       59.97   \n",
      "2   [{'id': 'P1', 'name': 'T-shirt', 'price': 19.9...   Delivered      539.88   \n",
      "3   [{'id': 'P8', 'name': 'Sweater', 'price': 39.9...   Delivered      439.92   \n",
      "4   [{'id': 'P7', 'name': 'Shorts', 'price': 29.99...     Pending      409.92   \n",
      "5   [{'id': 'P1', 'name': 'T-shirt', 'price': 19.9...   Delivered      279.93   \n",
      "6   [{'id': 'P10', 'name': 'Skirt', 'price': 34.99...     Pending      474.92   \n",
      "7   [{'id': 'P7', 'name': 'Shorts', 'price': 29.99...   Delivered      524.91   \n",
      "8   [{'id': 'P3', 'name': 'Sneakers', 'price': 79....     Pending       79.99   \n",
      "9   [{'id': 'P2', 'name': 'Jeans', 'price': 49.99,...     Pending      534.90   \n",
      "10  [{'id': 'P10', 'name': 'Skirt', 'price': 34.99...     Shipped       34.99   \n",
      "\n",
      "   CustomerId                                 OrderId   OrderDate  \n",
      "0       C0039  O-ce4945c5-7c1d-44b4-8084-e57a80dbcba8  2023-01-12  \n",
      "1       C0039  O-85f4d8af-56a7-4eee-9fc0-ae016499b305  2023-01-17  \n",
      "2       C0039  O-f273144f-02f1-4f40-bc23-a6f1ce9d7220  2023-03-21  \n",
      "3       C0039  O-a5a24450-454e-475b-8403-bb3b7c44c16b  2023-05-29  \n",
      "4       C0039  O-54d77be1-363f-4b59-9e3f-1534b759573c  2023-06-27  \n",
      "5       C0039  O-ddbf182c-49df-48cb-af59-457f00ed08ca  2023-08-04  \n",
      "6       C0039  O-69096241-021f-4fa5-8cd1-8c00aa4fe1db  2023-09-08  \n",
      "7       C0039  O-ebaa7eaf-75a5-4cd1-a4ae-8fe9e2f4e7e0  2023-10-15  \n",
      "8       C0039  O-1ab14c4f-423c-47ac-9d6f-e0333c3ce232  2023-11-02  \n",
      "9       C0039  O-11323963-d8ad-4c41-bf31-10ef1e3611bc  2023-11-18  \n",
      "10      C0039  O-59fc9172-f72b-47d7-ab1a-c54e387fe98f  2023-11-30  \n",
      "\n",
      "C0039 고객의 총 주문 수: 11\n"
     ]
    },
    {
     "name": "stderr",
     "output_type": "stream",
     "text": [
      "/Users/dante/aws-ds-class/.conda/lib/python3.12/site-packages/awswrangler/dynamodb/_read.py:411: UserWarning: Attempting DynamoDB Scan operation with arguments:\n",
      "{'ConsistentRead': False, 'FilterExpression': 'CustomerId = :customer_id', 'ExpressionAttributeValues': {':customer_id': {'S': 'C0039'}}}\n",
      "  warnings.warn(\n"
     ]
    }
   ],
   "source": [
    "# C0039 고객의 데이터만 조회 (wr.dynamodb 이용)\n",
    "customer_c0039_orders = wr.dynamodb.read_items(\n",
    "    table_name='Orders',\n",
    "    boto3_session=boto3_session,\n",
    "    filter_expression='CustomerId = :customer_id',\n",
    "    expression_attribute_values={':customer_id': 'C0039'}\n",
    ")\n",
    "\n",
    "# 결과 출력\n",
    "print(\"C0039 고객의 주문 데이터:\")\n",
    "print(customer_c0039_orders)\n",
    "\n",
    "# 주문 수 출력\n",
    "print(f\"\\nC0039 고객의 총 주문 수: {len(customer_c0039_orders)}\")\n",
    "\n"
   ]
  },
  {
   "cell_type": "markdown",
   "metadata": {},
   "source": [
    "#### 특정 사용자 데이터 삭제"
   ]
  },
  {
   "cell_type": "code",
   "execution_count": 67,
   "metadata": {},
   "outputs": [],
   "source": [
    "for idx, row in customer_c0039_orders.iterrows():\n",
    "    wr.dynamodb.delete_items(\n",
    "        table_name='Orders',\n",
    "    boto3_session=boto3_session,\n",
    "    items=[{\n",
    "        'OrderDate': row['OrderDate'],\n",
    "        'CustomerId': row['CustomerId']\n",
    "    }]\n",
    ")"
   ]
  },
  {
   "cell_type": "code",
   "execution_count": 68,
   "metadata": {},
   "outputs": [
    {
     "name": "stderr",
     "output_type": "stream",
     "text": [
      "/Users/dante/aws-ds-class/.conda/lib/python3.12/site-packages/awswrangler/dynamodb/_read.py:411: UserWarning: Attempting DynamoDB Scan operation with arguments:\n",
      "{'ConsistentRead': False, 'FilterExpression': 'CustomerId = :customer_id', 'ExpressionAttributeValues': {':customer_id': {'S': 'C0039'}}}\n",
      "  warnings.warn(\n"
     ]
    },
    {
     "data": {
      "text/html": [
       "<div>\n",
       "<style scoped>\n",
       "    .dataframe tbody tr th:only-of-type {\n",
       "        vertical-align: middle;\n",
       "    }\n",
       "\n",
       "    .dataframe tbody tr th {\n",
       "        vertical-align: top;\n",
       "    }\n",
       "\n",
       "    .dataframe thead th {\n",
       "        text-align: right;\n",
       "    }\n",
       "</style>\n",
       "<table border=\"1\" class=\"dataframe\">\n",
       "  <thead>\n",
       "    <tr style=\"text-align: right;\">\n",
       "      <th></th>\n",
       "    </tr>\n",
       "  </thead>\n",
       "  <tbody>\n",
       "  </tbody>\n",
       "</table>\n",
       "</div>"
      ],
      "text/plain": [
       "Empty DataFrame\n",
       "Columns: []\n",
       "Index: []"
      ]
     },
     "execution_count": 68,
     "metadata": {},
     "output_type": "execute_result"
    }
   ],
   "source": [
    "# 삭제 후 데이터 조회\n",
    "wr.dynamodb.read_items(\n",
    "    table_name='Orders',\n",
    "    boto3_session=boto3_session,\n",
    "    filter_expression='CustomerId = :customer_id',\n",
    "    expression_attribute_values={':customer_id': 'C0039'}\n",
    ")"
   ]
  },
  {
   "cell_type": "markdown",
   "metadata": {},
   "source": [
    "#### 테이블 삭제"
   ]
  },
  {
   "cell_type": "code",
   "execution_count": 76,
   "metadata": {},
   "outputs": [
    {
     "data": {
      "text/plain": [
       "dynamodb.Table(name='Orders')"
      ]
     },
     "execution_count": 76,
     "metadata": {},
     "output_type": "execute_result"
    }
   ],
   "source": [
    "order_table = wr.dynamodb.get_table(\n",
    "    table_name='Orders',\n",
    "    boto3_session=boto3_session\n",
    ")\n",
    "order_table"
   ]
  },
  {
   "cell_type": "code",
   "execution_count": 77,
   "metadata": {},
   "outputs": [
    {
     "data": {
      "text/plain": [
       "{'TableDescription': {'TableName': 'Orders',\n",
       "  'TableStatus': 'DELETING',\n",
       "  'ProvisionedThroughput': {'NumberOfDecreasesToday': 0,\n",
       "   'ReadCapacityUnits': 5,\n",
       "   'WriteCapacityUnits': 5},\n",
       "  'TableSizeBytes': 0,\n",
       "  'ItemCount': 0,\n",
       "  'TableArn': 'arn:aws:dynamodb:ap-northeast-2:905418381372:table/Orders',\n",
       "  'TableId': '53823d93-3df0-49a8-bd41-b949558328c1',\n",
       "  'DeletionProtectionEnabled': False},\n",
       " 'ResponseMetadata': {'RequestId': 'UKMRNB23BK55SL1FI2FACPC1CBVV4KQNSO5AEMVJF66Q9ASUAAJG',\n",
       "  'HTTPStatusCode': 200,\n",
       "  'HTTPHeaders': {'server': 'Server',\n",
       "   'date': 'Sat, 20 Jul 2024 06:17:49 GMT',\n",
       "   'content-type': 'application/x-amz-json-1.0',\n",
       "   'content-length': '353',\n",
       "   'connection': 'keep-alive',\n",
       "   'x-amzn-requestid': 'UKMRNB23BK55SL1FI2FACPC1CBVV4KQNSO5AEMVJF66Q9ASUAAJG',\n",
       "   'x-amz-crc32': '3139304535'},\n",
       "  'RetryAttempts': 0}}"
      ]
     },
     "execution_count": 77,
     "metadata": {},
     "output_type": "execute_result"
    }
   ],
   "source": [
    "order_table.delete()"
   ]
  }
 ],
 "metadata": {
  "kernelspec": {
   "display_name": "Python 3",
   "language": "python",
   "name": "python3"
  },
  "language_info": {
   "codemirror_mode": {
    "name": "ipython",
    "version": 3
   },
   "file_extension": ".py",
   "mimetype": "text/x-python",
   "name": "python",
   "nbconvert_exporter": "python",
   "pygments_lexer": "ipython3",
   "version": "3.12.3"
  }
 },
 "nbformat": 4,
 "nbformat_minor": 2
}
