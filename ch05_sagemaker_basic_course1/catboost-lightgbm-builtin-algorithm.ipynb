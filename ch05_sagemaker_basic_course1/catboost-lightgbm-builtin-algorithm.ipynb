{
 "cells": [
  {
   "cell_type": "markdown",
   "metadata": {},
   "source": [
    "## Catboost / LightGBM 분류 모델링"
   ]
  },
  {
   "cell_type": "markdown",
   "metadata": {},
   "source": [
    "라이브러리 준비"
   ]
  },
  {
   "cell_type": "code",
   "execution_count": 5,
   "metadata": {},
   "outputs": [
    {
     "data": {
      "text/plain": [
       "True"
      ]
     },
     "execution_count": 5,
     "metadata": {},
     "output_type": "execute_result"
    }
   ],
   "source": [
    "# 경고 무시\n",
    "import warnings\n",
    "warnings.filterwarnings('ignore')\n",
    "\n",
    "# 데이터 처리 및 분석\n",
    "from scipy.stats import chi2_contingency, pearsonr, spearmanr\n",
    "import numpy as np\n",
    "import pandas as pd\n",
    "pd.set_option('display.max_columns', None)\n",
    "pd.set_option('display.max_rows', 500)\n",
    "pd.set_option('display.width', None)\n",
    "\n",
    "# 시각화\n",
    "import plotly.express as px\n",
    "import plotly.graph_objects as go\n",
    "from plotly.subplots import make_subplots\n",
    "\n",
    "# 머신러닝\n",
    "from sklearn.model_selection import train_test_split\n",
    "from sklearn.metrics import roc_auc_score, recall_score, precision_score, f1_score, confusion_matrix, accuracy_score\n",
    "from sklearn.preprocessing import LabelEncoder\n",
    "from imblearn.over_sampling import SMOTE\n",
    "\n",
    "# AWS 관련\n",
    "import awswrangler as wr\n",
    "import sagemaker\n",
    "import boto3\n",
    "\n",
    "# 기타\n",
    "from kaggle.api.kaggle_api_extended import KaggleApi\n",
    "import os\n",
    "import json\n",
    "from dotenv import load_dotenv\n",
    "\n",
    "# 환경 변수 로드\n",
    "load_dotenv()"
   ]
  },
  {
   "cell_type": "markdown",
   "metadata": {},
   "source": [
    "SageMaker 세션 및 역할 설정"
   ]
  },
  {
   "cell_type": "code",
   "execution_count": 6,
   "metadata": {},
   "outputs": [],
   "source": [
    "boto3_session = boto3.Session(profile_name='awstutor')\n",
    "sagemaker_session = sagemaker.Session(boto_session=boto3_session)\n",
    "role = os.environ.get('SAGEMAKER_EXECUTION_ROLE_ARN')"
   ]
  },
  {
   "cell_type": "markdown",
   "metadata": {},
   "source": [
    "데이터셋 다운로드"
   ]
  },
  {
   "cell_type": "code",
   "execution_count": 7,
   "metadata": {},
   "outputs": [
    {
     "name": "stdout",
     "output_type": "stream",
     "text": [
      "Dataset URL: https://www.kaggle.com/datasets/zzettrkalpakbal/full-filled-brain-stroke-dataset\n",
      "'zzettrkalpakbal/full-filled-brain-stroke-dataset' 데이터셋이 'brain-stroke' 폴더에 다운로드되었습니다.\n"
     ]
    }
   ],
   "source": [
    "# Kaggle API 인증\n",
    "api = KaggleApi()\n",
    "api.authenticate()\n",
    "\n",
    "# 데이터셋 다운로드 경로 설정\n",
    "data_repository_name = 'zzettrkalpakbal/full-filled-brain-stroke-dataset'\n",
    "os.makedirs('dataset/brain-stroke', exist_ok=True)\n",
    "\n",
    "# 데이터셋 다운로드\n",
    "api.dataset_download_files(data_repository_name, path='dataset/brain-stroke', unzip=True)\n",
    "\n",
    "print(f\"'{data_repository_name}' 데이터셋이 'brain-stroke' 폴더에 다운로드되었습니다.\")\n"
   ]
  },
  {
   "cell_type": "markdown",
   "metadata": {},
   "source": [
    "데이터 확인"
   ]
  },
  {
   "cell_type": "code",
   "execution_count": 8,
   "metadata": {},
   "outputs": [
    {
     "data": {
      "text/html": [
       "<div>\n",
       "<style scoped>\n",
       "    .dataframe tbody tr th:only-of-type {\n",
       "        vertical-align: middle;\n",
       "    }\n",
       "\n",
       "    .dataframe tbody tr th {\n",
       "        vertical-align: top;\n",
       "    }\n",
       "\n",
       "    .dataframe thead th {\n",
       "        text-align: right;\n",
       "    }\n",
       "</style>\n",
       "<table border=\"1\" class=\"dataframe\">\n",
       "  <thead>\n",
       "    <tr style=\"text-align: right;\">\n",
       "      <th></th>\n",
       "      <th>gender</th>\n",
       "      <th>age</th>\n",
       "      <th>hypertension</th>\n",
       "      <th>heart_disease</th>\n",
       "      <th>ever_married</th>\n",
       "      <th>work_type</th>\n",
       "      <th>Residence_type</th>\n",
       "      <th>avg_glucose_level</th>\n",
       "      <th>bmi</th>\n",
       "      <th>smoking_status</th>\n",
       "      <th>stroke</th>\n",
       "    </tr>\n",
       "  </thead>\n",
       "  <tbody>\n",
       "    <tr>\n",
       "      <th>0</th>\n",
       "      <td>Male</td>\n",
       "      <td>67.0</td>\n",
       "      <td>0</td>\n",
       "      <td>1</td>\n",
       "      <td>Yes</td>\n",
       "      <td>Private</td>\n",
       "      <td>Urban</td>\n",
       "      <td>228.69</td>\n",
       "      <td>36.6</td>\n",
       "      <td>formerly smoked</td>\n",
       "      <td>1</td>\n",
       "    </tr>\n",
       "    <tr>\n",
       "      <th>1</th>\n",
       "      <td>Male</td>\n",
       "      <td>80.0</td>\n",
       "      <td>0</td>\n",
       "      <td>1</td>\n",
       "      <td>Yes</td>\n",
       "      <td>Private</td>\n",
       "      <td>Rural</td>\n",
       "      <td>105.92</td>\n",
       "      <td>32.5</td>\n",
       "      <td>never smoked</td>\n",
       "      <td>1</td>\n",
       "    </tr>\n",
       "    <tr>\n",
       "      <th>2</th>\n",
       "      <td>Female</td>\n",
       "      <td>49.0</td>\n",
       "      <td>0</td>\n",
       "      <td>0</td>\n",
       "      <td>Yes</td>\n",
       "      <td>Private</td>\n",
       "      <td>Urban</td>\n",
       "      <td>171.23</td>\n",
       "      <td>34.4</td>\n",
       "      <td>smokes</td>\n",
       "      <td>1</td>\n",
       "    </tr>\n",
       "    <tr>\n",
       "      <th>3</th>\n",
       "      <td>Female</td>\n",
       "      <td>79.0</td>\n",
       "      <td>1</td>\n",
       "      <td>0</td>\n",
       "      <td>Yes</td>\n",
       "      <td>Self-employed</td>\n",
       "      <td>Rural</td>\n",
       "      <td>174.12</td>\n",
       "      <td>24.0</td>\n",
       "      <td>never smoked</td>\n",
       "      <td>1</td>\n",
       "    </tr>\n",
       "    <tr>\n",
       "      <th>4</th>\n",
       "      <td>Male</td>\n",
       "      <td>81.0</td>\n",
       "      <td>0</td>\n",
       "      <td>0</td>\n",
       "      <td>Yes</td>\n",
       "      <td>Private</td>\n",
       "      <td>Urban</td>\n",
       "      <td>186.21</td>\n",
       "      <td>29.0</td>\n",
       "      <td>formerly smoked</td>\n",
       "      <td>1</td>\n",
       "    </tr>\n",
       "  </tbody>\n",
       "</table>\n",
       "</div>"
      ],
      "text/plain": [
       "   gender   age  hypertension  heart_disease ever_married      work_type  \\\n",
       "0    Male  67.0             0              1          Yes        Private   \n",
       "1    Male  80.0             0              1          Yes        Private   \n",
       "2  Female  49.0             0              0          Yes        Private   \n",
       "3  Female  79.0             1              0          Yes  Self-employed   \n",
       "4    Male  81.0             0              0          Yes        Private   \n",
       "\n",
       "  Residence_type  avg_glucose_level   bmi   smoking_status  stroke  \n",
       "0          Urban             228.69  36.6  formerly smoked       1  \n",
       "1          Rural             105.92  32.5     never smoked       1  \n",
       "2          Urban             171.23  34.4           smokes       1  \n",
       "3          Rural             174.12  24.0     never smoked       1  \n",
       "4          Urban             186.21  29.0  formerly smoked       1  "
      ]
     },
     "execution_count": 8,
     "metadata": {},
     "output_type": "execute_result"
    }
   ],
   "source": [
    "data = pd.read_csv('dataset/brain-stroke/full_data.csv')\n",
    "data.head()"
   ]
  },
  {
   "cell_type": "code",
   "execution_count": 9,
   "metadata": {},
   "outputs": [
    {
     "name": "stdout",
     "output_type": "stream",
     "text": [
      "<class 'pandas.core.frame.DataFrame'>\n",
      "RangeIndex: 4981 entries, 0 to 4980\n",
      "Data columns (total 11 columns):\n",
      " #   Column             Non-Null Count  Dtype  \n",
      "---  ------             --------------  -----  \n",
      " 0   gender             4981 non-null   object \n",
      " 1   age                4981 non-null   float64\n",
      " 2   hypertension       4981 non-null   int64  \n",
      " 3   heart_disease      4981 non-null   int64  \n",
      " 4   ever_married       4981 non-null   object \n",
      " 5   work_type          4981 non-null   object \n",
      " 6   Residence_type     4981 non-null   object \n",
      " 7   avg_glucose_level  4981 non-null   float64\n",
      " 8   bmi                4981 non-null   float64\n",
      " 9   smoking_status     4981 non-null   object \n",
      " 10  stroke             4981 non-null   int64  \n",
      "dtypes: float64(3), int64(3), object(5)\n",
      "memory usage: 428.2+ KB\n"
     ]
    }
   ],
   "source": [
    "data.info()"
   ]
  },
  {
   "cell_type": "code",
   "execution_count": 10,
   "metadata": {},
   "outputs": [
    {
     "data": {
      "text/html": [
       "<div>\n",
       "<style scoped>\n",
       "    .dataframe tbody tr th:only-of-type {\n",
       "        vertical-align: middle;\n",
       "    }\n",
       "\n",
       "    .dataframe tbody tr th {\n",
       "        vertical-align: top;\n",
       "    }\n",
       "\n",
       "    .dataframe thead th {\n",
       "        text-align: right;\n",
       "    }\n",
       "</style>\n",
       "<table border=\"1\" class=\"dataframe\">\n",
       "  <thead>\n",
       "    <tr style=\"text-align: right;\">\n",
       "      <th></th>\n",
       "      <th>age</th>\n",
       "      <th>hypertension</th>\n",
       "      <th>heart_disease</th>\n",
       "      <th>avg_glucose_level</th>\n",
       "      <th>bmi</th>\n",
       "      <th>stroke</th>\n",
       "    </tr>\n",
       "  </thead>\n",
       "  <tbody>\n",
       "    <tr>\n",
       "      <th>count</th>\n",
       "      <td>4981.000000</td>\n",
       "      <td>4981.000000</td>\n",
       "      <td>4981.000000</td>\n",
       "      <td>4981.000000</td>\n",
       "      <td>4981.000000</td>\n",
       "      <td>4981.000000</td>\n",
       "    </tr>\n",
       "    <tr>\n",
       "      <th>mean</th>\n",
       "      <td>43.419859</td>\n",
       "      <td>0.096165</td>\n",
       "      <td>0.055210</td>\n",
       "      <td>105.943562</td>\n",
       "      <td>28.498173</td>\n",
       "      <td>0.049789</td>\n",
       "    </tr>\n",
       "    <tr>\n",
       "      <th>std</th>\n",
       "      <td>22.662755</td>\n",
       "      <td>0.294848</td>\n",
       "      <td>0.228412</td>\n",
       "      <td>45.075373</td>\n",
       "      <td>6.790464</td>\n",
       "      <td>0.217531</td>\n",
       "    </tr>\n",
       "    <tr>\n",
       "      <th>min</th>\n",
       "      <td>0.080000</td>\n",
       "      <td>0.000000</td>\n",
       "      <td>0.000000</td>\n",
       "      <td>55.120000</td>\n",
       "      <td>14.000000</td>\n",
       "      <td>0.000000</td>\n",
       "    </tr>\n",
       "    <tr>\n",
       "      <th>25%</th>\n",
       "      <td>25.000000</td>\n",
       "      <td>0.000000</td>\n",
       "      <td>0.000000</td>\n",
       "      <td>77.230000</td>\n",
       "      <td>23.700000</td>\n",
       "      <td>0.000000</td>\n",
       "    </tr>\n",
       "    <tr>\n",
       "      <th>50%</th>\n",
       "      <td>45.000000</td>\n",
       "      <td>0.000000</td>\n",
       "      <td>0.000000</td>\n",
       "      <td>91.850000</td>\n",
       "      <td>28.100000</td>\n",
       "      <td>0.000000</td>\n",
       "    </tr>\n",
       "    <tr>\n",
       "      <th>75%</th>\n",
       "      <td>61.000000</td>\n",
       "      <td>0.000000</td>\n",
       "      <td>0.000000</td>\n",
       "      <td>113.860000</td>\n",
       "      <td>32.600000</td>\n",
       "      <td>0.000000</td>\n",
       "    </tr>\n",
       "    <tr>\n",
       "      <th>max</th>\n",
       "      <td>82.000000</td>\n",
       "      <td>1.000000</td>\n",
       "      <td>1.000000</td>\n",
       "      <td>271.740000</td>\n",
       "      <td>48.900000</td>\n",
       "      <td>1.000000</td>\n",
       "    </tr>\n",
       "  </tbody>\n",
       "</table>\n",
       "</div>"
      ],
      "text/plain": [
       "               age  hypertension  heart_disease  avg_glucose_level  \\\n",
       "count  4981.000000   4981.000000    4981.000000        4981.000000   \n",
       "mean     43.419859      0.096165       0.055210         105.943562   \n",
       "std      22.662755      0.294848       0.228412          45.075373   \n",
       "min       0.080000      0.000000       0.000000          55.120000   \n",
       "25%      25.000000      0.000000       0.000000          77.230000   \n",
       "50%      45.000000      0.000000       0.000000          91.850000   \n",
       "75%      61.000000      0.000000       0.000000         113.860000   \n",
       "max      82.000000      1.000000       1.000000         271.740000   \n",
       "\n",
       "               bmi       stroke  \n",
       "count  4981.000000  4981.000000  \n",
       "mean     28.498173     0.049789  \n",
       "std       6.790464     0.217531  \n",
       "min      14.000000     0.000000  \n",
       "25%      23.700000     0.000000  \n",
       "50%      28.100000     0.000000  \n",
       "75%      32.600000     0.000000  \n",
       "max      48.900000     1.000000  "
      ]
     },
     "execution_count": 10,
     "metadata": {},
     "output_type": "execute_result"
    }
   ],
   "source": [
    "data.describe()"
   ]
  },
  {
   "cell_type": "markdown",
   "metadata": {},
   "source": [
    "데이터 전처리"
   ]
  },
  {
   "cell_type": "code",
   "execution_count": 11,
   "metadata": {},
   "outputs": [
    {
     "name": "stdout",
     "output_type": "stream",
     "text": [
      "gender:  ['Male' 'Female']\n",
      "ever_married:  ['Yes' 'No']\n",
      "work_type:  ['Private' 'Self-employed' 'Govt_job' 'children']\n",
      "Residence_type:  ['Urban' 'Rural']\n",
      "smoking_status:  ['formerly smoked' 'never smoked' 'smokes' 'Unknown']\n"
     ]
    }
   ],
   "source": [
    "cat_ = data.select_dtypes(include='O').keys()\n",
    "for c in cat_:\n",
    "    print(f'{c}:  {data[c].unique()}')"
   ]
  },
  {
   "cell_type": "code",
   "execution_count": 12,
   "metadata": {},
   "outputs": [],
   "source": [
    "# 라벨 인코딩\n",
    "le = LabelEncoder()\n",
    "\n",
    "data['work_type'] = le.fit_transform(data['work_type'])\n",
    "data['smoking_status'] = le.fit_transform(data['smoking_status'])\n",
    "data['gender'] = le.fit_transform(data['gender'])\n",
    "data['ever_married'] = le.fit_transform(data['ever_married'])\n",
    "data['Residence_type'] = le.fit_transform(data['Residence_type'])"
   ]
  },
  {
   "cell_type": "code",
   "execution_count": 13,
   "metadata": {},
   "outputs": [
    {
     "data": {
      "text/html": [
       "<div>\n",
       "<style scoped>\n",
       "    .dataframe tbody tr th:only-of-type {\n",
       "        vertical-align: middle;\n",
       "    }\n",
       "\n",
       "    .dataframe tbody tr th {\n",
       "        vertical-align: top;\n",
       "    }\n",
       "\n",
       "    .dataframe thead th {\n",
       "        text-align: right;\n",
       "    }\n",
       "</style>\n",
       "<table border=\"1\" class=\"dataframe\">\n",
       "  <thead>\n",
       "    <tr style=\"text-align: right;\">\n",
       "      <th></th>\n",
       "      <th>gender</th>\n",
       "      <th>age</th>\n",
       "      <th>hypertension</th>\n",
       "      <th>heart_disease</th>\n",
       "      <th>ever_married</th>\n",
       "      <th>work_type</th>\n",
       "      <th>Residence_type</th>\n",
       "      <th>avg_glucose_level</th>\n",
       "      <th>bmi</th>\n",
       "      <th>smoking_status</th>\n",
       "      <th>stroke</th>\n",
       "    </tr>\n",
       "  </thead>\n",
       "  <tbody>\n",
       "    <tr>\n",
       "      <th>0</th>\n",
       "      <td>1</td>\n",
       "      <td>67.0</td>\n",
       "      <td>0</td>\n",
       "      <td>1</td>\n",
       "      <td>1</td>\n",
       "      <td>1</td>\n",
       "      <td>1</td>\n",
       "      <td>228.69</td>\n",
       "      <td>36.6</td>\n",
       "      <td>1</td>\n",
       "      <td>1</td>\n",
       "    </tr>\n",
       "    <tr>\n",
       "      <th>1</th>\n",
       "      <td>1</td>\n",
       "      <td>80.0</td>\n",
       "      <td>0</td>\n",
       "      <td>1</td>\n",
       "      <td>1</td>\n",
       "      <td>1</td>\n",
       "      <td>0</td>\n",
       "      <td>105.92</td>\n",
       "      <td>32.5</td>\n",
       "      <td>2</td>\n",
       "      <td>1</td>\n",
       "    </tr>\n",
       "    <tr>\n",
       "      <th>2</th>\n",
       "      <td>0</td>\n",
       "      <td>49.0</td>\n",
       "      <td>0</td>\n",
       "      <td>0</td>\n",
       "      <td>1</td>\n",
       "      <td>1</td>\n",
       "      <td>1</td>\n",
       "      <td>171.23</td>\n",
       "      <td>34.4</td>\n",
       "      <td>3</td>\n",
       "      <td>1</td>\n",
       "    </tr>\n",
       "    <tr>\n",
       "      <th>3</th>\n",
       "      <td>0</td>\n",
       "      <td>79.0</td>\n",
       "      <td>1</td>\n",
       "      <td>0</td>\n",
       "      <td>1</td>\n",
       "      <td>2</td>\n",
       "      <td>0</td>\n",
       "      <td>174.12</td>\n",
       "      <td>24.0</td>\n",
       "      <td>2</td>\n",
       "      <td>1</td>\n",
       "    </tr>\n",
       "    <tr>\n",
       "      <th>4</th>\n",
       "      <td>1</td>\n",
       "      <td>81.0</td>\n",
       "      <td>0</td>\n",
       "      <td>0</td>\n",
       "      <td>1</td>\n",
       "      <td>1</td>\n",
       "      <td>1</td>\n",
       "      <td>186.21</td>\n",
       "      <td>29.0</td>\n",
       "      <td>1</td>\n",
       "      <td>1</td>\n",
       "    </tr>\n",
       "  </tbody>\n",
       "</table>\n",
       "</div>"
      ],
      "text/plain": [
       "   gender   age  hypertension  heart_disease  ever_married  work_type  \\\n",
       "0       1  67.0             0              1             1          1   \n",
       "1       1  80.0             0              1             1          1   \n",
       "2       0  49.0             0              0             1          1   \n",
       "3       0  79.0             1              0             1          2   \n",
       "4       1  81.0             0              0             1          1   \n",
       "\n",
       "   Residence_type  avg_glucose_level   bmi  smoking_status  stroke  \n",
       "0               1             228.69  36.6               1       1  \n",
       "1               0             105.92  32.5               2       1  \n",
       "2               1             171.23  34.4               3       1  \n",
       "3               0             174.12  24.0               2       1  \n",
       "4               1             186.21  29.0               1       1  "
      ]
     },
     "execution_count": 13,
     "metadata": {},
     "output_type": "execute_result"
    }
   ],
   "source": [
    "data.head()"
   ]
  },
  {
   "cell_type": "markdown",
   "metadata": {},
   "source": [
    "EDA"
   ]
  },
  {
   "cell_type": "markdown",
   "metadata": {},
   "source": [
    "1. 뇌졸중 발생 분포"
   ]
  },
  {
   "cell_type": "code",
   "execution_count": 14,
   "metadata": {},
   "outputs": [
    {
     "data": {
      "application/vnd.plotly.v1+json": {
       "config": {
        "plotlyServerURL": "https://plot.ly"
       },
       "data": [
        {
         "alignmentgroup": "True",
         "hovertemplate": "stroke=%{x}<br>count=%{y}<extra></extra>",
         "legendgroup": "",
         "marker": {
          "color": "#636efa",
          "pattern": {
           "shape": ""
          }
         },
         "name": "",
         "offsetgroup": "",
         "orientation": "v",
         "showlegend": false,
         "textposition": "auto",
         "type": "bar",
         "x": [
          0,
          1
         ],
         "xaxis": "x",
         "y": [
          4733,
          248
         ],
         "yaxis": "y"
        }
       ],
       "layout": {
        "barmode": "relative",
        "legend": {
         "tracegroupgap": 0
        },
        "template": {
         "data": {
          "bar": [
           {
            "error_x": {
             "color": "#2a3f5f"
            },
            "error_y": {
             "color": "#2a3f5f"
            },
            "marker": {
             "line": {
              "color": "#E5ECF6",
              "width": 0.5
             },
             "pattern": {
              "fillmode": "overlay",
              "size": 10,
              "solidity": 0.2
             }
            },
            "type": "bar"
           }
          ],
          "barpolar": [
           {
            "marker": {
             "line": {
              "color": "#E5ECF6",
              "width": 0.5
             },
             "pattern": {
              "fillmode": "overlay",
              "size": 10,
              "solidity": 0.2
             }
            },
            "type": "barpolar"
           }
          ],
          "carpet": [
           {
            "aaxis": {
             "endlinecolor": "#2a3f5f",
             "gridcolor": "white",
             "linecolor": "white",
             "minorgridcolor": "white",
             "startlinecolor": "#2a3f5f"
            },
            "baxis": {
             "endlinecolor": "#2a3f5f",
             "gridcolor": "white",
             "linecolor": "white",
             "minorgridcolor": "white",
             "startlinecolor": "#2a3f5f"
            },
            "type": "carpet"
           }
          ],
          "choropleth": [
           {
            "colorbar": {
             "outlinewidth": 0,
             "ticks": ""
            },
            "type": "choropleth"
           }
          ],
          "contour": [
           {
            "colorbar": {
             "outlinewidth": 0,
             "ticks": ""
            },
            "colorscale": [
             [
              0,
              "#0d0887"
             ],
             [
              0.1111111111111111,
              "#46039f"
             ],
             [
              0.2222222222222222,
              "#7201a8"
             ],
             [
              0.3333333333333333,
              "#9c179e"
             ],
             [
              0.4444444444444444,
              "#bd3786"
             ],
             [
              0.5555555555555556,
              "#d8576b"
             ],
             [
              0.6666666666666666,
              "#ed7953"
             ],
             [
              0.7777777777777778,
              "#fb9f3a"
             ],
             [
              0.8888888888888888,
              "#fdca26"
             ],
             [
              1,
              "#f0f921"
             ]
            ],
            "type": "contour"
           }
          ],
          "contourcarpet": [
           {
            "colorbar": {
             "outlinewidth": 0,
             "ticks": ""
            },
            "type": "contourcarpet"
           }
          ],
          "heatmap": [
           {
            "colorbar": {
             "outlinewidth": 0,
             "ticks": ""
            },
            "colorscale": [
             [
              0,
              "#0d0887"
             ],
             [
              0.1111111111111111,
              "#46039f"
             ],
             [
              0.2222222222222222,
              "#7201a8"
             ],
             [
              0.3333333333333333,
              "#9c179e"
             ],
             [
              0.4444444444444444,
              "#bd3786"
             ],
             [
              0.5555555555555556,
              "#d8576b"
             ],
             [
              0.6666666666666666,
              "#ed7953"
             ],
             [
              0.7777777777777778,
              "#fb9f3a"
             ],
             [
              0.8888888888888888,
              "#fdca26"
             ],
             [
              1,
              "#f0f921"
             ]
            ],
            "type": "heatmap"
           }
          ],
          "heatmapgl": [
           {
            "colorbar": {
             "outlinewidth": 0,
             "ticks": ""
            },
            "colorscale": [
             [
              0,
              "#0d0887"
             ],
             [
              0.1111111111111111,
              "#46039f"
             ],
             [
              0.2222222222222222,
              "#7201a8"
             ],
             [
              0.3333333333333333,
              "#9c179e"
             ],
             [
              0.4444444444444444,
              "#bd3786"
             ],
             [
              0.5555555555555556,
              "#d8576b"
             ],
             [
              0.6666666666666666,
              "#ed7953"
             ],
             [
              0.7777777777777778,
              "#fb9f3a"
             ],
             [
              0.8888888888888888,
              "#fdca26"
             ],
             [
              1,
              "#f0f921"
             ]
            ],
            "type": "heatmapgl"
           }
          ],
          "histogram": [
           {
            "marker": {
             "pattern": {
              "fillmode": "overlay",
              "size": 10,
              "solidity": 0.2
             }
            },
            "type": "histogram"
           }
          ],
          "histogram2d": [
           {
            "colorbar": {
             "outlinewidth": 0,
             "ticks": ""
            },
            "colorscale": [
             [
              0,
              "#0d0887"
             ],
             [
              0.1111111111111111,
              "#46039f"
             ],
             [
              0.2222222222222222,
              "#7201a8"
             ],
             [
              0.3333333333333333,
              "#9c179e"
             ],
             [
              0.4444444444444444,
              "#bd3786"
             ],
             [
              0.5555555555555556,
              "#d8576b"
             ],
             [
              0.6666666666666666,
              "#ed7953"
             ],
             [
              0.7777777777777778,
              "#fb9f3a"
             ],
             [
              0.8888888888888888,
              "#fdca26"
             ],
             [
              1,
              "#f0f921"
             ]
            ],
            "type": "histogram2d"
           }
          ],
          "histogram2dcontour": [
           {
            "colorbar": {
             "outlinewidth": 0,
             "ticks": ""
            },
            "colorscale": [
             [
              0,
              "#0d0887"
             ],
             [
              0.1111111111111111,
              "#46039f"
             ],
             [
              0.2222222222222222,
              "#7201a8"
             ],
             [
              0.3333333333333333,
              "#9c179e"
             ],
             [
              0.4444444444444444,
              "#bd3786"
             ],
             [
              0.5555555555555556,
              "#d8576b"
             ],
             [
              0.6666666666666666,
              "#ed7953"
             ],
             [
              0.7777777777777778,
              "#fb9f3a"
             ],
             [
              0.8888888888888888,
              "#fdca26"
             ],
             [
              1,
              "#f0f921"
             ]
            ],
            "type": "histogram2dcontour"
           }
          ],
          "mesh3d": [
           {
            "colorbar": {
             "outlinewidth": 0,
             "ticks": ""
            },
            "type": "mesh3d"
           }
          ],
          "parcoords": [
           {
            "line": {
             "colorbar": {
              "outlinewidth": 0,
              "ticks": ""
             }
            },
            "type": "parcoords"
           }
          ],
          "pie": [
           {
            "automargin": true,
            "type": "pie"
           }
          ],
          "scatter": [
           {
            "fillpattern": {
             "fillmode": "overlay",
             "size": 10,
             "solidity": 0.2
            },
            "type": "scatter"
           }
          ],
          "scatter3d": [
           {
            "line": {
             "colorbar": {
              "outlinewidth": 0,
              "ticks": ""
             }
            },
            "marker": {
             "colorbar": {
              "outlinewidth": 0,
              "ticks": ""
             }
            },
            "type": "scatter3d"
           }
          ],
          "scattercarpet": [
           {
            "marker": {
             "colorbar": {
              "outlinewidth": 0,
              "ticks": ""
             }
            },
            "type": "scattercarpet"
           }
          ],
          "scattergeo": [
           {
            "marker": {
             "colorbar": {
              "outlinewidth": 0,
              "ticks": ""
             }
            },
            "type": "scattergeo"
           }
          ],
          "scattergl": [
           {
            "marker": {
             "colorbar": {
              "outlinewidth": 0,
              "ticks": ""
             }
            },
            "type": "scattergl"
           }
          ],
          "scattermapbox": [
           {
            "marker": {
             "colorbar": {
              "outlinewidth": 0,
              "ticks": ""
             }
            },
            "type": "scattermapbox"
           }
          ],
          "scatterpolar": [
           {
            "marker": {
             "colorbar": {
              "outlinewidth": 0,
              "ticks": ""
             }
            },
            "type": "scatterpolar"
           }
          ],
          "scatterpolargl": [
           {
            "marker": {
             "colorbar": {
              "outlinewidth": 0,
              "ticks": ""
             }
            },
            "type": "scatterpolargl"
           }
          ],
          "scatterternary": [
           {
            "marker": {
             "colorbar": {
              "outlinewidth": 0,
              "ticks": ""
             }
            },
            "type": "scatterternary"
           }
          ],
          "surface": [
           {
            "colorbar": {
             "outlinewidth": 0,
             "ticks": ""
            },
            "colorscale": [
             [
              0,
              "#0d0887"
             ],
             [
              0.1111111111111111,
              "#46039f"
             ],
             [
              0.2222222222222222,
              "#7201a8"
             ],
             [
              0.3333333333333333,
              "#9c179e"
             ],
             [
              0.4444444444444444,
              "#bd3786"
             ],
             [
              0.5555555555555556,
              "#d8576b"
             ],
             [
              0.6666666666666666,
              "#ed7953"
             ],
             [
              0.7777777777777778,
              "#fb9f3a"
             ],
             [
              0.8888888888888888,
              "#fdca26"
             ],
             [
              1,
              "#f0f921"
             ]
            ],
            "type": "surface"
           }
          ],
          "table": [
           {
            "cells": {
             "fill": {
              "color": "#EBF0F8"
             },
             "line": {
              "color": "white"
             }
            },
            "header": {
             "fill": {
              "color": "#C8D4E3"
             },
             "line": {
              "color": "white"
             }
            },
            "type": "table"
           }
          ]
         },
         "layout": {
          "annotationdefaults": {
           "arrowcolor": "#2a3f5f",
           "arrowhead": 0,
           "arrowwidth": 1
          },
          "autotypenumbers": "strict",
          "coloraxis": {
           "colorbar": {
            "outlinewidth": 0,
            "ticks": ""
           }
          },
          "colorscale": {
           "diverging": [
            [
             0,
             "#8e0152"
            ],
            [
             0.1,
             "#c51b7d"
            ],
            [
             0.2,
             "#de77ae"
            ],
            [
             0.3,
             "#f1b6da"
            ],
            [
             0.4,
             "#fde0ef"
            ],
            [
             0.5,
             "#f7f7f7"
            ],
            [
             0.6,
             "#e6f5d0"
            ],
            [
             0.7,
             "#b8e186"
            ],
            [
             0.8,
             "#7fbc41"
            ],
            [
             0.9,
             "#4d9221"
            ],
            [
             1,
             "#276419"
            ]
           ],
           "sequential": [
            [
             0,
             "#0d0887"
            ],
            [
             0.1111111111111111,
             "#46039f"
            ],
            [
             0.2222222222222222,
             "#7201a8"
            ],
            [
             0.3333333333333333,
             "#9c179e"
            ],
            [
             0.4444444444444444,
             "#bd3786"
            ],
            [
             0.5555555555555556,
             "#d8576b"
            ],
            [
             0.6666666666666666,
             "#ed7953"
            ],
            [
             0.7777777777777778,
             "#fb9f3a"
            ],
            [
             0.8888888888888888,
             "#fdca26"
            ],
            [
             1,
             "#f0f921"
            ]
           ],
           "sequentialminus": [
            [
             0,
             "#0d0887"
            ],
            [
             0.1111111111111111,
             "#46039f"
            ],
            [
             0.2222222222222222,
             "#7201a8"
            ],
            [
             0.3333333333333333,
             "#9c179e"
            ],
            [
             0.4444444444444444,
             "#bd3786"
            ],
            [
             0.5555555555555556,
             "#d8576b"
            ],
            [
             0.6666666666666666,
             "#ed7953"
            ],
            [
             0.7777777777777778,
             "#fb9f3a"
            ],
            [
             0.8888888888888888,
             "#fdca26"
            ],
            [
             1,
             "#f0f921"
            ]
           ]
          },
          "colorway": [
           "#636efa",
           "#EF553B",
           "#00cc96",
           "#ab63fa",
           "#FFA15A",
           "#19d3f3",
           "#FF6692",
           "#B6E880",
           "#FF97FF",
           "#FECB52"
          ],
          "font": {
           "color": "#2a3f5f"
          },
          "geo": {
           "bgcolor": "white",
           "lakecolor": "white",
           "landcolor": "#E5ECF6",
           "showlakes": true,
           "showland": true,
           "subunitcolor": "white"
          },
          "hoverlabel": {
           "align": "left"
          },
          "hovermode": "closest",
          "mapbox": {
           "style": "light"
          },
          "paper_bgcolor": "white",
          "plot_bgcolor": "#E5ECF6",
          "polar": {
           "angularaxis": {
            "gridcolor": "white",
            "linecolor": "white",
            "ticks": ""
           },
           "bgcolor": "#E5ECF6",
           "radialaxis": {
            "gridcolor": "white",
            "linecolor": "white",
            "ticks": ""
           }
          },
          "scene": {
           "xaxis": {
            "backgroundcolor": "#E5ECF6",
            "gridcolor": "white",
            "gridwidth": 2,
            "linecolor": "white",
            "showbackground": true,
            "ticks": "",
            "zerolinecolor": "white"
           },
           "yaxis": {
            "backgroundcolor": "#E5ECF6",
            "gridcolor": "white",
            "gridwidth": 2,
            "linecolor": "white",
            "showbackground": true,
            "ticks": "",
            "zerolinecolor": "white"
           },
           "zaxis": {
            "backgroundcolor": "#E5ECF6",
            "gridcolor": "white",
            "gridwidth": 2,
            "linecolor": "white",
            "showbackground": true,
            "ticks": "",
            "zerolinecolor": "white"
           }
          },
          "shapedefaults": {
           "line": {
            "color": "#2a3f5f"
           }
          },
          "ternary": {
           "aaxis": {
            "gridcolor": "white",
            "linecolor": "white",
            "ticks": ""
           },
           "baxis": {
            "gridcolor": "white",
            "linecolor": "white",
            "ticks": ""
           },
           "bgcolor": "#E5ECF6",
           "caxis": {
            "gridcolor": "white",
            "linecolor": "white",
            "ticks": ""
           }
          },
          "title": {
           "x": 0.05
          },
          "xaxis": {
           "automargin": true,
           "gridcolor": "white",
           "linecolor": "white",
           "ticks": "",
           "title": {
            "standoff": 15
           },
           "zerolinecolor": "white",
           "zerolinewidth": 2
          },
          "yaxis": {
           "automargin": true,
           "gridcolor": "white",
           "linecolor": "white",
           "ticks": "",
           "title": {
            "standoff": 15
           },
           "zerolinecolor": "white",
           "zerolinewidth": 2
          }
         }
        },
        "title": {
         "text": "뇌졸중 발생 빈도"
        },
        "xaxis": {
         "anchor": "y",
         "domain": [
          0,
          1
         ],
         "title": {
          "text": "stroke"
         }
        },
        "yaxis": {
         "anchor": "x",
         "domain": [
          0,
          1
         ],
         "title": {
          "text": "count"
         }
        }
       }
      }
     },
     "metadata": {},
     "output_type": "display_data"
    }
   ],
   "source": [
    "stroke_counts = data['stroke'].value_counts().reset_index()\n",
    "stroke_counts.columns = ['stroke', 'count']\n",
    "px.bar(stroke_counts, x='stroke', y='count', title='뇌졸중 발생 빈도')"
   ]
  },
  {
   "cell_type": "markdown",
   "metadata": {},
   "source": [
    "2. 뇌졸중 위험 요인 분석"
   ]
  },
  {
   "cell_type": "code",
   "execution_count": 15,
   "metadata": {},
   "outputs": [
    {
     "name": "stdout",
     "output_type": "stream",
     "text": [
      "뇌졸중 고위험군:\n",
      "- 고령자 (나이와의 상관계수: 0.2465)\n",
      "- 심장병 환자 (뇌졸중 발생 비율: 3.43배)\n",
      "- 고혈당 환자 (혈당과의 상관계수: 0.1332)\n",
      "- 고혈압 환자 (뇌졸중 발생 비율: 2.77배)\n",
      "- 여성 (남성 대비 뇌졸중 발생 비율: 0.92배)\n",
      "- 과체중 (BMI와의 상관계수: 0.0569)\n",
      "- 흡연자 및 과거 흡연자 (뇌졸중 발생 비율: 1.62배)\n",
      "- 기혼자 (미혼자 대비 뇌졸중 발생 비율: 3.92배)\n"
     ]
    }
   ],
   "source": [
    "print(\"뇌졸중 고위험군:\")\n",
    "\n",
    "# 나이와 뇌졸중 상관관계\n",
    "age_corr = data['age'].corr(data['stroke'])\n",
    "print(f\"- 고령자 (나이와의 상관계수: {age_corr:.4f})\")\n",
    "\n",
    "# 심장병과 뇌졸중 관계\n",
    "heart_disease_ratio = data[data['heart_disease']==1]['stroke'].mean() / data['stroke'].mean()\n",
    "print(f\"- 심장병 환자 (뇌졸중 발생 비율: {heart_disease_ratio:.2f}배)\")\n",
    "\n",
    "# 혈당과 뇌졸중 상관관계\n",
    "glucose_corr = data['avg_glucose_level'].corr(data['stroke'])\n",
    "print(f\"- 고혈당 환자 (혈당과의 상관계수: {glucose_corr:.4f})\")\n",
    "\n",
    "# 고혈압과 뇌졸중 관계\n",
    "hypertension_ratio = data[data['hypertension']==1]['stroke'].mean() / data['stroke'].mean()\n",
    "print(f\"- 고혈압 환자 (뇌졸중 발생 비율: {hypertension_ratio:.2f}배)\")\n",
    "\n",
    "# 성별과 뇌졸중 관계\n",
    "gender_ratio = data[data['gender']==0]['stroke'].mean() / data[data['gender']==1]['stroke'].mean()\n",
    "print(f\"- 여성 (남성 대비 뇌졸중 발생 비율: {gender_ratio:.2f}배)\")\n",
    "\n",
    "# BMI와 뇌졸중 상관관계\n",
    "bmi_corr = data['bmi'].corr(data['stroke'])\n",
    "print(f\"- 과체중 (BMI와의 상관계수: {bmi_corr:.4f})\")\n",
    "\n",
    "# 흡연과 뇌졸중 관계\n",
    "smoking_ratios = {status: data[data['smoking_status'] == status]['stroke'].mean() / data['stroke'].mean() \n",
    "                  for status in data['smoking_status'].unique()}\n",
    "max_smoking_ratio = max(smoking_ratios.values())\n",
    "print(f\"- 흡연자 및 과거 흡연자 (뇌졸중 발생 비율: {max_smoking_ratio:.2f}배)\")\n",
    "\n",
    "# 결혼 여부와 뇌졸중 관계\n",
    "married_ratio = data[data['ever_married']==1]['stroke'].mean() / data[data['ever_married']==0]['stroke'].mean()\n",
    "print(f\"- 기혼자 (미혼자 대비 뇌졸중 발생 비율: {married_ratio:.2f}배)\")\n"
   ]
  },
  {
   "cell_type": "markdown",
   "metadata": {},
   "source": [
    "3. 상관분석"
   ]
  },
  {
   "cell_type": "markdown",
   "metadata": {},
   "source": [
    "| 상관계수 | 자료척도 | 형태 | 결과범위 | 특징 |\n",
    "|---------|--------|------|---------|------|\n",
    "| 파이 계수 | 명목척도 | 2x2 분할표 | 0 ~ 1 | 이진 변수 간의 관계 강도를 측정 |\n",
    "| 크래머 V 계수 | 명목척도 | RxC 분할표 | 0 ~ 1 | 범주형 변수 간의 관계 강도를 측정, 변수의 범주 수에 영향을 받지 않음 |\n",
    "| 피어슨 상관계수 | 등간/비율척도 | 연속형 변수 | -1 ~ 1 | 선형 관계의 강도와 방향을 측정 |\n",
    "| 스피어만 상관계수 | 서열척도 | 순위 데이터 | -1 ~ 1 | 단조 관계의 강도와 방향을 측정, 이상치에 덜 민감 |\n"
   ]
  },
  {
   "cell_type": "code",
   "execution_count": 16,
   "metadata": {},
   "outputs": [
    {
     "name": "stdout",
     "output_type": "stream",
     "text": [
      "변수와 뇌졸중 간의 상관관계:\n",
      "age: 0.2465 (Pearson)\n",
      "avg_glucose_level: 0.1332 (Pearson)\n",
      "heart_disease: 0.1326 (Phi)\n",
      "hypertension: 0.1304 (Phi)\n",
      "ever_married: 0.1074 (Phi)\n",
      "work_type: 0.0949 (Cramer's V)\n",
      "smoking_status: 0.0719 (Cramer's V)\n",
      "bmi: 0.0569 (Pearson)\n",
      "Residence_type: 0.0156 (Phi)\n",
      "gender: 0.0079 (Phi)\n"
     ]
    }
   ],
   "source": [
    "# 범주형 변수와 뇌졸중 간의 상관관계 분석\n",
    "\n",
    "\n",
    "# 범주형 변수 목록\n",
    "categorical_vars = ['gender', 'hypertension', 'heart_disease', 'ever_married', 'work_type', 'Residence_type', 'smoking_status']\n",
    "\n",
    "# 크래머의 V 계수 계산 함수\n",
    "def cramers_v(x, y):\n",
    "    confusion_matrix = pd.crosstab(x, y)\n",
    "    chi2 = chi2_contingency(confusion_matrix)[0]\n",
    "    n = confusion_matrix.sum().sum()\n",
    "    phi2 = chi2 / n\n",
    "    r, k = confusion_matrix.shape\n",
    "    phi2corr = max(0, phi2 - ((k-1)*(r-1))/(n-1))\n",
    "    rcorr = r - ((r-1)**2)/(n-1)\n",
    "    kcorr = k - ((k-1)**2)/(n-1)\n",
    "    return np.sqrt(phi2corr / min((kcorr-1), (rcorr-1)))\n",
    "\n",
    "# 파이 계수 계산 함수\n",
    "def phi_coefficient(x, y):\n",
    "    confusion_matrix = pd.crosstab(x, y)\n",
    "    chi2 = chi2_contingency(confusion_matrix)[0]\n",
    "    n = confusion_matrix.sum().sum()\n",
    "    return np.sqrt(chi2 / n)\n",
    "\n",
    "# 결과 저장을 위한 딕셔너리\n",
    "correlation_results = {}\n",
    "\n",
    "# 각 변수에 대해 적절한 상관계수 계산\n",
    "for var in categorical_vars:\n",
    "    if var in ['work_type', 'smoking_status']:\n",
    "        correlation = cramers_v(data[var], data['stroke'])\n",
    "        method = \"Cramer's V\"\n",
    "    elif var in ['gender', 'ever_married', 'Residence_type', 'hypertension', 'heart_disease']:\n",
    "        correlation = phi_coefficient(data[var], data['stroke'])\n",
    "        method = \"Phi\"\n",
    "    correlation_results[var] = {'correlation': correlation, 'method': method}\n",
    "\n",
    "# 연속형 변수에 대한 상관계수 계산\n",
    "continuous_vars = ['age', 'avg_glucose_level', 'bmi']\n",
    "for var in continuous_vars:\n",
    "    correlation, _ = pearsonr(data[var], data['stroke'])\n",
    "    correlation_results[var] = {'correlation': correlation, 'method': \"Pearson\"}\n",
    "\n",
    "# 결과 출력\n",
    "print(\"변수와 뇌졸중 간의 상관관계:\")\n",
    "for var, result in sorted(correlation_results.items(), key=lambda x: abs(x[1]['correlation']), reverse=True):\n",
    "    print(f\"{var}: {result['correlation']:.4f} ({result['method']})\")"
   ]
  },
  {
   "cell_type": "code",
   "execution_count": 17,
   "metadata": {},
   "outputs": [
    {
     "data": {
      "application/vnd.plotly.v1+json": {
       "config": {
        "plotlyServerURL": "https://plot.ly"
       },
       "data": [
        {
         "marker": {
          "color": "royalblue"
         },
         "text": [
          "0.0079",
          "0.1304",
          "0.1326",
          "0.1074",
          "0.0949",
          "0.0156",
          "0.0719",
          "0.2465",
          "0.1332",
          "0.0569"
         ],
         "textposition": "auto",
         "type": "bar",
         "x": [
          "gender",
          "hypertension",
          "heart_disease",
          "ever_married",
          "work_type",
          "Residence_type",
          "smoking_status",
          "age",
          "avg_glucose_level",
          "bmi"
         ],
         "y": [
          0.007933679656814236,
          0.13039985415821134,
          0.1325896132149967,
          0.10742490959206236,
          0.09488015230452666,
          0.015571011969755263,
          0.07188359628077208,
          0.24647787403127278,
          0.13322732663313713,
          0.05692566277908577
         ]
        }
       ],
       "layout": {
        "height": 600,
        "template": {
         "data": {
          "bar": [
           {
            "error_x": {
             "color": "#2a3f5f"
            },
            "error_y": {
             "color": "#2a3f5f"
            },
            "marker": {
             "line": {
              "color": "#E5ECF6",
              "width": 0.5
             },
             "pattern": {
              "fillmode": "overlay",
              "size": 10,
              "solidity": 0.2
             }
            },
            "type": "bar"
           }
          ],
          "barpolar": [
           {
            "marker": {
             "line": {
              "color": "#E5ECF6",
              "width": 0.5
             },
             "pattern": {
              "fillmode": "overlay",
              "size": 10,
              "solidity": 0.2
             }
            },
            "type": "barpolar"
           }
          ],
          "carpet": [
           {
            "aaxis": {
             "endlinecolor": "#2a3f5f",
             "gridcolor": "white",
             "linecolor": "white",
             "minorgridcolor": "white",
             "startlinecolor": "#2a3f5f"
            },
            "baxis": {
             "endlinecolor": "#2a3f5f",
             "gridcolor": "white",
             "linecolor": "white",
             "minorgridcolor": "white",
             "startlinecolor": "#2a3f5f"
            },
            "type": "carpet"
           }
          ],
          "choropleth": [
           {
            "colorbar": {
             "outlinewidth": 0,
             "ticks": ""
            },
            "type": "choropleth"
           }
          ],
          "contour": [
           {
            "colorbar": {
             "outlinewidth": 0,
             "ticks": ""
            },
            "colorscale": [
             [
              0,
              "#0d0887"
             ],
             [
              0.1111111111111111,
              "#46039f"
             ],
             [
              0.2222222222222222,
              "#7201a8"
             ],
             [
              0.3333333333333333,
              "#9c179e"
             ],
             [
              0.4444444444444444,
              "#bd3786"
             ],
             [
              0.5555555555555556,
              "#d8576b"
             ],
             [
              0.6666666666666666,
              "#ed7953"
             ],
             [
              0.7777777777777778,
              "#fb9f3a"
             ],
             [
              0.8888888888888888,
              "#fdca26"
             ],
             [
              1,
              "#f0f921"
             ]
            ],
            "type": "contour"
           }
          ],
          "contourcarpet": [
           {
            "colorbar": {
             "outlinewidth": 0,
             "ticks": ""
            },
            "type": "contourcarpet"
           }
          ],
          "heatmap": [
           {
            "colorbar": {
             "outlinewidth": 0,
             "ticks": ""
            },
            "colorscale": [
             [
              0,
              "#0d0887"
             ],
             [
              0.1111111111111111,
              "#46039f"
             ],
             [
              0.2222222222222222,
              "#7201a8"
             ],
             [
              0.3333333333333333,
              "#9c179e"
             ],
             [
              0.4444444444444444,
              "#bd3786"
             ],
             [
              0.5555555555555556,
              "#d8576b"
             ],
             [
              0.6666666666666666,
              "#ed7953"
             ],
             [
              0.7777777777777778,
              "#fb9f3a"
             ],
             [
              0.8888888888888888,
              "#fdca26"
             ],
             [
              1,
              "#f0f921"
             ]
            ],
            "type": "heatmap"
           }
          ],
          "heatmapgl": [
           {
            "colorbar": {
             "outlinewidth": 0,
             "ticks": ""
            },
            "colorscale": [
             [
              0,
              "#0d0887"
             ],
             [
              0.1111111111111111,
              "#46039f"
             ],
             [
              0.2222222222222222,
              "#7201a8"
             ],
             [
              0.3333333333333333,
              "#9c179e"
             ],
             [
              0.4444444444444444,
              "#bd3786"
             ],
             [
              0.5555555555555556,
              "#d8576b"
             ],
             [
              0.6666666666666666,
              "#ed7953"
             ],
             [
              0.7777777777777778,
              "#fb9f3a"
             ],
             [
              0.8888888888888888,
              "#fdca26"
             ],
             [
              1,
              "#f0f921"
             ]
            ],
            "type": "heatmapgl"
           }
          ],
          "histogram": [
           {
            "marker": {
             "pattern": {
              "fillmode": "overlay",
              "size": 10,
              "solidity": 0.2
             }
            },
            "type": "histogram"
           }
          ],
          "histogram2d": [
           {
            "colorbar": {
             "outlinewidth": 0,
             "ticks": ""
            },
            "colorscale": [
             [
              0,
              "#0d0887"
             ],
             [
              0.1111111111111111,
              "#46039f"
             ],
             [
              0.2222222222222222,
              "#7201a8"
             ],
             [
              0.3333333333333333,
              "#9c179e"
             ],
             [
              0.4444444444444444,
              "#bd3786"
             ],
             [
              0.5555555555555556,
              "#d8576b"
             ],
             [
              0.6666666666666666,
              "#ed7953"
             ],
             [
              0.7777777777777778,
              "#fb9f3a"
             ],
             [
              0.8888888888888888,
              "#fdca26"
             ],
             [
              1,
              "#f0f921"
             ]
            ],
            "type": "histogram2d"
           }
          ],
          "histogram2dcontour": [
           {
            "colorbar": {
             "outlinewidth": 0,
             "ticks": ""
            },
            "colorscale": [
             [
              0,
              "#0d0887"
             ],
             [
              0.1111111111111111,
              "#46039f"
             ],
             [
              0.2222222222222222,
              "#7201a8"
             ],
             [
              0.3333333333333333,
              "#9c179e"
             ],
             [
              0.4444444444444444,
              "#bd3786"
             ],
             [
              0.5555555555555556,
              "#d8576b"
             ],
             [
              0.6666666666666666,
              "#ed7953"
             ],
             [
              0.7777777777777778,
              "#fb9f3a"
             ],
             [
              0.8888888888888888,
              "#fdca26"
             ],
             [
              1,
              "#f0f921"
             ]
            ],
            "type": "histogram2dcontour"
           }
          ],
          "mesh3d": [
           {
            "colorbar": {
             "outlinewidth": 0,
             "ticks": ""
            },
            "type": "mesh3d"
           }
          ],
          "parcoords": [
           {
            "line": {
             "colorbar": {
              "outlinewidth": 0,
              "ticks": ""
             }
            },
            "type": "parcoords"
           }
          ],
          "pie": [
           {
            "automargin": true,
            "type": "pie"
           }
          ],
          "scatter": [
           {
            "fillpattern": {
             "fillmode": "overlay",
             "size": 10,
             "solidity": 0.2
            },
            "type": "scatter"
           }
          ],
          "scatter3d": [
           {
            "line": {
             "colorbar": {
              "outlinewidth": 0,
              "ticks": ""
             }
            },
            "marker": {
             "colorbar": {
              "outlinewidth": 0,
              "ticks": ""
             }
            },
            "type": "scatter3d"
           }
          ],
          "scattercarpet": [
           {
            "marker": {
             "colorbar": {
              "outlinewidth": 0,
              "ticks": ""
             }
            },
            "type": "scattercarpet"
           }
          ],
          "scattergeo": [
           {
            "marker": {
             "colorbar": {
              "outlinewidth": 0,
              "ticks": ""
             }
            },
            "type": "scattergeo"
           }
          ],
          "scattergl": [
           {
            "marker": {
             "colorbar": {
              "outlinewidth": 0,
              "ticks": ""
             }
            },
            "type": "scattergl"
           }
          ],
          "scattermapbox": [
           {
            "marker": {
             "colorbar": {
              "outlinewidth": 0,
              "ticks": ""
             }
            },
            "type": "scattermapbox"
           }
          ],
          "scatterpolar": [
           {
            "marker": {
             "colorbar": {
              "outlinewidth": 0,
              "ticks": ""
             }
            },
            "type": "scatterpolar"
           }
          ],
          "scatterpolargl": [
           {
            "marker": {
             "colorbar": {
              "outlinewidth": 0,
              "ticks": ""
             }
            },
            "type": "scatterpolargl"
           }
          ],
          "scatterternary": [
           {
            "marker": {
             "colorbar": {
              "outlinewidth": 0,
              "ticks": ""
             }
            },
            "type": "scatterternary"
           }
          ],
          "surface": [
           {
            "colorbar": {
             "outlinewidth": 0,
             "ticks": ""
            },
            "colorscale": [
             [
              0,
              "#0d0887"
             ],
             [
              0.1111111111111111,
              "#46039f"
             ],
             [
              0.2222222222222222,
              "#7201a8"
             ],
             [
              0.3333333333333333,
              "#9c179e"
             ],
             [
              0.4444444444444444,
              "#bd3786"
             ],
             [
              0.5555555555555556,
              "#d8576b"
             ],
             [
              0.6666666666666666,
              "#ed7953"
             ],
             [
              0.7777777777777778,
              "#fb9f3a"
             ],
             [
              0.8888888888888888,
              "#fdca26"
             ],
             [
              1,
              "#f0f921"
             ]
            ],
            "type": "surface"
           }
          ],
          "table": [
           {
            "cells": {
             "fill": {
              "color": "#EBF0F8"
             },
             "line": {
              "color": "white"
             }
            },
            "header": {
             "fill": {
              "color": "#C8D4E3"
             },
             "line": {
              "color": "white"
             }
            },
            "type": "table"
           }
          ]
         },
         "layout": {
          "annotationdefaults": {
           "arrowcolor": "#2a3f5f",
           "arrowhead": 0,
           "arrowwidth": 1
          },
          "autotypenumbers": "strict",
          "coloraxis": {
           "colorbar": {
            "outlinewidth": 0,
            "ticks": ""
           }
          },
          "colorscale": {
           "diverging": [
            [
             0,
             "#8e0152"
            ],
            [
             0.1,
             "#c51b7d"
            ],
            [
             0.2,
             "#de77ae"
            ],
            [
             0.3,
             "#f1b6da"
            ],
            [
             0.4,
             "#fde0ef"
            ],
            [
             0.5,
             "#f7f7f7"
            ],
            [
             0.6,
             "#e6f5d0"
            ],
            [
             0.7,
             "#b8e186"
            ],
            [
             0.8,
             "#7fbc41"
            ],
            [
             0.9,
             "#4d9221"
            ],
            [
             1,
             "#276419"
            ]
           ],
           "sequential": [
            [
             0,
             "#0d0887"
            ],
            [
             0.1111111111111111,
             "#46039f"
            ],
            [
             0.2222222222222222,
             "#7201a8"
            ],
            [
             0.3333333333333333,
             "#9c179e"
            ],
            [
             0.4444444444444444,
             "#bd3786"
            ],
            [
             0.5555555555555556,
             "#d8576b"
            ],
            [
             0.6666666666666666,
             "#ed7953"
            ],
            [
             0.7777777777777778,
             "#fb9f3a"
            ],
            [
             0.8888888888888888,
             "#fdca26"
            ],
            [
             1,
             "#f0f921"
            ]
           ],
           "sequentialminus": [
            [
             0,
             "#0d0887"
            ],
            [
             0.1111111111111111,
             "#46039f"
            ],
            [
             0.2222222222222222,
             "#7201a8"
            ],
            [
             0.3333333333333333,
             "#9c179e"
            ],
            [
             0.4444444444444444,
             "#bd3786"
            ],
            [
             0.5555555555555556,
             "#d8576b"
            ],
            [
             0.6666666666666666,
             "#ed7953"
            ],
            [
             0.7777777777777778,
             "#fb9f3a"
            ],
            [
             0.8888888888888888,
             "#fdca26"
            ],
            [
             1,
             "#f0f921"
            ]
           ]
          },
          "colorway": [
           "#636efa",
           "#EF553B",
           "#00cc96",
           "#ab63fa",
           "#FFA15A",
           "#19d3f3",
           "#FF6692",
           "#B6E880",
           "#FF97FF",
           "#FECB52"
          ],
          "font": {
           "color": "#2a3f5f"
          },
          "geo": {
           "bgcolor": "white",
           "lakecolor": "white",
           "landcolor": "#E5ECF6",
           "showlakes": true,
           "showland": true,
           "subunitcolor": "white"
          },
          "hoverlabel": {
           "align": "left"
          },
          "hovermode": "closest",
          "mapbox": {
           "style": "light"
          },
          "paper_bgcolor": "white",
          "plot_bgcolor": "#E5ECF6",
          "polar": {
           "angularaxis": {
            "gridcolor": "white",
            "linecolor": "white",
            "ticks": ""
           },
           "bgcolor": "#E5ECF6",
           "radialaxis": {
            "gridcolor": "white",
            "linecolor": "white",
            "ticks": ""
           }
          },
          "scene": {
           "xaxis": {
            "backgroundcolor": "#E5ECF6",
            "gridcolor": "white",
            "gridwidth": 2,
            "linecolor": "white",
            "showbackground": true,
            "ticks": "",
            "zerolinecolor": "white"
           },
           "yaxis": {
            "backgroundcolor": "#E5ECF6",
            "gridcolor": "white",
            "gridwidth": 2,
            "linecolor": "white",
            "showbackground": true,
            "ticks": "",
            "zerolinecolor": "white"
           },
           "zaxis": {
            "backgroundcolor": "#E5ECF6",
            "gridcolor": "white",
            "gridwidth": 2,
            "linecolor": "white",
            "showbackground": true,
            "ticks": "",
            "zerolinecolor": "white"
           }
          },
          "shapedefaults": {
           "line": {
            "color": "#2a3f5f"
           }
          },
          "ternary": {
           "aaxis": {
            "gridcolor": "white",
            "linecolor": "white",
            "ticks": ""
           },
           "baxis": {
            "gridcolor": "white",
            "linecolor": "white",
            "ticks": ""
           },
           "bgcolor": "#E5ECF6",
           "caxis": {
            "gridcolor": "white",
            "linecolor": "white",
            "ticks": ""
           }
          },
          "title": {
           "x": 0.05
          },
          "xaxis": {
           "automargin": true,
           "gridcolor": "white",
           "linecolor": "white",
           "ticks": "",
           "title": {
            "standoff": 15
           },
           "zerolinecolor": "white",
           "zerolinewidth": 2
          },
          "yaxis": {
           "automargin": true,
           "gridcolor": "white",
           "linecolor": "white",
           "ticks": "",
           "title": {
            "standoff": 15
           },
           "zerolinecolor": "white",
           "zerolinewidth": 2
          }
         }
        },
        "title": {
         "text": "변수와 뇌졸중 간의 상관관계"
        },
        "width": 1000,
        "xaxis": {
         "tickangle": -45,
         "title": {
          "text": "변수"
         }
        },
        "yaxis": {
         "range": [
          0,
          1
         ],
         "title": {
          "text": "상관계수 (절대값)"
         }
        }
       }
      }
     },
     "metadata": {},
     "output_type": "display_data"
    },
    {
     "name": "stdout",
     "output_type": "stream",
     "text": [
      "\n",
      "이 분석은 각 변수가 뇌졸중 발생과 얼마나 강한 연관성을 가지는지 보여줍니다.\n",
      "상관계수의 절대값이 높을수록 해당 변수와 뇌졸중 간의 연관성이 더 강합니다.\n",
      "각 변수의 특성에 따라 적절한 상관계수 방법을 사용했습니다.\n"
     ]
    }
   ],
   "source": [
    "# 시각화\n",
    "fig = go.Figure(data=[go.Bar(\n",
    "    x=list(correlation_results.keys()),\n",
    "    y=[abs(result['correlation']) for result in correlation_results.values()],\n",
    "    text=[f\"{abs(result['correlation']):.4f}\" for result in correlation_results.values()],\n",
    "    textposition='auto',\n",
    "    marker_color='royalblue'\n",
    ")])\n",
    "\n",
    "fig.update_layout(\n",
    "    title='변수와 뇌졸중 간의 상관관계',\n",
    "    xaxis_title='변수',\n",
    "    yaxis_title='상관계수 (절대값)',\n",
    "    xaxis_tickangle=-45,\n",
    "    yaxis_range=[0, 1],\n",
    "    width=1000,\n",
    "    height=600\n",
    ")\n",
    "\n",
    "fig.show()\n",
    "\n",
    "print(\"\\n이 분석은 각 변수가 뇌졸중 발생과 얼마나 강한 연관성을 가지는지 보여줍니다.\")\n",
    "print(\"상관계수의 절대값이 높을수록 해당 변수와 뇌졸중 간의 연관성이 더 강합니다.\")\n",
    "print(\"각 변수의 특성에 따라 적절한 상관계수 방법을 사용했습니다.\")\n"
   ]
  },
  {
   "cell_type": "markdown",
   "metadata": {},
   "source": [
    "데이터 분리 (훈련 / 검증 / 테스트)"
   ]
  },
  {
   "cell_type": "code",
   "execution_count": 18,
   "metadata": {},
   "outputs": [],
   "source": [
    "# 특성과 레이블 분리\n",
    "X = data.drop(['stroke'], axis=1)\n",
    "y = data['stroke']"
   ]
  },
  {
   "cell_type": "code",
   "execution_count": 19,
   "metadata": {},
   "outputs": [
    {
     "name": "stdout",
     "output_type": "stream",
     "text": [
      "---- SMOTE 적용 전 ----\n",
      "stroke\n",
      "0    4733\n",
      "1     248\n",
      "Name: count, dtype: int64\n",
      "\n",
      "\n",
      "---- SMOTE 적용 후 ----\n",
      "stroke\n",
      "1    4733\n",
      "0    4733\n",
      "Name: count, dtype: int64\n"
     ]
    }
   ],
   "source": [
    "# 불균형 데이터 처리\n",
    "print('---- SMOTE 적용 전 ----')\n",
    "print(y.value_counts())\n",
    "smt = SMOTE(random_state=42)\n",
    "X_smt, y_smt = smt.fit_resample(X, y)\n",
    "print('\\n\\n---- SMOTE 적용 후 ----')\n",
    "print(y_smt.value_counts())"
   ]
  },
  {
   "cell_type": "code",
   "execution_count": 20,
   "metadata": {},
   "outputs": [
    {
     "name": "stdout",
     "output_type": "stream",
     "text": [
      "(6815, 10) (1704, 10) (947, 10)\n",
      "(6815,) (1704,) (947,)\n"
     ]
    }
   ],
   "source": [
    "X_tmp, X_test, y_tmp, y_test = train_test_split(X_smt, y_smt,test_size=0.1, random_state=2024)\n",
    "X_train, X_val,  y_train, y_val =  train_test_split(X_tmp, y_tmp, test_size=0.2, random_state=2024)\n",
    "print(X_train.shape, X_val.shape, X_test.shape)\n",
    "print(y_train.shape, y_val.shape, y_test.shape)"
   ]
  },
  {
   "cell_type": "markdown",
   "metadata": {},
   "source": [
    "S3 데이터 입출력 경로 설정 및 데이터 업로드"
   ]
  },
  {
   "cell_type": "code",
   "execution_count": 21,
   "metadata": {},
   "outputs": [],
   "source": [
    "bucket_name = 'dante-sagemaker'\n",
    "project_name = 'stroke-prediction'"
   ]
  },
  {
   "cell_type": "code",
   "execution_count": 22,
   "metadata": {},
   "outputs": [],
   "source": [
    "# S3 입력 경로 설정\n",
    "input_path = f's3://{bucket_name}/{project_name}/input'\n",
    "\n",
    "# S3 출력 경로 설정\n",
    "output_path = f's3://{bucket_name}/{project_name}/output'\n",
    "\n",
    "# 모델 저장 경로 설정\n",
    "model_path = f's3://{bucket_name}/{project_name}/model'\n",
    "\n",
    "# 스크립트 저장 경로 설정\n",
    "script_path = f's3://{bucket_name}/{project_name}/script'\n",
    "\n",
    "# 훈련 데이터 경로 설정\n",
    "train_path = f'{input_path}/train/train.csv'\n",
    "\n",
    "# 검증 데이터 경로 설정\n",
    "val_path = f'{input_path}/val/val.csv'\n",
    "\n",
    "# 테스트 데이터 경로 설정\n",
    "test_path = f'{input_path}/test/test.csv'"
   ]
  },
  {
   "cell_type": "code",
   "execution_count": 23,
   "metadata": {},
   "outputs": [],
   "source": [
    "train_df = pd.concat([y_train, X_train], axis=1)\n",
    "val_df = pd.concat([y_val, X_val], axis=1)\n",
    "test_df = pd.concat([y_test, X_test], axis=1)"
   ]
  },
  {
   "cell_type": "code",
   "execution_count": 24,
   "metadata": {},
   "outputs": [
    {
     "data": {
      "text/plain": [
       "{'paths': ['s3://dante-sagemaker/stroke-prediction/input/test/test.csv'],\n",
       " 'partitions_values': {}}"
      ]
     },
     "execution_count": 24,
     "metadata": {},
     "output_type": "execute_result"
    }
   ],
   "source": [
    "wr.s3.to_csv(train_df, train_path, index=False, header=False, boto3_session=boto3_session)\n",
    "wr.s3.to_csv(val_df, val_path, index=False, header=False, boto3_session=boto3_session)\n",
    "wr.s3.to_csv(test_df, test_path, index=False, header=False, boto3_session=boto3_session)"
   ]
  },
  {
   "cell_type": "markdown",
   "metadata": {},
   "source": [
    "### SageMaker 빌트인 알고리즘 준비"
   ]
  },
  {
   "cell_type": "markdown",
   "metadata": {},
   "source": [
    "모델 학습 및 배포 함수 정의"
   ]
  },
  {
   "cell_type": "code",
   "execution_count": 25,
   "metadata": {},
   "outputs": [],
   "source": [
    "from sagemaker.inputs import TrainingInput\n",
    "from sagemaker.utils import name_from_base\n",
    "from sagemaker.estimator import Estimator\n",
    "from sagemaker import hyperparameters\n",
    "\n",
    "def train_and_deploy_model(project_name : str, train_path : str, val_path : str, output_path : str, model_type : str = 'lightgbm' ):\n",
    "    if model_type not in ['lightgbm', 'catboost']:\n",
    "        raise ValueError(\"잘못된 모델 유형입니다. 'lightgbm' 또는 'catboost'를 선택하세요.\")\n",
    "    \n",
    "    # 모델 타입에 따라 모델 ID와 버전 설정\n",
    "    train_model_id = \"lightgbm-classification-model\" if model_type == 'lightgbm' else \"catboost-classification-model\"\n",
    "    model_version = \"*\"\n",
    "    train_scope = \"training\"\n",
    "    training_instance_type = \"ml.m5.xlarge\" \n",
    "    inference_instance_type = \"ml.m5.large\"\n",
    "    \n",
    "    # 이미지 URI 검색\n",
    "    train_image_uri = sagemaker.image_uris.retrieve(\n",
    "        region=None,\n",
    "        framework=None,\n",
    "        model_id=train_model_id,\n",
    "        model_version=model_version,\n",
    "        image_scope=train_scope,\n",
    "        instance_type=training_instance_type,\n",
    "    )\n",
    "\n",
    "    # 스크립트 URI 검색\n",
    "    train_source_uri = sagemaker.script_uris.retrieve(\n",
    "        model_id=train_model_id, model_version=model_version, script_scope=train_scope\n",
    "    )\n",
    "\n",
    "    # 모델 URI 검색\n",
    "    train_model_uri = sagemaker.model_uris.retrieve(\n",
    "        model_id=train_model_id, model_version=model_version, model_scope=train_scope\n",
    "    )\n",
    "    # 추론 이미지 URI 검색\n",
    "    deploy_image_uri = sagemaker.image_uris.retrieve(\n",
    "        region=None,\n",
    "        framework=None,\n",
    "        image_scope=\"inference\",\n",
    "        model_id=train_model_id,\n",
    "        model_version=model_version,\n",
    "        instance_type=inference_instance_type,\n",
    "    )\n",
    "    \n",
    "     # 추론 스크립트 URI 검색\n",
    "    deploy_source_uri = sagemaker.script_uris.retrieve(\n",
    "        model_id=train_model_id, model_version=model_version, script_scope=\"inference\"\n",
    "    )\n",
    "    \n",
    "    # 하이퍼파라미터 설정\n",
    "    _hyperparameters = hyperparameters.retrieve_default(\n",
    "        model_id=train_model_id, model_version=model_version\n",
    "    )\n",
    "    \n",
    "    if model_type == 'lightgbm':\n",
    "        # https://docs.aws.amazon.com/ko_kr/sagemaker/latest/dg/lightgbm-hyperparameters.html\n",
    "        _hyperparameters.update({\n",
    "            'num_boost_round': '200',\n",
    "            'metric': 'auc',\n",
    "            'learning_rate': '0.01',\n",
    "            'num_leaves': '100',\n",
    "            'max_depth': '10'\n",
    "        })\n",
    "    else:\n",
    "        # https://docs.aws.amazon.com/ko_kr/sagemaker/latest/dg/catboost-hyperparameters.html\n",
    "        _hyperparameters.update({\n",
    "            'iterations': '1000',\n",
    "            'depth': '10',\n",
    "        })\n",
    "      \n",
    "    # 알고리즘 컨테이너 설정\n",
    "    estimator = Estimator(\n",
    "        role=role,\n",
    "        sagemaker_session=sagemaker_session,\n",
    "        image_uri=train_image_uri,\n",
    "        source_dir=train_source_uri,\n",
    "        model_uri=train_model_uri,\n",
    "        entry_point=\"transfer_learning.py\",\n",
    "        instance_count=1,\n",
    "        instance_type=training_instance_type,\n",
    "        max_run=360000,\n",
    "        max_wait=360000,\n",
    "        use_spot_instances=True,\n",
    "        hyperparameters=_hyperparameters,\n",
    "        output_path=output_path,\n",
    "    )\n",
    "    \n",
    "    training_job_name = name_from_base(f\"{project_name}-{model_type}-training\")\n",
    "    \n",
    "    # 모델 학습\n",
    "    try:\n",
    "        estimator.fit({\n",
    "            \"training\": TrainingInput(train_path, content_type='text/csv'),\n",
    "            \"validation\": TrainingInput(val_path, content_type='text/csv')\n",
    "        }, logs=True, job_name=training_job_name)\n",
    "    except Exception as e:\n",
    "        print(f\"모델 학습 중 오류 발생: {str(e)}\")\n",
    "        return None\n",
    "\n",
    "    endpoint_name = name_from_base(f\"{project_name}-{model_type}-inference\")\n",
    "\n",
    "    # 모델 배포\n",
    "    try:\n",
    "        estimator.deploy(\n",
    "            initial_instance_count=1,\n",
    "            instance_type=inference_instance_type,\n",
    "            entry_point=\"inference.py\",\n",
    "            image_uri=deploy_image_uri,\n",
    "            source_dir=deploy_source_uri,\n",
    "            endpoint_name=endpoint_name,\n",
    "        )\n",
    "    except Exception as e:\n",
    "        print(f\"모델 배포 중 오류 발생: {str(e)}\")\n",
    "        return None\n",
    "    \n",
    "    return endpoint_name"
   ]
  },
  {
   "cell_type": "markdown",
   "metadata": {},
   "source": [
    "모델 예측 함수 정의"
   ]
  },
  {
   "cell_type": "code",
   "execution_count": 26,
   "metadata": {},
   "outputs": [],
   "source": [
    "def model_prediction(endpoint_name, features, batch_size=1500):\n",
    "    # 테스트 데이터의 크기가 크기 때문에 엔드포인트에 쿼리하기 위해 더 작은 크기의 배치로 분할합니다.\n",
    "    num_examples = features.shape[0]\n",
    "    predict_prob = []\n",
    "    \n",
    "    client = boto3_session.client(\"runtime.sagemaker\")\n",
    "    \n",
    "    for i in np.arange(0, num_examples, step=batch_size):\n",
    "        features_batch = features.iloc[i : (i + batch_size), :]\n",
    "        \n",
    "        encoded_tabular_data = features_batch.to_csv(header=False, index=False).encode(\"utf-8\")\n",
    "        query_response_batch = client.invoke_endpoint(\n",
    "            EndpointName=endpoint_name, ContentType=\"text/csv\", Body=encoded_tabular_data\n",
    "        )\n",
    "        \n",
    "        model_predictions = json.loads(query_response_batch[\"Body\"].read())\n",
    "        predicted_probabilities = model_predictions[\"probabilities\"]\n",
    "        predict_prob_batch =  np.array(predicted_probabilities)\n",
    "            \n",
    "        predict_prob.append(predict_prob_batch)\n",
    "        \n",
    "    predict_prob = np.concatenate(predict_prob, axis=0)\n",
    "    \n",
    "    predict_label = np.argmax(\n",
    "        predict_prob, axis=1\n",
    "    )\n",
    "    \n",
    "    return predict_label"
   ]
  },
  {
   "cell_type": "markdown",
   "metadata": {},
   "source": [
    "모델 평가 함수 정의"
   ]
  },
  {
   "cell_type": "code",
   "execution_count": 27,
   "metadata": {},
   "outputs": [],
   "source": [
    "def plot_confusion_matrix(ground_truth_label, predict_label):\n",
    "    conf_matrix = confusion_matrix(y_true=ground_truth_label.values, y_pred=predict_label)\n",
    "\n",
    "    fig = go.Figure(data=go.Heatmap(\n",
    "        z=conf_matrix,\n",
    "        x=['예측: 0', '예측: 1'],\n",
    "        y=['실제: 0', '실제: 1'],\n",
    "        colorscale='Blues',\n",
    "        showscale=False\n",
    "    ))\n",
    "\n",
    "    for i in range(conf_matrix.shape[0]):\n",
    "        for j in range(conf_matrix.shape[1]):\n",
    "            fig.add_annotation(\n",
    "                x=j,\n",
    "                y=i,\n",
    "                text=str(conf_matrix[i, j]),\n",
    "                showarrow=False,\n",
    "                font=dict(color='white' if conf_matrix[i, j] > conf_matrix.max() / 2 else 'black', size=20)\n",
    "            )\n",
    "\n",
    "    fig.update_layout(\n",
    "        title='혼동 행렬',\n",
    "        xaxis_title='예측',\n",
    "        yaxis_title='실제',\n",
    "        width=600,\n",
    "        height=600\n",
    "    )\n",
    "\n",
    "    fig.show()\n",
    "    \n",
    "    eval_accuracy = accuracy_score(ground_truth_label.values, predict_label)\n",
    "    eval_auc = roc_auc_score(ground_truth_label.values, predict_label)\n",
    "    eval_recall = recall_score(ground_truth_label.values, predict_label)\n",
    "    eval_precision = precision_score(ground_truth_label.values, predict_label)\n",
    "    eval_f1 = f1_score(ground_truth_label.values, predict_label)\n",
    "\n",
    "    print(f\"Accuracy: {eval_accuracy}\")\n",
    "    print(f\"AUC: {eval_auc}\")\n",
    "    print(f\"Recall: {eval_recall}\")\n",
    "    print(f\"Precision: {eval_precision}\")\n",
    "    print(f\"F1 Score: {eval_f1}\")"
   ]
  },
  {
   "cell_type": "markdown",
   "metadata": {},
   "source": [
    "테스트 데이터 로드"
   ]
  },
  {
   "cell_type": "code",
   "execution_count": 28,
   "metadata": {},
   "outputs": [
    {
     "data": {
      "text/html": [
       "<div>\n",
       "<style scoped>\n",
       "    .dataframe tbody tr th:only-of-type {\n",
       "        vertical-align: middle;\n",
       "    }\n",
       "\n",
       "    .dataframe tbody tr th {\n",
       "        vertical-align: top;\n",
       "    }\n",
       "\n",
       "    .dataframe thead th {\n",
       "        text-align: right;\n",
       "    }\n",
       "</style>\n",
       "<table border=\"1\" class=\"dataframe\">\n",
       "  <thead>\n",
       "    <tr style=\"text-align: right;\">\n",
       "      <th></th>\n",
       "      <th>Target</th>\n",
       "      <th>Feature_1</th>\n",
       "      <th>Feature_2</th>\n",
       "      <th>Feature_3</th>\n",
       "      <th>Feature_4</th>\n",
       "      <th>Feature_5</th>\n",
       "      <th>Feature_6</th>\n",
       "      <th>Feature_7</th>\n",
       "      <th>Feature_8</th>\n",
       "      <th>Feature_9</th>\n",
       "      <th>Feature_10</th>\n",
       "    </tr>\n",
       "  </thead>\n",
       "  <tbody>\n",
       "    <tr>\n",
       "      <th>0</th>\n",
       "      <td>0</td>\n",
       "      <td>0</td>\n",
       "      <td>9.0</td>\n",
       "      <td>0</td>\n",
       "      <td>0</td>\n",
       "      <td>0</td>\n",
       "      <td>3</td>\n",
       "      <td>0</td>\n",
       "      <td>57.270000</td>\n",
       "      <td>28.000000</td>\n",
       "      <td>0</td>\n",
       "    </tr>\n",
       "    <tr>\n",
       "      <th>1</th>\n",
       "      <td>0</td>\n",
       "      <td>0</td>\n",
       "      <td>19.0</td>\n",
       "      <td>0</td>\n",
       "      <td>0</td>\n",
       "      <td>0</td>\n",
       "      <td>1</td>\n",
       "      <td>0</td>\n",
       "      <td>72.840000</td>\n",
       "      <td>22.700000</td>\n",
       "      <td>2</td>\n",
       "    </tr>\n",
       "    <tr>\n",
       "      <th>2</th>\n",
       "      <td>1</td>\n",
       "      <td>0</td>\n",
       "      <td>78.0</td>\n",
       "      <td>0</td>\n",
       "      <td>0</td>\n",
       "      <td>1</td>\n",
       "      <td>1</td>\n",
       "      <td>0</td>\n",
       "      <td>57.030793</td>\n",
       "      <td>25.013402</td>\n",
       "      <td>0</td>\n",
       "    </tr>\n",
       "    <tr>\n",
       "      <th>3</th>\n",
       "      <td>1</td>\n",
       "      <td>0</td>\n",
       "      <td>79.0</td>\n",
       "      <td>0</td>\n",
       "      <td>0</td>\n",
       "      <td>1</td>\n",
       "      <td>1</td>\n",
       "      <td>0</td>\n",
       "      <td>169.690970</td>\n",
       "      <td>27.981150</td>\n",
       "      <td>0</td>\n",
       "    </tr>\n",
       "    <tr>\n",
       "      <th>4</th>\n",
       "      <td>0</td>\n",
       "      <td>0</td>\n",
       "      <td>78.0</td>\n",
       "      <td>0</td>\n",
       "      <td>0</td>\n",
       "      <td>1</td>\n",
       "      <td>2</td>\n",
       "      <td>1</td>\n",
       "      <td>56.950000</td>\n",
       "      <td>26.000000</td>\n",
       "      <td>0</td>\n",
       "    </tr>\n",
       "  </tbody>\n",
       "</table>\n",
       "</div>"
      ],
      "text/plain": [
       "   Target  Feature_1  Feature_2  Feature_3  Feature_4  Feature_5  Feature_6  \\\n",
       "0       0          0        9.0          0          0          0          3   \n",
       "1       0          0       19.0          0          0          0          1   \n",
       "2       1          0       78.0          0          0          1          1   \n",
       "3       1          0       79.0          0          0          1          1   \n",
       "4       0          0       78.0          0          0          1          2   \n",
       "\n",
       "   Feature_7   Feature_8  Feature_9  Feature_10  \n",
       "0          0   57.270000  28.000000           0  \n",
       "1          0   72.840000  22.700000           2  \n",
       "2          0   57.030793  25.013402           0  \n",
       "3          0  169.690970  27.981150           0  \n",
       "4          1   56.950000  26.000000           0  "
      ]
     },
     "execution_count": 28,
     "metadata": {},
     "output_type": "execute_result"
    }
   ],
   "source": [
    "test_data = wr.s3.read_csv(test_path, boto3_session=boto3_session, header=None)\n",
    "test_data.columns = [\"Target\"] + [f\"Feature_{i}\" for i in range(1, test_data.shape[1])]\n",
    "test_data.head(5)"
   ]
  },
  {
   "cell_type": "code",
   "execution_count": 29,
   "metadata": {},
   "outputs": [],
   "source": [
    "ground_truth_label, features = test_data.iloc[:, :1], test_data.iloc[:, 1:]"
   ]
  },
  {
   "cell_type": "markdown",
   "metadata": {},
   "source": [
    "LightGBM 모델 학습 및 배포"
   ]
  },
  {
   "cell_type": "code",
   "execution_count": 150,
   "metadata": {},
   "outputs": [
    {
     "name": "stderr",
     "output_type": "stream",
     "text": [
      "INFO:sagemaker:Creating training-job with name: stroke-prediction-lightgbm-training-2024-08-10-02-26-44-834\n"
     ]
    },
    {
     "name": "stdout",
     "output_type": "stream",
     "text": [
      "2024-08-10 02:26:45 Starting - Starting the training job...\n",
      "2024-08-10 02:27:01 Starting - Preparing the instances for training...\n",
      "2024-08-10 02:27:37 Downloading - Downloading the training image......\n",
      "2024-08-10 02:28:43 Training - Training image download completed. Training in progress...bash: cannot set terminal process group (-1): Inappropriate ioctl for device\n",
      "bash: no job control in this shell\n",
      "2024-08-10 02:28:46,553 sagemaker-training-toolkit INFO     Imported framework sagemaker_pytorch_container.training\n",
      "2024-08-10 02:28:46,554 sagemaker-training-toolkit INFO     No GPUs detected (normal if no gpus installed)\n",
      "2024-08-10 02:28:46,563 sagemaker_pytorch_container.training INFO     Block until all host DNS lookups succeed.\n",
      "2024-08-10 02:28:46,565 sagemaker_pytorch_container.training INFO     Invoking user training script.\n",
      "2024-08-10 02:28:47,245 sagemaker-training-toolkit INFO     Installing dependencies from requirements.txt:\n",
      "/opt/conda/bin/python3.8 -m pip install -r requirements.txt\n",
      "Processing ./lib/dask/dask-2022.12.1-py3-none-any.whl\n",
      "Processing ./lib/distributed/distributed-2022.12.1-py3-none-any.whl\n",
      "Processing ./lib/graphviz/graphviz-0.17-py3-none-any.whl\n",
      "Processing ./lib/HeapDict/HeapDict-1.0.1-py3-none-any.whl\n",
      "Processing ./lib/lightgbm/lightgbm-3.3.3-py3-none-manylinux1_x86_64.whl\n",
      "Processing ./lib/locket/locket-1.0.0-py2.py3-none-any.whl\n",
      "Processing ./lib/msgpack/msgpack-1.0.4-cp38-cp38-manylinux_2_17_x86_64.manylinux2014_x86_64.whl\n",
      "Processing ./lib/partd/partd-1.3.0-py3-none-any.whl\n",
      "Processing ./lib/sortedcontainers/sortedcontainers-2.4.0-py2.py3-none-any.whl\n",
      "Processing ./lib/tblib/tblib-1.7.0-py2.py3-none-any.whl\n",
      "Processing ./lib/toolz/toolz-0.12.0-py3-none-any.whl\n",
      "Processing ./lib/zict/zict-2.2.0-py2.py3-none-any.whl\n",
      "Processing ./lib/sagemaker_jumpstart_tabular_script_utilities/sagemaker_jumpstart_tabular_script_utilities-1.0.0-py2.py3-none-any.whl\n",
      "Processing ./lib/sagemaker_jumpstart_prepack_script_utilities/sagemaker_jumpstart_prepack_script_utilities-1.0.0-py2.py3-none-any.whl\n",
      "Requirement already satisfied: packaging>=20.0 in /opt/conda/lib/python3.8/site-packages (from dask==2022.12.1->-r requirements.txt (line 1)) (21.0)\n",
      "Requirement already satisfied: cloudpickle>=1.1.1 in /opt/conda/lib/python3.8/site-packages (from dask==2022.12.1->-r requirements.txt (line 1)) (2.0.0)\n",
      "Requirement already satisfied: pyyaml>=5.3.1 in /opt/conda/lib/python3.8/site-packages (from dask==2022.12.1->-r requirements.txt (line 1)) (5.4.1)\n",
      "Requirement already satisfied: fsspec>=0.6.0 in /opt/conda/lib/python3.8/site-packages (from dask==2022.12.1->-r requirements.txt (line 1)) (2021.10.0)\n",
      "Requirement already satisfied: click>=7.0 in /opt/conda/lib/python3.8/site-packages (from dask==2022.12.1->-r requirements.txt (line 1)) (8.0.3)\n",
      "Requirement already satisfied: psutil>=5.0 in /opt/conda/lib/python3.8/site-packages (from distributed==2022.12.1->-r requirements.txt (line 2)) (5.6.7)\n",
      "Requirement already satisfied: tornado>=6.0.3 in /opt/conda/lib/python3.8/site-packages (from distributed==2022.12.1->-r requirements.txt (line 2)) (6.1)\n",
      "Requirement already satisfied: urllib3 in /opt/conda/lib/python3.8/site-packages (from distributed==2022.12.1->-r requirements.txt (line 2)) (1.26.7)\n",
      "Requirement already satisfied: jinja2 in /opt/conda/lib/python3.8/site-packages (from distributed==2022.12.1->-r requirements.txt (line 2)) (3.0.2)\n",
      "Requirement already satisfied: scipy in /opt/conda/lib/python3.8/site-packages (from lightgbm==3.3.3->-r requirements.txt (line 5)) (1.7.1)\n",
      "Requirement already satisfied: scikit-learn!=0.22.0 in /opt/conda/lib/python3.8/site-packages (from lightgbm==3.3.3->-r requirements.txt (line 5)) (0.24.2)\n",
      "Requirement already satisfied: numpy in /opt/conda/lib/python3.8/site-packages (from lightgbm==3.3.3->-r requirements.txt (line 5)) (1.19.1)\n",
      "Requirement already satisfied: wheel in /opt/conda/lib/python3.8/site-packages (from lightgbm==3.3.3->-r requirements.txt (line 5)) (0.37.0)\n",
      "Requirement already satisfied: pyparsing>=2.0.2 in /opt/conda/lib/python3.8/site-packages (from packaging>=20.0->dask==2022.12.1->-r requirements.txt (line 1)) (2.4.7)\n",
      "Requirement already satisfied: joblib>=0.11 in /opt/conda/lib/python3.8/site-packages (from scikit-learn!=0.22.0->lightgbm==3.3.3->-r requirements.txt (line 5)) (1.0.1)\n",
      "Requirement already satisfied: threadpoolctl>=2.0.0 in /opt/conda/lib/python3.8/site-packages (from scikit-learn!=0.22.0->lightgbm==3.3.3->-r requirements.txt (line 5)) (2.2.0)\n",
      "Requirement already satisfied: MarkupSafe>=2.0 in /opt/conda/lib/python3.8/site-packages (from jinja2->distributed==2022.12.1->-r requirements.txt (line 2)) (2.0.1)\n",
      "Installing collected packages: toolz, locket, partd, HeapDict, zict, tblib, sortedcontainers, msgpack, dask, sagemaker-jumpstart-tabular-script-utilities, sagemaker-jumpstart-prepack-script-utilities, lightgbm, graphviz, distributed\n",
      "Successfully installed HeapDict-1.0.1 dask-2022.12.1 distributed-2022.12.1 graphviz-0.17 lightgbm-3.3.3 locket-1.0.0 msgpack-1.0.4 partd-1.3.0 sagemaker-jumpstart-prepack-script-utilities-1.0.0 sagemaker-jumpstart-tabular-script-utilities-1.0.0 sortedcontainers-2.4.0 tblib-1.7.0 toolz-0.12.0 zict-2.2.0\n",
      "WARNING: Running pip as the 'root' user can result in broken permissions and conflicting behaviour with the system package manager. It is recommended to use a virtual environment instead: https://pip.pypa.io/warnings/venv\n",
      "2024-08-10 02:28:50,117 sagemaker-training-toolkit INFO     No GPUs detected (normal if no gpus installed)\n",
      "2024-08-10 02:28:50,130 sagemaker-training-toolkit INFO     No GPUs detected (normal if no gpus installed)\n",
      "2024-08-10 02:28:50,141 sagemaker-training-toolkit INFO     No GPUs detected (normal if no gpus installed)\n",
      "2024-08-10 02:28:50,149 sagemaker-training-toolkit INFO     Invoking user script\n",
      "Training Env:\n",
      "{\n",
      "    \"additional_framework_parameters\": {},\n",
      "    \"channel_input_dirs\": {\n",
      "        \"model\": \"/opt/ml/input/data/model\",\n",
      "        \"training\": \"/opt/ml/input/data/training\",\n",
      "        \"validation\": \"/opt/ml/input/data/validation\"\n",
      "    },\n",
      "    \"current_host\": \"algo-1\",\n",
      "    \"framework_module\": \"sagemaker_pytorch_container.training:main\",\n",
      "    \"hosts\": [\n",
      "        \"algo-1\"\n",
      "    ],\n",
      "    \"hyperparameters\": {\n",
      "        \"bagging_fraction\": \"0.53\",\n",
      "        \"bagging_freq\": \"5\",\n",
      "        \"boosting\": \"gbdt\",\n",
      "        \"early_stopping_rounds\": \"30\",\n",
      "        \"feature_fraction\": \"0.74\",\n",
      "        \"feature_fraction_bynode\": \"1.0\",\n",
      "        \"is_unbalance\": \"False\",\n",
      "        \"lambda_l1\": \"0.0\",\n",
      "        \"lambda_l2\": \"0.0\",\n",
      "        \"learning_rate\": \"0.009\",\n",
      "        \"max_bin\": \"255\",\n",
      "        \"max_delta_step\": \"0.0\",\n",
      "        \"max_depth\": \"11\",\n",
      "        \"metric\": \"auto\",\n",
      "        \"min_data_in_leaf\": \"26\",\n",
      "        \"min_gain_to_split\": \"0.0\",\n",
      "        \"num_boost_round\": \"5000\",\n",
      "        \"num_leaves\": \"67\",\n",
      "        \"num_threads\": \"0\",\n",
      "        \"scale_pos_weight\": \"1.0\",\n",
      "        \"tree_learner\": \"serial\",\n",
      "        \"use_dask\": \"False\",\n",
      "        \"verbosity\": \"1\"\n",
      "    },\n",
      "    \"input_config_dir\": \"/opt/ml/input/config\",\n",
      "    \"input_data_config\": {\n",
      "        \"model\": {\n",
      "            \"ContentType\": \"application/x-sagemaker-model\",\n",
      "            \"TrainingInputMode\": \"File\",\n",
      "            \"S3DistributionType\": \"FullyReplicated\",\n",
      "            \"RecordWrapperType\": \"None\"\n",
      "        },\n",
      "        \"training\": {\n",
      "            \"ContentType\": \"text/csv\",\n",
      "            \"TrainingInputMode\": \"File\",\n",
      "            \"S3DistributionType\": \"FullyReplicated\",\n",
      "            \"RecordWrapperType\": \"None\"\n",
      "        },\n",
      "        \"validation\": {\n",
      "            \"ContentType\": \"text/csv\",\n",
      "            \"TrainingInputMode\": \"File\",\n",
      "            \"S3DistributionType\": \"FullyReplicated\",\n",
      "            \"RecordWrapperType\": \"None\"\n",
      "        }\n",
      "    },\n",
      "    \"input_dir\": \"/opt/ml/input\",\n",
      "    \"is_master\": true,\n",
      "    \"job_name\": \"stroke-prediction-lightgbm-training-2024-08-10-02-26-44-834\",\n",
      "    \"log_level\": 20,\n",
      "    \"master_hostname\": \"algo-1\",\n",
      "    \"model_dir\": \"/opt/ml/model\",\n",
      "    \"module_dir\": \"s3://jumpstart-cache-prod-ap-northeast-2/source-directory-tarballs/lightgbm/transfer_learning/classification/prepack/v1.1.1/sourcedir.tar.gz\",\n",
      "    \"module_name\": \"transfer_learning\",\n",
      "    \"network_interface_name\": \"eth0\",\n",
      "    \"num_cpus\": 4,\n",
      "    \"num_gpus\": 0,\n",
      "    \"output_data_dir\": \"/opt/ml/output/data\",\n",
      "    \"output_dir\": \"/opt/ml/output\",\n",
      "    \"output_intermediate_dir\": \"/opt/ml/output/intermediate\",\n",
      "    \"resource_config\": {\n",
      "        \"current_host\": \"algo-1\",\n",
      "        \"current_instance_type\": \"ml.m5.xlarge\",\n",
      "        \"current_group_name\": \"homogeneousCluster\",\n",
      "        \"hosts\": [\n",
      "            \"algo-1\"\n",
      "        ],\n",
      "        \"instance_groups\": [\n",
      "            {\n",
      "                \"instance_group_name\": \"homogeneousCluster\",\n",
      "                \"instance_type\": \"ml.m5.xlarge\",\n",
      "                \"hosts\": [\n",
      "                    \"algo-1\"\n",
      "                ]\n",
      "            }\n",
      "        ],\n",
      "        \"network_interface_name\": \"eth0\"\n",
      "    },\n",
      "    \"user_entry_point\": \"transfer_learning.py\"\n",
      "}\n",
      "Environment variables:\n",
      "SM_HOSTS=[\"algo-1\"]\n",
      "SM_NETWORK_INTERFACE_NAME=eth0\n",
      "SM_HPS={\"bagging_fraction\":\"0.53\",\"bagging_freq\":\"5\",\"boosting\":\"gbdt\",\"early_stopping_rounds\":\"30\",\"feature_fraction\":\"0.74\",\"feature_fraction_bynode\":\"1.0\",\"is_unbalance\":\"False\",\"lambda_l1\":\"0.0\",\"lambda_l2\":\"0.0\",\"learning_rate\":\"0.009\",\"max_bin\":\"255\",\"max_delta_step\":\"0.0\",\"max_depth\":\"11\",\"metric\":\"auto\",\"min_data_in_leaf\":\"26\",\"min_gain_to_split\":\"0.0\",\"num_boost_round\":\"5000\",\"num_leaves\":\"67\",\"num_threads\":\"0\",\"scale_pos_weight\":\"1.0\",\"tree_learner\":\"serial\",\"use_dask\":\"False\",\"verbosity\":\"1\"}\n",
      "SM_USER_ENTRY_POINT=transfer_learning.py\n",
      "SM_FRAMEWORK_PARAMS={}\n",
      "SM_RESOURCE_CONFIG={\"current_group_name\":\"homogeneousCluster\",\"current_host\":\"algo-1\",\"current_instance_type\":\"ml.m5.xlarge\",\"hosts\":[\"algo-1\"],\"instance_groups\":[{\"hosts\":[\"algo-1\"],\"instance_group_name\":\"homogeneousCluster\",\"instance_type\":\"ml.m5.xlarge\"}],\"network_interface_name\":\"eth0\"}\n",
      "SM_INPUT_DATA_CONFIG={\"model\":{\"ContentType\":\"application/x-sagemaker-model\",\"RecordWrapperType\":\"None\",\"S3DistributionType\":\"FullyReplicated\",\"TrainingInputMode\":\"File\"},\"training\":{\"ContentType\":\"text/csv\",\"RecordWrapperType\":\"None\",\"S3DistributionType\":\"FullyReplicated\",\"TrainingInputMode\":\"File\"},\"validation\":{\"ContentType\":\"text/csv\",\"RecordWrapperType\":\"None\",\"S3DistributionType\":\"FullyReplicated\",\"TrainingInputMode\":\"File\"}}\n",
      "SM_OUTPUT_DATA_DIR=/opt/ml/output/data\n",
      "SM_CHANNELS=[\"model\",\"training\",\"validation\"]\n",
      "SM_CURRENT_HOST=algo-1\n",
      "SM_MODULE_NAME=transfer_learning\n",
      "SM_LOG_LEVEL=20\n",
      "SM_FRAMEWORK_MODULE=sagemaker_pytorch_container.training:main\n",
      "SM_INPUT_DIR=/opt/ml/input\n",
      "SM_INPUT_CONFIG_DIR=/opt/ml/input/config\n",
      "SM_OUTPUT_DIR=/opt/ml/output\n",
      "SM_NUM_CPUS=4\n",
      "SM_NUM_GPUS=0\n",
      "SM_MODEL_DIR=/opt/ml/model\n",
      "SM_MODULE_DIR=s3://jumpstart-cache-prod-ap-northeast-2/source-directory-tarballs/lightgbm/transfer_learning/classification/prepack/v1.1.1/sourcedir.tar.gz\n",
      "SM_TRAINING_ENV={\"additional_framework_parameters\":{},\"channel_input_dirs\":{\"model\":\"/opt/ml/input/data/model\",\"training\":\"/opt/ml/input/data/training\",\"validation\":\"/opt/ml/input/data/validation\"},\"current_host\":\"algo-1\",\"framework_module\":\"sagemaker_pytorch_container.training:main\",\"hosts\":[\"algo-1\"],\"hyperparameters\":{\"bagging_fraction\":\"0.53\",\"bagging_freq\":\"5\",\"boosting\":\"gbdt\",\"early_stopping_rounds\":\"30\",\"feature_fraction\":\"0.74\",\"feature_fraction_bynode\":\"1.0\",\"is_unbalance\":\"False\",\"lambda_l1\":\"0.0\",\"lambda_l2\":\"0.0\",\"learning_rate\":\"0.009\",\"max_bin\":\"255\",\"max_delta_step\":\"0.0\",\"max_depth\":\"11\",\"metric\":\"auto\",\"min_data_in_leaf\":\"26\",\"min_gain_to_split\":\"0.0\",\"num_boost_round\":\"5000\",\"num_leaves\":\"67\",\"num_threads\":\"0\",\"scale_pos_weight\":\"1.0\",\"tree_learner\":\"serial\",\"use_dask\":\"False\",\"verbosity\":\"1\"},\"input_config_dir\":\"/opt/ml/input/config\",\"input_data_config\":{\"model\":{\"ContentType\":\"application/x-sagemaker-model\",\"RecordWrapperType\":\"None\",\"S3DistributionType\":\"FullyReplicated\",\"TrainingInputMode\":\"File\"},\"training\":{\"ContentType\":\"text/csv\",\"RecordWrapperType\":\"None\",\"S3DistributionType\":\"FullyReplicated\",\"TrainingInputMode\":\"File\"},\"validation\":{\"ContentType\":\"text/csv\",\"RecordWrapperType\":\"None\",\"S3DistributionType\":\"FullyReplicated\",\"TrainingInputMode\":\"File\"}},\"input_dir\":\"/opt/ml/input\",\"is_master\":true,\"job_name\":\"stroke-prediction-lightgbm-training-2024-08-10-02-26-44-834\",\"log_level\":20,\"master_hostname\":\"algo-1\",\"model_dir\":\"/opt/ml/model\",\"module_dir\":\"s3://jumpstart-cache-prod-ap-northeast-2/source-directory-tarballs/lightgbm/transfer_learning/classification/prepack/v1.1.1/sourcedir.tar.gz\",\"module_name\":\"transfer_learning\",\"network_interface_name\":\"eth0\",\"num_cpus\":4,\"num_gpus\":0,\"output_data_dir\":\"/opt/ml/output/data\",\"output_dir\":\"/opt/ml/output\",\"output_intermediate_dir\":\"/opt/ml/output/intermediate\",\"resource_config\":{\"current_group_name\":\"homogeneousCluster\",\"current_host\":\"algo-1\",\"current_instance_type\":\"ml.m5.xlarge\",\"hosts\":[\"algo-1\"],\"instance_groups\":[{\"hosts\":[\"algo-1\"],\"instance_group_name\":\"homogeneousCluster\",\"instance_type\":\"ml.m5.xlarge\"}],\"network_interface_name\":\"eth0\"},\"user_entry_point\":\"transfer_learning.py\"}\n",
      "SM_USER_ARGS=[\"--bagging_fraction\",\"0.53\",\"--bagging_freq\",\"5\",\"--boosting\",\"gbdt\",\"--early_stopping_rounds\",\"30\",\"--feature_fraction\",\"0.74\",\"--feature_fraction_bynode\",\"1.0\",\"--is_unbalance\",\"False\",\"--lambda_l1\",\"0.0\",\"--lambda_l2\",\"0.0\",\"--learning_rate\",\"0.009\",\"--max_bin\",\"255\",\"--max_delta_step\",\"0.0\",\"--max_depth\",\"11\",\"--metric\",\"auto\",\"--min_data_in_leaf\",\"26\",\"--min_gain_to_split\",\"0.0\",\"--num_boost_round\",\"5000\",\"--num_leaves\",\"67\",\"--num_threads\",\"0\",\"--scale_pos_weight\",\"1.0\",\"--tree_learner\",\"serial\",\"--use_dask\",\"False\",\"--verbosity\",\"1\"]\n",
      "SM_OUTPUT_INTERMEDIATE_DIR=/opt/ml/output/intermediate\n",
      "SM_CHANNEL_MODEL=/opt/ml/input/data/model\n",
      "SM_CHANNEL_TRAINING=/opt/ml/input/data/training\n",
      "SM_CHANNEL_VALIDATION=/opt/ml/input/data/validation\n",
      "SM_HP_BAGGING_FRACTION=0.53\n",
      "SM_HP_BAGGING_FREQ=5\n",
      "SM_HP_BOOSTING=gbdt\n",
      "SM_HP_EARLY_STOPPING_ROUNDS=30\n",
      "SM_HP_FEATURE_FRACTION=0.74\n",
      "SM_HP_FEATURE_FRACTION_BYNODE=1.0\n",
      "SM_HP_IS_UNBALANCE=False\n",
      "SM_HP_LAMBDA_L1=0.0\n",
      "SM_HP_LAMBDA_L2=0.0\n",
      "SM_HP_LEARNING_RATE=0.009\n",
      "SM_HP_MAX_BIN=255\n",
      "SM_HP_MAX_DELTA_STEP=0.0\n",
      "SM_HP_MAX_DEPTH=11\n",
      "SM_HP_METRIC=auto\n",
      "SM_HP_MIN_DATA_IN_LEAF=26\n",
      "SM_HP_MIN_GAIN_TO_SPLIT=0.0\n",
      "SM_HP_NUM_BOOST_ROUND=5000\n",
      "SM_HP_NUM_LEAVES=67\n",
      "SM_HP_NUM_THREADS=0\n",
      "SM_HP_SCALE_POS_WEIGHT=1.0\n",
      "SM_HP_TREE_LEARNER=serial\n",
      "SM_HP_USE_DASK=False\n",
      "SM_HP_VERBOSITY=1\n",
      "PYTHONPATH=/opt/ml/code:/opt/conda/bin:/opt/conda/lib/python38.zip:/opt/conda/lib/python3.8:/opt/conda/lib/python3.8/lib-dynload:/opt/conda/lib/python3.8/site-packages\n",
      "Invoking script with the following command:\n",
      "/opt/conda/bin/python3.8 transfer_learning.py --bagging_fraction 0.53 --bagging_freq 5 --boosting gbdt --early_stopping_rounds 30 --feature_fraction 0.74 --feature_fraction_bynode 1.0 --is_unbalance False --lambda_l1 0.0 --lambda_l2 0.0 --learning_rate 0.009 --max_bin 255 --max_delta_step 0.0 --max_depth 11 --metric auto --min_data_in_leaf 26 --min_gain_to_split 0.0 --num_boost_round 5000 --num_leaves 67 --num_threads 0 --scale_pos_weight 1.0 --tree_learner serial --use_dask False --verbosity 1\n",
      "INFO:root:Loading data\n",
      "INFO:root:Found data in the validation channel. Reading the train and validation data from the training and validation channel, respectively.\n",
      "data frame ['/opt/ml/input/data/training/train.csv']???       0   1          2   3   4   5   6   7           8          9   10\n",
      "0      0   1  71.000000   0   1   1   1   0   70.380000  25.000000   3\n",
      "1      1   1  58.181549   0   0   1   1   1   86.258646  30.695683   0\n",
      "2      0   1  69.000000   0   1   1   1   0   80.430000  29.200000   0\n",
      "3      1   0  72.649218   1   0   1   1   0   73.156274  24.495819   1\n",
      "4      0   0  17.000000   0   0   0   1   1   82.640000  31.100000   0\n",
      "...   ..  ..        ...  ..  ..  ..  ..  ..         ...        ...  ..\n",
      "6810   1   1  57.275213   0   0   0   1   0   88.039346  31.782564   0\n",
      "6811   1   0  57.000000   0   0   1   1   1  217.867910  32.528029   0\n",
      "6812   0   1  71.000000   1   0   1   0   1  153.080000  21.500000   0\n",
      "6813   1   0  68.276999   0   0   1   1   0   62.026197  25.746950   2\n",
      "6814   1   0  78.821536   0   0   0   1   0   92.539592  24.681854   2\n",
      "[6815 rows x 11 columns]\n",
      "data frame ['/opt/ml/input/data/validation/val.csv']???       0   1          2   3   4   5   6   7           8          9   10\n",
      "0      1   0  77.077144   0   0   1   2   0   90.241462  31.783996   1\n",
      "1      1   0  72.924646   0   0   1   1   0  239.368314  26.363218   2\n",
      "2      1   0  59.791739   0   0   1   0   0  114.769089  33.900173   1\n",
      "3      1   0  62.456899   0   0   1   0   0  108.000209  24.823272   0\n",
      "4      0   1   7.000000   0   0   0   3   1   87.940000  19.500000   0\n",
      "...   ..  ..        ...  ..  ..  ..  ..  ..         ...        ...  ..\n",
      "1699   1   0  69.211216   0   0   0   1   0   94.638531  23.088662   2\n",
      "1700   1   0  76.055728   1   0   1   2   0  194.674832  27.055728   1\n",
      "1701   1   0  46.000000   0   0   1   1   1   78.180000  30.800000   2\n",
      "1702   0   1  47.000000   0   0   1   1   0   57.760000  33.200000   3\n",
      "1703   1   0  81.000000   0   0   0   1   0   72.486187  25.329852   2\n",
      "[1704 rows x 11 columns]\n",
      "INFO:root:'_input_model_extracted/__models_info__.json' file could not be found.\n",
      "INFO:root:Beginning training\n",
      "/opt/conda/lib/python3.8/site-packages/lightgbm/engine.py:181: UserWarning: 'early_stopping_rounds' argument is deprecated and will be removed in a future release of LightGBM. Pass 'early_stopping()' callback via 'callbacks' argument instead.\n",
      "  _log_warning(\"'early_stopping_rounds' argument is deprecated and will be removed in a future release of LightGBM. \"\n",
      "[LightGBM] [Warning] boosting is set=gbdt, boosting_type=gbdt will be ignored. Current value: boosting=gbdt\n",
      "[LightGBM] [Warning] boosting is set=gbdt, boosting_type=gbdt will be ignored. Current value: boosting=gbdt\n",
      "[LightGBM] [Info] Number of positive: 3401, number of negative: 3414\n",
      "[LightGBM] [Warning] Auto-choosing row-wise multi-threading, the overhead of testing was 0.000384 seconds.\n",
      "You can set `force_row_wise=true` to remove the overhead.\n",
      "And if memory is not enough, you can set `force_col_wise=true`.\n",
      "[LightGBM] [Info] Total Bins 783\n",
      "[LightGBM] [Info] Number of data points in the train set: 6815, number of used features: 10\n",
      "[LightGBM] [Warning] boosting is set=gbdt, boosting_type=gbdt will be ignored. Current value: boosting=gbdt\n",
      "[LightGBM] [Info] [binary:BoostFromScore]: pavg=0.499046 -> initscore=-0.003815\n",
      "[LightGBM] [Info] Start training from score -0.003815\n",
      "[1]#011train's binary_logloss: 0.689703#011val's binary_logloss: 0.690058\n",
      "Training until validation scores don't improve for 30 rounds\n",
      "[2]#011train's binary_logloss: 0.686835#011val's binary_logloss: 0.687504\n",
      "[3]#011train's binary_logloss: 0.682064#011val's binary_logloss: 0.682704\n",
      "[4]#011train's binary_logloss: 0.677163#011val's binary_logloss: 0.678008\n",
      "[LightGBM] [Warning] No further splits with positive gain, best gain: -inf\n",
      "[5]#011train's binary_logloss: 0.675147#011val's binary_logloss: 0.676005\n",
      "[6]#011train's binary_logloss: 0.672702#011val's binary_logloss: 0.6737\n",
      "[7]#011train's binary_logloss: 0.667986#011val's binary_logloss: 0.668896\n",
      "[LightGBM] [Warning] No further splits with positive gain, best gain: -inf\n",
      "[8]#011train's binary_logloss: 0.665892#011val's binary_logloss: 0.666821\n",
      "[9]#011train's binary_logloss: 0.661408#011val's binary_logloss: 0.662216\n",
      "[10]#011train's binary_logloss: 0.656891#011val's binary_logloss: 0.657718\n",
      "[11]#011train's binary_logloss: 0.652458#011val's binary_logloss: 0.65323\n",
      "[12]#011train's binary_logloss: 0.648068#011val's binary_logloss: 0.649052\n",
      "[13]#011train's binary_logloss: 0.643424#011val's binary_logloss: 0.644524\n",
      "[14]#011train's binary_logloss: 0.638968#011val's binary_logloss: 0.640103\n",
      "[15]#011train's binary_logloss: 0.634692#011val's binary_logloss: 0.635811\n",
      "[16]#011train's binary_logloss: 0.63054#011val's binary_logloss: 0.631816\n",
      "[17]#011train's binary_logloss: 0.627685#011val's binary_logloss: 0.629278\n",
      "[18]#011train's binary_logloss: 0.624904#011val's binary_logloss: 0.626825\n",
      "[19]#011train's binary_logloss: 0.621243#011val's binary_logloss: 0.62306\n",
      "[20]#011train's binary_logloss: 0.617613#011val's binary_logloss: 0.619376\n",
      "[21]#011train's binary_logloss: 0.613921#011val's binary_logloss: 0.615703\n",
      "[22]#011train's binary_logloss: 0.610121#011val's binary_logloss: 0.611993\n",
      "[23]#011train's binary_logloss: 0.606541#011val's binary_logloss: 0.608484\n",
      "[24]#011train's binary_logloss: 0.603021#011val's binary_logloss: 0.60494\n",
      "[25]#011train's binary_logloss: 0.599299#011val's binary_logloss: 0.601295\n",
      "[26]#011train's binary_logloss: 0.595631#011val's binary_logloss: 0.597726\n",
      "[27]#011train's binary_logloss: 0.592103#011val's binary_logloss: 0.59429\n",
      "[28]#011train's binary_logloss: 0.58844#011val's binary_logloss: 0.59081\n",
      "[29]#011train's binary_logloss: 0.585029#011val's binary_logloss: 0.587554\n",
      "[30]#011train's binary_logloss: 0.581422#011val's binary_logloss: 0.584048\n",
      "[31]#011train's binary_logloss: 0.57793#011val's binary_logloss: 0.580704\n",
      "[32]#011train's binary_logloss: 0.574813#011val's binary_logloss: 0.577515\n",
      "[33]#011train's binary_logloss: 0.571455#011val's binary_logloss: 0.574302\n",
      "[34]#011train's binary_logloss: 0.568109#011val's binary_logloss: 0.571096\n",
      "[35]#011train's binary_logloss: 0.564788#011val's binary_logloss: 0.568033\n",
      "[36]#011train's binary_logloss: 0.561347#011val's binary_logloss: 0.564799\n",
      "[37]#011train's binary_logloss: 0.558206#011val's binary_logloss: 0.561735\n",
      "[38]#011train's binary_logloss: 0.555127#011val's binary_logloss: 0.558736\n",
      "[39]#011train's binary_logloss: 0.551898#011val's binary_logloss: 0.555565\n",
      "[40]#011train's binary_logloss: 0.548914#011val's binary_logloss: 0.552686\n",
      "[41]#011train's binary_logloss: 0.546904#011val's binary_logloss: 0.550862\n",
      "[42]#011train's binary_logloss: 0.544625#011val's binary_logloss: 0.548801\n",
      "[43]#011train's binary_logloss: 0.541751#011val's binary_logloss: 0.545971\n",
      "[44]#011train's binary_logloss: 0.53879#011val's binary_logloss: 0.543094\n",
      "[45]#011train's binary_logloss: 0.536475#011val's binary_logloss: 0.540909\n",
      "[46]#011train's binary_logloss: 0.533643#011val's binary_logloss: 0.538125\n",
      "[47]#011train's binary_logloss: 0.531569#011val's binary_logloss: 0.536246\n",
      "[48]#011train's binary_logloss: 0.528749#011val's binary_logloss: 0.533459\n",
      "[49]#011train's binary_logloss: 0.526094#011val's binary_logloss: 0.530868\n",
      "[50]#011train's binary_logloss: 0.524499#011val's binary_logloss: 0.529359\n",
      "[51]#011train's binary_logloss: 0.52167#011val's binary_logloss: 0.526522\n",
      "[52]#011train's binary_logloss: 0.518877#011val's binary_logloss: 0.523862\n",
      "[53]#011train's binary_logloss: 0.516345#011val's binary_logloss: 0.521415\n",
      "[54]#011train's binary_logloss: 0.514314#011val's binary_logloss: 0.519666\n",
      "[55]#011train's binary_logloss: 0.512598#011val's binary_logloss: 0.518088\n",
      "[56]#011train's binary_logloss: 0.509725#011val's binary_logloss: 0.515304\n",
      "[57]#011train's binary_logloss: 0.507115#011val's binary_logloss: 0.512709\n",
      "[58]#011train's binary_logloss: 0.50444#011val's binary_logloss: 0.510186\n",
      "[59]#011train's binary_logloss: 0.502005#011val's binary_logloss: 0.507732\n",
      "[60]#011train's binary_logloss: 0.499294#011val's binary_logloss: 0.505128\n",
      "[61]#011train's binary_logloss: 0.497861#011val's binary_logloss: 0.503888\n",
      "[62]#011train's binary_logloss: 0.49535#011val's binary_logloss: 0.501445\n",
      "[63]#011train's binary_logloss: 0.49384#011val's binary_logloss: 0.50011\n",
      "[64]#011train's binary_logloss: 0.491602#011val's binary_logloss: 0.497917\n",
      "[65]#011train's binary_logloss: 0.489801#011val's binary_logloss: 0.496285\n",
      "[66]#011train's binary_logloss: 0.488171#011val's binary_logloss: 0.494855\n",
      "[67]#011train's binary_logloss: 0.486934#011val's binary_logloss: 0.493762\n",
      "[68]#011train's binary_logloss: 0.485485#011val's binary_logloss: 0.492509\n",
      "[69]#011train's binary_logloss: 0.483455#011val's binary_logloss: 0.490416\n",
      "[70]#011train's binary_logloss: 0.480989#011val's binary_logloss: 0.488033\n",
      "[71]#011train's binary_logloss: 0.478754#011val's binary_logloss: 0.485844\n",
      "[72]#011train's binary_logloss: 0.476432#011val's binary_logloss: 0.48353\n",
      "[73]#011train's binary_logloss: 0.474922#011val's binary_logloss: 0.482231\n",
      "[74]#011train's binary_logloss: 0.472614#011val's binary_logloss: 0.479976\n",
      "[75]#011train's binary_logloss: 0.470339#011val's binary_logloss: 0.477758\n",
      "[76]#011train's binary_logloss: 0.468049#011val's binary_logloss: 0.475573\n",
      "[77]#011train's binary_logloss: 0.465771#011val's binary_logloss: 0.473482\n",
      "[78]#011train's binary_logloss: 0.463514#011val's binary_logloss: 0.47141\n",
      "[79]#011train's binary_logloss: 0.461313#011val's binary_logloss: 0.469373\n",
      "[80]#011train's binary_logloss: 0.459282#011val's binary_logloss: 0.467425\n",
      "[81]#011train's binary_logloss: 0.457179#011val's binary_logloss: 0.465452\n",
      "[82]#011train's binary_logloss: 0.455122#011val's binary_logloss: 0.463586\n",
      "[83]#011train's binary_logloss: 0.453745#011val's binary_logloss: 0.462423\n",
      "[84]#011train's binary_logloss: 0.451777#011val's binary_logloss: 0.460599\n",
      "[85]#011train's binary_logloss: 0.449714#011val's binary_logloss: 0.458679\n",
      "[86]#011train's binary_logloss: 0.448308#011val's binary_logloss: 0.457478\n",
      "[87]#011train's binary_logloss: 0.446378#011val's binary_logloss: 0.455573\n",
      "[88]#011train's binary_logloss: 0.44437#011val's binary_logloss: 0.453559\n",
      "[89]#011train's binary_logloss: 0.4423#011val's binary_logloss: 0.451642\n",
      "[90]#011train's binary_logloss: 0.440379#011val's binary_logloss: 0.449839\n",
      "[91]#011train's binary_logloss: 0.439#011val's binary_logloss: 0.448533\n",
      "[92]#011train's binary_logloss: 0.437238#011val's binary_logloss: 0.446804\n",
      "[93]#011train's binary_logloss: 0.435864#011val's binary_logloss: 0.445497\n",
      "[94]#011train's binary_logloss: 0.433926#011val's binary_logloss: 0.443707\n",
      "[95]#011train's binary_logloss: 0.432146#011val's binary_logloss: 0.442044\n",
      "[96]#011train's binary_logloss: 0.430885#011val's binary_logloss: 0.44095\n",
      "[97]#011train's binary_logloss: 0.429662#011val's binary_logloss: 0.43987\n",
      "[98]#011train's binary_logloss: 0.42881#011val's binary_logloss: 0.439111\n",
      "[99]#011train's binary_logloss: 0.426952#011val's binary_logloss: 0.437257\n",
      "[100]#011train's binary_logloss: 0.425734#011val's binary_logloss: 0.436255\n",
      "[101]#011train's binary_logloss: 0.424921#011val's binary_logloss: 0.435528\n",
      "[102]#011train's binary_logloss: 0.42403#011val's binary_logloss: 0.43477\n",
      "[103]#011train's binary_logloss: 0.422962#011val's binary_logloss: 0.433849\n",
      "[104]#011train's binary_logloss: 0.421157#011val's binary_logloss: 0.432111\n",
      "[105]#011train's binary_logloss: 0.419389#011val's binary_logloss: 0.430394\n",
      "[106]#011train's binary_logloss: 0.417786#011val's binary_logloss: 0.428762\n",
      "[107]#011train's binary_logloss: 0.416497#011val's binary_logloss: 0.427573\n",
      "[108]#011train's binary_logloss: 0.414708#011val's binary_logloss: 0.42589\n",
      "[109]#011train's binary_logloss: 0.412915#011val's binary_logloss: 0.424202\n",
      "[110]#011train's binary_logloss: 0.411385#011val's binary_logloss: 0.422786\n",
      "[111]#011train's binary_logloss: 0.409654#011val's binary_logloss: 0.421081\n",
      "[112]#011train's binary_logloss: 0.407991#011val's binary_logloss: 0.419493\n",
      "[113]#011train's binary_logloss: 0.406502#011val's binary_logloss: 0.418052\n",
      "[114]#011train's binary_logloss: 0.4049#011val's binary_logloss: 0.416503\n",
      "[115]#011train's binary_logloss: 0.403293#011val's binary_logloss: 0.414968\n",
      "[116]#011train's binary_logloss: 0.401857#011val's binary_logloss: 0.413522\n",
      "[117]#011train's binary_logloss: 0.400328#011val's binary_logloss: 0.412002\n",
      "[118]#011train's binary_logloss: 0.398861#011val's binary_logloss: 0.410573\n",
      "[119]#011train's binary_logloss: 0.397293#011val's binary_logloss: 0.409048\n",
      "[120]#011train's binary_logloss: 0.39584#011val's binary_logloss: 0.40758\n",
      "[121]#011train's binary_logloss: 0.394246#011val's binary_logloss: 0.406094\n",
      "[122]#011train's binary_logloss: 0.392599#011val's binary_logloss: 0.404579\n",
      "[123]#011train's binary_logloss: 0.391032#011val's binary_logloss: 0.403137\n",
      "[124]#011train's binary_logloss: 0.389443#011val's binary_logloss: 0.401715\n",
      "[125]#011train's binary_logloss: 0.387853#011val's binary_logloss: 0.400181\n",
      "[126]#011train's binary_logloss: 0.386445#011val's binary_logloss: 0.398859\n",
      "[127]#011train's binary_logloss: 0.38495#011val's binary_logloss: 0.397488\n",
      "[128]#011train's binary_logloss: 0.383505#011val's binary_logloss: 0.396201\n",
      "[129]#011train's binary_logloss: 0.382181#011val's binary_logloss: 0.394908\n",
      "[130]#011train's binary_logloss: 0.381189#011val's binary_logloss: 0.393999\n",
      "[131]#011train's binary_logloss: 0.379831#011val's binary_logloss: 0.392739\n",
      "[132]#011train's binary_logloss: 0.378418#011val's binary_logloss: 0.391359\n",
      "[133]#011train's binary_logloss: 0.377102#011val's binary_logloss: 0.390095\n",
      "[134]#011train's binary_logloss: 0.375699#011val's binary_logloss: 0.388677\n",
      "[135]#011train's binary_logloss: 0.374682#011val's binary_logloss: 0.387726\n",
      "[136]#011train's binary_logloss: 0.374017#011val's binary_logloss: 0.387226\n",
      "[137]#011train's binary_logloss: 0.372793#011val's binary_logloss: 0.386039\n",
      "[138]#011train's binary_logloss: 0.371608#011val's binary_logloss: 0.384899\n",
      "[139]#011train's binary_logloss: 0.370319#011val's binary_logloss: 0.383595\n",
      "[140]#011train's binary_logloss: 0.369061#011val's binary_logloss: 0.382355\n",
      "[141]#011train's binary_logloss: 0.367706#011val's binary_logloss: 0.381129\n",
      "[142]#011train's binary_logloss: 0.366377#011val's binary_logloss: 0.379872\n",
      "[143]#011train's binary_logloss: 0.365013#011val's binary_logloss: 0.378733\n",
      "[144]#011train's binary_logloss: 0.363719#011val's binary_logloss: 0.377538\n",
      "[145]#011train's binary_logloss: 0.362307#011val's binary_logloss: 0.376303\n",
      "[146]#011train's binary_logloss: 0.361118#011val's binary_logloss: 0.375196\n",
      "[147]#011train's binary_logloss: 0.359848#011val's binary_logloss: 0.374007\n",
      "[148]#011train's binary_logloss: 0.358574#011val's binary_logloss: 0.372796\n",
      "[149]#011train's binary_logloss: 0.357318#011val's binary_logloss: 0.371626\n",
      "[150]#011train's binary_logloss: 0.356374#011val's binary_logloss: 0.370754\n",
      "[151]#011train's binary_logloss: 0.355078#011val's binary_logloss: 0.369566\n",
      "[152]#011train's binary_logloss: 0.353867#011val's binary_logloss: 0.368415\n",
      "[153]#011train's binary_logloss: 0.352665#011val's binary_logloss: 0.367204\n",
      "[154]#011train's binary_logloss: 0.35183#011val's binary_logloss: 0.366482\n",
      "[155]#011train's binary_logloss: 0.350891#011val's binary_logloss: 0.365645\n",
      "[156]#011train's binary_logloss: 0.349984#011val's binary_logloss: 0.364827\n",
      "[157]#011train's binary_logloss: 0.349071#011val's binary_logloss: 0.364046\n",
      "[158]#011train's binary_logloss: 0.347908#011val's binary_logloss: 0.362887\n",
      "[159]#011train's binary_logloss: 0.346799#011val's binary_logloss: 0.361815\n",
      "[160]#011train's binary_logloss: 0.345619#011val's binary_logloss: 0.360669\n",
      "[161]#011train's binary_logloss: 0.344371#011val's binary_logloss: 0.359542\n",
      "[162]#011train's binary_logloss: 0.343348#011val's binary_logloss: 0.358585\n",
      "[163]#011train's binary_logloss: 0.342125#011val's binary_logloss: 0.357478\n",
      "[164]#011train's binary_logloss: 0.341396#011val's binary_logloss: 0.356838\n",
      "[165]#011train's binary_logloss: 0.340506#011val's binary_logloss: 0.356083\n",
      "[166]#011train's binary_logloss: 0.339392#011val's binary_logloss: 0.355024\n",
      "[167]#011train's binary_logloss: 0.338349#011val's binary_logloss: 0.353967\n",
      "[168]#011train's binary_logloss: 0.33719#011val's binary_logloss: 0.352934\n",
      "[169]#011train's binary_logloss: 0.336022#011val's binary_logloss: 0.3519\n",
      "[170]#011train's binary_logloss: 0.335016#011val's binary_logloss: 0.350927\n",
      "[171]#011train's binary_logloss: 0.333946#011val's binary_logloss: 0.34992\n",
      "[172]#011train's binary_logloss: 0.332805#011val's binary_logloss: 0.348857\n",
      "[173]#011train's binary_logloss: 0.331668#011val's binary_logloss: 0.347809\n",
      "[174]#011train's binary_logloss: 0.330846#011val's binary_logloss: 0.347145\n",
      "[175]#011train's binary_logloss: 0.329883#011val's binary_logloss: 0.346212\n",
      "[176]#011train's binary_logloss: 0.328802#011val's binary_logloss: 0.3452\n",
      "[177]#011train's binary_logloss: 0.327967#011val's binary_logloss: 0.344365\n",
      "[178]#011train's binary_logloss: 0.327061#011val's binary_logloss: 0.343551\n",
      "[179]#011train's binary_logloss: 0.326242#011val's binary_logloss: 0.34292\n",
      "[180]#011train's binary_logloss: 0.325315#011val's binary_logloss: 0.342056\n",
      "[181]#011train's binary_logloss: 0.324462#011val's binary_logloss: 0.341365\n",
      "[182]#011train's binary_logloss: 0.32353#011val's binary_logloss: 0.340485\n",
      "[183]#011train's binary_logloss: 0.322546#011val's binary_logloss: 0.339648\n",
      "[184]#011train's binary_logloss: 0.321629#011val's binary_logloss: 0.338817\n",
      "[185]#011train's binary_logloss: 0.320672#011val's binary_logloss: 0.337944\n",
      "[186]#011train's binary_logloss: 0.320157#011val's binary_logloss: 0.337509\n",
      "[187]#011train's binary_logloss: 0.319481#011val's binary_logloss: 0.336997\n",
      "[188]#011train's binary_logloss: 0.318975#011val's binary_logloss: 0.33658\n",
      "[189]#011train's binary_logloss: 0.318063#011val's binary_logloss: 0.335696\n",
      "[190]#011train's binary_logloss: 0.317253#011val's binary_logloss: 0.335021\n",
      "[191]#011train's binary_logloss: 0.31634#011val's binary_logloss: 0.334146\n",
      "[192]#011train's binary_logloss: 0.31539#011val's binary_logloss: 0.333298\n",
      "[193]#011train's binary_logloss: 0.314499#011val's binary_logloss: 0.332415\n",
      "[194]#011train's binary_logloss: 0.313589#011val's binary_logloss: 0.331512\n",
      "[195]#011train's binary_logloss: 0.313128#011val's binary_logloss: 0.331103\n",
      "[196]#011train's binary_logloss: 0.312376#011val's binary_logloss: 0.33037\n",
      "[197]#011train's binary_logloss: 0.311549#011val's binary_logloss: 0.329545\n",
      "[198]#011train's binary_logloss: 0.310898#011val's binary_logloss: 0.328987\n",
      "[199]#011train's binary_logloss: 0.310009#011val's binary_logloss: 0.328128\n",
      "[200]#011train's binary_logloss: 0.309414#011val's binary_logloss: 0.327617\n",
      "[201]#011train's binary_logloss: 0.308546#011val's binary_logloss: 0.326818\n",
      "[202]#011train's binary_logloss: 0.307922#011val's binary_logloss: 0.32633\n",
      "[203]#011train's binary_logloss: 0.307124#011val's binary_logloss: 0.325587\n",
      "[204]#011train's binary_logloss: 0.306446#011val's binary_logloss: 0.325071\n",
      "[205]#011train's binary_logloss: 0.305619#011val's binary_logloss: 0.324374\n",
      "[206]#011train's binary_logloss: 0.304819#011val's binary_logloss: 0.323706\n",
      "[207]#011train's binary_logloss: 0.303838#011val's binary_logloss: 0.32282\n",
      "[208]#011train's binary_logloss: 0.302875#011val's binary_logloss: 0.321929\n",
      "[209]#011train's binary_logloss: 0.301891#011val's binary_logloss: 0.321025\n",
      "[210]#011train's binary_logloss: 0.301304#011val's binary_logloss: 0.320562\n",
      "[211]#011train's binary_logloss: 0.300623#011val's binary_logloss: 0.31999\n",
      "[212]#011train's binary_logloss: 0.299824#011val's binary_logloss: 0.319317\n",
      "[213]#011train's binary_logloss: 0.298971#011val's binary_logloss: 0.318655\n",
      "[214]#011train's binary_logloss: 0.298137#011val's binary_logloss: 0.317969\n",
      "[215]#011train's binary_logloss: 0.297352#011val's binary_logloss: 0.317228\n",
      "[216]#011train's binary_logloss: 0.296609#011val's binary_logloss: 0.316513\n",
      "[217]#011train's binary_logloss: 0.295849#011val's binary_logloss: 0.315833\n",
      "[218]#011train's binary_logloss: 0.295087#011val's binary_logloss: 0.315148\n",
      "[219]#011train's binary_logloss: 0.294412#011val's binary_logloss: 0.314496\n",
      "[220]#011train's binary_logloss: 0.293623#011val's binary_logloss: 0.313725\n",
      "[221]#011train's binary_logloss: 0.292942#011val's binary_logloss: 0.313056\n",
      "[222]#011train's binary_logloss: 0.292315#011val's binary_logloss: 0.312466\n",
      "[223]#011train's binary_logloss: 0.291511#011val's binary_logloss: 0.311688\n",
      "[224]#011train's binary_logloss: 0.290627#011val's binary_logloss: 0.310877\n",
      "[225]#011train's binary_logloss: 0.289882#011val's binary_logloss: 0.310158\n",
      "[226]#011train's binary_logloss: 0.28919#011val's binary_logloss: 0.309492\n",
      "[227]#011train's binary_logloss: 0.288544#011val's binary_logloss: 0.308969\n",
      "[228]#011train's binary_logloss: 0.28804#011val's binary_logloss: 0.308554\n",
      "[229]#011train's binary_logloss: 0.287276#011val's binary_logloss: 0.307853\n",
      "[230]#011train's binary_logloss: 0.286667#011val's binary_logloss: 0.307208\n",
      "[231]#011train's binary_logloss: 0.286293#011val's binary_logloss: 0.30698\n",
      "[232]#011train's binary_logloss: 0.285619#011val's binary_logloss: 0.306437\n",
      "[233]#011train's binary_logloss: 0.285021#011val's binary_logloss: 0.305825\n",
      "[234]#011train's binary_logloss: 0.284208#011val's binary_logloss: 0.305076\n",
      "[235]#011train's binary_logloss: 0.283491#011val's binary_logloss: 0.304429\n",
      "[236]#011train's binary_logloss: 0.282739#011val's binary_logloss: 0.303688\n",
      "[237]#011train's binary_logloss: 0.281983#011val's binary_logloss: 0.302984\n",
      "[238]#011train's binary_logloss: 0.281395#011val's binary_logloss: 0.302428\n",
      "[239]#011train's binary_logloss: 0.280749#011val's binary_logloss: 0.301837\n",
      "[240]#011train's binary_logloss: 0.280164#011val's binary_logloss: 0.301272\n",
      "[241]#011train's binary_logloss: 0.279741#011val's binary_logloss: 0.300988\n",
      "[242]#011train's binary_logloss: 0.279223#011val's binary_logloss: 0.30065\n",
      "[243]#011train's binary_logloss: 0.278677#011val's binary_logloss: 0.300161\n",
      "[244]#011train's binary_logloss: 0.277955#011val's binary_logloss: 0.299461\n",
      "[245]#011train's binary_logloss: 0.277305#011val's binary_logloss: 0.298834\n",
      "[246]#011train's binary_logloss: 0.276688#011val's binary_logloss: 0.298374\n",
      "[247]#011train's binary_logloss: 0.276112#011val's binary_logloss: 0.297895\n",
      "[248]#011train's binary_logloss: 0.275556#011val's binary_logloss: 0.297502\n",
      "[249]#011train's binary_logloss: 0.275085#011val's binary_logloss: 0.297082\n",
      "[250]#011train's binary_logloss: 0.274507#011val's binary_logloss: 0.296622\n",
      "[251]#011train's binary_logloss: 0.273975#011val's binary_logloss: 0.296162\n",
      "[252]#011train's binary_logloss: 0.273235#011val's binary_logloss: 0.29547\n",
      "[253]#011train's binary_logloss: 0.27271#011val's binary_logloss: 0.295075\n",
      "[254]#011train's binary_logloss: 0.271883#011val's binary_logloss: 0.294353\n",
      "[255]#011train's binary_logloss: 0.27107#011val's binary_logloss: 0.293659\n",
      "[256]#011train's binary_logloss: 0.270527#011val's binary_logloss: 0.293094\n",
      "[257]#011train's binary_logloss: 0.270169#011val's binary_logloss: 0.29288\n",
      "[258]#011train's binary_logloss: 0.269421#011val's binary_logloss: 0.292149\n",
      "[259]#011train's binary_logloss: 0.268717#011val's binary_logloss: 0.291554\n",
      "[260]#011train's binary_logloss: 0.268222#011val's binary_logloss: 0.291163\n",
      "[261]#011train's binary_logloss: 0.267597#011val's binary_logloss: 0.290637\n",
      "[262]#011train's binary_logloss: 0.267006#011val's binary_logloss: 0.290118\n",
      "[263]#011train's binary_logloss: 0.266436#011val's binary_logloss: 0.289654\n",
      "[264]#011train's binary_logloss: 0.265912#011val's binary_logloss: 0.289189\n",
      "[265]#011train's binary_logloss: 0.265265#011val's binary_logloss: 0.288612\n",
      "[266]#011train's binary_logloss: 0.264543#011val's binary_logloss: 0.287976\n",
      "[267]#011train's binary_logloss: 0.264084#011val's binary_logloss: 0.287553\n",
      "[268]#011train's binary_logloss: 0.263546#011val's binary_logloss: 0.287032\n",
      "[269]#011train's binary_logloss: 0.262875#011val's binary_logloss: 0.286461\n",
      "[270]#011train's binary_logloss: 0.262168#011val's binary_logloss: 0.285873\n",
      "[271]#011train's binary_logloss: 0.261661#011val's binary_logloss: 0.285348\n",
      "[272]#011train's binary_logloss: 0.261123#011val's binary_logloss: 0.284937\n",
      "[273]#011train's binary_logloss: 0.260588#011val's binary_logloss: 0.284528\n",
      "[274]#011train's binary_logloss: 0.259946#011val's binary_logloss: 0.283886\n",
      "[275]#011train's binary_logloss: 0.259649#011val's binary_logloss: 0.283716\n",
      "[276]#011train's binary_logloss: 0.258995#011val's binary_logloss: 0.283163\n",
      "[277]#011train's binary_logloss: 0.258564#011val's binary_logloss: 0.282819\n",
      "[278]#011train's binary_logloss: 0.257955#011val's binary_logloss: 0.282275\n",
      "[279]#011train's binary_logloss: 0.257476#011val's binary_logloss: 0.28193\n",
      "[280]#011train's binary_logloss: 0.257029#011val's binary_logloss: 0.281623\n",
      "[281]#011train's binary_logloss: 0.256508#011val's binary_logloss: 0.281267\n",
      "[282]#011train's binary_logloss: 0.255978#011val's binary_logloss: 0.280823\n",
      "[283]#011train's binary_logloss: 0.255363#011val's binary_logloss: 0.280254\n",
      "[284]#011train's binary_logloss: 0.254852#011val's binary_logloss: 0.279937\n",
      "[285]#011train's binary_logloss: 0.254358#011val's binary_logloss: 0.279531\n",
      "[286]#011train's binary_logloss: 0.253744#011val's binary_logloss: 0.278944\n",
      "[287]#011train's binary_logloss: 0.253135#011val's binary_logloss: 0.278361\n",
      "[288]#011train's binary_logloss: 0.252697#011val's binary_logloss: 0.277997\n",
      "[289]#011train's binary_logloss: 0.252065#011val's binary_logloss: 0.277407\n",
      "[290]#011train's binary_logloss: 0.251569#011val's binary_logloss: 0.27706\n",
      "[291]#011train's binary_logloss: 0.251119#011val's binary_logloss: 0.276628\n",
      "[292]#011train's binary_logloss: 0.250624#011val's binary_logloss: 0.2762\n",
      "[293]#011train's binary_logloss: 0.250163#011val's binary_logloss: 0.275793\n",
      "[294]#011train's binary_logloss: 0.249538#011val's binary_logloss: 0.27521\n",
      "[295]#011train's binary_logloss: 0.249082#011val's binary_logloss: 0.274857\n",
      "[296]#011train's binary_logloss: 0.248469#011val's binary_logloss: 0.274318\n",
      "[297]#011train's binary_logloss: 0.247856#011val's binary_logloss: 0.273782\n",
      "[LightGBM] [Warning] No further splits with positive gain, best gain: -inf\n",
      "[298]#011train's binary_logloss: 0.247681#011val's binary_logloss: 0.273611\n",
      "[299]#011train's binary_logloss: 0.24705#011val's binary_logloss: 0.273063\n",
      "[300]#011train's binary_logloss: 0.246448#011val's binary_logloss: 0.27254\n",
      "[301]#011train's binary_logloss: 0.246067#011val's binary_logloss: 0.272264\n",
      "[302]#011train's binary_logloss: 0.24546#011val's binary_logloss: 0.271726\n",
      "[303]#011train's binary_logloss: 0.244875#011val's binary_logloss: 0.271171\n",
      "[304]#011train's binary_logloss: 0.244444#011val's binary_logloss: 0.270855\n",
      "[305]#011train's binary_logloss: 0.243796#011val's binary_logloss: 0.2703\n",
      "[306]#011train's binary_logloss: 0.243184#011val's binary_logloss: 0.269803\n",
      "[307]#011train's binary_logloss: 0.242708#011val's binary_logloss: 0.269337\n",
      "[LightGBM] [Warning] No further splits with positive gain, best gain: -inf\n",
      "[308]#011train's binary_logloss: 0.242168#011val's binary_logloss: 0.268851\n",
      "[LightGBM] [Warning] No further splits with positive gain, best gain: -inf\n",
      "[309]#011train's binary_logloss: 0.241668#011val's binary_logloss: 0.268337\n",
      "[310]#011train's binary_logloss: 0.241125#011val's binary_logloss: 0.267836\n",
      "[311]#011train's binary_logloss: 0.2407#011val's binary_logloss: 0.267565\n",
      "[312]#011train's binary_logloss: 0.240286#011val's binary_logloss: 0.267346\n",
      "[313]#011train's binary_logloss: 0.23981#011val's binary_logloss: 0.266967\n",
      "[314]#011train's binary_logloss: 0.239395#011val's binary_logloss: 0.2667\n",
      "[315]#011train's binary_logloss: 0.238837#011val's binary_logloss: 0.266212\n",
      "[316]#011train's binary_logloss: 0.238423#011val's binary_logloss: 0.265881\n",
      "[317]#011train's binary_logloss: 0.238116#011val's binary_logloss: 0.265663\n",
      "[318]#011train's binary_logloss: 0.237626#011val's binary_logloss: 0.265337\n",
      "[LightGBM] [Warning] No further splits with positive gain, best gain: -inf\n",
      "[319]#011train's binary_logloss: 0.237476#011val's binary_logloss: 0.265196\n",
      "[320]#011train's binary_logloss: 0.236975#011val's binary_logloss: 0.264741\n",
      "[321]#011train's binary_logloss: 0.236478#011val's binary_logloss: 0.26425\n",
      "[322]#011train's binary_logloss: 0.23605#011val's binary_logloss: 0.263858\n",
      "[323]#011train's binary_logloss: 0.235519#011val's binary_logloss: 0.263393\n",
      "[324]#011train's binary_logloss: 0.235006#011val's binary_logloss: 0.262931\n",
      "[325]#011train's binary_logloss: 0.234676#011val's binary_logloss: 0.26268\n",
      "[326]#011train's binary_logloss: 0.234224#011val's binary_logloss: 0.262294\n",
      "[327]#011train's binary_logloss: 0.233851#011val's binary_logloss: 0.262058\n",
      "[328]#011train's binary_logloss: 0.233369#011val's binary_logloss: 0.26172\n",
      "[329]#011train's binary_logloss: 0.232991#011val's binary_logloss: 0.261415\n",
      "[LightGBM] [Warning] No further splits with positive gain, best gain: -inf\n",
      "[330]#011train's binary_logloss: 0.232644#011val's binary_logloss: 0.26111\n",
      "[331]#011train's binary_logloss: 0.232149#011val's binary_logloss: 0.260665\n",
      "[332]#011train's binary_logloss: 0.23179#011val's binary_logloss: 0.260324\n",
      "[333]#011train's binary_logloss: 0.231261#011val's binary_logloss: 0.259984\n",
      "[334]#011train's binary_logloss: 0.230905#011val's binary_logloss: 0.259684\n",
      "[335]#011train's binary_logloss: 0.230379#011val's binary_logloss: 0.259239\n",
      "[336]#011train's binary_logloss: 0.229953#011val's binary_logloss: 0.25888\n",
      "[337]#011train's binary_logloss: 0.22957#011val's binary_logloss: 0.258607\n",
      "[338]#011train's binary_logloss: 0.229201#011val's binary_logloss: 0.258335\n",
      "[339]#011train's binary_logloss: 0.228871#011val's binary_logloss: 0.258086\n",
      "[340]#011train's binary_logloss: 0.228406#011val's binary_logloss: 0.257755\n",
      "[LightGBM] [Warning] No further splits with positive gain, best gain: -inf\n",
      "[341]#011train's binary_logloss: 0.228062#011val's binary_logloss: 0.257503\n",
      "[342]#011train's binary_logloss: 0.227643#011val's binary_logloss: 0.25705\n",
      "[343]#011train's binary_logloss: 0.227272#011val's binary_logloss: 0.25682\n",
      "[344]#011train's binary_logloss: 0.226892#011val's binary_logloss: 0.256587\n",
      "[345]#011train's binary_logloss: 0.226474#011val's binary_logloss: 0.256214\n",
      "[346]#011train's binary_logloss: 0.226089#011val's binary_logloss: 0.255861\n",
      "[347]#011train's binary_logloss: 0.225723#011val's binary_logloss: 0.25564\n",
      "[348]#011train's binary_logloss: 0.22535#011val's binary_logloss: 0.25532\n",
      "[349]#011train's binary_logloss: 0.224994#011val's binary_logloss: 0.255007\n",
      "[350]#011train's binary_logloss: 0.224657#011val's binary_logloss: 0.254809\n",
      "[351]#011train's binary_logloss: 0.224341#011val's binary_logloss: 0.254605\n",
      "[352]#011train's binary_logloss: 0.223858#011val's binary_logloss: 0.254194\n",
      "[353]#011train's binary_logloss: 0.223346#011val's binary_logloss: 0.253765\n",
      "[354]#011train's binary_logloss: 0.222856#011val's binary_logloss: 0.253315\n",
      "[355]#011train's binary_logloss: 0.22246#011val's binary_logloss: 0.253052\n",
      "[356]#011train's binary_logloss: 0.222167#011val's binary_logloss: 0.25278\n",
      "[357]#011train's binary_logloss: 0.221852#011val's binary_logloss: 0.252558\n",
      "[358]#011train's binary_logloss: 0.221382#011val's binary_logloss: 0.25213\n",
      "[359]#011train's binary_logloss: 0.221101#011val's binary_logloss: 0.251869\n",
      "[360]#011train's binary_logloss: 0.220665#011val's binary_logloss: 0.251474\n",
      "[361]#011train's binary_logloss: 0.220167#011val's binary_logloss: 0.251148\n",
      "[362]#011train's binary_logloss: 0.219745#011val's binary_logloss: 0.250772\n",
      "[363]#011train's binary_logloss: 0.219445#011val's binary_logloss: 0.250545\n",
      "[364]#011train's binary_logloss: 0.219099#011val's binary_logloss: 0.250252\n",
      "[365]#011train's binary_logloss: 0.21879#011val's binary_logloss: 0.25006\n",
      "[LightGBM] [Warning] No further splits with positive gain, best gain: -inf\n",
      "[366]#011train's binary_logloss: 0.218597#011val's binary_logloss: 0.24996\n",
      "[367]#011train's binary_logloss: 0.218145#011val's binary_logloss: 0.249681\n",
      "[368]#011train's binary_logloss: 0.217714#011val's binary_logloss: 0.249289\n",
      "[369]#011train's binary_logloss: 0.217242#011val's binary_logloss: 0.248913\n",
      "[370]#011train's binary_logloss: 0.216845#011val's binary_logloss: 0.248621\n",
      "[371]#011train's binary_logloss: 0.216324#011val's binary_logloss: 0.248224\n",
      "[372]#011train's binary_logloss: 0.215946#011val's binary_logloss: 0.247954\n",
      "[LightGBM] [Warning] No further splits with positive gain, best gain: -inf\n",
      "[373]#011train's binary_logloss: 0.215706#011val's binary_logloss: 0.247795\n",
      "[LightGBM] [Warning] No further splits with positive gain, best gain: -inf\n",
      "[374]#011train's binary_logloss: 0.21545#011val's binary_logloss: 0.247677\n",
      "[LightGBM] [Warning] No further splits with positive gain, best gain: -inf\n",
      "[375]#011train's binary_logloss: 0.2152#011val's binary_logloss: 0.247508\n",
      "[376]#011train's binary_logloss: 0.214797#011val's binary_logloss: 0.247192\n",
      "[377]#011train's binary_logloss: 0.214358#011val's binary_logloss: 0.246831\n",
      "[378]#011train's binary_logloss: 0.21397#011val's binary_logloss: 0.246465\n",
      "[379]#011train's binary_logloss: 0.213824#011val's binary_logloss: 0.246401\n",
      "[380]#011train's binary_logloss: 0.213378#011val's binary_logloss: 0.246077\n",
      "[381]#011train's binary_logloss: 0.213144#011val's binary_logloss: 0.245921\n",
      "[382]#011train's binary_logloss: 0.212763#011val's binary_logloss: 0.245615\n",
      "[LightGBM] [Warning] No further splits with positive gain, best gain: -inf\n",
      "[383]#011train's binary_logloss: 0.212586#011val's binary_logloss: 0.245496\n",
      "[384]#011train's binary_logloss: 0.21231#011val's binary_logloss: 0.245328\n",
      "[385]#011train's binary_logloss: 0.211974#011val's binary_logloss: 0.244982\n",
      "[386]#011train's binary_logloss: 0.211616#011val's binary_logloss: 0.244661\n",
      "[LightGBM] [Warning] No further splits with positive gain, best gain: -inf\n",
      "[387]#011train's binary_logloss: 0.211397#011val's binary_logloss: 0.244482\n",
      "[388]#011train's binary_logloss: 0.211044#011val's binary_logloss: 0.244155\n",
      "[LightGBM] [Warning] No further splits with positive gain, best gain: -inf\n",
      "[389]#011train's binary_logloss: 0.210825#011val's binary_logloss: 0.24398\n",
      "[390]#011train's binary_logloss: 0.210482#011val's binary_logloss: 0.243673\n",
      "[391]#011train's binary_logloss: 0.210224#011val's binary_logloss: 0.243506\n",
      "[392]#011train's binary_logloss: 0.209993#011val's binary_logloss: 0.243379\n",
      "[393]#011train's binary_logloss: 0.209622#011val's binary_logloss: 0.243082\n",
      "[394]#011train's binary_logloss: 0.209309#011val's binary_logloss: 0.24286\n",
      "[395]#011train's binary_logloss: 0.209037#011val's binary_logloss: 0.242661\n",
      "[396]#011train's binary_logloss: 0.208671#011val's binary_logloss: 0.242407\n",
      "[397]#011train's binary_logloss: 0.208275#011val's binary_logloss: 0.24205\n",
      "[398]#011train's binary_logloss: 0.207888#011val's binary_logloss: 0.241707\n",
      "[399]#011train's binary_logloss: 0.207554#011val's binary_logloss: 0.241506\n",
      "[400]#011train's binary_logloss: 0.207162#011val's binary_logloss: 0.241108\n",
      "[401]#011train's binary_logloss: 0.206917#011val's binary_logloss: 0.240938\n",
      "[402]#011train's binary_logloss: 0.206628#011val's binary_logloss: 0.240714\n",
      "[403]#011train's binary_logloss: 0.206229#011val's binary_logloss: 0.240344\n",
      "[LightGBM] [Warning] No further splits with positive gain, best gain: -inf\n",
      "[404]#011train's binary_logloss: 0.20603#011val's binary_logloss: 0.240221\n",
      "[405]#011train's binary_logloss: 0.20576#011val's binary_logloss: 0.239994\n",
      "[406]#011train's binary_logloss: 0.205358#011val's binary_logloss: 0.239718\n",
      "[407]#011train's binary_logloss: 0.204989#011val's binary_logloss: 0.239485\n",
      "[408]#011train's binary_logloss: 0.204665#011val's binary_logloss: 0.239225\n",
      "[409]#011train's binary_logloss: 0.204343#011val's binary_logloss: 0.239025\n",
      "[410]#011train's binary_logloss: 0.203965#011val's binary_logloss: 0.238698\n",
      "[411]#011train's binary_logloss: 0.203532#011val's binary_logloss: 0.238296\n",
      "[412]#011train's binary_logloss: 0.203255#011val's binary_logloss: 0.238096\n",
      "[413]#011train's binary_logloss: 0.202979#011val's binary_logloss: 0.237907\n",
      "[LightGBM] [Warning] No further splits with positive gain, best gain: -inf\n",
      "[414]#011train's binary_logloss: 0.202737#011val's binary_logloss: 0.237751\n",
      "[LightGBM] [Warning] No further splits with positive gain, best gain: -inf\n",
      "[415]#011train's binary_logloss: 0.202522#011val's binary_logloss: 0.237567\n",
      "[LightGBM] [Warning] No further splits with positive gain, best gain: -inf\n",
      "[416]#011train's binary_logloss: 0.202294#011val's binary_logloss: 0.23744\n",
      "[417]#011train's binary_logloss: 0.201945#011val's binary_logloss: 0.237074\n",
      "[418]#011train's binary_logloss: 0.201622#011val's binary_logloss: 0.236888\n",
      "[419]#011train's binary_logloss: 0.20129#011val's binary_logloss: 0.23657\n",
      "[420]#011train's binary_logloss: 0.200922#011val's binary_logloss: 0.236261\n",
      "[421]#011train's binary_logloss: 0.200603#011val's binary_logloss: 0.236043\n",
      "[422]#011train's binary_logloss: 0.200149#011val's binary_logloss: 0.23567\n",
      "[423]#011train's binary_logloss: 0.199713#011val's binary_logloss: 0.235313\n",
      "[424]#011train's binary_logloss: 0.199308#011val's binary_logloss: 0.234934\n",
      "[425]#011train's binary_logloss: 0.198938#011val's binary_logloss: 0.234534\n",
      "[426]#011train's binary_logloss: 0.198626#011val's binary_logloss: 0.234222\n",
      "[427]#011train's binary_logloss: 0.198331#011val's binary_logloss: 0.234025\n",
      "[428]#011train's binary_logloss: 0.198058#011val's binary_logloss: 0.233721\n",
      "[429]#011train's binary_logloss: 0.197787#011val's binary_logloss: 0.233506\n",
      "[430]#011train's binary_logloss: 0.197481#011val's binary_logloss: 0.233221\n",
      "[431]#011train's binary_logloss: 0.197195#011val's binary_logloss: 0.233058\n",
      "[432]#011train's binary_logloss: 0.196927#011val's binary_logloss: 0.232802\n",
      "[433]#011train's binary_logloss: 0.196669#011val's binary_logloss: 0.232555\n",
      "[434]#011train's binary_logloss: 0.196417#011val's binary_logloss: 0.232354\n",
      "[435]#011train's binary_logloss: 0.195984#011val's binary_logloss: 0.23202\n",
      "[LightGBM] [Warning] No further splits with positive gain, best gain: -inf\n",
      "[436]#011train's binary_logloss: 0.195617#011val's binary_logloss: 0.231641\n",
      "[437]#011train's binary_logloss: 0.195441#011val's binary_logloss: 0.231541\n",
      "[LightGBM] [Warning] No further splits with positive gain, best gain: -inf\n",
      "[438]#011train's binary_logloss: 0.195047#011val's binary_logloss: 0.231107\n",
      "[439]#011train's binary_logloss: 0.194685#011val's binary_logloss: 0.230819\n",
      "[440]#011train's binary_logloss: 0.19442#011val's binary_logloss: 0.230634\n",
      "[441]#011train's binary_logloss: 0.19412#011val's binary_logloss: 0.230405\n",
      "[LightGBM] [Warning] No further splits with positive gain, best gain: -inf\n",
      "[442]#011train's binary_logloss: 0.193881#011val's binary_logloss: 0.230215\n",
      "[443]#011train's binary_logloss: 0.193604#011val's binary_logloss: 0.230019\n",
      "[444]#011train's binary_logloss: 0.193334#011val's binary_logloss: 0.229792\n",
      "[445]#011train's binary_logloss: 0.193043#011val's binary_logloss: 0.229581\n",
      "[446]#011train's binary_logloss: 0.192759#011val's binary_logloss: 0.229451\n",
      "[LightGBM] [Warning] No further splits with positive gain, best gain: -inf\n",
      "[447]#011train's binary_logloss: 0.192392#011val's binary_logloss: 0.229056\n",
      "[LightGBM] [Warning] No further splits with positive gain, best gain: -inf\n",
      "[448]#011train's binary_logloss: 0.19201#011val's binary_logloss: 0.228628\n",
      "[LightGBM] [Warning] No further splits with positive gain, best gain: -inf\n",
      "[449]#011train's binary_logloss: 0.191634#011val's binary_logloss: 0.228176\n",
      "[450]#011train's binary_logloss: 0.191313#011val's binary_logloss: 0.227939\n",
      "[451]#011train's binary_logloss: 0.191042#011val's binary_logloss: 0.227745\n",
      "[452]#011train's binary_logloss: 0.190739#011val's binary_logloss: 0.227475\n",
      "[453]#011train's binary_logloss: 0.19046#011val's binary_logloss: 0.22721\n",
      "[454]#011train's binary_logloss: 0.190203#011val's binary_logloss: 0.227028\n",
      "[LightGBM] [Warning] No further splits with positive gain, best gain: -inf\n",
      "[455]#011train's binary_logloss: 0.189946#011val's binary_logloss: 0.226735\n",
      "[456]#011train's binary_logloss: 0.189551#011val's binary_logloss: 0.226502\n",
      "[457]#011train's binary_logloss: 0.18918#011val's binary_logloss: 0.226295\n",
      "[LightGBM] [Warning] No further splits with positive gain, best gain: -inf\n",
      "[458]#011train's binary_logloss: 0.188951#011val's binary_logloss: 0.226179\n",
      "[459]#011train's binary_logloss: 0.188641#011val's binary_logloss: 0.225943\n",
      "[460]#011train's binary_logloss: 0.188435#011val's binary_logloss: 0.225759\n",
      "[461]#011train's binary_logloss: 0.188109#011val's binary_logloss: 0.225499\n",
      "[462]#011train's binary_logloss: 0.187791#011val's binary_logloss: 0.225241\n",
      "[463]#011train's binary_logloss: 0.187429#011val's binary_logloss: 0.225007\n",
      "[464]#011train's binary_logloss: 0.18711#011val's binary_logloss: 0.224799\n",
      "[465]#011train's binary_logloss: 0.186877#011val's binary_logloss: 0.224617\n",
      "[466]#011train's binary_logloss: 0.186498#011val's binary_logloss: 0.224244\n",
      "[467]#011train's binary_logloss: 0.186137#011val's binary_logloss: 0.223955\n",
      "[LightGBM] [Warning] No further splits with positive gain, best gain: -inf\n",
      "[468]#011train's binary_logloss: 0.18586#011val's binary_logloss: 0.223699\n",
      "[469]#011train's binary_logloss: 0.18548#011val's binary_logloss: 0.223297\n",
      "[470]#011train's binary_logloss: 0.185194#011val's binary_logloss: 0.223012\n",
      "[471]#011train's binary_logloss: 0.184933#011val's binary_logloss: 0.222922\n",
      "[472]#011train's binary_logloss: 0.184666#011val's binary_logloss: 0.222771\n",
      "[473]#011train's binary_logloss: 0.184427#011val's binary_logloss: 0.222635\n",
      "[LightGBM] [Warning] No further splits with positive gain, best gain: -inf\n",
      "[474]#011train's binary_logloss: 0.184201#011val's binary_logloss: 0.222496\n",
      "[475]#011train's binary_logloss: 0.183937#011val's binary_logloss: 0.222359\n",
      "[476]#011train's binary_logloss: 0.18368#011val's binary_logloss: 0.222257\n",
      "[LightGBM] [Warning] No further splits with positive gain, best gain: -inf\n",
      "[477]#011train's binary_logloss: 0.183486#011val's binary_logloss: 0.222059\n",
      "[478]#011train's binary_logloss: 0.18314#011val's binary_logloss: 0.22177\n",
      "[479]#011train's binary_logloss: 0.182999#011val's binary_logloss: 0.221761\n",
      "[480]#011train's binary_logloss: 0.182746#011val's binary_logloss: 0.221552\n",
      "[481]#011train's binary_logloss: 0.182468#011val's binary_logloss: 0.221372\n",
      "[LightGBM] [Warning] No further splits with positive gain, best gain: -inf\n",
      "[482]#011train's binary_logloss: 0.182211#011val's binary_logloss: 0.221161\n",
      "[LightGBM] [Warning] No further splits with positive gain, best gain: -inf\n",
      "[483]#011train's binary_logloss: 0.181978#011val's binary_logloss: 0.220985\n",
      "[LightGBM] [Warning] No further splits with positive gain, best gain: -inf\n",
      "[484]#011train's binary_logloss: 0.181787#011val's binary_logloss: 0.220842\n",
      "[LightGBM] [Warning] No further splits with positive gain, best gain: -inf\n",
      "[485]#011train's binary_logloss: 0.181599#011val's binary_logloss: 0.220679\n",
      "[486]#011train's binary_logloss: 0.181319#011val's binary_logloss: 0.220446\n",
      "[LightGBM] [Warning] No further splits with positive gain, best gain: -inf\n",
      "[487]#011train's binary_logloss: 0.180989#011val's binary_logloss: 0.220223\n",
      "[LightGBM] [Warning] No further splits with positive gain, best gain: -inf\n",
      "[488]#011train's binary_logloss: 0.180658#011val's binary_logloss: 0.21994\n",
      "[LightGBM] [Warning] No further splits with positive gain, best gain: -inf\n",
      "[489]#011train's binary_logloss: 0.180311#011val's binary_logloss: 0.219635\n",
      "[LightGBM] [Warning] No further splits with positive gain, best gain: -inf\n",
      "[490]#011train's binary_logloss: 0.180015#011val's binary_logloss: 0.219333\n",
      "[491]#011train's binary_logloss: 0.179761#011val's binary_logloss: 0.219153\n",
      "[492]#011train's binary_logloss: 0.179585#011val's binary_logloss: 0.219045\n",
      "[493]#011train's binary_logloss: 0.179339#011val's binary_logloss: 0.218873\n",
      "[LightGBM] [Warning] No further splits with positive gain, best gain: -inf\n",
      "[494]#011train's binary_logloss: 0.179153#011val's binary_logloss: 0.218725\n",
      "[495]#011train's binary_logloss: 0.178873#011val's binary_logloss: 0.218548\n",
      "[496]#011train's binary_logloss: 0.178645#011val's binary_logloss: 0.218394\n",
      "[LightGBM] [Warning] No further splits with positive gain, best gain: -inf\n",
      "[497]#011train's binary_logloss: 0.1785#011val's binary_logloss: 0.218329\n",
      "[498]#011train's binary_logloss: 0.178292#011val's binary_logloss: 0.218129\n",
      "[499]#011train's binary_logloss: 0.178089#011val's binary_logloss: 0.217972\n",
      "[500]#011train's binary_logloss: 0.177889#011val's binary_logloss: 0.217753\n",
      "[501]#011train's binary_logloss: 0.177639#011val's binary_logloss: 0.217611\n",
      "[LightGBM] [Warning] No further splits with positive gain, best gain: -inf\n",
      "[502]#011train's binary_logloss: 0.177469#011val's binary_logloss: 0.217443\n",
      "[503]#011train's binary_logloss: 0.177281#011val's binary_logloss: 0.217351\n",
      "[504]#011train's binary_logloss: 0.177049#011val's binary_logloss: 0.217236\n",
      "[505]#011train's binary_logloss: 0.176865#011val's binary_logloss: 0.21717\n",
      "[LightGBM] [Warning] No further splits with positive gain, best gain: -inf\n",
      "[506]#011train's binary_logloss: 0.176688#011val's binary_logloss: 0.217003\n",
      "[LightGBM] [Warning] No further splits with positive gain, best gain: -inf\n",
      "[507]#011train's binary_logloss: 0.17646#011val's binary_logloss: 0.216776\n",
      "[508]#011train's binary_logloss: 0.176259#011val's binary_logloss: 0.216634\n",
      "[LightGBM] [Warning] No further splits with positive gain, best gain: -inf\n",
      "[509]#011train's binary_logloss: 0.176126#011val's binary_logloss: 0.21649\n",
      "[510]#011train's binary_logloss: 0.175905#011val's binary_logloss: 0.216323\n",
      "[LightGBM] [Warning] No further splits with positive gain, best gain: -inf\n",
      "[511]#011train's binary_logloss: 0.175753#011val's binary_logloss: 0.216266\n",
      "[512]#011train's binary_logloss: 0.175593#011val's binary_logloss: 0.216182\n",
      "[513]#011train's binary_logloss: 0.175374#011val's binary_logloss: 0.216047\n",
      "[514]#011train's binary_logloss: 0.175194#011val's binary_logloss: 0.215919\n",
      "[515]#011train's binary_logloss: 0.17497#011val's binary_logloss: 0.215693\n",
      "[516]#011train's binary_logloss: 0.174721#011val's binary_logloss: 0.215495\n",
      "[517]#011train's binary_logloss: 0.174452#011val's binary_logloss: 0.215284\n",
      "[518]#011train's binary_logloss: 0.174249#011val's binary_logloss: 0.215167\n",
      "[519]#011train's binary_logloss: 0.173959#011val's binary_logloss: 0.214941\n",
      "[520]#011train's binary_logloss: 0.173734#011val's binary_logloss: 0.214843\n",
      "[521]#011train's binary_logloss: 0.173477#011val's binary_logloss: 0.214565\n",
      "[LightGBM] [Warning] No further splits with positive gain, best gain: -inf\n",
      "[522]#011train's binary_logloss: 0.173301#011val's binary_logloss: 0.214433\n",
      "[LightGBM] [Warning] No further splits with positive gain, best gain: -inf\n",
      "[523]#011train's binary_logloss: 0.173164#011val's binary_logloss: 0.214352\n",
      "[LightGBM] [Warning] No further splits with positive gain, best gain: -inf\n",
      "[524]#011train's binary_logloss: 0.173008#011val's binary_logloss: 0.214267\n",
      "[LightGBM] [Warning] No further splits with positive gain, best gain: -inf\n",
      "[525]#011train's binary_logloss: 0.172863#011val's binary_logloss: 0.214135\n",
      "[526]#011train's binary_logloss: 0.172594#011val's binary_logloss: 0.213965\n",
      "[527]#011train's binary_logloss: 0.17239#011val's binary_logloss: 0.213754\n",
      "[528]#011train's binary_logloss: 0.172178#011val's binary_logloss: 0.213631\n",
      "[529]#011train's binary_logloss: 0.171848#011val's binary_logloss: 0.21344\n",
      "[530]#011train's binary_logloss: 0.171635#011val's binary_logloss: 0.213337\n",
      "[531]#011train's binary_logloss: 0.17146#011val's binary_logloss: 0.213234\n",
      "[LightGBM] [Warning] No further splits with positive gain, best gain: -inf\n",
      "[532]#011train's binary_logloss: 0.171201#011val's binary_logloss: 0.212967\n",
      "[LightGBM] [Warning] No further splits with positive gain, best gain: -inf\n",
      "[533]#011train's binary_logloss: 0.171029#011val's binary_logloss: 0.212801\n",
      "[534]#011train's binary_logloss: 0.170806#011val's binary_logloss: 0.212579\n",
      "[LightGBM] [Warning] No further splits with positive gain, best gain: -inf\n",
      "[535]#011train's binary_logloss: 0.170601#011val's binary_logloss: 0.212413\n",
      "[536]#011train's binary_logloss: 0.170376#011val's binary_logloss: 0.212214\n",
      "[537]#011train's binary_logloss: 0.170168#011val's binary_logloss: 0.212041\n",
      "[LightGBM] [Warning] No further splits with positive gain, best gain: -inf\n",
      "[538]#011train's binary_logloss: 0.169957#011val's binary_logloss: 0.211849\n",
      "[LightGBM] [Warning] No further splits with positive gain, best gain: -inf\n",
      "[539]#011train's binary_logloss: 0.169804#011val's binary_logloss: 0.21175\n",
      "[LightGBM] [Warning] No further splits with positive gain, best gain: -inf\n",
      "[540]#011train's binary_logloss: 0.169643#011val's binary_logloss: 0.21166\n",
      "[541]#011train's binary_logloss: 0.169414#011val's binary_logloss: 0.211476\n",
      "[542]#011train's binary_logloss: 0.169149#011val's binary_logloss: 0.211315\n",
      "[543]#011train's binary_logloss: 0.168875#011val's binary_logloss: 0.211051\n",
      "[LightGBM] [Warning] No further splits with positive gain, best gain: -inf\n",
      "[544]#011train's binary_logloss: 0.168635#011val's binary_logloss: 0.2108\n",
      "[545]#011train's binary_logloss: 0.168465#011val's binary_logloss: 0.210704\n",
      "[546]#011train's binary_logloss: 0.168203#011val's binary_logloss: 0.210547\n",
      "[547]#011train's binary_logloss: 0.167991#011val's binary_logloss: 0.210431\n",
      "[LightGBM] [Warning] No further splits with positive gain, best gain: -inf\n",
      "[548]#011train's binary_logloss: 0.167857#011val's binary_logloss: 0.210377\n",
      "[549]#011train's binary_logloss: 0.167678#011val's binary_logloss: 0.210288\n",
      "[LightGBM] [Warning] No further splits with positive gain, best gain: -inf\n",
      "[550]#011train's binary_logloss: 0.167498#011val's binary_logloss: 0.210233\n",
      "[LightGBM] [Warning] No further splits with positive gain, best gain: -inf\n",
      "[551]#011train's binary_logloss: 0.167268#011val's binary_logloss: 0.209986\n",
      "[LightGBM] [Warning] No further splits with positive gain, best gain: -inf\n",
      "[552]#011train's binary_logloss: 0.167104#011val's binary_logloss: 0.209862\n",
      "[LightGBM] [Warning] No further splits with positive gain, best gain: -inf\n",
      "[553]#011train's binary_logloss: 0.166956#011val's binary_logloss: 0.209728\n",
      "[LightGBM] [Warning] No further splits with positive gain, best gain: -inf\n",
      "[554]#011train's binary_logloss: 0.166778#011val's binary_logloss: 0.209633\n",
      "[LightGBM] [Warning] No further splits with positive gain, best gain: -inf\n",
      "[555]#011train's binary_logloss: 0.1666#011val's binary_logloss: 0.209469\n",
      "[556]#011train's binary_logloss: 0.166298#011val's binary_logloss: 0.209199\n",
      "[557]#011train's binary_logloss: 0.166123#011val's binary_logloss: 0.209085\n",
      "[558]#011train's binary_logloss: 0.16581#011val's binary_logloss: 0.208902\n",
      "[559]#011train's binary_logloss: 0.165489#011val's binary_logloss: 0.208644\n",
      "[560]#011train's binary_logloss: 0.165367#011val's binary_logloss: 0.208615\n",
      "[561]#011train's binary_logloss: 0.165172#011val's binary_logloss: 0.208511\n",
      "[LightGBM] [Warning] No further splits with positive gain, best gain: -inf\n",
      "[562]#011train's binary_logloss: 0.165006#011val's binary_logloss: 0.208452\n",
      "[563]#011train's binary_logloss: 0.164778#011val's binary_logloss: 0.208278\n",
      "[564]#011train's binary_logloss: 0.164649#011val's binary_logloss: 0.208257\n",
      "[LightGBM] [Warning] No further splits with positive gain, best gain: -inf\n",
      "[565]#011train's binary_logloss: 0.164505#011val's binary_logloss: 0.208138\n",
      "[566]#011train's binary_logloss: 0.164314#011val's binary_logloss: 0.20802\n",
      "[567]#011train's binary_logloss: 0.164126#011val's binary_logloss: 0.207925\n",
      "[568]#011train's binary_logloss: 0.163936#011val's binary_logloss: 0.207751\n",
      "[LightGBM] [Warning] No further splits with positive gain, best gain: -inf\n",
      "[569]#011train's binary_logloss: 0.163805#011val's binary_logloss: 0.207644\n",
      "[570]#011train's binary_logloss: 0.163539#011val's binary_logloss: 0.20749\n",
      "[571]#011train's binary_logloss: 0.163294#011val's binary_logloss: 0.207329\n",
      "[572]#011train's binary_logloss: 0.163112#011val's binary_logloss: 0.207223\n",
      "[573]#011train's binary_logloss: 0.162868#011val's binary_logloss: 0.20705\n",
      "[574]#011train's binary_logloss: 0.162664#011val's binary_logloss: 0.206934\n",
      "[575]#011train's binary_logloss: 0.162414#011val's binary_logloss: 0.206797\n",
      "[LightGBM] [Warning] No further splits with positive gain, best gain: -inf\n",
      "[576]#011train's binary_logloss: 0.162256#011val's binary_logloss: 0.206716\n",
      "[577]#011train's binary_logloss: 0.162102#011val's binary_logloss: 0.206682\n",
      "[LightGBM] [Warning] No further splits with positive gain, best gain: -inf\n",
      "[578]#011train's binary_logloss: 0.16195#011val's binary_logloss: 0.206603\n",
      "[LightGBM] [Warning] No further splits with positive gain, best gain: -inf\n",
      "[579]#011train's binary_logloss: 0.161791#011val's binary_logloss: 0.206522\n",
      "[580]#011train's binary_logloss: 0.161601#011val's binary_logloss: 0.206413\n",
      "[LightGBM] [Warning] No further splits with positive gain, best gain: -inf\n",
      "[581]#011train's binary_logloss: 0.161414#011val's binary_logloss: 0.206236\n",
      "[LightGBM] [Warning] No further splits with positive gain, best gain: -inf\n",
      "[582]#011train's binary_logloss: 0.161236#011val's binary_logloss: 0.206146\n",
      "[LightGBM] [Warning] No further splits with positive gain, best gain: -inf\n",
      "[583]#011train's binary_logloss: 0.161051#011val's binary_logloss: 0.205962\n",
      "[LightGBM] [Warning] No further splits with positive gain, best gain: -inf\n",
      "[584]#011train's binary_logloss: 0.160861#011val's binary_logloss: 0.205792\n",
      "[585]#011train's binary_logloss: 0.16065#011val's binary_logloss: 0.205657\n",
      "[586]#011train's binary_logloss: 0.160504#011val's binary_logloss: 0.205592\n",
      "[587]#011train's binary_logloss: 0.160266#011val's binary_logloss: 0.205451\n",
      "[588]#011train's binary_logloss: 0.160013#011val's binary_logloss: 0.205272\n",
      "[589]#011train's binary_logloss: 0.15987#011val's binary_logloss: 0.205202\n",
      "[590]#011train's binary_logloss: 0.159597#011val's binary_logloss: 0.204967\n",
      "[LightGBM] [Warning] No further splits with positive gain, best gain: -inf\n",
      "[591]#011train's binary_logloss: 0.15943#011val's binary_logloss: 0.20476\n",
      "[LightGBM] [Warning] No further splits with positive gain, best gain: -inf\n",
      "[592]#011train's binary_logloss: 0.159326#011val's binary_logloss: 0.204712\n",
      "[LightGBM] [Warning] No further splits with positive gain, best gain: -inf\n",
      "[593]#011train's binary_logloss: 0.159205#011val's binary_logloss: 0.204648\n",
      "[LightGBM] [Warning] No further splits with positive gain, best gain: -inf\n",
      "[594]#011train's binary_logloss: 0.159147#011val's binary_logloss: 0.204621\n",
      "[LightGBM] [Warning] No further splits with positive gain, best gain: -inf\n",
      "[595]#011train's binary_logloss: 0.159018#011val's binary_logloss: 0.204546\n",
      "[596]#011train's binary_logloss: 0.158766#011val's binary_logloss: 0.20438\n",
      "[597]#011train's binary_logloss: 0.158607#011val's binary_logloss: 0.204267\n",
      "[LightGBM] [Warning] No further splits with positive gain, best gain: -inf\n",
      "[598]#011train's binary_logloss: 0.158379#011val's binary_logloss: 0.204041\n",
      "[599]#011train's binary_logloss: 0.158131#011val's binary_logloss: 0.203847\n",
      "[600]#011train's binary_logloss: 0.157894#011val's binary_logloss: 0.203684\n",
      "[601]#011train's binary_logloss: 0.157654#011val's binary_logloss: 0.203579\n",
      "[LightGBM] [Warning] No further splits with positive gain, best gain: -inf\n",
      "[602]#011train's binary_logloss: 0.157524#011val's binary_logloss: 0.203496\n",
      "[603]#011train's binary_logloss: 0.157329#011val's binary_logloss: 0.203339\n",
      "[604]#011train's binary_logloss: 0.157159#011val's binary_logloss: 0.203265\n",
      "[605]#011train's binary_logloss: 0.156948#011val's binary_logloss: 0.203086\n",
      "[LightGBM] [Warning] No further splits with positive gain, best gain: -inf\n",
      "[606]#011train's binary_logloss: 0.156688#011val's binary_logloss: 0.202834\n",
      "[607]#011train's binary_logloss: 0.156491#011val's binary_logloss: 0.202741\n",
      "[608]#011train's binary_logloss: 0.156268#011val's binary_logloss: 0.202627\n",
      "[609]#011train's binary_logloss: 0.156083#011val's binary_logloss: 0.20248\n",
      "[610]#011train's binary_logloss: 0.155854#011val's binary_logloss: 0.202338\n",
      "[611]#011train's binary_logloss: 0.155559#011val's binary_logloss: 0.202087\n",
      "[LightGBM] [Warning] No further splits with positive gain, best gain: -inf\n",
      "[612]#011train's binary_logloss: 0.155305#011val's binary_logloss: 0.201852\n",
      "[LightGBM] [Warning] No further splits with positive gain, best gain: -inf\n",
      "[613]#011train's binary_logloss: 0.155213#011val's binary_logloss: 0.20179\n",
      "[614]#011train's binary_logloss: 0.155102#011val's binary_logloss: 0.201757\n",
      "[LightGBM] [Warning] No further splits with positive gain, best gain: -inf\n",
      "[615]#011train's binary_logloss: 0.15501#011val's binary_logloss: 0.201726\n",
      "[LightGBM] [Warning] No further splits with positive gain, best gain: -inf\n",
      "[616]#011train's binary_logloss: 0.154843#011val's binary_logloss: 0.201583\n",
      "[LightGBM] [Warning] No further splits with positive gain, best gain: -inf\n",
      "[617]#011train's binary_logloss: 0.154663#011val's binary_logloss: 0.201471\n",
      "[LightGBM] [Warning] No further splits with positive gain, best gain: -inf\n",
      "[618]#011train's binary_logloss: 0.154501#011val's binary_logloss: 0.201331\n",
      "[LightGBM] [Warning] No further splits with positive gain, best gain: -inf\n",
      "[619]#011train's binary_logloss: 0.15433#011val's binary_logloss: 0.201314\n",
      "[LightGBM] [Warning] No further splits with positive gain, best gain: -inf\n",
      "[620]#011train's binary_logloss: 0.154177#011val's binary_logloss: 0.201184\n",
      "[621]#011train's binary_logloss: 0.154052#011val's binary_logloss: 0.201121\n",
      "[622]#011train's binary_logloss: 0.153819#011val's binary_logloss: 0.200965\n",
      "[623]#011train's binary_logloss: 0.15359#011val's binary_logloss: 0.20081\n",
      "[624]#011train's binary_logloss: 0.15338#011val's binary_logloss: 0.200663\n",
      "[625]#011train's binary_logloss: 0.153174#011val's binary_logloss: 0.200532\n",
      "[626]#011train's binary_logloss: 0.153011#011val's binary_logloss: 0.200367\n",
      "[627]#011train's binary_logloss: 0.15285#011val's binary_logloss: 0.200204\n",
      "[628]#011train's binary_logloss: 0.15263#011val's binary_logloss: 0.200018\n",
      "[629]#011train's binary_logloss: 0.152413#011val's binary_logloss: 0.199837\n",
      "[630]#011train's binary_logloss: 0.152127#011val's binary_logloss: 0.199612\n",
      "[LightGBM] [Warning] No further splits with positive gain, best gain: -inf\n",
      "[631]#011train's binary_logloss: 0.151932#011val's binary_logloss: 0.199467\n",
      "[632]#011train's binary_logloss: 0.151664#011val's binary_logloss: 0.199257\n",
      "[633]#011train's binary_logloss: 0.151491#011val's binary_logloss: 0.199108\n",
      "[634]#011train's binary_logloss: 0.151288#011val's binary_logloss: 0.19898\n",
      "[LightGBM] [Warning] No further splits with positive gain, best gain: -inf\n",
      "[635]#011train's binary_logloss: 0.1511#011val's binary_logloss: 0.198828\n",
      "[636]#011train's binary_logloss: 0.150825#011val's binary_logloss: 0.198664\n",
      "[637]#011train's binary_logloss: 0.150561#011val's binary_logloss: 0.198517\n",
      "[638]#011train's binary_logloss: 0.150307#011val's binary_logloss: 0.198381\n",
      "[639]#011train's binary_logloss: 0.150106#011val's binary_logloss: 0.198239\n",
      "[640]#011train's binary_logloss: 0.149848#011val's binary_logloss: 0.1981\n",
      "[641]#011train's binary_logloss: 0.149692#011val's binary_logloss: 0.198038\n",
      "[642]#011train's binary_logloss: 0.149378#011val's binary_logloss: 0.19773\n",
      "[643]#011train's binary_logloss: 0.149133#011val's binary_logloss: 0.197494\n",
      "[644]#011train's binary_logloss: 0.148875#011val's binary_logloss: 0.197222\n",
      "[645]#011train's binary_logloss: 0.148663#011val's binary_logloss: 0.196969\n",
      "[LightGBM] [Warning] No further splits with positive gain, best gain: -inf\n",
      "[646]#011train's binary_logloss: 0.148476#011val's binary_logloss: 0.19687\n",
      "[LightGBM] [Warning] No further splits with positive gain, best gain: -inf\n",
      "[647]#011train's binary_logloss: 0.148304#011val's binary_logloss: 0.196749\n",
      "[LightGBM] [Warning] No further splits with positive gain, best gain: -inf\n",
      "[648]#011train's binary_logloss: 0.148135#011val's binary_logloss: 0.196656\n",
      "[649]#011train's binary_logloss: 0.147956#011val's binary_logloss: 0.196549\n",
      "[LightGBM] [Warning] No further splits with positive gain, best gain: -inf\n",
      "[650]#011train's binary_logloss: 0.147766#011val's binary_logloss: 0.19641\n",
      "[651]#011train's binary_logloss: 0.147648#011val's binary_logloss: 0.196361\n",
      "[LightGBM] [Warning] No further splits with positive gain, best gain: -inf\n",
      "[652]#011train's binary_logloss: 0.147536#011val's binary_logloss: 0.196325\n",
      "[LightGBM] [Warning] No further splits with positive gain, best gain: -inf\n",
      "[653]#011train's binary_logloss: 0.147327#011val's binary_logloss: 0.196085\n",
      "[LightGBM] [Warning] No further splits with positive gain, best gain: -inf\n",
      "[654]#011train's binary_logloss: 0.147142#011val's binary_logloss: 0.195871\n",
      "[655]#011train's binary_logloss: 0.147026#011val's binary_logloss: 0.195846\n",
      "[LightGBM] [Warning] No further splits with positive gain, best gain: -inf\n",
      "[656]#011train's binary_logloss: 0.146869#011val's binary_logloss: 0.195709\n",
      "[LightGBM] [Warning] No further splits with positive gain, best gain: -inf\n",
      "[657]#011train's binary_logloss: 0.146718#011val's binary_logloss: 0.195593\n",
      "[658]#011train's binary_logloss: 0.146504#011val's binary_logloss: 0.195515\n",
      "[LightGBM] [Warning] No further splits with positive gain, best gain: -inf\n",
      "[659]#011train's binary_logloss: 0.146352#011val's binary_logloss: 0.195392\n",
      "[660]#011train's binary_logloss: 0.146156#011val's binary_logloss: 0.195261\n",
      "[LightGBM] [Warning] No further splits with positive gain, best gain: -inf\n",
      "[661]#011train's binary_logloss: 0.146036#011val's binary_logloss: 0.195159\n",
      "[662]#011train's binary_logloss: 0.145928#011val's binary_logloss: 0.195095\n",
      "[LightGBM] [Warning] No further splits with positive gain, best gain: -inf\n",
      "[663]#011train's binary_logloss: 0.145801#011val's binary_logloss: 0.195017\n",
      "[LightGBM] [Warning] No further splits with positive gain, best gain: -inf\n",
      "[664]#011train's binary_logloss: 0.145695#011val's binary_logloss: 0.194966\n",
      "[LightGBM] [Warning] No further splits with positive gain, best gain: -inf\n",
      "[665]#011train's binary_logloss: 0.145576#011val's binary_logloss: 0.194866\n",
      "[666]#011train's binary_logloss: 0.145302#011val's binary_logloss: 0.194682\n",
      "[667]#011train's binary_logloss: 0.145049#011val's binary_logloss: 0.194521\n",
      "[LightGBM] [Warning] No further splits with positive gain, best gain: -inf\n",
      "[668]#011train's binary_logloss: 0.145001#011val's binary_logloss: 0.194513\n",
      "[669]#011train's binary_logloss: 0.144806#011val's binary_logloss: 0.194318\n",
      "[670]#011train's binary_logloss: 0.144542#011val's binary_logloss: 0.194143\n",
      "[LightGBM] [Warning] No further splits with positive gain, best gain: -inf\n",
      "[671]#011train's binary_logloss: 0.144403#011val's binary_logloss: 0.194013\n",
      "[LightGBM] [Warning] No further splits with positive gain, best gain: -inf\n",
      "[672]#011train's binary_logloss: 0.14434#011val's binary_logloss: 0.193972\n",
      "[LightGBM] [Warning] No further splits with positive gain, best gain: -inf\n",
      "[673]#011train's binary_logloss: 0.144213#011val's binary_logloss: 0.193869\n",
      "[LightGBM] [Warning] No further splits with positive gain, best gain: -inf\n",
      "[674]#011train's binary_logloss: 0.144084#011val's binary_logloss: 0.193817\n",
      "[LightGBM] [Warning] No further splits with positive gain, best gain: -inf\n",
      "[675]#011train's binary_logloss: 0.143951#011val's binary_logloss: 0.193692\n",
      "[676]#011train's binary_logloss: 0.143739#011val's binary_logloss: 0.193535\n",
      "[677]#011train's binary_logloss: 0.143525#011val's binary_logloss: 0.193353\n",
      "[678]#011train's binary_logloss: 0.143286#011val's binary_logloss: 0.193152\n",
      "[679]#011train's binary_logloss: 0.143106#011val's binary_logloss: 0.193036\n",
      "[680]#011train's binary_logloss: 0.142895#011val's binary_logloss: 0.192853\n",
      "[681]#011train's binary_logloss: 0.142644#011val's binary_logloss: 0.192631\n",
      "[682]#011train's binary_logloss: 0.14249#011val's binary_logloss: 0.192569\n",
      "[683]#011train's binary_logloss: 0.142314#011val's binary_logloss: 0.192422\n",
      "[684]#011train's binary_logloss: 0.142163#011val's binary_logloss: 0.192371\n",
      "[685]#011train's binary_logloss: 0.141962#011val's binary_logloss: 0.192258\n",
      "[686]#011train's binary_logloss: 0.141766#011val's binary_logloss: 0.192124\n",
      "[687]#011train's binary_logloss: 0.141653#011val's binary_logloss: 0.192022\n",
      "[LightGBM] [Warning] No further splits with positive gain, best gain: -inf\n",
      "[688]#011train's binary_logloss: 0.141521#011val's binary_logloss: 0.191884\n",
      "[LightGBM] [Warning] No further splits with positive gain, best gain: -inf\n",
      "[689]#011train's binary_logloss: 0.141392#011val's binary_logloss: 0.191748\n",
      "[LightGBM] [Warning] No further splits with positive gain, best gain: -inf\n",
      "[690]#011train's binary_logloss: 0.141325#011val's binary_logloss: 0.191749\n",
      "[LightGBM] [Warning] No further splits with positive gain, best gain: -inf\n",
      "[691]#011train's binary_logloss: 0.141129#011val's binary_logloss: 0.191533\n",
      "[LightGBM] [Warning] No further splits with positive gain, best gain: -inf\n",
      "[692]#011train's binary_logloss: 0.140981#011val's binary_logloss: 0.191416\n",
      "[693]#011train's binary_logloss: 0.140739#011val's binary_logloss: 0.191258\n",
      "[LightGBM] [Warning] No further splits with positive gain, best gain: -inf\n",
      "[694]#011train's binary_logloss: 0.140549#011val's binary_logloss: 0.191076\n",
      "[LightGBM] [Warning] No further splits with positive gain, best gain: -inf\n",
      "[695]#011train's binary_logloss: 0.140358#011val's binary_logloss: 0.19087\n",
      "[LightGBM] [Warning] No further splits with positive gain, best gain: -inf\n",
      "[696]#011train's binary_logloss: 0.140161#011val's binary_logloss: 0.190656\n",
      "[LightGBM] [Warning] No further splits with positive gain, best gain: -inf\n",
      "[697]#011train's binary_logloss: 0.139985#011val's binary_logloss: 0.190609\n",
      "[698]#011train's binary_logloss: 0.139743#011val's binary_logloss: 0.190345\n",
      "[LightGBM] [Warning] No further splits with positive gain, best gain: -inf\n",
      "[699]#011train's binary_logloss: 0.139538#011val's binary_logloss: 0.190139\n",
      "[700]#011train's binary_logloss: 0.139309#011val's binary_logloss: 0.189947\n",
      "[LightGBM] [Warning] No further splits with positive gain, best gain: -inf\n",
      "[701]#011train's binary_logloss: 0.139227#011val's binary_logloss: 0.189913\n",
      "[LightGBM] [Warning] No further splits with positive gain, best gain: -inf\n",
      "[702]#011train's binary_logloss: 0.139113#011val's binary_logloss: 0.189867\n",
      "[703]#011train's binary_logloss: 0.138947#011val's binary_logloss: 0.189776\n",
      "[LightGBM] [Warning] No further splits with positive gain, best gain: -inf\n",
      "[704]#011train's binary_logloss: 0.138817#011val's binary_logloss: 0.189743\n",
      "[705]#011train's binary_logloss: 0.138668#011val's binary_logloss: 0.189677\n",
      "[LightGBM] [Warning] No further splits with positive gain, best gain: -inf\n",
      "[706]#011train's binary_logloss: 0.138495#011val's binary_logloss: 0.189525\n",
      "[LightGBM] [Warning] No further splits with positive gain, best gain: -inf\n",
      "[707]#011train's binary_logloss: 0.13833#011val's binary_logloss: 0.189339\n",
      "[LightGBM] [Warning] No further splits with positive gain, best gain: -inf\n",
      "[708]#011train's binary_logloss: 0.13816#011val's binary_logloss: 0.189206\n",
      "[LightGBM] [Warning] No further splits with positive gain, best gain: -inf\n",
      "[709]#011train's binary_logloss: 0.138016#011val's binary_logloss: 0.189043\n",
      "[LightGBM] [Warning] No further splits with positive gain, best gain: -inf\n",
      "[710]#011train's binary_logloss: 0.137852#011val's binary_logloss: 0.188946\n",
      "[711]#011train's binary_logloss: 0.137696#011val's binary_logloss: 0.188866\n",
      "[712]#011train's binary_logloss: 0.137562#011val's binary_logloss: 0.188815\n",
      "[LightGBM] [Warning] No further splits with positive gain, best gain: -inf\n",
      "[713]#011train's binary_logloss: 0.1374#011val's binary_logloss: 0.188693\n",
      "[714]#011train's binary_logloss: 0.137181#011val's binary_logloss: 0.18853\n",
      "[715]#011train's binary_logloss: 0.136966#011val's binary_logloss: 0.18839\n",
      "[LightGBM] [Warning] No further splits with positive gain, best gain: -inf\n",
      "[716]#011train's binary_logloss: 0.136818#011val's binary_logloss: 0.188274\n",
      "[LightGBM] [Warning] No further splits with positive gain, best gain: -inf\n",
      "[717]#011train's binary_logloss: 0.136725#011val's binary_logloss: 0.188244\n",
      "[LightGBM] [Warning] No further splits with positive gain, best gain: -inf\n",
      "[718]#011train's binary_logloss: 0.136476#011val's binary_logloss: 0.188156\n",
      "[719]#011train's binary_logloss: 0.136319#011val's binary_logloss: 0.18808\n",
      "[720]#011train's binary_logloss: 0.13617#011val's binary_logloss: 0.18798\n",
      "[LightGBM] [Warning] No further splits with positive gain, best gain: -inf\n",
      "[721]#011train's binary_logloss: 0.136017#011val's binary_logloss: 0.187898\n",
      "[LightGBM] [Warning] No further splits with positive gain, best gain: -inf\n",
      "[722]#011train's binary_logloss: 0.135872#011val's binary_logloss: 0.187811\n",
      "[LightGBM] [Warning] No further splits with positive gain, best gain: -inf\n",
      "[723]#011train's binary_logloss: 0.135734#011val's binary_logloss: 0.187667\n",
      "[LightGBM] [Warning] No further splits with positive gain, best gain: -inf\n",
      "[724]#011train's binary_logloss: 0.135581#011val's binary_logloss: 0.187531\n",
      "[725]#011train's binary_logloss: 0.135383#011val's binary_logloss: 0.187403\n",
      "[LightGBM] [Warning] No further splits with positive gain, best gain: -inf\n",
      "[726]#011train's binary_logloss: 0.135228#011val's binary_logloss: 0.187236\n",
      "[LightGBM] [Warning] No further splits with positive gain, best gain: -inf\n",
      "[727]#011train's binary_logloss: 0.135076#011val's binary_logloss: 0.187071\n",
      "[728]#011train's binary_logloss: 0.13485#011val's binary_logloss: 0.186908\n",
      "[729]#011train's binary_logloss: 0.134701#011val's binary_logloss: 0.18683\n",
      "[730]#011train's binary_logloss: 0.134485#011val's binary_logloss: 0.18664\n",
      "[731]#011train's binary_logloss: 0.134295#011val's binary_logloss: 0.186521\n",
      "[LightGBM] [Warning] No further splits with positive gain, best gain: -inf\n",
      "[732]#011train's binary_logloss: 0.134233#011val's binary_logloss: 0.186485\n",
      "[LightGBM] [Warning] No further splits with positive gain, best gain: -inf\n",
      "[733]#011train's binary_logloss: 0.134108#011val's binary_logloss: 0.186399\n",
      "[734]#011train's binary_logloss: 0.133985#011val's binary_logloss: 0.186295\n",
      "[LightGBM] [Warning] No further splits with positive gain, best gain: -inf\n",
      "[735]#011train's binary_logloss: 0.133881#011val's binary_logloss: 0.18623\n",
      "[736]#011train's binary_logloss: 0.133738#011val's binary_logloss: 0.186221\n",
      "[737]#011train's binary_logloss: 0.133493#011val's binary_logloss: 0.186093\n",
      "[LightGBM] [Warning] No further splits with positive gain, best gain: -inf\n",
      "[738]#011train's binary_logloss: 0.133369#011val's binary_logloss: 0.185942\n",
      "[739]#011train's binary_logloss: 0.133163#011val's binary_logloss: 0.18582\n",
      "[740]#011train's binary_logloss: 0.13293#011val's binary_logloss: 0.185699\n",
      "[LightGBM] [Warning] No further splits with positive gain, best gain: -inf\n",
      "[741]#011train's binary_logloss: 0.132843#011val's binary_logloss: 0.185665\n",
      "[742]#011train's binary_logloss: 0.132657#011val's binary_logloss: 0.185592\n",
      "[LightGBM] [Warning] No further splits with positive gain, best gain: -inf\n",
      "[743]#011train's binary_logloss: 0.132513#011val's binary_logloss: 0.1855\n",
      "[744]#011train's binary_logloss: 0.132331#011val's binary_logloss: 0.185342\n",
      "[745]#011train's binary_logloss: 0.132133#011val's binary_logloss: 0.185247\n",
      "[LightGBM] [Warning] No further splits with positive gain, best gain: -inf\n",
      "[746]#011train's binary_logloss: 0.132028#011val's binary_logloss: 0.185153\n",
      "[LightGBM] [Warning] No further splits with positive gain, best gain: -inf\n",
      "[747]#011train's binary_logloss: 0.131793#011val's binary_logloss: 0.18484\n",
      "[LightGBM] [Warning] No further splits with positive gain, best gain: -inf\n",
      "[748]#011train's binary_logloss: 0.131561#011val's binary_logloss: 0.18453\n",
      "[LightGBM] [Warning] No further splits with positive gain, best gain: -inf\n",
      "[749]#011train's binary_logloss: 0.131442#011val's binary_logloss: 0.184406\n",
      "[LightGBM] [Warning] No further splits with positive gain, best gain: -inf\n",
      "[750]#011train's binary_logloss: 0.1313#011val's binary_logloss: 0.184248\n",
      "[751]#011train's binary_logloss: 0.131188#011val's binary_logloss: 0.184218\n",
      "[752]#011train's binary_logloss: 0.131057#011val's binary_logloss: 0.184167\n",
      "[753]#011train's binary_logloss: 0.130903#011val's binary_logloss: 0.184112\n",
      "[LightGBM] [Warning] No further splits with positive gain, best gain: -inf\n",
      "[754]#011train's binary_logloss: 0.130852#011val's binary_logloss: 0.184074\n",
      "[755]#011train's binary_logloss: 0.130707#011val's binary_logloss: 0.184008\n",
      "[LightGBM] [Warning] No further splits with positive gain, best gain: -inf\n",
      "[756]#011train's binary_logloss: 0.130591#011val's binary_logloss: 0.183881\n",
      "[LightGBM] [Warning] No further splits with positive gain, best gain: -inf\n",
      "[757]#011train's binary_logloss: 0.130475#011val's binary_logloss: 0.183855\n",
      "[LightGBM] [Warning] No further splits with positive gain, best gain: -inf\n",
      "[758]#011train's binary_logloss: 0.130357#011val's binary_logloss: 0.183735\n",
      "[LightGBM] [Warning] No further splits with positive gain, best gain: -inf\n",
      "[759]#011train's binary_logloss: 0.130241#011val's binary_logloss: 0.183566\n",
      "[LightGBM] [Warning] No further splits with positive gain, best gain: -inf\n",
      "[760]#011train's binary_logloss: 0.130129#011val's binary_logloss: 0.183543\n",
      "[LightGBM] [Warning] No further splits with positive gain, best gain: -inf\n",
      "[761]#011train's binary_logloss: 0.130007#011val's binary_logloss: 0.18346\n",
      "[LightGBM] [Warning] No further splits with positive gain, best gain: -inf\n",
      "[762]#011train's binary_logloss: 0.129882#011val's binary_logloss: 0.18339\n",
      "[LightGBM] [Warning] No further splits with positive gain, best gain: -inf\n",
      "[763]#011train's binary_logloss: 0.129764#011val's binary_logloss: 0.183302\n",
      "[LightGBM] [Warning] No further splits with positive gain, best gain: -inf\n",
      "[764]#011train's binary_logloss: 0.12965#011val's binary_logloss: 0.183236\n",
      "[765]#011train's binary_logloss: 0.129549#011val's binary_logloss: 0.183237\n",
      "[LightGBM] [Warning] No further splits with positive gain, best gain: -inf\n",
      "[766]#011train's binary_logloss: 0.129466#011val's binary_logloss: 0.183198\n",
      "[LightGBM] [Warning] No further splits with positive gain, best gain: -inf\n",
      "[767]#011train's binary_logloss: 0.129394#011val's binary_logloss: 0.183143\n",
      "[LightGBM] [Warning] No further splits with positive gain, best gain: -inf\n",
      "[768]#011train's binary_logloss: 0.129324#011val's binary_logloss: 0.183086\n",
      "[LightGBM] [Warning] No further splits with positive gain, best gain: -inf\n",
      "[769]#011train's binary_logloss: 0.129175#011val's binary_logloss: 0.183045\n",
      "[LightGBM] [Warning] No further splits with positive gain, best gain: -inf\n",
      "[770]#011train's binary_logloss: 0.129106#011val's binary_logloss: 0.182988\n",
      "[LightGBM] [Warning] No further splits with positive gain, best gain: -inf\n",
      "[771]#011train's binary_logloss: 0.128946#011val's binary_logloss: 0.182837\n",
      "[LightGBM] [Warning] No further splits with positive gain, best gain: -inf\n",
      "[772]#011train's binary_logloss: 0.12883#011val's binary_logloss: 0.182747\n",
      "[LightGBM] [Warning] No further splits with positive gain, best gain: -inf\n",
      "[773]#011train's binary_logloss: 0.128717#011val's binary_logloss: 0.182658\n",
      "[LightGBM] [Warning] No further splits with positive gain, best gain: -inf\n",
      "[774]#011train's binary_logloss: 0.12855#011val's binary_logloss: 0.182495\n",
      "[LightGBM] [Warning] No further splits with positive gain, best gain: -inf\n",
      "[775]#011train's binary_logloss: 0.128445#011val's binary_logloss: 0.18243\n",
      "[776]#011train's binary_logloss: 0.128272#011val's binary_logloss: 0.182269\n",
      "[777]#011train's binary_logloss: 0.128084#011val's binary_logloss: 0.182164\n",
      "[778]#011train's binary_logloss: 0.127871#011val's binary_logloss: 0.182012\n",
      "[779]#011train's binary_logloss: 0.127661#011val's binary_logloss: 0.181864\n",
      "[780]#011train's binary_logloss: 0.127526#011val's binary_logloss: 0.181799\n",
      "[781]#011train's binary_logloss: 0.127323#011val's binary_logloss: 0.181742\n",
      "[782]#011train's binary_logloss: 0.127199#011val's binary_logloss: 0.181677\n",
      "[783]#011train's binary_logloss: 0.126996#011val's binary_logloss: 0.1816\n",
      "[784]#011train's binary_logloss: 0.126792#011val's binary_logloss: 0.181447\n",
      "[785]#011train's binary_logloss: 0.12662#011val's binary_logloss: 0.181347\n",
      "[786]#011train's binary_logloss: 0.126395#011val's binary_logloss: 0.181146\n",
      "[787]#011train's binary_logloss: 0.126221#011val's binary_logloss: 0.181054\n",
      "[788]#011train's binary_logloss: 0.126058#011val's binary_logloss: 0.180985\n",
      "[789]#011train's binary_logloss: 0.125919#011val's binary_logloss: 0.180898\n",
      "[790]#011train's binary_logloss: 0.125777#011val's binary_logloss: 0.180839\n",
      "[LightGBM] [Warning] No further splits with positive gain, best gain: -inf\n",
      "[791]#011train's binary_logloss: 0.125581#011val's binary_logloss: 0.180698\n",
      "[LightGBM] [Warning] No further splits with positive gain, best gain: -inf\n",
      "[792]#011train's binary_logloss: 0.125471#011val's binary_logloss: 0.180605\n",
      "[793]#011train's binary_logloss: 0.125359#011val's binary_logloss: 0.180563\n",
      "[794]#011train's binary_logloss: 0.125177#011val's binary_logloss: 0.180486\n",
      "[795]#011train's binary_logloss: 0.125066#011val's binary_logloss: 0.1804\n",
      "[LightGBM] [Warning] No further splits with positive gain, best gain: -inf\n",
      "[796]#011train's binary_logloss: 0.124948#011val's binary_logloss: 0.180325\n",
      "[LightGBM] [Warning] No further splits with positive gain, best gain: -inf\n",
      "[797]#011train's binary_logloss: 0.124839#011val's binary_logloss: 0.180286\n",
      "[LightGBM] [Warning] No further splits with positive gain, best gain: -inf\n",
      "[798]#011train's binary_logloss: 0.124738#011val's binary_logloss: 0.180211\n",
      "[LightGBM] [Warning] No further splits with positive gain, best gain: -inf\n",
      "[799]#011train's binary_logloss: 0.124595#011val's binary_logloss: 0.180112\n",
      "[LightGBM] [Warning] No further splits with positive gain, best gain: -inf\n",
      "[800]#011train's binary_logloss: 0.124444#011val's binary_logloss: 0.17997\n",
      "[801]#011train's binary_logloss: 0.124275#011val's binary_logloss: 0.179885\n",
      "[LightGBM] [Warning] No further splits with positive gain, best gain: -inf\n",
      "[802]#011train's binary_logloss: 0.124131#011val's binary_logloss: 0.179765\n",
      "[803]#011train's binary_logloss: 0.123918#011val's binary_logloss: 0.179699\n",
      "[LightGBM] [Warning] No further splits with positive gain, best gain: -inf\n",
      "[804]#011train's binary_logloss: 0.123774#011val's binary_logloss: 0.179559\n",
      "[LightGBM] [Warning] No further splits with positive gain, best gain: -inf\n",
      "[805]#011train's binary_logloss: 0.123623#011val's binary_logloss: 0.179417\n",
      "[LightGBM] [Warning] No further splits with positive gain, best gain: -inf\n",
      "[806]#011train's binary_logloss: 0.123573#011val's binary_logloss: 0.179409\n",
      "[LightGBM] [Warning] No further splits with positive gain, best gain: -inf\n",
      "[807]#011train's binary_logloss: 0.123473#011val's binary_logloss: 0.179316\n",
      "[LightGBM] [Warning] No further splits with positive gain, best gain: -inf\n",
      "[808]#011train's binary_logloss: 0.12344#011val's binary_logloss: 0.1793\n",
      "[LightGBM] [Warning] No further splits with positive gain, best gain: -inf\n",
      "[809]#011train's binary_logloss: 0.123335#011val's binary_logloss: 0.179203\n",
      "[LightGBM] [Warning] No further splits with positive gain, best gain: -inf\n",
      "[810]#011train's binary_logloss: 0.123224#011val's binary_logloss: 0.179119\n",
      "[LightGBM] [Warning] No further splits with positive gain, best gain: -inf\n",
      "[811]#011train's binary_logloss: 0.123112#011val's binary_logloss: 0.179094\n",
      "[LightGBM] [Warning] No further splits with positive gain, best gain: -inf\n",
      "[812]#011train's binary_logloss: 0.12305#011val's binary_logloss: 0.179068\n",
      "[LightGBM] [Warning] No further splits with positive gain, best gain: -inf\n",
      "[813]#011train's binary_logloss: 0.122937#011val's binary_logloss: 0.17904\n",
      "[LightGBM] [Warning] No further splits with positive gain, best gain: -inf\n",
      "[814]#011train's binary_logloss: 0.122825#011val's binary_logloss: 0.179015\n",
      "[LightGBM] [Warning] No further splits with positive gain, best gain: -inf\n",
      "[815]#011train's binary_logloss: 0.122745#011val's binary_logloss: 0.178988\n",
      "[816]#011train's binary_logloss: 0.122647#011val's binary_logloss: 0.178962\n",
      "[817]#011train's binary_logloss: 0.122486#011val's binary_logloss: 0.178918\n",
      "[818]#011train's binary_logloss: 0.122334#011val's binary_logloss: 0.178865\n",
      "[819]#011train's binary_logloss: 0.122222#011val's binary_logloss: 0.178835\n",
      "[LightGBM] [Warning] No further splits with positive gain, best gain: -inf\n",
      "[820]#011train's binary_logloss: 0.122147#011val's binary_logloss: 0.17884\n",
      "[LightGBM] [Warning] No further splits with positive gain, best gain: -inf\n",
      "[821]#011train's binary_logloss: 0.122031#011val's binary_logloss: 0.178816\n",
      "[822]#011train's binary_logloss: 0.12194#011val's binary_logloss: 0.178768\n",
      "[823]#011train's binary_logloss: 0.121834#011val's binary_logloss: 0.178744\n",
      "[824]#011train's binary_logloss: 0.121673#011val's binary_logloss: 0.178691\n",
      "[825]#011train's binary_logloss: 0.121524#011val's binary_logloss: 0.178562\n",
      "[826]#011train's binary_logloss: 0.121296#011val's binary_logloss: 0.178413\n",
      "[LightGBM] [Warning] No further splits with positive gain, best gain: -inf\n",
      "[827]#011train's binary_logloss: 0.121113#011val's binary_logloss: 0.178233\n",
      "[LightGBM] [Warning] No further splits with positive gain, best gain: -inf\n",
      "[828]#011train's binary_logloss: 0.120949#011val's binary_logloss: 0.178053\n",
      "[829]#011train's binary_logloss: 0.120796#011val's binary_logloss: 0.17795\n",
      "[830]#011train's binary_logloss: 0.120559#011val's binary_logloss: 0.177757\n",
      "[831]#011train's binary_logloss: 0.120385#011val's binary_logloss: 0.177625\n",
      "[832]#011train's binary_logloss: 0.120289#011val's binary_logloss: 0.177621\n",
      "[833]#011train's binary_logloss: 0.120158#011val's binary_logloss: 0.177535\n",
      "[834]#011train's binary_logloss: 0.119983#011val's binary_logloss: 0.177367\n",
      "[835]#011train's binary_logloss: 0.119849#011val's binary_logloss: 0.177269\n",
      "[836]#011train's binary_logloss: 0.119679#011val's binary_logloss: 0.177187\n",
      "[LightGBM] [Warning] No further splits with positive gain, best gain: -inf\n",
      "[837]#011train's binary_logloss: 0.119598#011val's binary_logloss: 0.17713\n",
      "[LightGBM] [Warning] No further splits with positive gain, best gain: -inf\n",
      "[838]#011train's binary_logloss: 0.119469#011val's binary_logloss: 0.177009\n",
      "[839]#011train's binary_logloss: 0.119308#011val's binary_logloss: 0.176878\n",
      "[LightGBM] [Warning] No further splits with positive gain, best gain: -inf\n",
      "[840]#011train's binary_logloss: 0.11917#011val's binary_logloss: 0.17675\n",
      "[841]#011train's binary_logloss: 0.118932#011val's binary_logloss: 0.17662\n",
      "[LightGBM] [Warning] No further splits with positive gain, best gain: -inf\n",
      "[842]#011train's binary_logloss: 0.118706#011val's binary_logloss: 0.176345\n",
      "[843]#011train's binary_logloss: 0.118516#011val's binary_logloss: 0.176178\n",
      "[844]#011train's binary_logloss: 0.118275#011val's binary_logloss: 0.176065\n",
      "[845]#011train's binary_logloss: 0.118044#011val's binary_logloss: 0.17589\n",
      "[LightGBM] [Warning] No further splits with positive gain, best gain: -inf\n",
      "[846]#011train's binary_logloss: 0.117961#011val's binary_logloss: 0.17579\n",
      "[LightGBM] [Warning] No further splits with positive gain, best gain: -inf\n",
      "[847]#011train's binary_logloss: 0.117845#011val's binary_logloss: 0.175693\n",
      "[LightGBM] [Warning] No further splits with positive gain, best gain: -inf\n",
      "[848]#011train's binary_logloss: 0.117762#011val's binary_logloss: 0.175633\n",
      "[LightGBM] [Warning] No further splits with positive gain, best gain: -inf\n",
      "[849]#011train's binary_logloss: 0.117637#011val's binary_logloss: 0.175531\n",
      "[LightGBM] [Warning] No further splits with positive gain, best gain: -inf\n",
      "[850]#011train's binary_logloss: 0.117528#011val's binary_logloss: 0.175473\n",
      "[851]#011train's binary_logloss: 0.117418#011val's binary_logloss: 0.175357\n",
      "[852]#011train's binary_logloss: 0.117246#011val's binary_logloss: 0.17523\n",
      "[853]#011train's binary_logloss: 0.117126#011val's binary_logloss: 0.175138\n",
      "[854]#011train's binary_logloss: 0.116993#011val's binary_logloss: 0.175073\n",
      "[LightGBM] [Warning] No further splits with positive gain, best gain: -inf\n",
      "[855]#011train's binary_logloss: 0.116858#011val's binary_logloss: 0.17493\n",
      "[LightGBM] [Warning] No further splits with positive gain, best gain: -inf\n",
      "[856]#011train's binary_logloss: 0.1168#011val's binary_logloss: 0.174909\n",
      "[LightGBM] [Warning] No further splits with positive gain, best gain: -inf\n",
      "[857]#011train's binary_logloss: 0.116751#011val's binary_logloss: 0.174841\n",
      "[858]#011train's binary_logloss: 0.116657#011val's binary_logloss: 0.174795\n",
      "[LightGBM] [Warning] No further splits with positive gain, best gain: -inf\n",
      "[859]#011train's binary_logloss: 0.11656#011val's binary_logloss: 0.174696\n",
      "[LightGBM] [Warning] No further splits with positive gain, best gain: -inf\n",
      "[860]#011train's binary_logloss: 0.116514#011val's binary_logloss: 0.174691\n",
      "[LightGBM] [Warning] No further splits with positive gain, best gain: -inf\n",
      "[861]#011train's binary_logloss: 0.11642#011val's binary_logloss: 0.17464\n",
      "[LightGBM] [Warning] No further splits with positive gain, best gain: -inf\n",
      "[862]#011train's binary_logloss: 0.116322#011val's binary_logloss: 0.174573\n",
      "[LightGBM] [Warning] No further splits with positive gain, best gain: -inf\n",
      "[863]#011train's binary_logloss: 0.116201#011val's binary_logloss: 0.174409\n",
      "[LightGBM] [Warning] No further splits with positive gain, best gain: -inf\n",
      "[864]#011train's binary_logloss: 0.116079#011val's binary_logloss: 0.174287\n",
      "[LightGBM] [Warning] No further splits with positive gain, best gain: -inf\n",
      "[865]#011train's binary_logloss: 0.116011#011val's binary_logloss: 0.174272\n",
      "[LightGBM] [Warning] No further splits with positive gain, best gain: -inf\n",
      "[866]#011train's binary_logloss: 0.115847#011val's binary_logloss: 0.174128\n",
      "[867]#011train's binary_logloss: 0.115731#011val's binary_logloss: 0.174149\n",
      "[868]#011train's binary_logloss: 0.11555#011val's binary_logloss: 0.174035\n",
      "[869]#011train's binary_logloss: 0.115428#011val's binary_logloss: 0.174003\n",
      "[LightGBM] [Warning] No further splits with positive gain, best gain: -inf\n",
      "[870]#011train's binary_logloss: 0.115276#011val's binary_logloss: 0.173855\n",
      "[LightGBM] [Warning] No further splits with positive gain, best gain: -inf\n",
      "[871]#011train's binary_logloss: 0.115178#011val's binary_logloss: 0.173793\n",
      "[LightGBM] [Warning] No further splits with positive gain, best gain: -inf\n",
      "[872]#011train's binary_logloss: 0.115061#011val's binary_logloss: 0.173666\n",
      "[873]#011train's binary_logloss: 0.114919#011val's binary_logloss: 0.173514\n",
      "[LightGBM] [Warning] No further splits with positive gain, best gain: -inf\n",
      "[874]#011train's binary_logloss: 0.114814#011val's binary_logloss: 0.173455\n",
      "[LightGBM] [Warning] No further splits with positive gain, best gain: -inf\n",
      "[875]#011train's binary_logloss: 0.114714#011val's binary_logloss: 0.173452\n",
      "[876]#011train's binary_logloss: 0.11449#011val's binary_logloss: 0.173305\n",
      "[LightGBM] [Warning] No further splits with positive gain, best gain: -inf\n",
      "[877]#011train's binary_logloss: 0.114331#011val's binary_logloss: 0.173096\n",
      "[LightGBM] [Warning] No further splits with positive gain, best gain: -inf\n",
      "[878]#011train's binary_logloss: 0.114189#011val's binary_logloss: 0.172942\n",
      "[879]#011train's binary_logloss: 0.113981#011val's binary_logloss: 0.172811\n",
      "[880]#011train's binary_logloss: 0.113776#011val's binary_logloss: 0.172678\n",
      "[LightGBM] [Warning] No further splits with positive gain, best gain: -inf\n",
      "[881]#011train's binary_logloss: 0.113732#011val's binary_logloss: 0.172676\n",
      "[LightGBM] [Warning] No further splits with positive gain, best gain: -inf\n",
      "[882]#011train's binary_logloss: 0.113644#011val's binary_logloss: 0.172622\n",
      "[LightGBM] [Warning] No further splits with positive gain, best gain: -inf\n",
      "[883]#011train's binary_logloss: 0.113571#011val's binary_logloss: 0.17253\n",
      "[LightGBM] [Warning] No further splits with positive gain, best gain: -inf\n",
      "[884]#011train's binary_logloss: 0.113502#011val's binary_logloss: 0.172481\n",
      "[LightGBM] [Warning] No further splits with positive gain, best gain: -inf\n",
      "[885]#011train's binary_logloss: 0.113402#011val's binary_logloss: 0.172453\n",
      "[886]#011train's binary_logloss: 0.11331#011val's binary_logloss: 0.172401\n",
      "[887]#011train's binary_logloss: 0.113172#011val's binary_logloss: 0.172368\n",
      "[888]#011train's binary_logloss: 0.11303#011val's binary_logloss: 0.172316\n",
      "[889]#011train's binary_logloss: 0.112856#011val's binary_logloss: 0.172247\n",
      "[890]#011train's binary_logloss: 0.112643#011val's binary_logloss: 0.172108\n",
      "[891]#011train's binary_logloss: 0.112498#011val's binary_logloss: 0.172016\n",
      "[892]#011train's binary_logloss: 0.112351#011val's binary_logloss: 0.171923\n",
      "[893]#011train's binary_logloss: 0.112238#011val's binary_logloss: 0.171926\n",
      "[894]#011train's binary_logloss: 0.112055#011val's binary_logloss: 0.17184\n",
      "[LightGBM] [Warning] No further splits with positive gain, best gain: -inf\n",
      "[895]#011train's binary_logloss: 0.111872#011val's binary_logloss: 0.17169\n",
      "[LightGBM] [Warning] No further splits with positive gain, best gain: -inf\n",
      "[896]#011train's binary_logloss: 0.111795#011val's binary_logloss: 0.171674\n",
      "[LightGBM] [Warning] No further splits with positive gain, best gain: -inf\n",
      "[897]#011train's binary_logloss: 0.111709#011val's binary_logloss: 0.171601\n",
      "[LightGBM] [Warning] No further splits with positive gain, best gain: -inf\n",
      "[898]#011train's binary_logloss: 0.111632#011val's binary_logloss: 0.171506\n",
      "[LightGBM] [Warning] No further splits with positive gain, best gain: -inf\n",
      "[899]#011train's binary_logloss: 0.111546#011val's binary_logloss: 0.171443\n",
      "[LightGBM] [Warning] No further splits with positive gain, best gain: -inf\n",
      "[900]#011train's binary_logloss: 0.111469#011val's binary_logloss: 0.171447\n",
      "[LightGBM] [Warning] No further splits with positive gain, best gain: -inf\n",
      "[901]#011train's binary_logloss: 0.111408#011val's binary_logloss: 0.171438\n",
      "[LightGBM] [Warning] No further splits with positive gain, best gain: -inf\n",
      "[902]#011train's binary_logloss: 0.111315#011val's binary_logloss: 0.171312\n",
      "[903]#011train's binary_logloss: 0.111205#011val's binary_logloss: 0.171238\n",
      "[LightGBM] [Warning] No further splits with positive gain, best gain: -inf\n",
      "[904]#011train's binary_logloss: 0.111133#011val's binary_logloss: 0.171235\n",
      "[LightGBM] [Warning] No further splits with positive gain, best gain: -inf\n",
      "[905]#011train's binary_logloss: 0.111066#011val's binary_logloss: 0.171216\n",
      "[906]#011train's binary_logloss: 0.110896#011val's binary_logloss: 0.171098\n",
      "[907]#011train's binary_logloss: 0.110714#011val's binary_logloss: 0.170964\n",
      "[908]#011train's binary_logloss: 0.110565#011val's binary_logloss: 0.170853\n",
      "[909]#011train's binary_logloss: 0.110387#011val's binary_logloss: 0.170717\n",
      "[910]#011train's binary_logloss: 0.110248#011val's binary_logloss: 0.170619\n",
      "[911]#011train's binary_logloss: 0.110107#011val's binary_logloss: 0.170543\n",
      "[LightGBM] [Warning] No further splits with positive gain, best gain: -inf\n",
      "[912]#011train's binary_logloss: 0.110021#011val's binary_logloss: 0.170462\n",
      "[LightGBM] [Warning] No further splits with positive gain, best gain: -inf\n",
      "[913]#011train's binary_logloss: 0.109957#011val's binary_logloss: 0.170406\n",
      "[LightGBM] [Warning] No further splits with positive gain, best gain: -inf\n",
      "[914]#011train's binary_logloss: 0.109873#011val's binary_logloss: 0.17035\n",
      "[LightGBM] [Warning] No further splits with positive gain, best gain: -inf\n",
      "[915]#011train's binary_logloss: 0.109792#011val's binary_logloss: 0.170321\n",
      "[916]#011train's binary_logloss: 0.109613#011val's binary_logloss: 0.170127\n",
      "[LightGBM] [Warning] No further splits with positive gain, best gain: -inf\n",
      "[917]#011train's binary_logloss: 0.109551#011val's binary_logloss: 0.170066\n",
      "[918]#011train's binary_logloss: 0.109428#011val's binary_logloss: 0.169961\n",
      "[919]#011train's binary_logloss: 0.109293#011val's binary_logloss: 0.169807\n",
      "[LightGBM] [Warning] No further splits with positive gain, best gain: -inf\n",
      "[920]#011train's binary_logloss: 0.109208#011val's binary_logloss: 0.169759\n",
      "[921]#011train's binary_logloss: 0.109066#011val's binary_logloss: 0.169643\n",
      "[LightGBM] [Warning] No further splits with positive gain, best gain: -inf\n",
      "[922]#011train's binary_logloss: 0.108995#011val's binary_logloss: 0.169576\n",
      "[LightGBM] [Warning] No further splits with positive gain, best gain: -inf\n",
      "[923]#011train's binary_logloss: 0.108926#011val's binary_logloss: 0.169544\n",
      "[LightGBM] [Warning] No further splits with positive gain, best gain: -inf\n",
      "[924]#011train's binary_logloss: 0.108856#011val's binary_logloss: 0.169524\n",
      "[LightGBM] [Warning] No further splits with positive gain, best gain: -inf\n",
      "[925]#011train's binary_logloss: 0.108752#011val's binary_logloss: 0.169481\n",
      "[926]#011train's binary_logloss: 0.108608#011val's binary_logloss: 0.169368\n",
      "[LightGBM] [Warning] No further splits with positive gain, best gain: -inf\n",
      "[927]#011train's binary_logloss: 0.108505#011val's binary_logloss: 0.169296\n",
      "[928]#011train's binary_logloss: 0.108404#011val's binary_logloss: 0.169298\n",
      "[929]#011train's binary_logloss: 0.108264#011val's binary_logloss: 0.169183\n",
      "[LightGBM] [Warning] No further splits with positive gain, best gain: -inf\n",
      "[930]#011train's binary_logloss: 0.108179#011val's binary_logloss: 0.169156\n",
      "[LightGBM] [Warning] No further splits with positive gain, best gain: -inf\n",
      "[931]#011train's binary_logloss: 0.108102#011val's binary_logloss: 0.169128\n",
      "[LightGBM] [Warning] No further splits with positive gain, best gain: -inf\n",
      "[932]#011train's binary_logloss: 0.10795#011val's binary_logloss: 0.168926\n",
      "[LightGBM] [Warning] No further splits with positive gain, best gain: -inf\n",
      "[933]#011train's binary_logloss: 0.107831#011val's binary_logloss: 0.168866\n",
      "[LightGBM] [Warning] No further splits with positive gain, best gain: -inf\n",
      "[934]#011train's binary_logloss: 0.107712#011val's binary_logloss: 0.168795\n",
      "[LightGBM] [Warning] No further splits with positive gain, best gain: -inf\n",
      "[935]#011train's binary_logloss: 0.107585#011val's binary_logloss: 0.168729\n",
      "[LightGBM] [Warning] No further splits with positive gain, best gain: -inf\n",
      "[936]#011train's binary_logloss: 0.107486#011val's binary_logloss: 0.1687\n",
      "[937]#011train's binary_logloss: 0.107376#011val's binary_logloss: 0.168677\n",
      "[938]#011train's binary_logloss: 0.10728#011val's binary_logloss: 0.168631\n",
      "[939]#011train's binary_logloss: 0.107171#011val's binary_logloss: 0.168598\n",
      "[940]#011train's binary_logloss: 0.107066#011val's binary_logloss: 0.168583\n",
      "[941]#011train's binary_logloss: 0.106954#011val's binary_logloss: 0.168504\n",
      "[942]#011train's binary_logloss: 0.106834#011val's binary_logloss: 0.168414\n",
      "[943]#011train's binary_logloss: 0.106669#011val's binary_logloss: 0.168325\n",
      "[944]#011train's binary_logloss: 0.10657#011val's binary_logloss: 0.168333\n",
      "[LightGBM] [Warning] No further splits with positive gain, best gain: -inf\n",
      "[945]#011train's binary_logloss: 0.106469#011val's binary_logloss: 0.16832\n",
      "[LightGBM] [Warning] No further splits with positive gain, best gain: -inf\n",
      "[946]#011train's binary_logloss: 0.106338#011val's binary_logloss: 0.168168\n",
      "[LightGBM] [Warning] No further splits with positive gain, best gain: -inf\n",
      "[947]#011train's binary_logloss: 0.106212#011val's binary_logloss: 0.16807\n",
      "[LightGBM] [Warning] No further splits with positive gain, best gain: -inf\n",
      "[948]#011train's binary_logloss: 0.10609#011val's binary_logloss: 0.167963\n",
      "[LightGBM] [Warning] No further splits with positive gain, best gain: -inf\n",
      "[949]#011train's binary_logloss: 0.105965#011val's binary_logloss: 0.167819\n",
      "[LightGBM] [Warning] No further splits with positive gain, best gain: -inf\n",
      "[950]#011train's binary_logloss: 0.105846#011val's binary_logloss: 0.16772\n",
      "[LightGBM] [Warning] No further splits with positive gain, best gain: -inf\n",
      "[951]#011train's binary_logloss: 0.105758#011val's binary_logloss: 0.167595\n",
      "[952]#011train's binary_logloss: 0.105635#011val's binary_logloss: 0.167483\n",
      "[953]#011train's binary_logloss: 0.105546#011val's binary_logloss: 0.167453\n",
      "[LightGBM] [Warning] No further splits with positive gain, best gain: -inf\n",
      "[954]#011train's binary_logloss: 0.105457#011val's binary_logloss: 0.167345\n",
      "[LightGBM] [Warning] No further splits with positive gain, best gain: -inf\n",
      "[955]#011train's binary_logloss: 0.10543#011val's binary_logloss: 0.167327\n",
      "[956]#011train's binary_logloss: 0.105271#011val's binary_logloss: 0.167211\n",
      "[957]#011train's binary_logloss: 0.105154#011val's binary_logloss: 0.167084\n",
      "[958]#011train's binary_logloss: 0.10504#011val's binary_logloss: 0.166985\n",
      "[959]#011train's binary_logloss: 0.10489#011val's binary_logloss: 0.166886\n",
      "[960]#011train's binary_logloss: 0.10471#011val's binary_logloss: 0.166789\n",
      "[961]#011train's binary_logloss: 0.104553#011val's binary_logloss: 0.166654\n",
      "[LightGBM] [Warning] No further splits with positive gain, best gain: -inf\n",
      "[962]#011train's binary_logloss: 0.104483#011val's binary_logloss: 0.166611\n",
      "[LightGBM] [Warning] No further splits with positive gain, best gain: -inf\n",
      "[963]#011train's binary_logloss: 0.104402#011val's binary_logloss: 0.166561\n",
      "[964]#011train's binary_logloss: 0.10428#011val's binary_logloss: 0.166465\n",
      "[965]#011train's binary_logloss: 0.104161#011val's binary_logloss: 0.166389\n",
      "[LightGBM] [Warning] No further splits with positive gain, best gain: -inf\n",
      "[966]#011train's binary_logloss: 0.104081#011val's binary_logloss: 0.16638\n",
      "[LightGBM] [Warning] No further splits with positive gain, best gain: -inf\n",
      "[967]#011train's binary_logloss: 0.104007#011val's binary_logloss: 0.16639\n",
      "[968]#011train's binary_logloss: 0.103855#011val's binary_logloss: 0.16633\n",
      "[LightGBM] [Warning] No further splits with positive gain, best gain: -inf\n",
      "[969]#011train's binary_logloss: 0.103748#011val's binary_logloss: 0.166322\n",
      "[970]#011train's binary_logloss: 0.103643#011val's binary_logloss: 0.166287\n",
      "[LightGBM] [Warning] No further splits with positive gain, best gain: -inf\n",
      "[971]#011train's binary_logloss: 0.103571#011val's binary_logloss: 0.166221\n",
      "[LightGBM] [Warning] No further splits with positive gain, best gain: -inf\n",
      "[972]#011train's binary_logloss: 0.103523#011val's binary_logloss: 0.166207\n",
      "[LightGBM] [Warning] No further splits with positive gain, best gain: -inf\n",
      "[973]#011train's binary_logloss: 0.10348#011val's binary_logloss: 0.166161\n",
      "[LightGBM] [Warning] No further splits with positive gain, best gain: -inf\n",
      "[974]#011train's binary_logloss: 0.103412#011val's binary_logloss: 0.166104\n",
      "[LightGBM] [Warning] No further splits with positive gain, best gain: -inf\n",
      "[975]#011train's binary_logloss: 0.103354#011val's binary_logloss: 0.166113\n",
      "[976]#011train's binary_logloss: 0.103194#011val's binary_logloss: 0.166019\n",
      "[977]#011train's binary_logloss: 0.103074#011val's binary_logloss: 0.16596\n",
      "[LightGBM] [Warning] No further splits with positive gain, best gain: -inf\n",
      "[978]#011train's binary_logloss: 0.102998#011val's binary_logloss: 0.16596\n",
      "[979]#011train's binary_logloss: 0.102823#011val's binary_logloss: 0.165894\n",
      "[980]#011train's binary_logloss: 0.102722#011val's binary_logloss: 0.165836\n",
      "[LightGBM] [Warning] No further splits with positive gain, best gain: -inf\n",
      "[981]#011train's binary_logloss: 0.102657#011val's binary_logloss: 0.16582\n",
      "[LightGBM] [Warning] No further splits with positive gain, best gain: -inf\n",
      "[982]#011train's binary_logloss: 0.102575#011val's binary_logloss: 0.165772\n",
      "[983]#011train's binary_logloss: 0.102481#011val's binary_logloss: 0.165724\n",
      "[984]#011train's binary_logloss: 0.102317#011val's binary_logloss: 0.165591\n",
      "[985]#011train's binary_logloss: 0.102201#011val's binary_logloss: 0.165504\n",
      "[LightGBM] [Warning] No further splits with positive gain, best gain: -inf\n",
      "[986]#011train's binary_logloss: 0.102106#011val's binary_logloss: 0.165435\n",
      "[LightGBM] [Warning] No further splits with positive gain, best gain: -inf\n",
      "[987]#011train's binary_logloss: 0.102054#011val's binary_logloss: 0.165396\n",
      "[LightGBM] [Warning] No further splits with positive gain, best gain: -inf\n",
      "[988]#011train's binary_logloss: 0.101966#011val's binary_logloss: 0.165388\n",
      "[LightGBM] [Warning] No further splits with positive gain, best gain: -inf\n",
      "[989]#011train's binary_logloss: 0.101903#011val's binary_logloss: 0.165371\n",
      "[LightGBM] [Warning] No further splits with positive gain, best gain: -inf\n",
      "[990]#011train's binary_logloss: 0.10185#011val's binary_logloss: 0.165365\n",
      "[991]#011train's binary_logloss: 0.101741#011val's binary_logloss: 0.165354\n",
      "[992]#011train's binary_logloss: 0.10167#011val's binary_logloss: 0.165329\n",
      "[993]#011train's binary_logloss: 0.101514#011val's binary_logloss: 0.16526\n",
      "[LightGBM] [Warning] No further splits with positive gain, best gain: -inf\n",
      "[994]#011train's binary_logloss: 0.101447#011val's binary_logloss: 0.165225\n",
      "[995]#011train's binary_logloss: 0.101301#011val's binary_logloss: 0.165199\n",
      "[996]#011train's binary_logloss: 0.101134#011val's binary_logloss: 0.165063\n",
      "[LightGBM] [Warning] No further splits with positive gain, best gain: -inf\n",
      "[997]#011train's binary_logloss: 0.100985#011val's binary_logloss: 0.164854\n",
      "[998]#011train's binary_logloss: 0.100881#011val's binary_logloss: 0.164778\n",
      "[999]#011train's binary_logloss: 0.100765#011val's binary_logloss: 0.164686\n",
      "[1000]#011train's binary_logloss: 0.100667#011val's binary_logloss: 0.164634\n",
      "[1001]#011train's binary_logloss: 0.10054#011val's binary_logloss: 0.16461\n",
      "[LightGBM] [Warning] No further splits with positive gain, best gain: -inf\n",
      "[1002]#011train's binary_logloss: 0.100411#011val's binary_logloss: 0.164458\n",
      "[1003]#011train's binary_logloss: 0.10028#011val's binary_logloss: 0.16445\n",
      "[1004]#011train's binary_logloss: 0.100165#011val's binary_logloss: 0.164437\n",
      "[1005]#011train's binary_logloss: 0.100047#011val's binary_logloss: 0.164393\n",
      "[1006]#011train's binary_logloss: 0.0999394#011val's binary_logloss: 0.164358\n",
      "[LightGBM] [Warning] No further splits with positive gain, best gain: -inf\n",
      "[1007]#011train's binary_logloss: 0.0998514#011val's binary_logloss: 0.164331\n",
      "[LightGBM] [Warning] No further splits with positive gain, best gain: -inf\n",
      "[1008]#011train's binary_logloss: 0.0997845#011val's binary_logloss: 0.164333\n",
      "[1009]#011train's binary_logloss: 0.0996645#011val's binary_logloss: 0.164276\n",
      "[LightGBM] [Warning] No further splits with positive gain, best gain: -inf\n",
      "[1010]#011train's binary_logloss: 0.0996021#011val's binary_logloss: 0.164278\n",
      "[1011]#011train's binary_logloss: 0.099519#011val's binary_logloss: 0.164308\n",
      "[LightGBM] [Warning] No further splits with positive gain, best gain: -inf\n",
      "[1012]#011train's binary_logloss: 0.0994585#011val's binary_logloss: 0.164247\n",
      "[LightGBM] [Warning] No further splits with positive gain, best gain: -inf\n",
      "[1013]#011train's binary_logloss: 0.0994033#011val's binary_logloss: 0.164229\n",
      "[1014]#011train's binary_logloss: 0.0992925#011val's binary_logloss: 0.164231\n",
      "[LightGBM] [Warning] No further splits with positive gain, best gain: -inf\n",
      "[1015]#011train's binary_logloss: 0.0991925#011val's binary_logloss: 0.164183\n",
      "[1016]#011train's binary_logloss: 0.0990144#011val's binary_logloss: 0.164077\n",
      "[LightGBM] [Warning] No further splits with positive gain, best gain: -inf\n",
      "[1017]#011train's binary_logloss: 0.0989062#011val's binary_logloss: 0.16395\n",
      "[1018]#011train's binary_logloss: 0.0987282#011val's binary_logloss: 0.163829\n",
      "[1019]#011train's binary_logloss: 0.0985575#011val's binary_logloss: 0.163704\n",
      "[1020]#011train's binary_logloss: 0.0984368#011val's binary_logloss: 0.163646\n",
      "[LightGBM] [Warning] No further splits with positive gain, best gain: -inf\n",
      "[1021]#011train's binary_logloss: 0.0983681#011val's binary_logloss: 0.163613\n",
      "[LightGBM] [Warning] No further splits with positive gain, best gain: -inf\n",
      "[1022]#011train's binary_logloss: 0.0983156#011val's binary_logloss: 0.163618\n",
      "[LightGBM] [Warning] No further splits with positive gain, best gain: -inf\n",
      "[1023]#011train's binary_logloss: 0.09822#011val's binary_logloss: 0.163547\n",
      "[LightGBM] [Warning] No further splits with positive gain, best gain: -inf\n",
      "[1024]#011train's binary_logloss: 0.0981632#011val's binary_logloss: 0.163584\n",
      "[1025]#011train's binary_logloss: 0.0980238#011val's binary_logloss: 0.163431\n",
      "[LightGBM] [Warning] No further splits with positive gain, best gain: -inf\n",
      "[1026]#011train's binary_logloss: 0.0979383#011val's binary_logloss: 0.163331\n",
      "[1027]#011train's binary_logloss: 0.0978402#011val's binary_logloss: 0.163343\n",
      "[LightGBM] [Warning] No further splits with positive gain, best gain: -inf\n",
      "[1028]#011train's binary_logloss: 0.0977644#011val's binary_logloss: 0.163267\n",
      "[LightGBM] [Warning] No further splits with positive gain, best gain: -inf\n",
      "[1029]#011train's binary_logloss: 0.0976924#011val's binary_logloss: 0.163203\n",
      "[1030]#011train's binary_logloss: 0.097584#011val's binary_logloss: 0.163196\n",
      "[LightGBM] [Warning] No further splits with positive gain, best gain: -inf\n",
      "[1031]#011train's binary_logloss: 0.0975173#011val's binary_logloss: 0.163163\n",
      "[LightGBM] [Warning] No further splits with positive gain, best gain: -inf\n",
      "[1032]#011train's binary_logloss: 0.0973814#011val's binary_logloss: 0.163115\n",
      "[LightGBM] [Warning] No further splits with positive gain, best gain: -inf\n",
      "[1033]#011train's binary_logloss: 0.0972545#011val's binary_logloss: 0.163079\n",
      "[1034]#011train's binary_logloss: 0.0971592#011val's binary_logloss: 0.163064\n",
      "[LightGBM] [Warning] No further splits with positive gain, best gain: -inf\n",
      "[1035]#011train's binary_logloss: 0.0970979#011val's binary_logloss: 0.163045\n",
      "[1036]#011train's binary_logloss: 0.0969837#011val's binary_logloss: 0.163008\n",
      "[1037]#011train's binary_logloss: 0.0968844#011val's binary_logloss: 0.162956\n",
      "[LightGBM] [Warning] No further splits with positive gain, best gain: -inf\n",
      "[1038]#011train's binary_logloss: 0.0967804#011val's binary_logloss: 0.16295\n",
      "[LightGBM] [Warning] No further splits with positive gain, best gain: -inf\n",
      "[1039]#011train's binary_logloss: 0.0966917#011val's binary_logloss: 0.162879\n",
      "[1040]#011train's binary_logloss: 0.0965644#011val's binary_logloss: 0.162822\n",
      "[1041]#011train's binary_logloss: 0.0964306#011val's binary_logloss: 0.162717\n",
      "[1042]#011train's binary_logloss: 0.0963005#011val's binary_logloss: 0.162597\n",
      "[LightGBM] [Warning] No further splits with positive gain, best gain: -inf\n",
      "[1043]#011train's binary_logloss: 0.0961627#011val's binary_logloss: 0.162376\n",
      "[1044]#011train's binary_logloss: 0.0960181#011val's binary_logloss: 0.162205\n",
      "[1045]#011train's binary_logloss: 0.0958891#011val's binary_logloss: 0.162125\n",
      "[LightGBM] [Warning] No further splits with positive gain, best gain: -inf\n",
      "[1046]#011train's binary_logloss: 0.0958272#011val's binary_logloss: 0.16209\n",
      "[1047]#011train's binary_logloss: 0.0957684#011val's binary_logloss: 0.162056\n",
      "[LightGBM] [Warning] No further splits with positive gain, best gain: -inf\n",
      "[1048]#011train's binary_logloss: 0.0957447#011val's binary_logloss: 0.162045\n",
      "[LightGBM] [Warning] No further splits with positive gain, best gain: -inf\n",
      "[1049]#011train's binary_logloss: 0.0956734#011val's binary_logloss: 0.161927\n",
      "[LightGBM] [Warning] No further splits with positive gain, best gain: -inf\n",
      "[1050]#011train's binary_logloss: 0.0956503#011val's binary_logloss: 0.161913\n",
      "[LightGBM] [Warning] No further splits with positive gain, best gain: -inf\n",
      "[1051]#011train's binary_logloss: 0.095562#011val's binary_logloss: 0.161827\n",
      "[LightGBM] [Warning] No further splits with positive gain, best gain: -inf\n",
      "[1052]#011train's binary_logloss: 0.0955271#011val's binary_logloss: 0.161796\n",
      "[LightGBM] [Warning] No further splits with positive gain, best gain: -inf\n",
      "[1053]#011train's binary_logloss: 0.0954476#011val's binary_logloss: 0.161713\n",
      "[1054]#011train's binary_logloss: 0.0953201#011val's binary_logloss: 0.161595\n",
      "[1055]#011train's binary_logloss: 0.095233#011val's binary_logloss: 0.161524\n",
      "[LightGBM] [Warning] No further splits with positive gain, best gain: -inf\n",
      "[1056]#011train's binary_logloss: 0.0951273#011val's binary_logloss: 0.161489\n",
      "[LightGBM] [Warning] No further splits with positive gain, best gain: -inf\n",
      "[1057]#011train's binary_logloss: 0.0949772#011val's binary_logloss: 0.161331\n",
      "[1058]#011train's binary_logloss: 0.0948737#011val's binary_logloss: 0.161228\n",
      "[LightGBM] [Warning] No further splits with positive gain, best gain: -inf\n",
      "[1059]#011train's binary_logloss: 0.0947705#011val's binary_logloss: 0.161135\n",
      "[LightGBM] [Warning] No further splits with positive gain, best gain: -inf\n",
      "[1060]#011train's binary_logloss: 0.0946445#011val's binary_logloss: 0.161028\n",
      "[1061]#011train's binary_logloss: 0.0945229#011val's binary_logloss: 0.160957\n",
      "[1062]#011train's binary_logloss: 0.0944246#011val's binary_logloss: 0.160971\n",
      "[LightGBM] [Warning] No further splits with positive gain, best gain: -inf\n",
      "[1063]#011train's binary_logloss: 0.0943433#011val's binary_logloss: 0.16096\n",
      "[LightGBM] [Warning] No further splits with positive gain, best gain: -inf\n",
      "[1064]#011train's binary_logloss: 0.0942922#011val's binary_logloss: 0.16093\n",
      "[1065]#011train's binary_logloss: 0.094189#011val's binary_logloss: 0.160915\n",
      "[LightGBM] [Warning] No further splits with positive gain, best gain: -inf\n",
      "[1066]#011train's binary_logloss: 0.0941253#011val's binary_logloss: 0.160873\n",
      "[1067]#011train's binary_logloss: 0.0940112#011val's binary_logloss: 0.160889\n",
      "[LightGBM] [Warning] No further splits with positive gain, best gain: -inf\n",
      "[1068]#011train's binary_logloss: 0.0939154#011val's binary_logloss: 0.160863\n",
      "[LightGBM] [Warning] No further splits with positive gain, best gain: -inf\n",
      "[1069]#011train's binary_logloss: 0.0938404#011val's binary_logloss: 0.160861\n",
      "[LightGBM] [Warning] No further splits with positive gain, best gain: -inf\n",
      "[1070]#011train's binary_logloss: 0.0937685#011val's binary_logloss: 0.160843\n",
      "[1071]#011train's binary_logloss: 0.0936725#011val's binary_logloss: 0.160805\n",
      "[1072]#011train's binary_logloss: 0.0935593#011val's binary_logloss: 0.160744\n",
      "[LightGBM] [Warning] No further splits with positive gain, best gain: -inf\n",
      "[1073]#011train's binary_logloss: 0.0935019#011val's binary_logloss: 0.160713\n",
      "[LightGBM] [Warning] No further splits with positive gain, best gain: -inf\n",
      "[1074]#011train's binary_logloss: 0.0934461#011val's binary_logloss: 0.16066\n",
      "[LightGBM] [Warning] No further splits with positive gain, best gain: -inf\n",
      "[1075]#011train's binary_logloss: 0.0933628#011val's binary_logloss: 0.160617\n",
      "[LightGBM] [Warning] No further splits with positive gain, best gain: -inf\n",
      "[1076]#011train's binary_logloss: 0.0933235#011val's binary_logloss: 0.160607\n",
      "[LightGBM] [Warning] No further splits with positive gain, best gain: -inf\n",
      "[1077]#011train's binary_logloss: 0.0932507#011val's binary_logloss: 0.160555\n",
      "[LightGBM] [Warning] No further splits with positive gain, best gain: -inf\n",
      "[1078]#011train's binary_logloss: 0.0931693#011val's binary_logloss: 0.160481\n",
      "[LightGBM] [Warning] No further splits with positive gain, best gain: -inf\n",
      "[1079]#011train's binary_logloss: 0.0931039#011val's binary_logloss: 0.160486\n",
      "[LightGBM] [Warning] No further splits with positive gain, best gain: -inf\n",
      "[1080]#011train's binary_logloss: 0.0930289#011val's binary_logloss: 0.160433\n",
      "[LightGBM] [Warning] No further splits with positive gain, best gain: -inf\n",
      "[1081]#011train's binary_logloss: 0.0929547#011val's binary_logloss: 0.160358\n",
      "[LightGBM] [Warning] No further splits with positive gain, best gain: -inf\n",
      "[1082]#011train's binary_logloss: 0.0928995#011val's binary_logloss: 0.160373\n",
      "[LightGBM] [Warning] No further splits with positive gain, best gain: -inf\n",
      "[1083]#011train's binary_logloss: 0.0928523#011val's binary_logloss: 0.160379\n",
      "[1084]#011train's binary_logloss: 0.092716#011val's binary_logloss: 0.160322\n",
      "[1085]#011train's binary_logloss: 0.0925747#011val's binary_logloss: 0.160199\n",
      "[1086]#011train's binary_logloss: 0.0924683#011val's binary_logloss: 0.160132\n",
      "[1087]#011train's binary_logloss: 0.0923361#011val's binary_logloss: 0.160021\n",
      "[1088]#011train's binary_logloss: 0.0922141#011val's binary_logloss: 0.159966\n",
      "[1089]#011train's binary_logloss: 0.0920848#011val's binary_logloss: 0.159906\n",
      "[1090]#011train's binary_logloss: 0.0919659#011val's binary_logloss: 0.159823\n",
      "[1091]#011train's binary_logloss: 0.0918795#011val's binary_logloss: 0.159821\n",
      "[LightGBM] [Warning] No further splits with positive gain, best gain: -inf\n",
      "[1092]#011train's binary_logloss: 0.0918093#011val's binary_logloss: 0.159796\n",
      "[1093]#011train's binary_logloss: 0.0917246#011val's binary_logloss: 0.15979\n",
      "[1094]#011train's binary_logloss: 0.0916083#011val's binary_logloss: 0.159782\n",
      "[1095]#011train's binary_logloss: 0.0915218#011val's binary_logloss: 0.159777\n",
      "[LightGBM] [Warning] No further splits with positive gain, best gain: -inf\n",
      "[1096]#011train's binary_logloss: 0.0914616#011val's binary_logloss: 0.159735\n",
      "[1097]#011train's binary_logloss: 0.0913726#011val's binary_logloss: 0.159715\n",
      "[1098]#011train's binary_logloss: 0.0912512#011val's binary_logloss: 0.159598\n",
      "[1099]#011train's binary_logloss: 0.0911131#011val's binary_logloss: 0.159443\n",
      "[1100]#011train's binary_logloss: 0.0909976#011val's binary_logloss: 0.159383\n",
      "[1101]#011train's binary_logloss: 0.0908923#011val's binary_logloss: 0.159342\n",
      "[LightGBM] [Warning] No further splits with positive gain, best gain: -inf\n",
      "[1102]#011train's binary_logloss: 0.0908208#011val's binary_logloss: 0.15933\n",
      "[LightGBM] [Warning] No further splits with positive gain, best gain: -inf\n",
      "[1103]#011train's binary_logloss: 0.0907549#011val's binary_logloss: 0.159304\n",
      "[1104]#011train's binary_logloss: 0.0906548#011val's binary_logloss: 0.159341\n",
      "[1105]#011train's binary_logloss: 0.0905479#011val's binary_logloss: 0.159313\n",
      "[1106]#011train's binary_logloss: 0.0904112#011val's binary_logloss: 0.159207\n",
      "[1107]#011train's binary_logloss: 0.0902991#011val's binary_logloss: 0.159157\n",
      "[LightGBM] [Warning] No further splits with positive gain, best gain: -inf\n",
      "[1108]#011train's binary_logloss: 0.0902079#011val's binary_logloss: 0.159071\n",
      "[1109]#011train's binary_logloss: 0.0901074#011val's binary_logloss: 0.159056\n",
      "[1110]#011train's binary_logloss: 0.0900025#011val's binary_logloss: 0.159031\n",
      "[LightGBM] [Warning] No further splits with positive gain, best gain: -inf\n",
      "[1111]#011train's binary_logloss: 0.0899223#011val's binary_logloss: 0.158975\n",
      "[LightGBM] [Warning] No further splits with positive gain, best gain: -inf\n",
      "[1112]#011train's binary_logloss: 0.0898815#011val's binary_logloss: 0.159\n",
      "[1113]#011train's binary_logloss: 0.0898067#011val's binary_logloss: 0.158941\n",
      "[1114]#011train's binary_logloss: 0.0897105#011val's binary_logloss: 0.158873\n",
      "[LightGBM] [Warning] No further splits with positive gain, best gain: -inf\n",
      "[1115]#011train's binary_logloss: 0.0896344#011val's binary_logloss: 0.158818\n",
      "[1116]#011train's binary_logloss: 0.0895187#011val's binary_logloss: 0.158725\n",
      "[LightGBM] [Warning] No further splits with positive gain, best gain: -inf\n",
      "[1117]#011train's binary_logloss: 0.0894314#011val's binary_logloss: 0.158616\n",
      "[1118]#011train's binary_logloss: 0.0892864#011val's binary_logloss: 0.158432\n",
      "[1119]#011train's binary_logloss: 0.0891745#011val's binary_logloss: 0.158397\n",
      "[1120]#011train's binary_logloss: 0.0890779#011val's binary_logloss: 0.158355\n",
      "[LightGBM] [Warning] No further splits with positive gain, best gain: -inf\n",
      "[1121]#011train's binary_logloss: 0.0889667#011val's binary_logloss: 0.158222\n",
      "[LightGBM] [Warning] No further splits with positive gain, best gain: -inf\n",
      "[1122]#011train's binary_logloss: 0.0888335#011val's binary_logloss: 0.158092\n",
      "[LightGBM] [Warning] No further splits with positive gain, best gain: -inf\n",
      "[1123]#011train's binary_logloss: 0.0887268#011val's binary_logloss: 0.157942\n",
      "[1124]#011train's binary_logloss: 0.0886554#011val's binary_logloss: 0.157899\n",
      "[LightGBM] [Warning] No further splits with positive gain, best gain: -inf\n",
      "[1125]#011train's binary_logloss: 0.0885245#011val's binary_logloss: 0.157763\n",
      "[LightGBM] [Warning] No further splits with positive gain, best gain: -inf\n",
      "[1126]#011train's binary_logloss: 0.0884203#011val's binary_logloss: 0.157626\n",
      "[LightGBM] [Warning] No further splits with positive gain, best gain: -inf\n",
      "[1127]#011train's binary_logloss: 0.0883222#011val's binary_logloss: 0.157513\n",
      "[LightGBM] [Warning] No further splits with positive gain, best gain: -inf\n",
      "[1128]#011train's binary_logloss: 0.08829#011val's binary_logloss: 0.157493\n",
      "[LightGBM] [Warning] No further splits with positive gain, best gain: -inf\n",
      "[1129]#011train's binary_logloss: 0.0881759#011val's binary_logloss: 0.157364\n",
      "[LightGBM] [Warning] No further splits with positive gain, best gain: -inf\n",
      "[1130]#011train's binary_logloss: 0.0880885#011val's binary_logloss: 0.157262\n",
      "[LightGBM] [Warning] No further splits with positive gain, best gain: -inf\n",
      "[1131]#011train's binary_logloss: 0.0879977#011val's binary_logloss: 0.15717\n",
      "[LightGBM] [Warning] No further splits with positive gain, best gain: -inf\n",
      "[1132]#011train's binary_logloss: 0.0878924#011val's binary_logloss: 0.157096\n",
      "[LightGBM] [Warning] No further splits with positive gain, best gain: -inf\n",
      "[1133]#011train's binary_logloss: 0.0877729#011val's binary_logloss: 0.156979\n",
      "[1134]#011train's binary_logloss: 0.0876695#011val's binary_logloss: 0.156996\n",
      "[1135]#011train's binary_logloss: 0.0875764#011val's binary_logloss: 0.156966\n",
      "[1136]#011train's binary_logloss: 0.0874589#011val's binary_logloss: 0.156914\n",
      "[1137]#011train's binary_logloss: 0.0873331#011val's binary_logloss: 0.156825\n",
      "[LightGBM] [Warning] No further splits with positive gain, best gain: -inf\n",
      "[1138]#011train's binary_logloss: 0.0872859#011val's binary_logloss: 0.156764\n",
      "[1139]#011train's binary_logloss: 0.0871907#011val's binary_logloss: 0.156756\n",
      "[1140]#011train's binary_logloss: 0.0871335#011val's binary_logloss: 0.156725\n",
      "[LightGBM] [Warning] No further splits with positive gain, best gain: -inf\n",
      "[1141]#011train's binary_logloss: 0.0870444#011val's binary_logloss: 0.156653\n",
      "[1142]#011train's binary_logloss: 0.0869451#011val's binary_logloss: 0.156571\n",
      "[1143]#011train's binary_logloss: 0.0868351#011val's binary_logloss: 0.156486\n",
      "[1144]#011train's binary_logloss: 0.0867255#011val's binary_logloss: 0.156406\n",
      "[LightGBM] [Warning] No further splits with positive gain, best gain: -inf\n",
      "[1145]#011train's binary_logloss: 0.0866667#011val's binary_logloss: 0.156398\n",
      "[LightGBM] [Warning] No further splits with positive gain, best gain: -inf\n",
      "[1146]#011train's binary_logloss: 0.0865827#011val's binary_logloss: 0.156354\n",
      "[1147]#011train's binary_logloss: 0.0864676#011val's binary_logloss: 0.156244\n",
      "[1148]#011train's binary_logloss: 0.0863554#011val's binary_logloss: 0.156138\n",
      "[LightGBM] [Warning] No further splits with positive gain, best gain: -inf\n",
      "[1149]#011train's binary_logloss: 0.0862842#011val's binary_logloss: 0.156121\n",
      "[1150]#011train's binary_logloss: 0.0862137#011val's binary_logloss: 0.156094\n",
      "[LightGBM] [Warning] No further splits with positive gain, best gain: -inf\n",
      "[1151]#011train's binary_logloss: 0.0861223#011val's binary_logloss: 0.156003\n",
      "[LightGBM] [Warning] No further splits with positive gain, best gain: -inf\n",
      "[1152]#011train's binary_logloss: 0.0860125#011val's binary_logloss: 0.15593\n",
      "[LightGBM] [Warning] No further splits with positive gain, best gain: -inf\n",
      "[1153]#011train's binary_logloss: 0.0859621#011val's binary_logloss: 0.155945\n",
      "[LightGBM] [Warning] No further splits with positive gain, best gain: -inf\n",
      "[1154]#011train's binary_logloss: 0.0858926#011val's binary_logloss: 0.15591\n",
      "[1155]#011train's binary_logloss: 0.085814#011val's binary_logloss: 0.155893\n",
      "[1156]#011train's binary_logloss: 0.0857222#011val's binary_logloss: 0.155859\n",
      "[LightGBM] [Warning] No further splits with positive gain, best gain: -inf\n",
      "[1157]#011train's binary_logloss: 0.0856323#011val's binary_logloss: 0.15579\n",
      "[1158]#011train's binary_logloss: 0.0855346#011val's binary_logloss: 0.155743\n",
      "[LightGBM] [Warning] No further splits with positive gain, best gain: -inf\n",
      "[1159]#011train's binary_logloss: 0.0854514#011val's binary_logloss: 0.155664\n",
      "[LightGBM] [Warning] No further splits with positive gain, best gain: -inf\n",
      "[1160]#011train's binary_logloss: 0.0853636#011val's binary_logloss: 0.155598\n",
      "[1161]#011train's binary_logloss: 0.0852655#011val's binary_logloss: 0.155581\n",
      "[1162]#011train's binary_logloss: 0.0851425#011val's binary_logloss: 0.155475\n",
      "[1163]#011train's binary_logloss: 0.0850264#011val's binary_logloss: 0.155418\n",
      "[LightGBM] [Warning] No further splits with positive gain, best gain: -inf\n",
      "[1164]#011train's binary_logloss: 0.0849492#011val's binary_logloss: 0.15536\n",
      "[1165]#011train's binary_logloss: 0.0848272#011val's binary_logloss: 0.155302\n",
      "[LightGBM] [Warning] No further splits with positive gain, best gain: -inf\n",
      "[1166]#011train's binary_logloss: 0.0847665#011val's binary_logloss: 0.1553\n",
      "[LightGBM] [Warning] No further splits with positive gain, best gain: -inf\n",
      "[1167]#011train's binary_logloss: 0.084705#011val's binary_logloss: 0.155302\n",
      "[1168]#011train's binary_logloss: 0.084611#011val's binary_logloss: 0.155271\n",
      "[LightGBM] [Warning] No further splits with positive gain, best gain: -inf\n",
      "[1169]#011train's binary_logloss: 0.0845356#011val's binary_logloss: 0.155201\n",
      "[1170]#011train's binary_logloss: 0.0844447#011val's binary_logloss: 0.155191\n",
      "[LightGBM] [Warning] No further splits with positive gain, best gain: -inf\n",
      "[1171]#011train's binary_logloss: 0.0843259#011val's binary_logloss: 0.15506\n",
      "[LightGBM] [Warning] No further splits with positive gain, best gain: -inf\n",
      "[1172]#011train's binary_logloss: 0.0842717#011val's binary_logloss: 0.155062\n",
      "[LightGBM] [Warning] No further splits with positive gain, best gain: -inf\n",
      "[1173]#011train's binary_logloss: 0.0841225#011val's binary_logloss: 0.154939\n",
      "[1174]#011train's binary_logloss: 0.0840031#011val's binary_logloss: 0.154892\n",
      "[LightGBM] [Warning] No further splits with positive gain, best gain: -inf\n",
      "[1175]#011train's binary_logloss: 0.0838658#011val's binary_logloss: 0.154779\n",
      "[LightGBM] [Warning] No further splits with positive gain, best gain: -inf\n",
      "[1176]#011train's binary_logloss: 0.0837779#011val's binary_logloss: 0.154725\n",
      "[LightGBM] [Warning] No further splits with positive gain, best gain: -inf\n",
      "[1177]#011train's binary_logloss: 0.0837008#011val's binary_logloss: 0.15461\n",
      "[LightGBM] [Warning] No further splits with positive gain, best gain: -inf\n",
      "[1178]#011train's binary_logloss: 0.0836076#011val's binary_logloss: 0.154545\n",
      "[LightGBM] [Warning] No further splits with positive gain, best gain: -inf\n",
      "[1179]#011train's binary_logloss: 0.0835258#011val's binary_logloss: 0.154551\n",
      "[LightGBM] [Warning] No further splits with positive gain, best gain: -inf\n",
      "[1180]#011train's binary_logloss: 0.0834506#011val's binary_logloss: 0.154439\n",
      "[LightGBM] [Warning] No further splits with positive gain, best gain: -inf\n",
      "[1181]#011train's binary_logloss: 0.083355#011val's binary_logloss: 0.154317\n",
      "[LightGBM] [Warning] No further splits with positive gain, best gain: -inf\n",
      "[1182]#011train's binary_logloss: 0.0832521#011val's binary_logloss: 0.154162\n",
      "[1183]#011train's binary_logloss: 0.083136#011val's binary_logloss: 0.154141\n",
      "[1184]#011train's binary_logloss: 0.0830252#011val's binary_logloss: 0.154102\n",
      "[1185]#011train's binary_logloss: 0.0829154#011val's binary_logloss: 0.154093\n",
      "[1186]#011train's binary_logloss: 0.0828535#011val's binary_logloss: 0.154068\n",
      "[1187]#011train's binary_logloss: 0.0827704#011val's binary_logloss: 0.154046\n",
      "[1188]#011train's binary_logloss: 0.0826621#011val's binary_logloss: 0.154006\n",
      "[1189]#011train's binary_logloss: 0.0826005#011val's binary_logloss: 0.154012\n",
      "[1190]#011train's binary_logloss: 0.0825404#011val's binary_logloss: 0.154021\n",
      "[1191]#011train's binary_logloss: 0.0824029#011val's binary_logloss: 0.153968\n",
      "[1192]#011train's binary_logloss: 0.0822746#011val's binary_logloss: 0.15387\n",
      "[1193]#011train's binary_logloss: 0.0821668#011val's binary_logloss: 0.153824\n",
      "[1194]#011train's binary_logloss: 0.0820645#011val's binary_logloss: 0.15379\n",
      "[1195]#011train's binary_logloss: 0.0819369#011val's binary_logloss: 0.153704\n",
      "[1196]#011train's binary_logloss: 0.0818229#011val's binary_logloss: 0.15362\n",
      "[LightGBM] [Warning] No further splits with positive gain, best gain: -inf\n",
      "[1197]#011train's binary_logloss: 0.0817274#011val's binary_logloss: 0.1535\n",
      "[LightGBM] [Warning] No further splits with positive gain, best gain: -inf\n",
      "[1198]#011train's binary_logloss: 0.0816589#011val's binary_logloss: 0.153508\n",
      "[LightGBM] [Warning] No further splits with positive gain, best gain: -inf\n",
      "[1199]#011train's binary_logloss: 0.0815565#011val's binary_logloss: 0.15346\n",
      "[1200]#011train's binary_logloss: 0.0814809#011val's binary_logloss: 0.153426\n",
      "[1201]#011train's binary_logloss: 0.0813749#011val's binary_logloss: 0.153332\n",
      "[1202]#011train's binary_logloss: 0.0812492#011val's binary_logloss: 0.153206\n",
      "[1203]#011train's binary_logloss: 0.0811594#011val's binary_logloss: 0.153194\n",
      "[1204]#011train's binary_logloss: 0.0810408#011val's binary_logloss: 0.153082\n",
      "[1205]#011train's binary_logloss: 0.0809451#011val's binary_logloss: 0.15299\n",
      "[LightGBM] [Warning] No further splits with positive gain, best gain: -inf\n",
      "[1206]#011train's binary_logloss: 0.0808599#011val's binary_logloss: 0.152935\n",
      "[LightGBM] [Warning] No further splits with positive gain, best gain: -inf\n",
      "[1207]#011train's binary_logloss: 0.0807601#011val's binary_logloss: 0.152861\n",
      "[1208]#011train's binary_logloss: 0.0807064#011val's binary_logloss: 0.152855\n",
      "[LightGBM] [Warning] No further splits with positive gain, best gain: -inf\n",
      "[1209]#011train's binary_logloss: 0.0806167#011val's binary_logloss: 0.152786\n",
      "[LightGBM] [Warning] No further splits with positive gain, best gain: -inf\n",
      "[1210]#011train's binary_logloss: 0.0805233#011val's binary_logloss: 0.152669\n",
      "[1211]#011train's binary_logloss: 0.0804354#011val's binary_logloss: 0.152668\n",
      "[LightGBM] [Warning] No further splits with positive gain, best gain: -inf\n",
      "[1212]#011train's binary_logloss: 0.0803639#011val's binary_logloss: 0.152656\n",
      "[LightGBM] [Warning] No further splits with positive gain, best gain: -inf\n",
      "[1213]#011train's binary_logloss: 0.0803164#011val's binary_logloss: 0.152606\n",
      "[1214]#011train's binary_logloss: 0.0802488#011val's binary_logloss: 0.152563\n",
      "[1215]#011train's binary_logloss: 0.0801391#011val's binary_logloss: 0.152476\n",
      "[1216]#011train's binary_logloss: 0.0800567#011val's binary_logloss: 0.152411\n",
      "[LightGBM] [Warning] No further splits with positive gain, best gain: -inf\n",
      "[1217]#011train's binary_logloss: 0.0799493#011val's binary_logloss: 0.1523\n",
      "[LightGBM] [Warning] No further splits with positive gain, best gain: -inf\n",
      "[1218]#011train's binary_logloss: 0.0798523#011val's binary_logloss: 0.152179\n",
      "[LightGBM] [Warning] No further splits with positive gain, best gain: -inf\n",
      "[1219]#011train's binary_logloss: 0.0797568#011val's binary_logloss: 0.152062\n",
      "[LightGBM] [Warning] No further splits with positive gain, best gain: -inf\n",
      "[1220]#011train's binary_logloss: 0.0797351#011val's binary_logloss: 0.15206\n",
      "[1221]#011train's binary_logloss: 0.0796188#011val's binary_logloss: 0.15199\n",
      "[LightGBM] [Warning] No further splits with positive gain, best gain: -inf\n",
      "[1222]#011train's binary_logloss: 0.0795466#011val's binary_logloss: 0.151989\n",
      "[1223]#011train's binary_logloss: 0.0794646#011val's binary_logloss: 0.151928\n",
      "[1224]#011train's binary_logloss: 0.0793557#011val's binary_logloss: 0.151884\n",
      "[LightGBM] [Warning] No further splits with positive gain, best gain: -inf\n",
      "[1225]#011train's binary_logloss: 0.0793031#011val's binary_logloss: 0.151804\n",
      "[LightGBM] [Warning] No further splits with positive gain, best gain: -inf\n",
      "[1226]#011train's binary_logloss: 0.0792381#011val's binary_logloss: 0.151776\n",
      "[LightGBM] [Warning] No further splits with positive gain, best gain: -inf\n",
      "[1227]#011train's binary_logloss: 0.0791563#011val's binary_logloss: 0.151673\n",
      "[LightGBM] [Warning] No further splits with positive gain, best gain: -inf\n",
      "[1228]#011train's binary_logloss: 0.0790926#011val's binary_logloss: 0.151646\n",
      "[1229]#011train's binary_logloss: 0.0789963#011val's binary_logloss: 0.151571\n",
      "[LightGBM] [Warning] No further splits with positive gain, best gain: -inf\n",
      "[1230]#011train's binary_logloss: 0.0789222#011val's binary_logloss: 0.151538\n",
      "[1231]#011train's binary_logloss: 0.0788322#011val's binary_logloss: 0.151507\n",
      "[1232]#011train's binary_logloss: 0.0787425#011val's binary_logloss: 0.151501\n",
      "[1233]#011train's binary_logloss: 0.078678#011val's binary_logloss: 0.151477\n",
      "[1234]#011train's binary_logloss: 0.0786238#011val's binary_logloss: 0.15144\n",
      "[1235]#011train's binary_logloss: 0.0785368#011val's binary_logloss: 0.151366\n",
      "[LightGBM] [Warning] No further splits with positive gain, best gain: -inf\n",
      "[1236]#011train's binary_logloss: 0.0784767#011val's binary_logloss: 0.151346\n",
      "[1237]#011train's binary_logloss: 0.0784372#011val's binary_logloss: 0.151378\n",
      "[LightGBM] [Warning] No further splits with positive gain, best gain: -inf\n",
      "[1238]#011train's binary_logloss: 0.0783801#011val's binary_logloss: 0.151371\n",
      "[1239]#011train's binary_logloss: 0.078318#011val's binary_logloss: 0.151333\n",
      "[LightGBM] [Warning] No further splits with positive gain, best gain: -inf\n",
      "[1240]#011train's binary_logloss: 0.0782768#011val's binary_logloss: 0.151339\n",
      "[LightGBM] [Warning] No further splits with positive gain, best gain: -inf\n",
      "[1241]#011train's binary_logloss: 0.078202#011val's binary_logloss: 0.151219\n",
      "[LightGBM] [Warning] No further splits with positive gain, best gain: -inf\n",
      "[1242]#011train's binary_logloss: 0.0781372#011val's binary_logloss: 0.151143\n",
      "[1243]#011train's binary_logloss: 0.0780317#011val's binary_logloss: 0.15107\n",
      "[1244]#011train's binary_logloss: 0.0779242#011val's binary_logloss: 0.150988\n",
      "[1245]#011train's binary_logloss: 0.0778351#011val's binary_logloss: 0.150917\n",
      "[1246]#011train's binary_logloss: 0.0777525#011val's binary_logloss: 0.150856\n",
      "[1247]#011train's binary_logloss: 0.0776729#011val's binary_logloss: 0.150825\n",
      "[1248]#011train's binary_logloss: 0.0775815#011val's binary_logloss: 0.150815\n",
      "[1249]#011train's binary_logloss: 0.0774898#011val's binary_logloss: 0.15072\n",
      "[1250]#011train's binary_logloss: 0.0774068#011val's binary_logloss: 0.150709\n",
      "[1251]#011train's binary_logloss: 0.0773486#011val's binary_logloss: 0.150716\n",
      "[LightGBM] [Warning] No further splits with positive gain, best gain: -inf\n",
      "[1252]#011train's binary_logloss: 0.0772775#011val's binary_logloss: 0.150703\n",
      "[LightGBM] [Warning] No further splits with positive gain, best gain: -inf\n",
      "[1253]#011train's binary_logloss: 0.0772146#011val's binary_logloss: 0.1507\n",
      "[LightGBM] [Warning] No further splits with positive gain, best gain: -inf\n",
      "[1254]#011train's binary_logloss: 0.0771225#011val's binary_logloss: 0.150625\n",
      "[1255]#011train's binary_logloss: 0.0770339#011val's binary_logloss: 0.15056\n",
      "[LightGBM] [Warning] No further splits with positive gain, best gain: -inf\n",
      "[1256]#011train's binary_logloss: 0.0769513#011val's binary_logloss: 0.150457\n",
      "[LightGBM] [Warning] No further splits with positive gain, best gain: -inf\n",
      "[1257]#011train's binary_logloss: 0.0768603#011val's binary_logloss: 0.150383\n",
      "[LightGBM] [Warning] No further splits with positive gain, best gain: -inf\n",
      "[1258]#011train's binary_logloss: 0.07679#011val's binary_logloss: 0.150297\n",
      "[LightGBM] [Warning] No further splits with positive gain, best gain: -inf\n",
      "[1259]#011train's binary_logloss: 0.0767172#011val's binary_logloss: 0.150217\n",
      "[LightGBM] [Warning] No further splits with positive gain, best gain: -inf\n",
      "[1260]#011train's binary_logloss: 0.0766382#011val's binary_logloss: 0.150118\n",
      "[LightGBM] [Warning] No further splits with positive gain, best gain: -inf\n",
      "[1261]#011train's binary_logloss: 0.0765773#011val's binary_logloss: 0.150073\n",
      "[1262]#011train's binary_logloss: 0.0764843#011val's binary_logloss: 0.15002\n",
      "[LightGBM] [Warning] No further splits with positive gain, best gain: -inf\n",
      "[1263]#011train's binary_logloss: 0.0764149#011val's binary_logloss: 0.149972\n",
      "[LightGBM] [Warning] No further splits with positive gain, best gain: -inf\n",
      "[1264]#011train's binary_logloss: 0.0763739#011val's binary_logloss: 0.149971\n",
      "[LightGBM] [Warning] No further splits with positive gain, best gain: -inf\n",
      "[1265]#011train's binary_logloss: 0.0763273#011val's binary_logloss: 0.149951\n",
      "[1266]#011train's binary_logloss: 0.0762309#011val's binary_logloss: 0.149913\n",
      "[1267]#011train's binary_logloss: 0.076143#011val's binary_logloss: 0.149987\n",
      "[LightGBM] [Warning] No further splits with positive gain, best gain: -inf\n",
      "[1268]#011train's binary_logloss: 0.076098#011val's binary_logloss: 0.149958\n",
      "[1269]#011train's binary_logloss: 0.0760213#011val's binary_logloss: 0.149912\n",
      "[1270]#011train's binary_logloss: 0.0759407#011val's binary_logloss: 0.149921\n",
      "[1271]#011train's binary_logloss: 0.0758651#011val's binary_logloss: 0.149894\n",
      "[1272]#011train's binary_logloss: 0.0757823#011val's binary_logloss: 0.149872\n",
      "[1273]#011train's binary_logloss: 0.0757063#011val's binary_logloss: 0.149846\n",
      "[1274]#011train's binary_logloss: 0.0756543#011val's binary_logloss: 0.149836\n",
      "[1275]#011train's binary_logloss: 0.0755792#011val's binary_logloss: 0.149806\n",
      "[LightGBM] [Warning] No further splits with positive gain, best gain: -inf\n",
      "[1276]#011train's binary_logloss: 0.0755399#011val's binary_logloss: 0.149857\n",
      "[1277]#011train's binary_logloss: 0.0754852#011val's binary_logloss: 0.14984\n",
      "[1278]#011train's binary_logloss: 0.075382#011val's binary_logloss: 0.149763\n",
      "[LightGBM] [Warning] No further splits with positive gain, best gain: -inf\n",
      "[1279]#011train's binary_logloss: 0.0753319#011val's binary_logloss: 0.149811\n",
      "[1280]#011train's binary_logloss: 0.075224#011val's binary_logloss: 0.149765\n",
      "[1281]#011train's binary_logloss: 0.0751676#011val's binary_logloss: 0.149755\n",
      "[LightGBM] [Warning] No further splits with positive gain, best gain: -inf\n",
      "[1282]#011train's binary_logloss: 0.0751049#011val's binary_logloss: 0.149761\n",
      "[1283]#011train's binary_logloss: 0.0750169#011val's binary_logloss: 0.149699\n",
      "[LightGBM] [Warning] No further splits with positive gain, best gain: -inf\n",
      "[1284]#011train's binary_logloss: 0.0749539#011val's binary_logloss: 0.149658\n",
      "[1285]#011train's binary_logloss: 0.0748908#011val's binary_logloss: 0.149632\n",
      "[1286]#011train's binary_logloss: 0.0747807#011val's binary_logloss: 0.149602\n",
      "[1287]#011train's binary_logloss: 0.0746515#011val's binary_logloss: 0.1495\n",
      "[1288]#011train's binary_logloss: 0.0745452#011val's binary_logloss: 0.149486\n",
      "[1289]#011train's binary_logloss: 0.0744413#011val's binary_logloss: 0.14944\n",
      "[LightGBM] [Warning] No further splits with positive gain, best gain: -inf\n",
      "[1290]#011train's binary_logloss: 0.0743728#011val's binary_logloss: 0.149366\n",
      "[LightGBM] [Warning] No further splits with positive gain, best gain: -inf\n",
      "[1291]#011train's binary_logloss: 0.0743281#011val's binary_logloss: 0.149375\n",
      "[LightGBM] [Warning] No further splits with positive gain, best gain: -inf\n",
      "[1292]#011train's binary_logloss: 0.0742678#011val's binary_logloss: 0.149354\n",
      "[LightGBM] [Warning] No further splits with positive gain, best gain: -inf\n",
      "[1293]#011train's binary_logloss: 0.0742018#011val's binary_logloss: 0.149357\n",
      "[LightGBM] [Warning] No further splits with positive gain, best gain: -inf\n",
      "[1294]#011train's binary_logloss: 0.0741279#011val's binary_logloss: 0.149356\n",
      "[LightGBM] [Warning] No further splits with positive gain, best gain: -inf\n",
      "[1295]#011train's binary_logloss: 0.0740673#011val's binary_logloss: 0.149385\n",
      "[1296]#011train's binary_logloss: 0.0739326#011val's binary_logloss: 0.149298\n",
      "[1297]#011train's binary_logloss: 0.0738347#011val's binary_logloss: 0.149264\n",
      "[LightGBM] [Warning] No further splits with positive gain, best gain: -inf\n",
      "[1298]#011train's binary_logloss: 0.0737225#011val's binary_logloss: 0.149119\n",
      "[1299]#011train's binary_logloss: 0.0736039#011val's binary_logloss: 0.149042\n",
      "[1300]#011train's binary_logloss: 0.0734958#011val's binary_logloss: 0.148894\n",
      "[1301]#011train's binary_logloss: 0.0734092#011val's binary_logloss: 0.148828\n",
      "[1302]#011train's binary_logloss: 0.0733432#011val's binary_logloss: 0.148814\n",
      "[1303]#011train's binary_logloss: 0.073264#011val's binary_logloss: 0.148756\n",
      "[1304]#011train's binary_logloss: 0.0731908#011val's binary_logloss: 0.148761\n",
      "[1305]#011train's binary_logloss: 0.0731063#011val's binary_logloss: 0.148763\n",
      "[LightGBM] [Warning] No further splits with positive gain, best gain: -inf\n",
      "[1306]#011train's binary_logloss: 0.0730645#011val's binary_logloss: 0.148759\n",
      "[LightGBM] [Warning] No further splits with positive gain, best gain: -inf\n",
      "[1307]#011train's binary_logloss: 0.073023#011val's binary_logloss: 0.148763\n",
      "[LightGBM] [Warning] No further splits with positive gain, best gain: -inf\n",
      "[1308]#011train's binary_logloss: 0.0729802#011val's binary_logloss: 0.148734\n",
      "[LightGBM] [Warning] No further splits with positive gain, best gain: -inf\n",
      "[1309]#011train's binary_logloss: 0.0729337#011val's binary_logloss: 0.148728\n",
      "[LightGBM] [Warning] No further splits with positive gain, best gain: -inf\n",
      "[1310]#011train's binary_logloss: 0.0728242#011val's binary_logloss: 0.148596\n",
      "[LightGBM] [Warning] No further splits with positive gain, best gain: -inf\n",
      "[1311]#011train's binary_logloss: 0.0727397#011val's binary_logloss: 0.148494\n",
      "[1312]#011train's binary_logloss: 0.0726636#011val's binary_logloss: 0.148521\n",
      "[1313]#011train's binary_logloss: 0.0726031#011val's binary_logloss: 0.148538\n",
      "[LightGBM] [Warning] No further splits with positive gain, best gain: -inf\n",
      "[1314]#011train's binary_logloss: 0.0725422#011val's binary_logloss: 0.14851\n",
      "[1315]#011train's binary_logloss: 0.0724692#011val's binary_logloss: 0.148464\n",
      "[LightGBM] [Warning] No further splits with positive gain, best gain: -inf\n",
      "[1316]#011train's binary_logloss: 0.072389#011val's binary_logloss: 0.148366\n",
      "[LightGBM] [Warning] No further splits with positive gain, best gain: -inf\n",
      "[1317]#011train's binary_logloss: 0.07231#011val's binary_logloss: 0.148269\n",
      "[LightGBM] [Warning] No further splits with positive gain, best gain: -inf\n",
      "[1318]#011train's binary_logloss: 0.072229#011val's binary_logloss: 0.148202\n",
      "[LightGBM] [Warning] No further splits with positive gain, best gain: -inf\n",
      "[1319]#011train's binary_logloss: 0.0721576#011val's binary_logloss: 0.148122\n",
      "[1320]#011train's binary_logloss: 0.0720419#011val's binary_logloss: 0.148051\n",
      "[LightGBM] [Warning] No further splits with positive gain, best gain: -inf\n",
      "[1321]#011train's binary_logloss: 0.0720001#011val's binary_logloss: 0.148003\n",
      "[1322]#011train's binary_logloss: 0.0719316#011val's binary_logloss: 0.147988\n",
      "[LightGBM] [Warning] No further splits with positive gain, best gain: -inf\n",
      "[1323]#011train's binary_logloss: 0.0719033#011val's binary_logloss: 0.148002\n",
      "[LightGBM] [Warning] No further splits with positive gain, best gain: -inf\n",
      "[1324]#011train's binary_logloss: 0.0718405#011val's binary_logloss: 0.147963\n",
      "[1325]#011train's binary_logloss: 0.0717726#011val's binary_logloss: 0.147941\n",
      "[1326]#011train's binary_logloss: 0.0716731#011val's binary_logloss: 0.147902\n",
      "[1327]#011train's binary_logloss: 0.071592#011val's binary_logloss: 0.147827\n",
      "[1328]#011train's binary_logloss: 0.0714866#011val's binary_logloss: 0.147802\n",
      "[1329]#011train's binary_logloss: 0.0713854#011val's binary_logloss: 0.147783\n",
      "[1330]#011train's binary_logloss: 0.0713031#011val's binary_logloss: 0.147694\n",
      "[1331]#011train's binary_logloss: 0.0712175#011val's binary_logloss: 0.147635\n",
      "[1332]#011train's binary_logloss: 0.0711366#011val's binary_logloss: 0.14753\n",
      "[LightGBM] [Warning] No further splits with positive gain, best gain: -inf\n",
      "[1333]#011train's binary_logloss: 0.0710962#011val's binary_logloss: 0.147512\n",
      "[1334]#011train's binary_logloss: 0.0710293#011val's binary_logloss: 0.147421\n",
      "[LightGBM] [Warning] No further splits with positive gain, best gain: -inf\n",
      "[1335]#011train's binary_logloss: 0.0709828#011val's binary_logloss: 0.147357\n",
      "[LightGBM] [Warning] No further splits with positive gain, best gain: -inf\n",
      "[1336]#011train's binary_logloss: 0.0709521#011val's binary_logloss: 0.147336\n",
      "[LightGBM] [Warning] No further splits with positive gain, best gain: -inf\n",
      "[1337]#011train's binary_logloss: 0.0709042#011val's binary_logloss: 0.147318\n",
      "[LightGBM] [Warning] No further splits with positive gain, best gain: -inf\n",
      "[1338]#011train's binary_logloss: 0.0708584#011val's binary_logloss: 0.147295\n",
      "[LightGBM] [Warning] No further splits with positive gain, best gain: -inf\n",
      "[1339]#011train's binary_logloss: 0.0707833#011val's binary_logloss: 0.147273\n",
      "[1340]#011train's binary_logloss: 0.0707105#011val's binary_logloss: 0.147253\n",
      "[1341]#011train's binary_logloss: 0.0706198#011val's binary_logloss: 0.147235\n",
      "[LightGBM] [Warning] No further splits with positive gain, best gain: -inf\n",
      "[1342]#011train's binary_logloss: 0.0705615#011val's binary_logloss: 0.147208\n",
      "[LightGBM] [Warning] No further splits with positive gain, best gain: -inf\n",
      "[1343]#011train's binary_logloss: 0.0705126#011val's binary_logloss: 0.147149\n",
      "[1344]#011train's binary_logloss: 0.0704369#011val's binary_logloss: 0.147117\n",
      "[1345]#011train's binary_logloss: 0.0703912#011val's binary_logloss: 0.147108\n",
      "[LightGBM] [Warning] No further splits with positive gain, best gain: -inf\n",
      "[1346]#011train's binary_logloss: 0.0703682#011val's binary_logloss: 0.147109\n",
      "[LightGBM] [Warning] No further splits with positive gain, best gain: -inf\n",
      "[1347]#011train's binary_logloss: 0.0703167#011val's binary_logloss: 0.1471\n",
      "[LightGBM] [Warning] No further splits with positive gain, best gain: -inf\n",
      "[1348]#011train's binary_logloss: 0.0702729#011val's binary_logloss: 0.147066\n",
      "[1349]#011train's binary_logloss: 0.070167#011val's binary_logloss: 0.147017\n",
      "[1350]#011train's binary_logloss: 0.0701329#011val's binary_logloss: 0.147032\n",
      "[LightGBM] [Warning] No further splits with positive gain, best gain: -inf\n",
      "[1351]#011train's binary_logloss: 0.0700962#011val's binary_logloss: 0.147017\n",
      "[LightGBM] [Warning] No further splits with positive gain, best gain: -inf\n",
      "[1352]#011train's binary_logloss: 0.0700548#011val's binary_logloss: 0.146984\n",
      "[1353]#011train's binary_logloss: 0.0699878#011val's binary_logloss: 0.146912\n",
      "[1354]#011train's binary_logloss: 0.0699114#011val's binary_logloss: 0.1468\n",
      "[LightGBM] [Warning] No further splits with positive gain, best gain: -inf\n",
      "[1355]#011train's binary_logloss: 0.0698731#011val's binary_logloss: 0.146761\n",
      "[1356]#011train's binary_logloss: 0.0698025#011val's binary_logloss: 0.146761\n",
      "[1357]#011train's binary_logloss: 0.0697224#011val's binary_logloss: 0.146737\n",
      "[1358]#011train's binary_logloss: 0.0696379#011val's binary_logloss: 0.146684\n",
      "[LightGBM] [Warning] No further splits with positive gain, best gain: -inf\n",
      "[1359]#011train's binary_logloss: 0.0695937#011val's binary_logloss: 0.146643\n",
      "[1360]#011train's binary_logloss: 0.0695103#011val's binary_logloss: 0.146591\n",
      "[1361]#011train's binary_logloss: 0.0694473#011val's binary_logloss: 0.146602\n",
      "[LightGBM] [Warning] No further splits with positive gain, best gain: -inf\n",
      "[1362]#011train's binary_logloss: 0.0693832#011val's binary_logloss: 0.146621\n",
      "[1363]#011train's binary_logloss: 0.0693075#011val's binary_logloss: 0.14657\n",
      "[1364]#011train's binary_logloss: 0.0692463#011val's binary_logloss: 0.146581\n",
      "[LightGBM] [Warning] No further splits with positive gain, best gain: -inf\n",
      "[1365]#011train's binary_logloss: 0.069168#011val's binary_logloss: 0.146511\n",
      "[LightGBM] [Warning] No further splits with positive gain, best gain: -inf\n",
      "[1366]#011train's binary_logloss: 0.0690847#011val's binary_logloss: 0.146427\n",
      "[LightGBM] [Warning] No further splits with positive gain, best gain: -inf\n",
      "[1367]#011train's binary_logloss: 0.0689947#011val's binary_logloss: 0.146352\n",
      "[LightGBM] [Warning] No further splits with positive gain, best gain: -inf\n",
      "[1368]#011train's binary_logloss: 0.0689273#011val's binary_logloss: 0.146291\n",
      "[LightGBM] [Warning] No further splits with positive gain, best gain: -inf\n",
      "[1369]#011train's binary_logloss: 0.0688666#011val's binary_logloss: 0.146205\n",
      "[LightGBM] [Warning] No further splits with positive gain, best gain: -inf\n",
      "[1370]#011train's binary_logloss: 0.0687855#011val's binary_logloss: 0.146124\n",
      "[LightGBM] [Warning] No further splits with positive gain, best gain: -inf\n",
      "[1371]#011train's binary_logloss: 0.0687465#011val's binary_logloss: 0.146112\n",
      "[LightGBM] [Warning] No further splits with positive gain, best gain: -inf\n",
      "[1372]#011train's binary_logloss: 0.0686443#011val's binary_logloss: 0.145967\n",
      "[LightGBM] [Warning] No further splits with positive gain, best gain: -inf\n",
      "[1373]#011train's binary_logloss: 0.0686081#011val's binary_logloss: 0.145963\n",
      "[LightGBM] [Warning] No further splits with positive gain, best gain: -inf\n",
      "[1374]#011train's binary_logloss: 0.0685229#011val's binary_logloss: 0.145882\n",
      "[LightGBM] [Warning] No further splits with positive gain, best gain: -inf\n",
      "[1375]#011train's binary_logloss: 0.0684855#011val's binary_logloss: 0.145878\n",
      "[1376]#011train's binary_logloss: 0.0684102#011val's binary_logloss: 0.145851\n",
      "[LightGBM] [Warning] No further splits with positive gain, best gain: -inf\n",
      "[1377]#011train's binary_logloss: 0.0683361#011val's binary_logloss: 0.145804\n",
      "[1378]#011train's binary_logloss: 0.0682736#011val's binary_logloss: 0.145767\n",
      "[1379]#011train's binary_logloss: 0.0682296#011val's binary_logloss: 0.145779\n",
      "[1380]#011train's binary_logloss: 0.068143#011val's binary_logloss: 0.145713\n",
      "[LightGBM] [Warning] No further splits with positive gain, best gain: -inf\n",
      "[1381]#011train's binary_logloss: 0.0680628#011val's binary_logloss: 0.145715\n",
      "[LightGBM] [Warning] No further splits with positive gain, best gain: -inf\n",
      "[1382]#011train's binary_logloss: 0.0680026#011val's binary_logloss: 0.145644\n",
      "[LightGBM] [Warning] No further splits with positive gain, best gain: -inf\n",
      "[1383]#011train's binary_logloss: 0.0679621#011val's binary_logloss: 0.145641\n",
      "[1384]#011train's binary_logloss: 0.0678922#011val's binary_logloss: 0.145607\n",
      "[LightGBM] [Warning] No further splits with positive gain, best gain: -inf\n",
      "[1385]#011train's binary_logloss: 0.0678269#011val's binary_logloss: 0.145562\n",
      "[LightGBM] [Warning] No further splits with positive gain, best gain: -inf\n",
      "[1386]#011train's binary_logloss: 0.0677905#011val's binary_logloss: 0.14553\n",
      "[LightGBM] [Warning] No further splits with positive gain, best gain: -inf\n",
      "[1387]#011train's binary_logloss: 0.0677427#011val's binary_logloss: 0.145474\n",
      "[LightGBM] [Warning] No further splits with positive gain, best gain: -inf\n",
      "[1388]#011train's binary_logloss: 0.0677054#011val's binary_logloss: 0.145445\n",
      "[LightGBM] [Warning] No further splits with positive gain, best gain: -inf\n",
      "[1389]#011train's binary_logloss: 0.0676631#011val's binary_logloss: 0.145416\n",
      "[LightGBM] [Warning] No further splits with positive gain, best gain: -inf\n",
      "[1390]#011train's binary_logloss: 0.0676229#011val's binary_logloss: 0.145385\n",
      "[1391]#011train's binary_logloss: 0.0675469#011val's binary_logloss: 0.145397\n",
      "[1392]#011train's binary_logloss: 0.0674846#011val's binary_logloss: 0.145305\n",
      "[1393]#011train's binary_logloss: 0.0674101#011val's binary_logloss: 0.14523\n",
      "[LightGBM] [Warning] No further splits with positive gain, best gain: -inf\n",
      "[1394]#011train's binary_logloss: 0.0673735#011val's binary_logloss: 0.145246\n",
      "[1395]#011train's binary_logloss: 0.067311#011val's binary_logloss: 0.145179\n",
      "[1396]#011train's binary_logloss: 0.0672473#011val's binary_logloss: 0.145196\n",
      "[1397]#011train's binary_logloss: 0.0671797#011val's binary_logloss: 0.145165\n",
      "[1398]#011train's binary_logloss: 0.0671012#011val's binary_logloss: 0.145146\n",
      "[1399]#011train's binary_logloss: 0.0670333#011val's binary_logloss: 0.145152\n",
      "[1400]#011train's binary_logloss: 0.0669608#011val's binary_logloss: 0.145109\n",
      "[LightGBM] [Warning] No further splits with positive gain, best gain: -inf\n",
      "[1401]#011train's binary_logloss: 0.0669104#011val's binary_logloss: 0.145036\n",
      "[LightGBM] [Warning] No further splits with positive gain, best gain: -inf\n",
      "[1402]#011train's binary_logloss: 0.0668425#011val's binary_logloss: 0.145031\n",
      "[LightGBM] [Warning] No further splits with positive gain, best gain: -inf\n",
      "[1403]#011train's binary_logloss: 0.0667699#011val's binary_logloss: 0.145014\n",
      "[1404]#011train's binary_logloss: 0.0667024#011val's binary_logloss: 0.145002\n",
      "[LightGBM] [Warning] No further splits with positive gain, best gain: -inf\n",
      "[1405]#011train's binary_logloss: 0.0666568#011val's binary_logloss: 0.145008\n",
      "[1406]#011train's binary_logloss: 0.0665705#011val's binary_logloss: 0.144961\n",
      "[1407]#011train's binary_logloss: 0.0664672#011val's binary_logloss: 0.144866\n",
      "[LightGBM] [Warning] No further splits with positive gain, best gain: -inf\n",
      "[1408]#011train's binary_logloss: 0.0664172#011val's binary_logloss: 0.144906\n",
      "[1409]#011train's binary_logloss: 0.0663193#011val's binary_logloss: 0.144837\n",
      "[1410]#011train's binary_logloss: 0.0662264#011val's binary_logloss: 0.144775\n",
      "[LightGBM] [Warning] No further splits with positive gain, best gain: -inf\n",
      "[1411]#011train's binary_logloss: 0.0662072#011val's binary_logloss: 0.144793\n",
      "[LightGBM] [Warning] No further splits with positive gain, best gain: -inf\n",
      "[1412]#011train's binary_logloss: 0.0661476#011val's binary_logloss: 0.144782\n",
      "[LightGBM] [Warning] No further splits with positive gain, best gain: -inf\n",
      "[1413]#011train's binary_logloss: 0.0661019#011val's binary_logloss: 0.144746\n",
      "[LightGBM] [Warning] No further splits with positive gain, best gain: -inf\n",
      "[1414]#011train's binary_logloss: 0.0660683#011val's binary_logloss: 0.144757\n",
      "[LightGBM] [Warning] No further splits with positive gain, best gain: -inf\n",
      "[1415]#011train's binary_logloss: 0.0660213#011val's binary_logloss: 0.14473\n",
      "[1416]#011train's binary_logloss: 0.0659549#011val's binary_logloss: 0.144712\n",
      "[1417]#011train's binary_logloss: 0.0658731#011val's binary_logloss: 0.144673\n",
      "[LightGBM] [Warning] No further splits with positive gain, best gain: -inf\n",
      "[1418]#011train's binary_logloss: 0.0658168#011val's binary_logloss: 0.144652\n",
      "[1419]#011train's binary_logloss: 0.0657275#011val's binary_logloss: 0.144601\n",
      "[LightGBM] [Warning] No further splits with positive gain, best gain: -inf\n",
      "[1420]#011train's binary_logloss: 0.0656754#011val's binary_logloss: 0.144525\n",
      "[LightGBM] [Warning] No further splits with positive gain, best gain: -inf\n",
      "[1421]#011train's binary_logloss: 0.0656564#011val's binary_logloss: 0.144532\n",
      "[LightGBM] [Warning] No further splits with positive gain, best gain: -inf\n",
      "[1422]#011train's binary_logloss: 0.0656131#011val's binary_logloss: 0.144508\n",
      "[1423]#011train's binary_logloss: 0.0655632#011val's binary_logloss: 0.144476\n",
      "[LightGBM] [Warning] No further splits with positive gain, best gain: -inf\n",
      "[1424]#011train's binary_logloss: 0.0655071#011val's binary_logloss: 0.144481\n",
      "[1425]#011train's binary_logloss: 0.0654633#011val's binary_logloss: 0.144497\n",
      "[LightGBM] [Warning] No further splits with positive gain, best gain: -inf\n",
      "[1426]#011train's binary_logloss: 0.0653989#011val's binary_logloss: 0.144459\n",
      "[1427]#011train's binary_logloss: 0.0653253#011val's binary_logloss: 0.144385\n",
      "[1428]#011train's binary_logloss: 0.0652811#011val's binary_logloss: 0.144355\n",
      "[LightGBM] [Warning] No further splits with positive gain, best gain: -inf\n",
      "[1429]#011train's binary_logloss: 0.0652174#011val's binary_logloss: 0.144324\n",
      "[1430]#011train's binary_logloss: 0.0651576#011val's binary_logloss: 0.144317\n",
      "[LightGBM] [Warning] No further splits with positive gain, best gain: -inf\n",
      "[1431]#011train's binary_logloss: 0.0651007#011val's binary_logloss: 0.144277\n",
      "[LightGBM] [Warning] No further splits with positive gain, best gain: -inf\n",
      "[1432]#011train's binary_logloss: 0.0650454#011val's binary_logloss: 0.144243\n",
      "[1433]#011train's binary_logloss: 0.0649958#011val's binary_logloss: 0.144222\n",
      "[LightGBM] [Warning] No further splits with positive gain, best gain: -inf\n",
      "[1434]#011train's binary_logloss: 0.0649698#011val's binary_logloss: 0.144224\n",
      "[LightGBM] [Warning] No further splits with positive gain, best gain: -inf\n",
      "[1435]#011train's binary_logloss: 0.0649206#011val's binary_logloss: 0.144187\n",
      "[LightGBM] [Warning] No further splits with positive gain, best gain: -inf\n",
      "[1436]#011train's binary_logloss: 0.0648809#011val's binary_logloss: 0.144169\n",
      "[1437]#011train's binary_logloss: 0.0648353#011val's binary_logloss: 0.144174\n",
      "[1438]#011train's binary_logloss: 0.0647917#011val's binary_logloss: 0.144184\n",
      "[1439]#011train's binary_logloss: 0.0647105#011val's binary_logloss: 0.144148\n",
      "[1440]#011train's binary_logloss: 0.0646298#011val's binary_logloss: 0.144126\n",
      "[LightGBM] [Warning] No further splits with positive gain, best gain: -inf\n",
      "[1441]#011train's binary_logloss: 0.0645792#011val's binary_logloss: 0.144072\n",
      "[LightGBM] [Warning] No further splits with positive gain, best gain: -inf\n",
      "[1442]#011train's binary_logloss: 0.0645298#011val's binary_logloss: 0.144012\n",
      "[1443]#011train's binary_logloss: 0.0644609#011val's binary_logloss: 0.143962\n",
      "[LightGBM] [Warning] No further splits with positive gain, best gain: -inf\n",
      "[1444]#011train's binary_logloss: 0.0643985#011val's binary_logloss: 0.14384\n",
      "[LightGBM] [Warning] No further splits with positive gain, best gain: -inf\n",
      "[1445]#011train's binary_logloss: 0.0643769#011val's binary_logloss: 0.14384\n",
      "[1446]#011train's binary_logloss: 0.0643082#011val's binary_logloss: 0.143833\n",
      "[1447]#011train's binary_logloss: 0.0642446#011val's binary_logloss: 0.143833\n",
      "[1448]#011train's binary_logloss: 0.0641871#011val's binary_logloss: 0.143786\n",
      "[1449]#011train's binary_logloss: 0.0641357#011val's binary_logloss: 0.143782\n",
      "[1450]#011train's binary_logloss: 0.0640445#011val's binary_logloss: 0.143709\n",
      "[1451]#011train's binary_logloss: 0.0639537#011val's binary_logloss: 0.143635\n",
      "[1452]#011train's binary_logloss: 0.0638855#011val's binary_logloss: 0.143592\n",
      "[1453]#011train's binary_logloss: 0.0638126#011val's binary_logloss: 0.143543\n",
      "[1454]#011train's binary_logloss: 0.0637405#011val's binary_logloss: 0.143524\n",
      "[LightGBM] [Warning] No further splits with positive gain, best gain: -inf\n",
      "[1455]#011train's binary_logloss: 0.0636682#011val's binary_logloss: 0.143432\n",
      "[1456]#011train's binary_logloss: 0.0636087#011val's binary_logloss: 0.143414\n",
      "[1457]#011train's binary_logloss: 0.0635409#011val's binary_logloss: 0.143353\n",
      "[LightGBM] [Warning] No further splits with positive gain, best gain: -inf\n",
      "[1458]#011train's binary_logloss: 0.0634961#011val's binary_logloss: 0.143353\n",
      "[1459]#011train's binary_logloss: 0.0634241#011val's binary_logloss: 0.143303\n",
      "[1460]#011train's binary_logloss: 0.0633656#011val's binary_logloss: 0.1433\n",
      "[1461]#011train's binary_logloss: 0.0633279#011val's binary_logloss: 0.143287\n",
      "[1462]#011train's binary_logloss: 0.0632874#011val's binary_logloss: 0.143258\n",
      "[1463]#011train's binary_logloss: 0.0632169#011val's binary_logloss: 0.143204\n",
      "[1464]#011train's binary_logloss: 0.0631607#011val's binary_logloss: 0.143147\n",
      "[LightGBM] [Warning] No further splits with positive gain, best gain: -inf\n",
      "[1465]#011train's binary_logloss: 0.0631153#011val's binary_logloss: 0.143127\n",
      "[1466]#011train's binary_logloss: 0.0630562#011val's binary_logloss: 0.143157\n",
      "[1467]#011train's binary_logloss: 0.0629925#011val's binary_logloss: 0.143116\n",
      "[LightGBM] [Warning] No further splits with positive gain, best gain: -inf\n",
      "[1468]#011train's binary_logloss: 0.0629499#011val's binary_logloss: 0.143072\n",
      "[1469]#011train's binary_logloss: 0.0628907#011val's binary_logloss: 0.143025\n",
      "[1470]#011train's binary_logloss: 0.062837#011val's binary_logloss: 0.143049\n",
      "[LightGBM] [Warning] No further splits with positive gain, best gain: -inf\n",
      "[1471]#011train's binary_logloss: 0.0627956#011val's binary_logloss: 0.143026\n",
      "[1472]#011train's binary_logloss: 0.06275#011val's binary_logloss: 0.142989\n",
      "[1473]#011train's binary_logloss: 0.0626955#011val's binary_logloss: 0.142965\n",
      "[1474]#011train's binary_logloss: 0.0626387#011val's binary_logloss: 0.142946\n",
      "[1475]#011train's binary_logloss: 0.0625443#011val's binary_logloss: 0.142837\n",
      "[1476]#011train's binary_logloss: 0.0624735#011val's binary_logloss: 0.142796\n",
      "[LightGBM] [Warning] No further splits with positive gain, best gain: -inf\n",
      "[1477]#011train's binary_logloss: 0.0624065#011val's binary_logloss: 0.142735\n",
      "[1478]#011train's binary_logloss: 0.0623254#011val's binary_logloss: 0.142682\n",
      "[1479]#011train's binary_logloss: 0.0622504#011val's binary_logloss: 0.142611\n",
      "[LightGBM] [Warning] No further splits with positive gain, best gain: -inf\n",
      "[1480]#011train's binary_logloss: 0.062188#011val's binary_logloss: 0.142513\n",
      "[1481]#011train's binary_logloss: 0.0621256#011val's binary_logloss: 0.142486\n",
      "[1482]#011train's binary_logloss: 0.0620315#011val's binary_logloss: 0.142485\n",
      "[1483]#011train's binary_logloss: 0.0619853#011val's binary_logloss: 0.142424\n",
      "[1484]#011train's binary_logloss: 0.061926#011val's binary_logloss: 0.142393\n",
      "[1485]#011train's binary_logloss: 0.0618386#011val's binary_logloss: 0.142363\n",
      "[LightGBM] [Warning] No further splits with positive gain, best gain: -inf\n",
      "[1486]#011train's binary_logloss: 0.0618118#011val's binary_logloss: 0.142321\n",
      "[LightGBM] [Warning] No further splits with positive gain, best gain: -inf\n",
      "[1487]#011train's binary_logloss: 0.0617542#011val's binary_logloss: 0.142256\n",
      "[LightGBM] [Warning] No further splits with positive gain, best gain: -inf\n",
      "[1488]#011train's binary_logloss: 0.0617145#011val's binary_logloss: 0.142276\n",
      "[LightGBM] [Warning] No further splits with positive gain, best gain: -inf\n",
      "[1489]#011train's binary_logloss: 0.061656#011val's binary_logloss: 0.142226\n",
      "[LightGBM] [Warning] No further splits with positive gain, best gain: -inf\n",
      "[1490]#011train's binary_logloss: 0.0616133#011val's binary_logloss: 0.142232\n",
      "[1491]#011train's binary_logloss: 0.0615502#011val's binary_logloss: 0.142161\n",
      "[LightGBM] [Warning] No further splits with positive gain, best gain: -inf\n",
      "[1492]#011train's binary_logloss: 0.0615001#011val's binary_logloss: 0.142128\n",
      "[1493]#011train's binary_logloss: 0.0614401#011val's binary_logloss: 0.142114\n",
      "[LightGBM] [Warning] No further splits with positive gain, best gain: -inf\n",
      "[1494]#011train's binary_logloss: 0.0613855#011val's binary_logloss: 0.142059\n",
      "[1495]#011train's binary_logloss: 0.0613478#011val's binary_logloss: 0.142053\n",
      "[LightGBM] [Warning] No further splits with positive gain, best gain: -inf\n",
      "[1496]#011train's binary_logloss: 0.0613011#011val's binary_logloss: 0.142049\n",
      "[LightGBM] [Warning] No further splits with positive gain, best gain: -inf\n",
      "[1497]#011train's binary_logloss: 0.0612504#011val's binary_logloss: 0.142032\n",
      "[LightGBM] [Warning] No further splits with positive gain, best gain: -inf\n",
      "[1498]#011train's binary_logloss: 0.0612257#011val's binary_logloss: 0.142017\n",
      "[1499]#011train's binary_logloss: 0.0611558#011val's binary_logloss: 0.142035\n",
      "[LightGBM] [Warning] No further splits with positive gain, best gain: -inf\n",
      "[1500]#011train's binary_logloss: 0.0611034#011val's binary_logloss: 0.14197\n",
      "[LightGBM] [Warning] No further splits with positive gain, best gain: -inf\n",
      "[1501]#011train's binary_logloss: 0.0610674#011val's binary_logloss: 0.141972\n",
      "[1502]#011train's binary_logloss: 0.0609909#011val's binary_logloss: 0.141912\n",
      "[1503]#011train's binary_logloss: 0.0609175#011val's binary_logloss: 0.141875\n",
      "[LightGBM] [Warning] No further splits with positive gain, best gain: -inf\n",
      "[1504]#011train's binary_logloss: 0.0608574#011val's binary_logloss: 0.141828\n",
      "[1505]#011train's binary_logloss: 0.0608165#011val's binary_logloss: 0.141823\n",
      "[1506]#011train's binary_logloss: 0.0607321#011val's binary_logloss: 0.141789\n",
      "[1507]#011train's binary_logloss: 0.0606632#011val's binary_logloss: 0.141757\n",
      "[1508]#011train's binary_logloss: 0.0606055#011val's binary_logloss: 0.141713\n",
      "[1509]#011train's binary_logloss: 0.0605314#011val's binary_logloss: 0.141684\n",
      "[1510]#011train's binary_logloss: 0.0604584#011val's binary_logloss: 0.14164\n",
      "[1511]#011train's binary_logloss: 0.0603934#011val's binary_logloss: 0.141585\n",
      "[LightGBM] [Warning] No further splits with positive gain, best gain: -inf\n",
      "[1512]#011train's binary_logloss: 0.0603278#011val's binary_logloss: 0.141541\n",
      "[LightGBM] [Warning] No further splits with positive gain, best gain: -inf\n",
      "[1513]#011train's binary_logloss: 0.0602762#011val's binary_logloss: 0.141506\n",
      "[LightGBM] [Warning] No further splits with positive gain, best gain: -inf\n",
      "[1514]#011train's binary_logloss: 0.0602328#011val's binary_logloss: 0.141447\n",
      "[LightGBM] [Warning] No further splits with positive gain, best gain: -inf\n",
      "[1515]#011train's binary_logloss: 0.0601643#011val's binary_logloss: 0.141401\n",
      "[1516]#011train's binary_logloss: 0.0601074#011val's binary_logloss: 0.141364\n",
      "[1517]#011train's binary_logloss: 0.060034#011val's binary_logloss: 0.141258\n",
      "[LightGBM] [Warning] No further splits with positive gain, best gain: -inf\n",
      "[1518]#011train's binary_logloss: 0.0599952#011val's binary_logloss: 0.141233\n",
      "[1519]#011train's binary_logloss: 0.0599287#011val's binary_logloss: 0.141138\n",
      "[LightGBM] [Warning] No further splits with positive gain, best gain: -inf\n",
      "[1520]#011train's binary_logloss: 0.0598861#011val's binary_logloss: 0.141142\n",
      "[LightGBM] [Warning] No further splits with positive gain, best gain: -inf\n",
      "[1521]#011train's binary_logloss: 0.0598509#011val's binary_logloss: 0.141123\n",
      "[LightGBM] [Warning] No further splits with positive gain, best gain: -inf\n",
      "[1522]#011train's binary_logloss: 0.0598223#011val's binary_logloss: 0.141114\n",
      "[LightGBM] [Warning] No further splits with positive gain, best gain: -inf\n",
      "[1523]#011train's binary_logloss: 0.0597861#011val's binary_logloss: 0.141101\n",
      "[LightGBM] [Warning] No further splits with positive gain, best gain: -inf\n",
      "[1524]#011train's binary_logloss: 0.0597513#011val's binary_logloss: 0.141071\n",
      "[LightGBM] [Warning] No further splits with positive gain, best gain: -inf\n",
      "[1525]#011train's binary_logloss: 0.0597031#011val's binary_logloss: 0.141058\n",
      "[LightGBM] [Warning] No further splits with positive gain, best gain: -inf\n",
      "[1526]#011train's binary_logloss: 0.0596679#011val's binary_logloss: 0.141021\n",
      "[LightGBM] [Warning] No further splits with positive gain, best gain: -inf\n",
      "[1527]#011train's binary_logloss: 0.0596354#011val's binary_logloss: 0.14102\n",
      "[LightGBM] [Warning] No further splits with positive gain, best gain: -inf\n",
      "[1528]#011train's binary_logloss: 0.0595995#011val's binary_logloss: 0.140985\n",
      "[1529]#011train's binary_logloss: 0.0595424#011val's binary_logloss: 0.14101\n",
      "[1530]#011train's binary_logloss: 0.0594807#011val's binary_logloss: 0.140945\n",
      "[LightGBM] [Warning] No further splits with positive gain, best gain: -inf\n",
      "[1531]#011train's binary_logloss: 0.0594118#011val's binary_logloss: 0.140853\n",
      "[1532]#011train's binary_logloss: 0.0593244#011val's binary_logloss: 0.140779\n",
      "[LightGBM] [Warning] No further splits with positive gain, best gain: -inf\n",
      "[1533]#011train's binary_logloss: 0.059271#011val's binary_logloss: 0.140756\n",
      "[LightGBM] [Warning] No further splits with positive gain, best gain: -inf\n",
      "[1534]#011train's binary_logloss: 0.059233#011val's binary_logloss: 0.140741\n",
      "[LightGBM] [Warning] No further splits with positive gain, best gain: -inf\n",
      "[1535]#011train's binary_logloss: 0.0591663#011val's binary_logloss: 0.14068\n",
      "[1536]#011train's binary_logloss: 0.0590932#011val's binary_logloss: 0.140614\n",
      "[LightGBM] [Warning] No further splits with positive gain, best gain: -inf\n",
      "[1537]#011train's binary_logloss: 0.0590539#011val's binary_logloss: 0.140587\n",
      "[1538]#011train's binary_logloss: 0.0589914#011val's binary_logloss: 0.140507\n",
      "[1539]#011train's binary_logloss: 0.058928#011val's binary_logloss: 0.140469\n",
      "[1540]#011train's binary_logloss: 0.0588648#011val's binary_logloss: 0.140426\n",
      "[LightGBM] [Warning] No further splits with positive gain, best gain: -inf\n",
      "[1541]#011train's binary_logloss: 0.0588342#011val's binary_logloss: 0.140417\n",
      "[1542]#011train's binary_logloss: 0.0587632#011val's binary_logloss: 0.140366\n",
      "[1543]#011train's binary_logloss: 0.0586919#011val's binary_logloss: 0.140319\n",
      "[LightGBM] [Warning] No further splits with positive gain, best gain: -inf\n",
      "[1544]#011train's binary_logloss: 0.0586609#011val's binary_logloss: 0.140326\n",
      "[1545]#011train's binary_logloss: 0.0585801#011val's binary_logloss: 0.140289\n",
      "[1546]#011train's binary_logloss: 0.0585169#011val's binary_logloss: 0.140244\n",
      "[1547]#011train's binary_logloss: 0.0584518#011val's binary_logloss: 0.140183\n",
      "[LightGBM] [Warning] No further splits with positive gain, best gain: -inf\n",
      "[1548]#011train's binary_logloss: 0.0583686#011val's binary_logloss: 0.140132\n",
      "[LightGBM] [Warning] No further splits with positive gain, best gain: -inf\n",
      "[1549]#011train's binary_logloss: 0.0583177#011val's binary_logloss: 0.140077\n",
      "[1550]#011train's binary_logloss: 0.0582643#011val's binary_logloss: 0.140028\n",
      "[1551]#011train's binary_logloss: 0.0581836#011val's binary_logloss: 0.139965\n",
      "[1552]#011train's binary_logloss: 0.0581038#011val's binary_logloss: 0.139889\n",
      "[1553]#011train's binary_logloss: 0.0580494#011val's binary_logloss: 0.139843\n",
      "[1554]#011train's binary_logloss: 0.0579885#011val's binary_logloss: 0.139809\n",
      "[1555]#011train's binary_logloss: 0.0579224#011val's binary_logloss: 0.139721\n",
      "[LightGBM] [Warning] No further splits with positive gain, best gain: -inf\n",
      "[1556]#011train's binary_logloss: 0.0578607#011val's binary_logloss: 0.139647\n",
      "[LightGBM] [Warning] No further splits with positive gain, best gain: -inf\n",
      "[1557]#011train's binary_logloss: 0.057815#011val's binary_logloss: 0.139609\n",
      "[LightGBM] [Warning] No further splits with positive gain, best gain: -inf\n",
      "[1558]#011train's binary_logloss: 0.0577547#011val's binary_logloss: 0.139537\n",
      "[LightGBM] [Warning] No further splits with positive gain, best gain: -inf\n",
      "[1559]#011train's binary_logloss: 0.0576937#011val's binary_logloss: 0.139457\n",
      "[1560]#011train's binary_logloss: 0.0576327#011val's binary_logloss: 0.139426\n",
      "[1561]#011train's binary_logloss: 0.0575522#011val's binary_logloss: 0.139374\n",
      "[1562]#011train's binary_logloss: 0.0575101#011val's binary_logloss: 0.139335\n",
      "[1563]#011train's binary_logloss: 0.0574364#011val's binary_logloss: 0.139328\n",
      "[1564]#011train's binary_logloss: 0.0573988#011val's binary_logloss: 0.139375\n",
      "[1565]#011train's binary_logloss: 0.0573182#011val's binary_logloss: 0.139288\n",
      "[LightGBM] [Warning] No further splits with positive gain, best gain: -inf\n",
      "[1566]#011train's binary_logloss: 0.0572957#011val's binary_logloss: 0.139266\n",
      "[LightGBM] [Warning] No further splits with positive gain, best gain: -inf\n",
      "[1567]#011train's binary_logloss: 0.0572462#011val's binary_logloss: 0.139237\n",
      "[LightGBM] [Warning] No further splits with positive gain, best gain: -inf\n",
      "[1568]#011train's binary_logloss: 0.0571983#011val's binary_logloss: 0.139234\n",
      "[LightGBM] [Warning] No further splits with positive gain, best gain: -inf\n",
      "[1569]#011train's binary_logloss: 0.0571489#011val's binary_logloss: 0.139202\n",
      "[LightGBM] [Warning] No further splits with positive gain, best gain: -inf\n",
      "[1570]#011train's binary_logloss: 0.0571195#011val's binary_logloss: 0.139198\n",
      "[LightGBM] [Warning] No further splits with positive gain, best gain: -inf\n",
      "[1571]#011train's binary_logloss: 0.0570827#011val's binary_logloss: 0.139196\n",
      "[1572]#011train's binary_logloss: 0.0570267#011val's binary_logloss: 0.139128\n",
      "[LightGBM] [Warning] No further splits with positive gain, best gain: -inf\n",
      "[1573]#011train's binary_logloss: 0.0569854#011val's binary_logloss: 0.139096\n",
      "[1574]#011train's binary_logloss: 0.0569366#011val's binary_logloss: 0.13902\n",
      "[LightGBM] [Warning] No further splits with positive gain, best gain: -inf\n",
      "[1575]#011train's binary_logloss: 0.0568939#011val's binary_logloss: 0.138998\n",
      "[1576]#011train's binary_logloss: 0.0568507#011val's binary_logloss: 0.138951\n",
      "[LightGBM] [Warning] No further splits with positive gain, best gain: -inf\n",
      "[1577]#011train's binary_logloss: 0.0568057#011val's binary_logloss: 0.138953\n",
      "[1578]#011train's binary_logloss: 0.0567577#011val's binary_logloss: 0.1389\n",
      "[1579]#011train's binary_logloss: 0.0567094#011val's binary_logloss: 0.138846\n",
      "[1580]#011train's binary_logloss: 0.056664#011val's binary_logloss: 0.138805\n",
      "[1581]#011train's binary_logloss: 0.0566061#011val's binary_logloss: 0.138797\n",
      "[1582]#011train's binary_logloss: 0.0565223#011val's binary_logloss: 0.138802\n",
      "[1583]#011train's binary_logloss: 0.0564511#011val's binary_logloss: 0.138804\n",
      "[1584]#011train's binary_logloss: 0.0563908#011val's binary_logloss: 0.138798\n",
      "[LightGBM] [Warning] No further splits with positive gain, best gain: -inf\n",
      "[1585]#011train's binary_logloss: 0.0563366#011val's binary_logloss: 0.138747\n",
      "[LightGBM] [Warning] No further splits with positive gain, best gain: -inf\n",
      "[1586]#011train's binary_logloss: 0.0563009#011val's binary_logloss: 0.138686\n",
      "[LightGBM] [Warning] No further splits with positive gain, best gain: -inf\n",
      "[1587]#011train's binary_logloss: 0.0562766#011val's binary_logloss: 0.138678\n",
      "[LightGBM] [Warning] No further splits with positive gain, best gain: -inf\n",
      "[1588]#011train's binary_logloss: 0.0562449#011val's binary_logloss: 0.138639\n",
      "[LightGBM] [Warning] No further splits with positive gain, best gain: -inf\n",
      "[1589]#011train's binary_logloss: 0.0562048#011val's binary_logloss: 0.138599\n",
      "[1590]#011train's binary_logloss: 0.0561434#011val's binary_logloss: 0.138562\n",
      "[1591]#011train's binary_logloss: 0.0560838#011val's binary_logloss: 0.138525\n",
      "[1592]#011train's binary_logloss: 0.0560314#011val's binary_logloss: 0.138534\n",
      "[1593]#011train's binary_logloss: 0.0559813#011val's binary_logloss: 0.138541\n",
      "[1594]#011train's binary_logloss: 0.0559345#011val's binary_logloss: 0.138553\n",
      "[1595]#011train's binary_logloss: 0.055894#011val's binary_logloss: 0.138586\n",
      "[LightGBM] [Warning] No further splits with positive gain, best gain: -inf\n",
      "[1596]#011train's binary_logloss: 0.0558484#011val's binary_logloss: 0.138582\n",
      "[LightGBM] [Warning] No further splits with positive gain, best gain: -inf\n",
      "[1597]#011train's binary_logloss: 0.0557979#011val's binary_logloss: 0.138567\n",
      "[LightGBM] [Warning] No further splits with positive gain, best gain: -inf\n",
      "[1598]#011train's binary_logloss: 0.0557559#011val's binary_logloss: 0.138571\n",
      "[1599]#011train's binary_logloss: 0.0557055#011val's binary_logloss: 0.138566\n",
      "[LightGBM] [Warning] No further splits with positive gain, best gain: -inf\n",
      "[1600]#011train's binary_logloss: 0.055657#011val's binary_logloss: 0.13855\n",
      "[LightGBM] [Warning] No further splits with positive gain, best gain: -inf\n",
      "[1601]#011train's binary_logloss: 0.0556287#011val's binary_logloss: 0.138528\n",
      "[LightGBM] [Warning] No further splits with positive gain, best gain: -inf\n",
      "[1602]#011train's binary_logloss: 0.0555759#011val's binary_logloss: 0.138491\n",
      "[1603]#011train's binary_logloss: 0.055515#011val's binary_logloss: 0.138471\n",
      "[1604]#011train's binary_logloss: 0.0554723#011val's binary_logloss: 0.138472\n",
      "[1605]#011train's binary_logloss: 0.0553997#011val's binary_logloss: 0.138419\n",
      "[1606]#011train's binary_logloss: 0.0553491#011val's binary_logloss: 0.138441\n",
      "[1607]#011train's binary_logloss: 0.0552818#011val's binary_logloss: 0.138414\n",
      "[1608]#011train's binary_logloss: 0.0552125#011val's binary_logloss: 0.138387\n",
      "[1609]#011train's binary_logloss: 0.0551535#011val's binary_logloss: 0.138309\n",
      "[1610]#011train's binary_logloss: 0.0551074#011val's binary_logloss: 0.138326\n",
      "[1611]#011train's binary_logloss: 0.0550463#011val's binary_logloss: 0.138255\n",
      "[LightGBM] [Warning] No further splits with positive gain, best gain: -inf\n",
      "[1612]#011train's binary_logloss: 0.0550315#011val's binary_logloss: 0.138252\n",
      "[1613]#011train's binary_logloss: 0.0549602#011val's binary_logloss: 0.138209\n",
      "[1614]#011train's binary_logloss: 0.05489#011val's binary_logloss: 0.138157\n",
      "[1615]#011train's binary_logloss: 0.0548357#011val's binary_logloss: 0.138128\n",
      "[LightGBM] [Warning] No further splits with positive gain, best gain: -inf\n",
      "[1616]#011train's binary_logloss: 0.0547976#011val's binary_logloss: 0.138121\n",
      "[LightGBM] [Warning] No further splits with positive gain, best gain: -inf\n",
      "[1617]#011train's binary_logloss: 0.054743#011val's binary_logloss: 0.138126\n",
      "[1618]#011train's binary_logloss: 0.0546991#011val's binary_logloss: 0.138123\n",
      "[1619]#011train's binary_logloss: 0.0546603#011val's binary_logloss: 0.138131\n",
      "[LightGBM] [Warning] No further splits with positive gain, best gain: -inf\n",
      "[1620]#011train's binary_logloss: 0.0546256#011val's binary_logloss: 0.138096\n",
      "[1621]#011train's binary_logloss: 0.0545784#011val's binary_logloss: 0.138052\n",
      "[1622]#011train's binary_logloss: 0.0545352#011val's binary_logloss: 0.138002\n",
      "[LightGBM] [Warning] No further splits with positive gain, best gain: -inf\n",
      "[1623]#011train's binary_logloss: 0.0544933#011val's binary_logloss: 0.137989\n",
      "[1624]#011train's binary_logloss: 0.0544422#011val's binary_logloss: 0.137952\n",
      "[LightGBM] [Warning] No further splits with positive gain, best gain: -inf\n",
      "[1625]#011train's binary_logloss: 0.0543864#011val's binary_logloss: 0.137929\n",
      "[1626]#011train's binary_logloss: 0.0543298#011val's binary_logloss: 0.137918\n",
      "[1627]#011train's binary_logloss: 0.0542739#011val's binary_logloss: 0.13791\n",
      "[1628]#011train's binary_logloss: 0.0542192#011val's binary_logloss: 0.137937\n",
      "[1629]#011train's binary_logloss: 0.0541407#011val's binary_logloss: 0.137943\n",
      "[1630]#011train's binary_logloss: 0.0540981#011val's binary_logloss: 0.137944\n",
      "[1631]#011train's binary_logloss: 0.0540434#011val's binary_logloss: 0.137906\n",
      "[1632]#011train's binary_logloss: 0.0539965#011val's binary_logloss: 0.137899\n",
      "[1633]#011train's binary_logloss: 0.0539495#011val's binary_logloss: 0.13788\n",
      "[1634]#011train's binary_logloss: 0.0538975#011val's binary_logloss: 0.137854\n",
      "[1635]#011train's binary_logloss: 0.0538568#011val's binary_logloss: 0.137858\n",
      "[LightGBM] [Warning] No further splits with positive gain, best gain: -inf\n",
      "[1636]#011train's binary_logloss: 0.0538287#011val's binary_logloss: 0.137876\n",
      "[LightGBM] [Warning] No further splits with positive gain, best gain: -inf\n",
      "[1637]#011train's binary_logloss: 0.0538035#011val's binary_logloss: 0.137905\n",
      "[LightGBM] [Warning] No further splits with positive gain, best gain: -inf\n",
      "[1638]#011train's binary_logloss: 0.0537768#011val's binary_logloss: 0.137911\n",
      "[LightGBM] [Warning] No further splits with positive gain, best gain: -inf\n",
      "[1639]#011train's binary_logloss: 0.0537381#011val's binary_logloss: 0.137861\n",
      "[LightGBM] [Warning] No further splits with positive gain, best gain: -inf\n",
      "[1640]#011train's binary_logloss: 0.0537143#011val's binary_logloss: 0.137889\n",
      "[LightGBM] [Warning] No further splits with positive gain, best gain: -inf\n",
      "[1641]#011train's binary_logloss: 0.0536505#011val's binary_logloss: 0.137805\n",
      "[LightGBM] [Warning] No further splits with positive gain, best gain: -inf\n",
      "[1642]#011train's binary_logloss: 0.0535756#011val's binary_logloss: 0.137739\n",
      "[LightGBM] [Warning] No further splits with positive gain, best gain: -inf\n",
      "[1643]#011train's binary_logloss: 0.0535139#011val's binary_logloss: 0.137662\n",
      "[LightGBM] [Warning] No further splits with positive gain, best gain: -inf\n",
      "[1644]#011train's binary_logloss: 0.0534517#011val's binary_logloss: 0.137585\n",
      "[LightGBM] [Warning] No further splits with positive gain, best gain: -inf\n",
      "[1645]#011train's binary_logloss: 0.0533892#011val's binary_logloss: 0.137504\n",
      "[LightGBM] [Warning] No further splits with positive gain, best gain: -inf\n",
      "[1646]#011train's binary_logloss: 0.0533461#011val's binary_logloss: 0.137452\n",
      "[LightGBM] [Warning] No further splits with positive gain, best gain: -inf\n",
      "[1647]#011train's binary_logloss: 0.0532757#011val's binary_logloss: 0.13739\n",
      "[LightGBM] [Warning] No further splits with positive gain, best gain: -inf\n",
      "[1648]#011train's binary_logloss: 0.0532361#011val's binary_logloss: 0.1374\n",
      "[LightGBM] [Warning] No further splits with positive gain, best gain: -inf\n",
      "[1649]#011train's binary_logloss: 0.0531982#011val's binary_logloss: 0.137395\n",
      "[LightGBM] [Warning] No further splits with positive gain, best gain: -inf\n",
      "[1650]#011train's binary_logloss: 0.0531539#011val's binary_logloss: 0.13735\n",
      "[1651]#011train's binary_logloss: 0.0531153#011val's binary_logloss: 0.137324\n",
      "[LightGBM] [Warning] No further splits with positive gain, best gain: -inf\n",
      "[1652]#011train's binary_logloss: 0.0530808#011val's binary_logloss: 0.137309\n",
      "[1653]#011train's binary_logloss: 0.0530395#011val's binary_logloss: 0.137281\n",
      "[LightGBM] [Warning] No further splits with positive gain, best gain: -inf\n",
      "[1654]#011train's binary_logloss: 0.0530071#011val's binary_logloss: 0.137264\n",
      "[1655]#011train's binary_logloss: 0.0529679#011val's binary_logloss: 0.137267\n",
      "[1656]#011train's binary_logloss: 0.0529266#011val's binary_logloss: 0.137227\n",
      "[LightGBM] [Warning] No further splits with positive gain, best gain: -inf\n",
      "[1657]#011train's binary_logloss: 0.0528959#011val's binary_logloss: 0.137231\n",
      "[LightGBM] [Warning] No further splits with positive gain, best gain: -inf\n",
      "[1658]#011train's binary_logloss: 0.0528537#011val's binary_logloss: 0.137237\n",
      "[LightGBM] [Warning] No further splits with positive gain, best gain: -inf\n",
      "[1659]#011train's binary_logloss: 0.052822#011val's binary_logloss: 0.137213\n",
      "[LightGBM] [Warning] No further splits with positive gain, best gain: -inf\n",
      "[1660]#011train's binary_logloss: 0.0527933#011val's binary_logloss: 0.13724\n",
      "[LightGBM] [Warning] No further splits with positive gain, best gain: -inf\n",
      "[1661]#011train's binary_logloss: 0.0527349#011val's binary_logloss: 0.137191\n",
      "[1662]#011train's binary_logloss: 0.0526702#011val's binary_logloss: 0.137158\n",
      "[1663]#011train's binary_logloss: 0.0526286#011val's binary_logloss: 0.137213\n",
      "[1664]#011train's binary_logloss: 0.0525607#011val's binary_logloss: 0.137238\n",
      "[1665]#011train's binary_logloss: 0.0524888#011val's binary_logloss: 0.137276\n",
      "[1666]#011train's binary_logloss: 0.0524443#011val's binary_logloss: 0.137264\n",
      "[1667]#011train's binary_logloss: 0.0523811#011val's binary_logloss: 0.137225\n",
      "[1668]#011train's binary_logloss: 0.0523406#011val's binary_logloss: 0.137195\n",
      "[1669]#011train's binary_logloss: 0.0522832#011val's binary_logloss: 0.137157\n",
      "[1670]#011train's binary_logloss: 0.0522378#011val's binary_logloss: 0.137131\n",
      "[1671]#011train's binary_logloss: 0.0521996#011val's binary_logloss: 0.137154\n",
      "[LightGBM] [Warning] No further splits with positive gain, best gain: -inf\n",
      "[1672]#011train's binary_logloss: 0.0521769#011val's binary_logloss: 0.137142\n",
      "[1673]#011train's binary_logloss: 0.052121#011val's binary_logloss: 0.137113\n",
      "[1674]#011train's binary_logloss: 0.0520863#011val's binary_logloss: 0.137131\n",
      "[LightGBM] [Warning] No further splits with positive gain, best gain: -inf\n",
      "[1675]#011train's binary_logloss: 0.052056#011val's binary_logloss: 0.137112\n",
      "[1676]#011train's binary_logloss: 0.0520238#011val's binary_logloss: 0.1371\n",
      "[1677]#011train's binary_logloss: 0.0519679#011val's binary_logloss: 0.137093\n",
      "[1678]#011train's binary_logloss: 0.0519032#011val's binary_logloss: 0.137102\n",
      "[LightGBM] [Warning] No further splits with positive gain, best gain: -inf\n",
      "[1679]#011train's binary_logloss: 0.0518469#011val's binary_logloss: 0.137093\n",
      "[LightGBM] [Warning] No further splits with positive gain, best gain: -inf\n",
      "[1680]#011train's binary_logloss: 0.0517991#011val's binary_logloss: 0.13708\n",
      "[1681]#011train's binary_logloss: 0.0517316#011val's binary_logloss: 0.137059\n",
      "[LightGBM] [Warning] No further splits with positive gain, best gain: -inf\n",
      "[1682]#011train's binary_logloss: 0.0516983#011val's binary_logloss: 0.137071\n",
      "[1683]#011train's binary_logloss: 0.0516297#011val's binary_logloss: 0.137051\n",
      "[1684]#011train's binary_logloss: 0.0515784#011val's binary_logloss: 0.137041\n",
      "[1685]#011train's binary_logloss: 0.0515507#011val's binary_logloss: 0.137073\n",
      "[1686]#011train's binary_logloss: 0.0515019#011val's binary_logloss: 0.137059\n",
      "[1687]#011train's binary_logloss: 0.051455#011val's binary_logloss: 0.136984\n",
      "[1688]#011train's binary_logloss: 0.0513947#011val's binary_logloss: 0.136928\n",
      "[1689]#011train's binary_logloss: 0.0513449#011val's binary_logloss: 0.136869\n",
      "[1690]#011train's binary_logloss: 0.0513003#011val's binary_logloss: 0.136845\n",
      "[LightGBM] [Warning] No further splits with positive gain, best gain: -inf\n",
      "[1691]#011train's binary_logloss: 0.0512508#011val's binary_logloss: 0.136804\n",
      "[LightGBM] [Warning] No further splits with positive gain, best gain: -inf\n",
      "[1692]#011train's binary_logloss: 0.0512007#011val's binary_logloss: 0.136764\n",
      "[LightGBM] [Warning] No further splits with positive gain, best gain: -inf\n",
      "[1693]#011train's binary_logloss: 0.0511476#011val's binary_logloss: 0.136709\n",
      "[1694]#011train's binary_logloss: 0.0510923#011val's binary_logloss: 0.136668\n",
      "[1695]#011train's binary_logloss: 0.0510417#011val's binary_logloss: 0.136628\n",
      "[LightGBM] [Warning] No further splits with positive gain, best gain: -inf\n",
      "[1696]#011train's binary_logloss: 0.0509799#011val's binary_logloss: 0.136578\n",
      "[1697]#011train's binary_logloss: 0.0509361#011val's binary_logloss: 0.136544\n",
      "[LightGBM] [Warning] No further splits with positive gain, best gain: -inf\n",
      "[1698]#011train's binary_logloss: 0.0509101#011val's binary_logloss: 0.136567\n",
      "[LightGBM] [Warning] No further splits with positive gain, best gain: -inf\n",
      "[1699]#011train's binary_logloss: 0.0508479#011val's binary_logloss: 0.136517\n",
      "[LightGBM] [Warning] No further splits with positive gain, best gain: -inf\n",
      "[1700]#011train's binary_logloss: 0.0507805#011val's binary_logloss: 0.136464\n",
      "[LightGBM] [Warning] No further splits with positive gain, best gain: -inf\n",
      "[1701]#011train's binary_logloss: 0.0507304#011val's binary_logloss: 0.136435\n",
      "[1702]#011train's binary_logloss: 0.0506918#011val's binary_logloss: 0.136419\n",
      "[1703]#011train's binary_logloss: 0.0506363#011val's binary_logloss: 0.136394\n",
      "[1704]#011train's binary_logloss: 0.0505865#011val's binary_logloss: 0.136374\n",
      "[1705]#011train's binary_logloss: 0.0505247#011val's binary_logloss: 0.136329\n",
      "[1706]#011train's binary_logloss: 0.0504748#011val's binary_logloss: 0.136299\n",
      "[1707]#011train's binary_logloss: 0.0504165#011val's binary_logloss: 0.136264\n",
      "[1708]#011train's binary_logloss: 0.0503711#011val's binary_logloss: 0.136214\n",
      "[1709]#011train's binary_logloss: 0.0503316#011val's binary_logloss: 0.136242\n",
      "[1710]#011train's binary_logloss: 0.0502827#011val's binary_logloss: 0.136193\n",
      "[LightGBM] [Warning] No further splits with positive gain, best gain: -inf\n",
      "[1711]#011train's binary_logloss: 0.0502515#011val's binary_logloss: 0.136209\n",
      "[1712]#011train's binary_logloss: 0.0502036#011val's binary_logloss: 0.136197\n",
      "[1713]#011train's binary_logloss: 0.0501408#011val's binary_logloss: 0.1362\n",
      "[1714]#011train's binary_logloss: 0.0500903#011val's binary_logloss: 0.136187\n",
      "[1715]#011train's binary_logloss: 0.0500439#011val's binary_logloss: 0.13619\n",
      "[1716]#011train's binary_logloss: 0.0499827#011val's binary_logloss: 0.136128\n",
      "[1717]#011train's binary_logloss: 0.0499189#011val's binary_logloss: 0.136105\n",
      "[LightGBM] [Warning] No further splits with positive gain, best gain: -inf\n",
      "[1718]#011train's binary_logloss: 0.0498931#011val's binary_logloss: 0.136102\n",
      "[1719]#011train's binary_logloss: 0.049829#011val's binary_logloss: 0.136064\n",
      "[LightGBM] [Warning] No further splits with positive gain, best gain: -inf\n",
      "[1720]#011train's binary_logloss: 0.0497987#011val's binary_logloss: 0.136053\n",
      "[1721]#011train's binary_logloss: 0.0497513#011val's binary_logloss: 0.136062\n",
      "[1722]#011train's binary_logloss: 0.0497002#011val's binary_logloss: 0.136046\n",
      "[1723]#011train's binary_logloss: 0.0496495#011val's binary_logloss: 0.136036\n",
      "[1724]#011train's binary_logloss: 0.0495957#011val's binary_logloss: 0.136034\n",
      "[1725]#011train's binary_logloss: 0.0495362#011val's binary_logloss: 0.136039\n",
      "[1726]#011train's binary_logloss: 0.0494679#011val's binary_logloss: 0.135942\n",
      "[1727]#011train's binary_logloss: 0.049401#011val's binary_logloss: 0.135857\n",
      "[1728]#011train's binary_logloss: 0.0493359#011val's binary_logloss: 0.135775\n",
      "[1729]#011train's binary_logloss: 0.0492754#011val's binary_logloss: 0.135698\n",
      "[LightGBM] [Warning] No further splits with positive gain, best gain: -inf\n",
      "[1730]#011train's binary_logloss: 0.0492394#011val's binary_logloss: 0.135665\n",
      "[LightGBM] [Warning] No further splits with positive gain, best gain: -inf\n",
      "[1731]#011train's binary_logloss: 0.0492009#011val's binary_logloss: 0.135711\n",
      "[1732]#011train's binary_logloss: 0.0491332#011val's binary_logloss: 0.135761\n",
      "[1733]#011train's binary_logloss: 0.0490702#011val's binary_logloss: 0.135765\n",
      "[1734]#011train's binary_logloss: 0.0489867#011val's binary_logloss: 0.1358\n",
      "[1735]#011train's binary_logloss: 0.0489224#011val's binary_logloss: 0.135829\n",
      "[LightGBM] [Warning] No further splits with positive gain, best gain: -inf\n",
      "[1736]#011train's binary_logloss: 0.0488764#011val's binary_logloss: 0.135782\n",
      "[1737]#011train's binary_logloss: 0.0488095#011val's binary_logloss: 0.135764\n",
      "[1738]#011train's binary_logloss: 0.0487466#011val's binary_logloss: 0.135745\n",
      "[LightGBM] [Warning] No further splits with positive gain, best gain: -inf\n",
      "[1739]#011train's binary_logloss: 0.0486819#011val's binary_logloss: 0.13567\n",
      "[LightGBM] [Warning] No further splits with positive gain, best gain: -inf\n",
      "[1740]#011train's binary_logloss: 0.0486334#011val's binary_logloss: 0.135647\n",
      "[LightGBM] [Warning] No further splits with positive gain, best gain: -inf\n",
      "[1741]#011train's binary_logloss: 0.0486037#011val's binary_logloss: 0.135634\n",
      "[LightGBM] [Warning] No further splits with positive gain, best gain: -inf\n",
      "[1742]#011train's binary_logloss: 0.0485687#011val's binary_logloss: 0.135606\n",
      "[1743]#011train's binary_logloss: 0.0485249#011val's binary_logloss: 0.135575\n",
      "[LightGBM] [Warning] No further splits with positive gain, best gain: -inf\n",
      "[1744]#011train's binary_logloss: 0.0484966#011val's binary_logloss: 0.135576\n",
      "[LightGBM] [Warning] No further splits with positive gain, best gain: -inf\n",
      "[1745]#011train's binary_logloss: 0.0484754#011val's binary_logloss: 0.135569\n",
      "[LightGBM] [Warning] No further splits with positive gain, best gain: -inf\n",
      "[1746]#011train's binary_logloss: 0.0484537#011val's binary_logloss: 0.135553\n",
      "[LightGBM] [Warning] No further splits with positive gain, best gain: -inf\n",
      "[1747]#011train's binary_logloss: 0.0484168#011val's binary_logloss: 0.135551\n",
      "[LightGBM] [Warning] No further splits with positive gain, best gain: -inf\n",
      "[1748]#011train's binary_logloss: 0.0483828#011val's binary_logloss: 0.135574\n",
      "[1749]#011train's binary_logloss: 0.0483497#011val's binary_logloss: 0.135557\n",
      "[1750]#011train's binary_logloss: 0.0482923#011val's binary_logloss: 0.13555\n",
      "[LightGBM] [Warning] No further splits with positive gain, best gain: -inf\n",
      "[1751]#011train's binary_logloss: 0.04824#011val's binary_logloss: 0.135534\n",
      "[1752]#011train's binary_logloss: 0.0482011#011val's binary_logloss: 0.135515\n",
      "[LightGBM] [Warning] No further splits with positive gain, best gain: -inf\n",
      "[1753]#011train's binary_logloss: 0.0481685#011val's binary_logloss: 0.135527\n",
      "[LightGBM] [Warning] No further splits with positive gain, best gain: -inf\n",
      "[1754]#011train's binary_logloss: 0.0481385#011val's binary_logloss: 0.135517\n",
      "[LightGBM] [Warning] No further splits with positive gain, best gain: -inf\n",
      "[1755]#011train's binary_logloss: 0.0481058#011val's binary_logloss: 0.135493\n",
      "[LightGBM] [Warning] No further splits with positive gain, best gain: -inf\n",
      "[1756]#011train's binary_logloss: 0.0480736#011val's binary_logloss: 0.135476\n",
      "[LightGBM] [Warning] No further splits with positive gain, best gain: -inf\n",
      "[1757]#011train's binary_logloss: 0.0480457#011val's binary_logloss: 0.135481\n",
      "[LightGBM] [Warning] No further splits with positive gain, best gain: -inf\n",
      "[1758]#011train's binary_logloss: 0.0479961#011val's binary_logloss: 0.135423\n",
      "[LightGBM] [Warning] No further splits with positive gain, best gain: -inf\n",
      "[1759]#011train's binary_logloss: 0.0479784#011val's binary_logloss: 0.135421\n",
      "[LightGBM] [Warning] No further splits with positive gain, best gain: -inf\n",
      "[1760]#011train's binary_logloss: 0.0479595#011val's binary_logloss: 0.135422\n",
      "[1761]#011train's binary_logloss: 0.047918#011val's binary_logloss: 0.135399\n",
      "[1762]#011train's binary_logloss: 0.0478747#011val's binary_logloss: 0.135371\n",
      "[LightGBM] [Warning] No further splits with positive gain, best gain: -inf\n",
      "[1763]#011train's binary_logloss: 0.0478544#011val's binary_logloss: 0.135359\n",
      "[1764]#011train's binary_logloss: 0.047815#011val's binary_logloss: 0.13534\n",
      "[1765]#011train's binary_logloss: 0.0477726#011val's binary_logloss: 0.135328\n",
      "[1766]#011train's binary_logloss: 0.0477371#011val's binary_logloss: 0.135353\n",
      "[1767]#011train's binary_logloss: 0.0476687#011val's binary_logloss: 0.135288\n",
      "[1768]#011train's binary_logloss: 0.0476045#011val's binary_logloss: 0.135211\n",
      "[LightGBM] [Warning] No further splits with positive gain, best gain: -inf\n",
      "[1769]#011train's binary_logloss: 0.0475767#011val's binary_logloss: 0.135225\n",
      "[LightGBM] [Warning] No further splits with positive gain, best gain: -inf\n",
      "[1770]#011train's binary_logloss: 0.0475565#011val's binary_logloss: 0.135156\n",
      "[1771]#011train's binary_logloss: 0.0475096#011val's binary_logloss: 0.13508\n",
      "[1772]#011train's binary_logloss: 0.0474667#011val's binary_logloss: 0.135029\n",
      "[LightGBM] [Warning] No further splits with positive gain, best gain: -inf\n",
      "[1773]#011train's binary_logloss: 0.0474205#011val's binary_logloss: 0.13498\n",
      "[1774]#011train's binary_logloss: 0.0473773#011val's binary_logloss: 0.134947\n",
      "[1775]#011train's binary_logloss: 0.0473237#011val's binary_logloss: 0.134921\n",
      "[1776]#011train's binary_logloss: 0.0472753#011val's binary_logloss: 0.134928\n",
      "[LightGBM] [Warning] No further splits with positive gain, best gain: -inf\n",
      "[1777]#011train's binary_logloss: 0.0472563#011val's binary_logloss: 0.134909\n",
      "[LightGBM] [Warning] No further splits with positive gain, best gain: -inf\n",
      "[1778]#011train's binary_logloss: 0.0472305#011val's binary_logloss: 0.134892\n",
      "[LightGBM] [Warning] No further splits with positive gain, best gain: -inf\n",
      "[1779]#011train's binary_logloss: 0.0472137#011val's binary_logloss: 0.134893\n",
      "[1780]#011train's binary_logloss: 0.0471683#011val's binary_logloss: 0.134852\n",
      "[LightGBM] [Warning] No further splits with positive gain, best gain: -inf\n",
      "[1781]#011train's binary_logloss: 0.0471205#011val's binary_logloss: 0.134831\n",
      "[LightGBM] [Warning] No further splits with positive gain, best gain: -inf\n",
      "[1782]#011train's binary_logloss: 0.0470753#011val's binary_logloss: 0.134811\n",
      "[LightGBM] [Warning] No further splits with positive gain, best gain: -inf\n",
      "[1783]#011train's binary_logloss: 0.0470398#011val's binary_logloss: 0.134721\n",
      "[1784]#011train's binary_logloss: 0.0469967#011val's binary_logloss: 0.13473\n",
      "[LightGBM] [Warning] No further splits with positive gain, best gain: -inf\n",
      "[1785]#011train's binary_logloss: 0.0469484#011val's binary_logloss: 0.134719\n",
      "[1786]#011train's binary_logloss: 0.0468981#011val's binary_logloss: 0.134643\n",
      "[LightGBM] [Warning] No further splits with positive gain, best gain: -inf\n",
      "[1787]#011train's binary_logloss: 0.0468722#011val's binary_logloss: 0.134651\n",
      "[LightGBM] [Warning] No further splits with positive gain, best gain: -inf\n",
      "[1788]#011train's binary_logloss: 0.0468468#011val's binary_logloss: 0.134667\n",
      "[LightGBM] [Warning] No further splits with positive gain, best gain: -inf\n",
      "[1789]#011train's binary_logloss: 0.0468235#011val's binary_logloss: 0.134695\n",
      "[1790]#011train's binary_logloss: 0.0467821#011val's binary_logloss: 0.134688\n",
      "[LightGBM] [Warning] No further splits with positive gain, best gain: -inf\n",
      "[1791]#011train's binary_logloss: 0.046739#011val's binary_logloss: 0.134631\n",
      "[LightGBM] [Warning] No further splits with positive gain, best gain: -inf\n",
      "[1792]#011train's binary_logloss: 0.0466882#011val's binary_logloss: 0.134591\n",
      "[LightGBM] [Warning] No further splits with positive gain, best gain: -inf\n",
      "[1793]#011train's binary_logloss: 0.0466624#011val's binary_logloss: 0.13459\n",
      "[1794]#011train's binary_logloss: 0.0466244#011val's binary_logloss: 0.134557\n",
      "[LightGBM] [Warning] No further splits with positive gain, best gain: -inf\n",
      "[1795]#011train's binary_logloss: 0.0465979#011val's binary_logloss: 0.134549\n",
      "[1796]#011train's binary_logloss: 0.0465533#011val's binary_logloss: 0.134512\n",
      "[1797]#011train's binary_logloss: 0.0464978#011val's binary_logloss: 0.134457\n",
      "[1798]#011train's binary_logloss: 0.0464564#011val's binary_logloss: 0.134446\n",
      "[LightGBM] [Warning] No further splits with positive gain, best gain: -inf\n",
      "[1799]#011train's binary_logloss: 0.046433#011val's binary_logloss: 0.134465\n",
      "[1800]#011train's binary_logloss: 0.0463876#011val's binary_logloss: 0.134447\n",
      "[1801]#011train's binary_logloss: 0.0463314#011val's binary_logloss: 0.134458\n",
      "[1802]#011train's binary_logloss: 0.0462668#011val's binary_logloss: 0.134451\n",
      "[1803]#011train's binary_logloss: 0.0462364#011val's binary_logloss: 0.134453\n",
      "[1804]#011train's binary_logloss: 0.046184#011val's binary_logloss: 0.134434\n",
      "[1805]#011train's binary_logloss: 0.0461358#011val's binary_logloss: 0.134402\n",
      "[1806]#011train's binary_logloss: 0.0460655#011val's binary_logloss: 0.134334\n",
      "[1807]#011train's binary_logloss: 0.0460127#011val's binary_logloss: 0.13427\n",
      "[1808]#011train's binary_logloss: 0.0459443#011val's binary_logloss: 0.134241\n",
      "[1809]#011train's binary_logloss: 0.0458871#011val's binary_logloss: 0.134187\n",
      "[1810]#011train's binary_logloss: 0.045827#011val's binary_logloss: 0.134128\n",
      "[LightGBM] [Warning] No further splits with positive gain, best gain: -inf\n",
      "[1811]#011train's binary_logloss: 0.0457884#011val's binary_logloss: 0.134084\n",
      "[LightGBM] [Warning] No further splits with positive gain, best gain: -inf\n",
      "[1812]#011train's binary_logloss: 0.0457758#011val's binary_logloss: 0.134112\n",
      "[LightGBM] [Warning] No further splits with positive gain, best gain: -inf\n",
      "[1813]#011train's binary_logloss: 0.0457323#011val's binary_logloss: 0.134112\n",
      "[LightGBM] [Warning] No further splits with positive gain, best gain: -inf\n",
      "[1814]#011train's binary_logloss: 0.0456943#011val's binary_logloss: 0.134069\n",
      "[1815]#011train's binary_logloss: 0.0456501#011val's binary_logloss: 0.13407\n",
      "[1816]#011train's binary_logloss: 0.0455992#011val's binary_logloss: 0.134024\n",
      "[1817]#011train's binary_logloss: 0.045552#011val's binary_logloss: 0.13402\n",
      "[LightGBM] [Warning] No further splits with positive gain, best gain: -inf\n",
      "[1818]#011train's binary_logloss: 0.0455024#011val's binary_logloss: 0.13395\n",
      "[1819]#011train's binary_logloss: 0.045458#011val's binary_logloss: 0.133915\n",
      "[1820]#011train's binary_logloss: 0.045408#011val's binary_logloss: 0.133863\n",
      "[LightGBM] [Warning] No further splits with positive gain, best gain: -inf\n",
      "[1821]#011train's binary_logloss: 0.0453718#011val's binary_logloss: 0.133837\n",
      "[1822]#011train's binary_logloss: 0.0453216#011val's binary_logloss: 0.133842\n",
      "[1823]#011train's binary_logloss: 0.0452735#011val's binary_logloss: 0.133748\n",
      "[1824]#011train's binary_logloss: 0.045237#011val's binary_logloss: 0.133738\n",
      "[LightGBM] [Warning] No further splits with positive gain, best gain: -inf\n",
      "[1825]#011train's binary_logloss: 0.0452023#011val's binary_logloss: 0.133718\n",
      "[LightGBM] [Warning] No further splits with positive gain, best gain: -inf\n",
      "[1826]#011train's binary_logloss: 0.0451792#011val's binary_logloss: 0.133736\n",
      "[LightGBM] [Warning] No further splits with positive gain, best gain: -inf\n",
      "[1827]#011train's binary_logloss: 0.0451336#011val's binary_logloss: 0.133742\n",
      "[1828]#011train's binary_logloss: 0.045094#011val's binary_logloss: 0.133726\n",
      "[LightGBM] [Warning] No further splits with positive gain, best gain: -inf\n",
      "[1829]#011train's binary_logloss: 0.0450671#011val's binary_logloss: 0.133733\n",
      "[LightGBM] [Warning] No further splits with positive gain, best gain: -inf\n",
      "[1830]#011train's binary_logloss: 0.0450445#011val's binary_logloss: 0.133705\n",
      "[1831]#011train's binary_logloss: 0.0450089#011val's binary_logloss: 0.133702\n",
      "[1832]#011train's binary_logloss: 0.0449524#011val's binary_logloss: 0.133685\n",
      "[LightGBM] [Warning] No further splits with positive gain, best gain: -inf\n",
      "[1833]#011train's binary_logloss: 0.0449257#011val's binary_logloss: 0.133625\n",
      "[1834]#011train's binary_logloss: 0.0448727#011val's binary_logloss: 0.133613\n",
      "[1835]#011train's binary_logloss: 0.044815#011val's binary_logloss: 0.133574\n",
      "[LightGBM] [Warning] No further splits with positive gain, best gain: -inf\n",
      "[1836]#011train's binary_logloss: 0.0447776#011val's binary_logloss: 0.133531\n",
      "[1837]#011train's binary_logloss: 0.0447235#011val's binary_logloss: 0.133457\n",
      "[LightGBM] [Warning] No further splits with positive gain, best gain: -inf\n",
      "[1838]#011train's binary_logloss: 0.0446993#011val's binary_logloss: 0.133433\n",
      "[1839]#011train's binary_logloss: 0.0446464#011val's binary_logloss: 0.133365\n",
      "[1840]#011train's binary_logloss: 0.0446102#011val's binary_logloss: 0.133352\n",
      "[1841]#011train's binary_logloss: 0.0445619#011val's binary_logloss: 0.133326\n",
      "[1842]#011train's binary_logloss: 0.0445141#011val's binary_logloss: 0.13331\n",
      "[1843]#011train's binary_logloss: 0.044459#011val's binary_logloss: 0.133288\n",
      "[1844]#011train's binary_logloss: 0.0444168#011val's binary_logloss: 0.133265\n",
      "[1845]#011train's binary_logloss: 0.0443574#011val's binary_logloss: 0.133207\n",
      "[LightGBM] [Warning] No further splits with positive gain, best gain: -inf\n",
      "[1846]#011train's binary_logloss: 0.0443448#011val's binary_logloss: 0.133241\n",
      "[LightGBM] [Warning] No further splits with positive gain, best gain: -inf\n",
      "[1847]#011train's binary_logloss: 0.0442997#011val's binary_logloss: 0.133215\n",
      "[LightGBM] [Warning] No further splits with positive gain, best gain: -inf\n",
      "[1848]#011train's binary_logloss: 0.0442677#011val's binary_logloss: 0.133237\n",
      "[LightGBM] [Warning] No further splits with positive gain, best gain: -inf\n",
      "[1849]#011train's binary_logloss: 0.0442198#011val's binary_logloss: 0.133153\n",
      "[LightGBM] [Warning] No further splits with positive gain, best gain: -inf\n",
      "[1850]#011train's binary_logloss: 0.0441789#011val's binary_logloss: 0.133133\n",
      "[LightGBM] [Warning] No further splits with positive gain, best gain: -inf\n",
      "[1851]#011train's binary_logloss: 0.0441373#011val's binary_logloss: 0.13309\n",
      "[LightGBM] [Warning] No further splits with positive gain, best gain: -inf\n",
      "[1852]#011train's binary_logloss: 0.0441234#011val's binary_logloss: 0.133072\n",
      "[LightGBM] [Warning] No further splits with positive gain, best gain: -inf\n",
      "[1853]#011train's binary_logloss: 0.044082#011val's binary_logloss: 0.133028\n",
      "[LightGBM] [Warning] No further splits with positive gain, best gain: -inf\n",
      "[1854]#011train's binary_logloss: 0.0440445#011val's binary_logloss: 0.132989\n",
      "[LightGBM] [Warning] No further splits with positive gain, best gain: -inf\n",
      "[1855]#011train's binary_logloss: 0.0440058#011val's binary_logloss: 0.132952\n",
      "[LightGBM] [Warning] No further splits with positive gain, best gain: -inf\n",
      "[1856]#011train's binary_logloss: 0.0439764#011val's binary_logloss: 0.132967\n",
      "[LightGBM] [Warning] No further splits with positive gain, best gain: -inf\n",
      "[1857]#011train's binary_logloss: 0.0439434#011val's binary_logloss: 0.13298\n",
      "[LightGBM] [Warning] No further splits with positive gain, best gain: -inf\n",
      "[1858]#011train's binary_logloss: 0.0439155#011val's binary_logloss: 0.132979\n",
      "[LightGBM] [Warning] No further splits with positive gain, best gain: -inf\n",
      "[1859]#011train's binary_logloss: 0.0438865#011val's binary_logloss: 0.132994\n",
      "[LightGBM] [Warning] No further splits with positive gain, best gain: -inf\n",
      "[1860]#011train's binary_logloss: 0.0438631#011val's binary_logloss: 0.132998\n",
      "[1861]#011train's binary_logloss: 0.0438244#011val's binary_logloss: 0.13301\n",
      "[1862]#011train's binary_logloss: 0.0437823#011val's binary_logloss: 0.132995\n",
      "[1863]#011train's binary_logloss: 0.0437376#011val's binary_logloss: 0.13305\n",
      "[1864]#011train's binary_logloss: 0.0436919#011val's binary_logloss: 0.13311\n",
      "[1865]#011train's binary_logloss: 0.0436402#011val's binary_logloss: 0.133023\n",
      "[1866]#011train's binary_logloss: 0.0435985#011val's binary_logloss: 0.133\n",
      "[1867]#011train's binary_logloss: 0.043554#011val's binary_logloss: 0.132992\n",
      "[1868]#011train's binary_logloss: 0.043504#011val's binary_logloss: 0.13294\n",
      "[LightGBM] [Warning] No further splits with positive gain, best gain: -inf\n",
      "[1869]#011train's binary_logloss: 0.0434876#011val's binary_logloss: 0.132931\n",
      "[1870]#011train's binary_logloss: 0.0434599#011val's binary_logloss: 0.132953\n",
      "[1871]#011train's binary_logloss: 0.0434104#011val's binary_logloss: 0.13288\n",
      "[1872]#011train's binary_logloss: 0.0433626#011val's binary_logloss: 0.132784\n",
      "[1873]#011train's binary_logloss: 0.0433253#011val's binary_logloss: 0.132761\n",
      "[1874]#011train's binary_logloss: 0.0432685#011val's binary_logloss: 0.132703\n",
      "[1875]#011train's binary_logloss: 0.0432147#011val's binary_logloss: 0.132655\n",
      "[LightGBM] [Warning] No further splits with positive gain, best gain: -inf\n",
      "[1876]#011train's binary_logloss: 0.0431928#011val's binary_logloss: 0.132658\n",
      "[1877]#011train's binary_logloss: 0.0431407#011val's binary_logloss: 0.132658\n",
      "[LightGBM] [Warning] No further splits with positive gain, best gain: -inf\n",
      "[1878]#011train's binary_logloss: 0.0431141#011val's binary_logloss: 0.132712\n",
      "[LightGBM] [Warning] No further splits with positive gain, best gain: -inf\n",
      "[1879]#011train's binary_logloss: 0.0430942#011val's binary_logloss: 0.132694\n",
      "[LightGBM] [Warning] No further splits with positive gain, best gain: -inf\n",
      "[1880]#011train's binary_logloss: 0.0430654#011val's binary_logloss: 0.132723\n",
      "[1881]#011train's binary_logloss: 0.0430156#011val's binary_logloss: 0.132719\n",
      "[1882]#011train's binary_logloss: 0.042959#011val's binary_logloss: 0.132675\n",
      "[1883]#011train's binary_logloss: 0.0428999#011val's binary_logloss: 0.132639\n",
      "[1884]#011train's binary_logloss: 0.0428479#011val's binary_logloss: 0.13261\n",
      "[1885]#011train's binary_logloss: 0.0427953#011val's binary_logloss: 0.132571\n",
      "[1886]#011train's binary_logloss: 0.0427471#011val's binary_logloss: 0.132569\n",
      "[LightGBM] [Warning] No further splits with positive gain, best gain: -inf\n",
      "[1887]#011train's binary_logloss: 0.0427057#011val's binary_logloss: 0.132477\n",
      "[LightGBM] [Warning] No further splits with positive gain, best gain: -inf\n",
      "[1888]#011train's binary_logloss: 0.0426717#011val's binary_logloss: 0.132399\n",
      "[LightGBM] [Warning] No further splits with positive gain, best gain: -inf\n",
      "[1889]#011train's binary_logloss: 0.0426536#011val's binary_logloss: 0.132381\n",
      "[1890]#011train's binary_logloss: 0.0426089#011val's binary_logloss: 0.132365\n",
      "[1891]#011train's binary_logloss: 0.0425516#011val's binary_logloss: 0.132353\n",
      "[1892]#011train's binary_logloss: 0.0424946#011val's binary_logloss: 0.132342\n",
      "[1893]#011train's binary_logloss: 0.0424478#011val's binary_logloss: 0.132316\n",
      "[1894]#011train's binary_logloss: 0.0424036#011val's binary_logloss: 0.132355\n",
      "[1895]#011train's binary_logloss: 0.0423607#011val's binary_logloss: 0.132318\n",
      "[1896]#011train's binary_logloss: 0.0423027#011val's binary_logloss: 0.132271\n",
      "[1897]#011train's binary_logloss: 0.0422606#011val's binary_logloss: 0.132236\n",
      "[1898]#011train's binary_logloss: 0.042225#011val's binary_logloss: 0.132169\n",
      "[1899]#011train's binary_logloss: 0.0422003#011val's binary_logloss: 0.132138\n",
      "[LightGBM] [Warning] No further splits with positive gain, best gain: -inf\n",
      "[1900]#011train's binary_logloss: 0.0421674#011val's binary_logloss: 0.132092\n",
      "[1901]#011train's binary_logloss: 0.0421351#011val's binary_logloss: 0.132073\n",
      "[1902]#011train's binary_logloss: 0.0421054#011val's binary_logloss: 0.132052\n",
      "[LightGBM] [Warning] No further splits with positive gain, best gain: -inf\n",
      "[1903]#011train's binary_logloss: 0.0420736#011val's binary_logloss: 0.132014\n",
      "[LightGBM] [Warning] No further splits with positive gain, best gain: -inf\n",
      "[1904]#011train's binary_logloss: 0.0420339#011val's binary_logloss: 0.13194\n",
      "[1905]#011train's binary_logloss: 0.0420069#011val's binary_logloss: 0.131943\n",
      "[1906]#011train's binary_logloss: 0.0419746#011val's binary_logloss: 0.131955\n",
      "[1907]#011train's binary_logloss: 0.0419299#011val's binary_logloss: 0.131957\n",
      "[1908]#011train's binary_logloss: 0.041885#011val's binary_logloss: 0.131927\n",
      "[1909]#011train's binary_logloss: 0.0418488#011val's binary_logloss: 0.131924\n",
      "[LightGBM] [Warning] No further splits with positive gain, best gain: -inf\n",
      "[1910]#011train's binary_logloss: 0.0418092#011val's binary_logloss: 0.131921\n",
      "[1911]#011train's binary_logloss: 0.0417741#011val's binary_logloss: 0.131957\n",
      "[LightGBM] [Warning] No further splits with positive gain, best gain: -inf\n",
      "[1912]#011train's binary_logloss: 0.0417452#011val's binary_logloss: 0.131944\n",
      "[1913]#011train's binary_logloss: 0.0416932#011val's binary_logloss: 0.131918\n",
      "[1914]#011train's binary_logloss: 0.0416622#011val's binary_logloss: 0.131914\n",
      "[LightGBM] [Warning] No further splits with positive gain, best gain: -inf\n",
      "[1915]#011train's binary_logloss: 0.0416198#011val's binary_logloss: 0.131858\n",
      "[LightGBM] [Warning] No further splits with positive gain, best gain: -inf\n",
      "[1916]#011train's binary_logloss: 0.0415778#011val's binary_logloss: 0.13185\n",
      "[1917]#011train's binary_logloss: 0.0415383#011val's binary_logloss: 0.131828\n",
      "[1918]#011train's binary_logloss: 0.0414881#011val's binary_logloss: 0.131814\n",
      "[1919]#011train's binary_logloss: 0.0414387#011val's binary_logloss: 0.13179\n",
      "[1920]#011train's binary_logloss: 0.0413873#011val's binary_logloss: 0.131807\n",
      "[1921]#011train's binary_logloss: 0.0413455#011val's binary_logloss: 0.131848\n",
      "[1922]#011train's binary_logloss: 0.0412993#011val's binary_logloss: 0.131845\n",
      "[1923]#011train's binary_logloss: 0.0412476#011val's binary_logloss: 0.131836\n",
      "[1924]#011train's binary_logloss: 0.041195#011val's binary_logloss: 0.131827\n",
      "[1925]#011train's binary_logloss: 0.041158#011val's binary_logloss: 0.131797\n",
      "[1926]#011train's binary_logloss: 0.0411153#011val's binary_logloss: 0.131784\n",
      "[1927]#011train's binary_logloss: 0.0410567#011val's binary_logloss: 0.131776\n",
      "[1928]#011train's binary_logloss: 0.0409967#011val's binary_logloss: 0.131751\n",
      "[1929]#011train's binary_logloss: 0.0409446#011val's binary_logloss: 0.131732\n",
      "[LightGBM] [Warning] No further splits with positive gain, best gain: -inf\n",
      "[1930]#011train's binary_logloss: 0.0408952#011val's binary_logloss: 0.131709\n",
      "[1931]#011train's binary_logloss: 0.0408508#011val's binary_logloss: 0.131715\n",
      "[1932]#011train's binary_logloss: 0.0408158#011val's binary_logloss: 0.131683\n",
      "[LightGBM] [Warning] No further splits with positive gain, best gain: -inf\n",
      "[1933]#011train's binary_logloss: 0.0407821#011val's binary_logloss: 0.131671\n",
      "[1934]#011train's binary_logloss: 0.0407429#011val's binary_logloss: 0.131683\n",
      "[1935]#011train's binary_logloss: 0.0407057#011val's binary_logloss: 0.131677\n",
      "[1936]#011train's binary_logloss: 0.0406583#011val's binary_logloss: 0.131716\n",
      "[1937]#011train's binary_logloss: 0.0406026#011val's binary_logloss: 0.131662\n",
      "[1938]#011train's binary_logloss: 0.0405502#011val's binary_logloss: 0.131623\n",
      "[1939]#011train's binary_logloss: 0.0405027#011val's binary_logloss: 0.13157\n",
      "[1940]#011train's binary_logloss: 0.0404499#011val's binary_logloss: 0.131538\n",
      "[1941]#011train's binary_logloss: 0.0404053#011val's binary_logloss: 0.131538\n",
      "[1942]#011train's binary_logloss: 0.0403621#011val's binary_logloss: 0.131559\n",
      "[1943]#011train's binary_logloss: 0.0403237#011val's binary_logloss: 0.13157\n",
      "[1944]#011train's binary_logloss: 0.0402905#011val's binary_logloss: 0.131585\n",
      "[1945]#011train's binary_logloss: 0.0402462#011val's binary_logloss: 0.131568\n",
      "[1946]#011train's binary_logloss: 0.0402124#011val's binary_logloss: 0.131547\n",
      "[1947]#011train's binary_logloss: 0.0401714#011val's binary_logloss: 0.131485\n",
      "[1948]#011train's binary_logloss: 0.040138#011val's binary_logloss: 0.131468\n",
      "[1949]#011train's binary_logloss: 0.0400984#011val's binary_logloss: 0.131396\n",
      "[1950]#011train's binary_logloss: 0.0400657#011val's binary_logloss: 0.13139\n",
      "[LightGBM] [Warning] No further splits with positive gain, best gain: -inf\n",
      "[1951]#011train's binary_logloss: 0.0400443#011val's binary_logloss: 0.131402\n",
      "[1952]#011train's binary_logloss: 0.0400183#011val's binary_logloss: 0.131443\n",
      "[LightGBM] [Warning] No further splits with positive gain, best gain: -inf\n",
      "[1953]#011train's binary_logloss: 0.0399979#011val's binary_logloss: 0.131455\n",
      "[LightGBM] [Warning] No further splits with positive gain, best gain: -inf\n",
      "[1954]#011train's binary_logloss: 0.0399782#011val's binary_logloss: 0.131472\n",
      "[1955]#011train's binary_logloss: 0.039933#011val's binary_logloss: 0.131452\n",
      "[LightGBM] [Warning] No further splits with positive gain, best gain: -inf\n",
      "[1956]#011train's binary_logloss: 0.0399112#011val's binary_logloss: 0.131465\n",
      "[LightGBM] [Warning] No further splits with positive gain, best gain: -inf\n",
      "[1957]#011train's binary_logloss: 0.0398745#011val's binary_logloss: 0.131432\n",
      "[LightGBM] [Warning] No further splits with positive gain, best gain: -inf\n",
      "[1958]#011train's binary_logloss: 0.0398475#011val's binary_logloss: 0.131456\n",
      "[LightGBM] [Warning] No further splits with positive gain, best gain: -inf\n",
      "[1959]#011train's binary_logloss: 0.0398183#011val's binary_logloss: 0.131433\n",
      "[LightGBM] [Warning] No further splits with positive gain, best gain: -inf\n",
      "[1960]#011train's binary_logloss: 0.0397859#011val's binary_logloss: 0.131437\n",
      "[LightGBM] [Warning] No further splits with positive gain, best gain: -inf\n",
      "[1961]#011train's binary_logloss: 0.0397683#011val's binary_logloss: 0.131413\n",
      "[1962]#011train's binary_logloss: 0.0397262#011val's binary_logloss: 0.131424\n",
      "[1963]#011train's binary_logloss: 0.03969#011val's binary_logloss: 0.131327\n",
      "[1964]#011train's binary_logloss: 0.0396519#011val's binary_logloss: 0.131245\n",
      "[1965]#011train's binary_logloss: 0.0396102#011val's binary_logloss: 0.131239\n",
      "[LightGBM] [Warning] No further splits with positive gain, best gain: -inf\n",
      "[1966]#011train's binary_logloss: 0.0395739#011val's binary_logloss: 0.131253\n",
      "[LightGBM] [Warning] No further splits with positive gain, best gain: -inf\n",
      "[1967]#011train's binary_logloss: 0.0395565#011val's binary_logloss: 0.131258\n",
      "[LightGBM] [Warning] No further splits with positive gain, best gain: -inf\n",
      "[1968]#011train's binary_logloss: 0.0395272#011val's binary_logloss: 0.13127\n",
      "[1969]#011train's binary_logloss: 0.0394952#011val's binary_logloss: 0.131212\n",
      "[LightGBM] [Warning] No further splits with positive gain, best gain: -inf\n",
      "[1970]#011train's binary_logloss: 0.0394658#011val's binary_logloss: 0.131248\n",
      "[1971]#011train's binary_logloss: 0.039422#011val's binary_logloss: 0.13118\n",
      "[LightGBM] [Warning] No further splits with positive gain, best gain: -inf\n",
      "[1972]#011train's binary_logloss: 0.0393881#011val's binary_logloss: 0.131134\n",
      "[1973]#011train's binary_logloss: 0.0393448#011val's binary_logloss: 0.131114\n",
      "[LightGBM] [Warning] No further splits with positive gain, best gain: -inf\n",
      "[1974]#011train's binary_logloss: 0.0393124#011val's binary_logloss: 0.131067\n",
      "[LightGBM] [Warning] No further splits with positive gain, best gain: -inf\n",
      "[1975]#011train's binary_logloss: 0.0392908#011val's binary_logloss: 0.131071\n",
      "[LightGBM] [Warning] No further splits with positive gain, best gain: -inf\n",
      "[1976]#011train's binary_logloss: 0.0392573#011val's binary_logloss: 0.131077\n",
      "[LightGBM] [Warning] No further splits with positive gain, best gain: -inf\n",
      "[1977]#011train's binary_logloss: 0.0392245#011val's binary_logloss: 0.131078\n",
      "[1978]#011train's binary_logloss: 0.0391789#011val's binary_logloss: 0.131118\n",
      "[1979]#011train's binary_logloss: 0.0391317#011val's binary_logloss: 0.131163\n",
      "[1980]#011train's binary_logloss: 0.0390855#011val's binary_logloss: 0.131193\n",
      "[1981]#011train's binary_logloss: 0.0390559#011val's binary_logloss: 0.131195\n",
      "[1982]#011train's binary_logloss: 0.0390105#011val's binary_logloss: 0.13113\n",
      "[1983]#011train's binary_logloss: 0.0389613#011val's binary_logloss: 0.131097\n",
      "[1984]#011train's binary_logloss: 0.038928#011val's binary_logloss: 0.131101\n",
      "[1985]#011train's binary_logloss: 0.0388956#011val's binary_logloss: 0.131102\n",
      "[1986]#011train's binary_logloss: 0.038847#011val's binary_logloss: 0.131076\n",
      "[1987]#011train's binary_logloss: 0.0388034#011val's binary_logloss: 0.131056\n",
      "[1988]#011train's binary_logloss: 0.0387696#011val's binary_logloss: 0.131062\n",
      "[1989]#011train's binary_logloss: 0.0387371#011val's binary_logloss: 0.131091\n",
      "[1990]#011train's binary_logloss: 0.0387061#011val's binary_logloss: 0.131096\n",
      "[1991]#011train's binary_logloss: 0.0386559#011val's binary_logloss: 0.13107\n",
      "[1992]#011train's binary_logloss: 0.0386299#011val's binary_logloss: 0.131081\n",
      "[1993]#011train's binary_logloss: 0.0386#011val's binary_logloss: 0.131033\n",
      "[1994]#011train's binary_logloss: 0.0385658#011val's binary_logloss: 0.130997\n",
      "[1995]#011train's binary_logloss: 0.0385157#011val's binary_logloss: 0.13098\n",
      "[LightGBM] [Warning] No further splits with positive gain, best gain: -inf\n",
      "[1996]#011train's binary_logloss: 0.0384824#011val's binary_logloss: 0.130958\n",
      "[LightGBM] [Warning] No further splits with positive gain, best gain: -inf\n",
      "[1997]#011train's binary_logloss: 0.038459#011val's binary_logloss: 0.130924\n",
      "[LightGBM] [Warning] No further splits with positive gain, best gain: -inf\n",
      "[1998]#011train's binary_logloss: 0.0384403#011val's binary_logloss: 0.130897\n",
      "[LightGBM] [Warning] No further splits with positive gain, best gain: -inf\n",
      "[1999]#011train's binary_logloss: 0.0384164#011val's binary_logloss: 0.130874\n",
      "[LightGBM] [Warning] No further splits with positive gain, best gain: -inf\n",
      "[2000]#011train's binary_logloss: 0.038402#011val's binary_logloss: 0.130898\n",
      "[LightGBM] [Warning] No further splits with positive gain, best gain: -inf\n",
      "[2001]#011train's binary_logloss: 0.038382#011val's binary_logloss: 0.130883\n",
      "[2002]#011train's binary_logloss: 0.0383604#011val's binary_logloss: 0.130912\n",
      "[2003]#011train's binary_logloss: 0.0383331#011val's binary_logloss: 0.130938\n",
      "[2004]#011train's binary_logloss: 0.0383112#011val's binary_logloss: 0.13097\n",
      "[2005]#011train's binary_logloss: 0.0382725#011val's binary_logloss: 0.130976\n",
      "[LightGBM] [Warning] No further splits with positive gain, best gain: -inf\n",
      "[2006]#011train's binary_logloss: 0.0382454#011val's binary_logloss: 0.130982\n",
      "[LightGBM] [Warning] No further splits with positive gain, best gain: -inf\n",
      "[2007]#011train's binary_logloss: 0.0382312#011val's binary_logloss: 0.131016\n",
      "[2008]#011train's binary_logloss: 0.0381899#011val's binary_logloss: 0.130952\n",
      "[LightGBM] [Warning] No further splits with positive gain, best gain: -inf\n",
      "[2009]#011train's binary_logloss: 0.0381752#011val's binary_logloss: 0.130982\n",
      "[LightGBM] [Warning] No further splits with positive gain, best gain: -inf\n",
      "[2010]#011train's binary_logloss: 0.0381601#011val's binary_logloss: 0.131016\n",
      "[2011]#011train's binary_logloss: 0.0381196#011val's binary_logloss: 0.131041\n",
      "[2012]#011train's binary_logloss: 0.038079#011val's binary_logloss: 0.131057\n",
      "[2013]#011train's binary_logloss: 0.0380246#011val's binary_logloss: 0.131018\n",
      "[LightGBM] [Warning] No further splits with positive gain, best gain: -inf\n",
      "[2014]#011train's binary_logloss: 0.0379973#011val's binary_logloss: 0.130997\n",
      "[LightGBM] [Warning] No further splits with positive gain, best gain: -inf\n",
      "[2015]#011train's binary_logloss: 0.0379875#011val's binary_logloss: 0.131008\n",
      "[2016]#011train's binary_logloss: 0.0379413#011val's binary_logloss: 0.131002\n",
      "[2017]#011train's binary_logloss: 0.0378957#011val's binary_logloss: 0.13102\n",
      "[2018]#011train's binary_logloss: 0.0378519#011val's binary_logloss: 0.131015\n",
      "[2019]#011train's binary_logloss: 0.0378278#011val's binary_logloss: 0.131006\n",
      "[2020]#011train's binary_logloss: 0.0377892#011val's binary_logloss: 0.131028\n",
      "[LightGBM] [Warning] No further splits with positive gain, best gain: -inf\n",
      "[2021]#011train's binary_logloss: 0.037764#011val's binary_logloss: 0.131039\n",
      "[2022]#011train's binary_logloss: 0.0377287#011val's binary_logloss: 0.13098\n",
      "[LightGBM] [Warning] No further splits with positive gain, best gain: -inf\n",
      "[2023]#011train's binary_logloss: 0.0376955#011val's binary_logloss: 0.13096\n",
      "[2024]#011train's binary_logloss: 0.0376546#011val's binary_logloss: 0.13092\n",
      "[2025]#011train's binary_logloss: 0.0376113#011val's binary_logloss: 0.130861\n",
      "[2026]#011train's binary_logloss: 0.037562#011val's binary_logloss: 0.130848\n",
      "[2027]#011train's binary_logloss: 0.0375221#011val's binary_logloss: 0.130832\n",
      "[2028]#011train's binary_logloss: 0.0374863#011val's binary_logloss: 0.130835\n",
      "[2029]#011train's binary_logloss: 0.0374512#011val's binary_logloss: 0.130831\n",
      "[2030]#011train's binary_logloss: 0.0374254#011val's binary_logloss: 0.130838\n",
      "[LightGBM] [Warning] No further splits with positive gain, best gain: -inf\n",
      "[2031]#011train's binary_logloss: 0.037404#011val's binary_logloss: 0.130874\n",
      "[LightGBM] [Warning] No further splits with positive gain, best gain: -inf\n",
      "[2032]#011train's binary_logloss: 0.0373719#011val's binary_logloss: 0.13084\n",
      "[LightGBM] [Warning] No further splits with positive gain, best gain: -inf\n",
      "[2033]#011train's binary_logloss: 0.0373471#011val's binary_logloss: 0.130815\n",
      "[2034]#011train's binary_logloss: 0.037322#011val's binary_logloss: 0.130856\n",
      "[LightGBM] [Warning] No further splits with positive gain, best gain: -inf\n",
      "[2035]#011train's binary_logloss: 0.0372972#011val's binary_logloss: 0.130877\n",
      "[LightGBM] [Warning] No further splits with positive gain, best gain: -inf\n",
      "[2036]#011train's binary_logloss: 0.0372644#011val's binary_logloss: 0.130838\n",
      "[2037]#011train's binary_logloss: 0.0372216#011val's binary_logloss: 0.130853\n",
      "[LightGBM] [Warning] No further splits with positive gain, best gain: -inf\n",
      "[2038]#011train's binary_logloss: 0.0371912#011val's binary_logloss: 0.130842\n",
      "[2039]#011train's binary_logloss: 0.0371466#011val's binary_logloss: 0.130859\n",
      "[2040]#011train's binary_logloss: 0.0371043#011val's binary_logloss: 0.130864\n",
      "[LightGBM] [Warning] No further splits with positive gain, best gain: -inf\n",
      "[2041]#011train's binary_logloss: 0.037079#011val's binary_logloss: 0.130849\n",
      "[LightGBM] [Warning] No further splits with positive gain, best gain: -inf\n",
      "[2042]#011train's binary_logloss: 0.03707#011val's binary_logloss: 0.130831\n",
      "[LightGBM] [Warning] No further splits with positive gain, best gain: -inf\n",
      "[2043]#011train's binary_logloss: 0.0370474#011val's binary_logloss: 0.130829\n",
      "[LightGBM] [Warning] No further splits with positive gain, best gain: -inf\n",
      "[2044]#011train's binary_logloss: 0.0370242#011val's binary_logloss: 0.130824\n",
      "[LightGBM] [Warning] No further splits with positive gain, best gain: -inf\n",
      "[2045]#011train's binary_logloss: 0.037014#011val's binary_logloss: 0.130806\n",
      "[2046]#011train's binary_logloss: 0.036976#011val's binary_logloss: 0.130735\n",
      "[LightGBM] [Warning] No further splits with positive gain, best gain: -inf\n",
      "[2047]#011train's binary_logloss: 0.0369449#011val's binary_logloss: 0.130655\n",
      "[2048]#011train's binary_logloss: 0.0369058#011val's binary_logloss: 0.130615\n",
      "[2049]#011train's binary_logloss: 0.0368742#011val's binary_logloss: 0.130631\n",
      "[LightGBM] [Warning] No further splits with positive gain, best gain: -inf\n",
      "[2050]#011train's binary_logloss: 0.0368459#011val's binary_logloss: 0.130568\n",
      "[LightGBM] [Warning] No further splits with positive gain, best gain: -inf\n",
      "[2051]#011train's binary_logloss: 0.0368143#011val's binary_logloss: 0.130568\n",
      "[LightGBM] [Warning] No further splits with positive gain, best gain: -inf\n",
      "[2052]#011train's binary_logloss: 0.0367854#011val's binary_logloss: 0.130503\n",
      "[2053]#011train's binary_logloss: 0.0367435#011val's binary_logloss: 0.130528\n",
      "[2054]#011train's binary_logloss: 0.036709#011val's binary_logloss: 0.130564\n",
      "[LightGBM] [Warning] No further splits with positive gain, best gain: -inf\n",
      "[2055]#011train's binary_logloss: 0.0366871#011val's binary_logloss: 0.130586\n",
      "[LightGBM] [Warning] No further splits with positive gain, best gain: -inf\n",
      "[2056]#011train's binary_logloss: 0.0366581#011val's binary_logloss: 0.130555\n",
      "[2057]#011train's binary_logloss: 0.0366236#011val's binary_logloss: 0.130547\n",
      "[LightGBM] [Warning] No further splits with positive gain, best gain: -inf\n",
      "[2058]#011train's binary_logloss: 0.0365919#011val's binary_logloss: 0.130525\n",
      "[LightGBM] [Warning] No further splits with positive gain, best gain: -inf\n",
      "[2059]#011train's binary_logloss: 0.0365586#011val's binary_logloss: 0.130496\n",
      "[LightGBM] [Warning] No further splits with positive gain, best gain: -inf\n",
      "[2060]#011train's binary_logloss: 0.0365223#011val's binary_logloss: 0.130415\n",
      "[LightGBM] [Warning] No further splits with positive gain, best gain: -inf\n",
      "[2061]#011train's binary_logloss: 0.0365021#011val's binary_logloss: 0.130381\n",
      "[LightGBM] [Warning] No further splits with positive gain, best gain: -inf\n",
      "[2062]#011train's binary_logloss: 0.0364723#011val's binary_logloss: 0.130364\n",
      "[2063]#011train's binary_logloss: 0.036438#011val's binary_logloss: 0.130332\n",
      "[LightGBM] [Warning] No further splits with positive gain, best gain: -inf\n",
      "[2064]#011train's binary_logloss: 0.036411#011val's binary_logloss: 0.130317\n",
      "[2065]#011train's binary_logloss: 0.0363721#011val's binary_logloss: 0.130276\n",
      "[2066]#011train's binary_logloss: 0.036341#011val's binary_logloss: 0.130268\n",
      "[LightGBM] [Warning] No further splits with positive gain, best gain: -inf\n",
      "[2067]#011train's binary_logloss: 0.0363194#011val's binary_logloss: 0.130235\n",
      "[2068]#011train's binary_logloss: 0.0362816#011val's binary_logloss: 0.130258\n",
      "[LightGBM] [Warning] No further splits with positive gain, best gain: -inf\n",
      "[2069]#011train's binary_logloss: 0.0362596#011val's binary_logloss: 0.130227\n",
      "[LightGBM] [Warning] No further splits with positive gain, best gain: -inf\n",
      "[2070]#011train's binary_logloss: 0.0362208#011val's binary_logloss: 0.130189\n",
      "[2071]#011train's binary_logloss: 0.0361927#011val's binary_logloss: 0.130171\n",
      "[2072]#011train's binary_logloss: 0.0361464#011val's binary_logloss: 0.130112\n",
      "[2073]#011train's binary_logloss: 0.0360971#011val's binary_logloss: 0.130057\n",
      "[LightGBM] [Warning] No further splits with positive gain, best gain: -inf\n",
      "[2074]#011train's binary_logloss: 0.0360635#011val's binary_logloss: 0.130012\n",
      "[2075]#011train's binary_logloss: 0.0360167#011val's binary_logloss: 0.129977\n",
      "[LightGBM] [Warning] No further splits with positive gain, best gain: -inf\n",
      "[2076]#011train's binary_logloss: 0.0359841#011val's binary_logloss: 0.129952\n",
      "[LightGBM] [Warning] No further splits with positive gain, best gain: -inf\n",
      "[2077]#011train's binary_logloss: 0.0359589#011val's binary_logloss: 0.129918\n",
      "[2078]#011train's binary_logloss: 0.0359277#011val's binary_logloss: 0.129882\n",
      "[LightGBM] [Warning] No further splits with positive gain, best gain: -inf\n",
      "[2079]#011train's binary_logloss: 0.0359051#011val's binary_logloss: 0.129893\n",
      "[LightGBM] [Warning] No further splits with positive gain, best gain: -inf\n",
      "[2080]#011train's binary_logloss: 0.0358757#011val's binary_logloss: 0.129867\n",
      "[2081]#011train's binary_logloss: 0.035846#011val's binary_logloss: 0.129873\n",
      "[2082]#011train's binary_logloss: 0.0358269#011val's binary_logloss: 0.129876\n",
      "[2083]#011train's binary_logloss: 0.0357961#011val's binary_logloss: 0.129875\n",
      "[2084]#011train's binary_logloss: 0.035763#011val's binary_logloss: 0.129854\n",
      "[LightGBM] [Warning] No further splits with positive gain, best gain: -inf\n",
      "[2085]#011train's binary_logloss: 0.0357523#011val's binary_logloss: 0.129839\n",
      "[2086]#011train's binary_logloss: 0.0357148#011val's binary_logloss: 0.129803\n",
      "[2087]#011train's binary_logloss: 0.035686#011val's binary_logloss: 0.129819\n",
      "[2088]#011train's binary_logloss: 0.0356435#011val's binary_logloss: 0.129746\n",
      "[LightGBM] [Warning] No further splits with positive gain, best gain: -inf\n",
      "[2089]#011train's binary_logloss: 0.0356152#011val's binary_logloss: 0.129657\n",
      "[2090]#011train's binary_logloss: 0.0355732#011val's binary_logloss: 0.129618\n",
      "[LightGBM] [Warning] No further splits with positive gain, best gain: -inf\n",
      "[2091]#011train's binary_logloss: 0.0355464#011val's binary_logloss: 0.129617\n",
      "[LightGBM] [Warning] No further splits with positive gain, best gain: -inf\n",
      "[2092]#011train's binary_logloss: 0.0355128#011val's binary_logloss: 0.129611\n",
      "[LightGBM] [Warning] No further splits with positive gain, best gain: -inf\n",
      "[2093]#011train's binary_logloss: 0.0354854#011val's binary_logloss: 0.129601\n",
      "[LightGBM] [Warning] No further splits with positive gain, best gain: -inf\n",
      "[2094]#011train's binary_logloss: 0.0354595#011val's binary_logloss: 0.129538\n",
      "[LightGBM] [Warning] No further splits with positive gain, best gain: -inf\n",
      "[2095]#011train's binary_logloss: 0.035434#011val's binary_logloss: 0.129476\n",
      "[2096]#011train's binary_logloss: 0.0353968#011val's binary_logloss: 0.129477\n",
      "[2097]#011train's binary_logloss: 0.0353644#011val's binary_logloss: 0.129443\n",
      "[2098]#011train's binary_logloss: 0.0353347#011val's binary_logloss: 0.129451\n",
      "[2099]#011train's binary_logloss: 0.0353011#011val's binary_logloss: 0.129438\n",
      "[2100]#011train's binary_logloss: 0.0352671#011val's binary_logloss: 0.129453\n",
      "[2101]#011train's binary_logloss: 0.0352272#011val's binary_logloss: 0.129436\n",
      "[LightGBM] [Warning] No further splits with positive gain, best gain: -inf\n",
      "[2102]#011train's binary_logloss: 0.0352041#011val's binary_logloss: 0.129419\n",
      "[2103]#011train's binary_logloss: 0.0351653#011val's binary_logloss: 0.129378\n",
      "[2104]#011train's binary_logloss: 0.0351361#011val's binary_logloss: 0.129376\n",
      "[LightGBM] [Warning] No further splits with positive gain, best gain: -inf\n",
      "[2105]#011train's binary_logloss: 0.0351137#011val's binary_logloss: 0.12936\n",
      "[LightGBM] [Warning] No further splits with positive gain, best gain: -inf\n",
      "[2106]#011train's binary_logloss: 0.0350934#011val's binary_logloss: 0.129373\n",
      "[LightGBM] [Warning] No further splits with positive gain, best gain: -inf\n",
      "[2107]#011train's binary_logloss: 0.0350768#011val's binary_logloss: 0.129374\n",
      "[LightGBM] [Warning] No further splits with positive gain, best gain: -inf\n",
      "[2108]#011train's binary_logloss: 0.0350531#011val's binary_logloss: 0.129316\n",
      "[LightGBM] [Warning] No further splits with positive gain, best gain: -inf\n",
      "[2109]#011train's binary_logloss: 0.0350334#011val's binary_logloss: 0.129326\n",
      "[LightGBM] [Warning] No further splits with positive gain, best gain: -inf\n",
      "[2110]#011train's binary_logloss: 0.0350123#011val's binary_logloss: 0.129272\n",
      "[2111]#011train's binary_logloss: 0.0349732#011val's binary_logloss: 0.129294\n",
      "[2112]#011train's binary_logloss: 0.0349315#011val's binary_logloss: 0.129319\n",
      "[2113]#011train's binary_logloss: 0.0348998#011val's binary_logloss: 0.129353\n",
      "[LightGBM] [Warning] No further splits with positive gain, best gain: -inf\n",
      "[2114]#011train's binary_logloss: 0.0348732#011val's binary_logloss: 0.129374\n",
      "[2115]#011train's binary_logloss: 0.0348396#011val's binary_logloss: 0.129355\n",
      "[2116]#011train's binary_logloss: 0.0348022#011val's binary_logloss: 0.129387\n",
      "[2117]#011train's binary_logloss: 0.034769#011val's binary_logloss: 0.129431\n",
      "[2118]#011train's binary_logloss: 0.0347402#011val's binary_logloss: 0.129489\n",
      "[2119]#011train's binary_logloss: 0.0347145#011val's binary_logloss: 0.129482\n",
      "[2120]#011train's binary_logloss: 0.0346852#011val's binary_logloss: 0.12947\n",
      "[2121]#011train's binary_logloss: 0.0346361#011val's binary_logloss: 0.129439\n",
      "[2122]#011train's binary_logloss: 0.0346063#011val's binary_logloss: 0.129413\n",
      "[2123]#011train's binary_logloss: 0.0345749#011val's binary_logloss: 0.129361\n",
      "[2124]#011train's binary_logloss: 0.0345275#011val's binary_logloss: 0.129358\n",
      "[2125]#011train's binary_logloss: 0.0344985#011val's binary_logloss: 0.129332\n",
      "[2126]#011train's binary_logloss: 0.0344644#011val's binary_logloss: 0.12931\n",
      "[2127]#011train's binary_logloss: 0.0344227#011val's binary_logloss: 0.129248\n",
      "[2128]#011train's binary_logloss: 0.0343918#011val's binary_logloss: 0.129242\n",
      "[2129]#011train's binary_logloss: 0.0343661#011val's binary_logloss: 0.129232\n",
      "[2130]#011train's binary_logloss: 0.0343305#011val's binary_logloss: 0.129242\n",
      "[LightGBM] [Warning] No further splits with positive gain, best gain: -inf\n",
      "[2131]#011train's binary_logloss: 0.0343117#011val's binary_logloss: 0.129276\n",
      "[LightGBM] [Warning] No further splits with positive gain, best gain: -inf\n",
      "[2132]#011train's binary_logloss: 0.0342981#011val's binary_logloss: 0.129276\n",
      "[2133]#011train's binary_logloss: 0.0342698#011val's binary_logloss: 0.129196\n",
      "[LightGBM] [Warning] No further splits with positive gain, best gain: -inf\n",
      "[2134]#011train's binary_logloss: 0.0342548#011val's binary_logloss: 0.129212\n",
      "[LightGBM] [Warning] No further splits with positive gain, best gain: -inf\n",
      "[2135]#011train's binary_logloss: 0.034233#011val's binary_logloss: 0.129203\n",
      "[LightGBM] [Warning] No further splits with positive gain, best gain: -inf\n",
      "[2136]#011train's binary_logloss: 0.034195#011val's binary_logloss: 0.129179\n",
      "[LightGBM] [Warning] No further splits with positive gain, best gain: -inf\n",
      "[2137]#011train's binary_logloss: 0.0341688#011val's binary_logloss: 0.129174\n",
      "[LightGBM] [Warning] No further splits with positive gain, best gain: -inf\n",
      "[2138]#011train's binary_logloss: 0.0341381#011val's binary_logloss: 0.12916\n",
      "[LightGBM] [Warning] No further splits with positive gain, best gain: -inf\n",
      "[2139]#011train's binary_logloss: 0.0341055#011val's binary_logloss: 0.129148\n",
      "[LightGBM] [Warning] No further splits with positive gain, best gain: -inf\n",
      "[2140]#011train's binary_logloss: 0.0340784#011val's binary_logloss: 0.129127\n",
      "[2141]#011train's binary_logloss: 0.0340466#011val's binary_logloss: 0.129124\n",
      "[2142]#011train's binary_logloss: 0.0340076#011val's binary_logloss: 0.129107\n",
      "[2143]#011train's binary_logloss: 0.0339781#011val's binary_logloss: 0.129096\n",
      "[LightGBM] [Warning] No further splits with positive gain, best gain: -inf\n",
      "[2144]#011train's binary_logloss: 0.033944#011val's binary_logloss: 0.129043\n",
      "[2145]#011train's binary_logloss: 0.0339099#011val's binary_logloss: 0.129026\n",
      "[LightGBM] [Warning] No further splits with positive gain, best gain: -inf\n",
      "[2146]#011train's binary_logloss: 0.0338939#011val's binary_logloss: 0.129042\n",
      "[2147]#011train's binary_logloss: 0.0338702#011val's binary_logloss: 0.129036\n",
      "[LightGBM] [Warning] No further splits with positive gain, best gain: -inf\n",
      "[2148]#011train's binary_logloss: 0.0338492#011val's binary_logloss: 0.129001\n",
      "[LightGBM] [Warning] No further splits with positive gain, best gain: -inf\n",
      "[2149]#011train's binary_logloss: 0.0338318#011val's binary_logloss: 0.129006\n",
      "[LightGBM] [Warning] No further splits with positive gain, best gain: -inf\n",
      "[2150]#011train's binary_logloss: 0.0338181#011val's binary_logloss: 0.12902\n",
      "[2151]#011train's binary_logloss: 0.0337849#011val's binary_logloss: 0.129015\n",
      "[2152]#011train's binary_logloss: 0.0337463#011val's binary_logloss: 0.129005\n",
      "[2153]#011train's binary_logloss: 0.0337121#011val's binary_logloss: 0.129051\n",
      "[2154]#011train's binary_logloss: 0.0336805#011val's binary_logloss: 0.129034\n",
      "[2155]#011train's binary_logloss: 0.0336419#011val's binary_logloss: 0.129035\n",
      "[LightGBM] [Warning] No further splits with positive gain, best gain: -inf\n",
      "[2156]#011train's binary_logloss: 0.0336134#011val's binary_logloss: 0.129058\n",
      "[2157]#011train's binary_logloss: 0.0335763#011val's binary_logloss: 0.129065\n",
      "[2158]#011train's binary_logloss: 0.0335373#011val's binary_logloss: 0.12904\n",
      "[LightGBM] [Warning] No further splits with positive gain, best gain: -inf\n",
      "[2159]#011train's binary_logloss: 0.0335123#011val's binary_logloss: 0.129067\n",
      "[2160]#011train's binary_logloss: 0.0334644#011val's binary_logloss: 0.12904\n",
      "[LightGBM] [Warning] No further splits with positive gain, best gain: -inf\n",
      "[2161]#011train's binary_logloss: 0.0334485#011val's binary_logloss: 0.129009\n",
      "[LightGBM] [Warning] No further splits with positive gain, best gain: -inf\n",
      "[2162]#011train's binary_logloss: 0.0334145#011val's binary_logloss: 0.128943\n",
      "[2163]#011train's binary_logloss: 0.0333854#011val's binary_logloss: 0.128968\n",
      "[LightGBM] [Warning] No further splits with positive gain, best gain: -inf\n",
      "[2164]#011train's binary_logloss: 0.0333512#011val's binary_logloss: 0.1289\n",
      "[LightGBM] [Warning] No further splits with positive gain, best gain: -inf\n",
      "[2165]#011train's binary_logloss: 0.033328#011val's binary_logloss: 0.128923\n",
      "[2166]#011train's binary_logloss: 0.0333013#011val's binary_logloss: 0.128948\n",
      "[2167]#011train's binary_logloss: 0.0332739#011val's binary_logloss: 0.128963\n",
      "[2168]#011train's binary_logloss: 0.0332499#011val's binary_logloss: 0.128958\n",
      "[2169]#011train's binary_logloss: 0.0332246#011val's binary_logloss: 0.128991\n",
      "[2170]#011train's binary_logloss: 0.0332033#011val's binary_logloss: 0.128995\n",
      "[LightGBM] [Warning] No further splits with positive gain, best gain: -inf\n",
      "[2171]#011train's binary_logloss: 0.0331791#011val's binary_logloss: 0.128944\n",
      "[2172]#011train's binary_logloss: 0.0331479#011val's binary_logloss: 0.128909\n",
      "[2173]#011train's binary_logloss: 0.0331175#011val's binary_logloss: 0.128885\n",
      "[2174]#011train's binary_logloss: 0.0330835#011val's binary_logloss: 0.128825\n",
      "[2175]#011train's binary_logloss: 0.0330502#011val's binary_logloss: 0.128765\n",
      "[2176]#011train's binary_logloss: 0.0330165#011val's binary_logloss: 0.12873\n",
      "[LightGBM] [Warning] No further splits with positive gain, best gain: -inf\n",
      "[2177]#011train's binary_logloss: 0.0329938#011val's binary_logloss: 0.128729\n",
      "[2178]#011train's binary_logloss: 0.0329574#011val's binary_logloss: 0.128687\n",
      "[2179]#011train's binary_logloss: 0.0329218#011val's binary_logloss: 0.128658\n",
      "[LightGBM] [Warning] No further splits with positive gain, best gain: -inf\n",
      "[2180]#011train's binary_logloss: 0.0328944#011val's binary_logloss: 0.128665\n",
      "[LightGBM] [Warning] No further splits with positive gain, best gain: -inf\n",
      "[2181]#011train's binary_logloss: 0.0328741#011val's binary_logloss: 0.128621\n",
      "[2182]#011train's binary_logloss: 0.0328509#011val's binary_logloss: 0.128647\n",
      "[LightGBM] [Warning] No further splits with positive gain, best gain: -inf\n",
      "[2183]#011train's binary_logloss: 0.0328269#011val's binary_logloss: 0.128662\n",
      "[LightGBM] [Warning] No further splits with positive gain, best gain: -inf\n",
      "[2184]#011train's binary_logloss: 0.0328046#011val's binary_logloss: 0.128678\n",
      "[LightGBM] [Warning] No further splits with positive gain, best gain: -inf\n",
      "[2185]#011train's binary_logloss: 0.0327806#011val's binary_logloss: 0.128685\n",
      "[2186]#011train's binary_logloss: 0.0327571#011val's binary_logloss: 0.128664\n",
      "[LightGBM] [Warning] No further splits with positive gain, best gain: -inf\n",
      "[2187]#011train's binary_logloss: 0.0327297#011val's binary_logloss: 0.128661\n",
      "[2188]#011train's binary_logloss: 0.0326977#011val's binary_logloss: 0.128637\n",
      "[2189]#011train's binary_logloss: 0.0326764#011val's binary_logloss: 0.128629\n",
      "[2190]#011train's binary_logloss: 0.0326412#011val's binary_logloss: 0.128594\n",
      "[LightGBM] [Warning] No further splits with positive gain, best gain: -inf\n",
      "[2191]#011train's binary_logloss: 0.0326151#011val's binary_logloss: 0.128562\n",
      "[2192]#011train's binary_logloss: 0.0325902#011val's binary_logloss: 0.128518\n",
      "[2193]#011train's binary_logloss: 0.0325495#011val's binary_logloss: 0.128506\n",
      "[2194]#011train's binary_logloss: 0.0325252#011val's binary_logloss: 0.128454\n",
      "[2195]#011train's binary_logloss: 0.0324769#011val's binary_logloss: 0.128389\n",
      "[2196]#011train's binary_logloss: 0.0324348#011val's binary_logloss: 0.128437\n",
      "[LightGBM] [Warning] No further splits with positive gain, best gain: -inf\n",
      "[2197]#011train's binary_logloss: 0.0324027#011val's binary_logloss: 0.128444\n",
      "[LightGBM] [Warning] No further splits with positive gain, best gain: -inf\n",
      "[2198]#011train's binary_logloss: 0.0323784#011val's binary_logloss: 0.128456\n",
      "[LightGBM] [Warning] No further splits with positive gain, best gain: -inf\n",
      "[2199]#011train's binary_logloss: 0.0323476#011val's binary_logloss: 0.128459\n",
      "[2200]#011train's binary_logloss: 0.0323073#011val's binary_logloss: 0.128513\n",
      "[2201]#011train's binary_logloss: 0.0322793#011val's binary_logloss: 0.128507\n",
      "[2202]#011train's binary_logloss: 0.0322542#011val's binary_logloss: 0.128488\n",
      "[2203]#011train's binary_logloss: 0.0322238#011val's binary_logloss: 0.128512\n",
      "[2204]#011train's binary_logloss: 0.0321902#011val's binary_logloss: 0.12848\n",
      "[2205]#011train's binary_logloss: 0.0321569#011val's binary_logloss: 0.128515\n",
      "[2206]#011train's binary_logloss: 0.0321313#011val's binary_logloss: 0.128486\n",
      "[2207]#011train's binary_logloss: 0.0320916#011val's binary_logloss: 0.128485\n",
      "[2208]#011train's binary_logloss: 0.0320545#011val's binary_logloss: 0.128467\n",
      "[2209]#011train's binary_logloss: 0.0320208#011val's binary_logloss: 0.128424\n",
      "[2210]#011train's binary_logloss: 0.0319918#011val's binary_logloss: 0.128447\n",
      "[2211]#011train's binary_logloss: 0.0319679#011val's binary_logloss: 0.128431\n",
      "[LightGBM] [Warning] No further splits with positive gain, best gain: -inf\n",
      "[2212]#011train's binary_logloss: 0.0319433#011val's binary_logloss: 0.128413\n",
      "[LightGBM] [Warning] No further splits with positive gain, best gain: -inf\n",
      "[2213]#011train's binary_logloss: 0.0319193#011val's binary_logloss: 0.128392\n",
      "[LightGBM] [Warning] No further splits with positive gain, best gain: -inf\n",
      "[2214]#011train's binary_logloss: 0.0319048#011val's binary_logloss: 0.128387\n",
      "[2215]#011train's binary_logloss: 0.0318792#011val's binary_logloss: 0.128331\n",
      "[2216]#011train's binary_logloss: 0.0318495#011val's binary_logloss: 0.128354\n",
      "[2217]#011train's binary_logloss: 0.0318142#011val's binary_logloss: 0.128336\n",
      "[2218]#011train's binary_logloss: 0.0317904#011val's binary_logloss: 0.128326\n",
      "[2219]#011train's binary_logloss: 0.0317625#011val's binary_logloss: 0.128304\n",
      "[LightGBM] [Warning] No further splits with positive gain, best gain: -inf\n",
      "[2220]#011train's binary_logloss: 0.0317458#011val's binary_logloss: 0.128322\n",
      "[2221]#011train's binary_logloss: 0.0317223#011val's binary_logloss: 0.12831\n",
      "[2222]#011train's binary_logloss: 0.031699#011val's binary_logloss: 0.1283\n",
      "[2223]#011train's binary_logloss: 0.0316704#011val's binary_logloss: 0.128312\n",
      "[2224]#011train's binary_logloss: 0.0316336#011val's binary_logloss: 0.128292\n",
      "[2225]#011train's binary_logloss: 0.0315958#011val's binary_logloss: 0.128271\n",
      "[2226]#011train's binary_logloss: 0.0315686#011val's binary_logloss: 0.128287\n",
      "[2227]#011train's binary_logloss: 0.0315394#011val's binary_logloss: 0.128313\n",
      "[2228]#011train's binary_logloss: 0.0315156#011val's binary_logloss: 0.128347\n",
      "[2229]#011train's binary_logloss: 0.0314852#011val's binary_logloss: 0.128354\n",
      "[2230]#011train's binary_logloss: 0.0314608#011val's binary_logloss: 0.128336\n",
      "[LightGBM] [Warning] No further splits with positive gain, best gain: -inf\n",
      "[2231]#011train's binary_logloss: 0.0314432#011val's binary_logloss: 0.128351\n",
      "[LightGBM] [Warning] No further splits with positive gain, best gain: -inf\n",
      "[2232]#011train's binary_logloss: 0.0314248#011val's binary_logloss: 0.12834\n",
      "[LightGBM] [Warning] No further splits with positive gain, best gain: -inf\n",
      "[2233]#011train's binary_logloss: 0.0313889#011val's binary_logloss: 0.128266\n",
      "[2234]#011train's binary_logloss: 0.0313501#011val's binary_logloss: 0.128207\n",
      "[LightGBM] [Warning] No further splits with positive gain, best gain: -inf\n",
      "[2235]#011train's binary_logloss: 0.0313324#011val's binary_logloss: 0.128221\n",
      "[LightGBM] [Warning] No further splits with positive gain, best gain: -inf\n",
      "[2236]#011train's binary_logloss: 0.0313004#011val's binary_logloss: 0.12815\n",
      "[2237]#011train's binary_logloss: 0.0312703#011val's binary_logloss: 0.128142\n",
      "[2238]#011train's binary_logloss: 0.0312336#011val's binary_logloss: 0.128133\n",
      "[2239]#011train's binary_logloss: 0.0312063#011val's binary_logloss: 0.128143\n",
      "[2240]#011train's binary_logloss: 0.0311795#011val's binary_logloss: 0.128113\n",
      "[LightGBM] [Warning] No further splits with positive gain, best gain: -inf\n",
      "[2241]#011train's binary_logloss: 0.0311688#011val's binary_logloss: 0.12811\n",
      "[LightGBM] [Warning] No further splits with positive gain, best gain: -inf\n",
      "[2242]#011train's binary_logloss: 0.0311568#011val's binary_logloss: 0.128103\n",
      "[LightGBM] [Warning] No further splits with positive gain, best gain: -inf\n",
      "[2243]#011train's binary_logloss: 0.0311467#011val's binary_logloss: 0.128087\n",
      "[LightGBM] [Warning] No further splits with positive gain, best gain: -inf\n",
      "[2244]#011train's binary_logloss: 0.0311351#011val's binary_logloss: 0.128061\n",
      "[LightGBM] [Warning] No further splits with positive gain, best gain: -inf\n",
      "[2245]#011train's binary_logloss: 0.0311115#011val's binary_logloss: 0.128036\n",
      "[LightGBM] [Warning] No further splits with positive gain, best gain: -inf\n",
      "[2246]#011train's binary_logloss: 0.0310863#011val's binary_logloss: 0.128004\n",
      "[2247]#011train's binary_logloss: 0.0310695#011val's binary_logloss: 0.128022\n",
      "[LightGBM] [Warning] No further splits with positive gain, best gain: -inf\n",
      "[2248]#011train's binary_logloss: 0.0310569#011val's binary_logloss: 0.128041\n",
      "[2249]#011train's binary_logloss: 0.0310395#011val's binary_logloss: 0.128092\n",
      "[LightGBM] [Warning] No further splits with positive gain, best gain: -inf\n",
      "[2250]#011train's binary_logloss: 0.0310165#011val's binary_logloss: 0.128071\n",
      "[2251]#011train's binary_logloss: 0.0309822#011val's binary_logloss: 0.128109\n",
      "[2252]#011train's binary_logloss: 0.0309569#011val's binary_logloss: 0.128085\n",
      "[2253]#011train's binary_logloss: 0.0309131#011val's binary_logloss: 0.128053\n",
      "[2254]#011train's binary_logloss: 0.0308859#011val's binary_logloss: 0.12806\n",
      "[2255]#011train's binary_logloss: 0.0308626#011val's binary_logloss: 0.128081\n",
      "[2256]#011train's binary_logloss: 0.0308273#011val's binary_logloss: 0.128131\n",
      "[2257]#011train's binary_logloss: 0.0307925#011val's binary_logloss: 0.128172\n",
      "[2258]#011train's binary_logloss: 0.0307584#011val's binary_logloss: 0.128218\n",
      "[2259]#011train's binary_logloss: 0.0307225#011val's binary_logloss: 0.128237\n",
      "[2260]#011train's binary_logloss: 0.0306934#011val's binary_logloss: 0.128237\n",
      "[LightGBM] [Warning] No further splits with positive gain, best gain: -inf\n",
      "[2261]#011train's binary_logloss: 0.0306725#011val's binary_logloss: 0.128231\n",
      "[LightGBM] [Warning] No further splits with positive gain, best gain: -inf\n",
      "[2262]#011train's binary_logloss: 0.030658#011val's binary_logloss: 0.128214\n",
      "[2263]#011train's binary_logloss: 0.0306331#011val's binary_logloss: 0.128189\n",
      "[LightGBM] [Warning] No further splits with positive gain, best gain: -inf\n",
      "[2264]#011train's binary_logloss: 0.0306118#011val's binary_logloss: 0.128168\n",
      "[2265]#011train's binary_logloss: 0.03058#011val's binary_logloss: 0.128151\n",
      "[2266]#011train's binary_logloss: 0.0305476#011val's binary_logloss: 0.128108\n",
      "[2267]#011train's binary_logloss: 0.0305084#011val's binary_logloss: 0.128054\n",
      "[2268]#011train's binary_logloss: 0.0304736#011val's binary_logloss: 0.127985\n",
      "[2269]#011train's binary_logloss: 0.0304441#011val's binary_logloss: 0.127978\n",
      "[2270]#011train's binary_logloss: 0.0304086#011val's binary_logloss: 0.127926\n",
      "[2271]#011train's binary_logloss: 0.0303715#011val's binary_logloss: 0.127908\n",
      "[2272]#011train's binary_logloss: 0.0303552#011val's binary_logloss: 0.127904\n",
      "[2273]#011train's binary_logloss: 0.0303272#011val's binary_logloss: 0.127887\n",
      "[2274]#011train's binary_logloss: 0.0302971#011val's binary_logloss: 0.127807\n",
      "[2275]#011train's binary_logloss: 0.0302668#011val's binary_logloss: 0.127738\n",
      "[LightGBM] [Warning] No further splits with positive gain, best gain: -inf\n",
      "[2276]#011train's binary_logloss: 0.0302485#011val's binary_logloss: 0.127762\n",
      "[LightGBM] [Warning] No further splits with positive gain, best gain: -inf\n",
      "[2277]#011train's binary_logloss: 0.0302291#011val's binary_logloss: 0.127793\n",
      "[2278]#011train's binary_logloss: 0.0302043#011val's binary_logloss: 0.127739\n",
      "[LightGBM] [Warning] No further splits with positive gain, best gain: -inf\n",
      "[2279]#011train's binary_logloss: 0.0301844#011val's binary_logloss: 0.127759\n",
      "[2280]#011train's binary_logloss: 0.0301511#011val's binary_logloss: 0.127765\n",
      "[LightGBM] [Warning] No further splits with positive gain, best gain: -inf\n",
      "[2281]#011train's binary_logloss: 0.0301238#011val's binary_logloss: 0.127774\n",
      "[2282]#011train's binary_logloss: 0.0301036#011val's binary_logloss: 0.127775\n",
      "[LightGBM] [Warning] No further splits with positive gain, best gain: -inf\n",
      "[2283]#011train's binary_logloss: 0.03008#011val's binary_logloss: 0.127773\n",
      "[LightGBM] [Warning] No further splits with positive gain, best gain: -inf\n",
      "[2284]#011train's binary_logloss: 0.0300608#011val's binary_logloss: 0.127807\n",
      "[2285]#011train's binary_logloss: 0.0300372#011val's binary_logloss: 0.127822\n",
      "[2286]#011train's binary_logloss: 0.03001#011val's binary_logloss: 0.127841\n",
      "[2287]#011train's binary_logloss: 0.0299852#011val's binary_logloss: 0.127843\n",
      "[2288]#011train's binary_logloss: 0.0299584#011val's binary_logloss: 0.127842\n",
      "[2289]#011train's binary_logloss: 0.029935#011val's binary_logloss: 0.127838\n",
      "[2290]#011train's binary_logloss: 0.0299086#011val's binary_logloss: 0.127835\n",
      "[2291]#011train's binary_logloss: 0.0298676#011val's binary_logloss: 0.127801\n",
      "[2292]#011train's binary_logloss: 0.0298341#011val's binary_logloss: 0.127777\n",
      "[2293]#011train's binary_logloss: 0.029807#011val's binary_logloss: 0.12771\n",
      "[LightGBM] [Warning] No further splits with positive gain, best gain: -inf\n",
      "[2294]#011train's binary_logloss: 0.0297966#011val's binary_logloss: 0.127704\n",
      "[2295]#011train's binary_logloss: 0.0297676#011val's binary_logloss: 0.127687\n",
      "[LightGBM] [Warning] No further splits with positive gain, best gain: -inf\n",
      "[2296]#011train's binary_logloss: 0.0297514#011val's binary_logloss: 0.127698\n",
      "[LightGBM] [Warning] No further splits with positive gain, best gain: -inf\n",
      "[2297]#011train's binary_logloss: 0.0297334#011val's binary_logloss: 0.127703\n",
      "[2298]#011train's binary_logloss: 0.0297118#011val's binary_logloss: 0.127719\n",
      "[LightGBM] [Warning] No further splits with positive gain, best gain: -inf\n",
      "[2299]#011train's binary_logloss: 0.0296942#011val's binary_logloss: 0.127713\n",
      "[2300]#011train's binary_logloss: 0.0296714#011val's binary_logloss: 0.127746\n",
      "[2301]#011train's binary_logloss: 0.0296408#011val's binary_logloss: 0.127759\n",
      "[2302]#011train's binary_logloss: 0.0296058#011val's binary_logloss: 0.12776\n",
      "[2303]#011train's binary_logloss: 0.0295787#011val's binary_logloss: 0.127736\n",
      "[2304]#011train's binary_logloss: 0.0295528#011val's binary_logloss: 0.127733\n",
      "[2305]#011train's binary_logloss: 0.0295246#011val's binary_logloss: 0.127691\n",
      "[2306]#011train's binary_logloss: 0.0294879#011val's binary_logloss: 0.127651\n",
      "[2307]#011train's binary_logloss: 0.029469#011val's binary_logloss: 0.127688\n",
      "[2308]#011train's binary_logloss: 0.0294409#011val's binary_logloss: 0.127728\n",
      "[LightGBM] [Warning] No further splits with positive gain, best gain: -inf\n",
      "[2309]#011train's binary_logloss: 0.0294296#011val's binary_logloss: 0.127729\n",
      "[LightGBM] [Warning] No further splits with positive gain, best gain: -inf\n",
      "[2310]#011train's binary_logloss: 0.0294127#011val's binary_logloss: 0.127756\n",
      "[2311]#011train's binary_logloss: 0.0293859#011val's binary_logloss: 0.127758\n",
      "[LightGBM] [Warning] No further splits with positive gain, best gain: -inf\n",
      "[2312]#011train's binary_logloss: 0.0293766#011val's binary_logloss: 0.127785\n",
      "[2313]#011train's binary_logloss: 0.0293524#011val's binary_logloss: 0.127815\n",
      "[2314]#011train's binary_logloss: 0.0293184#011val's binary_logloss: 0.127791\n",
      "[2315]#011train's binary_logloss: 0.0292947#011val's binary_logloss: 0.127807\n",
      "[2316]#011train's binary_logloss: 0.0292563#011val's binary_logloss: 0.127852\n",
      "[2317]#011train's binary_logloss: 0.0292243#011val's binary_logloss: 0.127862\n",
      "[2318]#011train's binary_logloss: 0.0291995#011val's binary_logloss: 0.127862\n",
      "[2319]#011train's binary_logloss: 0.0291663#011val's binary_logloss: 0.127839\n",
      "[2320]#011train's binary_logloss: 0.0291367#011val's binary_logloss: 0.127858\n",
      "[2321]#011train's binary_logloss: 0.0291098#011val's binary_logloss: 0.127855\n",
      "[2322]#011train's binary_logloss: 0.0290792#011val's binary_logloss: 0.127881\n",
      "[2323]#011train's binary_logloss: 0.0290534#011val's binary_logloss: 0.127882\n",
      "[2324]#011train's binary_logloss: 0.0290318#011val's binary_logloss: 0.127854\n",
      "[2325]#011train's binary_logloss: 0.0290105#011val's binary_logloss: 0.127829\n",
      "[2326]#011train's binary_logloss: 0.0289868#011val's binary_logloss: 0.127835\n",
      "[2327]#011train's binary_logloss: 0.0289629#011val's binary_logloss: 0.127828\n",
      "[2328]#011train's binary_logloss: 0.0289385#011val's binary_logloss: 0.127848\n",
      "[LightGBM] [Warning] No further splits with positive gain, best gain: -inf\n",
      "[2329]#011train's binary_logloss: 0.0289188#011val's binary_logloss: 0.12785\n",
      "[2330]#011train's binary_logloss: 0.0288981#011val's binary_logloss: 0.127893\n",
      "[2331]#011train's binary_logloss: 0.0288752#011val's binary_logloss: 0.127916\n",
      "[2332]#011train's binary_logloss: 0.0288483#011val's binary_logloss: 0.127892\n",
      "[LightGBM] [Warning] No further splits with positive gain, best gain: -inf\n",
      "[2333]#011train's binary_logloss: 0.0288298#011val's binary_logloss: 0.127887\n",
      "[LightGBM] [Warning] No further splits with positive gain, best gain: -inf\n",
      "[2334]#011train's binary_logloss: 0.0288103#011val's binary_logloss: 0.127905\n",
      "[2335]#011train's binary_logloss: 0.0287876#011val's binary_logloss: 0.127895\n",
      "[2336]#011train's binary_logloss: 0.0287686#011val's binary_logloss: 0.127919\n",
      "Early stopping, best iteration is:\n",
      "[2306]#011train's binary_logloss: 0.0294879#011val's binary_logloss: 0.127651\n",
      "INFO:root:Saving model...\n",
      "INFO:root:Info file not found at '_input_model_extracted/__models_info__.json'.\n",
      "2024-08-10 02:28:57,827 sagemaker-training-toolkit INFO     Reporting training SUCCESS\n",
      "\n",
      "2024-08-10 02:29:16 Uploading - Uploading generated training model\n",
      "2024-08-10 02:29:16 Completed - Training job completed\n"
     ]
    },
    {
     "name": "stderr",
     "output_type": "stream",
     "text": [
      "INFO:sagemaker:Repacking model artifact (s3://dante-sagemaker/stroke-prediction/output/stroke-prediction-lightgbm-training-2024-08-10-02-26-44-834/output/model.tar.gz), script artifact (s3://jumpstart-cache-prod-ap-northeast-2/source-directory-tarballs/lightgbm/inference/classification/v1.2.2/sourcedir.tar.gz), and dependencies ([]) into single tar.gz file located at s3://sagemaker-ap-northeast-2-905418381372/sagemaker-jumpstart-2024-08-10-02-29-28-015/model.tar.gz. This may take some time depending on model size...\n"
     ]
    },
    {
     "name": "stdout",
     "output_type": "stream",
     "text": [
      "Training seconds: 114\n",
      "Billable seconds: 22\n",
      "Managed Spot Training savings: 80.7%\n"
     ]
    },
    {
     "name": "stderr",
     "output_type": "stream",
     "text": [
      "INFO:sagemaker:Creating model with name: sagemaker-jumpstart-2024-08-10-02-29-28-015\n",
      "INFO:sagemaker:Creating endpoint-config with name stroke-prediction-lightgbm-inference-2024-08-10-02-29-28-015\n",
      "INFO:sagemaker:Creating endpoint with name stroke-prediction-lightgbm-inference-2024-08-10-02-29-28-015\n"
     ]
    },
    {
     "name": "stdout",
     "output_type": "stream",
     "text": [
      "-------!"
     ]
    },
    {
     "data": {
      "application/vnd.plotly.v1+json": {
       "config": {
        "plotlyServerURL": "https://plot.ly"
       },
       "data": [
        {
         "colorscale": [
          [
           0,
           "rgb(247,251,255)"
          ],
          [
           0.125,
           "rgb(222,235,247)"
          ],
          [
           0.25,
           "rgb(198,219,239)"
          ],
          [
           0.375,
           "rgb(158,202,225)"
          ],
          [
           0.5,
           "rgb(107,174,214)"
          ],
          [
           0.625,
           "rgb(66,146,198)"
          ],
          [
           0.75,
           "rgb(33,113,181)"
          ],
          [
           0.875,
           "rgb(8,81,156)"
          ],
          [
           1,
           "rgb(8,48,107)"
          ]
         ],
         "showscale": false,
         "type": "heatmap",
         "x": [
          "예측: 0",
          "예측: 1"
         ],
         "y": [
          "실제: 0",
          "실제: 1"
         ],
         "z": [
          [
           446,
           32
          ],
          [
           22,
           447
          ]
         ]
        }
       ],
       "layout": {
        "annotations": [
         {
          "font": {
           "color": "white",
           "size": 20
          },
          "showarrow": false,
          "text": "446",
          "x": 0,
          "y": 0
         },
         {
          "font": {
           "color": "black",
           "size": 20
          },
          "showarrow": false,
          "text": "32",
          "x": 1,
          "y": 0
         },
         {
          "font": {
           "color": "black",
           "size": 20
          },
          "showarrow": false,
          "text": "22",
          "x": 0,
          "y": 1
         },
         {
          "font": {
           "color": "white",
           "size": 20
          },
          "showarrow": false,
          "text": "447",
          "x": 1,
          "y": 1
         }
        ],
        "height": 600,
        "template": {
         "data": {
          "bar": [
           {
            "error_x": {
             "color": "#2a3f5f"
            },
            "error_y": {
             "color": "#2a3f5f"
            },
            "marker": {
             "line": {
              "color": "#E5ECF6",
              "width": 0.5
             },
             "pattern": {
              "fillmode": "overlay",
              "size": 10,
              "solidity": 0.2
             }
            },
            "type": "bar"
           }
          ],
          "barpolar": [
           {
            "marker": {
             "line": {
              "color": "#E5ECF6",
              "width": 0.5
             },
             "pattern": {
              "fillmode": "overlay",
              "size": 10,
              "solidity": 0.2
             }
            },
            "type": "barpolar"
           }
          ],
          "carpet": [
           {
            "aaxis": {
             "endlinecolor": "#2a3f5f",
             "gridcolor": "white",
             "linecolor": "white",
             "minorgridcolor": "white",
             "startlinecolor": "#2a3f5f"
            },
            "baxis": {
             "endlinecolor": "#2a3f5f",
             "gridcolor": "white",
             "linecolor": "white",
             "minorgridcolor": "white",
             "startlinecolor": "#2a3f5f"
            },
            "type": "carpet"
           }
          ],
          "choropleth": [
           {
            "colorbar": {
             "outlinewidth": 0,
             "ticks": ""
            },
            "type": "choropleth"
           }
          ],
          "contour": [
           {
            "colorbar": {
             "outlinewidth": 0,
             "ticks": ""
            },
            "colorscale": [
             [
              0,
              "#0d0887"
             ],
             [
              0.1111111111111111,
              "#46039f"
             ],
             [
              0.2222222222222222,
              "#7201a8"
             ],
             [
              0.3333333333333333,
              "#9c179e"
             ],
             [
              0.4444444444444444,
              "#bd3786"
             ],
             [
              0.5555555555555556,
              "#d8576b"
             ],
             [
              0.6666666666666666,
              "#ed7953"
             ],
             [
              0.7777777777777778,
              "#fb9f3a"
             ],
             [
              0.8888888888888888,
              "#fdca26"
             ],
             [
              1,
              "#f0f921"
             ]
            ],
            "type": "contour"
           }
          ],
          "contourcarpet": [
           {
            "colorbar": {
             "outlinewidth": 0,
             "ticks": ""
            },
            "type": "contourcarpet"
           }
          ],
          "heatmap": [
           {
            "colorbar": {
             "outlinewidth": 0,
             "ticks": ""
            },
            "colorscale": [
             [
              0,
              "#0d0887"
             ],
             [
              0.1111111111111111,
              "#46039f"
             ],
             [
              0.2222222222222222,
              "#7201a8"
             ],
             [
              0.3333333333333333,
              "#9c179e"
             ],
             [
              0.4444444444444444,
              "#bd3786"
             ],
             [
              0.5555555555555556,
              "#d8576b"
             ],
             [
              0.6666666666666666,
              "#ed7953"
             ],
             [
              0.7777777777777778,
              "#fb9f3a"
             ],
             [
              0.8888888888888888,
              "#fdca26"
             ],
             [
              1,
              "#f0f921"
             ]
            ],
            "type": "heatmap"
           }
          ],
          "heatmapgl": [
           {
            "colorbar": {
             "outlinewidth": 0,
             "ticks": ""
            },
            "colorscale": [
             [
              0,
              "#0d0887"
             ],
             [
              0.1111111111111111,
              "#46039f"
             ],
             [
              0.2222222222222222,
              "#7201a8"
             ],
             [
              0.3333333333333333,
              "#9c179e"
             ],
             [
              0.4444444444444444,
              "#bd3786"
             ],
             [
              0.5555555555555556,
              "#d8576b"
             ],
             [
              0.6666666666666666,
              "#ed7953"
             ],
             [
              0.7777777777777778,
              "#fb9f3a"
             ],
             [
              0.8888888888888888,
              "#fdca26"
             ],
             [
              1,
              "#f0f921"
             ]
            ],
            "type": "heatmapgl"
           }
          ],
          "histogram": [
           {
            "marker": {
             "pattern": {
              "fillmode": "overlay",
              "size": 10,
              "solidity": 0.2
             }
            },
            "type": "histogram"
           }
          ],
          "histogram2d": [
           {
            "colorbar": {
             "outlinewidth": 0,
             "ticks": ""
            },
            "colorscale": [
             [
              0,
              "#0d0887"
             ],
             [
              0.1111111111111111,
              "#46039f"
             ],
             [
              0.2222222222222222,
              "#7201a8"
             ],
             [
              0.3333333333333333,
              "#9c179e"
             ],
             [
              0.4444444444444444,
              "#bd3786"
             ],
             [
              0.5555555555555556,
              "#d8576b"
             ],
             [
              0.6666666666666666,
              "#ed7953"
             ],
             [
              0.7777777777777778,
              "#fb9f3a"
             ],
             [
              0.8888888888888888,
              "#fdca26"
             ],
             [
              1,
              "#f0f921"
             ]
            ],
            "type": "histogram2d"
           }
          ],
          "histogram2dcontour": [
           {
            "colorbar": {
             "outlinewidth": 0,
             "ticks": ""
            },
            "colorscale": [
             [
              0,
              "#0d0887"
             ],
             [
              0.1111111111111111,
              "#46039f"
             ],
             [
              0.2222222222222222,
              "#7201a8"
             ],
             [
              0.3333333333333333,
              "#9c179e"
             ],
             [
              0.4444444444444444,
              "#bd3786"
             ],
             [
              0.5555555555555556,
              "#d8576b"
             ],
             [
              0.6666666666666666,
              "#ed7953"
             ],
             [
              0.7777777777777778,
              "#fb9f3a"
             ],
             [
              0.8888888888888888,
              "#fdca26"
             ],
             [
              1,
              "#f0f921"
             ]
            ],
            "type": "histogram2dcontour"
           }
          ],
          "mesh3d": [
           {
            "colorbar": {
             "outlinewidth": 0,
             "ticks": ""
            },
            "type": "mesh3d"
           }
          ],
          "parcoords": [
           {
            "line": {
             "colorbar": {
              "outlinewidth": 0,
              "ticks": ""
             }
            },
            "type": "parcoords"
           }
          ],
          "pie": [
           {
            "automargin": true,
            "type": "pie"
           }
          ],
          "scatter": [
           {
            "fillpattern": {
             "fillmode": "overlay",
             "size": 10,
             "solidity": 0.2
            },
            "type": "scatter"
           }
          ],
          "scatter3d": [
           {
            "line": {
             "colorbar": {
              "outlinewidth": 0,
              "ticks": ""
             }
            },
            "marker": {
             "colorbar": {
              "outlinewidth": 0,
              "ticks": ""
             }
            },
            "type": "scatter3d"
           }
          ],
          "scattercarpet": [
           {
            "marker": {
             "colorbar": {
              "outlinewidth": 0,
              "ticks": ""
             }
            },
            "type": "scattercarpet"
           }
          ],
          "scattergeo": [
           {
            "marker": {
             "colorbar": {
              "outlinewidth": 0,
              "ticks": ""
             }
            },
            "type": "scattergeo"
           }
          ],
          "scattergl": [
           {
            "marker": {
             "colorbar": {
              "outlinewidth": 0,
              "ticks": ""
             }
            },
            "type": "scattergl"
           }
          ],
          "scattermapbox": [
           {
            "marker": {
             "colorbar": {
              "outlinewidth": 0,
              "ticks": ""
             }
            },
            "type": "scattermapbox"
           }
          ],
          "scatterpolar": [
           {
            "marker": {
             "colorbar": {
              "outlinewidth": 0,
              "ticks": ""
             }
            },
            "type": "scatterpolar"
           }
          ],
          "scatterpolargl": [
           {
            "marker": {
             "colorbar": {
              "outlinewidth": 0,
              "ticks": ""
             }
            },
            "type": "scatterpolargl"
           }
          ],
          "scatterternary": [
           {
            "marker": {
             "colorbar": {
              "outlinewidth": 0,
              "ticks": ""
             }
            },
            "type": "scatterternary"
           }
          ],
          "surface": [
           {
            "colorbar": {
             "outlinewidth": 0,
             "ticks": ""
            },
            "colorscale": [
             [
              0,
              "#0d0887"
             ],
             [
              0.1111111111111111,
              "#46039f"
             ],
             [
              0.2222222222222222,
              "#7201a8"
             ],
             [
              0.3333333333333333,
              "#9c179e"
             ],
             [
              0.4444444444444444,
              "#bd3786"
             ],
             [
              0.5555555555555556,
              "#d8576b"
             ],
             [
              0.6666666666666666,
              "#ed7953"
             ],
             [
              0.7777777777777778,
              "#fb9f3a"
             ],
             [
              0.8888888888888888,
              "#fdca26"
             ],
             [
              1,
              "#f0f921"
             ]
            ],
            "type": "surface"
           }
          ],
          "table": [
           {
            "cells": {
             "fill": {
              "color": "#EBF0F8"
             },
             "line": {
              "color": "white"
             }
            },
            "header": {
             "fill": {
              "color": "#C8D4E3"
             },
             "line": {
              "color": "white"
             }
            },
            "type": "table"
           }
          ]
         },
         "layout": {
          "annotationdefaults": {
           "arrowcolor": "#2a3f5f",
           "arrowhead": 0,
           "arrowwidth": 1
          },
          "autotypenumbers": "strict",
          "coloraxis": {
           "colorbar": {
            "outlinewidth": 0,
            "ticks": ""
           }
          },
          "colorscale": {
           "diverging": [
            [
             0,
             "#8e0152"
            ],
            [
             0.1,
             "#c51b7d"
            ],
            [
             0.2,
             "#de77ae"
            ],
            [
             0.3,
             "#f1b6da"
            ],
            [
             0.4,
             "#fde0ef"
            ],
            [
             0.5,
             "#f7f7f7"
            ],
            [
             0.6,
             "#e6f5d0"
            ],
            [
             0.7,
             "#b8e186"
            ],
            [
             0.8,
             "#7fbc41"
            ],
            [
             0.9,
             "#4d9221"
            ],
            [
             1,
             "#276419"
            ]
           ],
           "sequential": [
            [
             0,
             "#0d0887"
            ],
            [
             0.1111111111111111,
             "#46039f"
            ],
            [
             0.2222222222222222,
             "#7201a8"
            ],
            [
             0.3333333333333333,
             "#9c179e"
            ],
            [
             0.4444444444444444,
             "#bd3786"
            ],
            [
             0.5555555555555556,
             "#d8576b"
            ],
            [
             0.6666666666666666,
             "#ed7953"
            ],
            [
             0.7777777777777778,
             "#fb9f3a"
            ],
            [
             0.8888888888888888,
             "#fdca26"
            ],
            [
             1,
             "#f0f921"
            ]
           ],
           "sequentialminus": [
            [
             0,
             "#0d0887"
            ],
            [
             0.1111111111111111,
             "#46039f"
            ],
            [
             0.2222222222222222,
             "#7201a8"
            ],
            [
             0.3333333333333333,
             "#9c179e"
            ],
            [
             0.4444444444444444,
             "#bd3786"
            ],
            [
             0.5555555555555556,
             "#d8576b"
            ],
            [
             0.6666666666666666,
             "#ed7953"
            ],
            [
             0.7777777777777778,
             "#fb9f3a"
            ],
            [
             0.8888888888888888,
             "#fdca26"
            ],
            [
             1,
             "#f0f921"
            ]
           ]
          },
          "colorway": [
           "#636efa",
           "#EF553B",
           "#00cc96",
           "#ab63fa",
           "#FFA15A",
           "#19d3f3",
           "#FF6692",
           "#B6E880",
           "#FF97FF",
           "#FECB52"
          ],
          "font": {
           "color": "#2a3f5f"
          },
          "geo": {
           "bgcolor": "white",
           "lakecolor": "white",
           "landcolor": "#E5ECF6",
           "showlakes": true,
           "showland": true,
           "subunitcolor": "white"
          },
          "hoverlabel": {
           "align": "left"
          },
          "hovermode": "closest",
          "mapbox": {
           "style": "light"
          },
          "paper_bgcolor": "white",
          "plot_bgcolor": "#E5ECF6",
          "polar": {
           "angularaxis": {
            "gridcolor": "white",
            "linecolor": "white",
            "ticks": ""
           },
           "bgcolor": "#E5ECF6",
           "radialaxis": {
            "gridcolor": "white",
            "linecolor": "white",
            "ticks": ""
           }
          },
          "scene": {
           "xaxis": {
            "backgroundcolor": "#E5ECF6",
            "gridcolor": "white",
            "gridwidth": 2,
            "linecolor": "white",
            "showbackground": true,
            "ticks": "",
            "zerolinecolor": "white"
           },
           "yaxis": {
            "backgroundcolor": "#E5ECF6",
            "gridcolor": "white",
            "gridwidth": 2,
            "linecolor": "white",
            "showbackground": true,
            "ticks": "",
            "zerolinecolor": "white"
           },
           "zaxis": {
            "backgroundcolor": "#E5ECF6",
            "gridcolor": "white",
            "gridwidth": 2,
            "linecolor": "white",
            "showbackground": true,
            "ticks": "",
            "zerolinecolor": "white"
           }
          },
          "shapedefaults": {
           "line": {
            "color": "#2a3f5f"
           }
          },
          "ternary": {
           "aaxis": {
            "gridcolor": "white",
            "linecolor": "white",
            "ticks": ""
           },
           "baxis": {
            "gridcolor": "white",
            "linecolor": "white",
            "ticks": ""
           },
           "bgcolor": "#E5ECF6",
           "caxis": {
            "gridcolor": "white",
            "linecolor": "white",
            "ticks": ""
           }
          },
          "title": {
           "x": 0.05
          },
          "xaxis": {
           "automargin": true,
           "gridcolor": "white",
           "linecolor": "white",
           "ticks": "",
           "title": {
            "standoff": 15
           },
           "zerolinecolor": "white",
           "zerolinewidth": 2
          },
          "yaxis": {
           "automargin": true,
           "gridcolor": "white",
           "linecolor": "white",
           "ticks": "",
           "title": {
            "standoff": 15
           },
           "zerolinecolor": "white",
           "zerolinewidth": 2
          }
         }
        },
        "title": {
         "text": "혼동 행렬"
        },
        "width": 600,
        "xaxis": {
         "title": {
          "text": "예측"
         }
        },
        "yaxis": {
         "title": {
          "text": "실제"
         }
        }
       }
      },
      "text/html": [
       "<div>                            <div id=\"34bf1e33-d943-41b6-8618-7f8a35ecef76\" class=\"plotly-graph-div\" style=\"height:600px; width:600px;\"></div>            <script type=\"text/javascript\">                require([\"plotly\"], function(Plotly) {                    window.PLOTLYENV=window.PLOTLYENV || {};                                    if (document.getElementById(\"34bf1e33-d943-41b6-8618-7f8a35ecef76\")) {                    Plotly.newPlot(                        \"34bf1e33-d943-41b6-8618-7f8a35ecef76\",                        [{\"colorscale\":[[0.0,\"rgb(247,251,255)\"],[0.125,\"rgb(222,235,247)\"],[0.25,\"rgb(198,219,239)\"],[0.375,\"rgb(158,202,225)\"],[0.5,\"rgb(107,174,214)\"],[0.625,\"rgb(66,146,198)\"],[0.75,\"rgb(33,113,181)\"],[0.875,\"rgb(8,81,156)\"],[1.0,\"rgb(8,48,107)\"]],\"showscale\":false,\"x\":[\"\\uc608\\uce21: 0\",\"\\uc608\\uce21: 1\"],\"y\":[\"\\uc2e4\\uc81c: 0\",\"\\uc2e4\\uc81c: 1\"],\"z\":[[446,32],[22,447]],\"type\":\"heatmap\"}],                        {\"template\":{\"data\":{\"histogram2dcontour\":[{\"type\":\"histogram2dcontour\",\"colorbar\":{\"outlinewidth\":0,\"ticks\":\"\"},\"colorscale\":[[0.0,\"#0d0887\"],[0.1111111111111111,\"#46039f\"],[0.2222222222222222,\"#7201a8\"],[0.3333333333333333,\"#9c179e\"],[0.4444444444444444,\"#bd3786\"],[0.5555555555555556,\"#d8576b\"],[0.6666666666666666,\"#ed7953\"],[0.7777777777777778,\"#fb9f3a\"],[0.8888888888888888,\"#fdca26\"],[1.0,\"#f0f921\"]]}],\"choropleth\":[{\"type\":\"choropleth\",\"colorbar\":{\"outlinewidth\":0,\"ticks\":\"\"}}],\"histogram2d\":[{\"type\":\"histogram2d\",\"colorbar\":{\"outlinewidth\":0,\"ticks\":\"\"},\"colorscale\":[[0.0,\"#0d0887\"],[0.1111111111111111,\"#46039f\"],[0.2222222222222222,\"#7201a8\"],[0.3333333333333333,\"#9c179e\"],[0.4444444444444444,\"#bd3786\"],[0.5555555555555556,\"#d8576b\"],[0.6666666666666666,\"#ed7953\"],[0.7777777777777778,\"#fb9f3a\"],[0.8888888888888888,\"#fdca26\"],[1.0,\"#f0f921\"]]}],\"heatmap\":[{\"type\":\"heatmap\",\"colorbar\":{\"outlinewidth\":0,\"ticks\":\"\"},\"colorscale\":[[0.0,\"#0d0887\"],[0.1111111111111111,\"#46039f\"],[0.2222222222222222,\"#7201a8\"],[0.3333333333333333,\"#9c179e\"],[0.4444444444444444,\"#bd3786\"],[0.5555555555555556,\"#d8576b\"],[0.6666666666666666,\"#ed7953\"],[0.7777777777777778,\"#fb9f3a\"],[0.8888888888888888,\"#fdca26\"],[1.0,\"#f0f921\"]]}],\"heatmapgl\":[{\"type\":\"heatmapgl\",\"colorbar\":{\"outlinewidth\":0,\"ticks\":\"\"},\"colorscale\":[[0.0,\"#0d0887\"],[0.1111111111111111,\"#46039f\"],[0.2222222222222222,\"#7201a8\"],[0.3333333333333333,\"#9c179e\"],[0.4444444444444444,\"#bd3786\"],[0.5555555555555556,\"#d8576b\"],[0.6666666666666666,\"#ed7953\"],[0.7777777777777778,\"#fb9f3a\"],[0.8888888888888888,\"#fdca26\"],[1.0,\"#f0f921\"]]}],\"contourcarpet\":[{\"type\":\"contourcarpet\",\"colorbar\":{\"outlinewidth\":0,\"ticks\":\"\"}}],\"contour\":[{\"type\":\"contour\",\"colorbar\":{\"outlinewidth\":0,\"ticks\":\"\"},\"colorscale\":[[0.0,\"#0d0887\"],[0.1111111111111111,\"#46039f\"],[0.2222222222222222,\"#7201a8\"],[0.3333333333333333,\"#9c179e\"],[0.4444444444444444,\"#bd3786\"],[0.5555555555555556,\"#d8576b\"],[0.6666666666666666,\"#ed7953\"],[0.7777777777777778,\"#fb9f3a\"],[0.8888888888888888,\"#fdca26\"],[1.0,\"#f0f921\"]]}],\"surface\":[{\"type\":\"surface\",\"colorbar\":{\"outlinewidth\":0,\"ticks\":\"\"},\"colorscale\":[[0.0,\"#0d0887\"],[0.1111111111111111,\"#46039f\"],[0.2222222222222222,\"#7201a8\"],[0.3333333333333333,\"#9c179e\"],[0.4444444444444444,\"#bd3786\"],[0.5555555555555556,\"#d8576b\"],[0.6666666666666666,\"#ed7953\"],[0.7777777777777778,\"#fb9f3a\"],[0.8888888888888888,\"#fdca26\"],[1.0,\"#f0f921\"]]}],\"mesh3d\":[{\"type\":\"mesh3d\",\"colorbar\":{\"outlinewidth\":0,\"ticks\":\"\"}}],\"scatter\":[{\"fillpattern\":{\"fillmode\":\"overlay\",\"size\":10,\"solidity\":0.2},\"type\":\"scatter\"}],\"parcoords\":[{\"type\":\"parcoords\",\"line\":{\"colorbar\":{\"outlinewidth\":0,\"ticks\":\"\"}}}],\"scatterpolargl\":[{\"type\":\"scatterpolargl\",\"marker\":{\"colorbar\":{\"outlinewidth\":0,\"ticks\":\"\"}}}],\"bar\":[{\"error_x\":{\"color\":\"#2a3f5f\"},\"error_y\":{\"color\":\"#2a3f5f\"},\"marker\":{\"line\":{\"color\":\"#E5ECF6\",\"width\":0.5},\"pattern\":{\"fillmode\":\"overlay\",\"size\":10,\"solidity\":0.2}},\"type\":\"bar\"}],\"scattergeo\":[{\"type\":\"scattergeo\",\"marker\":{\"colorbar\":{\"outlinewidth\":0,\"ticks\":\"\"}}}],\"scatterpolar\":[{\"type\":\"scatterpolar\",\"marker\":{\"colorbar\":{\"outlinewidth\":0,\"ticks\":\"\"}}}],\"histogram\":[{\"marker\":{\"pattern\":{\"fillmode\":\"overlay\",\"size\":10,\"solidity\":0.2}},\"type\":\"histogram\"}],\"scattergl\":[{\"type\":\"scattergl\",\"marker\":{\"colorbar\":{\"outlinewidth\":0,\"ticks\":\"\"}}}],\"scatter3d\":[{\"type\":\"scatter3d\",\"line\":{\"colorbar\":{\"outlinewidth\":0,\"ticks\":\"\"}},\"marker\":{\"colorbar\":{\"outlinewidth\":0,\"ticks\":\"\"}}}],\"scattermapbox\":[{\"type\":\"scattermapbox\",\"marker\":{\"colorbar\":{\"outlinewidth\":0,\"ticks\":\"\"}}}],\"scatterternary\":[{\"type\":\"scatterternary\",\"marker\":{\"colorbar\":{\"outlinewidth\":0,\"ticks\":\"\"}}}],\"scattercarpet\":[{\"type\":\"scattercarpet\",\"marker\":{\"colorbar\":{\"outlinewidth\":0,\"ticks\":\"\"}}}],\"carpet\":[{\"aaxis\":{\"endlinecolor\":\"#2a3f5f\",\"gridcolor\":\"white\",\"linecolor\":\"white\",\"minorgridcolor\":\"white\",\"startlinecolor\":\"#2a3f5f\"},\"baxis\":{\"endlinecolor\":\"#2a3f5f\",\"gridcolor\":\"white\",\"linecolor\":\"white\",\"minorgridcolor\":\"white\",\"startlinecolor\":\"#2a3f5f\"},\"type\":\"carpet\"}],\"table\":[{\"cells\":{\"fill\":{\"color\":\"#EBF0F8\"},\"line\":{\"color\":\"white\"}},\"header\":{\"fill\":{\"color\":\"#C8D4E3\"},\"line\":{\"color\":\"white\"}},\"type\":\"table\"}],\"barpolar\":[{\"marker\":{\"line\":{\"color\":\"#E5ECF6\",\"width\":0.5},\"pattern\":{\"fillmode\":\"overlay\",\"size\":10,\"solidity\":0.2}},\"type\":\"barpolar\"}],\"pie\":[{\"automargin\":true,\"type\":\"pie\"}]},\"layout\":{\"autotypenumbers\":\"strict\",\"colorway\":[\"#636efa\",\"#EF553B\",\"#00cc96\",\"#ab63fa\",\"#FFA15A\",\"#19d3f3\",\"#FF6692\",\"#B6E880\",\"#FF97FF\",\"#FECB52\"],\"font\":{\"color\":\"#2a3f5f\"},\"hovermode\":\"closest\",\"hoverlabel\":{\"align\":\"left\"},\"paper_bgcolor\":\"white\",\"plot_bgcolor\":\"#E5ECF6\",\"polar\":{\"bgcolor\":\"#E5ECF6\",\"angularaxis\":{\"gridcolor\":\"white\",\"linecolor\":\"white\",\"ticks\":\"\"},\"radialaxis\":{\"gridcolor\":\"white\",\"linecolor\":\"white\",\"ticks\":\"\"}},\"ternary\":{\"bgcolor\":\"#E5ECF6\",\"aaxis\":{\"gridcolor\":\"white\",\"linecolor\":\"white\",\"ticks\":\"\"},\"baxis\":{\"gridcolor\":\"white\",\"linecolor\":\"white\",\"ticks\":\"\"},\"caxis\":{\"gridcolor\":\"white\",\"linecolor\":\"white\",\"ticks\":\"\"}},\"coloraxis\":{\"colorbar\":{\"outlinewidth\":0,\"ticks\":\"\"}},\"colorscale\":{\"sequential\":[[0.0,\"#0d0887\"],[0.1111111111111111,\"#46039f\"],[0.2222222222222222,\"#7201a8\"],[0.3333333333333333,\"#9c179e\"],[0.4444444444444444,\"#bd3786\"],[0.5555555555555556,\"#d8576b\"],[0.6666666666666666,\"#ed7953\"],[0.7777777777777778,\"#fb9f3a\"],[0.8888888888888888,\"#fdca26\"],[1.0,\"#f0f921\"]],\"sequentialminus\":[[0.0,\"#0d0887\"],[0.1111111111111111,\"#46039f\"],[0.2222222222222222,\"#7201a8\"],[0.3333333333333333,\"#9c179e\"],[0.4444444444444444,\"#bd3786\"],[0.5555555555555556,\"#d8576b\"],[0.6666666666666666,\"#ed7953\"],[0.7777777777777778,\"#fb9f3a\"],[0.8888888888888888,\"#fdca26\"],[1.0,\"#f0f921\"]],\"diverging\":[[0,\"#8e0152\"],[0.1,\"#c51b7d\"],[0.2,\"#de77ae\"],[0.3,\"#f1b6da\"],[0.4,\"#fde0ef\"],[0.5,\"#f7f7f7\"],[0.6,\"#e6f5d0\"],[0.7,\"#b8e186\"],[0.8,\"#7fbc41\"],[0.9,\"#4d9221\"],[1,\"#276419\"]]},\"xaxis\":{\"gridcolor\":\"white\",\"linecolor\":\"white\",\"ticks\":\"\",\"title\":{\"standoff\":15},\"zerolinecolor\":\"white\",\"automargin\":true,\"zerolinewidth\":2},\"yaxis\":{\"gridcolor\":\"white\",\"linecolor\":\"white\",\"ticks\":\"\",\"title\":{\"standoff\":15},\"zerolinecolor\":\"white\",\"automargin\":true,\"zerolinewidth\":2},\"scene\":{\"xaxis\":{\"backgroundcolor\":\"#E5ECF6\",\"gridcolor\":\"white\",\"linecolor\":\"white\",\"showbackground\":true,\"ticks\":\"\",\"zerolinecolor\":\"white\",\"gridwidth\":2},\"yaxis\":{\"backgroundcolor\":\"#E5ECF6\",\"gridcolor\":\"white\",\"linecolor\":\"white\",\"showbackground\":true,\"ticks\":\"\",\"zerolinecolor\":\"white\",\"gridwidth\":2},\"zaxis\":{\"backgroundcolor\":\"#E5ECF6\",\"gridcolor\":\"white\",\"linecolor\":\"white\",\"showbackground\":true,\"ticks\":\"\",\"zerolinecolor\":\"white\",\"gridwidth\":2}},\"shapedefaults\":{\"line\":{\"color\":\"#2a3f5f\"}},\"annotationdefaults\":{\"arrowcolor\":\"#2a3f5f\",\"arrowhead\":0,\"arrowwidth\":1},\"geo\":{\"bgcolor\":\"white\",\"landcolor\":\"#E5ECF6\",\"subunitcolor\":\"white\",\"showland\":true,\"showlakes\":true,\"lakecolor\":\"white\"},\"title\":{\"x\":0.05},\"mapbox\":{\"style\":\"light\"}}},\"annotations\":[{\"font\":{\"color\":\"white\",\"size\":20},\"showarrow\":false,\"text\":\"446\",\"x\":0,\"y\":0},{\"font\":{\"color\":\"black\",\"size\":20},\"showarrow\":false,\"text\":\"32\",\"x\":1,\"y\":0},{\"font\":{\"color\":\"black\",\"size\":20},\"showarrow\":false,\"text\":\"22\",\"x\":0,\"y\":1},{\"font\":{\"color\":\"white\",\"size\":20},\"showarrow\":false,\"text\":\"447\",\"x\":1,\"y\":1}],\"title\":{\"text\":\"\\ud63c\\ub3d9 \\ud589\\ub82c\"},\"xaxis\":{\"title\":{\"text\":\"\\uc608\\uce21\"}},\"yaxis\":{\"title\":{\"text\":\"\\uc2e4\\uc81c\"}},\"width\":600,\"height\":600},                        {\"responsive\": true}                    ).then(function(){\n",
       "                            \n",
       "var gd = document.getElementById('34bf1e33-d943-41b6-8618-7f8a35ecef76');\n",
       "var x = new MutationObserver(function (mutations, observer) {{\n",
       "        var display = window.getComputedStyle(gd).display;\n",
       "        if (!display || display === 'none') {{\n",
       "            console.log([gd, 'removed!']);\n",
       "            Plotly.purge(gd);\n",
       "            observer.disconnect();\n",
       "        }}\n",
       "}});\n",
       "\n",
       "// Listen for the removal of the full notebook cells\n",
       "var notebookContainer = gd.closest('#notebook-container');\n",
       "if (notebookContainer) {{\n",
       "    x.observe(notebookContainer, {childList: true});\n",
       "}}\n",
       "\n",
       "// Listen for the clearing of the current output cell\n",
       "var outputEl = gd.closest('.output');\n",
       "if (outputEl) {{\n",
       "    x.observe(outputEl, {childList: true});\n",
       "}}\n",
       "\n",
       "                        })                };                });            </script>        </div>"
      ]
     },
     "metadata": {},
     "output_type": "display_data"
    },
    {
     "name": "stdout",
     "output_type": "stream",
     "text": [
      "Accuracy: 0.9429778247096093\n",
      "AUC: 0.9430730388702037\n",
      "Recall: 0.9530916844349681\n",
      "Precision: 0.9331941544885177\n",
      "F1 Score: 0.9430379746835443\n"
     ]
    }
   ],
   "source": [
    "# 모델 학습 및 배포\n",
    "lightgbm_endpoint_name = train_and_deploy_model(project_name, train_path, val_path, output_path, model_type='lightgbm')\n",
    "# 모델 예측\n",
    "lightgbm_predict_label = model_prediction(lightgbm_endpoint_name, features)\n",
    "# 모델 평가\n",
    "plot_confusion_matrix(ground_truth_label, lightgbm_predict_label)\n"
   ]
  },
  {
   "cell_type": "markdown",
   "metadata": {},
   "source": [
    "Catboost 모델 학습 및 배포"
   ]
  },
  {
   "cell_type": "code",
   "execution_count": 30,
   "metadata": {},
   "outputs": [
    {
     "name": "stderr",
     "output_type": "stream",
     "text": [
      "Using model 'catboost-classification-model' with wildcard version identifier '*'. You can pin to version '2.1.0' for more stable results. Note that models may have different input/output signatures after a major version upgrade.\n",
      "INFO:sagemaker:Creating training-job with name: stroke-prediction-catboost-training-2024-08-10-03-24-33-423\n"
     ]
    },
    {
     "name": "stdout",
     "output_type": "stream",
     "text": [
      "2024-08-10 03:24:33 Starting - Starting the training job...\n",
      "2024-08-10 03:24:52 Starting - Preparing the instances for training...\n",
      "2024-08-10 03:25:23 Downloading - Downloading the training image......\n",
      "2024-08-10 03:26:29 Training - Training image download completed. Training in progress..bash: cannot set terminal process group (-1): Inappropriate ioctl for device\n",
      "bash: no job control in this shell\n",
      "2024-08-10 03:26:35,458 sagemaker-training-toolkit INFO     Imported framework sagemaker_pytorch_container.training\n",
      "2024-08-10 03:26:35,460 sagemaker-training-toolkit INFO     No GPUs detected (normal if no gpus installed)\n",
      "2024-08-10 03:26:35,469 sagemaker_pytorch_container.training INFO     Block until all host DNS lookups succeed.\n",
      "2024-08-10 03:26:35,471 sagemaker_pytorch_container.training INFO     Invoking user training script.\n",
      "2024-08-10 03:26:37,932 sagemaker-training-toolkit INFO     Installing dependencies from requirements.txt:\n",
      "/opt/conda/bin/python3.8 -m pip install -r requirements.txt\n",
      "Processing ./lib/catboost/catboost-1.0.1-cp38-none-manylinux1_x86_64.whl\n",
      "Processing ./lib/graphviz/graphviz-0.17-py3-none-any.whl\n",
      "Processing ./lib/plotly/plotly-5.1.0-py2.py3-none-any.whl\n",
      "Processing ./lib/tenacity/tenacity-8.0.1-py3-none-any.whl\n",
      "Processing ./lib/sagemaker_jumpstart_script_utilities/sagemaker_jumpstart_script_utilities-1.0.1-py2.py3-none-any.whl\n",
      "Processing ./lib/sagemaker_jumpstart_prepack_script_utilities/sagemaker_jumpstart_prepack_script_utilities-1.0.0-py2.py3-none-any.whl\n",
      "Requirement already satisfied: pandas>=0.24.0 in /opt/conda/lib/python3.8/site-packages (from catboost==1.0.1->-r requirements.txt (line 1)) (1.2.4)\n",
      "Requirement already satisfied: matplotlib in /opt/conda/lib/python3.8/site-packages (from catboost==1.0.1->-r requirements.txt (line 1)) (3.4.3)\n",
      "Requirement already satisfied: numpy>=1.16.0 in /opt/conda/lib/python3.8/site-packages (from catboost==1.0.1->-r requirements.txt (line 1)) (1.19.1)\n",
      "Requirement already satisfied: six in /opt/conda/lib/python3.8/site-packages (from catboost==1.0.1->-r requirements.txt (line 1)) (1.16.0)\n",
      "Requirement already satisfied: scipy in /opt/conda/lib/python3.8/site-packages (from catboost==1.0.1->-r requirements.txt (line 1)) (1.7.1)\n",
      "Requirement already satisfied: python-dateutil>=2.7.3 in /opt/conda/lib/python3.8/site-packages (from pandas>=0.24.0->catboost==1.0.1->-r requirements.txt (line 1)) (2.8.2)\n",
      "Requirement already satisfied: pytz>=2017.3 in /opt/conda/lib/python3.8/site-packages (from pandas>=0.24.0->catboost==1.0.1->-r requirements.txt (line 1)) (2021.3)\n",
      "Requirement already satisfied: pyparsing>=2.2.1 in /opt/conda/lib/python3.8/site-packages (from matplotlib->catboost==1.0.1->-r requirements.txt (line 1)) (2.4.7)\n",
      "Requirement already satisfied: cycler>=0.10 in /opt/conda/lib/python3.8/site-packages (from matplotlib->catboost==1.0.1->-r requirements.txt (line 1)) (0.10.0)\n",
      "Requirement already satisfied: kiwisolver>=1.0.1 in /opt/conda/lib/python3.8/site-packages (from matplotlib->catboost==1.0.1->-r requirements.txt (line 1)) (1.3.2)\n",
      "Requirement already satisfied: pillow>=6.2.0 in /opt/conda/lib/python3.8/site-packages (from matplotlib->catboost==1.0.1->-r requirements.txt (line 1)) (8.3.2)\n",
      "tenacity is already installed with the same version as the provided wheel. Use --force-reinstall to force an installation of the wheel.\n",
      "Installing collected packages: plotly, graphviz, sagemaker-jumpstart-script-utilities, sagemaker-jumpstart-prepack-script-utilities, catboost\n",
      "  Attempting uninstall: plotly\n",
      "Found existing installation: plotly 5.3.1\n",
      "Uninstalling plotly-5.3.1:\n",
      "Successfully uninstalled plotly-5.3.1\n",
      "\n",
      "2024-08-10 03:26:59 Uploading - Uploading generated training modelSuccessfully installed catboost-1.0.1 graphviz-0.17 plotly-5.1.0 sagemaker-jumpstart-prepack-script-utilities-1.0.0 sagemaker-jumpstart-script-utilities-1.0.1\n",
      "WARNING: Running pip as the 'root' user can result in broken permissions and conflicting behaviour with the system package manager. It is recommended to use a virtual environment instead: https://pip.pypa.io/warnings/venv\n",
      "2024-08-10 03:26:53,323 sagemaker-training-toolkit INFO     No GPUs detected (normal if no gpus installed)\n",
      "2024-08-10 03:26:53,333 sagemaker-training-toolkit INFO     No GPUs detected (normal if no gpus installed)\n",
      "2024-08-10 03:26:53,343 sagemaker-training-toolkit INFO     No GPUs detected (normal if no gpus installed)\n",
      "2024-08-10 03:26:53,352 sagemaker-training-toolkit INFO     Invoking user script\n",
      "Training Env:\n",
      "{\n",
      "    \"additional_framework_parameters\": {},\n",
      "    \"channel_input_dirs\": {\n",
      "        \"model\": \"/opt/ml/input/data/model\",\n",
      "        \"training\": \"/opt/ml/input/data/training\",\n",
      "        \"validation\": \"/opt/ml/input/data/validation\"\n",
      "    },\n",
      "    \"current_host\": \"algo-1\",\n",
      "    \"framework_module\": \"sagemaker_pytorch_container.training:main\",\n",
      "    \"hosts\": [\n",
      "        \"algo-1\"\n",
      "    ],\n",
      "    \"hyperparameters\": {\n",
      "        \"bagging_temperature\": \"1\",\n",
      "        \"boosting_type\": \"Auto\",\n",
      "        \"depth\": \"10\",\n",
      "        \"early_stopping_rounds\": \"5\",\n",
      "        \"eval_metric\": \"Auto\",\n",
      "        \"grow_policy\": \"SymmetricTree\",\n",
      "        \"iterations\": \"1000\",\n",
      "        \"l2_leaf_reg\": \"3\",\n",
      "        \"learning_rate\": \"0.03\",\n",
      "        \"max_bin\": \"Auto\",\n",
      "        \"max_leaves\": \"31\",\n",
      "        \"min_data_in_leaf\": \"1\",\n",
      "        \"random_seed\": \"0\",\n",
      "        \"random_strength\": \"1.0\",\n",
      "        \"rsm\": \"1\",\n",
      "        \"sampling_frequency\": \"PerTreeLevel\",\n",
      "        \"scale_pos_weight\": \"1.0\",\n",
      "        \"thread_count\": \"-1\",\n",
      "        \"verbose\": \"1\"\n",
      "    },\n",
      "    \"input_config_dir\": \"/opt/ml/input/config\",\n",
      "    \"input_data_config\": {\n",
      "        \"model\": {\n",
      "            \"ContentType\": \"application/x-sagemaker-model\",\n",
      "            \"TrainingInputMode\": \"File\",\n",
      "            \"S3DistributionType\": \"FullyReplicated\",\n",
      "            \"RecordWrapperType\": \"None\"\n",
      "        },\n",
      "        \"training\": {\n",
      "            \"ContentType\": \"text/csv\",\n",
      "            \"TrainingInputMode\": \"File\",\n",
      "            \"S3DistributionType\": \"FullyReplicated\",\n",
      "            \"RecordWrapperType\": \"None\"\n",
      "        },\n",
      "        \"validation\": {\n",
      "            \"ContentType\": \"text/csv\",\n",
      "            \"TrainingInputMode\": \"File\",\n",
      "            \"S3DistributionType\": \"FullyReplicated\",\n",
      "            \"RecordWrapperType\": \"None\"\n",
      "        }\n",
      "    },\n",
      "    \"input_dir\": \"/opt/ml/input\",\n",
      "    \"is_master\": true,\n",
      "    \"job_name\": \"stroke-prediction-catboost-training-2024-08-10-03-24-33-423\",\n",
      "    \"log_level\": 20,\n",
      "    \"master_hostname\": \"algo-1\",\n",
      "    \"model_dir\": \"/opt/ml/model\",\n",
      "    \"module_dir\": \"s3://jumpstart-cache-prod-ap-northeast-2/source-directory-tarballs/catboost/transfer_learning/classification/prepack/v1.1.1/sourcedir.tar.gz\",\n",
      "    \"module_name\": \"transfer_learning\",\n",
      "    \"network_interface_name\": \"eth0\",\n",
      "    \"num_cpus\": 4,\n",
      "    \"num_gpus\": 0,\n",
      "    \"output_data_dir\": \"/opt/ml/output/data\",\n",
      "    \"output_dir\": \"/opt/ml/output\",\n",
      "    \"output_intermediate_dir\": \"/opt/ml/output/intermediate\",\n",
      "    \"resource_config\": {\n",
      "        \"current_host\": \"algo-1\",\n",
      "        \"current_instance_type\": \"ml.m5.xlarge\",\n",
      "        \"current_group_name\": \"homogeneousCluster\",\n",
      "        \"hosts\": [\n",
      "            \"algo-1\"\n",
      "        ],\n",
      "        \"instance_groups\": [\n",
      "            {\n",
      "                \"instance_group_name\": \"homogeneousCluster\",\n",
      "                \"instance_type\": \"ml.m5.xlarge\",\n",
      "                \"hosts\": [\n",
      "                    \"algo-1\"\n",
      "                ]\n",
      "            }\n",
      "        ],\n",
      "        \"network_interface_name\": \"eth0\"\n",
      "    },\n",
      "    \"user_entry_point\": \"transfer_learning.py\"\n",
      "}\n",
      "Environment variables:\n",
      "SM_HOSTS=[\"algo-1\"]\n",
      "SM_NETWORK_INTERFACE_NAME=eth0\n",
      "SM_HPS={\"bagging_temperature\":\"1\",\"boosting_type\":\"Auto\",\"depth\":\"10\",\"early_stopping_rounds\":\"5\",\"eval_metric\":\"Auto\",\"grow_policy\":\"SymmetricTree\",\"iterations\":\"1000\",\"l2_leaf_reg\":\"3\",\"learning_rate\":\"0.03\",\"max_bin\":\"Auto\",\"max_leaves\":\"31\",\"min_data_in_leaf\":\"1\",\"random_seed\":\"0\",\"random_strength\":\"1.0\",\"rsm\":\"1\",\"sampling_frequency\":\"PerTreeLevel\",\"scale_pos_weight\":\"1.0\",\"thread_count\":\"-1\",\"verbose\":\"1\"}\n",
      "SM_USER_ENTRY_POINT=transfer_learning.py\n",
      "SM_FRAMEWORK_PARAMS={}\n",
      "SM_RESOURCE_CONFIG={\"current_group_name\":\"homogeneousCluster\",\"current_host\":\"algo-1\",\"current_instance_type\":\"ml.m5.xlarge\",\"hosts\":[\"algo-1\"],\"instance_groups\":[{\"hosts\":[\"algo-1\"],\"instance_group_name\":\"homogeneousCluster\",\"instance_type\":\"ml.m5.xlarge\"}],\"network_interface_name\":\"eth0\"}\n",
      "SM_INPUT_DATA_CONFIG={\"model\":{\"ContentType\":\"application/x-sagemaker-model\",\"RecordWrapperType\":\"None\",\"S3DistributionType\":\"FullyReplicated\",\"TrainingInputMode\":\"File\"},\"training\":{\"ContentType\":\"text/csv\",\"RecordWrapperType\":\"None\",\"S3DistributionType\":\"FullyReplicated\",\"TrainingInputMode\":\"File\"},\"validation\":{\"ContentType\":\"text/csv\",\"RecordWrapperType\":\"None\",\"S3DistributionType\":\"FullyReplicated\",\"TrainingInputMode\":\"File\"}}\n",
      "SM_OUTPUT_DATA_DIR=/opt/ml/output/data\n",
      "SM_CHANNELS=[\"model\",\"training\",\"validation\"]\n",
      "SM_CURRENT_HOST=algo-1\n",
      "SM_MODULE_NAME=transfer_learning\n",
      "SM_LOG_LEVEL=20\n",
      "SM_FRAMEWORK_MODULE=sagemaker_pytorch_container.training:main\n",
      "SM_INPUT_DIR=/opt/ml/input\n",
      "SM_INPUT_CONFIG_DIR=/opt/ml/input/config\n",
      "SM_OUTPUT_DIR=/opt/ml/output\n",
      "SM_NUM_CPUS=4\n",
      "SM_NUM_GPUS=0\n",
      "SM_MODEL_DIR=/opt/ml/model\n",
      "SM_MODULE_DIR=s3://jumpstart-cache-prod-ap-northeast-2/source-directory-tarballs/catboost/transfer_learning/classification/prepack/v1.1.1/sourcedir.tar.gz\n",
      "SM_TRAINING_ENV={\"additional_framework_parameters\":{},\"channel_input_dirs\":{\"model\":\"/opt/ml/input/data/model\",\"training\":\"/opt/ml/input/data/training\",\"validation\":\"/opt/ml/input/data/validation\"},\"current_host\":\"algo-1\",\"framework_module\":\"sagemaker_pytorch_container.training:main\",\"hosts\":[\"algo-1\"],\"hyperparameters\":{\"bagging_temperature\":\"1\",\"boosting_type\":\"Auto\",\"depth\":\"10\",\"early_stopping_rounds\":\"5\",\"eval_metric\":\"Auto\",\"grow_policy\":\"SymmetricTree\",\"iterations\":\"1000\",\"l2_leaf_reg\":\"3\",\"learning_rate\":\"0.03\",\"max_bin\":\"Auto\",\"max_leaves\":\"31\",\"min_data_in_leaf\":\"1\",\"random_seed\":\"0\",\"random_strength\":\"1.0\",\"rsm\":\"1\",\"sampling_frequency\":\"PerTreeLevel\",\"scale_pos_weight\":\"1.0\",\"thread_count\":\"-1\",\"verbose\":\"1\"},\"input_config_dir\":\"/opt/ml/input/config\",\"input_data_config\":{\"model\":{\"ContentType\":\"application/x-sagemaker-model\",\"RecordWrapperType\":\"None\",\"S3DistributionType\":\"FullyReplicated\",\"TrainingInputMode\":\"File\"},\"training\":{\"ContentType\":\"text/csv\",\"RecordWrapperType\":\"None\",\"S3DistributionType\":\"FullyReplicated\",\"TrainingInputMode\":\"File\"},\"validation\":{\"ContentType\":\"text/csv\",\"RecordWrapperType\":\"None\",\"S3DistributionType\":\"FullyReplicated\",\"TrainingInputMode\":\"File\"}},\"input_dir\":\"/opt/ml/input\",\"is_master\":true,\"job_name\":\"stroke-prediction-catboost-training-2024-08-10-03-24-33-423\",\"log_level\":20,\"master_hostname\":\"algo-1\",\"model_dir\":\"/opt/ml/model\",\"module_dir\":\"s3://jumpstart-cache-prod-ap-northeast-2/source-directory-tarballs/catboost/transfer_learning/classification/prepack/v1.1.1/sourcedir.tar.gz\",\"module_name\":\"transfer_learning\",\"network_interface_name\":\"eth0\",\"num_cpus\":4,\"num_gpus\":0,\"output_data_dir\":\"/opt/ml/output/data\",\"output_dir\":\"/opt/ml/output\",\"output_intermediate_dir\":\"/opt/ml/output/intermediate\",\"resource_config\":{\"current_group_name\":\"homogeneousCluster\",\"current_host\":\"algo-1\",\"current_instance_type\":\"ml.m5.xlarge\",\"hosts\":[\"algo-1\"],\"instance_groups\":[{\"hosts\":[\"algo-1\"],\"instance_group_name\":\"homogeneousCluster\",\"instance_type\":\"ml.m5.xlarge\"}],\"network_interface_name\":\"eth0\"},\"user_entry_point\":\"transfer_learning.py\"}\n",
      "SM_USER_ARGS=[\"--bagging_temperature\",\"1\",\"--boosting_type\",\"Auto\",\"--depth\",\"10\",\"--early_stopping_rounds\",\"5\",\"--eval_metric\",\"Auto\",\"--grow_policy\",\"SymmetricTree\",\"--iterations\",\"1000\",\"--l2_leaf_reg\",\"3\",\"--learning_rate\",\"0.03\",\"--max_bin\",\"Auto\",\"--max_leaves\",\"31\",\"--min_data_in_leaf\",\"1\",\"--random_seed\",\"0\",\"--random_strength\",\"1.0\",\"--rsm\",\"1\",\"--sampling_frequency\",\"PerTreeLevel\",\"--scale_pos_weight\",\"1.0\",\"--thread_count\",\"-1\",\"--verbose\",\"1\"]\n",
      "SM_OUTPUT_INTERMEDIATE_DIR=/opt/ml/output/intermediate\n",
      "SM_CHANNEL_MODEL=/opt/ml/input/data/model\n",
      "SM_CHANNEL_TRAINING=/opt/ml/input/data/training\n",
      "SM_CHANNEL_VALIDATION=/opt/ml/input/data/validation\n",
      "SM_HP_BAGGING_TEMPERATURE=1\n",
      "SM_HP_BOOSTING_TYPE=Auto\n",
      "SM_HP_DEPTH=10\n",
      "SM_HP_EARLY_STOPPING_ROUNDS=5\n",
      "SM_HP_EVAL_METRIC=Auto\n",
      "SM_HP_GROW_POLICY=SymmetricTree\n",
      "SM_HP_ITERATIONS=1000\n",
      "SM_HP_L2_LEAF_REG=3\n",
      "SM_HP_LEARNING_RATE=0.03\n",
      "SM_HP_MAX_BIN=Auto\n",
      "SM_HP_MAX_LEAVES=31\n",
      "SM_HP_MIN_DATA_IN_LEAF=1\n",
      "SM_HP_RANDOM_SEED=0\n",
      "SM_HP_RANDOM_STRENGTH=1.0\n",
      "SM_HP_RSM=1\n",
      "SM_HP_SAMPLING_FREQUENCY=PerTreeLevel\n",
      "SM_HP_SCALE_POS_WEIGHT=1.0\n",
      "SM_HP_THREAD_COUNT=-1\n",
      "SM_HP_VERBOSE=1\n",
      "PYTHONPATH=/opt/ml/code:/opt/conda/bin:/opt/conda/lib/python38.zip:/opt/conda/lib/python3.8:/opt/conda/lib/python3.8/lib-dynload:/opt/conda/lib/python3.8/site-packages\n",
      "Invoking script with the following command:\n",
      "/opt/conda/bin/python3.8 transfer_learning.py --bagging_temperature 1 --boosting_type Auto --depth 10 --early_stopping_rounds 5 --eval_metric Auto --grow_policy SymmetricTree --iterations 1000 --l2_leaf_reg 3 --learning_rate 0.03 --max_bin Auto --max_leaves 31 --min_data_in_leaf 1 --random_seed 0 --random_strength 1.0 --rsm 1 --sampling_frequency PerTreeLevel --scale_pos_weight 1.0 --thread_count -1 --verbose 1\n",
      "INFO:root:Data in the validation channel is found. Reading the train and validation data from the training and validation channel, respectively.\n",
      "INFO:root:'_input_model_extracted/__models_info__.json' file could not be found.\n",
      "0:#011test: 0.9026176#011best: 0.9026176 (0)#011total: 60.2ms#011remaining: 1m\n",
      "1:#011test: 0.9166473#011best: 0.9166473 (1)#011total: 71ms#011remaining: 35.4s\n",
      "2:#011test: 0.9269603#011best: 0.9269603 (2)#011total: 80ms#011remaining: 26.6s\n",
      "3:#011test: 0.9281576#011best: 0.9281576 (3)#011total: 89.1ms#011remaining: 22.2s\n",
      "4:#011test: 0.9318068#011best: 0.9318068 (4)#011total: 98ms#011remaining: 19.5s\n",
      "5:#011test: 0.9335910#011best: 0.9335910 (5)#011total: 108ms#011remaining: 17.9s\n",
      "6:#011test: 0.9374000#011best: 0.9374000 (6)#011total: 118ms#011remaining: 16.8s\n",
      "7:#011test: 0.9383101#011best: 0.9383101 (7)#011total: 127ms#011remaining: 15.8s\n",
      "8:#011test: 0.9393228#011best: 0.9393228 (8)#011total: 138ms#011remaining: 15.2s\n",
      "9:#011test: 0.9414088#011best: 0.9414088 (9)#011total: 147ms#011remaining: 14.6s\n",
      "10:#011test: 0.9418242#011best: 0.9418242 (10)#011total: 157ms#011remaining: 14.1s\n",
      "11:#011test: 0.9431345#011best: 0.9431345 (11)#011total: 166ms#011remaining: 13.7s\n",
      "12:#011test: 0.9444751#011best: 0.9444751 (12)#011total: 176ms#011remaining: 13.3s\n",
      "13:#011test: 0.9453921#011best: 0.9453921 (13)#011total: 185ms#011remaining: 13.1s\n",
      "14:#011test: 0.9453583#011best: 0.9453921 (13)#011total: 195ms#011remaining: 12.8s\n",
      "15:#011test: 0.9448320#011best: 0.9453921 (13)#011total: 204ms#011remaining: 12.6s\n",
      "16:#011test: 0.9445936#011best: 0.9453921 (13)#011total: 214ms#011remaining: 12.4s\n",
      "17:#011test: 0.9444324#011best: 0.9453921 (13)#011total: 223ms#011remaining: 12.2s\n",
      "18:#011test: 0.9440687#011best: 0.9453921 (13)#011total: 229ms#011remaining: 11.8s\n",
      "Stopped by overfitting detector  (5 iterations wait)\n",
      "bestTest = 0.94539208\n",
      "bestIteration = 13\n",
      "Shrink model to first 14 iterations.\n",
      "INFO:root:AUC: 0.9453920800018738\n",
      "INFO:root:Saving model...\n",
      "INFO:root:Info file not found at '_input_model_extracted/__models_info__.json'.\n",
      "2024-08-10 03:26:54,336 sagemaker-training-toolkit INFO     Reporting training SUCCESS\n",
      "\n",
      "2024-08-10 03:27:12 Completed - Training job completed\n",
      "Training seconds: 119\n",
      "Billable seconds: 29\n",
      "Managed Spot Training savings: 75.6%\n"
     ]
    },
    {
     "name": "stderr",
     "output_type": "stream",
     "text": [
      "INFO:sagemaker:Repacking model artifact (s3://dante-sagemaker/stroke-prediction/output/stroke-prediction-catboost-training-2024-08-10-03-24-33-423/output/model.tar.gz), script artifact (s3://jumpstart-cache-prod-ap-northeast-2/source-directory-tarballs/catboost/inference/classification/v1.1.2/sourcedir.tar.gz), and dependencies ([]) into single tar.gz file located at s3://sagemaker-ap-northeast-2-905418381372/sagemaker-jumpstart-2024-08-10-03-27-47-156/model.tar.gz. This may take some time depending on model size...\n",
      "INFO:sagemaker:Creating model with name: sagemaker-jumpstart-2024-08-10-03-27-47-156\n",
      "INFO:sagemaker:Creating endpoint-config with name stroke-prediction-catboost-inference-2024-08-10-03-27-47-156\n",
      "INFO:sagemaker:Creating endpoint with name stroke-prediction-catboost-inference-2024-08-10-03-27-47-156\n"
     ]
    },
    {
     "name": "stdout",
     "output_type": "stream",
     "text": [
      "------!"
     ]
    },
    {
     "data": {
      "application/vnd.plotly.v1+json": {
       "config": {
        "plotlyServerURL": "https://plot.ly"
       },
       "data": [
        {
         "colorscale": [
          [
           0,
           "rgb(247,251,255)"
          ],
          [
           0.125,
           "rgb(222,235,247)"
          ],
          [
           0.25,
           "rgb(198,219,239)"
          ],
          [
           0.375,
           "rgb(158,202,225)"
          ],
          [
           0.5,
           "rgb(107,174,214)"
          ],
          [
           0.625,
           "rgb(66,146,198)"
          ],
          [
           0.75,
           "rgb(33,113,181)"
          ],
          [
           0.875,
           "rgb(8,81,156)"
          ],
          [
           1,
           "rgb(8,48,107)"
          ]
         ],
         "showscale": false,
         "type": "heatmap",
         "x": [
          "예측: 0",
          "예측: 1"
         ],
         "y": [
          "실제: 0",
          "실제: 1"
         ],
         "z": [
          [
           478,
           0
          ],
          [
           469,
           0
          ]
         ]
        }
       ],
       "layout": {
        "annotations": [
         {
          "font": {
           "color": "white",
           "size": 20
          },
          "showarrow": false,
          "text": "478",
          "x": 0,
          "y": 0
         },
         {
          "font": {
           "color": "black",
           "size": 20
          },
          "showarrow": false,
          "text": "0",
          "x": 1,
          "y": 0
         },
         {
          "font": {
           "color": "white",
           "size": 20
          },
          "showarrow": false,
          "text": "469",
          "x": 0,
          "y": 1
         },
         {
          "font": {
           "color": "black",
           "size": 20
          },
          "showarrow": false,
          "text": "0",
          "x": 1,
          "y": 1
         }
        ],
        "height": 600,
        "template": {
         "data": {
          "bar": [
           {
            "error_x": {
             "color": "#2a3f5f"
            },
            "error_y": {
             "color": "#2a3f5f"
            },
            "marker": {
             "line": {
              "color": "#E5ECF6",
              "width": 0.5
             },
             "pattern": {
              "fillmode": "overlay",
              "size": 10,
              "solidity": 0.2
             }
            },
            "type": "bar"
           }
          ],
          "barpolar": [
           {
            "marker": {
             "line": {
              "color": "#E5ECF6",
              "width": 0.5
             },
             "pattern": {
              "fillmode": "overlay",
              "size": 10,
              "solidity": 0.2
             }
            },
            "type": "barpolar"
           }
          ],
          "carpet": [
           {
            "aaxis": {
             "endlinecolor": "#2a3f5f",
             "gridcolor": "white",
             "linecolor": "white",
             "minorgridcolor": "white",
             "startlinecolor": "#2a3f5f"
            },
            "baxis": {
             "endlinecolor": "#2a3f5f",
             "gridcolor": "white",
             "linecolor": "white",
             "minorgridcolor": "white",
             "startlinecolor": "#2a3f5f"
            },
            "type": "carpet"
           }
          ],
          "choropleth": [
           {
            "colorbar": {
             "outlinewidth": 0,
             "ticks": ""
            },
            "type": "choropleth"
           }
          ],
          "contour": [
           {
            "colorbar": {
             "outlinewidth": 0,
             "ticks": ""
            },
            "colorscale": [
             [
              0,
              "#0d0887"
             ],
             [
              0.1111111111111111,
              "#46039f"
             ],
             [
              0.2222222222222222,
              "#7201a8"
             ],
             [
              0.3333333333333333,
              "#9c179e"
             ],
             [
              0.4444444444444444,
              "#bd3786"
             ],
             [
              0.5555555555555556,
              "#d8576b"
             ],
             [
              0.6666666666666666,
              "#ed7953"
             ],
             [
              0.7777777777777778,
              "#fb9f3a"
             ],
             [
              0.8888888888888888,
              "#fdca26"
             ],
             [
              1,
              "#f0f921"
             ]
            ],
            "type": "contour"
           }
          ],
          "contourcarpet": [
           {
            "colorbar": {
             "outlinewidth": 0,
             "ticks": ""
            },
            "type": "contourcarpet"
           }
          ],
          "heatmap": [
           {
            "colorbar": {
             "outlinewidth": 0,
             "ticks": ""
            },
            "colorscale": [
             [
              0,
              "#0d0887"
             ],
             [
              0.1111111111111111,
              "#46039f"
             ],
             [
              0.2222222222222222,
              "#7201a8"
             ],
             [
              0.3333333333333333,
              "#9c179e"
             ],
             [
              0.4444444444444444,
              "#bd3786"
             ],
             [
              0.5555555555555556,
              "#d8576b"
             ],
             [
              0.6666666666666666,
              "#ed7953"
             ],
             [
              0.7777777777777778,
              "#fb9f3a"
             ],
             [
              0.8888888888888888,
              "#fdca26"
             ],
             [
              1,
              "#f0f921"
             ]
            ],
            "type": "heatmap"
           }
          ],
          "heatmapgl": [
           {
            "colorbar": {
             "outlinewidth": 0,
             "ticks": ""
            },
            "colorscale": [
             [
              0,
              "#0d0887"
             ],
             [
              0.1111111111111111,
              "#46039f"
             ],
             [
              0.2222222222222222,
              "#7201a8"
             ],
             [
              0.3333333333333333,
              "#9c179e"
             ],
             [
              0.4444444444444444,
              "#bd3786"
             ],
             [
              0.5555555555555556,
              "#d8576b"
             ],
             [
              0.6666666666666666,
              "#ed7953"
             ],
             [
              0.7777777777777778,
              "#fb9f3a"
             ],
             [
              0.8888888888888888,
              "#fdca26"
             ],
             [
              1,
              "#f0f921"
             ]
            ],
            "type": "heatmapgl"
           }
          ],
          "histogram": [
           {
            "marker": {
             "pattern": {
              "fillmode": "overlay",
              "size": 10,
              "solidity": 0.2
             }
            },
            "type": "histogram"
           }
          ],
          "histogram2d": [
           {
            "colorbar": {
             "outlinewidth": 0,
             "ticks": ""
            },
            "colorscale": [
             [
              0,
              "#0d0887"
             ],
             [
              0.1111111111111111,
              "#46039f"
             ],
             [
              0.2222222222222222,
              "#7201a8"
             ],
             [
              0.3333333333333333,
              "#9c179e"
             ],
             [
              0.4444444444444444,
              "#bd3786"
             ],
             [
              0.5555555555555556,
              "#d8576b"
             ],
             [
              0.6666666666666666,
              "#ed7953"
             ],
             [
              0.7777777777777778,
              "#fb9f3a"
             ],
             [
              0.8888888888888888,
              "#fdca26"
             ],
             [
              1,
              "#f0f921"
             ]
            ],
            "type": "histogram2d"
           }
          ],
          "histogram2dcontour": [
           {
            "colorbar": {
             "outlinewidth": 0,
             "ticks": ""
            },
            "colorscale": [
             [
              0,
              "#0d0887"
             ],
             [
              0.1111111111111111,
              "#46039f"
             ],
             [
              0.2222222222222222,
              "#7201a8"
             ],
             [
              0.3333333333333333,
              "#9c179e"
             ],
             [
              0.4444444444444444,
              "#bd3786"
             ],
             [
              0.5555555555555556,
              "#d8576b"
             ],
             [
              0.6666666666666666,
              "#ed7953"
             ],
             [
              0.7777777777777778,
              "#fb9f3a"
             ],
             [
              0.8888888888888888,
              "#fdca26"
             ],
             [
              1,
              "#f0f921"
             ]
            ],
            "type": "histogram2dcontour"
           }
          ],
          "mesh3d": [
           {
            "colorbar": {
             "outlinewidth": 0,
             "ticks": ""
            },
            "type": "mesh3d"
           }
          ],
          "parcoords": [
           {
            "line": {
             "colorbar": {
              "outlinewidth": 0,
              "ticks": ""
             }
            },
            "type": "parcoords"
           }
          ],
          "pie": [
           {
            "automargin": true,
            "type": "pie"
           }
          ],
          "scatter": [
           {
            "fillpattern": {
             "fillmode": "overlay",
             "size": 10,
             "solidity": 0.2
            },
            "type": "scatter"
           }
          ],
          "scatter3d": [
           {
            "line": {
             "colorbar": {
              "outlinewidth": 0,
              "ticks": ""
             }
            },
            "marker": {
             "colorbar": {
              "outlinewidth": 0,
              "ticks": ""
             }
            },
            "type": "scatter3d"
           }
          ],
          "scattercarpet": [
           {
            "marker": {
             "colorbar": {
              "outlinewidth": 0,
              "ticks": ""
             }
            },
            "type": "scattercarpet"
           }
          ],
          "scattergeo": [
           {
            "marker": {
             "colorbar": {
              "outlinewidth": 0,
              "ticks": ""
             }
            },
            "type": "scattergeo"
           }
          ],
          "scattergl": [
           {
            "marker": {
             "colorbar": {
              "outlinewidth": 0,
              "ticks": ""
             }
            },
            "type": "scattergl"
           }
          ],
          "scattermapbox": [
           {
            "marker": {
             "colorbar": {
              "outlinewidth": 0,
              "ticks": ""
             }
            },
            "type": "scattermapbox"
           }
          ],
          "scatterpolar": [
           {
            "marker": {
             "colorbar": {
              "outlinewidth": 0,
              "ticks": ""
             }
            },
            "type": "scatterpolar"
           }
          ],
          "scatterpolargl": [
           {
            "marker": {
             "colorbar": {
              "outlinewidth": 0,
              "ticks": ""
             }
            },
            "type": "scatterpolargl"
           }
          ],
          "scatterternary": [
           {
            "marker": {
             "colorbar": {
              "outlinewidth": 0,
              "ticks": ""
             }
            },
            "type": "scatterternary"
           }
          ],
          "surface": [
           {
            "colorbar": {
             "outlinewidth": 0,
             "ticks": ""
            },
            "colorscale": [
             [
              0,
              "#0d0887"
             ],
             [
              0.1111111111111111,
              "#46039f"
             ],
             [
              0.2222222222222222,
              "#7201a8"
             ],
             [
              0.3333333333333333,
              "#9c179e"
             ],
             [
              0.4444444444444444,
              "#bd3786"
             ],
             [
              0.5555555555555556,
              "#d8576b"
             ],
             [
              0.6666666666666666,
              "#ed7953"
             ],
             [
              0.7777777777777778,
              "#fb9f3a"
             ],
             [
              0.8888888888888888,
              "#fdca26"
             ],
             [
              1,
              "#f0f921"
             ]
            ],
            "type": "surface"
           }
          ],
          "table": [
           {
            "cells": {
             "fill": {
              "color": "#EBF0F8"
             },
             "line": {
              "color": "white"
             }
            },
            "header": {
             "fill": {
              "color": "#C8D4E3"
             },
             "line": {
              "color": "white"
             }
            },
            "type": "table"
           }
          ]
         },
         "layout": {
          "annotationdefaults": {
           "arrowcolor": "#2a3f5f",
           "arrowhead": 0,
           "arrowwidth": 1
          },
          "autotypenumbers": "strict",
          "coloraxis": {
           "colorbar": {
            "outlinewidth": 0,
            "ticks": ""
           }
          },
          "colorscale": {
           "diverging": [
            [
             0,
             "#8e0152"
            ],
            [
             0.1,
             "#c51b7d"
            ],
            [
             0.2,
             "#de77ae"
            ],
            [
             0.3,
             "#f1b6da"
            ],
            [
             0.4,
             "#fde0ef"
            ],
            [
             0.5,
             "#f7f7f7"
            ],
            [
             0.6,
             "#e6f5d0"
            ],
            [
             0.7,
             "#b8e186"
            ],
            [
             0.8,
             "#7fbc41"
            ],
            [
             0.9,
             "#4d9221"
            ],
            [
             1,
             "#276419"
            ]
           ],
           "sequential": [
            [
             0,
             "#0d0887"
            ],
            [
             0.1111111111111111,
             "#46039f"
            ],
            [
             0.2222222222222222,
             "#7201a8"
            ],
            [
             0.3333333333333333,
             "#9c179e"
            ],
            [
             0.4444444444444444,
             "#bd3786"
            ],
            [
             0.5555555555555556,
             "#d8576b"
            ],
            [
             0.6666666666666666,
             "#ed7953"
            ],
            [
             0.7777777777777778,
             "#fb9f3a"
            ],
            [
             0.8888888888888888,
             "#fdca26"
            ],
            [
             1,
             "#f0f921"
            ]
           ],
           "sequentialminus": [
            [
             0,
             "#0d0887"
            ],
            [
             0.1111111111111111,
             "#46039f"
            ],
            [
             0.2222222222222222,
             "#7201a8"
            ],
            [
             0.3333333333333333,
             "#9c179e"
            ],
            [
             0.4444444444444444,
             "#bd3786"
            ],
            [
             0.5555555555555556,
             "#d8576b"
            ],
            [
             0.6666666666666666,
             "#ed7953"
            ],
            [
             0.7777777777777778,
             "#fb9f3a"
            ],
            [
             0.8888888888888888,
             "#fdca26"
            ],
            [
             1,
             "#f0f921"
            ]
           ]
          },
          "colorway": [
           "#636efa",
           "#EF553B",
           "#00cc96",
           "#ab63fa",
           "#FFA15A",
           "#19d3f3",
           "#FF6692",
           "#B6E880",
           "#FF97FF",
           "#FECB52"
          ],
          "font": {
           "color": "#2a3f5f"
          },
          "geo": {
           "bgcolor": "white",
           "lakecolor": "white",
           "landcolor": "#E5ECF6",
           "showlakes": true,
           "showland": true,
           "subunitcolor": "white"
          },
          "hoverlabel": {
           "align": "left"
          },
          "hovermode": "closest",
          "mapbox": {
           "style": "light"
          },
          "paper_bgcolor": "white",
          "plot_bgcolor": "#E5ECF6",
          "polar": {
           "angularaxis": {
            "gridcolor": "white",
            "linecolor": "white",
            "ticks": ""
           },
           "bgcolor": "#E5ECF6",
           "radialaxis": {
            "gridcolor": "white",
            "linecolor": "white",
            "ticks": ""
           }
          },
          "scene": {
           "xaxis": {
            "backgroundcolor": "#E5ECF6",
            "gridcolor": "white",
            "gridwidth": 2,
            "linecolor": "white",
            "showbackground": true,
            "ticks": "",
            "zerolinecolor": "white"
           },
           "yaxis": {
            "backgroundcolor": "#E5ECF6",
            "gridcolor": "white",
            "gridwidth": 2,
            "linecolor": "white",
            "showbackground": true,
            "ticks": "",
            "zerolinecolor": "white"
           },
           "zaxis": {
            "backgroundcolor": "#E5ECF6",
            "gridcolor": "white",
            "gridwidth": 2,
            "linecolor": "white",
            "showbackground": true,
            "ticks": "",
            "zerolinecolor": "white"
           }
          },
          "shapedefaults": {
           "line": {
            "color": "#2a3f5f"
           }
          },
          "ternary": {
           "aaxis": {
            "gridcolor": "white",
            "linecolor": "white",
            "ticks": ""
           },
           "baxis": {
            "gridcolor": "white",
            "linecolor": "white",
            "ticks": ""
           },
           "bgcolor": "#E5ECF6",
           "caxis": {
            "gridcolor": "white",
            "linecolor": "white",
            "ticks": ""
           }
          },
          "title": {
           "x": 0.05
          },
          "xaxis": {
           "automargin": true,
           "gridcolor": "white",
           "linecolor": "white",
           "ticks": "",
           "title": {
            "standoff": 15
           },
           "zerolinecolor": "white",
           "zerolinewidth": 2
          },
          "yaxis": {
           "automargin": true,
           "gridcolor": "white",
           "linecolor": "white",
           "ticks": "",
           "title": {
            "standoff": 15
           },
           "zerolinecolor": "white",
           "zerolinewidth": 2
          }
         }
        },
        "title": {
         "text": "혼동 행렬"
        },
        "width": 600,
        "xaxis": {
         "title": {
          "text": "예측"
         }
        },
        "yaxis": {
         "title": {
          "text": "실제"
         }
        }
       }
      }
     },
     "metadata": {},
     "output_type": "display_data"
    },
    {
     "name": "stdout",
     "output_type": "stream",
     "text": [
      "Accuracy: 0.5047518479408659\n",
      "AUC: 0.5\n",
      "Recall: 0.0\n",
      "Precision: 0.0\n",
      "F1 Score: 0.0\n"
     ]
    }
   ],
   "source": [
    "# 모델 학습 및 배포\n",
    "catboost_endpoint_name = train_and_deploy_model(project_name, train_path, val_path, output_path, model_type='catboost')\n",
    "# 모델 예측\n",
    "catboost_predict_label = model_prediction(catboost_endpoint_name, test_data)\n",
    "# 모델 평가\n",
    "plot_confusion_matrix(ground_truth_label, catboost_predict_label)"
   ]
  },
  {
   "cell_type": "markdown",
   "metadata": {},
   "source": [
    "엔드포인트 삭제"
   ]
  },
  {
   "cell_type": "code",
   "execution_count": null,
   "metadata": {},
   "outputs": [],
   "source": [
    "# 실행 중인 모든 엔드포인트 삭제\n",
    "sagemaker_client = boto3_session.client('sagemaker')\n",
    "\n",
    "# 모든 엔드포인트 목록 가져오기\n",
    "endpoints = sagemaker_client.list_endpoints()['Endpoints']\n",
    "\n",
    "# 각 엔드포인트 삭제\n",
    "for endpoint in endpoints:\n",
    "    endpoint_name = endpoint['EndpointName']\n",
    "    try:\n",
    "        print(f\"{endpoint_name} 엔드포인트를 삭제 중입니다...\")\n",
    "        sagemaker_client.delete_endpoint(EndpointName=endpoint_name)\n",
    "        print(f\"{endpoint_name} 엔드포인트가 성공적으로 삭제되었습니다.\")\n",
    "    except Exception as e:\n",
    "        print(f\"{endpoint_name} 엔드포인트 삭제 중 오류 발생: {str(e)}\")\n",
    "\n",
    "print(\"모든 엔드포인트 삭제 작업이 완료되었습니다.\")"
   ]
  }
 ],
 "metadata": {
  "kernelspec": {
   "display_name": "Python 3",
   "language": "python",
   "name": "python3"
  },
  "language_info": {
   "codemirror_mode": {
    "name": "ipython",
    "version": 3
   },
   "file_extension": ".py",
   "mimetype": "text/x-python",
   "name": "python",
   "nbconvert_exporter": "python",
   "pygments_lexer": "ipython3",
   "version": "3.12.4"
  }
 },
 "nbformat": 4,
 "nbformat_minor": 2
}
