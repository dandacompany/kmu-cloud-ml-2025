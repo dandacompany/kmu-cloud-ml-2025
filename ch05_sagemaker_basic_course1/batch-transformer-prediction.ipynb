{
 "cells": [
  {
   "cell_type": "markdown",
   "metadata": {},
   "source": [
    "## 배치 트랜스포머 - 배치 예측"
   ]
  },
  {
   "cell_type": "markdown",
   "metadata": {},
   "source": [
    "라이브러리 준비"
   ]
  },
  {
   "cell_type": "code",
   "execution_count": 1,
   "metadata": {},
   "outputs": [],
   "source": [
    "import warnings\n",
    "warnings.filterwarnings('ignore')"
   ]
  },
  {
   "cell_type": "code",
   "execution_count": 2,
   "metadata": {},
   "outputs": [
    {
     "data": {
      "text/html": [
       "        <script type=\"text/javascript\">\n",
       "        window.PlotlyConfig = {MathJaxConfig: 'local'};\n",
       "        if (window.MathJax && window.MathJax.Hub && window.MathJax.Hub.Config) {window.MathJax.Hub.Config({SVG: {font: \"STIX-Web\"}});}\n",
       "        if (typeof require !== 'undefined') {\n",
       "        require.undef(\"plotly\");\n",
       "        requirejs.config({\n",
       "            paths: {\n",
       "                'plotly': ['https://cdn.plot.ly/plotly-2.32.0.min']\n",
       "            }\n",
       "        });\n",
       "        require(['plotly'], function(Plotly) {\n",
       "            window._Plotly = Plotly;\n",
       "        });\n",
       "        }\n",
       "        </script>\n",
       "        "
      ]
     },
     "metadata": {},
     "output_type": "display_data"
    }
   ],
   "source": [
    "import plotly.express as px\n",
    "import plotly.graph_objects as go\n",
    "from plotly.subplots import make_subplots\n",
    "import chart_studio.plotly as py\n",
    "import cufflinks as cf\n",
    "cf.go_offline(connected=True)"
   ]
  },
  {
   "cell_type": "code",
   "execution_count": 3,
   "metadata": {},
   "outputs": [],
   "source": [
    "import numpy as np\n",
    "import pandas as pd\n",
    "pd.set_option('display.max_columns', None)\n",
    "pd.set_option('display.max_rows', 500)\n",
    "pd.set_option('display.max_colwidth', None)\n",
    "pd.set_option('display.width', None)\n",
    "pd.set_option('display.max_colwidth', None)\n",
    "import awswrangler as wr"
   ]
  },
  {
   "cell_type": "code",
   "execution_count": 4,
   "metadata": {},
   "outputs": [
    {
     "name": "stdout",
     "output_type": "stream",
     "text": [
      "sagemaker.config INFO - Not applying SDK defaults from location: /Library/Application Support/sagemaker/config.yaml\n",
      "sagemaker.config INFO - Not applying SDK defaults from location: /Users/dante/Library/Application Support/sagemaker/config.yaml\n"
     ]
    },
    {
     "data": {
      "text/plain": [
       "True"
      ]
     },
     "execution_count": 4,
     "metadata": {},
     "output_type": "execute_result"
    }
   ],
   "source": [
    "import os\n",
    "import sagemaker\n",
    "import boto3\n",
    "from dotenv import load_dotenv\n",
    "load_dotenv()"
   ]
  },
  {
   "cell_type": "markdown",
   "metadata": {},
   "source": [
    "SageMaker 세션 및 역할 설정"
   ]
  },
  {
   "cell_type": "code",
   "execution_count": 5,
   "metadata": {},
   "outputs": [],
   "source": [
    "boto3_session = boto3.Session(profile_name='awstutor')\n",
    "sagemaker_session = sagemaker.Session(boto_session=boto3_session)\n",
    "role = os.environ.get('SAGEMAKER_EXECUTION_ROLE_ARN')"
   ]
  },
  {
   "cell_type": "markdown",
   "metadata": {},
   "source": [
    "S3 경로 설정"
   ]
  },
  {
   "cell_type": "code",
   "execution_count": 6,
   "metadata": {},
   "outputs": [],
   "source": [
    "bucket_name = 'dante-sagemaker'\n",
    "project_name = 'mushroom-classification'"
   ]
  },
  {
   "cell_type": "code",
   "execution_count": 7,
   "metadata": {},
   "outputs": [],
   "source": [
    "input_path = f's3://{bucket_name}/{project_name}/input'\n",
    "output_path = f's3://{bucket_name}/{project_name}/output'\n",
    "model_path = f's3://{bucket_name}/{project_name}/model'\n",
    "asset_path = f's3://{bucket_name}/{project_name}/asset'\n",
    "test_path = f'{input_path}/test/test.csv'"
   ]
  },
  {
   "cell_type": "code",
   "execution_count": 8,
   "metadata": {},
   "outputs": [],
   "source": [
    "import io\n",
    "import pickle\n",
    "from sagemaker.amazon.common import write_numpy_to_dense_tensor\n",
    "\n",
    "# RecordIO 형식으로 데이터를 변환하고 S3에 저장하는 헬퍼 함수\n",
    "def convert_to_recordio_protobuf(df, label_column, s3_path):\n",
    "    # 레이블과 특성 분리\n",
    "    labels = df[label_column].values\n",
    "    features = df.drop(columns=[label_column]).values\n",
    "    \n",
    "    # RecordIO-Protobuf 형식으로 변환\n",
    "    buf = io.BytesIO()\n",
    "    write_numpy_to_dense_tensor(buf, features, labels)\n",
    "    buf.seek(0)\n",
    "    \n",
    "    # S3에 업로드\n",
    "    wr.s3.upload(local_file=buf, path=s3_path, boto3_session=boto3_session)\n",
    "    print(f\"데이터가 {s3_path}에 RecordIO-Protobuf 형식으로 저장되었습니다.\")"
   ]
  },
  {
   "cell_type": "markdown",
   "metadata": {},
   "source": [
    "테스트 데이터셋을 입력 데이터로 재구성"
   ]
  },
  {
   "cell_type": "code",
   "execution_count": 9,
   "metadata": {},
   "outputs": [],
   "source": [
    "# S3에서 테스트 데이터를 읽어옵니다\n",
    "test_df = wr.s3.read_csv(test_path, header=None, boto3_session=boto3_session)\n",
    "\n",
    "# S3에서 특성 목록을 읽어옵니다\n",
    "features = wr.s3.read_csv(os.path.join(asset_path, 'features.csv'), header=None, boto3_session=boto3_session).values.flatten()\n",
    "\n",
    "# 테스트 데이터프레임에 열 이름을 지정합니다\n",
    "test_df.columns = ['poisonous'] + list(features)"
   ]
  },
  {
   "cell_type": "code",
   "execution_count": 10,
   "metadata": {},
   "outputs": [],
   "source": [
    "# 인코더 파일 경로 설정\n",
    "feature_encoders_filepath = 'assets/feature_encoders.pkl'\n",
    "label_encoder_filepath = 'assets/label_encoder.pkl'\n",
    "\n",
    "# S3에서 인코더 파일 다운로드\n",
    "wr.s3.download(os.path.join(asset_path, 'label_encoder.pkl'), label_encoder_filepath, boto3_session=boto3_session)\n",
    "wr.s3.download(os.path.join(asset_path, 'feature_encoders.pkl'), feature_encoders_filepath, boto3_session=boto3_session)\n",
    "\n",
    "# 인코더 파일 로드\n",
    "label_encoder = pickle.load(open(label_encoder_filepath, 'rb'))\n",
    "feature_encoders = pickle.load(open(feature_encoders_filepath, 'rb'))"
   ]
  },
  {
   "cell_type": "code",
   "execution_count": 11,
   "metadata": {},
   "outputs": [],
   "source": [
    "# test_df에 포함되지 않은 레이블도 처리하고 업데이트된 인코더를 S3에 업로드하도록 수정\n",
    "def safe_transform_and_update(encoder, data, feature_name):\n",
    "    unique_values = data.unique()\n",
    "    new_classes = set(unique_values) - set(encoder.classes_)\n",
    "    \n",
    "    if new_classes:\n",
    "        encoder.classes_ = np.concatenate([encoder.classes_, list(new_classes)])\n",
    "        feature_encoders[feature_name] = encoder  # 인코더 업데이트\n",
    "    \n",
    "    return encoder.transform(data)"
   ]
  },
  {
   "cell_type": "code",
   "execution_count": 12,
   "metadata": {},
   "outputs": [
    {
     "data": {
      "text/html": [
       "<div>\n",
       "<style scoped>\n",
       "    .dataframe tbody tr th:only-of-type {\n",
       "        vertical-align: middle;\n",
       "    }\n",
       "\n",
       "    .dataframe tbody tr th {\n",
       "        vertical-align: top;\n",
       "    }\n",
       "\n",
       "    .dataframe thead th {\n",
       "        text-align: right;\n",
       "    }\n",
       "</style>\n",
       "<table border=\"1\" class=\"dataframe\">\n",
       "  <thead>\n",
       "    <tr style=\"text-align: right;\">\n",
       "      <th></th>\n",
       "      <th>poisonous</th>\n",
       "      <th>cap-shape</th>\n",
       "      <th>cap-surface</th>\n",
       "      <th>cap-color</th>\n",
       "      <th>bruises</th>\n",
       "      <th>odor</th>\n",
       "      <th>gill-attachment</th>\n",
       "      <th>gill-spacing</th>\n",
       "      <th>gill-size</th>\n",
       "      <th>gill-color</th>\n",
       "      <th>stalk-shape</th>\n",
       "      <th>stalk-root</th>\n",
       "      <th>stalk-surface-above-ring</th>\n",
       "      <th>stalk-surface-below-ring</th>\n",
       "      <th>stalk-color-above-ring</th>\n",
       "      <th>stalk-color-below-ring</th>\n",
       "      <th>veil-type</th>\n",
       "      <th>veil-color</th>\n",
       "      <th>ring-number</th>\n",
       "      <th>ring-type</th>\n",
       "      <th>spore-print-color</th>\n",
       "      <th>population</th>\n",
       "      <th>habitat</th>\n",
       "    </tr>\n",
       "  </thead>\n",
       "  <tbody>\n",
       "    <tr>\n",
       "      <th>0</th>\n",
       "      <td>0</td>\n",
       "      <td>5</td>\n",
       "      <td>3</td>\n",
       "      <td>3</td>\n",
       "      <td>1</td>\n",
       "      <td>5</td>\n",
       "      <td>1</td>\n",
       "      <td>0</td>\n",
       "      <td>0</td>\n",
       "      <td>5</td>\n",
       "      <td>1</td>\n",
       "      <td>1</td>\n",
       "      <td>2</td>\n",
       "      <td>2</td>\n",
       "      <td>7</td>\n",
       "      <td>6</td>\n",
       "      <td>0</td>\n",
       "      <td>2</td>\n",
       "      <td>1</td>\n",
       "      <td>4</td>\n",
       "      <td>3</td>\n",
       "      <td>4</td>\n",
       "      <td>0</td>\n",
       "    </tr>\n",
       "    <tr>\n",
       "      <th>1</th>\n",
       "      <td>0</td>\n",
       "      <td>3</td>\n",
       "      <td>3</td>\n",
       "      <td>4</td>\n",
       "      <td>0</td>\n",
       "      <td>5</td>\n",
       "      <td>1</td>\n",
       "      <td>1</td>\n",
       "      <td>1</td>\n",
       "      <td>10</td>\n",
       "      <td>0</td>\n",
       "      <td>1</td>\n",
       "      <td>2</td>\n",
       "      <td>0</td>\n",
       "      <td>7</td>\n",
       "      <td>4</td>\n",
       "      <td>0</td>\n",
       "      <td>2</td>\n",
       "      <td>1</td>\n",
       "      <td>0</td>\n",
       "      <td>7</td>\n",
       "      <td>4</td>\n",
       "      <td>2</td>\n",
       "    </tr>\n",
       "    <tr>\n",
       "      <th>2</th>\n",
       "      <td>1</td>\n",
       "      <td>2</td>\n",
       "      <td>2</td>\n",
       "      <td>4</td>\n",
       "      <td>1</td>\n",
       "      <td>6</td>\n",
       "      <td>1</td>\n",
       "      <td>0</td>\n",
       "      <td>1</td>\n",
       "      <td>5</td>\n",
       "      <td>0</td>\n",
       "      <td>3</td>\n",
       "      <td>2</td>\n",
       "      <td>2</td>\n",
       "      <td>7</td>\n",
       "      <td>7</td>\n",
       "      <td>0</td>\n",
       "      <td>2</td>\n",
       "      <td>1</td>\n",
       "      <td>4</td>\n",
       "      <td>2</td>\n",
       "      <td>3</td>\n",
       "      <td>5</td>\n",
       "    </tr>\n",
       "    <tr>\n",
       "      <th>3</th>\n",
       "      <td>1</td>\n",
       "      <td>2</td>\n",
       "      <td>2</td>\n",
       "      <td>4</td>\n",
       "      <td>0</td>\n",
       "      <td>2</td>\n",
       "      <td>1</td>\n",
       "      <td>0</td>\n",
       "      <td>1</td>\n",
       "      <td>0</td>\n",
       "      <td>1</td>\n",
       "      <td>0</td>\n",
       "      <td>2</td>\n",
       "      <td>1</td>\n",
       "      <td>7</td>\n",
       "      <td>6</td>\n",
       "      <td>0</td>\n",
       "      <td>2</td>\n",
       "      <td>1</td>\n",
       "      <td>0</td>\n",
       "      <td>7</td>\n",
       "      <td>4</td>\n",
       "      <td>0</td>\n",
       "    </tr>\n",
       "    <tr>\n",
       "      <th>4</th>\n",
       "      <td>1</td>\n",
       "      <td>2</td>\n",
       "      <td>2</td>\n",
       "      <td>2</td>\n",
       "      <td>0</td>\n",
       "      <td>8</td>\n",
       "      <td>1</td>\n",
       "      <td>0</td>\n",
       "      <td>1</td>\n",
       "      <td>0</td>\n",
       "      <td>1</td>\n",
       "      <td>0</td>\n",
       "      <td>1</td>\n",
       "      <td>1</td>\n",
       "      <td>6</td>\n",
       "      <td>7</td>\n",
       "      <td>0</td>\n",
       "      <td>2</td>\n",
       "      <td>1</td>\n",
       "      <td>0</td>\n",
       "      <td>7</td>\n",
       "      <td>4</td>\n",
       "      <td>4</td>\n",
       "    </tr>\n",
       "  </tbody>\n",
       "</table>\n",
       "</div>"
      ],
      "text/plain": [
       "   poisonous  cap-shape  cap-surface  cap-color  bruises  odor  \\\n",
       "0          0          5            3          3        1     5   \n",
       "1          0          3            3          4        0     5   \n",
       "2          1          2            2          4        1     6   \n",
       "3          1          2            2          4        0     2   \n",
       "4          1          2            2          2        0     8   \n",
       "\n",
       "   gill-attachment  gill-spacing  gill-size  gill-color  stalk-shape  \\\n",
       "0                1             0          0           5            1   \n",
       "1                1             1          1          10            0   \n",
       "2                1             0          1           5            0   \n",
       "3                1             0          1           0            1   \n",
       "4                1             0          1           0            1   \n",
       "\n",
       "   stalk-root  stalk-surface-above-ring  stalk-surface-below-ring  \\\n",
       "0           1                         2                         2   \n",
       "1           1                         2                         0   \n",
       "2           3                         2                         2   \n",
       "3           0                         2                         1   \n",
       "4           0                         1                         1   \n",
       "\n",
       "   stalk-color-above-ring  stalk-color-below-ring  veil-type  veil-color  \\\n",
       "0                       7                       6          0           2   \n",
       "1                       7                       4          0           2   \n",
       "2                       7                       7          0           2   \n",
       "3                       7                       6          0           2   \n",
       "4                       6                       7          0           2   \n",
       "\n",
       "   ring-number  ring-type  spore-print-color  population  habitat  \n",
       "0            1          4                  3           4        0  \n",
       "1            1          0                  7           4        2  \n",
       "2            1          4                  2           3        5  \n",
       "3            1          0                  7           4        0  \n",
       "4            1          0                  7           4        4  "
      ]
     },
     "execution_count": 12,
     "metadata": {},
     "output_type": "execute_result"
    }
   ],
   "source": [
    "# 테스트 데이터 인코딩\n",
    "test_df[features] = test_df[features].apply(lambda x: safe_transform_and_update(feature_encoders[x.name], x, x.name))\n",
    "test_df['poisonous'] = label_encoder.transform(test_df['poisonous'])\n",
    "test_df.head()"
   ]
  },
  {
   "cell_type": "code",
   "execution_count": 13,
   "metadata": {},
   "outputs": [
    {
     "name": "stdout",
     "output_type": "stream",
     "text": [
      "데이터가 s3://dante-sagemaker/mushroom-classification/input/test/test.recordio에 RecordIO-Protobuf 형식으로 저장되었습니다.\n"
     ]
    }
   ],
   "source": [
    "# 테스트 데이터를 RecordIO-Protobuf 형식으로 변환하여 S3에 저장\n",
    "test_new_path = f\"{input_path}/test/test.recordio\"\n",
    "convert_to_recordio_protobuf(test_df, 'poisonous', test_new_path)"
   ]
  },
  {
   "cell_type": "code",
   "execution_count": 14,
   "metadata": {},
   "outputs": [],
   "source": [
    "# 업데이트된 인코더를 S3에 업로드\n",
    "with open(feature_encoders_filepath, 'wb') as f:\n",
    "    pickle.dump(feature_encoders, f)\n",
    "\n",
    "wr.s3.upload(feature_encoders_filepath, os.path.join(asset_path, 'feature_encoders.pkl'), boto3_session=boto3_session)"
   ]
  },
  {
   "cell_type": "markdown",
   "metadata": {},
   "source": [
    "배치 트랜스포머 준비"
   ]
  },
  {
   "cell_type": "code",
   "execution_count": 15,
   "metadata": {},
   "outputs": [
    {
     "data": {
      "text/plain": [
       "'s3://dante-sagemaker/mushroom-classification/output/mushroom-classification-2024-07-30-23-07-32-763/output/model.tar.gz'"
      ]
     },
     "execution_count": 15,
     "metadata": {},
     "output_type": "execute_result"
    }
   ],
   "source": [
    "# 모델 아티팩트에서 estimator 가져오기\n",
    "training_job_name = 'mushroom-classification-2024-07-30-23-07-32-763'\n",
    "# 모델 아티팩트 경로\n",
    "model_artifact = sagemaker_session.sagemaker_client.describe_training_job(\n",
    "    TrainingJobName=training_job_name\n",
    ")['ModelArtifacts']['S3ModelArtifacts']\n",
    "model_artifact"
   ]
  },
  {
   "cell_type": "code",
   "execution_count": 16,
   "metadata": {},
   "outputs": [],
   "source": [
    "# XGBoost 모델 생성\n",
    "from sagemaker.xgboost import XGBoostModel\n",
    "estimator = XGBoostModel(\n",
    "    model_data=model_artifact,\n",
    "    role=role,  # 이전에 정의한 IAM 역할\n",
    "    sagemaker_session=sagemaker_session,\n",
    "    framework_version='1.7-1',  # XGBoost 버전\n",
    "    py_version='py3',\n",
    ")"
   ]
  },
  {
   "cell_type": "code",
   "execution_count": 17,
   "metadata": {},
   "outputs": [],
   "source": [
    "# XGBoost 모델을 사용하여 배치 변환을 위한 트랜스포머 객체 생성\n",
    "xgb_transformer = estimator.transformer(\n",
    "    instance_count=1,  # 사용할 인스턴스 수\n",
    "    instance_type='ml.m5.xlarge',  # 사용할 인스턴스 유형\n",
    "    strategy='MultiRecord',  # 여러 레코드를 한 번에 처리하는 전략\n",
    "    assemble_with='Line',  # 출력을 줄 단위로 조립\n",
    "    output_path=output_path,  # 변환 결과를 저장할 S3 경로\n",
    ")"
   ]
  },
  {
   "cell_type": "markdown",
   "metadata": {},
   "source": [
    "배치 트랜스포머 실행"
   ]
  },
  {
   "cell_type": "code",
   "execution_count": 18,
   "metadata": {},
   "outputs": [
    {
     "name": "stderr",
     "output_type": "stream",
     "text": [
      "INFO:sagemaker:Creating transform job with name: sagemaker-xgboost-2024-08-01-11-28-42-189\n"
     ]
    },
    {
     "name": "stdout",
     "output_type": "stream",
     "text": [
      ".............................[2024-08-01:11:33:31:INFO] No GPUs detected (normal if no gpus installed)\n",
      "[2024-08-01:11:33:31:INFO] No GPUs detected (normal if no gpus installed)\n",
      "[2024-08-01:11:33:31:INFO] nginx config: \n",
      "worker_processes auto;\n",
      "daemon off;\n",
      "pid /tmp/nginx.pid;\n",
      "error_log  /dev/stderr;\n",
      "worker_rlimit_nofile 4096;\n",
      "events {\n",
      "  worker_connections 2048;\n",
      "}\n",
      "[2024-08-01:11:33:31:INFO] No GPUs detected (normal if no gpus installed)\n",
      "[2024-08-01:11:33:31:INFO] No GPUs detected (normal if no gpus installed)\n",
      "[2024-08-01:11:33:31:INFO] nginx config: \n",
      "worker_processes auto;\n",
      "daemon off;\n",
      "pid /tmp/nginx.pid;\n",
      "error_log  /dev/stderr;\n",
      "worker_rlimit_nofile 4096;\n",
      "events {\n",
      "  worker_connections 2048;\n",
      "}\n",
      "http {\n",
      "  include /etc/nginx/mime.types;\n",
      "  default_type application/octet-stream;\n",
      "  access_log /dev/stdout combined;\n",
      "  upstream gunicorn {\n",
      "    server unix:/tmp/gunicorn.sock;\n",
      "  }\n",
      "  server {\n",
      "    listen 8080 deferred;\n",
      "    client_max_body_size 0;\n",
      "    keepalive_timeout 3;\n",
      "    location ~ ^/(ping|invocations|execution-parameters) {\n",
      "      proxy_set_header X-Forwarded-For $proxy_add_x_forwarded_for;\n",
      "      proxy_set_header Host $http_host;\n",
      "      proxy_redirect off;\n",
      "      proxy_read_timeout 60s;\n",
      "      proxy_pass http://gunicorn;\n",
      "    }\n",
      "    location / {\n",
      "      return 404 \"{}\";\n",
      "    }\n",
      "  }\n",
      "}\n",
      "[2024-08-01 11:33:31 +0000] [19] [INFO] Starting gunicorn 19.10.0\n",
      "[2024-08-01 11:33:31 +0000] [19] [INFO] Listening at: unix:/tmp/gunicorn.sock (19)\n",
      "[2024-08-01 11:33:31 +0000] [19] [INFO] Using worker: gevent\n",
      "/miniconda3/lib/python3.8/os.py:1023: RuntimeWarning: line buffering (buffering=1) isn't supported in binary mode, the default buffer size will be used\n",
      "  return io.open(fd, *args, **kwargs)\n",
      "[2024-08-01 11:33:31 +0000] [25] [INFO] Booting worker with pid: 25\n",
      "[2024-08-01 11:33:31 +0000] [26] [INFO] Booting worker with pid: 26\n",
      "[2024-08-01 11:33:31 +0000] [27] [INFO] Booting worker with pid: 27\n",
      "[2024-08-01 11:33:31 +0000] [28] [INFO] Booting worker with pid: 28\n",
      "http {\n",
      "  include /etc/nginx/mime.types;\n",
      "  default_type application/octet-stream;\n",
      "  access_log /dev/stdout combined;\n",
      "  upstream gunicorn {\n",
      "    server unix:/tmp/gunicorn.sock;\n",
      "  }\n",
      "  server {\n",
      "    listen 8080 deferred;\n",
      "    client_max_body_size 0;\n",
      "    keepalive_timeout 3;\n",
      "    location ~ ^/(ping|invocations|execution-parameters) {\n",
      "      proxy_set_header X-Forwarded-For $proxy_add_x_forwarded_for;\n",
      "      proxy_set_header Host $http_host;\n",
      "      proxy_redirect off;\n",
      "      proxy_read_timeout 60s;\n",
      "      proxy_pass http://gunicorn;\n",
      "    }\n",
      "    location / {\n",
      "      return 404 \"{}\";\n",
      "    }\n",
      "  }\n",
      "}\n",
      "[2024-08-01 11:33:31 +0000] [19] [INFO] Starting gunicorn 19.10.0\n",
      "[2024-08-01 11:33:31 +0000] [19] [INFO] Listening at: unix:/tmp/gunicorn.sock (19)\n",
      "[2024-08-01 11:33:31 +0000] [19] [INFO] Using worker: gevent\n",
      "/miniconda3/lib/python3.8/os.py:1023: RuntimeWarning: line buffering (buffering=1) isn't supported in binary mode, the default buffer size will be used\n",
      "  return io.open(fd, *args, **kwargs)\n",
      "[2024-08-01 11:33:31 +0000] [25] [INFO] Booting worker with pid: 25\n",
      "[2024-08-01 11:33:31 +0000] [26] [INFO] Booting worker with pid: 26\n",
      "[2024-08-01 11:33:31 +0000] [27] [INFO] Booting worker with pid: 27\n",
      "[2024-08-01 11:33:31 +0000] [28] [INFO] Booting worker with pid: 28\n",
      "[2024-08-01:11:33:33:INFO] No GPUs detected (normal if no gpus installed)\n",
      "[2024-08-01:11:33:33:INFO] Loading the model from /opt/ml/model/xgboost-model\n",
      "[2024-08-01:11:33:33:INFO] Model objective : binary:logistic\n",
      "[2024-08-01:11:33:33:INFO] No GPUs detected (normal if no gpus installed)\n",
      "[2024-08-01:11:33:33:INFO] Loading the model from /opt/ml/model/xgboost-model\n",
      "[2024-08-01:11:33:33:INFO] Model objective : binary:logistic\n",
      "[2024-08-01:11:33:33:INFO] No GPUs detected (normal if no gpus installed)\n",
      "[2024-08-01:11:33:33:INFO] Loading the model from /opt/ml/model/xgboost-model\n",
      "[2024-08-01:11:33:33:INFO] Model objective : binary:logistic\n",
      "[2024-08-01:11:33:33:INFO] No GPUs detected (normal if no gpus installed)\n",
      "[2024-08-01:11:33:33:INFO] Loading the model from /opt/ml/model/xgboost-model\n",
      "[2024-08-01:11:33:33:INFO] Model objective : binary:logistic\n",
      "[2024-08-01:11:33:33:INFO] No GPUs detected (normal if no gpus installed)\n",
      "[2024-08-01:11:33:33:INFO] Loading the model from /opt/ml/model/xgboost-model\n",
      "[2024-08-01:11:33:33:INFO] Model objective : binary:logistic\n",
      "[2024-08-01:11:33:33:INFO] No GPUs detected (normal if no gpus installed)\n",
      "[2024-08-01:11:33:33:INFO] Loading the model from /opt/ml/model/xgboost-model\n",
      "[2024-08-01:11:33:33:INFO] Model objective : binary:logistic\n",
      "[2024-08-01:11:33:33:INFO] No GPUs detected (normal if no gpus installed)\n",
      "[2024-08-01:11:33:33:INFO] Loading the model from /opt/ml/model/xgboost-model\n",
      "[2024-08-01:11:33:33:INFO] Model objective : binary:logistic\n",
      "[2024-08-01:11:33:33:INFO] No GPUs detected (normal if no gpus installed)\n",
      "[2024-08-01:11:33:33:INFO] Loading the model from /opt/ml/model/xgboost-model\n",
      "[2024-08-01:11:33:33:INFO] Model objective : binary:logistic\n",
      "[2024-08-01:11:33:36:INFO] No GPUs detected (normal if no gpus installed)\n",
      "169.254.255.130 - - [01/Aug/2024:11:33:36 +0000] \"GET /ping HTTP/1.1\" 200 0 \"-\" \"Go-http-client/1.1\"\n",
      "169.254.255.130 - - [01/Aug/2024:11:33:36 +0000] \"GET /execution-parameters HTTP/1.1\" 200 84 \"-\" \"Go-http-client/1.1\"\n",
      "[2024-08-01:11:33:36:INFO] No GPUs detected (normal if no gpus installed)\n",
      "/miniconda3/lib/python3.8/site-packages/xgboost/core.py:122: UserWarning: ntree_limit is deprecated, use `iteration_range` or model slicing instead.\n",
      "  warnings.warn(\n",
      "169.254.255.130 - - [01/Aug/2024:11:33:36 +0000] \"POST /invocations HTTP/1.1\" 200 32584 \"-\" \"Go-http-client/1.1\"\n",
      "[2024-08-01:11:33:36:INFO] No GPUs detected (normal if no gpus installed)\n",
      "169.254.255.130 - - [01/Aug/2024:11:33:36 +0000] \"GET /ping HTTP/1.1\" 200 0 \"-\" \"Go-http-client/1.1\"\n",
      "169.254.255.130 - - [01/Aug/2024:11:33:36 +0000] \"GET /execution-parameters HTTP/1.1\" 200 84 \"-\" \"Go-http-client/1.1\"\n",
      "[2024-08-01:11:33:36:INFO] No GPUs detected (normal if no gpus installed)\n",
      "/miniconda3/lib/python3.8/site-packages/xgboost/core.py:122: UserWarning: ntree_limit is deprecated, use `iteration_range` or model slicing instead.\n",
      "  warnings.warn(\n",
      "169.254.255.130 - - [01/Aug/2024:11:33:36 +0000] \"POST /invocations HTTP/1.1\" 200 32584 \"-\" \"Go-http-client/1.1\"\n",
      "2024-08-01T11:33:36.418:[sagemaker logs]: MaxConcurrentTransforms=4, MaxPayloadInMB=6, BatchStrategy=MULTI_RECORD\n",
      "\n",
      "[2024-08-01:11:33:31:INFO] No GPUs detected (normal if no gpus installed)\n",
      "[2024-08-01:11:33:31:INFO] No GPUs detected (normal if no gpus installed)\n",
      "[2024-08-01:11:33:31:INFO] nginx config: \n",
      "worker_processes auto;\n",
      "daemon off;\n",
      "pid /tmp/nginx.pid;\n",
      "error_log  /dev/stderr;\n",
      "worker_rlimit_nofile 4096;\n",
      "events {\n",
      "  worker_connections 2048;\n",
      "}\n",
      "[2024-08-01:11:33:31:INFO] No GPUs detected (normal if no gpus installed)\n",
      "[2024-08-01:11:33:31:INFO] No GPUs detected (normal if no gpus installed)\n",
      "[2024-08-01:11:33:31:INFO] nginx config: \n",
      "worker_processes auto;\n",
      "daemon off;\n",
      "pid /tmp/nginx.pid;\n",
      "error_log  /dev/stderr;\n",
      "worker_rlimit_nofile 4096;\n",
      "events {\n",
      "  worker_connections 2048;\n",
      "}\n",
      "http {\n",
      "  include /etc/nginx/mime.types;\n",
      "  default_type application/octet-stream;\n",
      "  access_log /dev/stdout combined;\n",
      "  upstream gunicorn {\n",
      "    server unix:/tmp/gunicorn.sock;\n",
      "  }\n",
      "  server {\n",
      "    listen 8080 deferred;\n",
      "    client_max_body_size 0;\n",
      "    keepalive_timeout 3;\n",
      "    location ~ ^/(ping|invocations|execution-parameters) {\n",
      "      proxy_set_header X-Forwarded-For $proxy_add_x_forwarded_for;\n",
      "      proxy_set_header Host $http_host;\n",
      "      proxy_redirect off;\n",
      "      proxy_read_timeout 60s;\n",
      "      proxy_pass http://gunicorn;\n",
      "    }\n",
      "    location / {\n",
      "      return 404 \"{}\";\n",
      "    }\n",
      "  }\n",
      "}\n",
      "[2024-08-01 11:33:31 +0000] [19] [INFO] Starting gunicorn 19.10.0\n",
      "[2024-08-01 11:33:31 +0000] [19] [INFO] Listening at: unix:/tmp/gunicorn.sock (19)\n",
      "[2024-08-01 11:33:31 +0000] [19] [INFO] Using worker: gevent\n",
      "/miniconda3/lib/python3.8/os.py:1023: RuntimeWarning: line buffering (buffering=1) isn't supported in binary mode, the default buffer size will be used\n",
      "  return io.open(fd, *args, **kwargs)\n",
      "[2024-08-01 11:33:31 +0000] [25] [INFO] Booting worker with pid: 25\n",
      "[2024-08-01 11:33:31 +0000] [26] [INFO] Booting worker with pid: 26\n",
      "[2024-08-01 11:33:31 +0000] [27] [INFO] Booting worker with pid: 27\n",
      "[2024-08-01 11:33:31 +0000] [28] [INFO] Booting worker with pid: 28\n",
      "http {\n",
      "  include /etc/nginx/mime.types;\n",
      "  default_type application/octet-stream;\n",
      "  access_log /dev/stdout combined;\n",
      "  upstream gunicorn {\n",
      "    server unix:/tmp/gunicorn.sock;\n",
      "  }\n",
      "  server {\n",
      "    listen 8080 deferred;\n",
      "    client_max_body_size 0;\n",
      "    keepalive_timeout 3;\n",
      "    location ~ ^/(ping|invocations|execution-parameters) {\n",
      "      proxy_set_header X-Forwarded-For $proxy_add_x_forwarded_for;\n",
      "      proxy_set_header Host $http_host;\n",
      "      proxy_redirect off;\n",
      "      proxy_read_timeout 60s;\n",
      "      proxy_pass http://gunicorn;\n",
      "    }\n",
      "    location / {\n",
      "      return 404 \"{}\";\n",
      "    }\n",
      "  }\n",
      "}\n",
      "[2024-08-01 11:33:31 +0000] [19] [INFO] Starting gunicorn 19.10.0\n",
      "[2024-08-01 11:33:31 +0000] [19] [INFO] Listening at: unix:/tmp/gunicorn.sock (19)\n",
      "[2024-08-01 11:33:31 +0000] [19] [INFO] Using worker: gevent\n",
      "/miniconda3/lib/python3.8/os.py:1023: RuntimeWarning: line buffering (buffering=1) isn't supported in binary mode, the default buffer size will be used\n",
      "  return io.open(fd, *args, **kwargs)\n",
      "[2024-08-01 11:33:31 +0000] [25] [INFO] Booting worker with pid: 25\n",
      "[2024-08-01 11:33:31 +0000] [26] [INFO] Booting worker with pid: 26\n",
      "[2024-08-01 11:33:31 +0000] [27] [INFO] Booting worker with pid: 27\n",
      "[2024-08-01 11:33:31 +0000] [28] [INFO] Booting worker with pid: 28\n",
      "[2024-08-01:11:33:33:INFO] No GPUs detected (normal if no gpus installed)\n",
      "[2024-08-01:11:33:33:INFO] Loading the model from /opt/ml/model/xgboost-model\n",
      "[2024-08-01:11:33:33:INFO] Model objective : binary:logistic\n",
      "[2024-08-01:11:33:33:INFO] No GPUs detected (normal if no gpus installed)\n",
      "[2024-08-01:11:33:33:INFO] Loading the model from /opt/ml/model/xgboost-model\n",
      "[2024-08-01:11:33:33:INFO] Model objective : binary:logistic\n",
      "[2024-08-01:11:33:33:INFO] No GPUs detected (normal if no gpus installed)\n",
      "[2024-08-01:11:33:33:INFO] Loading the model from /opt/ml/model/xgboost-model\n",
      "[2024-08-01:11:33:33:INFO] Model objective : binary:logistic\n",
      "[2024-08-01:11:33:33:INFO] No GPUs detected (normal if no gpus installed)\n",
      "[2024-08-01:11:33:33:INFO] Loading the model from /opt/ml/model/xgboost-model\n",
      "[2024-08-01:11:33:33:INFO] Model objective : binary:logistic\n",
      "[2024-08-01:11:33:33:INFO] No GPUs detected (normal if no gpus installed)\n",
      "[2024-08-01:11:33:33:INFO] Loading the model from /opt/ml/model/xgboost-model\n",
      "[2024-08-01:11:33:33:INFO] Model objective : binary:logistic\n",
      "[2024-08-01:11:33:33:INFO] No GPUs detected (normal if no gpus installed)\n",
      "[2024-08-01:11:33:33:INFO] Loading the model from /opt/ml/model/xgboost-model\n",
      "[2024-08-01:11:33:33:INFO] Model objective : binary:logistic\n",
      "[2024-08-01:11:33:33:INFO] No GPUs detected (normal if no gpus installed)\n",
      "[2024-08-01:11:33:33:INFO] Loading the model from /opt/ml/model/xgboost-model\n",
      "[2024-08-01:11:33:33:INFO] Model objective : binary:logistic\n",
      "[2024-08-01:11:33:33:INFO] No GPUs detected (normal if no gpus installed)\n",
      "[2024-08-01:11:33:33:INFO] Loading the model from /opt/ml/model/xgboost-model\n",
      "[2024-08-01:11:33:33:INFO] Model objective : binary:logistic\n",
      "[2024-08-01:11:33:36:INFO] No GPUs detected (normal if no gpus installed)\n",
      "169.254.255.130 - - [01/Aug/2024:11:33:36 +0000] \"GET /ping HTTP/1.1\" 200 0 \"-\" \"Go-http-client/1.1\"\n",
      "169.254.255.130 - - [01/Aug/2024:11:33:36 +0000] \"GET /execution-parameters HTTP/1.1\" 200 84 \"-\" \"Go-http-client/1.1\"\n",
      "[2024-08-01:11:33:36:INFO] No GPUs detected (normal if no gpus installed)\n",
      "/miniconda3/lib/python3.8/site-packages/xgboost/core.py:122: UserWarning: ntree_limit is deprecated, use `iteration_range` or model slicing instead.\n",
      "  warnings.warn(\n",
      "169.254.255.130 - - [01/Aug/2024:11:33:36 +0000] \"POST /invocations HTTP/1.1\" 200 32584 \"-\" \"Go-http-client/1.1\"\n",
      "[2024-08-01:11:33:36:INFO] No GPUs detected (normal if no gpus installed)\n",
      "169.254.255.130 - - [01/Aug/2024:11:33:36 +0000] \"GET /ping HTTP/1.1\" 200 0 \"-\" \"Go-http-client/1.1\"\n",
      "169.254.255.130 - - [01/Aug/2024:11:33:36 +0000] \"GET /execution-parameters HTTP/1.1\" 200 84 \"-\" \"Go-http-client/1.1\"\n",
      "[2024-08-01:11:33:36:INFO] No GPUs detected (normal if no gpus installed)\n",
      "/miniconda3/lib/python3.8/site-packages/xgboost/core.py:122: UserWarning: ntree_limit is deprecated, use `iteration_range` or model slicing instead.\n",
      "  warnings.warn(\n",
      "169.254.255.130 - - [01/Aug/2024:11:33:36 +0000] \"POST /invocations HTTP/1.1\" 200 32584 \"-\" \"Go-http-client/1.1\"\n",
      "2024-08-01T11:33:36.418:[sagemaker logs]: MaxConcurrentTransforms=4, MaxPayloadInMB=6, BatchStrategy=MULTI_RECORD\n"
     ]
    }
   ],
   "source": [
    "xgb_transformer.transform(test_new_path, content_type='application/x-recordio-protobuf')\n",
    "xgb_transformer.wait()"
   ]
  },
  {
   "cell_type": "markdown",
   "metadata": {},
   "source": [
    "예측 평가"
   ]
  },
  {
   "cell_type": "code",
   "execution_count": 19,
   "metadata": {},
   "outputs": [
    {
     "name": "stdout",
     "output_type": "stream",
     "text": [
      "S3에서 발견된 .out 파일들:\n",
      "s3://dante-sagemaker/mushroom-classification/output/test.recordio.out\n"
     ]
    }
   ],
   "source": [
    "# .out 확장자로 끝나는 파일 조회\n",
    "out_files = wr.s3.list_objects(output_path, suffix='.out', boto3_session=boto3_session)\n",
    "\n",
    "print(\"S3에서 발견된 .out 파일들:\")\n",
    "for file in out_files:\n",
    "    print(file)"
   ]
  },
  {
   "cell_type": "code",
   "execution_count": 20,
   "metadata": {},
   "outputs": [
    {
     "name": "stdout",
     "output_type": "stream",
     "text": [
      "   prediction\n",
      "0    0.004635\n",
      "1    0.133454\n",
      "2    0.975551\n",
      "3    0.995080\n",
      "4    0.997364\n",
      "총 예측 수: 1625\n",
      "양성 예측 수: 782\n",
      "음성 예측 수: 843\n"
     ]
    }
   ],
   "source": [
    "df = wr.s3.read_csv(out_files[0], header=None, boto3_session=boto3_session)\n",
    "df.columns = ['prediction']\n",
    "\n",
    "# 결과 출력\n",
    "print(df.head())\n",
    "print(f\"총 예측 수: {len(df)}\")\n",
    "print(f\"양성 예측 수: {df[df['prediction'] >= 0.5].shape[0]}\")\n",
    "print(f\"음성 예측 수: {df[df['prediction'] < 0.5].shape[0]}\")\n"
   ]
  },
  {
   "cell_type": "code",
   "execution_count": 21,
   "metadata": {},
   "outputs": [
    {
     "name": "stdout",
     "output_type": "stream",
     "text": [
      "분류 보고서:\n",
      "              precision    recall  f1-score   support\n",
      "\n",
      "           0       1.00      1.00      1.00       842\n",
      "           1       1.00      1.00      1.00       783\n",
      "\n",
      "    accuracy                           1.00      1625\n",
      "   macro avg       1.00      1.00      1.00      1625\n",
      "weighted avg       1.00      1.00      1.00      1625\n",
      "\n"
     ]
    }
   ],
   "source": [
    "from sklearn.metrics import classification_report\n",
    "\n",
    "# 실제 레이블 가져오기\n",
    "actual_labels = test_df['poisonous']\n",
    "\n",
    "# 예측 레이블 생성 (0.5를 임계값으로 사용)\n",
    "predicted_labels = (df['prediction'] >= 0.5).astype(int)\n",
    "\n",
    "# 분류 보고서 생성\n",
    "report = classification_report(actual_labels, predicted_labels)\n",
    "\n",
    "print(\"분류 보고서:\")\n",
    "print(report)\n"
   ]
  }
 ],
 "metadata": {
  "kernelspec": {
   "display_name": "Python 3",
   "language": "python",
   "name": "python3"
  },
  "language_info": {
   "codemirror_mode": {
    "name": "ipython",
    "version": 3
   },
   "file_extension": ".py",
   "mimetype": "text/x-python",
   "name": "python",
   "nbconvert_exporter": "python",
   "pygments_lexer": "ipython3",
   "version": "3.12.4"
  }
 },
 "nbformat": 4,
 "nbformat_minor": 2
}
