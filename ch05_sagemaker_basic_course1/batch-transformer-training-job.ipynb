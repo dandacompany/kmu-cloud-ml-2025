{
 "cells": [
  {
   "cell_type": "markdown",
   "metadata": {},
   "source": [
    "## 배치 트랜스포머 - 분류 모델 훈련"
   ]
  },
  {
   "cell_type": "markdown",
   "metadata": {},
   "source": [
    "라이브러리 준비"
   ]
  },
  {
   "cell_type": "code",
   "execution_count": 1,
   "metadata": {},
   "outputs": [
    {
     "name": "stdout",
     "output_type": "stream",
     "text": [
      "Requirement already satisfied: ucimlrepo in /Users/dante/aws-ds-class/.conda/lib/python3.12/site-packages (0.0.7)\n",
      "Requirement already satisfied: pandas>=1.0.0 in /Users/dante/aws-ds-class/.conda/lib/python3.12/site-packages (from ucimlrepo) (2.2.2)\n",
      "Requirement already satisfied: certifi>=2020.12.5 in /Users/dante/aws-ds-class/.conda/lib/python3.12/site-packages (from ucimlrepo) (2024.7.4)\n",
      "Requirement already satisfied: numpy>=1.26.0 in /Users/dante/aws-ds-class/.conda/lib/python3.12/site-packages (from pandas>=1.0.0->ucimlrepo) (1.26.4)\n",
      "Requirement already satisfied: python-dateutil>=2.8.2 in /Users/dante/aws-ds-class/.conda/lib/python3.12/site-packages (from pandas>=1.0.0->ucimlrepo) (2.9.0)\n",
      "Requirement already satisfied: pytz>=2020.1 in /Users/dante/aws-ds-class/.conda/lib/python3.12/site-packages (from pandas>=1.0.0->ucimlrepo) (2024.1)\n",
      "Requirement already satisfied: tzdata>=2022.7 in /Users/dante/aws-ds-class/.conda/lib/python3.12/site-packages (from pandas>=1.0.0->ucimlrepo) (2024.1)\n",
      "Requirement already satisfied: six>=1.5 in /Users/dante/aws-ds-class/.conda/lib/python3.12/site-packages (from python-dateutil>=2.8.2->pandas>=1.0.0->ucimlrepo) (1.16.0)\n"
     ]
    }
   ],
   "source": [
    "!pip install ucimlrepo"
   ]
  },
  {
   "cell_type": "code",
   "execution_count": 121,
   "metadata": {},
   "outputs": [],
   "source": [
    "import warnings\n",
    "warnings.filterwarnings('ignore')"
   ]
  },
  {
   "cell_type": "code",
   "execution_count": 122,
   "metadata": {},
   "outputs": [
    {
     "data": {
      "text/html": [
       "        <script type=\"text/javascript\">\n",
       "        window.PlotlyConfig = {MathJaxConfig: 'local'};\n",
       "        if (window.MathJax && window.MathJax.Hub && window.MathJax.Hub.Config) {window.MathJax.Hub.Config({SVG: {font: \"STIX-Web\"}});}\n",
       "        if (typeof require !== 'undefined') {\n",
       "        require.undef(\"plotly\");\n",
       "        requirejs.config({\n",
       "            paths: {\n",
       "                'plotly': ['https://cdn.plot.ly/plotly-2.32.0.min']\n",
       "            }\n",
       "        });\n",
       "        require(['plotly'], function(Plotly) {\n",
       "            window._Plotly = Plotly;\n",
       "        });\n",
       "        }\n",
       "        </script>\n",
       "        "
      ]
     },
     "metadata": {},
     "output_type": "display_data"
    }
   ],
   "source": [
    "import plotly.express as px\n",
    "import plotly.graph_objects as go\n",
    "from plotly.subplots import make_subplots\n",
    "import chart_studio.plotly as py\n",
    "import cufflinks as cf\n",
    "cf.go_offline(connected=True)"
   ]
  },
  {
   "cell_type": "code",
   "execution_count": 123,
   "metadata": {},
   "outputs": [],
   "source": [
    "import numpy as np\n",
    "import pandas as pd\n",
    "pd.set_option('display.max_columns', None)\n",
    "pd.set_option('display.max_rows', 500)\n",
    "pd.set_option('display.max_colwidth', None)\n",
    "pd.set_option('display.width', None)\n",
    "pd.set_option('display.max_colwidth', None)\n",
    "import awswrangler as wr"
   ]
  },
  {
   "cell_type": "code",
   "execution_count": 124,
   "metadata": {},
   "outputs": [
    {
     "data": {
      "text/plain": [
       "True"
      ]
     },
     "execution_count": 124,
     "metadata": {},
     "output_type": "execute_result"
    }
   ],
   "source": [
    "import os\n",
    "import sagemaker\n",
    "import boto3\n",
    "from dotenv import load_dotenv\n",
    "load_dotenv()"
   ]
  },
  {
   "cell_type": "markdown",
   "metadata": {},
   "source": [
    "SageMaker 세션 및 역할 설정"
   ]
  },
  {
   "cell_type": "code",
   "execution_count": 125,
   "metadata": {},
   "outputs": [
    {
     "name": "stderr",
     "output_type": "stream",
     "text": [
      "INFO:botocore.credentials:Found credentials in shared credentials file: ~/.aws/credentials\n"
     ]
    }
   ],
   "source": [
    "boto3_session = boto3.Session(profile_name='awstutor')\n",
    "sagemaker_session = sagemaker.Session(boto_session=boto3_session)\n",
    "role = os.environ.get('SAGEMAKER_EXECUTION_ROLE_ARN')"
   ]
  },
  {
   "cell_type": "markdown",
   "metadata": {},
   "source": [
    "데이터셋 다운로드"
   ]
  },
  {
   "cell_type": "code",
   "execution_count": 126,
   "metadata": {},
   "outputs": [],
   "source": [
    "from ucimlrepo import fetch_ucirepo \n",
    "  \n",
    "# fetch dataset \n",
    "mushroom = fetch_ucirepo(id=73) \n",
    "  \n",
    "# data (as pandas dataframes) \n",
    "X = mushroom.data.features \n",
    "y = mushroom.data.targets "
   ]
  },
  {
   "cell_type": "markdown",
   "metadata": {},
   "source": [
    "데이터 확인"
   ]
  },
  {
   "cell_type": "code",
   "execution_count": 127,
   "metadata": {},
   "outputs": [
    {
     "data": {
      "text/plain": [
       "{'uci_id': 73,\n",
       " 'name': 'Mushroom',\n",
       " 'repository_url': 'https://archive.ics.uci.edu/dataset/73/mushroom',\n",
       " 'data_url': 'https://archive.ics.uci.edu/static/public/73/data.csv',\n",
       " 'abstract': 'From Audobon Society Field Guide; mushrooms described in terms of physical characteristics; classification: poisonous or edible',\n",
       " 'area': 'Biology',\n",
       " 'tasks': ['Classification'],\n",
       " 'characteristics': ['Multivariate'],\n",
       " 'num_instances': 8124,\n",
       " 'num_features': 22,\n",
       " 'feature_types': ['Categorical'],\n",
       " 'demographics': [],\n",
       " 'target_col': ['poisonous'],\n",
       " 'index_col': None,\n",
       " 'has_missing_values': 'yes',\n",
       " 'missing_values_symbol': 'NaN',\n",
       " 'year_of_dataset_creation': 1981,\n",
       " 'last_updated': 'Thu Aug 10 2023',\n",
       " 'dataset_doi': '10.24432/C5959T',\n",
       " 'creators': [],\n",
       " 'intro_paper': None,\n",
       " 'additional_info': {'summary': \"This data set includes descriptions of hypothetical samples corresponding to 23 species of gilled mushrooms in the Agaricus and Lepiota Family (pp. 500-525).  Each species is identified as definitely edible, definitely poisonous, or of unknown edibility and not recommended.  This latter class was combined with the poisonous one.  The Guide clearly states that there is no simple rule for determining the edibility of a mushroom; no rule like ``leaflets three, let it be'' for Poisonous Oak and Ivy.\",\n",
       "  'purpose': None,\n",
       "  'funded_by': None,\n",
       "  'instances_represent': None,\n",
       "  'recommended_data_splits': None,\n",
       "  'sensitive_data': None,\n",
       "  'preprocessing_description': None,\n",
       "  'variable_info': '     1. cap-shape:                bell=b,conical=c,convex=x,flat=f, knobbed=k,sunken=s\\r\\n     2. cap-surface:              fibrous=f,grooves=g,scaly=y,smooth=s\\r\\n     3. cap-color:                brown=n,buff=b,cinnamon=c,gray=g,green=r, pink=p,purple=u,red=e,white=w,yellow=y\\r\\n     4. bruises?:                 bruises=t,no=f\\r\\n     5. odor:                     almond=a,anise=l,creosote=c,fishy=y,foul=f, musty=m,none=n,pungent=p,spicy=s\\r\\n     6. gill-attachment:          attached=a,descending=d,free=f,notched=n\\r\\n     7. gill-spacing:             close=c,crowded=w,distant=d\\r\\n     8. gill-size:                broad=b,narrow=n\\r\\n     9. gill-color:               black=k,brown=n,buff=b,chocolate=h,gray=g, green=r,orange=o,pink=p,purple=u,red=e, white=w,yellow=y\\r\\n    10. stalk-shape:              enlarging=e,tapering=t\\r\\n    11. stalk-root:               bulbous=b,club=c,cup=u,equal=e, rhizomorphs=z,rooted=r,missing=?\\r\\n    12. stalk-surface-above-ring: fibrous=f,scaly=y,silky=k,smooth=s\\r\\n    13. stalk-surface-below-ring: fibrous=f,scaly=y,silky=k,smooth=s\\r\\n    14. stalk-color-above-ring:   brown=n,buff=b,cinnamon=c,gray=g,orange=o, pink=p,red=e,white=w,yellow=y\\r\\n    15. stalk-color-below-ring:   brown=n,buff=b,cinnamon=c,gray=g,orange=o, pink=p,red=e,white=w,yellow=y\\r\\n    16. veil-type:                partial=p,universal=u\\r\\n    17. veil-color:               brown=n,orange=o,white=w,yellow=y\\r\\n    18. ring-number:              none=n,one=o,two=t\\r\\n    19. ring-type:                cobwebby=c,evanescent=e,flaring=f,large=l, none=n,pendant=p,sheathing=s,zone=z\\r\\n    20. spore-print-color:        black=k,brown=n,buff=b,chocolate=h,green=r, orange=o,purple=u,white=w,yellow=y\\r\\n    21. population:               abundant=a,clustered=c,numerous=n, scattered=s,several=v,solitary=y\\r\\n    22. habitat:                  grasses=g,leaves=l,meadows=m,paths=p, urban=u,waste=w,woods=d',\n",
       "  'citation': None}}"
      ]
     },
     "execution_count": 127,
     "metadata": {},
     "output_type": "execute_result"
    }
   ],
   "source": [
    "mushroom.metadata"
   ]
  },
  {
   "cell_type": "code",
   "execution_count": 128,
   "metadata": {},
   "outputs": [
    {
     "data": {
      "text/html": [
       "<div>\n",
       "<style scoped>\n",
       "    .dataframe tbody tr th:only-of-type {\n",
       "        vertical-align: middle;\n",
       "    }\n",
       "\n",
       "    .dataframe tbody tr th {\n",
       "        vertical-align: top;\n",
       "    }\n",
       "\n",
       "    .dataframe thead th {\n",
       "        text-align: right;\n",
       "    }\n",
       "</style>\n",
       "<table border=\"1\" class=\"dataframe\">\n",
       "  <thead>\n",
       "    <tr style=\"text-align: right;\">\n",
       "      <th></th>\n",
       "      <th>name</th>\n",
       "      <th>role</th>\n",
       "      <th>type</th>\n",
       "      <th>demographic</th>\n",
       "      <th>description</th>\n",
       "      <th>units</th>\n",
       "      <th>missing_values</th>\n",
       "    </tr>\n",
       "  </thead>\n",
       "  <tbody>\n",
       "    <tr>\n",
       "      <th>0</th>\n",
       "      <td>poisonous</td>\n",
       "      <td>Target</td>\n",
       "      <td>Categorical</td>\n",
       "      <td>None</td>\n",
       "      <td>None</td>\n",
       "      <td>None</td>\n",
       "      <td>no</td>\n",
       "    </tr>\n",
       "    <tr>\n",
       "      <th>1</th>\n",
       "      <td>cap-shape</td>\n",
       "      <td>Feature</td>\n",
       "      <td>Categorical</td>\n",
       "      <td>None</td>\n",
       "      <td>bell=b,conical=c,convex=x,flat=f, knobbed=k,sunken=s</td>\n",
       "      <td>None</td>\n",
       "      <td>no</td>\n",
       "    </tr>\n",
       "    <tr>\n",
       "      <th>2</th>\n",
       "      <td>cap-surface</td>\n",
       "      <td>Feature</td>\n",
       "      <td>Categorical</td>\n",
       "      <td>None</td>\n",
       "      <td>fibrous=f,grooves=g,scaly=y,smooth=s</td>\n",
       "      <td>None</td>\n",
       "      <td>no</td>\n",
       "    </tr>\n",
       "    <tr>\n",
       "      <th>3</th>\n",
       "      <td>cap-color</td>\n",
       "      <td>Feature</td>\n",
       "      <td>Binary</td>\n",
       "      <td>None</td>\n",
       "      <td>brown=n,buff=b,cinnamon=c,gray=g,green=r, pink=p,purple=u,red=e,white=w,yellow=y</td>\n",
       "      <td>None</td>\n",
       "      <td>no</td>\n",
       "    </tr>\n",
       "    <tr>\n",
       "      <th>4</th>\n",
       "      <td>bruises</td>\n",
       "      <td>Feature</td>\n",
       "      <td>Categorical</td>\n",
       "      <td>None</td>\n",
       "      <td>bruises=t,no=f</td>\n",
       "      <td>None</td>\n",
       "      <td>no</td>\n",
       "    </tr>\n",
       "    <tr>\n",
       "      <th>5</th>\n",
       "      <td>odor</td>\n",
       "      <td>Feature</td>\n",
       "      <td>Categorical</td>\n",
       "      <td>None</td>\n",
       "      <td>almond=a,anise=l,creosote=c,fishy=y,foul=f, musty=m,none=n,pungent=p,spicy=s</td>\n",
       "      <td>None</td>\n",
       "      <td>no</td>\n",
       "    </tr>\n",
       "    <tr>\n",
       "      <th>6</th>\n",
       "      <td>gill-attachment</td>\n",
       "      <td>Feature</td>\n",
       "      <td>Categorical</td>\n",
       "      <td>None</td>\n",
       "      <td>attached=a,descending=d,free=f,notched=n</td>\n",
       "      <td>None</td>\n",
       "      <td>no</td>\n",
       "    </tr>\n",
       "    <tr>\n",
       "      <th>7</th>\n",
       "      <td>gill-spacing</td>\n",
       "      <td>Feature</td>\n",
       "      <td>Categorical</td>\n",
       "      <td>None</td>\n",
       "      <td>close=c,crowded=w,distant=d</td>\n",
       "      <td>None</td>\n",
       "      <td>no</td>\n",
       "    </tr>\n",
       "    <tr>\n",
       "      <th>8</th>\n",
       "      <td>gill-size</td>\n",
       "      <td>Feature</td>\n",
       "      <td>Categorical</td>\n",
       "      <td>None</td>\n",
       "      <td>broad=b,narrow=n</td>\n",
       "      <td>None</td>\n",
       "      <td>no</td>\n",
       "    </tr>\n",
       "    <tr>\n",
       "      <th>9</th>\n",
       "      <td>gill-color</td>\n",
       "      <td>Feature</td>\n",
       "      <td>Categorical</td>\n",
       "      <td>None</td>\n",
       "      <td>black=k,brown=n,buff=b,chocolate=h,gray=g, green=r,orange=o,pink=p,purple=u,red=e, white=w,yellow=y</td>\n",
       "      <td>None</td>\n",
       "      <td>no</td>\n",
       "    </tr>\n",
       "    <tr>\n",
       "      <th>10</th>\n",
       "      <td>stalk-shape</td>\n",
       "      <td>Feature</td>\n",
       "      <td>Categorical</td>\n",
       "      <td>None</td>\n",
       "      <td>enlarging=e,tapering=t</td>\n",
       "      <td>None</td>\n",
       "      <td>no</td>\n",
       "    </tr>\n",
       "    <tr>\n",
       "      <th>11</th>\n",
       "      <td>stalk-root</td>\n",
       "      <td>Feature</td>\n",
       "      <td>Categorical</td>\n",
       "      <td>None</td>\n",
       "      <td>bulbous=b,club=c,cup=u,equal=e, rhizomorphs=z,rooted=r,missing=?</td>\n",
       "      <td>None</td>\n",
       "      <td>yes</td>\n",
       "    </tr>\n",
       "    <tr>\n",
       "      <th>12</th>\n",
       "      <td>stalk-surface-above-ring</td>\n",
       "      <td>Feature</td>\n",
       "      <td>Categorical</td>\n",
       "      <td>None</td>\n",
       "      <td>fibrous=f,scaly=y,silky=k,smooth=s</td>\n",
       "      <td>None</td>\n",
       "      <td>no</td>\n",
       "    </tr>\n",
       "    <tr>\n",
       "      <th>13</th>\n",
       "      <td>stalk-surface-below-ring</td>\n",
       "      <td>Feature</td>\n",
       "      <td>Categorical</td>\n",
       "      <td>None</td>\n",
       "      <td>fibrous=f,scaly=y,silky=k,smooth=s</td>\n",
       "      <td>None</td>\n",
       "      <td>no</td>\n",
       "    </tr>\n",
       "    <tr>\n",
       "      <th>14</th>\n",
       "      <td>stalk-color-above-ring</td>\n",
       "      <td>Feature</td>\n",
       "      <td>Categorical</td>\n",
       "      <td>None</td>\n",
       "      <td>brown=n,buff=b,cinnamon=c,gray=g,orange=o, pink=p,red=e,white=w,yellow=y</td>\n",
       "      <td>None</td>\n",
       "      <td>no</td>\n",
       "    </tr>\n",
       "    <tr>\n",
       "      <th>15</th>\n",
       "      <td>stalk-color-below-ring</td>\n",
       "      <td>Feature</td>\n",
       "      <td>Categorical</td>\n",
       "      <td>None</td>\n",
       "      <td>brown=n,buff=b,cinnamon=c,gray=g,orange=o, pink=p,red=e,white=w,yellow=y</td>\n",
       "      <td>None</td>\n",
       "      <td>no</td>\n",
       "    </tr>\n",
       "    <tr>\n",
       "      <th>16</th>\n",
       "      <td>veil-type</td>\n",
       "      <td>Feature</td>\n",
       "      <td>Binary</td>\n",
       "      <td>None</td>\n",
       "      <td>partial=p,universal=u</td>\n",
       "      <td>None</td>\n",
       "      <td>no</td>\n",
       "    </tr>\n",
       "    <tr>\n",
       "      <th>17</th>\n",
       "      <td>veil-color</td>\n",
       "      <td>Feature</td>\n",
       "      <td>Categorical</td>\n",
       "      <td>None</td>\n",
       "      <td>brown=n,orange=o,white=w,yellow=y</td>\n",
       "      <td>None</td>\n",
       "      <td>no</td>\n",
       "    </tr>\n",
       "    <tr>\n",
       "      <th>18</th>\n",
       "      <td>ring-number</td>\n",
       "      <td>Feature</td>\n",
       "      <td>Categorical</td>\n",
       "      <td>None</td>\n",
       "      <td>none=n,one=o,two=t</td>\n",
       "      <td>None</td>\n",
       "      <td>no</td>\n",
       "    </tr>\n",
       "    <tr>\n",
       "      <th>19</th>\n",
       "      <td>ring-type</td>\n",
       "      <td>Feature</td>\n",
       "      <td>Categorical</td>\n",
       "      <td>None</td>\n",
       "      <td>cobwebby=c,evanescent=e,flaring=f,large=l, none=n,pendant=p,sheathing=s,zone=z</td>\n",
       "      <td>None</td>\n",
       "      <td>no</td>\n",
       "    </tr>\n",
       "    <tr>\n",
       "      <th>20</th>\n",
       "      <td>spore-print-color</td>\n",
       "      <td>Feature</td>\n",
       "      <td>Categorical</td>\n",
       "      <td>None</td>\n",
       "      <td>black=k,brown=n,buff=b,chocolate=h,green=r, orange=o,purple=u,white=w,yellow=y</td>\n",
       "      <td>None</td>\n",
       "      <td>no</td>\n",
       "    </tr>\n",
       "    <tr>\n",
       "      <th>21</th>\n",
       "      <td>population</td>\n",
       "      <td>Feature</td>\n",
       "      <td>Categorical</td>\n",
       "      <td>None</td>\n",
       "      <td>abundant=a,clustered=c,numerous=n, scattered=s,several=v,solitary=y</td>\n",
       "      <td>None</td>\n",
       "      <td>no</td>\n",
       "    </tr>\n",
       "    <tr>\n",
       "      <th>22</th>\n",
       "      <td>habitat</td>\n",
       "      <td>Feature</td>\n",
       "      <td>Categorical</td>\n",
       "      <td>None</td>\n",
       "      <td>grasses=g,leaves=l,meadows=m,paths=p, urban=u,waste=w,woods=d</td>\n",
       "      <td>None</td>\n",
       "      <td>no</td>\n",
       "    </tr>\n",
       "  </tbody>\n",
       "</table>\n",
       "</div>"
      ],
      "text/plain": [
       "                        name     role         type demographic  \\\n",
       "0                  poisonous   Target  Categorical        None   \n",
       "1                  cap-shape  Feature  Categorical        None   \n",
       "2                cap-surface  Feature  Categorical        None   \n",
       "3                  cap-color  Feature       Binary        None   \n",
       "4                    bruises  Feature  Categorical        None   \n",
       "5                       odor  Feature  Categorical        None   \n",
       "6            gill-attachment  Feature  Categorical        None   \n",
       "7               gill-spacing  Feature  Categorical        None   \n",
       "8                  gill-size  Feature  Categorical        None   \n",
       "9                 gill-color  Feature  Categorical        None   \n",
       "10               stalk-shape  Feature  Categorical        None   \n",
       "11                stalk-root  Feature  Categorical        None   \n",
       "12  stalk-surface-above-ring  Feature  Categorical        None   \n",
       "13  stalk-surface-below-ring  Feature  Categorical        None   \n",
       "14    stalk-color-above-ring  Feature  Categorical        None   \n",
       "15    stalk-color-below-ring  Feature  Categorical        None   \n",
       "16                 veil-type  Feature       Binary        None   \n",
       "17                veil-color  Feature  Categorical        None   \n",
       "18               ring-number  Feature  Categorical        None   \n",
       "19                 ring-type  Feature  Categorical        None   \n",
       "20         spore-print-color  Feature  Categorical        None   \n",
       "21                population  Feature  Categorical        None   \n",
       "22                   habitat  Feature  Categorical        None   \n",
       "\n",
       "                                                                                            description  \\\n",
       "0                                                                                                  None   \n",
       "1                                                  bell=b,conical=c,convex=x,flat=f, knobbed=k,sunken=s   \n",
       "2                                                                  fibrous=f,grooves=g,scaly=y,smooth=s   \n",
       "3                      brown=n,buff=b,cinnamon=c,gray=g,green=r, pink=p,purple=u,red=e,white=w,yellow=y   \n",
       "4                                                                                        bruises=t,no=f   \n",
       "5                          almond=a,anise=l,creosote=c,fishy=y,foul=f, musty=m,none=n,pungent=p,spicy=s   \n",
       "6                                                              attached=a,descending=d,free=f,notched=n   \n",
       "7                                                                           close=c,crowded=w,distant=d   \n",
       "8                                                                                      broad=b,narrow=n   \n",
       "9   black=k,brown=n,buff=b,chocolate=h,gray=g, green=r,orange=o,pink=p,purple=u,red=e, white=w,yellow=y   \n",
       "10                                                                               enlarging=e,tapering=t   \n",
       "11                                     bulbous=b,club=c,cup=u,equal=e, rhizomorphs=z,rooted=r,missing=?   \n",
       "12                                                                   fibrous=f,scaly=y,silky=k,smooth=s   \n",
       "13                                                                   fibrous=f,scaly=y,silky=k,smooth=s   \n",
       "14                             brown=n,buff=b,cinnamon=c,gray=g,orange=o, pink=p,red=e,white=w,yellow=y   \n",
       "15                             brown=n,buff=b,cinnamon=c,gray=g,orange=o, pink=p,red=e,white=w,yellow=y   \n",
       "16                                                                                partial=p,universal=u   \n",
       "17                                                                    brown=n,orange=o,white=w,yellow=y   \n",
       "18                                                                                   none=n,one=o,two=t   \n",
       "19                       cobwebby=c,evanescent=e,flaring=f,large=l, none=n,pendant=p,sheathing=s,zone=z   \n",
       "20                       black=k,brown=n,buff=b,chocolate=h,green=r, orange=o,purple=u,white=w,yellow=y   \n",
       "21                                  abundant=a,clustered=c,numerous=n, scattered=s,several=v,solitary=y   \n",
       "22                                        grasses=g,leaves=l,meadows=m,paths=p, urban=u,waste=w,woods=d   \n",
       "\n",
       "   units missing_values  \n",
       "0   None             no  \n",
       "1   None             no  \n",
       "2   None             no  \n",
       "3   None             no  \n",
       "4   None             no  \n",
       "5   None             no  \n",
       "6   None             no  \n",
       "7   None             no  \n",
       "8   None             no  \n",
       "9   None             no  \n",
       "10  None             no  \n",
       "11  None            yes  \n",
       "12  None             no  \n",
       "13  None             no  \n",
       "14  None             no  \n",
       "15  None             no  \n",
       "16  None             no  \n",
       "17  None             no  \n",
       "18  None             no  \n",
       "19  None             no  \n",
       "20  None             no  \n",
       "21  None             no  \n",
       "22  None             no  "
      ]
     },
     "execution_count": 128,
     "metadata": {},
     "output_type": "execute_result"
    }
   ],
   "source": [
    "mushroom.variables"
   ]
  },
  {
   "cell_type": "code",
   "execution_count": 129,
   "metadata": {},
   "outputs": [
    {
     "data": {
      "text/html": [
       "<div>\n",
       "<style scoped>\n",
       "    .dataframe tbody tr th:only-of-type {\n",
       "        vertical-align: middle;\n",
       "    }\n",
       "\n",
       "    .dataframe tbody tr th {\n",
       "        vertical-align: top;\n",
       "    }\n",
       "\n",
       "    .dataframe thead th {\n",
       "        text-align: right;\n",
       "    }\n",
       "</style>\n",
       "<table border=\"1\" class=\"dataframe\">\n",
       "  <thead>\n",
       "    <tr style=\"text-align: right;\">\n",
       "      <th></th>\n",
       "      <th>poisonous</th>\n",
       "    </tr>\n",
       "  </thead>\n",
       "  <tbody>\n",
       "    <tr>\n",
       "      <th>count</th>\n",
       "      <td>8124</td>\n",
       "    </tr>\n",
       "    <tr>\n",
       "      <th>unique</th>\n",
       "      <td>2</td>\n",
       "    </tr>\n",
       "    <tr>\n",
       "      <th>top</th>\n",
       "      <td>e</td>\n",
       "    </tr>\n",
       "    <tr>\n",
       "      <th>freq</th>\n",
       "      <td>4208</td>\n",
       "    </tr>\n",
       "  </tbody>\n",
       "</table>\n",
       "</div>"
      ],
      "text/plain": [
       "       poisonous\n",
       "count       8124\n",
       "unique         2\n",
       "top            e\n",
       "freq        4208"
      ]
     },
     "execution_count": 129,
     "metadata": {},
     "output_type": "execute_result"
    }
   ],
   "source": [
    "y.describe()"
   ]
  },
  {
   "cell_type": "code",
   "execution_count": 130,
   "metadata": {},
   "outputs": [
    {
     "data": {
      "text/html": [
       "<div>\n",
       "<style scoped>\n",
       "    .dataframe tbody tr th:only-of-type {\n",
       "        vertical-align: middle;\n",
       "    }\n",
       "\n",
       "    .dataframe tbody tr th {\n",
       "        vertical-align: top;\n",
       "    }\n",
       "\n",
       "    .dataframe thead th {\n",
       "        text-align: right;\n",
       "    }\n",
       "</style>\n",
       "<table border=\"1\" class=\"dataframe\">\n",
       "  <thead>\n",
       "    <tr style=\"text-align: right;\">\n",
       "      <th></th>\n",
       "      <th>cap-shape</th>\n",
       "      <th>cap-surface</th>\n",
       "      <th>cap-color</th>\n",
       "      <th>bruises</th>\n",
       "      <th>odor</th>\n",
       "      <th>gill-attachment</th>\n",
       "      <th>gill-spacing</th>\n",
       "      <th>gill-size</th>\n",
       "      <th>gill-color</th>\n",
       "      <th>stalk-shape</th>\n",
       "      <th>stalk-root</th>\n",
       "      <th>stalk-surface-above-ring</th>\n",
       "      <th>stalk-surface-below-ring</th>\n",
       "      <th>stalk-color-above-ring</th>\n",
       "      <th>stalk-color-below-ring</th>\n",
       "      <th>veil-type</th>\n",
       "      <th>veil-color</th>\n",
       "      <th>ring-number</th>\n",
       "      <th>ring-type</th>\n",
       "      <th>spore-print-color</th>\n",
       "      <th>population</th>\n",
       "      <th>habitat</th>\n",
       "    </tr>\n",
       "  </thead>\n",
       "  <tbody>\n",
       "    <tr>\n",
       "      <th>count</th>\n",
       "      <td>8124</td>\n",
       "      <td>8124</td>\n",
       "      <td>8124</td>\n",
       "      <td>8124</td>\n",
       "      <td>8124</td>\n",
       "      <td>8124</td>\n",
       "      <td>8124</td>\n",
       "      <td>8124</td>\n",
       "      <td>8124</td>\n",
       "      <td>8124</td>\n",
       "      <td>5644</td>\n",
       "      <td>8124</td>\n",
       "      <td>8124</td>\n",
       "      <td>8124</td>\n",
       "      <td>8124</td>\n",
       "      <td>8124</td>\n",
       "      <td>8124</td>\n",
       "      <td>8124</td>\n",
       "      <td>8124</td>\n",
       "      <td>8124</td>\n",
       "      <td>8124</td>\n",
       "      <td>8124</td>\n",
       "    </tr>\n",
       "    <tr>\n",
       "      <th>unique</th>\n",
       "      <td>6</td>\n",
       "      <td>4</td>\n",
       "      <td>10</td>\n",
       "      <td>2</td>\n",
       "      <td>9</td>\n",
       "      <td>2</td>\n",
       "      <td>2</td>\n",
       "      <td>2</td>\n",
       "      <td>12</td>\n",
       "      <td>2</td>\n",
       "      <td>4</td>\n",
       "      <td>4</td>\n",
       "      <td>4</td>\n",
       "      <td>9</td>\n",
       "      <td>9</td>\n",
       "      <td>1</td>\n",
       "      <td>4</td>\n",
       "      <td>3</td>\n",
       "      <td>5</td>\n",
       "      <td>9</td>\n",
       "      <td>6</td>\n",
       "      <td>7</td>\n",
       "    </tr>\n",
       "    <tr>\n",
       "      <th>top</th>\n",
       "      <td>x</td>\n",
       "      <td>y</td>\n",
       "      <td>n</td>\n",
       "      <td>f</td>\n",
       "      <td>n</td>\n",
       "      <td>f</td>\n",
       "      <td>c</td>\n",
       "      <td>b</td>\n",
       "      <td>b</td>\n",
       "      <td>t</td>\n",
       "      <td>b</td>\n",
       "      <td>s</td>\n",
       "      <td>s</td>\n",
       "      <td>w</td>\n",
       "      <td>w</td>\n",
       "      <td>p</td>\n",
       "      <td>w</td>\n",
       "      <td>o</td>\n",
       "      <td>p</td>\n",
       "      <td>w</td>\n",
       "      <td>v</td>\n",
       "      <td>d</td>\n",
       "    </tr>\n",
       "    <tr>\n",
       "      <th>freq</th>\n",
       "      <td>3656</td>\n",
       "      <td>3244</td>\n",
       "      <td>2284</td>\n",
       "      <td>4748</td>\n",
       "      <td>3528</td>\n",
       "      <td>7914</td>\n",
       "      <td>6812</td>\n",
       "      <td>5612</td>\n",
       "      <td>1728</td>\n",
       "      <td>4608</td>\n",
       "      <td>3776</td>\n",
       "      <td>5176</td>\n",
       "      <td>4936</td>\n",
       "      <td>4464</td>\n",
       "      <td>4384</td>\n",
       "      <td>8124</td>\n",
       "      <td>7924</td>\n",
       "      <td>7488</td>\n",
       "      <td>3968</td>\n",
       "      <td>2388</td>\n",
       "      <td>4040</td>\n",
       "      <td>3148</td>\n",
       "    </tr>\n",
       "  </tbody>\n",
       "</table>\n",
       "</div>"
      ],
      "text/plain": [
       "       cap-shape cap-surface cap-color bruises  odor gill-attachment  \\\n",
       "count       8124        8124      8124    8124  8124            8124   \n",
       "unique         6           4        10       2     9               2   \n",
       "top            x           y         n       f     n               f   \n",
       "freq        3656        3244      2284    4748  3528            7914   \n",
       "\n",
       "       gill-spacing gill-size gill-color stalk-shape stalk-root  \\\n",
       "count          8124      8124       8124        8124       5644   \n",
       "unique            2         2         12           2          4   \n",
       "top               c         b          b           t          b   \n",
       "freq           6812      5612       1728        4608       3776   \n",
       "\n",
       "       stalk-surface-above-ring stalk-surface-below-ring  \\\n",
       "count                      8124                     8124   \n",
       "unique                        4                        4   \n",
       "top                           s                        s   \n",
       "freq                       5176                     4936   \n",
       "\n",
       "       stalk-color-above-ring stalk-color-below-ring veil-type veil-color  \\\n",
       "count                    8124                   8124      8124       8124   \n",
       "unique                      9                      9         1          4   \n",
       "top                         w                      w         p          w   \n",
       "freq                     4464                   4384      8124       7924   \n",
       "\n",
       "       ring-number ring-type spore-print-color population habitat  \n",
       "count         8124      8124              8124       8124    8124  \n",
       "unique           3         5                 9          6       7  \n",
       "top              o         p                 w          v       d  \n",
       "freq          7488      3968              2388       4040    3148  "
      ]
     },
     "execution_count": 130,
     "metadata": {},
     "output_type": "execute_result"
    }
   ],
   "source": [
    "X.describe()"
   ]
  },
  {
   "cell_type": "markdown",
   "metadata": {},
   "source": [
    "데이터 전처리"
   ]
  },
  {
   "cell_type": "code",
   "execution_count": 131,
   "metadata": {},
   "outputs": [
    {
     "data": {
      "text/plain": [
       "cap-shape                      0\n",
       "cap-surface                    0\n",
       "cap-color                      0\n",
       "bruises                        0\n",
       "odor                           0\n",
       "gill-attachment                0\n",
       "gill-spacing                   0\n",
       "gill-size                      0\n",
       "gill-color                     0\n",
       "stalk-shape                    0\n",
       "stalk-root                  2480\n",
       "stalk-surface-above-ring       0\n",
       "stalk-surface-below-ring       0\n",
       "stalk-color-above-ring         0\n",
       "stalk-color-below-ring         0\n",
       "veil-type                      0\n",
       "veil-color                     0\n",
       "ring-number                    0\n",
       "ring-type                      0\n",
       "spore-print-color              0\n",
       "population                     0\n",
       "habitat                        0\n",
       "dtype: int64"
      ]
     },
     "execution_count": 131,
     "metadata": {},
     "output_type": "execute_result"
    }
   ],
   "source": [
    "X.isna().sum()"
   ]
  },
  {
   "cell_type": "code",
   "execution_count": 132,
   "metadata": {},
   "outputs": [],
   "source": [
    "X['stalk-root'] = X['stalk-root'].fillna('Unknown')"
   ]
  },
  {
   "cell_type": "code",
   "execution_count": 133,
   "metadata": {},
   "outputs": [],
   "source": [
    "df = pd.concat([y, X], axis=1)"
   ]
  },
  {
   "cell_type": "code",
   "execution_count": 134,
   "metadata": {},
   "outputs": [
    {
     "name": "stdout",
     "output_type": "stream",
     "text": [
      "훈련 데이터 크기: 4874\n",
      "검증 데이터 크기: 1625\n",
      "테스트 데이터 크기: 1625\n"
     ]
    }
   ],
   "source": [
    "# 데이터를 train, validation, test 세트로 분리합니다\n",
    "from sklearn.model_selection import train_test_split\n",
    "\n",
    "# 먼저 train+validation 세트와 test 세트로 분리\n",
    "train_val_df, test_df = train_test_split(df, test_size=0.2, random_state=2024, stratify=df['poisonous'])\n",
    "\n",
    "# 그 다음 train_val 세트를 train과 validation 세트로 분리\n",
    "train_df, val_df = train_test_split(train_val_df, test_size=0.25, random_state=2024, stratify=train_val_df['poisonous'])\n",
    "\n",
    "print(f\"훈련 데이터 크기: {len(train_df)}\")\n",
    "print(f\"검증 데이터 크기: {len(val_df)}\")\n",
    "print(f\"테스트 데이터 크기: {len(test_df)}\")"
   ]
  },
  {
   "cell_type": "code",
   "execution_count": 135,
   "metadata": {},
   "outputs": [],
   "source": [
    "# LabelEncoder를 사용하여 범주형 데이터를 인코더 생성\n",
    "from sklearn.preprocessing import LabelEncoder\n",
    "features = train_df.columns.tolist()\n",
    "features.remove('poisonous')\n",
    "\n",
    "feature_encoders = {\n",
    "    name: encoder for name, encoder in zip(features, [LabelEncoder().fit(train_df[col]) for col in features])\n",
    "}\n",
    "# 레이블 컬럼도 인코더 생성\n",
    "label_encoder = LabelEncoder().fit(train_df['poisonous'])"
   ]
  },
  {
   "cell_type": "code",
   "execution_count": 136,
   "metadata": {},
   "outputs": [],
   "source": [
    "# 특성 인코딩\n",
    "train_df[features] = train_df[features].apply(lambda x: feature_encoders[x.name].transform(x))\n",
    "val_df[features] = val_df[features].apply(lambda x: feature_encoders[x.name].transform(x))\n",
    "# 실제 테스트 데이터는 배치 트랜스포머 예측 단계에서 인코딩 해야 합니다.\n",
    "# test_df[features] = test_df[features].apply(lambda x: feature_encoders[x.name].transform(x))\n",
    "# 레이블 인코딩\n",
    "train_df['poisonous'] = label_encoder.transform(train_df['poisonous'])\n",
    "val_df['poisonous'] = label_encoder.transform(val_df['poisonous'])\n",
    "# test_df['poisonous'] = label_encoder.transform(test_df['poisonous'])"
   ]
  },
  {
   "cell_type": "code",
   "execution_count": 137,
   "metadata": {},
   "outputs": [
    {
     "name": "stdout",
     "output_type": "stream",
     "text": [
      "cap-shape ['b' 'c' 'f' 'k' 's' 'x']\n",
      "cap-surface ['f' 'g' 's' 'y']\n",
      "cap-color ['b' 'c' 'e' 'g' 'n' 'p' 'r' 'u' 'w' 'y']\n",
      "bruises ['f' 't']\n",
      "odor ['a' 'c' 'f' 'l' 'm' 'n' 'p' 's' 'y']\n",
      "gill-attachment ['a' 'f']\n",
      "gill-spacing ['c' 'w']\n",
      "gill-size ['b' 'n']\n",
      "gill-color ['b' 'e' 'g' 'h' 'k' 'n' 'o' 'p' 'r' 'u' 'w' 'y']\n",
      "stalk-shape ['e' 't']\n",
      "stalk-root ['Unknown' 'b' 'c' 'e' 'r']\n",
      "stalk-surface-above-ring ['f' 'k' 's' 'y']\n",
      "stalk-surface-below-ring ['f' 'k' 's' 'y']\n",
      "stalk-color-above-ring ['b' 'c' 'e' 'g' 'n' 'o' 'p' 'w' 'y']\n",
      "stalk-color-below-ring ['b' 'c' 'e' 'g' 'n' 'o' 'p' 'w' 'y']\n",
      "veil-type ['p']\n",
      "veil-color ['n' 'o' 'w' 'y']\n",
      "ring-number ['n' 'o' 't']\n",
      "ring-type ['e' 'f' 'l' 'n' 'p']\n",
      "spore-print-color ['b' 'h' 'k' 'n' 'o' 'r' 'u' 'w' 'y']\n",
      "population ['a' 'c' 'n' 's' 'v' 'y']\n",
      "habitat ['d' 'g' 'l' 'm' 'p' 'u' 'w']\n",
      "Label Encoder classes: ['e' 'p']\n"
     ]
    }
   ],
   "source": [
    "for name, encoder in feature_encoders.items():\n",
    "    print(name, encoder.classes_)\n",
    "print(\"Label Encoder classes:\", label_encoder.classes_)"
   ]
  },
  {
   "cell_type": "markdown",
   "metadata": {},
   "source": [
    "S3에 데이터 업로드"
   ]
  },
  {
   "cell_type": "code",
   "execution_count": 138,
   "metadata": {},
   "outputs": [],
   "source": [
    "bucket_name = 'dante-sagemaker'\n",
    "project_name = 'mushroom-classification'"
   ]
  },
  {
   "cell_type": "code",
   "execution_count": 139,
   "metadata": {},
   "outputs": [
    {
     "name": "stdout",
     "output_type": "stream",
     "text": [
      "train_path: s3://dante-sagemaker/mushroom-classification/input/train/train.recordio\n",
      "val_path: s3://dante-sagemaker/mushroom-classification/input/val/val.recordio\n",
      "test_path: s3://dante-sagemaker/mushroom-classification/input/test/test.csv\n",
      "model_path: s3://dante-sagemaker/mushroom-classification/model\n",
      "asset_path: s3://dante-sagemaker/mushroom-classification/asset\n",
      "checkpoint_path: s3://dante-sagemaker/mushroom-classification/checkpoints\n"
     ]
    }
   ],
   "source": [
    "input_path = f's3://{bucket_name}/{project_name}/input'\n",
    "output_path = f's3://{bucket_name}/{project_name}/output'\n",
    "model_path = f's3://{bucket_name}/{project_name}/model'\n",
    "asset_path = f's3://{bucket_name}/{project_name}/asset'\n",
    "checkpoint_path = f's3://{bucket_name}/{project_name}/checkpoints'\n",
    "train_path = f'{input_path}/train/train.recordio'\n",
    "val_path = f'{input_path}/val/val.recordio'\n",
    "test_path = f'{input_path}/test/test.csv'\n",
    "\n",
    "print('train_path:', train_path)\n",
    "print('val_path:', val_path)\n",
    "print('test_path:', test_path)\n",
    "print('model_path:', model_path)\n",
    "print('asset_path:', asset_path)\n",
    "print('checkpoint_path:', checkpoint_path)"
   ]
  },
  {
   "cell_type": "code",
   "execution_count": 140,
   "metadata": {},
   "outputs": [],
   "source": [
    "import io\n",
    "from sagemaker.amazon.common import write_numpy_to_dense_tensor\n",
    "\n",
    "# RecordIO 형식으로 데이터를 변환하고 S3에 저장하는 헬퍼 함수\n",
    "def convert_to_recordio_protobuf(df, label_column, s3_path):\n",
    "    # 레이블과 특성 분리\n",
    "    labels = df[label_column].values\n",
    "    features = df.drop(columns=[label_column]).values\n",
    "    \n",
    "    # RecordIO-Protobuf 형식으로 변환\n",
    "    buf = io.BytesIO()\n",
    "    write_numpy_to_dense_tensor(buf, features, labels)\n",
    "    buf.seek(0)\n",
    "    \n",
    "    # S3에 업로드\n",
    "    wr.s3.upload(local_file=buf, path=s3_path, boto3_session=boto3_session)\n",
    "    print(f\"데이터가 {s3_path}에 RecordIO-Protobuf 형식으로 저장되었습니다.\")"
   ]
  },
  {
   "cell_type": "code",
   "execution_count": 141,
   "metadata": {},
   "outputs": [],
   "source": [
    "# 예측 단계에서 사용할수 있도록 인코더를 저장해두어야 합니다.\n",
    "import pickle\n",
    "os.makedirs('assets', exist_ok=True)\n",
    "feature_encoders_filepath = 'assets/feature_encoders.pkl'\n",
    "label_encoder_filepath = 'assets/label_encoder.pkl'\n",
    "\n",
    "with open(feature_encoders_filepath, 'wb') as f:\n",
    "    pickle.dump(feature_encoders, f)\n",
    "with open(label_encoder_filepath, 'wb') as f:\n",
    "    pickle.dump(label_encoder, f)\n",
    "    \n",
    "# 예측 단계와 함께 인코딩하기 위해 features 리스트를 함께 저장해두어야 합니다.\n",
    "features_df = pd.DataFrame(features, columns=['features'])"
   ]
  },
  {
   "cell_type": "code",
   "execution_count": 142,
   "metadata": {},
   "outputs": [
    {
     "name": "stdout",
     "output_type": "stream",
     "text": [
      "데이터가 s3://dante-sagemaker/mushroom-classification/input/train/train.recordio에 RecordIO-Protobuf 형식으로 저장되었습니다.\n",
      "데이터가 s3://dante-sagemaker/mushroom-classification/input/val/val.recordio에 RecordIO-Protobuf 형식으로 저장되었습니다.\n"
     ]
    }
   ],
   "source": [
    "# train_df를 RecordIO 형식으로 변환하고 S3에 저장\n",
    "convert_to_recordio_protobuf(train_df, 'poisonous', train_path)\n",
    "# test_df를 RecordIO 형식으로 변환하고 S3에 저장\n",
    "convert_to_recordio_protobuf(val_df, 'poisonous', val_path)\n",
    "# test 데이터는 변환하지 않고 저장\n",
    "wr.s3.to_csv(df=test_df, path=test_path, index=False, header=False, boto3_session=boto3_session)\n",
    "# 특성 컬럼 저장\n",
    "wr.s3.to_csv(df=features_df, path=os.path.join(asset_path, 'features.csv'), index=False, header=False, boto3_session=boto3_session)\n",
    "# 특성 인코더 저장\n",
    "wr.s3.upload(feature_encoders_filepath, os.path.join(asset_path, 'feature_encoders.pkl'), boto3_session=boto3_session)\n",
    "# 레이블 인코더 저장\n",
    "wr.s3.upload(label_encoder_filepath, os.path.join(asset_path, 'label_encoder.pkl'), boto3_session=boto3_session)"
   ]
  },
  {
   "cell_type": "markdown",
   "metadata": {},
   "source": [
    "빌트인 모델 및 하이퍼파라미터 설정"
   ]
  },
  {
   "cell_type": "code",
   "execution_count": 24,
   "metadata": {},
   "outputs": [],
   "source": [
    "container = sagemaker.image_uris.retrieve(\"xgboost\",sagemaker_session.boto_region_name,version=\"1.7-1\")\n",
    "use_spot_instances = True\n",
    "max_run = 60 * 60 # 1시간\n",
    "max_wait = 60 * 60 * 2 # 2시간\n",
    "instance_type = 'ml.m5.xlarge'"
   ]
  },
  {
   "cell_type": "code",
   "execution_count": 25,
   "metadata": {},
   "outputs": [],
   "source": [
    "estimator = sagemaker.estimator.Estimator(\n",
    "    image_uri=container,  # 사용할 Docker 이미지의 URI\n",
    "    role=role,  # IAM 역할 ARN\n",
    "    sagemaker_session=sagemaker_session,  # SageMaker 세션 객체\n",
    "    instance_count=1,  # 사용할 인스턴스 수\n",
    "    instance_type=instance_type,  # 사용할 인스턴스 유형\n",
    "    max_run=max_run,  # 최대 실행 시간 (초)\n",
    "    use_spot_instances=use_spot_instances,  # 스팟 인스턴스 사용 여부\n",
    "    max_wait=max_wait,  # 스팟 인스턴스 대기 최대 시간 (초)\n",
    "    output_path=output_path,  # 모델 아티팩트 저장 경로\n",
    "    base_job_name=project_name,  # 훈련 작업 이름의 기본 접두사\n",
    "    checkpoint_path=checkpoint_path,  # 체크포인트 저장 경로\n",
    ")"
   ]
  },
  {
   "cell_type": "code",
   "execution_count": 26,
   "metadata": {},
   "outputs": [],
   "source": [
    "# XGBoost 모델의 하이퍼파라미터 설정\n",
    "estimator.set_hyperparameters(\n",
    "    max_depth=5,          # 트리의 최대 깊이\n",
    "    eta=0.1,              # 학습률\n",
    "    gamma=4,              # 트리의 리프 노드를 추가적으로 나누는데 필요한 최소 손실 감소값\n",
    "    min_child_weight=6,   # 자식 노드를 만드는데 필요한 최소 가중치 합\n",
    "    subsample=0.8,        # 각 트리마다 사용할 훈련 데이터의 샘플링 비율\n",
    "    objective='binary:logistic',  # 이진 분류를 위한 로지스틱 목적 함수\n",
    "    num_round=200,        # 부스팅 라운드 수\n",
    "    eval_metric='logloss' # 평가 지표로 로그 손실 사용\n",
    ")"
   ]
  },
  {
   "cell_type": "markdown",
   "metadata": {},
   "source": [
    "데이터 경로 지정 및 모델 훈련"
   ]
  },
  {
   "cell_type": "code",
   "execution_count": 27,
   "metadata": {},
   "outputs": [
    {
     "name": "stderr",
     "output_type": "stream",
     "text": [
      "INFO:sagemaker:Creating training-job with name: mushroom-classification-2024-08-01-09-13-11-160\n"
     ]
    },
    {
     "name": "stdout",
     "output_type": "stream",
     "text": [
      "2024-08-01 09:13:11 Starting - Starting the training job......\n",
      "2024-08-01 09:14:00 Starting - Preparing the instances for training...\n",
      "2024-08-01 09:14:42 Downloading - Downloading the training image.........\n",
      "2024-08-01 09:16:03 Training - Training image download completed. Training in progress..[2024-08-01 09:16:10.824 ip-10-0-185-76.ap-northeast-2.compute.internal:7 INFO utils.py:28] RULE_JOB_STOP_SIGNAL_FILENAME: None\n",
      "[2024-08-01 09:16:10.846 ip-10-0-185-76.ap-northeast-2.compute.internal:7 INFO profiler_config_parser.py:111] User has disabled profiler.\n",
      "[2024-08-01:09:16:11:INFO] Imported framework sagemaker_xgboost_container.training\n",
      "[2024-08-01:09:16:11:INFO] Failed to parse hyperparameter eval_metric value logloss to Json.\n",
      "Returning the value itself\n",
      "[2024-08-01:09:16:11:INFO] Failed to parse hyperparameter objective value binary:logistic to Json.\n",
      "Returning the value itself\n",
      "[2024-08-01:09:16:11:INFO] No GPUs detected (normal if no gpus installed)\n",
      "[2024-08-01:09:16:11:INFO] Running XGBoost Sagemaker in algorithm mode\n",
      "[2024-08-01:09:16:11:INFO] Determined 0 GPU(s) available on the instance.\n",
      "[2024-08-01:09:16:11:INFO] File path /opt/ml/input/data/train of input files\n",
      "[2024-08-01:09:16:11:INFO] Making smlinks from folder /opt/ml/input/data/train to folder /tmp/sagemaker_xgboost_input_data\n",
      "[2024-08-01:09:16:11:INFO] creating symlink between Path /opt/ml/input/data/train/train.recordio and destination /tmp/sagemaker_xgboost_input_data/train.recordio5644149224176635046\n",
      "[2024-08-01:09:16:11:INFO] files path: /tmp/sagemaker_xgboost_input_data\n",
      "[2024-08-01:09:16:11:INFO] File path /opt/ml/input/data/validation of input files\n",
      "[2024-08-01:09:16:11:INFO] Making smlinks from folder /opt/ml/input/data/validation to folder /tmp/sagemaker_xgboost_input_data\n",
      "[2024-08-01:09:16:11:INFO] creating symlink between Path /opt/ml/input/data/validation/val.recordio and destination /tmp/sagemaker_xgboost_input_data/val.recordio-8761680794379231367\n",
      "[2024-08-01:09:16:11:INFO] files path: /tmp/sagemaker_xgboost_input_data\n",
      "[2024-08-01:09:16:11:INFO] Single node training.\n",
      "[2024-08-01:09:16:11:INFO] Train matrix has 4874 rows and 22 columns\n",
      "[2024-08-01:09:16:11:INFO] Validation matrix has 1625 rows\n",
      "[2024-08-01 09:16:11.294 ip-10-0-185-76.ap-northeast-2.compute.internal:7 INFO json_config.py:92] Creating hook from json_config at /opt/ml/input/config/debughookconfig.json.\n",
      "[2024-08-01 09:16:11.295 ip-10-0-185-76.ap-northeast-2.compute.internal:7 INFO hook.py:206] tensorboard_dir has not been set for the hook. SMDebug will not be exporting tensorboard summaries.\n",
      "[2024-08-01 09:16:11.295 ip-10-0-185-76.ap-northeast-2.compute.internal:7 INFO hook.py:259] Saving to /opt/ml/output/tensors\n",
      "[2024-08-01 09:16:11.296 ip-10-0-185-76.ap-northeast-2.compute.internal:7 INFO state_store.py:77] The checkpoint config file /opt/ml/input/config/checkpointconfig.json does not exist.\n",
      "[2024-08-01:09:16:11:INFO] Debug hook created from config\n",
      "[0]#011train-logloss:0.60616#011validation-logloss:0.60855\n",
      "[2024-08-01 09:16:11.304 ip-10-0-185-76.ap-northeast-2.compute.internal:7 INFO hook.py:427] Monitoring the collections: metrics\n",
      "[2024-08-01 09:16:11.306 ip-10-0-185-76.ap-northeast-2.compute.internal:7 INFO hook.py:491] Hook is writing from the hook with pid: 7\n",
      "[1]#011train-logloss:0.53487#011validation-logloss:0.53905\n",
      "[2]#011train-logloss:0.47449#011validation-logloss:0.47941\n",
      "[3]#011train-logloss:0.42278#011validation-logloss:0.42921\n",
      "[4]#011train-logloss:0.37753#011validation-logloss:0.38506\n",
      "[5]#011train-logloss:0.33974#011validation-logloss:0.34883\n",
      "[6]#011train-logloss:0.30773#011validation-logloss:0.31704\n",
      "[7]#011train-logloss:0.27794#011validation-logloss:0.28740\n",
      "[8]#011train-logloss:0.25257#011validation-logloss:0.26245\n",
      "[9]#011train-logloss:0.23012#011validation-logloss:0.24102\n",
      "[10]#011train-logloss:0.20974#011validation-logloss:0.22108\n",
      "[11]#011train-logloss:0.19169#011validation-logloss:0.20267\n",
      "[12]#011train-logloss:0.17336#011validation-logloss:0.18411\n",
      "[13]#011train-logloss:0.15922#011validation-logloss:0.16992\n",
      "[14]#011train-logloss:0.14304#011validation-logloss:0.15301\n",
      "[15]#011train-logloss:0.12894#011validation-logloss:0.13825\n",
      "[16]#011train-logloss:0.11625#011validation-logloss:0.12491\n",
      "[17]#011train-logloss:0.10496#011validation-logloss:0.11304\n",
      "[18]#011train-logloss:0.09493#011validation-logloss:0.10250\n",
      "[19]#011train-logloss:0.08598#011validation-logloss:0.09309\n",
      "[20]#011train-logloss:0.07797#011validation-logloss:0.08465\n",
      "[21]#011train-logloss:0.07097#011validation-logloss:0.07729\n",
      "[22]#011train-logloss:0.06487#011validation-logloss:0.07080\n",
      "[23]#011train-logloss:0.05952#011validation-logloss:0.06527\n",
      "[24]#011train-logloss:0.05434#011validation-logloss:0.05984\n",
      "[25]#011train-logloss:0.04969#011validation-logloss:0.05496\n",
      "[26]#011train-logloss:0.04583#011validation-logloss:0.05089\n",
      "[27]#011train-logloss:0.04198#011validation-logloss:0.04678\n",
      "[28]#011train-logloss:0.03891#011validation-logloss:0.04364\n",
      "[29]#011train-logloss:0.03617#011validation-logloss:0.04081\n",
      "[30]#011train-logloss:0.03380#011validation-logloss:0.03839\n",
      "[31]#011train-logloss:0.03177#011validation-logloss:0.03625\n",
      "[32]#011train-logloss:0.02987#011validation-logloss:0.03432\n",
      "[33]#011train-logloss:0.02815#011validation-logloss:0.03252\n",
      "[34]#011train-logloss:0.02664#011validation-logloss:0.03085\n",
      "[35]#011train-logloss:0.02510#011validation-logloss:0.02909\n",
      "[36]#011train-logloss:0.02406#011validation-logloss:0.02805\n",
      "[37]#011train-logloss:0.02268#011validation-logloss:0.02646\n",
      "[38]#011train-logloss:0.02142#011validation-logloss:0.02509\n",
      "[39]#011train-logloss:0.02037#011validation-logloss:0.02395\n",
      "[40]#011train-logloss:0.01932#011validation-logloss:0.02280\n",
      "[41]#011train-logloss:0.01873#011validation-logloss:0.02225\n",
      "[42]#011train-logloss:0.01789#011validation-logloss:0.02134\n",
      "[43]#011train-logloss:0.01713#011validation-logloss:0.02051\n",
      "[44]#011train-logloss:0.01622#011validation-logloss:0.01945\n",
      "[45]#011train-logloss:0.01550#011validation-logloss:0.01855\n",
      "[46]#011train-logloss:0.01513#011validation-logloss:0.01823\n",
      "[47]#011train-logloss:0.01500#011validation-logloss:0.01814\n",
      "[48]#011train-logloss:0.01455#011validation-logloss:0.01770\n",
      "[49]#011train-logloss:0.01421#011validation-logloss:0.01736\n",
      "[50]#011train-logloss:0.01401#011validation-logloss:0.01720\n",
      "[51]#011train-logloss:0.01370#011validation-logloss:0.01691\n",
      "[52]#011train-logloss:0.01354#011validation-logloss:0.01679\n",
      "[53]#011train-logloss:0.01328#011validation-logloss:0.01653\n",
      "[54]#011train-logloss:0.01304#011validation-logloss:0.01630\n",
      "[55]#011train-logloss:0.01295#011validation-logloss:0.01621\n",
      "[56]#011train-logloss:0.01295#011validation-logloss:0.01621\n",
      "[57]#011train-logloss:0.01268#011validation-logloss:0.01595\n",
      "[58]#011train-logloss:0.01268#011validation-logloss:0.01595\n",
      "[59]#011train-logloss:0.01268#011validation-logloss:0.01595\n",
      "[60]#011train-logloss:0.01251#011validation-logloss:0.01576\n",
      "[61]#011train-logloss:0.01251#011validation-logloss:0.01576\n",
      "[62]#011train-logloss:0.01251#011validation-logloss:0.01576\n",
      "[63]#011train-logloss:0.01231#011validation-logloss:0.01556\n",
      "[64]#011train-logloss:0.01212#011validation-logloss:0.01538\n",
      "[65]#011train-logloss:0.01198#011validation-logloss:0.01521\n",
      "[66]#011train-logloss:0.01198#011validation-logloss:0.01521\n",
      "[67]#011train-logloss:0.01198#011validation-logloss:0.01521\n",
      "[68]#011train-logloss:0.01198#011validation-logloss:0.01521\n",
      "[69]#011train-logloss:0.01198#011validation-logloss:0.01521\n",
      "[70]#011train-logloss:0.01198#011validation-logloss:0.01521\n",
      "[71]#011train-logloss:0.01198#011validation-logloss:0.01521\n",
      "[72]#011train-logloss:0.01198#011validation-logloss:0.01521\n",
      "[73]#011train-logloss:0.01198#011validation-logloss:0.01521\n",
      "[74]#011train-logloss:0.01198#011validation-logloss:0.01521\n",
      "[75]#011train-logloss:0.01198#011validation-logloss:0.01521\n",
      "[76]#011train-logloss:0.01198#011validation-logloss:0.01521\n",
      "[77]#011train-logloss:0.01198#011validation-logloss:0.01521\n",
      "[78]#011train-logloss:0.01198#011validation-logloss:0.01521\n",
      "[79]#011train-logloss:0.01198#011validation-logloss:0.01521\n",
      "[80]#011train-logloss:0.01198#011validation-logloss:0.01521\n",
      "[81]#011train-logloss:0.01198#011validation-logloss:0.01521\n",
      "[82]#011train-logloss:0.01198#011validation-logloss:0.01521\n",
      "[83]#011train-logloss:0.01198#011validation-logloss:0.01521\n",
      "[84]#011train-logloss:0.01198#011validation-logloss:0.01521\n",
      "[85]#011train-logloss:0.01198#011validation-logloss:0.01521\n",
      "[86]#011train-logloss:0.01198#011validation-logloss:0.01521\n",
      "[87]#011train-logloss:0.01198#011validation-logloss:0.01521\n",
      "[88]#011train-logloss:0.01198#011validation-logloss:0.01521\n",
      "[89]#011train-logloss:0.01198#011validation-logloss:0.01521\n",
      "[90]#011train-logloss:0.01198#011validation-logloss:0.01521\n",
      "[91]#011train-logloss:0.01198#011validation-logloss:0.01521\n",
      "[92]#011train-logloss:0.01198#011validation-logloss:0.01521\n",
      "[93]#011train-logloss:0.01198#011validation-logloss:0.01521\n",
      "[94]#011train-logloss:0.01198#011validation-logloss:0.01521\n",
      "[95]#011train-logloss:0.01198#011validation-logloss:0.01521\n",
      "[96]#011train-logloss:0.01198#011validation-logloss:0.01521\n",
      "[97]#011train-logloss:0.01198#011validation-logloss:0.01521\n",
      "[98]#011train-logloss:0.01198#011validation-logloss:0.01521\n",
      "[99]#011train-logloss:0.01198#011validation-logloss:0.01521\n",
      "[100]#011train-logloss:0.01198#011validation-logloss:0.01521\n",
      "[101]#011train-logloss:0.01198#011validation-logloss:0.01521\n",
      "[102]#011train-logloss:0.01198#011validation-logloss:0.01521\n",
      "[103]#011train-logloss:0.01198#011validation-logloss:0.01521\n",
      "[104]#011train-logloss:0.01198#011validation-logloss:0.01521\n",
      "[105]#011train-logloss:0.01198#011validation-logloss:0.01520\n",
      "[106]#011train-logloss:0.01198#011validation-logloss:0.01521\n",
      "[107]#011train-logloss:0.01198#011validation-logloss:0.01521\n",
      "[108]#011train-logloss:0.01198#011validation-logloss:0.01521\n",
      "[109]#011train-logloss:0.01198#011validation-logloss:0.01520\n",
      "[110]#011train-logloss:0.01198#011validation-logloss:0.01521\n",
      "[111]#011train-logloss:0.01198#011validation-logloss:0.01520\n",
      "[112]#011train-logloss:0.01198#011validation-logloss:0.01521\n",
      "[113]#011train-logloss:0.01198#011validation-logloss:0.01521\n",
      "[114]#011train-logloss:0.01198#011validation-logloss:0.01521\n",
      "[115]#011train-logloss:0.01198#011validation-logloss:0.01521\n",
      "[116]#011train-logloss:0.01198#011validation-logloss:0.01521\n",
      "[117]#011train-logloss:0.01198#011validation-logloss:0.01521\n",
      "[118]#011train-logloss:0.01198#011validation-logloss:0.01521\n",
      "[119]#011train-logloss:0.01198#011validation-logloss:0.01521\n",
      "[120]#011train-logloss:0.01198#011validation-logloss:0.01521\n",
      "[121]#011train-logloss:0.01198#011validation-logloss:0.01521\n",
      "[122]#011train-logloss:0.01198#011validation-logloss:0.01521\n",
      "[123]#011train-logloss:0.01198#011validation-logloss:0.01521\n",
      "[124]#011train-logloss:0.01198#011validation-logloss:0.01521\n",
      "[125]#011train-logloss:0.01198#011validation-logloss:0.01521\n",
      "[126]#011train-logloss:0.01198#011validation-logloss:0.01521\n",
      "[127]#011train-logloss:0.01198#011validation-logloss:0.01521\n",
      "[128]#011train-logloss:0.01198#011validation-logloss:0.01520\n",
      "[129]#011train-logloss:0.01198#011validation-logloss:0.01520\n",
      "[130]#011train-logloss:0.01198#011validation-logloss:0.01520\n",
      "[131]#011train-logloss:0.01198#011validation-logloss:0.01520\n",
      "[132]#011train-logloss:0.01198#011validation-logloss:0.01520\n",
      "[133]#011train-logloss:0.01198#011validation-logloss:0.01520\n",
      "[134]#011train-logloss:0.01198#011validation-logloss:0.01520\n",
      "[135]#011train-logloss:0.01198#011validation-logloss:0.01521\n",
      "[136]#011train-logloss:0.01198#011validation-logloss:0.01521\n",
      "[137]#011train-logloss:0.01198#011validation-logloss:0.01521\n",
      "[138]#011train-logloss:0.01198#011validation-logloss:0.01521\n",
      "[139]#011train-logloss:0.01198#011validation-logloss:0.01521\n",
      "[140]#011train-logloss:0.01198#011validation-logloss:0.01521\n",
      "[141]#011train-logloss:0.01198#011validation-logloss:0.01521\n",
      "[142]#011train-logloss:0.01198#011validation-logloss:0.01521\n",
      "[143]#011train-logloss:0.01198#011validation-logloss:0.01521\n",
      "[144]#011train-logloss:0.01198#011validation-logloss:0.01521\n",
      "[145]#011train-logloss:0.01198#011validation-logloss:0.01521\n",
      "[146]#011train-logloss:0.01198#011validation-logloss:0.01521\n",
      "[147]#011train-logloss:0.01198#011validation-logloss:0.01521\n",
      "[148]#011train-logloss:0.01198#011validation-logloss:0.01521\n",
      "[149]#011train-logloss:0.01198#011validation-logloss:0.01521\n",
      "[150]#011train-logloss:0.01198#011validation-logloss:0.01521\n",
      "[151]#011train-logloss:0.01198#011validation-logloss:0.01521\n",
      "[152]#011train-logloss:0.01198#011validation-logloss:0.01521\n",
      "[153]#011train-logloss:0.01198#011validation-logloss:0.01520\n",
      "[154]#011train-logloss:0.01198#011validation-logloss:0.01520\n",
      "[155]#011train-logloss:0.01198#011validation-logloss:0.01520\n",
      "[156]#011train-logloss:0.01168#011validation-logloss:0.01484\n",
      "[157]#011train-logloss:0.01168#011validation-logloss:0.01484\n",
      "[158]#011train-logloss:0.01168#011validation-logloss:0.01484\n",
      "[159]#011train-logloss:0.01168#011validation-logloss:0.01484\n",
      "[160]#011train-logloss:0.01168#011validation-logloss:0.01484\n",
      "[161]#011train-logloss:0.01168#011validation-logloss:0.01485\n",
      "[162]#011train-logloss:0.01168#011validation-logloss:0.01484\n",
      "[163]#011train-logloss:0.01168#011validation-logloss:0.01485\n",
      "[164]#011train-logloss:0.01168#011validation-logloss:0.01485\n",
      "[165]#011train-logloss:0.01168#011validation-logloss:0.01484\n",
      "[166]#011train-logloss:0.01168#011validation-logloss:0.01484\n",
      "[167]#011train-logloss:0.01168#011validation-logloss:0.01485\n",
      "[168]#011train-logloss:0.01168#011validation-logloss:0.01485\n",
      "[169]#011train-logloss:0.01168#011validation-logloss:0.01485\n",
      "[170]#011train-logloss:0.01168#011validation-logloss:0.01485\n",
      "[171]#011train-logloss:0.01168#011validation-logloss:0.01485\n",
      "[172]#011train-logloss:0.01168#011validation-logloss:0.01485\n",
      "[173]#011train-logloss:0.01168#011validation-logloss:0.01484\n",
      "[174]#011train-logloss:0.01168#011validation-logloss:0.01484\n",
      "[175]#011train-logloss:0.01168#011validation-logloss:0.01484\n",
      "[176]#011train-logloss:0.01168#011validation-logloss:0.01484\n",
      "[177]#011train-logloss:0.01168#011validation-logloss:0.01485\n",
      "[178]#011train-logloss:0.01168#011validation-logloss:0.01485\n",
      "[179]#011train-logloss:0.01168#011validation-logloss:0.01485\n",
      "[180]#011train-logloss:0.01168#011validation-logloss:0.01484\n",
      "[181]#011train-logloss:0.01168#011validation-logloss:0.01484\n",
      "[182]#011train-logloss:0.01168#011validation-logloss:0.01484\n",
      "[183]#011train-logloss:0.01168#011validation-logloss:0.01484\n",
      "[184]#011train-logloss:0.01168#011validation-logloss:0.01484\n",
      "[185]#011train-logloss:0.01168#011validation-logloss:0.01484\n",
      "[186]#011train-logloss:0.01168#011validation-logloss:0.01484\n",
      "[187]#011train-logloss:0.01168#011validation-logloss:0.01484\n",
      "[188]#011train-logloss:0.01168#011validation-logloss:0.01484\n",
      "[189]#011train-logloss:0.01168#011validation-logloss:0.01484\n",
      "[190]#011train-logloss:0.01168#011validation-logloss:0.01484\n",
      "[191]#011train-logloss:0.01168#011validation-logloss:0.01484\n",
      "[192]#011train-logloss:0.01168#011validation-logloss:0.01484\n",
      "[193]#011train-logloss:0.01168#011validation-logloss:0.01484\n",
      "[194]#011train-logloss:0.01168#011validation-logloss:0.01484\n",
      "[195]#011train-logloss:0.01168#011validation-logloss:0.01484\n",
      "[196]#011train-logloss:0.01168#011validation-logloss:0.01484\n",
      "[197]#011train-logloss:0.01168#011validation-logloss:0.01484\n",
      "[198]#011train-logloss:0.01168#011validation-logloss:0.01484\n",
      "[199]#011train-logloss:0.01168#011validation-logloss:0.01484\n",
      "\n",
      "2024-08-01 09:16:31 Uploading - Uploading generated training model\n",
      "2024-08-01 09:16:31 Completed - Training job completed\n",
      "Training seconds: 129\n",
      "Billable seconds: 30\n",
      "Managed Spot Training savings: 76.7%\n"
     ]
    }
   ],
   "source": [
    "training_input_config = sagemaker.session.TrainingInput(\n",
    "    s3_data=train_path,\n",
    "    content_type='application/x-recordio-protobuf',\n",
    "    s3_data_type='S3Prefix')\n",
    "\n",
    "validation_input_config = sagemaker.session.TrainingInput(\n",
    "    s3_data=val_path,\n",
    "    content_type='application/x-recordio-protobuf',\n",
    "    s3_data_type='S3Prefix'\n",
    ")\n",
    "\n",
    "data_channels = {'train': training_input_config, 'validation': validation_input_config}\n",
    "estimator.fit(data_channels)"
   ]
  },
  {
   "cell_type": "markdown",
   "metadata": {},
   "source": [
    "손실 함수 시각화"
   ]
  },
  {
   "cell_type": "code",
   "execution_count": 28,
   "metadata": {},
   "outputs": [
    {
     "data": {
      "text/plain": [
       "'mushroom-classification-2024-08-01-09-13-11-160'"
      ]
     },
     "execution_count": 28,
     "metadata": {},
     "output_type": "execute_result"
    }
   ],
   "source": [
    "training_job_name = estimator.latest_training_job.job_name\n",
    "training_job_name"
   ]
  },
  {
   "cell_type": "code",
   "execution_count": null,
   "metadata": {},
   "outputs": [],
   "source": [
    "log_client = boto3_session.client('logs')\n",
    "log_streams = log_client.describe_log_streams(logGroupName=\"/aws/sagemaker/TrainingJobs\")"
   ]
  },
  {
   "cell_type": "code",
   "execution_count": 49,
   "metadata": {},
   "outputs": [],
   "source": [
    "log_streams = []\n",
    "next_token = None\n",
    "\n",
    "while True:\n",
    "    if next_token:\n",
    "        response = log_client.describe_log_streams(logGroupName=\"/aws/sagemaker/TrainingJobs\", nextToken=next_token)\n",
    "    else:\n",
    "        response = log_client.describe_log_streams(logGroupName=\"/aws/sagemaker/TrainingJobs\")\n",
    "    \n",
    "    log_streams.extend([stream for stream in response['logStreams'] if training_job_name in stream['logStreamName']])\n",
    "    \n",
    "    if 'nextToken' in response:\n",
    "        next_token = response['nextToken']\n",
    "    else:\n",
    "        break"
   ]
  },
  {
   "cell_type": "code",
   "execution_count": 52,
   "metadata": {},
   "outputs": [
    {
     "data": {
      "text/plain": [
       "[{'timestamp': 1722503775329,\n",
       "  'message': '[195]#011train-logloss:0.01168#011validation-logloss:0.01484',\n",
       "  'ingestionTime': 1722503781483},\n",
       " {'timestamp': 1722503775329,\n",
       "  'message': '[196]#011train-logloss:0.01168#011validation-logloss:0.01484',\n",
       "  'ingestionTime': 1722503781483},\n",
       " {'timestamp': 1722503775329,\n",
       "  'message': '[197]#011train-logloss:0.01168#011validation-logloss:0.01484',\n",
       "  'ingestionTime': 1722503781483},\n",
       " {'timestamp': 1722503775329,\n",
       "  'message': '[198]#011train-logloss:0.01168#011validation-logloss:0.01484',\n",
       "  'ingestionTime': 1722503781483},\n",
       " {'timestamp': 1722503775329,\n",
       "  'message': '[199]#011train-logloss:0.01168#011validation-logloss:0.01484',\n",
       "  'ingestionTime': 1722503781483}]"
      ]
     },
     "execution_count": 52,
     "metadata": {},
     "output_type": "execute_result"
    }
   ],
   "source": [
    "log_events = log_client.get_log_events(logGroupName=\"/aws/sagemaker/TrainingJobs\", \n",
    "                                   logStreamName=log_streams[0]['logStreamName'])\n",
    "log_events['events'][-5:]"
   ]
  },
  {
   "cell_type": "code",
   "execution_count": 53,
   "metadata": {},
   "outputs": [],
   "source": [
    "from collections import defaultdict\n",
    "import re\n",
    "metrics = defaultdict(list)\n",
    "\n",
    "for event in log_events['events']:\n",
    "    # 정규표현식은 SageMkaer 훈련작업 콘솔에서 확인가능\n",
    "    train_pattern = r'.*\\[[0-9]+\\].*#011train-logloss:([-+]?[0-9]*\\.?[0-9]+(?:[eE][-+]?[0-9]+)?).*'\n",
    "    val_pattern = r'.*\\[[0-9]+\\].*#011validation-logloss:([-+]?[0-9]*\\.?[0-9]+(?:[eE][-+]?[0-9]+)?).*'\n",
    "    train_match = re.search(train_pattern, event['message'])\n",
    "    val_match = re.search(val_pattern, event['message'])\n",
    "    if train_match :\n",
    "        metrics['train:logloss'].append(float(train_match.group(1)))\n",
    "    if val_match :\n",
    "        metrics['validation:logloss'].append(float(val_match.group(1)))\n",
    "metrics = dict(metrics)"
   ]
  },
  {
   "cell_type": "code",
   "execution_count": 54,
   "metadata": {},
   "outputs": [
    {
     "data": {
      "application/vnd.plotly.v1+json": {
       "config": {
        "plotlyServerURL": "https://plot.ly"
       },
       "data": [
        {
         "name": "train-logloss",
         "type": "scatter",
         "x": [
          0,
          1,
          2,
          3,
          4,
          5,
          6,
          7,
          8,
          9,
          10,
          11,
          12,
          13,
          14,
          15,
          16,
          17,
          18,
          19,
          20,
          21,
          22,
          23,
          24,
          25,
          26,
          27,
          28,
          29,
          30,
          31,
          32,
          33,
          34,
          35,
          36,
          37,
          38,
          39,
          40,
          41,
          42,
          43,
          44,
          45,
          46,
          47,
          48,
          49,
          50,
          51,
          52,
          53,
          54,
          55,
          56,
          57,
          58,
          59,
          60,
          61,
          62,
          63,
          64,
          65,
          66,
          67,
          68,
          69,
          70,
          71,
          72,
          73,
          74,
          75,
          76,
          77,
          78,
          79,
          80,
          81,
          82,
          83,
          84,
          85,
          86,
          87,
          88,
          89,
          90,
          91,
          92,
          93,
          94,
          95,
          96,
          97,
          98,
          99,
          100,
          101,
          102,
          103,
          104,
          105,
          106,
          107,
          108,
          109,
          110,
          111,
          112,
          113,
          114,
          115,
          116,
          117,
          118,
          119,
          120,
          121,
          122,
          123,
          124,
          125,
          126,
          127,
          128,
          129,
          130,
          131,
          132,
          133,
          134,
          135,
          136,
          137,
          138,
          139,
          140,
          141,
          142,
          143,
          144,
          145,
          146,
          147,
          148,
          149,
          150,
          151,
          152,
          153,
          154,
          155,
          156,
          157,
          158,
          159,
          160,
          161,
          162,
          163,
          164,
          165,
          166,
          167,
          168,
          169,
          170,
          171,
          172,
          173,
          174,
          175,
          176,
          177,
          178,
          179,
          180,
          181,
          182,
          183,
          184,
          185,
          186,
          187,
          188,
          189,
          190,
          191,
          192,
          193,
          194,
          195,
          196,
          197,
          198,
          199
         ],
         "y": [
          0.60616,
          0.53487,
          0.47449,
          0.42278,
          0.37753,
          0.33974,
          0.30773,
          0.27794,
          0.25257,
          0.23012,
          0.20974,
          0.19169,
          0.17336,
          0.15922,
          0.14304,
          0.12894,
          0.11625,
          0.10496,
          0.09493,
          0.08598,
          0.07797,
          0.07097,
          0.06487,
          0.05952,
          0.05434,
          0.04969,
          0.04583,
          0.04198,
          0.03891,
          0.03617,
          0.0338,
          0.03177,
          0.02987,
          0.02815,
          0.02664,
          0.0251,
          0.02406,
          0.02268,
          0.02142,
          0.02037,
          0.01932,
          0.01873,
          0.01789,
          0.01713,
          0.01622,
          0.0155,
          0.01513,
          0.015,
          0.01455,
          0.01421,
          0.01401,
          0.0137,
          0.01354,
          0.01328,
          0.01304,
          0.01295,
          0.01295,
          0.01268,
          0.01268,
          0.01268,
          0.01251,
          0.01251,
          0.01251,
          0.01231,
          0.01212,
          0.01198,
          0.01198,
          0.01198,
          0.01198,
          0.01198,
          0.01198,
          0.01198,
          0.01198,
          0.01198,
          0.01198,
          0.01198,
          0.01198,
          0.01198,
          0.01198,
          0.01198,
          0.01198,
          0.01198,
          0.01198,
          0.01198,
          0.01198,
          0.01198,
          0.01198,
          0.01198,
          0.01198,
          0.01198,
          0.01198,
          0.01198,
          0.01198,
          0.01198,
          0.01198,
          0.01198,
          0.01198,
          0.01198,
          0.01198,
          0.01198,
          0.01198,
          0.01198,
          0.01198,
          0.01198,
          0.01198,
          0.01198,
          0.01198,
          0.01198,
          0.01198,
          0.01198,
          0.01198,
          0.01198,
          0.01198,
          0.01198,
          0.01198,
          0.01198,
          0.01198,
          0.01198,
          0.01198,
          0.01198,
          0.01198,
          0.01198,
          0.01198,
          0.01198,
          0.01198,
          0.01198,
          0.01198,
          0.01198,
          0.01198,
          0.01198,
          0.01198,
          0.01198,
          0.01198,
          0.01198,
          0.01198,
          0.01198,
          0.01198,
          0.01198,
          0.01198,
          0.01198,
          0.01198,
          0.01198,
          0.01198,
          0.01198,
          0.01198,
          0.01198,
          0.01198,
          0.01198,
          0.01198,
          0.01198,
          0.01198,
          0.01198,
          0.01198,
          0.01198,
          0.01198,
          0.01198,
          0.01168,
          0.01168,
          0.01168,
          0.01168,
          0.01168,
          0.01168,
          0.01168,
          0.01168,
          0.01168,
          0.01168,
          0.01168,
          0.01168,
          0.01168,
          0.01168,
          0.01168,
          0.01168,
          0.01168,
          0.01168,
          0.01168,
          0.01168,
          0.01168,
          0.01168,
          0.01168,
          0.01168,
          0.01168,
          0.01168,
          0.01168,
          0.01168,
          0.01168,
          0.01168,
          0.01168,
          0.01168,
          0.01168,
          0.01168,
          0.01168,
          0.01168,
          0.01168,
          0.01168,
          0.01168,
          0.01168,
          0.01168,
          0.01168,
          0.01168,
          0.01168
         ]
        },
        {
         "name": "validation-logloss",
         "type": "scatter",
         "x": [
          0,
          1,
          2,
          3,
          4,
          5,
          6,
          7,
          8,
          9,
          10,
          11,
          12,
          13,
          14,
          15,
          16,
          17,
          18,
          19,
          20,
          21,
          22,
          23,
          24,
          25,
          26,
          27,
          28,
          29,
          30,
          31,
          32,
          33,
          34,
          35,
          36,
          37,
          38,
          39,
          40,
          41,
          42,
          43,
          44,
          45,
          46,
          47,
          48,
          49,
          50,
          51,
          52,
          53,
          54,
          55,
          56,
          57,
          58,
          59,
          60,
          61,
          62,
          63,
          64,
          65,
          66,
          67,
          68,
          69,
          70,
          71,
          72,
          73,
          74,
          75,
          76,
          77,
          78,
          79,
          80,
          81,
          82,
          83,
          84,
          85,
          86,
          87,
          88,
          89,
          90,
          91,
          92,
          93,
          94,
          95,
          96,
          97,
          98,
          99,
          100,
          101,
          102,
          103,
          104,
          105,
          106,
          107,
          108,
          109,
          110,
          111,
          112,
          113,
          114,
          115,
          116,
          117,
          118,
          119,
          120,
          121,
          122,
          123,
          124,
          125,
          126,
          127,
          128,
          129,
          130,
          131,
          132,
          133,
          134,
          135,
          136,
          137,
          138,
          139,
          140,
          141,
          142,
          143,
          144,
          145,
          146,
          147,
          148,
          149,
          150,
          151,
          152,
          153,
          154,
          155,
          156,
          157,
          158,
          159,
          160,
          161,
          162,
          163,
          164,
          165,
          166,
          167,
          168,
          169,
          170,
          171,
          172,
          173,
          174,
          175,
          176,
          177,
          178,
          179,
          180,
          181,
          182,
          183,
          184,
          185,
          186,
          187,
          188,
          189,
          190,
          191,
          192,
          193,
          194,
          195,
          196,
          197,
          198,
          199
         ],
         "y": [
          0.60855,
          0.53905,
          0.47941,
          0.42921,
          0.38506,
          0.34883,
          0.31704,
          0.2874,
          0.26245,
          0.24102,
          0.22108,
          0.20267,
          0.18411,
          0.16992,
          0.15301,
          0.13825,
          0.12491,
          0.11304,
          0.1025,
          0.09309,
          0.08465,
          0.07729,
          0.0708,
          0.06527,
          0.05984,
          0.05496,
          0.05089,
          0.04678,
          0.04364,
          0.04081,
          0.03839,
          0.03625,
          0.03432,
          0.03252,
          0.03085,
          0.02909,
          0.02805,
          0.02646,
          0.02509,
          0.02395,
          0.0228,
          0.02225,
          0.02134,
          0.02051,
          0.01945,
          0.01855,
          0.01823,
          0.01814,
          0.0177,
          0.01736,
          0.0172,
          0.01691,
          0.01679,
          0.01653,
          0.0163,
          0.01621,
          0.01621,
          0.01595,
          0.01595,
          0.01595,
          0.01576,
          0.01576,
          0.01576,
          0.01556,
          0.01538,
          0.01521,
          0.01521,
          0.01521,
          0.01521,
          0.01521,
          0.01521,
          0.01521,
          0.01521,
          0.01521,
          0.01521,
          0.01521,
          0.01521,
          0.01521,
          0.01521,
          0.01521,
          0.01521,
          0.01521,
          0.01521,
          0.01521,
          0.01521,
          0.01521,
          0.01521,
          0.01521,
          0.01521,
          0.01521,
          0.01521,
          0.01521,
          0.01521,
          0.01521,
          0.01521,
          0.01521,
          0.01521,
          0.01521,
          0.01521,
          0.01521,
          0.01521,
          0.01521,
          0.01521,
          0.01521,
          0.01521,
          0.0152,
          0.01521,
          0.01521,
          0.01521,
          0.0152,
          0.01521,
          0.0152,
          0.01521,
          0.01521,
          0.01521,
          0.01521,
          0.01521,
          0.01521,
          0.01521,
          0.01521,
          0.01521,
          0.01521,
          0.01521,
          0.01521,
          0.01521,
          0.01521,
          0.01521,
          0.01521,
          0.0152,
          0.0152,
          0.0152,
          0.0152,
          0.0152,
          0.0152,
          0.0152,
          0.01521,
          0.01521,
          0.01521,
          0.01521,
          0.01521,
          0.01521,
          0.01521,
          0.01521,
          0.01521,
          0.01521,
          0.01521,
          0.01521,
          0.01521,
          0.01521,
          0.01521,
          0.01521,
          0.01521,
          0.01521,
          0.0152,
          0.0152,
          0.0152,
          0.01484,
          0.01484,
          0.01484,
          0.01484,
          0.01484,
          0.01485,
          0.01484,
          0.01485,
          0.01485,
          0.01484,
          0.01484,
          0.01485,
          0.01485,
          0.01485,
          0.01485,
          0.01485,
          0.01485,
          0.01484,
          0.01484,
          0.01484,
          0.01484,
          0.01485,
          0.01485,
          0.01485,
          0.01484,
          0.01484,
          0.01484,
          0.01484,
          0.01484,
          0.01484,
          0.01484,
          0.01484,
          0.01484,
          0.01484,
          0.01484,
          0.01484,
          0.01484,
          0.01484,
          0.01484,
          0.01484,
          0.01484,
          0.01484,
          0.01484,
          0.01484
         ]
        }
       ],
       "layout": {
        "template": {
         "data": {
          "bar": [
           {
            "error_x": {
             "color": "#2a3f5f"
            },
            "error_y": {
             "color": "#2a3f5f"
            },
            "marker": {
             "line": {
              "color": "#E5ECF6",
              "width": 0.5
             },
             "pattern": {
              "fillmode": "overlay",
              "size": 10,
              "solidity": 0.2
             }
            },
            "type": "bar"
           }
          ],
          "barpolar": [
           {
            "marker": {
             "line": {
              "color": "#E5ECF6",
              "width": 0.5
             },
             "pattern": {
              "fillmode": "overlay",
              "size": 10,
              "solidity": 0.2
             }
            },
            "type": "barpolar"
           }
          ],
          "carpet": [
           {
            "aaxis": {
             "endlinecolor": "#2a3f5f",
             "gridcolor": "white",
             "linecolor": "white",
             "minorgridcolor": "white",
             "startlinecolor": "#2a3f5f"
            },
            "baxis": {
             "endlinecolor": "#2a3f5f",
             "gridcolor": "white",
             "linecolor": "white",
             "minorgridcolor": "white",
             "startlinecolor": "#2a3f5f"
            },
            "type": "carpet"
           }
          ],
          "choropleth": [
           {
            "colorbar": {
             "outlinewidth": 0,
             "ticks": ""
            },
            "type": "choropleth"
           }
          ],
          "contour": [
           {
            "colorbar": {
             "outlinewidth": 0,
             "ticks": ""
            },
            "colorscale": [
             [
              0,
              "#0d0887"
             ],
             [
              0.1111111111111111,
              "#46039f"
             ],
             [
              0.2222222222222222,
              "#7201a8"
             ],
             [
              0.3333333333333333,
              "#9c179e"
             ],
             [
              0.4444444444444444,
              "#bd3786"
             ],
             [
              0.5555555555555556,
              "#d8576b"
             ],
             [
              0.6666666666666666,
              "#ed7953"
             ],
             [
              0.7777777777777778,
              "#fb9f3a"
             ],
             [
              0.8888888888888888,
              "#fdca26"
             ],
             [
              1,
              "#f0f921"
             ]
            ],
            "type": "contour"
           }
          ],
          "contourcarpet": [
           {
            "colorbar": {
             "outlinewidth": 0,
             "ticks": ""
            },
            "type": "contourcarpet"
           }
          ],
          "heatmap": [
           {
            "colorbar": {
             "outlinewidth": 0,
             "ticks": ""
            },
            "colorscale": [
             [
              0,
              "#0d0887"
             ],
             [
              0.1111111111111111,
              "#46039f"
             ],
             [
              0.2222222222222222,
              "#7201a8"
             ],
             [
              0.3333333333333333,
              "#9c179e"
             ],
             [
              0.4444444444444444,
              "#bd3786"
             ],
             [
              0.5555555555555556,
              "#d8576b"
             ],
             [
              0.6666666666666666,
              "#ed7953"
             ],
             [
              0.7777777777777778,
              "#fb9f3a"
             ],
             [
              0.8888888888888888,
              "#fdca26"
             ],
             [
              1,
              "#f0f921"
             ]
            ],
            "type": "heatmap"
           }
          ],
          "heatmapgl": [
           {
            "colorbar": {
             "outlinewidth": 0,
             "ticks": ""
            },
            "colorscale": [
             [
              0,
              "#0d0887"
             ],
             [
              0.1111111111111111,
              "#46039f"
             ],
             [
              0.2222222222222222,
              "#7201a8"
             ],
             [
              0.3333333333333333,
              "#9c179e"
             ],
             [
              0.4444444444444444,
              "#bd3786"
             ],
             [
              0.5555555555555556,
              "#d8576b"
             ],
             [
              0.6666666666666666,
              "#ed7953"
             ],
             [
              0.7777777777777778,
              "#fb9f3a"
             ],
             [
              0.8888888888888888,
              "#fdca26"
             ],
             [
              1,
              "#f0f921"
             ]
            ],
            "type": "heatmapgl"
           }
          ],
          "histogram": [
           {
            "marker": {
             "pattern": {
              "fillmode": "overlay",
              "size": 10,
              "solidity": 0.2
             }
            },
            "type": "histogram"
           }
          ],
          "histogram2d": [
           {
            "colorbar": {
             "outlinewidth": 0,
             "ticks": ""
            },
            "colorscale": [
             [
              0,
              "#0d0887"
             ],
             [
              0.1111111111111111,
              "#46039f"
             ],
             [
              0.2222222222222222,
              "#7201a8"
             ],
             [
              0.3333333333333333,
              "#9c179e"
             ],
             [
              0.4444444444444444,
              "#bd3786"
             ],
             [
              0.5555555555555556,
              "#d8576b"
             ],
             [
              0.6666666666666666,
              "#ed7953"
             ],
             [
              0.7777777777777778,
              "#fb9f3a"
             ],
             [
              0.8888888888888888,
              "#fdca26"
             ],
             [
              1,
              "#f0f921"
             ]
            ],
            "type": "histogram2d"
           }
          ],
          "histogram2dcontour": [
           {
            "colorbar": {
             "outlinewidth": 0,
             "ticks": ""
            },
            "colorscale": [
             [
              0,
              "#0d0887"
             ],
             [
              0.1111111111111111,
              "#46039f"
             ],
             [
              0.2222222222222222,
              "#7201a8"
             ],
             [
              0.3333333333333333,
              "#9c179e"
             ],
             [
              0.4444444444444444,
              "#bd3786"
             ],
             [
              0.5555555555555556,
              "#d8576b"
             ],
             [
              0.6666666666666666,
              "#ed7953"
             ],
             [
              0.7777777777777778,
              "#fb9f3a"
             ],
             [
              0.8888888888888888,
              "#fdca26"
             ],
             [
              1,
              "#f0f921"
             ]
            ],
            "type": "histogram2dcontour"
           }
          ],
          "mesh3d": [
           {
            "colorbar": {
             "outlinewidth": 0,
             "ticks": ""
            },
            "type": "mesh3d"
           }
          ],
          "parcoords": [
           {
            "line": {
             "colorbar": {
              "outlinewidth": 0,
              "ticks": ""
             }
            },
            "type": "parcoords"
           }
          ],
          "pie": [
           {
            "automargin": true,
            "type": "pie"
           }
          ],
          "scatter": [
           {
            "fillpattern": {
             "fillmode": "overlay",
             "size": 10,
             "solidity": 0.2
            },
            "type": "scatter"
           }
          ],
          "scatter3d": [
           {
            "line": {
             "colorbar": {
              "outlinewidth": 0,
              "ticks": ""
             }
            },
            "marker": {
             "colorbar": {
              "outlinewidth": 0,
              "ticks": ""
             }
            },
            "type": "scatter3d"
           }
          ],
          "scattercarpet": [
           {
            "marker": {
             "colorbar": {
              "outlinewidth": 0,
              "ticks": ""
             }
            },
            "type": "scattercarpet"
           }
          ],
          "scattergeo": [
           {
            "marker": {
             "colorbar": {
              "outlinewidth": 0,
              "ticks": ""
             }
            },
            "type": "scattergeo"
           }
          ],
          "scattergl": [
           {
            "marker": {
             "colorbar": {
              "outlinewidth": 0,
              "ticks": ""
             }
            },
            "type": "scattergl"
           }
          ],
          "scattermapbox": [
           {
            "marker": {
             "colorbar": {
              "outlinewidth": 0,
              "ticks": ""
             }
            },
            "type": "scattermapbox"
           }
          ],
          "scatterpolar": [
           {
            "marker": {
             "colorbar": {
              "outlinewidth": 0,
              "ticks": ""
             }
            },
            "type": "scatterpolar"
           }
          ],
          "scatterpolargl": [
           {
            "marker": {
             "colorbar": {
              "outlinewidth": 0,
              "ticks": ""
             }
            },
            "type": "scatterpolargl"
           }
          ],
          "scatterternary": [
           {
            "marker": {
             "colorbar": {
              "outlinewidth": 0,
              "ticks": ""
             }
            },
            "type": "scatterternary"
           }
          ],
          "surface": [
           {
            "colorbar": {
             "outlinewidth": 0,
             "ticks": ""
            },
            "colorscale": [
             [
              0,
              "#0d0887"
             ],
             [
              0.1111111111111111,
              "#46039f"
             ],
             [
              0.2222222222222222,
              "#7201a8"
             ],
             [
              0.3333333333333333,
              "#9c179e"
             ],
             [
              0.4444444444444444,
              "#bd3786"
             ],
             [
              0.5555555555555556,
              "#d8576b"
             ],
             [
              0.6666666666666666,
              "#ed7953"
             ],
             [
              0.7777777777777778,
              "#fb9f3a"
             ],
             [
              0.8888888888888888,
              "#fdca26"
             ],
             [
              1,
              "#f0f921"
             ]
            ],
            "type": "surface"
           }
          ],
          "table": [
           {
            "cells": {
             "fill": {
              "color": "#EBF0F8"
             },
             "line": {
              "color": "white"
             }
            },
            "header": {
             "fill": {
              "color": "#C8D4E3"
             },
             "line": {
              "color": "white"
             }
            },
            "type": "table"
           }
          ]
         },
         "layout": {
          "annotationdefaults": {
           "arrowcolor": "#2a3f5f",
           "arrowhead": 0,
           "arrowwidth": 1
          },
          "autotypenumbers": "strict",
          "coloraxis": {
           "colorbar": {
            "outlinewidth": 0,
            "ticks": ""
           }
          },
          "colorscale": {
           "diverging": [
            [
             0,
             "#8e0152"
            ],
            [
             0.1,
             "#c51b7d"
            ],
            [
             0.2,
             "#de77ae"
            ],
            [
             0.3,
             "#f1b6da"
            ],
            [
             0.4,
             "#fde0ef"
            ],
            [
             0.5,
             "#f7f7f7"
            ],
            [
             0.6,
             "#e6f5d0"
            ],
            [
             0.7,
             "#b8e186"
            ],
            [
             0.8,
             "#7fbc41"
            ],
            [
             0.9,
             "#4d9221"
            ],
            [
             1,
             "#276419"
            ]
           ],
           "sequential": [
            [
             0,
             "#0d0887"
            ],
            [
             0.1111111111111111,
             "#46039f"
            ],
            [
             0.2222222222222222,
             "#7201a8"
            ],
            [
             0.3333333333333333,
             "#9c179e"
            ],
            [
             0.4444444444444444,
             "#bd3786"
            ],
            [
             0.5555555555555556,
             "#d8576b"
            ],
            [
             0.6666666666666666,
             "#ed7953"
            ],
            [
             0.7777777777777778,
             "#fb9f3a"
            ],
            [
             0.8888888888888888,
             "#fdca26"
            ],
            [
             1,
             "#f0f921"
            ]
           ],
           "sequentialminus": [
            [
             0,
             "#0d0887"
            ],
            [
             0.1111111111111111,
             "#46039f"
            ],
            [
             0.2222222222222222,
             "#7201a8"
            ],
            [
             0.3333333333333333,
             "#9c179e"
            ],
            [
             0.4444444444444444,
             "#bd3786"
            ],
            [
             0.5555555555555556,
             "#d8576b"
            ],
            [
             0.6666666666666666,
             "#ed7953"
            ],
            [
             0.7777777777777778,
             "#fb9f3a"
            ],
            [
             0.8888888888888888,
             "#fdca26"
            ],
            [
             1,
             "#f0f921"
            ]
           ]
          },
          "colorway": [
           "#636efa",
           "#EF553B",
           "#00cc96",
           "#ab63fa",
           "#FFA15A",
           "#19d3f3",
           "#FF6692",
           "#B6E880",
           "#FF97FF",
           "#FECB52"
          ],
          "font": {
           "color": "#2a3f5f"
          },
          "geo": {
           "bgcolor": "white",
           "lakecolor": "white",
           "landcolor": "#E5ECF6",
           "showlakes": true,
           "showland": true,
           "subunitcolor": "white"
          },
          "hoverlabel": {
           "align": "left"
          },
          "hovermode": "closest",
          "mapbox": {
           "style": "light"
          },
          "paper_bgcolor": "white",
          "plot_bgcolor": "#E5ECF6",
          "polar": {
           "angularaxis": {
            "gridcolor": "white",
            "linecolor": "white",
            "ticks": ""
           },
           "bgcolor": "#E5ECF6",
           "radialaxis": {
            "gridcolor": "white",
            "linecolor": "white",
            "ticks": ""
           }
          },
          "scene": {
           "xaxis": {
            "backgroundcolor": "#E5ECF6",
            "gridcolor": "white",
            "gridwidth": 2,
            "linecolor": "white",
            "showbackground": true,
            "ticks": "",
            "zerolinecolor": "white"
           },
           "yaxis": {
            "backgroundcolor": "#E5ECF6",
            "gridcolor": "white",
            "gridwidth": 2,
            "linecolor": "white",
            "showbackground": true,
            "ticks": "",
            "zerolinecolor": "white"
           },
           "zaxis": {
            "backgroundcolor": "#E5ECF6",
            "gridcolor": "white",
            "gridwidth": 2,
            "linecolor": "white",
            "showbackground": true,
            "ticks": "",
            "zerolinecolor": "white"
           }
          },
          "shapedefaults": {
           "line": {
            "color": "#2a3f5f"
           }
          },
          "ternary": {
           "aaxis": {
            "gridcolor": "white",
            "linecolor": "white",
            "ticks": ""
           },
           "baxis": {
            "gridcolor": "white",
            "linecolor": "white",
            "ticks": ""
           },
           "bgcolor": "#E5ECF6",
           "caxis": {
            "gridcolor": "white",
            "linecolor": "white",
            "ticks": ""
           }
          },
          "title": {
           "x": 0.05
          },
          "xaxis": {
           "automargin": true,
           "gridcolor": "white",
           "linecolor": "white",
           "ticks": "",
           "title": {
            "standoff": 15
           },
           "zerolinecolor": "white",
           "zerolinewidth": 2
          },
          "yaxis": {
           "automargin": true,
           "gridcolor": "white",
           "linecolor": "white",
           "ticks": "",
           "title": {
            "standoff": 15
           },
           "zerolinecolor": "white",
           "zerolinewidth": 2
          }
         }
        }
       }
      },
      "text/html": [
       "<div>                            <div id=\"ff9e320b-3bff-4d7a-a35f-18c6b2651cab\" class=\"plotly-graph-div\" style=\"height:525px; width:100%;\"></div>            <script type=\"text/javascript\">                require([\"plotly\"], function(Plotly) {                    window.PLOTLYENV=window.PLOTLYENV || {};                                    if (document.getElementById(\"ff9e320b-3bff-4d7a-a35f-18c6b2651cab\")) {                    Plotly.newPlot(                        \"ff9e320b-3bff-4d7a-a35f-18c6b2651cab\",                        [{\"name\":\"train-logloss\",\"x\":[0,1,2,3,4,5,6,7,8,9,10,11,12,13,14,15,16,17,18,19,20,21,22,23,24,25,26,27,28,29,30,31,32,33,34,35,36,37,38,39,40,41,42,43,44,45,46,47,48,49,50,51,52,53,54,55,56,57,58,59,60,61,62,63,64,65,66,67,68,69,70,71,72,73,74,75,76,77,78,79,80,81,82,83,84,85,86,87,88,89,90,91,92,93,94,95,96,97,98,99,100,101,102,103,104,105,106,107,108,109,110,111,112,113,114,115,116,117,118,119,120,121,122,123,124,125,126,127,128,129,130,131,132,133,134,135,136,137,138,139,140,141,142,143,144,145,146,147,148,149,150,151,152,153,154,155,156,157,158,159,160,161,162,163,164,165,166,167,168,169,170,171,172,173,174,175,176,177,178,179,180,181,182,183,184,185,186,187,188,189,190,191,192,193,194,195,196,197,198,199],\"y\":[0.60616,0.53487,0.47449,0.42278,0.37753,0.33974,0.30773,0.27794,0.25257,0.23012,0.20974,0.19169,0.17336,0.15922,0.14304,0.12894,0.11625,0.10496,0.09493,0.08598,0.07797,0.07097,0.06487,0.05952,0.05434,0.04969,0.04583,0.04198,0.03891,0.03617,0.0338,0.03177,0.02987,0.02815,0.02664,0.0251,0.02406,0.02268,0.02142,0.02037,0.01932,0.01873,0.01789,0.01713,0.01622,0.0155,0.01513,0.015,0.01455,0.01421,0.01401,0.0137,0.01354,0.01328,0.01304,0.01295,0.01295,0.01268,0.01268,0.01268,0.01251,0.01251,0.01251,0.01231,0.01212,0.01198,0.01198,0.01198,0.01198,0.01198,0.01198,0.01198,0.01198,0.01198,0.01198,0.01198,0.01198,0.01198,0.01198,0.01198,0.01198,0.01198,0.01198,0.01198,0.01198,0.01198,0.01198,0.01198,0.01198,0.01198,0.01198,0.01198,0.01198,0.01198,0.01198,0.01198,0.01198,0.01198,0.01198,0.01198,0.01198,0.01198,0.01198,0.01198,0.01198,0.01198,0.01198,0.01198,0.01198,0.01198,0.01198,0.01198,0.01198,0.01198,0.01198,0.01198,0.01198,0.01198,0.01198,0.01198,0.01198,0.01198,0.01198,0.01198,0.01198,0.01198,0.01198,0.01198,0.01198,0.01198,0.01198,0.01198,0.01198,0.01198,0.01198,0.01198,0.01198,0.01198,0.01198,0.01198,0.01198,0.01198,0.01198,0.01198,0.01198,0.01198,0.01198,0.01198,0.01198,0.01198,0.01198,0.01198,0.01198,0.01198,0.01198,0.01198,0.01168,0.01168,0.01168,0.01168,0.01168,0.01168,0.01168,0.01168,0.01168,0.01168,0.01168,0.01168,0.01168,0.01168,0.01168,0.01168,0.01168,0.01168,0.01168,0.01168,0.01168,0.01168,0.01168,0.01168,0.01168,0.01168,0.01168,0.01168,0.01168,0.01168,0.01168,0.01168,0.01168,0.01168,0.01168,0.01168,0.01168,0.01168,0.01168,0.01168,0.01168,0.01168,0.01168,0.01168],\"type\":\"scatter\"},{\"name\":\"validation-logloss\",\"x\":[0,1,2,3,4,5,6,7,8,9,10,11,12,13,14,15,16,17,18,19,20,21,22,23,24,25,26,27,28,29,30,31,32,33,34,35,36,37,38,39,40,41,42,43,44,45,46,47,48,49,50,51,52,53,54,55,56,57,58,59,60,61,62,63,64,65,66,67,68,69,70,71,72,73,74,75,76,77,78,79,80,81,82,83,84,85,86,87,88,89,90,91,92,93,94,95,96,97,98,99,100,101,102,103,104,105,106,107,108,109,110,111,112,113,114,115,116,117,118,119,120,121,122,123,124,125,126,127,128,129,130,131,132,133,134,135,136,137,138,139,140,141,142,143,144,145,146,147,148,149,150,151,152,153,154,155,156,157,158,159,160,161,162,163,164,165,166,167,168,169,170,171,172,173,174,175,176,177,178,179,180,181,182,183,184,185,186,187,188,189,190,191,192,193,194,195,196,197,198,199],\"y\":[0.60855,0.53905,0.47941,0.42921,0.38506,0.34883,0.31704,0.2874,0.26245,0.24102,0.22108,0.20267,0.18411,0.16992,0.15301,0.13825,0.12491,0.11304,0.1025,0.09309,0.08465,0.07729,0.0708,0.06527,0.05984,0.05496,0.05089,0.04678,0.04364,0.04081,0.03839,0.03625,0.03432,0.03252,0.03085,0.02909,0.02805,0.02646,0.02509,0.02395,0.0228,0.02225,0.02134,0.02051,0.01945,0.01855,0.01823,0.01814,0.0177,0.01736,0.0172,0.01691,0.01679,0.01653,0.0163,0.01621,0.01621,0.01595,0.01595,0.01595,0.01576,0.01576,0.01576,0.01556,0.01538,0.01521,0.01521,0.01521,0.01521,0.01521,0.01521,0.01521,0.01521,0.01521,0.01521,0.01521,0.01521,0.01521,0.01521,0.01521,0.01521,0.01521,0.01521,0.01521,0.01521,0.01521,0.01521,0.01521,0.01521,0.01521,0.01521,0.01521,0.01521,0.01521,0.01521,0.01521,0.01521,0.01521,0.01521,0.01521,0.01521,0.01521,0.01521,0.01521,0.01521,0.0152,0.01521,0.01521,0.01521,0.0152,0.01521,0.0152,0.01521,0.01521,0.01521,0.01521,0.01521,0.01521,0.01521,0.01521,0.01521,0.01521,0.01521,0.01521,0.01521,0.01521,0.01521,0.01521,0.0152,0.0152,0.0152,0.0152,0.0152,0.0152,0.0152,0.01521,0.01521,0.01521,0.01521,0.01521,0.01521,0.01521,0.01521,0.01521,0.01521,0.01521,0.01521,0.01521,0.01521,0.01521,0.01521,0.01521,0.01521,0.0152,0.0152,0.0152,0.01484,0.01484,0.01484,0.01484,0.01484,0.01485,0.01484,0.01485,0.01485,0.01484,0.01484,0.01485,0.01485,0.01485,0.01485,0.01485,0.01485,0.01484,0.01484,0.01484,0.01484,0.01485,0.01485,0.01485,0.01484,0.01484,0.01484,0.01484,0.01484,0.01484,0.01484,0.01484,0.01484,0.01484,0.01484,0.01484,0.01484,0.01484,0.01484,0.01484,0.01484,0.01484,0.01484,0.01484],\"type\":\"scatter\"}],                        {\"template\":{\"data\":{\"histogram2dcontour\":[{\"type\":\"histogram2dcontour\",\"colorbar\":{\"outlinewidth\":0,\"ticks\":\"\"},\"colorscale\":[[0.0,\"#0d0887\"],[0.1111111111111111,\"#46039f\"],[0.2222222222222222,\"#7201a8\"],[0.3333333333333333,\"#9c179e\"],[0.4444444444444444,\"#bd3786\"],[0.5555555555555556,\"#d8576b\"],[0.6666666666666666,\"#ed7953\"],[0.7777777777777778,\"#fb9f3a\"],[0.8888888888888888,\"#fdca26\"],[1.0,\"#f0f921\"]]}],\"choropleth\":[{\"type\":\"choropleth\",\"colorbar\":{\"outlinewidth\":0,\"ticks\":\"\"}}],\"histogram2d\":[{\"type\":\"histogram2d\",\"colorbar\":{\"outlinewidth\":0,\"ticks\":\"\"},\"colorscale\":[[0.0,\"#0d0887\"],[0.1111111111111111,\"#46039f\"],[0.2222222222222222,\"#7201a8\"],[0.3333333333333333,\"#9c179e\"],[0.4444444444444444,\"#bd3786\"],[0.5555555555555556,\"#d8576b\"],[0.6666666666666666,\"#ed7953\"],[0.7777777777777778,\"#fb9f3a\"],[0.8888888888888888,\"#fdca26\"],[1.0,\"#f0f921\"]]}],\"heatmap\":[{\"type\":\"heatmap\",\"colorbar\":{\"outlinewidth\":0,\"ticks\":\"\"},\"colorscale\":[[0.0,\"#0d0887\"],[0.1111111111111111,\"#46039f\"],[0.2222222222222222,\"#7201a8\"],[0.3333333333333333,\"#9c179e\"],[0.4444444444444444,\"#bd3786\"],[0.5555555555555556,\"#d8576b\"],[0.6666666666666666,\"#ed7953\"],[0.7777777777777778,\"#fb9f3a\"],[0.8888888888888888,\"#fdca26\"],[1.0,\"#f0f921\"]]}],\"heatmapgl\":[{\"type\":\"heatmapgl\",\"colorbar\":{\"outlinewidth\":0,\"ticks\":\"\"},\"colorscale\":[[0.0,\"#0d0887\"],[0.1111111111111111,\"#46039f\"],[0.2222222222222222,\"#7201a8\"],[0.3333333333333333,\"#9c179e\"],[0.4444444444444444,\"#bd3786\"],[0.5555555555555556,\"#d8576b\"],[0.6666666666666666,\"#ed7953\"],[0.7777777777777778,\"#fb9f3a\"],[0.8888888888888888,\"#fdca26\"],[1.0,\"#f0f921\"]]}],\"contourcarpet\":[{\"type\":\"contourcarpet\",\"colorbar\":{\"outlinewidth\":0,\"ticks\":\"\"}}],\"contour\":[{\"type\":\"contour\",\"colorbar\":{\"outlinewidth\":0,\"ticks\":\"\"},\"colorscale\":[[0.0,\"#0d0887\"],[0.1111111111111111,\"#46039f\"],[0.2222222222222222,\"#7201a8\"],[0.3333333333333333,\"#9c179e\"],[0.4444444444444444,\"#bd3786\"],[0.5555555555555556,\"#d8576b\"],[0.6666666666666666,\"#ed7953\"],[0.7777777777777778,\"#fb9f3a\"],[0.8888888888888888,\"#fdca26\"],[1.0,\"#f0f921\"]]}],\"surface\":[{\"type\":\"surface\",\"colorbar\":{\"outlinewidth\":0,\"ticks\":\"\"},\"colorscale\":[[0.0,\"#0d0887\"],[0.1111111111111111,\"#46039f\"],[0.2222222222222222,\"#7201a8\"],[0.3333333333333333,\"#9c179e\"],[0.4444444444444444,\"#bd3786\"],[0.5555555555555556,\"#d8576b\"],[0.6666666666666666,\"#ed7953\"],[0.7777777777777778,\"#fb9f3a\"],[0.8888888888888888,\"#fdca26\"],[1.0,\"#f0f921\"]]}],\"mesh3d\":[{\"type\":\"mesh3d\",\"colorbar\":{\"outlinewidth\":0,\"ticks\":\"\"}}],\"scatter\":[{\"fillpattern\":{\"fillmode\":\"overlay\",\"size\":10,\"solidity\":0.2},\"type\":\"scatter\"}],\"parcoords\":[{\"type\":\"parcoords\",\"line\":{\"colorbar\":{\"outlinewidth\":0,\"ticks\":\"\"}}}],\"scatterpolargl\":[{\"type\":\"scatterpolargl\",\"marker\":{\"colorbar\":{\"outlinewidth\":0,\"ticks\":\"\"}}}],\"bar\":[{\"error_x\":{\"color\":\"#2a3f5f\"},\"error_y\":{\"color\":\"#2a3f5f\"},\"marker\":{\"line\":{\"color\":\"#E5ECF6\",\"width\":0.5},\"pattern\":{\"fillmode\":\"overlay\",\"size\":10,\"solidity\":0.2}},\"type\":\"bar\"}],\"scattergeo\":[{\"type\":\"scattergeo\",\"marker\":{\"colorbar\":{\"outlinewidth\":0,\"ticks\":\"\"}}}],\"scatterpolar\":[{\"type\":\"scatterpolar\",\"marker\":{\"colorbar\":{\"outlinewidth\":0,\"ticks\":\"\"}}}],\"histogram\":[{\"marker\":{\"pattern\":{\"fillmode\":\"overlay\",\"size\":10,\"solidity\":0.2}},\"type\":\"histogram\"}],\"scattergl\":[{\"type\":\"scattergl\",\"marker\":{\"colorbar\":{\"outlinewidth\":0,\"ticks\":\"\"}}}],\"scatter3d\":[{\"type\":\"scatter3d\",\"line\":{\"colorbar\":{\"outlinewidth\":0,\"ticks\":\"\"}},\"marker\":{\"colorbar\":{\"outlinewidth\":0,\"ticks\":\"\"}}}],\"scattermapbox\":[{\"type\":\"scattermapbox\",\"marker\":{\"colorbar\":{\"outlinewidth\":0,\"ticks\":\"\"}}}],\"scatterternary\":[{\"type\":\"scatterternary\",\"marker\":{\"colorbar\":{\"outlinewidth\":0,\"ticks\":\"\"}}}],\"scattercarpet\":[{\"type\":\"scattercarpet\",\"marker\":{\"colorbar\":{\"outlinewidth\":0,\"ticks\":\"\"}}}],\"carpet\":[{\"aaxis\":{\"endlinecolor\":\"#2a3f5f\",\"gridcolor\":\"white\",\"linecolor\":\"white\",\"minorgridcolor\":\"white\",\"startlinecolor\":\"#2a3f5f\"},\"baxis\":{\"endlinecolor\":\"#2a3f5f\",\"gridcolor\":\"white\",\"linecolor\":\"white\",\"minorgridcolor\":\"white\",\"startlinecolor\":\"#2a3f5f\"},\"type\":\"carpet\"}],\"table\":[{\"cells\":{\"fill\":{\"color\":\"#EBF0F8\"},\"line\":{\"color\":\"white\"}},\"header\":{\"fill\":{\"color\":\"#C8D4E3\"},\"line\":{\"color\":\"white\"}},\"type\":\"table\"}],\"barpolar\":[{\"marker\":{\"line\":{\"color\":\"#E5ECF6\",\"width\":0.5},\"pattern\":{\"fillmode\":\"overlay\",\"size\":10,\"solidity\":0.2}},\"type\":\"barpolar\"}],\"pie\":[{\"automargin\":true,\"type\":\"pie\"}]},\"layout\":{\"autotypenumbers\":\"strict\",\"colorway\":[\"#636efa\",\"#EF553B\",\"#00cc96\",\"#ab63fa\",\"#FFA15A\",\"#19d3f3\",\"#FF6692\",\"#B6E880\",\"#FF97FF\",\"#FECB52\"],\"font\":{\"color\":\"#2a3f5f\"},\"hovermode\":\"closest\",\"hoverlabel\":{\"align\":\"left\"},\"paper_bgcolor\":\"white\",\"plot_bgcolor\":\"#E5ECF6\",\"polar\":{\"bgcolor\":\"#E5ECF6\",\"angularaxis\":{\"gridcolor\":\"white\",\"linecolor\":\"white\",\"ticks\":\"\"},\"radialaxis\":{\"gridcolor\":\"white\",\"linecolor\":\"white\",\"ticks\":\"\"}},\"ternary\":{\"bgcolor\":\"#E5ECF6\",\"aaxis\":{\"gridcolor\":\"white\",\"linecolor\":\"white\",\"ticks\":\"\"},\"baxis\":{\"gridcolor\":\"white\",\"linecolor\":\"white\",\"ticks\":\"\"},\"caxis\":{\"gridcolor\":\"white\",\"linecolor\":\"white\",\"ticks\":\"\"}},\"coloraxis\":{\"colorbar\":{\"outlinewidth\":0,\"ticks\":\"\"}},\"colorscale\":{\"sequential\":[[0.0,\"#0d0887\"],[0.1111111111111111,\"#46039f\"],[0.2222222222222222,\"#7201a8\"],[0.3333333333333333,\"#9c179e\"],[0.4444444444444444,\"#bd3786\"],[0.5555555555555556,\"#d8576b\"],[0.6666666666666666,\"#ed7953\"],[0.7777777777777778,\"#fb9f3a\"],[0.8888888888888888,\"#fdca26\"],[1.0,\"#f0f921\"]],\"sequentialminus\":[[0.0,\"#0d0887\"],[0.1111111111111111,\"#46039f\"],[0.2222222222222222,\"#7201a8\"],[0.3333333333333333,\"#9c179e\"],[0.4444444444444444,\"#bd3786\"],[0.5555555555555556,\"#d8576b\"],[0.6666666666666666,\"#ed7953\"],[0.7777777777777778,\"#fb9f3a\"],[0.8888888888888888,\"#fdca26\"],[1.0,\"#f0f921\"]],\"diverging\":[[0,\"#8e0152\"],[0.1,\"#c51b7d\"],[0.2,\"#de77ae\"],[0.3,\"#f1b6da\"],[0.4,\"#fde0ef\"],[0.5,\"#f7f7f7\"],[0.6,\"#e6f5d0\"],[0.7,\"#b8e186\"],[0.8,\"#7fbc41\"],[0.9,\"#4d9221\"],[1,\"#276419\"]]},\"xaxis\":{\"gridcolor\":\"white\",\"linecolor\":\"white\",\"ticks\":\"\",\"title\":{\"standoff\":15},\"zerolinecolor\":\"white\",\"automargin\":true,\"zerolinewidth\":2},\"yaxis\":{\"gridcolor\":\"white\",\"linecolor\":\"white\",\"ticks\":\"\",\"title\":{\"standoff\":15},\"zerolinecolor\":\"white\",\"automargin\":true,\"zerolinewidth\":2},\"scene\":{\"xaxis\":{\"backgroundcolor\":\"#E5ECF6\",\"gridcolor\":\"white\",\"linecolor\":\"white\",\"showbackground\":true,\"ticks\":\"\",\"zerolinecolor\":\"white\",\"gridwidth\":2},\"yaxis\":{\"backgroundcolor\":\"#E5ECF6\",\"gridcolor\":\"white\",\"linecolor\":\"white\",\"showbackground\":true,\"ticks\":\"\",\"zerolinecolor\":\"white\",\"gridwidth\":2},\"zaxis\":{\"backgroundcolor\":\"#E5ECF6\",\"gridcolor\":\"white\",\"linecolor\":\"white\",\"showbackground\":true,\"ticks\":\"\",\"zerolinecolor\":\"white\",\"gridwidth\":2}},\"shapedefaults\":{\"line\":{\"color\":\"#2a3f5f\"}},\"annotationdefaults\":{\"arrowcolor\":\"#2a3f5f\",\"arrowhead\":0,\"arrowwidth\":1},\"geo\":{\"bgcolor\":\"white\",\"landcolor\":\"#E5ECF6\",\"subunitcolor\":\"white\",\"showland\":true,\"showlakes\":true,\"lakecolor\":\"white\"},\"title\":{\"x\":0.05},\"mapbox\":{\"style\":\"light\"}}}},                        {\"responsive\": true}                    ).then(function(){\n",
       "                            \n",
       "var gd = document.getElementById('ff9e320b-3bff-4d7a-a35f-18c6b2651cab');\n",
       "var x = new MutationObserver(function (mutations, observer) {{\n",
       "        var display = window.getComputedStyle(gd).display;\n",
       "        if (!display || display === 'none') {{\n",
       "            console.log([gd, 'removed!']);\n",
       "            Plotly.purge(gd);\n",
       "            observer.disconnect();\n",
       "        }}\n",
       "}});\n",
       "\n",
       "// Listen for the removal of the full notebook cells\n",
       "var notebookContainer = gd.closest('#notebook-container');\n",
       "if (notebookContainer) {{\n",
       "    x.observe(notebookContainer, {childList: true});\n",
       "}}\n",
       "\n",
       "// Listen for the clearing of the current output cell\n",
       "var outputEl = gd.closest('.output');\n",
       "if (outputEl) {{\n",
       "    x.observe(outputEl, {childList: true});\n",
       "}}\n",
       "\n",
       "                        })                };                });            </script>        </div>"
      ]
     },
     "metadata": {},
     "output_type": "display_data"
    }
   ],
   "source": [
    "from plotly import graph_objects as go\n",
    "\n",
    "fig = go.Figure()\n",
    "fig.add_trace(go.Scatter(x=list(range(len(metrics['train:logloss']))), y=metrics['train:logloss'], name='train-logloss'))\n",
    "fig.add_trace(go.Scatter(x=list(range(len(metrics['validation:logloss']))), y=metrics['validation:logloss'], name='validation-logloss'))\n",
    "fig.show()"
   ]
  },
  {
   "cell_type": "markdown",
   "metadata": {},
   "source": [
    "---"
   ]
  },
  {
   "cell_type": "code",
   "execution_count": 55,
   "metadata": {},
   "outputs": [
    {
     "name": "stderr",
     "output_type": "stream",
     "text": [
      "INFO:sagemaker:Creating model with name: mushroom-classification-2024-08-01-09-41-17-296\n",
      "INFO:sagemaker:Creating endpoint-config with name mushroom-classification-2024-08-01-09-41-17-296\n",
      "INFO:sagemaker:Creating endpoint with name mushroom-classification-2024-08-01-09-41-17-296\n"
     ]
    },
    {
     "name": "stdout",
     "output_type": "stream",
     "text": [
      "-------!"
     ]
    }
   ],
   "source": [
    "from sagemaker.serializers import CSVSerializer\n",
    "from sagemaker.deserializers import CSVDeserializer\n",
    "predictor = estimator.deploy(initial_instance_count=1, instance_type='ml.m5.xlarge', serializer=CSVSerializer(), deserializer=CSVDeserializer())"
   ]
  }
 ],
 "metadata": {
  "kernelspec": {
   "display_name": "Python 3",
   "language": "python",
   "name": "python3"
  },
  "language_info": {
   "codemirror_mode": {
    "name": "ipython",
    "version": 3
   },
   "file_extension": ".py",
   "mimetype": "text/x-python",
   "name": "python",
   "nbconvert_exporter": "python",
   "pygments_lexer": "ipython3",
   "version": "3.12.4"
  }
 },
 "nbformat": 4,
 "nbformat_minor": 2
}
