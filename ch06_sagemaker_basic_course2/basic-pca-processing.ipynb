{
 "cells": [
  {
   "cell_type": "markdown",
   "metadata": {},
   "source": [
    "## PCA 차원축소"
   ]
  },
  {
   "cell_type": "markdown",
   "metadata": {},
   "source": [
    "라이브러리 준비"
   ]
  },
  {
   "cell_type": "code",
   "execution_count": 100,
   "metadata": {},
   "outputs": [],
   "source": [
    "import warnings\n",
    "warnings.filterwarnings('ignore')"
   ]
  },
  {
   "cell_type": "code",
   "execution_count": 101,
   "metadata": {},
   "outputs": [
    {
     "data": {
      "text/html": [
       "        <script type=\"text/javascript\">\n",
       "        window.PlotlyConfig = {MathJaxConfig: 'local'};\n",
       "        if (window.MathJax && window.MathJax.Hub && window.MathJax.Hub.Config) {window.MathJax.Hub.Config({SVG: {font: \"STIX-Web\"}});}\n",
       "        if (typeof require !== 'undefined') {\n",
       "        require.undef(\"plotly\");\n",
       "        requirejs.config({\n",
       "            paths: {\n",
       "                'plotly': ['https://cdn.plot.ly/plotly-2.32.0.min']\n",
       "            }\n",
       "        });\n",
       "        require(['plotly'], function(Plotly) {\n",
       "            window._Plotly = Plotly;\n",
       "        });\n",
       "        }\n",
       "        </script>\n",
       "        "
      ]
     },
     "metadata": {},
     "output_type": "display_data"
    }
   ],
   "source": [
    "import plotly.express as px\n",
    "import plotly.graph_objects as go\n",
    "from plotly.subplots import make_subplots\n",
    "import chart_studio.plotly as py\n",
    "import cufflinks as cf\n",
    "cf.go_offline(connected=True)"
   ]
  },
  {
   "cell_type": "code",
   "execution_count": 102,
   "metadata": {},
   "outputs": [],
   "source": [
    "import numpy as np\n",
    "import pandas as pd\n",
    "pd.set_option('display.max_columns', None)\n",
    "pd.set_option('display.max_rows', 500)\n",
    "pd.set_option('display.max_colwidth', None)\n",
    "pd.set_option('display.width', None)\n",
    "pd.set_option('display.max_colwidth', None)\n",
    "import awswrangler as wr"
   ]
  },
  {
   "cell_type": "code",
   "execution_count": 103,
   "metadata": {},
   "outputs": [],
   "source": [
    "import os\n",
    "import pickle\n",
    "import sagemaker\n",
    "import boto3\n",
    "from dotenv import load_dotenv\n",
    "load_dotenv();"
   ]
  },
  {
   "cell_type": "code",
   "execution_count": 104,
   "metadata": {},
   "outputs": [],
   "source": [
    "from sklearn.preprocessing import StandardScaler\n",
    "from sklearn.decomposition import PCA\n",
    "from sklearn.model_selection import train_test_split\n",
    "from sklearn.preprocessing import LabelEncoder\n",
    "from sklearn.metrics import accuracy_score\n",
    "from xgboost import XGBClassifier"
   ]
  },
  {
   "cell_type": "markdown",
   "metadata": {},
   "source": [
    "SageMaker 세션 및 역할 설정"
   ]
  },
  {
   "cell_type": "code",
   "execution_count": 105,
   "metadata": {},
   "outputs": [],
   "source": [
    "boto3_session = boto3.Session(profile_name='awstutor')\n",
    "sagemaker_session = sagemaker.Session(boto_session=boto3_session)\n",
    "role = os.environ.get('SAGEMAKER_EXECUTION_ROLE_ARN')"
   ]
  },
  {
   "cell_type": "markdown",
   "metadata": {},
   "source": [
    "데이터셋 다운로드"
   ]
  },
  {
   "cell_type": "code",
   "execution_count": 106,
   "metadata": {},
   "outputs": [],
   "source": [
    "from sklearn.datasets import fetch_openml\n",
    "# Adult 데이터셋 가져오기\n",
    "adult = fetch_openml(name='adult', version=1, as_frame=True)\n",
    "\n",
    "# 특성과 타겟 분리\n",
    "X = adult.data\n",
    "y = adult.target\n",
    "y.name = 'income'\n",
    "\n",
    "# 타겟 변수를 이진 형태로 변환\n",
    "y = y.map({'<=50K': 0, '>50K': 1})"
   ]
  },
  {
   "cell_type": "markdown",
   "metadata": {},
   "source": [
    "데이터 확인"
   ]
  },
  {
   "cell_type": "code",
   "execution_count": 107,
   "metadata": {},
   "outputs": [
    {
     "data": {
      "text/plain": [
       "income\n",
       "0    37155\n",
       "1    11687\n",
       "Name: count, dtype: int64"
      ]
     },
     "execution_count": 107,
     "metadata": {},
     "output_type": "execute_result"
    }
   ],
   "source": [
    "y.value_counts()"
   ]
  },
  {
   "cell_type": "code",
   "execution_count": 108,
   "metadata": {},
   "outputs": [
    {
     "data": {
      "text/html": [
       "<div>\n",
       "<style scoped>\n",
       "    .dataframe tbody tr th:only-of-type {\n",
       "        vertical-align: middle;\n",
       "    }\n",
       "\n",
       "    .dataframe tbody tr th {\n",
       "        vertical-align: top;\n",
       "    }\n",
       "\n",
       "    .dataframe thead th {\n",
       "        text-align: right;\n",
       "    }\n",
       "</style>\n",
       "<table border=\"1\" class=\"dataframe\">\n",
       "  <thead>\n",
       "    <tr style=\"text-align: right;\">\n",
       "      <th></th>\n",
       "      <th>fnlwgt</th>\n",
       "      <th>education-num</th>\n",
       "    </tr>\n",
       "  </thead>\n",
       "  <tbody>\n",
       "    <tr>\n",
       "      <th>count</th>\n",
       "      <td>4.884200e+04</td>\n",
       "      <td>48842.000000</td>\n",
       "    </tr>\n",
       "    <tr>\n",
       "      <th>mean</th>\n",
       "      <td>1.896641e+05</td>\n",
       "      <td>10.078089</td>\n",
       "    </tr>\n",
       "    <tr>\n",
       "      <th>std</th>\n",
       "      <td>1.056040e+05</td>\n",
       "      <td>2.570973</td>\n",
       "    </tr>\n",
       "    <tr>\n",
       "      <th>min</th>\n",
       "      <td>1.228500e+04</td>\n",
       "      <td>1.000000</td>\n",
       "    </tr>\n",
       "    <tr>\n",
       "      <th>25%</th>\n",
       "      <td>1.175505e+05</td>\n",
       "      <td>9.000000</td>\n",
       "    </tr>\n",
       "    <tr>\n",
       "      <th>50%</th>\n",
       "      <td>1.781445e+05</td>\n",
       "      <td>10.000000</td>\n",
       "    </tr>\n",
       "    <tr>\n",
       "      <th>75%</th>\n",
       "      <td>2.376420e+05</td>\n",
       "      <td>12.000000</td>\n",
       "    </tr>\n",
       "    <tr>\n",
       "      <th>max</th>\n",
       "      <td>1.490400e+06</td>\n",
       "      <td>16.000000</td>\n",
       "    </tr>\n",
       "  </tbody>\n",
       "</table>\n",
       "</div>"
      ],
      "text/plain": [
       "             fnlwgt  education-num\n",
       "count  4.884200e+04   48842.000000\n",
       "mean   1.896641e+05      10.078089\n",
       "std    1.056040e+05       2.570973\n",
       "min    1.228500e+04       1.000000\n",
       "25%    1.175505e+05       9.000000\n",
       "50%    1.781445e+05      10.000000\n",
       "75%    2.376420e+05      12.000000\n",
       "max    1.490400e+06      16.000000"
      ]
     },
     "execution_count": 108,
     "metadata": {},
     "output_type": "execute_result"
    }
   ],
   "source": [
    "X.describe()"
   ]
  },
  {
   "cell_type": "code",
   "execution_count": 109,
   "metadata": {},
   "outputs": [
    {
     "name": "stdout",
     "output_type": "stream",
     "text": [
      "<class 'pandas.core.frame.DataFrame'>\n",
      "RangeIndex: 48842 entries, 0 to 48841\n",
      "Data columns (total 14 columns):\n",
      " #   Column          Non-Null Count  Dtype   \n",
      "---  ------          --------------  -----   \n",
      " 0   age             48842 non-null  category\n",
      " 1   workclass       46043 non-null  category\n",
      " 2   fnlwgt          48842 non-null  int64   \n",
      " 3   education       48842 non-null  category\n",
      " 4   education-num   48842 non-null  int64   \n",
      " 5   marital-status  48842 non-null  category\n",
      " 6   occupation      46033 non-null  category\n",
      " 7   relationship    48842 non-null  category\n",
      " 8   race            48842 non-null  category\n",
      " 9   sex             48842 non-null  category\n",
      " 10  capitalgain     48842 non-null  category\n",
      " 11  capitalloss     48842 non-null  category\n",
      " 12  hoursperweek    48842 non-null  category\n",
      " 13  native-country  47985 non-null  category\n",
      "dtypes: category(12), int64(2)\n",
      "memory usage: 1.3 MB\n"
     ]
    }
   ],
   "source": [
    "X.info()"
   ]
  },
  {
   "cell_type": "code",
   "execution_count": 110,
   "metadata": {},
   "outputs": [
    {
     "data": {
      "text/html": [
       "<div>\n",
       "<style scoped>\n",
       "    .dataframe tbody tr th:only-of-type {\n",
       "        vertical-align: middle;\n",
       "    }\n",
       "\n",
       "    .dataframe tbody tr th {\n",
       "        vertical-align: top;\n",
       "    }\n",
       "\n",
       "    .dataframe thead th {\n",
       "        text-align: right;\n",
       "    }\n",
       "</style>\n",
       "<table border=\"1\" class=\"dataframe\">\n",
       "  <thead>\n",
       "    <tr style=\"text-align: right;\">\n",
       "      <th></th>\n",
       "      <th>age</th>\n",
       "      <th>workclass</th>\n",
       "      <th>fnlwgt</th>\n",
       "      <th>education</th>\n",
       "      <th>education-num</th>\n",
       "      <th>marital-status</th>\n",
       "      <th>occupation</th>\n",
       "      <th>relationship</th>\n",
       "      <th>race</th>\n",
       "      <th>sex</th>\n",
       "      <th>capitalgain</th>\n",
       "      <th>capitalloss</th>\n",
       "      <th>hoursperweek</th>\n",
       "      <th>native-country</th>\n",
       "    </tr>\n",
       "  </thead>\n",
       "  <tbody>\n",
       "    <tr>\n",
       "      <th>0</th>\n",
       "      <td>2</td>\n",
       "      <td>State-gov</td>\n",
       "      <td>77516</td>\n",
       "      <td>Bachelors</td>\n",
       "      <td>13</td>\n",
       "      <td>Never-married</td>\n",
       "      <td>Adm-clerical</td>\n",
       "      <td>Not-in-family</td>\n",
       "      <td>White</td>\n",
       "      <td>Male</td>\n",
       "      <td>1</td>\n",
       "      <td>0</td>\n",
       "      <td>2</td>\n",
       "      <td>United-States</td>\n",
       "    </tr>\n",
       "    <tr>\n",
       "      <th>1</th>\n",
       "      <td>3</td>\n",
       "      <td>Self-emp-not-inc</td>\n",
       "      <td>83311</td>\n",
       "      <td>Bachelors</td>\n",
       "      <td>13</td>\n",
       "      <td>Married-civ-spouse</td>\n",
       "      <td>Exec-managerial</td>\n",
       "      <td>Husband</td>\n",
       "      <td>White</td>\n",
       "      <td>Male</td>\n",
       "      <td>0</td>\n",
       "      <td>0</td>\n",
       "      <td>0</td>\n",
       "      <td>United-States</td>\n",
       "    </tr>\n",
       "    <tr>\n",
       "      <th>2</th>\n",
       "      <td>2</td>\n",
       "      <td>Private</td>\n",
       "      <td>215646</td>\n",
       "      <td>HS-grad</td>\n",
       "      <td>9</td>\n",
       "      <td>Divorced</td>\n",
       "      <td>Handlers-cleaners</td>\n",
       "      <td>Not-in-family</td>\n",
       "      <td>White</td>\n",
       "      <td>Male</td>\n",
       "      <td>0</td>\n",
       "      <td>0</td>\n",
       "      <td>2</td>\n",
       "      <td>United-States</td>\n",
       "    </tr>\n",
       "    <tr>\n",
       "      <th>3</th>\n",
       "      <td>3</td>\n",
       "      <td>Private</td>\n",
       "      <td>234721</td>\n",
       "      <td>11th</td>\n",
       "      <td>7</td>\n",
       "      <td>Married-civ-spouse</td>\n",
       "      <td>Handlers-cleaners</td>\n",
       "      <td>Husband</td>\n",
       "      <td>Black</td>\n",
       "      <td>Male</td>\n",
       "      <td>0</td>\n",
       "      <td>0</td>\n",
       "      <td>2</td>\n",
       "      <td>United-States</td>\n",
       "    </tr>\n",
       "    <tr>\n",
       "      <th>4</th>\n",
       "      <td>1</td>\n",
       "      <td>Private</td>\n",
       "      <td>338409</td>\n",
       "      <td>Bachelors</td>\n",
       "      <td>13</td>\n",
       "      <td>Married-civ-spouse</td>\n",
       "      <td>Prof-specialty</td>\n",
       "      <td>Wife</td>\n",
       "      <td>Black</td>\n",
       "      <td>Female</td>\n",
       "      <td>0</td>\n",
       "      <td>0</td>\n",
       "      <td>2</td>\n",
       "      <td>Cuba</td>\n",
       "    </tr>\n",
       "  </tbody>\n",
       "</table>\n",
       "</div>"
      ],
      "text/plain": [
       "  age         workclass  fnlwgt  education  education-num      marital-status  \\\n",
       "0   2         State-gov   77516  Bachelors             13       Never-married   \n",
       "1   3  Self-emp-not-inc   83311  Bachelors             13  Married-civ-spouse   \n",
       "2   2           Private  215646    HS-grad              9            Divorced   \n",
       "3   3           Private  234721       11th              7  Married-civ-spouse   \n",
       "4   1           Private  338409  Bachelors             13  Married-civ-spouse   \n",
       "\n",
       "          occupation   relationship   race     sex capitalgain capitalloss  \\\n",
       "0       Adm-clerical  Not-in-family  White    Male           1           0   \n",
       "1    Exec-managerial        Husband  White    Male           0           0   \n",
       "2  Handlers-cleaners  Not-in-family  White    Male           0           0   \n",
       "3  Handlers-cleaners        Husband  Black    Male           0           0   \n",
       "4     Prof-specialty           Wife  Black  Female           0           0   \n",
       "\n",
       "  hoursperweek native-country  \n",
       "0            2  United-States  \n",
       "1            0  United-States  \n",
       "2            2  United-States  \n",
       "3            2  United-States  \n",
       "4            2           Cuba  "
      ]
     },
     "execution_count": 110,
     "metadata": {},
     "output_type": "execute_result"
    }
   ],
   "source": [
    "X.head()"
   ]
  },
  {
   "cell_type": "markdown",
   "metadata": {},
   "source": [
    "S3 경로 설정"
   ]
  },
  {
   "cell_type": "code",
   "execution_count": 111,
   "metadata": {},
   "outputs": [],
   "source": [
    "bucket_name = 'dante-sagemaker' # 본인의 버킷명으로 반드시 수정하세요!\n",
    "project_name = 'adult-income-classification'"
   ]
  },
  {
   "cell_type": "code",
   "execution_count": 112,
   "metadata": {},
   "outputs": [
    {
     "name": "stdout",
     "output_type": "stream",
     "text": [
      "train_path: s3://dante-sagemaker/adult-income-classification/input/train/train.recordio\n",
      "val_path: s3://dante-sagemaker/adult-income-classification/input/val/val.recordio\n",
      "test_path: s3://dante-sagemaker/adult-income-classification/input/test/test.csv\n",
      "model_path: s3://dante-sagemaker/adult-income-classification/model\n",
      "asset_path: s3://dante-sagemaker/adult-income-classification/asset\n",
      "checkpoint_path: s3://dante-sagemaker/adult-income-classification/checkpoints\n",
      "script_path: s3://dante-sagemaker/adult-income-classification/script\n",
      "pca_path: s3://dante-sagemaker/adult-income-classification/pca\n"
     ]
    }
   ],
   "source": [
    "input_path = f's3://{bucket_name}/{project_name}/input'\n",
    "output_path = f's3://{bucket_name}/{project_name}/output'\n",
    "model_path = f's3://{bucket_name}/{project_name}/model'\n",
    "asset_path = f's3://{bucket_name}/{project_name}/asset'\n",
    "script_path = f's3://{bucket_name}/{project_name}/script'\n",
    "checkpoint_path = f's3://{bucket_name}/{project_name}/checkpoints'\n",
    "pca_path = f's3://{bucket_name}/{project_name}/pca'\n",
    "\n",
    "train_path = f'{input_path}/train/train.recordio'\n",
    "val_path = f'{input_path}/val/val.recordio'\n",
    "test_path = f'{input_path}/test/test.csv'\n",
    "\n",
    "print('train_path:', train_path)\n",
    "print('val_path:', val_path)\n",
    "print('test_path:', test_path)\n",
    "print('model_path:', model_path)\n",
    "print('asset_path:', asset_path)\n",
    "print('checkpoint_path:', checkpoint_path)\n",
    "print('script_path:', script_path)\n",
    "print('pca_path:', pca_path)"
   ]
  },
  {
   "cell_type": "markdown",
   "metadata": {},
   "source": [
    "테스트 데이터 분리 및 S3 업로드"
   ]
  },
  {
   "cell_type": "code",
   "execution_count": 113,
   "metadata": {},
   "outputs": [],
   "source": [
    "X_tmp, X_test, y_tmp, y_test = train_test_split(X, y, test_size = 0.1, random_state = 2024)"
   ]
  },
  {
   "cell_type": "code",
   "execution_count": 114,
   "metadata": {},
   "outputs": [
    {
     "data": {
      "text/plain": [
       "{'paths': ['s3://dante-sagemaker/adult-income-classification/input/test/test.csv'],\n",
       " 'partitions_values': {}}"
      ]
     },
     "execution_count": 114,
     "metadata": {},
     "output_type": "execute_result"
    }
   ],
   "source": [
    "test_df = pd.concat([y_test, X_test], axis=1)\n",
    "wr.s3.to_csv(test_df, test_path, index=False, boto3_session=boto3_session)"
   ]
  },
  {
   "cell_type": "markdown",
   "metadata": {},
   "source": [
    "데이터 전처리"
   ]
  },
  {
   "cell_type": "code",
   "execution_count": 115,
   "metadata": {},
   "outputs": [],
   "source": [
    "# '?' 값을 NaN으로 대체\n",
    "X_tmp[X_tmp == '?'] = np.nan"
   ]
  },
  {
   "cell_type": "code",
   "execution_count": 144,
   "metadata": {},
   "outputs": [
    {
     "data": {
      "text/plain": [
       "Index(['age', 'workclass', 'education', 'marital-status', 'occupation',\n",
       "       'relationship', 'race', 'sex', 'capitalgain', 'capitalloss',\n",
       "       'hoursperweek', 'native-country'],\n",
       "      dtype='object')"
      ]
     },
     "execution_count": 144,
     "metadata": {},
     "output_type": "execute_result"
    }
   ],
   "source": [
    "# 범주형 데이터 열 이름 확인\n",
    "X_tmp.select_dtypes(include=['object', 'category']).columns"
   ]
  },
  {
   "cell_type": "code",
   "execution_count": 117,
   "metadata": {},
   "outputs": [
    {
     "name": "stdout",
     "output_type": "stream",
     "text": [
      "<class 'pandas.core.frame.DataFrame'>\n",
      "Index: 43957 entries, 25825 to 7816\n",
      "Data columns (total 14 columns):\n",
      " #   Column          Non-Null Count  Dtype   \n",
      "---  ------          --------------  -----   \n",
      " 0   age             43957 non-null  category\n",
      " 1   workclass       43957 non-null  category\n",
      " 2   fnlwgt          43957 non-null  int64   \n",
      " 3   education       43957 non-null  category\n",
      " 4   education-num   43957 non-null  int64   \n",
      " 5   marital-status  43957 non-null  category\n",
      " 6   occupation      43957 non-null  category\n",
      " 7   relationship    43957 non-null  category\n",
      " 8   race            43957 non-null  category\n",
      " 9   sex             43957 non-null  category\n",
      " 10  capitalgain     43957 non-null  category\n",
      " 11  capitalloss     43957 non-null  category\n",
      " 12  hoursperweek    43957 non-null  category\n",
      " 13  native-country  43957 non-null  category\n",
      "dtypes: category(12), int64(2)\n",
      "memory usage: 1.5 MB\n"
     ]
    }
   ],
   "source": [
    "# workclass, occupation, native-country 열은 결측치가 존재하기 때문에 이를 최빈값을 보간합니다.\n",
    "X_tmp['workclass'].fillna(X_tmp['workclass'].mode()[0], inplace=True)\n",
    "X_tmp['occupation'].fillna(X_tmp['occupation'].mode()[0], inplace=True)\n",
    "X_tmp['native-country'].fillna(X_tmp['native-country'].mode()[0], inplace=True)\n",
    "X_tmp.info()"
   ]
  },
  {
   "cell_type": "code",
   "execution_count": 118,
   "metadata": {},
   "outputs": [],
   "source": [
    "X_train, X_val, y_train, y_val = train_test_split(X_tmp, y_tmp, test_size = 0.3, random_state = 2024)"
   ]
  },
  {
   "cell_type": "code",
   "execution_count": 119,
   "metadata": {},
   "outputs": [],
   "source": [
    "# 범주형 변수를 인코딩하기 위한 딕셔너리 생성\n",
    "feature_encoders = {}\n",
    "\n",
    "# 범주형(object, category) 데이터 열 선택\n",
    "categorical_cols = X_train.select_dtypes(include=['object', 'category']).columns\n",
    "\n",
    "# 각 범주형 열에 대해 레이블 인코딩 수행\n",
    "for col in categorical_cols:\n",
    "    # LabelEncoder 객체 생성\n",
    "    encoder = LabelEncoder()\n",
    "    \n",
    "    # 훈련 데이터에 대해 인코더를 학습하고 변환\n",
    "    X_train[col] = encoder.fit_transform(X_train[col])\n",
    "    \n",
    "    # 인코더를 딕셔너리에 저장\n",
    "    feature_encoders[col] = encoder\n",
    "    \n",
    "    # 검증 데이터와 테스트 데이터에 대해 학습된 인코더로 변환\n",
    "    X_val[col] = encoder.transform(X_val[col])"
   ]
  },
  {
   "cell_type": "code",
   "execution_count": 120,
   "metadata": {},
   "outputs": [],
   "source": [
    "# StandardScaler를 사용하여 numeric 특성 스케일링 수행\n",
    "scaler = StandardScaler()\n",
    "\n",
    "# numeric 컬럼 선택\n",
    "numeric_cols = X_train.select_dtypes(include=['int64', 'float64']).columns\n",
    "\n",
    "# 훈련 데이터의 numeric 컬럼에 대해 스케일러를 학습하고 변환\n",
    "X_train[numeric_cols] = scaler.fit_transform(X_train[numeric_cols])\n",
    "\n",
    "# 검증 데이터의 numeric 컬럼에 대해 학습된 스케일러로 변환\n",
    "X_val[numeric_cols] = scaler.transform(X_val[numeric_cols])"
   ]
  },
  {
   "cell_type": "code",
   "execution_count": 121,
   "metadata": {},
   "outputs": [
    {
     "name": "stdout",
     "output_type": "stream",
     "text": [
      "<class 'pandas.core.frame.DataFrame'>\n",
      "Index: 30769 entries, 28878 to 30753\n",
      "Data columns (total 14 columns):\n",
      " #   Column          Non-Null Count  Dtype  \n",
      "---  ------          --------------  -----  \n",
      " 0   age             30769 non-null  float64\n",
      " 1   workclass       30769 non-null  float64\n",
      " 2   fnlwgt          30769 non-null  float64\n",
      " 3   education       30769 non-null  float64\n",
      " 4   education-num   30769 non-null  float64\n",
      " 5   marital-status  30769 non-null  float64\n",
      " 6   occupation      30769 non-null  float64\n",
      " 7   relationship    30769 non-null  float64\n",
      " 8   race            30769 non-null  float64\n",
      " 9   sex             30769 non-null  float64\n",
      " 10  capitalgain     30769 non-null  float64\n",
      " 11  capitalloss     30769 non-null  float64\n",
      " 12  hoursperweek    30769 non-null  float64\n",
      " 13  native-country  30769 non-null  float64\n",
      "dtypes: float64(14)\n",
      "memory usage: 3.5 MB\n"
     ]
    }
   ],
   "source": [
    "# 숫자형 데이터로 모두 변환되었는지 확인\n",
    "X_train.info()"
   ]
  },
  {
   "cell_type": "code",
   "execution_count": 122,
   "metadata": {},
   "outputs": [
    {
     "data": {
      "text/html": [
       "<div>\n",
       "<style scoped>\n",
       "    .dataframe tbody tr th:only-of-type {\n",
       "        vertical-align: middle;\n",
       "    }\n",
       "\n",
       "    .dataframe tbody tr th {\n",
       "        vertical-align: top;\n",
       "    }\n",
       "\n",
       "    .dataframe thead th {\n",
       "        text-align: right;\n",
       "    }\n",
       "</style>\n",
       "<table border=\"1\" class=\"dataframe\">\n",
       "  <thead>\n",
       "    <tr style=\"text-align: right;\">\n",
       "      <th></th>\n",
       "      <th>age</th>\n",
       "      <th>workclass</th>\n",
       "      <th>fnlwgt</th>\n",
       "      <th>education</th>\n",
       "      <th>education-num</th>\n",
       "      <th>marital-status</th>\n",
       "      <th>occupation</th>\n",
       "      <th>relationship</th>\n",
       "      <th>race</th>\n",
       "      <th>sex</th>\n",
       "      <th>capitalgain</th>\n",
       "      <th>capitalloss</th>\n",
       "      <th>hoursperweek</th>\n",
       "      <th>native-country</th>\n",
       "    </tr>\n",
       "  </thead>\n",
       "  <tbody>\n",
       "    <tr>\n",
       "      <th>28878</th>\n",
       "      <td>-1.367510</td>\n",
       "      <td>-0.093884</td>\n",
       "      <td>-0.150088</td>\n",
       "      <td>1.214871</td>\n",
       "      <td>-0.027163</td>\n",
       "      <td>0.912707</td>\n",
       "      <td>-0.290514</td>\n",
       "      <td>0.971772</td>\n",
       "      <td>0.391761</td>\n",
       "      <td>0.704144</td>\n",
       "      <td>-0.269024</td>\n",
       "      <td>-0.204754</td>\n",
       "      <td>-2.176580</td>\n",
       "      <td>0.260168</td>\n",
       "    </tr>\n",
       "    <tr>\n",
       "      <th>4832</th>\n",
       "      <td>0.947673</td>\n",
       "      <td>-0.093884</td>\n",
       "      <td>-1.514669</td>\n",
       "      <td>0.184108</td>\n",
       "      <td>-0.415719</td>\n",
       "      <td>-0.411967</td>\n",
       "      <td>-1.046313</td>\n",
       "      <td>-0.901651</td>\n",
       "      <td>0.391761</td>\n",
       "      <td>0.704144</td>\n",
       "      <td>-0.269024</td>\n",
       "      <td>-0.204754</td>\n",
       "      <td>0.054492</td>\n",
       "      <td>0.260168</td>\n",
       "    </tr>\n",
       "    <tr>\n",
       "      <th>31657</th>\n",
       "      <td>1.719401</td>\n",
       "      <td>2.600820</td>\n",
       "      <td>0.678506</td>\n",
       "      <td>-1.362036</td>\n",
       "      <td>-2.358501</td>\n",
       "      <td>-0.411967</td>\n",
       "      <td>1.724950</td>\n",
       "      <td>-0.901651</td>\n",
       "      <td>0.391761</td>\n",
       "      <td>0.704144</td>\n",
       "      <td>-0.269024</td>\n",
       "      <td>-0.204754</td>\n",
       "      <td>-1.061044</td>\n",
       "      <td>0.260168</td>\n",
       "    </tr>\n",
       "    <tr>\n",
       "      <th>27870</th>\n",
       "      <td>-1.367510</td>\n",
       "      <td>-0.093884</td>\n",
       "      <td>0.288244</td>\n",
       "      <td>1.214871</td>\n",
       "      <td>-0.027163</td>\n",
       "      <td>0.912707</td>\n",
       "      <td>-0.542447</td>\n",
       "      <td>0.971772</td>\n",
       "      <td>0.391761</td>\n",
       "      <td>0.704144</td>\n",
       "      <td>-0.269024</td>\n",
       "      <td>-0.204754</td>\n",
       "      <td>1.170027</td>\n",
       "      <td>0.260168</td>\n",
       "    </tr>\n",
       "    <tr>\n",
       "      <th>26820</th>\n",
       "      <td>-1.367510</td>\n",
       "      <td>-0.093884</td>\n",
       "      <td>-0.676139</td>\n",
       "      <td>1.214871</td>\n",
       "      <td>-0.027163</td>\n",
       "      <td>0.912707</td>\n",
       "      <td>1.221084</td>\n",
       "      <td>0.971772</td>\n",
       "      <td>-1.981795</td>\n",
       "      <td>-1.420164</td>\n",
       "      <td>-0.269024</td>\n",
       "      <td>-0.204754</td>\n",
       "      <td>-2.176580</td>\n",
       "      <td>0.260168</td>\n",
       "    </tr>\n",
       "  </tbody>\n",
       "</table>\n",
       "</div>"
      ],
      "text/plain": [
       "            age  workclass    fnlwgt  education  education-num  \\\n",
       "28878 -1.367510  -0.093884 -0.150088   1.214871      -0.027163   \n",
       "4832   0.947673  -0.093884 -1.514669   0.184108      -0.415719   \n",
       "31657  1.719401   2.600820  0.678506  -1.362036      -2.358501   \n",
       "27870 -1.367510  -0.093884  0.288244   1.214871      -0.027163   \n",
       "26820 -1.367510  -0.093884 -0.676139   1.214871      -0.027163   \n",
       "\n",
       "       marital-status  occupation  relationship      race       sex  \\\n",
       "28878        0.912707   -0.290514      0.971772  0.391761  0.704144   \n",
       "4832        -0.411967   -1.046313     -0.901651  0.391761  0.704144   \n",
       "31657       -0.411967    1.724950     -0.901651  0.391761  0.704144   \n",
       "27870        0.912707   -0.542447      0.971772  0.391761  0.704144   \n",
       "26820        0.912707    1.221084      0.971772 -1.981795 -1.420164   \n",
       "\n",
       "       capitalgain  capitalloss  hoursperweek  native-country  \n",
       "28878    -0.269024    -0.204754     -2.176580        0.260168  \n",
       "4832     -0.269024    -0.204754      0.054492        0.260168  \n",
       "31657    -0.269024    -0.204754     -1.061044        0.260168  \n",
       "27870    -0.269024    -0.204754      1.170027        0.260168  \n",
       "26820    -0.269024    -0.204754     -2.176580        0.260168  "
      ]
     },
     "execution_count": 122,
     "metadata": {},
     "output_type": "execute_result"
    }
   ],
   "source": [
    "X_train.head()"
   ]
  },
  {
   "cell_type": "code",
   "execution_count": 123,
   "metadata": {},
   "outputs": [],
   "source": [
    "# 추후 테스트를 위해 인코더, 스케일러를 파일로 저장\n",
    "os.makedirs('dataset', exist_ok=True)\n",
    "with open('dataset/adult_encoders.pkl', 'wb') as f:\n",
    "    pickle.dump(feature_encoders, f)\n",
    "with open('dataset/adult_scaler.pkl', 'wb') as f:\n",
    "    pickle.dump(scaler, f)"
   ]
  },
  {
   "cell_type": "code",
   "execution_count": 124,
   "metadata": {},
   "outputs": [],
   "source": [
    "# 인코더 업로드\n",
    "encoders_s3_path = os.path.join(asset_path, 'adult_encoders.pkl')\n",
    "wr.s3.upload('dataset/adult_encoders.pkl', encoders_s3_path, boto3_session=boto3_session)\n",
    "# 스케일러 업로드\n",
    "scaler_s3_path = os.path.join(asset_path, 'adult_scaler.pkl')\n",
    "wr.s3.upload('dataset/adult_scaler.pkl', scaler_s3_path, boto3_session=boto3_session)"
   ]
  },
  {
   "cell_type": "markdown",
   "metadata": {},
   "source": [
    "### 로컬 모드\n",
    "---"
   ]
  },
  {
   "cell_type": "markdown",
   "metadata": {},
   "source": [
    "차원 축소"
   ]
  },
  {
   "cell_type": "code",
   "execution_count": 125,
   "metadata": {},
   "outputs": [
    {
     "data": {
      "text/html": [
       "<div>\n",
       "<style scoped>\n",
       "    .dataframe tbody tr th:only-of-type {\n",
       "        vertical-align: middle;\n",
       "    }\n",
       "\n",
       "    .dataframe tbody tr th {\n",
       "        vertical-align: top;\n",
       "    }\n",
       "\n",
       "    .dataframe thead th {\n",
       "        text-align: right;\n",
       "    }\n",
       "</style>\n",
       "<table border=\"1\" class=\"dataframe\">\n",
       "  <thead>\n",
       "    <tr style=\"text-align: right;\">\n",
       "      <th></th>\n",
       "      <th>age</th>\n",
       "      <th>workclass</th>\n",
       "      <th>fnlwgt</th>\n",
       "      <th>education</th>\n",
       "      <th>education-num</th>\n",
       "      <th>marital-status</th>\n",
       "      <th>occupation</th>\n",
       "      <th>relationship</th>\n",
       "      <th>race</th>\n",
       "      <th>sex</th>\n",
       "      <th>capitalgain</th>\n",
       "      <th>capitalloss</th>\n",
       "      <th>hoursperweek</th>\n",
       "      <th>native-country</th>\n",
       "    </tr>\n",
       "  </thead>\n",
       "  <tbody>\n",
       "    <tr>\n",
       "      <th>28878</th>\n",
       "      <td>-1.367510</td>\n",
       "      <td>-0.093884</td>\n",
       "      <td>-0.150088</td>\n",
       "      <td>1.214871</td>\n",
       "      <td>-0.027163</td>\n",
       "      <td>0.912707</td>\n",
       "      <td>-0.290514</td>\n",
       "      <td>0.971772</td>\n",
       "      <td>0.391761</td>\n",
       "      <td>0.704144</td>\n",
       "      <td>-0.269024</td>\n",
       "      <td>-0.204754</td>\n",
       "      <td>-2.176580</td>\n",
       "      <td>0.260168</td>\n",
       "    </tr>\n",
       "    <tr>\n",
       "      <th>4832</th>\n",
       "      <td>0.947673</td>\n",
       "      <td>-0.093884</td>\n",
       "      <td>-1.514669</td>\n",
       "      <td>0.184108</td>\n",
       "      <td>-0.415719</td>\n",
       "      <td>-0.411967</td>\n",
       "      <td>-1.046313</td>\n",
       "      <td>-0.901651</td>\n",
       "      <td>0.391761</td>\n",
       "      <td>0.704144</td>\n",
       "      <td>-0.269024</td>\n",
       "      <td>-0.204754</td>\n",
       "      <td>0.054492</td>\n",
       "      <td>0.260168</td>\n",
       "    </tr>\n",
       "    <tr>\n",
       "      <th>31657</th>\n",
       "      <td>1.719401</td>\n",
       "      <td>2.600820</td>\n",
       "      <td>0.678506</td>\n",
       "      <td>-1.362036</td>\n",
       "      <td>-2.358501</td>\n",
       "      <td>-0.411967</td>\n",
       "      <td>1.724950</td>\n",
       "      <td>-0.901651</td>\n",
       "      <td>0.391761</td>\n",
       "      <td>0.704144</td>\n",
       "      <td>-0.269024</td>\n",
       "      <td>-0.204754</td>\n",
       "      <td>-1.061044</td>\n",
       "      <td>0.260168</td>\n",
       "    </tr>\n",
       "    <tr>\n",
       "      <th>27870</th>\n",
       "      <td>-1.367510</td>\n",
       "      <td>-0.093884</td>\n",
       "      <td>0.288244</td>\n",
       "      <td>1.214871</td>\n",
       "      <td>-0.027163</td>\n",
       "      <td>0.912707</td>\n",
       "      <td>-0.542447</td>\n",
       "      <td>0.971772</td>\n",
       "      <td>0.391761</td>\n",
       "      <td>0.704144</td>\n",
       "      <td>-0.269024</td>\n",
       "      <td>-0.204754</td>\n",
       "      <td>1.170027</td>\n",
       "      <td>0.260168</td>\n",
       "    </tr>\n",
       "    <tr>\n",
       "      <th>26820</th>\n",
       "      <td>-1.367510</td>\n",
       "      <td>-0.093884</td>\n",
       "      <td>-0.676139</td>\n",
       "      <td>1.214871</td>\n",
       "      <td>-0.027163</td>\n",
       "      <td>0.912707</td>\n",
       "      <td>1.221084</td>\n",
       "      <td>0.971772</td>\n",
       "      <td>-1.981795</td>\n",
       "      <td>-1.420164</td>\n",
       "      <td>-0.269024</td>\n",
       "      <td>-0.204754</td>\n",
       "      <td>-2.176580</td>\n",
       "      <td>0.260168</td>\n",
       "    </tr>\n",
       "    <tr>\n",
       "      <th>...</th>\n",
       "      <td>...</td>\n",
       "      <td>...</td>\n",
       "      <td>...</td>\n",
       "      <td>...</td>\n",
       "      <td>...</td>\n",
       "      <td>...</td>\n",
       "      <td>...</td>\n",
       "      <td>...</td>\n",
       "      <td>...</td>\n",
       "      <td>...</td>\n",
       "      <td>...</td>\n",
       "      <td>...</td>\n",
       "      <td>...</td>\n",
       "      <td>...</td>\n",
       "    </tr>\n",
       "    <tr>\n",
       "      <th>19310</th>\n",
       "      <td>0.175946</td>\n",
       "      <td>2.600820</td>\n",
       "      <td>-0.276585</td>\n",
       "      <td>0.441799</td>\n",
       "      <td>1.527062</td>\n",
       "      <td>-0.411967</td>\n",
       "      <td>0.717218</td>\n",
       "      <td>-0.901651</td>\n",
       "      <td>0.391761</td>\n",
       "      <td>0.704144</td>\n",
       "      <td>-0.269024</td>\n",
       "      <td>-0.204754</td>\n",
       "      <td>1.170027</td>\n",
       "      <td>0.260168</td>\n",
       "    </tr>\n",
       "    <tr>\n",
       "      <th>215</th>\n",
       "      <td>0.175946</td>\n",
       "      <td>-0.093884</td>\n",
       "      <td>4.227727</td>\n",
       "      <td>-0.331274</td>\n",
       "      <td>1.138506</td>\n",
       "      <td>0.912707</td>\n",
       "      <td>-0.794380</td>\n",
       "      <td>-0.277177</td>\n",
       "      <td>-1.981795</td>\n",
       "      <td>0.704144</td>\n",
       "      <td>-0.269024</td>\n",
       "      <td>-0.204754</td>\n",
       "      <td>1.170027</td>\n",
       "      <td>0.260168</td>\n",
       "    </tr>\n",
       "    <tr>\n",
       "      <th>8798</th>\n",
       "      <td>-0.595782</td>\n",
       "      <td>-0.093884</td>\n",
       "      <td>0.793315</td>\n",
       "      <td>1.214871</td>\n",
       "      <td>-0.027163</td>\n",
       "      <td>0.912707</td>\n",
       "      <td>0.213352</td>\n",
       "      <td>0.971772</td>\n",
       "      <td>0.391761</td>\n",
       "      <td>0.704144</td>\n",
       "      <td>-0.269024</td>\n",
       "      <td>3.405613</td>\n",
       "      <td>-2.176580</td>\n",
       "      <td>0.260168</td>\n",
       "    </tr>\n",
       "    <tr>\n",
       "      <th>35323</th>\n",
       "      <td>1.719401</td>\n",
       "      <td>-0.093884</td>\n",
       "      <td>-0.017680</td>\n",
       "      <td>-0.588964</td>\n",
       "      <td>0.361393</td>\n",
       "      <td>2.237381</td>\n",
       "      <td>0.717218</td>\n",
       "      <td>1.596247</td>\n",
       "      <td>0.391761</td>\n",
       "      <td>-1.420164</td>\n",
       "      <td>5.090387</td>\n",
       "      <td>-0.204754</td>\n",
       "      <td>0.054492</td>\n",
       "      <td>0.260168</td>\n",
       "    </tr>\n",
       "    <tr>\n",
       "      <th>30753</th>\n",
       "      <td>1.719401</td>\n",
       "      <td>-0.093884</td>\n",
       "      <td>0.445430</td>\n",
       "      <td>1.214871</td>\n",
       "      <td>-0.027163</td>\n",
       "      <td>-0.411967</td>\n",
       "      <td>-0.794380</td>\n",
       "      <td>-0.901651</td>\n",
       "      <td>0.391761</td>\n",
       "      <td>0.704144</td>\n",
       "      <td>-0.269024</td>\n",
       "      <td>-0.204754</td>\n",
       "      <td>0.054492</td>\n",
       "      <td>0.260168</td>\n",
       "    </tr>\n",
       "  </tbody>\n",
       "</table>\n",
       "<p>30769 rows × 14 columns</p>\n",
       "</div>"
      ],
      "text/plain": [
       "            age  workclass    fnlwgt  education  education-num  \\\n",
       "28878 -1.367510  -0.093884 -0.150088   1.214871      -0.027163   \n",
       "4832   0.947673  -0.093884 -1.514669   0.184108      -0.415719   \n",
       "31657  1.719401   2.600820  0.678506  -1.362036      -2.358501   \n",
       "27870 -1.367510  -0.093884  0.288244   1.214871      -0.027163   \n",
       "26820 -1.367510  -0.093884 -0.676139   1.214871      -0.027163   \n",
       "...         ...        ...       ...        ...            ...   \n",
       "19310  0.175946   2.600820 -0.276585   0.441799       1.527062   \n",
       "215    0.175946  -0.093884  4.227727  -0.331274       1.138506   \n",
       "8798  -0.595782  -0.093884  0.793315   1.214871      -0.027163   \n",
       "35323  1.719401  -0.093884 -0.017680  -0.588964       0.361393   \n",
       "30753  1.719401  -0.093884  0.445430   1.214871      -0.027163   \n",
       "\n",
       "       marital-status  occupation  relationship      race       sex  \\\n",
       "28878        0.912707   -0.290514      0.971772  0.391761  0.704144   \n",
       "4832        -0.411967   -1.046313     -0.901651  0.391761  0.704144   \n",
       "31657       -0.411967    1.724950     -0.901651  0.391761  0.704144   \n",
       "27870        0.912707   -0.542447      0.971772  0.391761  0.704144   \n",
       "26820        0.912707    1.221084      0.971772 -1.981795 -1.420164   \n",
       "...               ...         ...           ...       ...       ...   \n",
       "19310       -0.411967    0.717218     -0.901651  0.391761  0.704144   \n",
       "215          0.912707   -0.794380     -0.277177 -1.981795  0.704144   \n",
       "8798         0.912707    0.213352      0.971772  0.391761  0.704144   \n",
       "35323        2.237381    0.717218      1.596247  0.391761 -1.420164   \n",
       "30753       -0.411967   -0.794380     -0.901651  0.391761  0.704144   \n",
       "\n",
       "       capitalgain  capitalloss  hoursperweek  native-country  \n",
       "28878    -0.269024    -0.204754     -2.176580        0.260168  \n",
       "4832     -0.269024    -0.204754      0.054492        0.260168  \n",
       "31657    -0.269024    -0.204754     -1.061044        0.260168  \n",
       "27870    -0.269024    -0.204754      1.170027        0.260168  \n",
       "26820    -0.269024    -0.204754     -2.176580        0.260168  \n",
       "...            ...          ...           ...             ...  \n",
       "19310    -0.269024    -0.204754      1.170027        0.260168  \n",
       "215      -0.269024    -0.204754      1.170027        0.260168  \n",
       "8798     -0.269024     3.405613     -2.176580        0.260168  \n",
       "35323     5.090387    -0.204754      0.054492        0.260168  \n",
       "30753    -0.269024    -0.204754      0.054492        0.260168  \n",
       "\n",
       "[30769 rows x 14 columns]"
      ]
     },
     "execution_count": 125,
     "metadata": {},
     "output_type": "execute_result"
    }
   ],
   "source": [
    "X_train"
   ]
  },
  {
   "cell_type": "code",
   "execution_count": 126,
   "metadata": {},
   "outputs": [],
   "source": [
    "pca = PCA(n_components=0.9)\n",
    "X_train_pca = pca.fit_transform(X_train)\n",
    "X_val_pca = pca.transform(X_val)"
   ]
  },
  {
   "cell_type": "code",
   "execution_count": 127,
   "metadata": {},
   "outputs": [
    {
     "data": {
      "text/plain": [
       "array([0.14994353, 0.10247411, 0.08202965, 0.07952118, 0.07482676,\n",
       "       0.07341251, 0.07094928, 0.06749229, 0.06311276, 0.06087873,\n",
       "       0.05825584, 0.04782387])"
      ]
     },
     "execution_count": 127,
     "metadata": {},
     "output_type": "execute_result"
    }
   ],
   "source": [
    "pca.explained_variance_ratio_"
   ]
  },
  {
   "cell_type": "code",
   "execution_count": 128,
   "metadata": {},
   "outputs": [
    {
     "name": "stdout",
     "output_type": "stream",
     "text": [
      "차원축소 : (30769, 14) -> (30769, 12)\n",
      "차원축소 : (13188, 14) -> (13188, 12)\n"
     ]
    }
   ],
   "source": [
    "print(f\"차원축소 : {X_train.shape} -> {X_train_pca.shape}\")\n",
    "print(f\"차원축소 : {X_val.shape} -> {X_val_pca.shape}\")"
   ]
  },
  {
   "cell_type": "markdown",
   "metadata": {},
   "source": [
    "모델 훈련"
   ]
  },
  {
   "cell_type": "code",
   "execution_count": 129,
   "metadata": {},
   "outputs": [
    {
     "name": "stdout",
     "output_type": "stream",
     "text": [
      "XGBoost 모델의 정확도: 0.8396\n"
     ]
    }
   ],
   "source": [
    "# XGBoost 모델 생성 및 학습\n",
    "xgb_model = XGBClassifier(random_state=2024)\n",
    "xgb_model.fit(X_train_pca, y_train)\n",
    "\n",
    "# 검증 세트에 대한 예측\n",
    "y_val_pred = xgb_model.predict(X_val_pca)\n",
    "\n",
    "# 모델 성능 평가\n",
    "accuracy = accuracy_score(y_val, y_val_pred)\n",
    "print(f\"XGBoost 모델의 정확도: {accuracy:.4f}\")"
   ]
  },
  {
   "cell_type": "markdown",
   "metadata": {},
   "source": [
    "시각화"
   ]
  },
  {
   "cell_type": "code",
   "execution_count": 130,
   "metadata": {},
   "outputs": [
    {
     "data": {
      "application/vnd.plotly.v1+json": {
       "config": {
        "plotlyServerURL": "https://plot.ly"
       },
       "data": [
        {
         "colorscale": [
          [
           0,
           "#440154"
          ],
          [
           0.1111111111111111,
           "#482878"
          ],
          [
           0.2222222222222222,
           "#3e4989"
          ],
          [
           0.3333333333333333,
           "#31688e"
          ],
          [
           0.4444444444444444,
           "#26828e"
          ],
          [
           0.5555555555555556,
           "#1f9e89"
          ],
          [
           0.6666666666666666,
           "#35b779"
          ],
          [
           0.7777777777777778,
           "#6ece58"
          ],
          [
           0.8888888888888888,
           "#b5de2b"
          ],
          [
           1,
           "#fde725"
          ]
         ],
         "type": "heatmap",
         "x": [
          0,
          1
         ],
         "y": [
          0,
          1
         ],
         "z": [
          [
           9208,
           817
          ],
          [
           1299,
           1864
          ]
         ]
        }
       ],
       "layout": {
        "annotations": [
         {
          "font": {
           "color": "black"
          },
          "showarrow": false,
          "text": "9208",
          "x": 0,
          "y": 0
         },
         {
          "font": {
           "color": "white"
          },
          "showarrow": false,
          "text": "817",
          "x": 1,
          "y": 0
         },
         {
          "font": {
           "color": "white"
          },
          "showarrow": false,
          "text": "1299",
          "x": 0,
          "y": 1
         },
         {
          "font": {
           "color": "white"
          },
          "showarrow": false,
          "text": "1864",
          "x": 1,
          "y": 1
         }
        ],
        "template": {
         "data": {
          "bar": [
           {
            "error_x": {
             "color": "#2a3f5f"
            },
            "error_y": {
             "color": "#2a3f5f"
            },
            "marker": {
             "line": {
              "color": "#E5ECF6",
              "width": 0.5
             },
             "pattern": {
              "fillmode": "overlay",
              "size": 10,
              "solidity": 0.2
             }
            },
            "type": "bar"
           }
          ],
          "barpolar": [
           {
            "marker": {
             "line": {
              "color": "#E5ECF6",
              "width": 0.5
             },
             "pattern": {
              "fillmode": "overlay",
              "size": 10,
              "solidity": 0.2
             }
            },
            "type": "barpolar"
           }
          ],
          "carpet": [
           {
            "aaxis": {
             "endlinecolor": "#2a3f5f",
             "gridcolor": "white",
             "linecolor": "white",
             "minorgridcolor": "white",
             "startlinecolor": "#2a3f5f"
            },
            "baxis": {
             "endlinecolor": "#2a3f5f",
             "gridcolor": "white",
             "linecolor": "white",
             "minorgridcolor": "white",
             "startlinecolor": "#2a3f5f"
            },
            "type": "carpet"
           }
          ],
          "choropleth": [
           {
            "colorbar": {
             "outlinewidth": 0,
             "ticks": ""
            },
            "type": "choropleth"
           }
          ],
          "contour": [
           {
            "colorbar": {
             "outlinewidth": 0,
             "ticks": ""
            },
            "colorscale": [
             [
              0,
              "#0d0887"
             ],
             [
              0.1111111111111111,
              "#46039f"
             ],
             [
              0.2222222222222222,
              "#7201a8"
             ],
             [
              0.3333333333333333,
              "#9c179e"
             ],
             [
              0.4444444444444444,
              "#bd3786"
             ],
             [
              0.5555555555555556,
              "#d8576b"
             ],
             [
              0.6666666666666666,
              "#ed7953"
             ],
             [
              0.7777777777777778,
              "#fb9f3a"
             ],
             [
              0.8888888888888888,
              "#fdca26"
             ],
             [
              1,
              "#f0f921"
             ]
            ],
            "type": "contour"
           }
          ],
          "contourcarpet": [
           {
            "colorbar": {
             "outlinewidth": 0,
             "ticks": ""
            },
            "type": "contourcarpet"
           }
          ],
          "heatmap": [
           {
            "colorbar": {
             "outlinewidth": 0,
             "ticks": ""
            },
            "colorscale": [
             [
              0,
              "#0d0887"
             ],
             [
              0.1111111111111111,
              "#46039f"
             ],
             [
              0.2222222222222222,
              "#7201a8"
             ],
             [
              0.3333333333333333,
              "#9c179e"
             ],
             [
              0.4444444444444444,
              "#bd3786"
             ],
             [
              0.5555555555555556,
              "#d8576b"
             ],
             [
              0.6666666666666666,
              "#ed7953"
             ],
             [
              0.7777777777777778,
              "#fb9f3a"
             ],
             [
              0.8888888888888888,
              "#fdca26"
             ],
             [
              1,
              "#f0f921"
             ]
            ],
            "type": "heatmap"
           }
          ],
          "heatmapgl": [
           {
            "colorbar": {
             "outlinewidth": 0,
             "ticks": ""
            },
            "colorscale": [
             [
              0,
              "#0d0887"
             ],
             [
              0.1111111111111111,
              "#46039f"
             ],
             [
              0.2222222222222222,
              "#7201a8"
             ],
             [
              0.3333333333333333,
              "#9c179e"
             ],
             [
              0.4444444444444444,
              "#bd3786"
             ],
             [
              0.5555555555555556,
              "#d8576b"
             ],
             [
              0.6666666666666666,
              "#ed7953"
             ],
             [
              0.7777777777777778,
              "#fb9f3a"
             ],
             [
              0.8888888888888888,
              "#fdca26"
             ],
             [
              1,
              "#f0f921"
             ]
            ],
            "type": "heatmapgl"
           }
          ],
          "histogram": [
           {
            "marker": {
             "pattern": {
              "fillmode": "overlay",
              "size": 10,
              "solidity": 0.2
             }
            },
            "type": "histogram"
           }
          ],
          "histogram2d": [
           {
            "colorbar": {
             "outlinewidth": 0,
             "ticks": ""
            },
            "colorscale": [
             [
              0,
              "#0d0887"
             ],
             [
              0.1111111111111111,
              "#46039f"
             ],
             [
              0.2222222222222222,
              "#7201a8"
             ],
             [
              0.3333333333333333,
              "#9c179e"
             ],
             [
              0.4444444444444444,
              "#bd3786"
             ],
             [
              0.5555555555555556,
              "#d8576b"
             ],
             [
              0.6666666666666666,
              "#ed7953"
             ],
             [
              0.7777777777777778,
              "#fb9f3a"
             ],
             [
              0.8888888888888888,
              "#fdca26"
             ],
             [
              1,
              "#f0f921"
             ]
            ],
            "type": "histogram2d"
           }
          ],
          "histogram2dcontour": [
           {
            "colorbar": {
             "outlinewidth": 0,
             "ticks": ""
            },
            "colorscale": [
             [
              0,
              "#0d0887"
             ],
             [
              0.1111111111111111,
              "#46039f"
             ],
             [
              0.2222222222222222,
              "#7201a8"
             ],
             [
              0.3333333333333333,
              "#9c179e"
             ],
             [
              0.4444444444444444,
              "#bd3786"
             ],
             [
              0.5555555555555556,
              "#d8576b"
             ],
             [
              0.6666666666666666,
              "#ed7953"
             ],
             [
              0.7777777777777778,
              "#fb9f3a"
             ],
             [
              0.8888888888888888,
              "#fdca26"
             ],
             [
              1,
              "#f0f921"
             ]
            ],
            "type": "histogram2dcontour"
           }
          ],
          "mesh3d": [
           {
            "colorbar": {
             "outlinewidth": 0,
             "ticks": ""
            },
            "type": "mesh3d"
           }
          ],
          "parcoords": [
           {
            "line": {
             "colorbar": {
              "outlinewidth": 0,
              "ticks": ""
             }
            },
            "type": "parcoords"
           }
          ],
          "pie": [
           {
            "automargin": true,
            "type": "pie"
           }
          ],
          "scatter": [
           {
            "fillpattern": {
             "fillmode": "overlay",
             "size": 10,
             "solidity": 0.2
            },
            "type": "scatter"
           }
          ],
          "scatter3d": [
           {
            "line": {
             "colorbar": {
              "outlinewidth": 0,
              "ticks": ""
             }
            },
            "marker": {
             "colorbar": {
              "outlinewidth": 0,
              "ticks": ""
             }
            },
            "type": "scatter3d"
           }
          ],
          "scattercarpet": [
           {
            "marker": {
             "colorbar": {
              "outlinewidth": 0,
              "ticks": ""
             }
            },
            "type": "scattercarpet"
           }
          ],
          "scattergeo": [
           {
            "marker": {
             "colorbar": {
              "outlinewidth": 0,
              "ticks": ""
             }
            },
            "type": "scattergeo"
           }
          ],
          "scattergl": [
           {
            "marker": {
             "colorbar": {
              "outlinewidth": 0,
              "ticks": ""
             }
            },
            "type": "scattergl"
           }
          ],
          "scattermapbox": [
           {
            "marker": {
             "colorbar": {
              "outlinewidth": 0,
              "ticks": ""
             }
            },
            "type": "scattermapbox"
           }
          ],
          "scatterpolar": [
           {
            "marker": {
             "colorbar": {
              "outlinewidth": 0,
              "ticks": ""
             }
            },
            "type": "scatterpolar"
           }
          ],
          "scatterpolargl": [
           {
            "marker": {
             "colorbar": {
              "outlinewidth": 0,
              "ticks": ""
             }
            },
            "type": "scatterpolargl"
           }
          ],
          "scatterternary": [
           {
            "marker": {
             "colorbar": {
              "outlinewidth": 0,
              "ticks": ""
             }
            },
            "type": "scatterternary"
           }
          ],
          "surface": [
           {
            "colorbar": {
             "outlinewidth": 0,
             "ticks": ""
            },
            "colorscale": [
             [
              0,
              "#0d0887"
             ],
             [
              0.1111111111111111,
              "#46039f"
             ],
             [
              0.2222222222222222,
              "#7201a8"
             ],
             [
              0.3333333333333333,
              "#9c179e"
             ],
             [
              0.4444444444444444,
              "#bd3786"
             ],
             [
              0.5555555555555556,
              "#d8576b"
             ],
             [
              0.6666666666666666,
              "#ed7953"
             ],
             [
              0.7777777777777778,
              "#fb9f3a"
             ],
             [
              0.8888888888888888,
              "#fdca26"
             ],
             [
              1,
              "#f0f921"
             ]
            ],
            "type": "surface"
           }
          ],
          "table": [
           {
            "cells": {
             "fill": {
              "color": "#EBF0F8"
             },
             "line": {
              "color": "white"
             }
            },
            "header": {
             "fill": {
              "color": "#C8D4E3"
             },
             "line": {
              "color": "white"
             }
            },
            "type": "table"
           }
          ]
         },
         "layout": {
          "annotationdefaults": {
           "arrowcolor": "#2a3f5f",
           "arrowhead": 0,
           "arrowwidth": 1
          },
          "autotypenumbers": "strict",
          "coloraxis": {
           "colorbar": {
            "outlinewidth": 0,
            "ticks": ""
           }
          },
          "colorscale": {
           "diverging": [
            [
             0,
             "#8e0152"
            ],
            [
             0.1,
             "#c51b7d"
            ],
            [
             0.2,
             "#de77ae"
            ],
            [
             0.3,
             "#f1b6da"
            ],
            [
             0.4,
             "#fde0ef"
            ],
            [
             0.5,
             "#f7f7f7"
            ],
            [
             0.6,
             "#e6f5d0"
            ],
            [
             0.7,
             "#b8e186"
            ],
            [
             0.8,
             "#7fbc41"
            ],
            [
             0.9,
             "#4d9221"
            ],
            [
             1,
             "#276419"
            ]
           ],
           "sequential": [
            [
             0,
             "#0d0887"
            ],
            [
             0.1111111111111111,
             "#46039f"
            ],
            [
             0.2222222222222222,
             "#7201a8"
            ],
            [
             0.3333333333333333,
             "#9c179e"
            ],
            [
             0.4444444444444444,
             "#bd3786"
            ],
            [
             0.5555555555555556,
             "#d8576b"
            ],
            [
             0.6666666666666666,
             "#ed7953"
            ],
            [
             0.7777777777777778,
             "#fb9f3a"
            ],
            [
             0.8888888888888888,
             "#fdca26"
            ],
            [
             1,
             "#f0f921"
            ]
           ],
           "sequentialminus": [
            [
             0,
             "#0d0887"
            ],
            [
             0.1111111111111111,
             "#46039f"
            ],
            [
             0.2222222222222222,
             "#7201a8"
            ],
            [
             0.3333333333333333,
             "#9c179e"
            ],
            [
             0.4444444444444444,
             "#bd3786"
            ],
            [
             0.5555555555555556,
             "#d8576b"
            ],
            [
             0.6666666666666666,
             "#ed7953"
            ],
            [
             0.7777777777777778,
             "#fb9f3a"
            ],
            [
             0.8888888888888888,
             "#fdca26"
            ],
            [
             1,
             "#f0f921"
            ]
           ]
          },
          "colorway": [
           "#636efa",
           "#EF553B",
           "#00cc96",
           "#ab63fa",
           "#FFA15A",
           "#19d3f3",
           "#FF6692",
           "#B6E880",
           "#FF97FF",
           "#FECB52"
          ],
          "font": {
           "color": "#2a3f5f"
          },
          "geo": {
           "bgcolor": "white",
           "lakecolor": "white",
           "landcolor": "#E5ECF6",
           "showlakes": true,
           "showland": true,
           "subunitcolor": "white"
          },
          "hoverlabel": {
           "align": "left"
          },
          "hovermode": "closest",
          "mapbox": {
           "style": "light"
          },
          "paper_bgcolor": "white",
          "plot_bgcolor": "#E5ECF6",
          "polar": {
           "angularaxis": {
            "gridcolor": "white",
            "linecolor": "white",
            "ticks": ""
           },
           "bgcolor": "#E5ECF6",
           "radialaxis": {
            "gridcolor": "white",
            "linecolor": "white",
            "ticks": ""
           }
          },
          "scene": {
           "xaxis": {
            "backgroundcolor": "#E5ECF6",
            "gridcolor": "white",
            "gridwidth": 2,
            "linecolor": "white",
            "showbackground": true,
            "ticks": "",
            "zerolinecolor": "white"
           },
           "yaxis": {
            "backgroundcolor": "#E5ECF6",
            "gridcolor": "white",
            "gridwidth": 2,
            "linecolor": "white",
            "showbackground": true,
            "ticks": "",
            "zerolinecolor": "white"
           },
           "zaxis": {
            "backgroundcolor": "#E5ECF6",
            "gridcolor": "white",
            "gridwidth": 2,
            "linecolor": "white",
            "showbackground": true,
            "ticks": "",
            "zerolinecolor": "white"
           }
          },
          "shapedefaults": {
           "line": {
            "color": "#2a3f5f"
           }
          },
          "ternary": {
           "aaxis": {
            "gridcolor": "white",
            "linecolor": "white",
            "ticks": ""
           },
           "baxis": {
            "gridcolor": "white",
            "linecolor": "white",
            "ticks": ""
           },
           "bgcolor": "#E5ECF6",
           "caxis": {
            "gridcolor": "white",
            "linecolor": "white",
            "ticks": ""
           }
          },
          "title": {
           "x": 0.05
          },
          "xaxis": {
           "automargin": true,
           "gridcolor": "white",
           "linecolor": "white",
           "ticks": "",
           "title": {
            "standoff": 15
           },
           "zerolinecolor": "white",
           "zerolinewidth": 2
          },
          "yaxis": {
           "automargin": true,
           "gridcolor": "white",
           "linecolor": "white",
           "ticks": "",
           "title": {
            "standoff": 15
           },
           "zerolinecolor": "white",
           "zerolinewidth": 2
          }
         }
        },
        "title": {
         "text": "혼동 행렬"
        },
        "xaxis": {
         "title": {
          "text": "예측 값"
         }
        },
        "yaxis": {
         "title": {
          "text": "실제 값"
         }
        }
       }
      },
      "text/html": [
       "<div>                            <div id=\"e985e085-a714-439a-85f5-e5a361f6ca02\" class=\"plotly-graph-div\" style=\"height:525px; width:100%;\"></div>            <script type=\"text/javascript\">                require([\"plotly\"], function(Plotly) {                    window.PLOTLYENV=window.PLOTLYENV || {};                                    if (document.getElementById(\"e985e085-a714-439a-85f5-e5a361f6ca02\")) {                    Plotly.newPlot(                        \"e985e085-a714-439a-85f5-e5a361f6ca02\",                        [{\"colorscale\":[[0.0,\"#440154\"],[0.1111111111111111,\"#482878\"],[0.2222222222222222,\"#3e4989\"],[0.3333333333333333,\"#31688e\"],[0.4444444444444444,\"#26828e\"],[0.5555555555555556,\"#1f9e89\"],[0.6666666666666666,\"#35b779\"],[0.7777777777777778,\"#6ece58\"],[0.8888888888888888,\"#b5de2b\"],[1.0,\"#fde725\"]],\"x\":[0,1],\"y\":[0,1],\"z\":[[9208,817],[1299,1864]],\"type\":\"heatmap\"}],                        {\"template\":{\"data\":{\"histogram2dcontour\":[{\"type\":\"histogram2dcontour\",\"colorbar\":{\"outlinewidth\":0,\"ticks\":\"\"},\"colorscale\":[[0.0,\"#0d0887\"],[0.1111111111111111,\"#46039f\"],[0.2222222222222222,\"#7201a8\"],[0.3333333333333333,\"#9c179e\"],[0.4444444444444444,\"#bd3786\"],[0.5555555555555556,\"#d8576b\"],[0.6666666666666666,\"#ed7953\"],[0.7777777777777778,\"#fb9f3a\"],[0.8888888888888888,\"#fdca26\"],[1.0,\"#f0f921\"]]}],\"choropleth\":[{\"type\":\"choropleth\",\"colorbar\":{\"outlinewidth\":0,\"ticks\":\"\"}}],\"histogram2d\":[{\"type\":\"histogram2d\",\"colorbar\":{\"outlinewidth\":0,\"ticks\":\"\"},\"colorscale\":[[0.0,\"#0d0887\"],[0.1111111111111111,\"#46039f\"],[0.2222222222222222,\"#7201a8\"],[0.3333333333333333,\"#9c179e\"],[0.4444444444444444,\"#bd3786\"],[0.5555555555555556,\"#d8576b\"],[0.6666666666666666,\"#ed7953\"],[0.7777777777777778,\"#fb9f3a\"],[0.8888888888888888,\"#fdca26\"],[1.0,\"#f0f921\"]]}],\"heatmap\":[{\"type\":\"heatmap\",\"colorbar\":{\"outlinewidth\":0,\"ticks\":\"\"},\"colorscale\":[[0.0,\"#0d0887\"],[0.1111111111111111,\"#46039f\"],[0.2222222222222222,\"#7201a8\"],[0.3333333333333333,\"#9c179e\"],[0.4444444444444444,\"#bd3786\"],[0.5555555555555556,\"#d8576b\"],[0.6666666666666666,\"#ed7953\"],[0.7777777777777778,\"#fb9f3a\"],[0.8888888888888888,\"#fdca26\"],[1.0,\"#f0f921\"]]}],\"heatmapgl\":[{\"type\":\"heatmapgl\",\"colorbar\":{\"outlinewidth\":0,\"ticks\":\"\"},\"colorscale\":[[0.0,\"#0d0887\"],[0.1111111111111111,\"#46039f\"],[0.2222222222222222,\"#7201a8\"],[0.3333333333333333,\"#9c179e\"],[0.4444444444444444,\"#bd3786\"],[0.5555555555555556,\"#d8576b\"],[0.6666666666666666,\"#ed7953\"],[0.7777777777777778,\"#fb9f3a\"],[0.8888888888888888,\"#fdca26\"],[1.0,\"#f0f921\"]]}],\"contourcarpet\":[{\"type\":\"contourcarpet\",\"colorbar\":{\"outlinewidth\":0,\"ticks\":\"\"}}],\"contour\":[{\"type\":\"contour\",\"colorbar\":{\"outlinewidth\":0,\"ticks\":\"\"},\"colorscale\":[[0.0,\"#0d0887\"],[0.1111111111111111,\"#46039f\"],[0.2222222222222222,\"#7201a8\"],[0.3333333333333333,\"#9c179e\"],[0.4444444444444444,\"#bd3786\"],[0.5555555555555556,\"#d8576b\"],[0.6666666666666666,\"#ed7953\"],[0.7777777777777778,\"#fb9f3a\"],[0.8888888888888888,\"#fdca26\"],[1.0,\"#f0f921\"]]}],\"surface\":[{\"type\":\"surface\",\"colorbar\":{\"outlinewidth\":0,\"ticks\":\"\"},\"colorscale\":[[0.0,\"#0d0887\"],[0.1111111111111111,\"#46039f\"],[0.2222222222222222,\"#7201a8\"],[0.3333333333333333,\"#9c179e\"],[0.4444444444444444,\"#bd3786\"],[0.5555555555555556,\"#d8576b\"],[0.6666666666666666,\"#ed7953\"],[0.7777777777777778,\"#fb9f3a\"],[0.8888888888888888,\"#fdca26\"],[1.0,\"#f0f921\"]]}],\"mesh3d\":[{\"type\":\"mesh3d\",\"colorbar\":{\"outlinewidth\":0,\"ticks\":\"\"}}],\"scatter\":[{\"fillpattern\":{\"fillmode\":\"overlay\",\"size\":10,\"solidity\":0.2},\"type\":\"scatter\"}],\"parcoords\":[{\"type\":\"parcoords\",\"line\":{\"colorbar\":{\"outlinewidth\":0,\"ticks\":\"\"}}}],\"scatterpolargl\":[{\"type\":\"scatterpolargl\",\"marker\":{\"colorbar\":{\"outlinewidth\":0,\"ticks\":\"\"}}}],\"bar\":[{\"error_x\":{\"color\":\"#2a3f5f\"},\"error_y\":{\"color\":\"#2a3f5f\"},\"marker\":{\"line\":{\"color\":\"#E5ECF6\",\"width\":0.5},\"pattern\":{\"fillmode\":\"overlay\",\"size\":10,\"solidity\":0.2}},\"type\":\"bar\"}],\"scattergeo\":[{\"type\":\"scattergeo\",\"marker\":{\"colorbar\":{\"outlinewidth\":0,\"ticks\":\"\"}}}],\"scatterpolar\":[{\"type\":\"scatterpolar\",\"marker\":{\"colorbar\":{\"outlinewidth\":0,\"ticks\":\"\"}}}],\"histogram\":[{\"marker\":{\"pattern\":{\"fillmode\":\"overlay\",\"size\":10,\"solidity\":0.2}},\"type\":\"histogram\"}],\"scattergl\":[{\"type\":\"scattergl\",\"marker\":{\"colorbar\":{\"outlinewidth\":0,\"ticks\":\"\"}}}],\"scatter3d\":[{\"type\":\"scatter3d\",\"line\":{\"colorbar\":{\"outlinewidth\":0,\"ticks\":\"\"}},\"marker\":{\"colorbar\":{\"outlinewidth\":0,\"ticks\":\"\"}}}],\"scattermapbox\":[{\"type\":\"scattermapbox\",\"marker\":{\"colorbar\":{\"outlinewidth\":0,\"ticks\":\"\"}}}],\"scatterternary\":[{\"type\":\"scatterternary\",\"marker\":{\"colorbar\":{\"outlinewidth\":0,\"ticks\":\"\"}}}],\"scattercarpet\":[{\"type\":\"scattercarpet\",\"marker\":{\"colorbar\":{\"outlinewidth\":0,\"ticks\":\"\"}}}],\"carpet\":[{\"aaxis\":{\"endlinecolor\":\"#2a3f5f\",\"gridcolor\":\"white\",\"linecolor\":\"white\",\"minorgridcolor\":\"white\",\"startlinecolor\":\"#2a3f5f\"},\"baxis\":{\"endlinecolor\":\"#2a3f5f\",\"gridcolor\":\"white\",\"linecolor\":\"white\",\"minorgridcolor\":\"white\",\"startlinecolor\":\"#2a3f5f\"},\"type\":\"carpet\"}],\"table\":[{\"cells\":{\"fill\":{\"color\":\"#EBF0F8\"},\"line\":{\"color\":\"white\"}},\"header\":{\"fill\":{\"color\":\"#C8D4E3\"},\"line\":{\"color\":\"white\"}},\"type\":\"table\"}],\"barpolar\":[{\"marker\":{\"line\":{\"color\":\"#E5ECF6\",\"width\":0.5},\"pattern\":{\"fillmode\":\"overlay\",\"size\":10,\"solidity\":0.2}},\"type\":\"barpolar\"}],\"pie\":[{\"automargin\":true,\"type\":\"pie\"}]},\"layout\":{\"autotypenumbers\":\"strict\",\"colorway\":[\"#636efa\",\"#EF553B\",\"#00cc96\",\"#ab63fa\",\"#FFA15A\",\"#19d3f3\",\"#FF6692\",\"#B6E880\",\"#FF97FF\",\"#FECB52\"],\"font\":{\"color\":\"#2a3f5f\"},\"hovermode\":\"closest\",\"hoverlabel\":{\"align\":\"left\"},\"paper_bgcolor\":\"white\",\"plot_bgcolor\":\"#E5ECF6\",\"polar\":{\"bgcolor\":\"#E5ECF6\",\"angularaxis\":{\"gridcolor\":\"white\",\"linecolor\":\"white\",\"ticks\":\"\"},\"radialaxis\":{\"gridcolor\":\"white\",\"linecolor\":\"white\",\"ticks\":\"\"}},\"ternary\":{\"bgcolor\":\"#E5ECF6\",\"aaxis\":{\"gridcolor\":\"white\",\"linecolor\":\"white\",\"ticks\":\"\"},\"baxis\":{\"gridcolor\":\"white\",\"linecolor\":\"white\",\"ticks\":\"\"},\"caxis\":{\"gridcolor\":\"white\",\"linecolor\":\"white\",\"ticks\":\"\"}},\"coloraxis\":{\"colorbar\":{\"outlinewidth\":0,\"ticks\":\"\"}},\"colorscale\":{\"sequential\":[[0.0,\"#0d0887\"],[0.1111111111111111,\"#46039f\"],[0.2222222222222222,\"#7201a8\"],[0.3333333333333333,\"#9c179e\"],[0.4444444444444444,\"#bd3786\"],[0.5555555555555556,\"#d8576b\"],[0.6666666666666666,\"#ed7953\"],[0.7777777777777778,\"#fb9f3a\"],[0.8888888888888888,\"#fdca26\"],[1.0,\"#f0f921\"]],\"sequentialminus\":[[0.0,\"#0d0887\"],[0.1111111111111111,\"#46039f\"],[0.2222222222222222,\"#7201a8\"],[0.3333333333333333,\"#9c179e\"],[0.4444444444444444,\"#bd3786\"],[0.5555555555555556,\"#d8576b\"],[0.6666666666666666,\"#ed7953\"],[0.7777777777777778,\"#fb9f3a\"],[0.8888888888888888,\"#fdca26\"],[1.0,\"#f0f921\"]],\"diverging\":[[0,\"#8e0152\"],[0.1,\"#c51b7d\"],[0.2,\"#de77ae\"],[0.3,\"#f1b6da\"],[0.4,\"#fde0ef\"],[0.5,\"#f7f7f7\"],[0.6,\"#e6f5d0\"],[0.7,\"#b8e186\"],[0.8,\"#7fbc41\"],[0.9,\"#4d9221\"],[1,\"#276419\"]]},\"xaxis\":{\"gridcolor\":\"white\",\"linecolor\":\"white\",\"ticks\":\"\",\"title\":{\"standoff\":15},\"zerolinecolor\":\"white\",\"automargin\":true,\"zerolinewidth\":2},\"yaxis\":{\"gridcolor\":\"white\",\"linecolor\":\"white\",\"ticks\":\"\",\"title\":{\"standoff\":15},\"zerolinecolor\":\"white\",\"automargin\":true,\"zerolinewidth\":2},\"scene\":{\"xaxis\":{\"backgroundcolor\":\"#E5ECF6\",\"gridcolor\":\"white\",\"linecolor\":\"white\",\"showbackground\":true,\"ticks\":\"\",\"zerolinecolor\":\"white\",\"gridwidth\":2},\"yaxis\":{\"backgroundcolor\":\"#E5ECF6\",\"gridcolor\":\"white\",\"linecolor\":\"white\",\"showbackground\":true,\"ticks\":\"\",\"zerolinecolor\":\"white\",\"gridwidth\":2},\"zaxis\":{\"backgroundcolor\":\"#E5ECF6\",\"gridcolor\":\"white\",\"linecolor\":\"white\",\"showbackground\":true,\"ticks\":\"\",\"zerolinecolor\":\"white\",\"gridwidth\":2}},\"shapedefaults\":{\"line\":{\"color\":\"#2a3f5f\"}},\"annotationdefaults\":{\"arrowcolor\":\"#2a3f5f\",\"arrowhead\":0,\"arrowwidth\":1},\"geo\":{\"bgcolor\":\"white\",\"landcolor\":\"#E5ECF6\",\"subunitcolor\":\"white\",\"showland\":true,\"showlakes\":true,\"lakecolor\":\"white\"},\"title\":{\"x\":0.05},\"mapbox\":{\"style\":\"light\"}}},\"title\":{\"text\":\"\\ud63c\\ub3d9 \\ud589\\ub82c\"},\"xaxis\":{\"title\":{\"text\":\"\\uc608\\uce21 \\uac12\"}},\"yaxis\":{\"title\":{\"text\":\"\\uc2e4\\uc81c \\uac12\"}},\"annotations\":[{\"font\":{\"color\":\"black\"},\"showarrow\":false,\"text\":\"9208\",\"x\":0,\"y\":0},{\"font\":{\"color\":\"white\"},\"showarrow\":false,\"text\":\"817\",\"x\":1,\"y\":0},{\"font\":{\"color\":\"white\"},\"showarrow\":false,\"text\":\"1299\",\"x\":0,\"y\":1},{\"font\":{\"color\":\"white\"},\"showarrow\":false,\"text\":\"1864\",\"x\":1,\"y\":1}]},                        {\"responsive\": true}                    ).then(function(){\n",
       "                            \n",
       "var gd = document.getElementById('e985e085-a714-439a-85f5-e5a361f6ca02');\n",
       "var x = new MutationObserver(function (mutations, observer) {{\n",
       "        var display = window.getComputedStyle(gd).display;\n",
       "        if (!display || display === 'none') {{\n",
       "            console.log([gd, 'removed!']);\n",
       "            Plotly.purge(gd);\n",
       "            observer.disconnect();\n",
       "        }}\n",
       "}});\n",
       "\n",
       "// Listen for the removal of the full notebook cells\n",
       "var notebookContainer = gd.closest('#notebook-container');\n",
       "if (notebookContainer) {{\n",
       "    x.observe(notebookContainer, {childList: true});\n",
       "}}\n",
       "\n",
       "// Listen for the clearing of the current output cell\n",
       "var outputEl = gd.closest('.output');\n",
       "if (outputEl) {{\n",
       "    x.observe(outputEl, {childList: true});\n",
       "}}\n",
       "\n",
       "                        })                };                });            </script>        </div>"
      ]
     },
     "metadata": {},
     "output_type": "display_data"
    }
   ],
   "source": [
    "# plotly를 사용하여 결과 시각화\n",
    "import plotly.graph_objects as go\n",
    "import numpy as np\n",
    "\n",
    "# 실제 값과 예측 값 비교\n",
    "y_val_flat = y_val.cat.codes  # 범주형 데이터를 정수로 변환\n",
    "y_val_pred_flat = y_val_pred  # 이미 1차원 배열이므로 변환 불필요\n",
    "confusion_matrix = pd.crosstab(y_val_flat, y_val_pred_flat, rownames=['실제'], colnames=['예측'])\n",
    "\n",
    "# 히트맵 생성\n",
    "fig = go.Figure(data=go.Heatmap(\n",
    "                z=confusion_matrix.values,\n",
    "                x=confusion_matrix.columns,\n",
    "                y=confusion_matrix.index,\n",
    "                colorscale='Viridis'))\n",
    "\n",
    "# 레이아웃 설정\n",
    "fig.update_layout(\n",
    "    title='혼동 행렬',\n",
    "    xaxis_title='예측 값',\n",
    "    yaxis_title='실제 값'\n",
    ")\n",
    "\n",
    "# 각 셀에 텍스트 추가\n",
    "annotations = []\n",
    "for i, row in enumerate(confusion_matrix.values):\n",
    "    for j, value in enumerate(row):\n",
    "        annotations.append(\n",
    "            dict(\n",
    "                x=confusion_matrix.columns[j],\n",
    "                y=confusion_matrix.index[i],\n",
    "                text=str(value),\n",
    "                showarrow=False,\n",
    "                font=dict(color='white' if value < confusion_matrix.values.max() / 2 else 'black')\n",
    "            )\n",
    "        )\n",
    "fig.update_layout(annotations=annotations)\n",
    "\n",
    "# 그래프 표시\n",
    "fig.show()"
   ]
  },
  {
   "cell_type": "code",
   "execution_count": 131,
   "metadata": {},
   "outputs": [
    {
     "data": {
      "application/vnd.plotly.v1+json": {
       "config": {
        "plotlyServerURL": "https://plot.ly"
       },
       "data": [
        {
         "orientation": "h",
         "type": "bar",
         "x": [
          0.03222395479679108,
          0.03571330010890961,
          0.03968272730708122,
          0.040450744330883026,
          0.044376879930496216,
          0.05875394865870476,
          0.0594661720097065,
          0.06415322422981262,
          0.0645870640873909,
          0.09503690153360367,
          0.10550262778997421,
          0.36005252599716187
         ],
         "y": [
          "PC10",
          "PC6",
          "PC11",
          "PC7",
          "PC8",
          "PC12",
          "PC4",
          "PC5",
          "PC3",
          "PC9",
          "PC2",
          "PC1"
         ]
        }
       ],
       "layout": {
        "height": 600,
        "template": {
         "data": {
          "bar": [
           {
            "error_x": {
             "color": "#2a3f5f"
            },
            "error_y": {
             "color": "#2a3f5f"
            },
            "marker": {
             "line": {
              "color": "#E5ECF6",
              "width": 0.5
             },
             "pattern": {
              "fillmode": "overlay",
              "size": 10,
              "solidity": 0.2
             }
            },
            "type": "bar"
           }
          ],
          "barpolar": [
           {
            "marker": {
             "line": {
              "color": "#E5ECF6",
              "width": 0.5
             },
             "pattern": {
              "fillmode": "overlay",
              "size": 10,
              "solidity": 0.2
             }
            },
            "type": "barpolar"
           }
          ],
          "carpet": [
           {
            "aaxis": {
             "endlinecolor": "#2a3f5f",
             "gridcolor": "white",
             "linecolor": "white",
             "minorgridcolor": "white",
             "startlinecolor": "#2a3f5f"
            },
            "baxis": {
             "endlinecolor": "#2a3f5f",
             "gridcolor": "white",
             "linecolor": "white",
             "minorgridcolor": "white",
             "startlinecolor": "#2a3f5f"
            },
            "type": "carpet"
           }
          ],
          "choropleth": [
           {
            "colorbar": {
             "outlinewidth": 0,
             "ticks": ""
            },
            "type": "choropleth"
           }
          ],
          "contour": [
           {
            "colorbar": {
             "outlinewidth": 0,
             "ticks": ""
            },
            "colorscale": [
             [
              0,
              "#0d0887"
             ],
             [
              0.1111111111111111,
              "#46039f"
             ],
             [
              0.2222222222222222,
              "#7201a8"
             ],
             [
              0.3333333333333333,
              "#9c179e"
             ],
             [
              0.4444444444444444,
              "#bd3786"
             ],
             [
              0.5555555555555556,
              "#d8576b"
             ],
             [
              0.6666666666666666,
              "#ed7953"
             ],
             [
              0.7777777777777778,
              "#fb9f3a"
             ],
             [
              0.8888888888888888,
              "#fdca26"
             ],
             [
              1,
              "#f0f921"
             ]
            ],
            "type": "contour"
           }
          ],
          "contourcarpet": [
           {
            "colorbar": {
             "outlinewidth": 0,
             "ticks": ""
            },
            "type": "contourcarpet"
           }
          ],
          "heatmap": [
           {
            "colorbar": {
             "outlinewidth": 0,
             "ticks": ""
            },
            "colorscale": [
             [
              0,
              "#0d0887"
             ],
             [
              0.1111111111111111,
              "#46039f"
             ],
             [
              0.2222222222222222,
              "#7201a8"
             ],
             [
              0.3333333333333333,
              "#9c179e"
             ],
             [
              0.4444444444444444,
              "#bd3786"
             ],
             [
              0.5555555555555556,
              "#d8576b"
             ],
             [
              0.6666666666666666,
              "#ed7953"
             ],
             [
              0.7777777777777778,
              "#fb9f3a"
             ],
             [
              0.8888888888888888,
              "#fdca26"
             ],
             [
              1,
              "#f0f921"
             ]
            ],
            "type": "heatmap"
           }
          ],
          "heatmapgl": [
           {
            "colorbar": {
             "outlinewidth": 0,
             "ticks": ""
            },
            "colorscale": [
             [
              0,
              "#0d0887"
             ],
             [
              0.1111111111111111,
              "#46039f"
             ],
             [
              0.2222222222222222,
              "#7201a8"
             ],
             [
              0.3333333333333333,
              "#9c179e"
             ],
             [
              0.4444444444444444,
              "#bd3786"
             ],
             [
              0.5555555555555556,
              "#d8576b"
             ],
             [
              0.6666666666666666,
              "#ed7953"
             ],
             [
              0.7777777777777778,
              "#fb9f3a"
             ],
             [
              0.8888888888888888,
              "#fdca26"
             ],
             [
              1,
              "#f0f921"
             ]
            ],
            "type": "heatmapgl"
           }
          ],
          "histogram": [
           {
            "marker": {
             "pattern": {
              "fillmode": "overlay",
              "size": 10,
              "solidity": 0.2
             }
            },
            "type": "histogram"
           }
          ],
          "histogram2d": [
           {
            "colorbar": {
             "outlinewidth": 0,
             "ticks": ""
            },
            "colorscale": [
             [
              0,
              "#0d0887"
             ],
             [
              0.1111111111111111,
              "#46039f"
             ],
             [
              0.2222222222222222,
              "#7201a8"
             ],
             [
              0.3333333333333333,
              "#9c179e"
             ],
             [
              0.4444444444444444,
              "#bd3786"
             ],
             [
              0.5555555555555556,
              "#d8576b"
             ],
             [
              0.6666666666666666,
              "#ed7953"
             ],
             [
              0.7777777777777778,
              "#fb9f3a"
             ],
             [
              0.8888888888888888,
              "#fdca26"
             ],
             [
              1,
              "#f0f921"
             ]
            ],
            "type": "histogram2d"
           }
          ],
          "histogram2dcontour": [
           {
            "colorbar": {
             "outlinewidth": 0,
             "ticks": ""
            },
            "colorscale": [
             [
              0,
              "#0d0887"
             ],
             [
              0.1111111111111111,
              "#46039f"
             ],
             [
              0.2222222222222222,
              "#7201a8"
             ],
             [
              0.3333333333333333,
              "#9c179e"
             ],
             [
              0.4444444444444444,
              "#bd3786"
             ],
             [
              0.5555555555555556,
              "#d8576b"
             ],
             [
              0.6666666666666666,
              "#ed7953"
             ],
             [
              0.7777777777777778,
              "#fb9f3a"
             ],
             [
              0.8888888888888888,
              "#fdca26"
             ],
             [
              1,
              "#f0f921"
             ]
            ],
            "type": "histogram2dcontour"
           }
          ],
          "mesh3d": [
           {
            "colorbar": {
             "outlinewidth": 0,
             "ticks": ""
            },
            "type": "mesh3d"
           }
          ],
          "parcoords": [
           {
            "line": {
             "colorbar": {
              "outlinewidth": 0,
              "ticks": ""
             }
            },
            "type": "parcoords"
           }
          ],
          "pie": [
           {
            "automargin": true,
            "type": "pie"
           }
          ],
          "scatter": [
           {
            "fillpattern": {
             "fillmode": "overlay",
             "size": 10,
             "solidity": 0.2
            },
            "type": "scatter"
           }
          ],
          "scatter3d": [
           {
            "line": {
             "colorbar": {
              "outlinewidth": 0,
              "ticks": ""
             }
            },
            "marker": {
             "colorbar": {
              "outlinewidth": 0,
              "ticks": ""
             }
            },
            "type": "scatter3d"
           }
          ],
          "scattercarpet": [
           {
            "marker": {
             "colorbar": {
              "outlinewidth": 0,
              "ticks": ""
             }
            },
            "type": "scattercarpet"
           }
          ],
          "scattergeo": [
           {
            "marker": {
             "colorbar": {
              "outlinewidth": 0,
              "ticks": ""
             }
            },
            "type": "scattergeo"
           }
          ],
          "scattergl": [
           {
            "marker": {
             "colorbar": {
              "outlinewidth": 0,
              "ticks": ""
             }
            },
            "type": "scattergl"
           }
          ],
          "scattermapbox": [
           {
            "marker": {
             "colorbar": {
              "outlinewidth": 0,
              "ticks": ""
             }
            },
            "type": "scattermapbox"
           }
          ],
          "scatterpolar": [
           {
            "marker": {
             "colorbar": {
              "outlinewidth": 0,
              "ticks": ""
             }
            },
            "type": "scatterpolar"
           }
          ],
          "scatterpolargl": [
           {
            "marker": {
             "colorbar": {
              "outlinewidth": 0,
              "ticks": ""
             }
            },
            "type": "scatterpolargl"
           }
          ],
          "scatterternary": [
           {
            "marker": {
             "colorbar": {
              "outlinewidth": 0,
              "ticks": ""
             }
            },
            "type": "scatterternary"
           }
          ],
          "surface": [
           {
            "colorbar": {
             "outlinewidth": 0,
             "ticks": ""
            },
            "colorscale": [
             [
              0,
              "#0d0887"
             ],
             [
              0.1111111111111111,
              "#46039f"
             ],
             [
              0.2222222222222222,
              "#7201a8"
             ],
             [
              0.3333333333333333,
              "#9c179e"
             ],
             [
              0.4444444444444444,
              "#bd3786"
             ],
             [
              0.5555555555555556,
              "#d8576b"
             ],
             [
              0.6666666666666666,
              "#ed7953"
             ],
             [
              0.7777777777777778,
              "#fb9f3a"
             ],
             [
              0.8888888888888888,
              "#fdca26"
             ],
             [
              1,
              "#f0f921"
             ]
            ],
            "type": "surface"
           }
          ],
          "table": [
           {
            "cells": {
             "fill": {
              "color": "#EBF0F8"
             },
             "line": {
              "color": "white"
             }
            },
            "header": {
             "fill": {
              "color": "#C8D4E3"
             },
             "line": {
              "color": "white"
             }
            },
            "type": "table"
           }
          ]
         },
         "layout": {
          "annotationdefaults": {
           "arrowcolor": "#2a3f5f",
           "arrowhead": 0,
           "arrowwidth": 1
          },
          "autotypenumbers": "strict",
          "coloraxis": {
           "colorbar": {
            "outlinewidth": 0,
            "ticks": ""
           }
          },
          "colorscale": {
           "diverging": [
            [
             0,
             "#8e0152"
            ],
            [
             0.1,
             "#c51b7d"
            ],
            [
             0.2,
             "#de77ae"
            ],
            [
             0.3,
             "#f1b6da"
            ],
            [
             0.4,
             "#fde0ef"
            ],
            [
             0.5,
             "#f7f7f7"
            ],
            [
             0.6,
             "#e6f5d0"
            ],
            [
             0.7,
             "#b8e186"
            ],
            [
             0.8,
             "#7fbc41"
            ],
            [
             0.9,
             "#4d9221"
            ],
            [
             1,
             "#276419"
            ]
           ],
           "sequential": [
            [
             0,
             "#0d0887"
            ],
            [
             0.1111111111111111,
             "#46039f"
            ],
            [
             0.2222222222222222,
             "#7201a8"
            ],
            [
             0.3333333333333333,
             "#9c179e"
            ],
            [
             0.4444444444444444,
             "#bd3786"
            ],
            [
             0.5555555555555556,
             "#d8576b"
            ],
            [
             0.6666666666666666,
             "#ed7953"
            ],
            [
             0.7777777777777778,
             "#fb9f3a"
            ],
            [
             0.8888888888888888,
             "#fdca26"
            ],
            [
             1,
             "#f0f921"
            ]
           ],
           "sequentialminus": [
            [
             0,
             "#0d0887"
            ],
            [
             0.1111111111111111,
             "#46039f"
            ],
            [
             0.2222222222222222,
             "#7201a8"
            ],
            [
             0.3333333333333333,
             "#9c179e"
            ],
            [
             0.4444444444444444,
             "#bd3786"
            ],
            [
             0.5555555555555556,
             "#d8576b"
            ],
            [
             0.6666666666666666,
             "#ed7953"
            ],
            [
             0.7777777777777778,
             "#fb9f3a"
            ],
            [
             0.8888888888888888,
             "#fdca26"
            ],
            [
             1,
             "#f0f921"
            ]
           ]
          },
          "colorway": [
           "#636efa",
           "#EF553B",
           "#00cc96",
           "#ab63fa",
           "#FFA15A",
           "#19d3f3",
           "#FF6692",
           "#B6E880",
           "#FF97FF",
           "#FECB52"
          ],
          "font": {
           "color": "#2a3f5f"
          },
          "geo": {
           "bgcolor": "white",
           "lakecolor": "white",
           "landcolor": "#E5ECF6",
           "showlakes": true,
           "showland": true,
           "subunitcolor": "white"
          },
          "hoverlabel": {
           "align": "left"
          },
          "hovermode": "closest",
          "mapbox": {
           "style": "light"
          },
          "paper_bgcolor": "white",
          "plot_bgcolor": "#E5ECF6",
          "polar": {
           "angularaxis": {
            "gridcolor": "white",
            "linecolor": "white",
            "ticks": ""
           },
           "bgcolor": "#E5ECF6",
           "radialaxis": {
            "gridcolor": "white",
            "linecolor": "white",
            "ticks": ""
           }
          },
          "scene": {
           "xaxis": {
            "backgroundcolor": "#E5ECF6",
            "gridcolor": "white",
            "gridwidth": 2,
            "linecolor": "white",
            "showbackground": true,
            "ticks": "",
            "zerolinecolor": "white"
           },
           "yaxis": {
            "backgroundcolor": "#E5ECF6",
            "gridcolor": "white",
            "gridwidth": 2,
            "linecolor": "white",
            "showbackground": true,
            "ticks": "",
            "zerolinecolor": "white"
           },
           "zaxis": {
            "backgroundcolor": "#E5ECF6",
            "gridcolor": "white",
            "gridwidth": 2,
            "linecolor": "white",
            "showbackground": true,
            "ticks": "",
            "zerolinecolor": "white"
           }
          },
          "shapedefaults": {
           "line": {
            "color": "#2a3f5f"
           }
          },
          "ternary": {
           "aaxis": {
            "gridcolor": "white",
            "linecolor": "white",
            "ticks": ""
           },
           "baxis": {
            "gridcolor": "white",
            "linecolor": "white",
            "ticks": ""
           },
           "bgcolor": "#E5ECF6",
           "caxis": {
            "gridcolor": "white",
            "linecolor": "white",
            "ticks": ""
           }
          },
          "title": {
           "x": 0.05
          },
          "xaxis": {
           "automargin": true,
           "gridcolor": "white",
           "linecolor": "white",
           "ticks": "",
           "title": {
            "standoff": 15
           },
           "zerolinecolor": "white",
           "zerolinewidth": 2
          },
          "yaxis": {
           "automargin": true,
           "gridcolor": "white",
           "linecolor": "white",
           "ticks": "",
           "title": {
            "standoff": 15
           },
           "zerolinecolor": "white",
           "zerolinewidth": 2
          }
         }
        },
        "title": {
         "text": "XGBoost 모델의 특성 중요도"
        },
        "width": 800,
        "xaxis": {
         "title": {
          "text": "중요도"
         }
        },
        "yaxis": {
         "title": {
          "text": "주성분"
         }
        }
       }
      },
      "text/html": [
       "<div>                            <div id=\"069ed0ad-7ed6-4169-ad45-ee04ce874cf3\" class=\"plotly-graph-div\" style=\"height:600px; width:800px;\"></div>            <script type=\"text/javascript\">                require([\"plotly\"], function(Plotly) {                    window.PLOTLYENV=window.PLOTLYENV || {};                                    if (document.getElementById(\"069ed0ad-7ed6-4169-ad45-ee04ce874cf3\")) {                    Plotly.newPlot(                        \"069ed0ad-7ed6-4169-ad45-ee04ce874cf3\",                        [{\"orientation\":\"h\",\"x\":[0.03222395479679108,0.03571330010890961,0.03968272730708122,0.040450744330883026,0.044376879930496216,0.05875394865870476,0.0594661720097065,0.06415322422981262,0.0645870640873909,0.09503690153360367,0.10550262778997421,0.36005252599716187],\"y\":[\"PC10\",\"PC6\",\"PC11\",\"PC7\",\"PC8\",\"PC12\",\"PC4\",\"PC5\",\"PC3\",\"PC9\",\"PC2\",\"PC1\"],\"type\":\"bar\"}],                        {\"template\":{\"data\":{\"histogram2dcontour\":[{\"type\":\"histogram2dcontour\",\"colorbar\":{\"outlinewidth\":0,\"ticks\":\"\"},\"colorscale\":[[0.0,\"#0d0887\"],[0.1111111111111111,\"#46039f\"],[0.2222222222222222,\"#7201a8\"],[0.3333333333333333,\"#9c179e\"],[0.4444444444444444,\"#bd3786\"],[0.5555555555555556,\"#d8576b\"],[0.6666666666666666,\"#ed7953\"],[0.7777777777777778,\"#fb9f3a\"],[0.8888888888888888,\"#fdca26\"],[1.0,\"#f0f921\"]]}],\"choropleth\":[{\"type\":\"choropleth\",\"colorbar\":{\"outlinewidth\":0,\"ticks\":\"\"}}],\"histogram2d\":[{\"type\":\"histogram2d\",\"colorbar\":{\"outlinewidth\":0,\"ticks\":\"\"},\"colorscale\":[[0.0,\"#0d0887\"],[0.1111111111111111,\"#46039f\"],[0.2222222222222222,\"#7201a8\"],[0.3333333333333333,\"#9c179e\"],[0.4444444444444444,\"#bd3786\"],[0.5555555555555556,\"#d8576b\"],[0.6666666666666666,\"#ed7953\"],[0.7777777777777778,\"#fb9f3a\"],[0.8888888888888888,\"#fdca26\"],[1.0,\"#f0f921\"]]}],\"heatmap\":[{\"type\":\"heatmap\",\"colorbar\":{\"outlinewidth\":0,\"ticks\":\"\"},\"colorscale\":[[0.0,\"#0d0887\"],[0.1111111111111111,\"#46039f\"],[0.2222222222222222,\"#7201a8\"],[0.3333333333333333,\"#9c179e\"],[0.4444444444444444,\"#bd3786\"],[0.5555555555555556,\"#d8576b\"],[0.6666666666666666,\"#ed7953\"],[0.7777777777777778,\"#fb9f3a\"],[0.8888888888888888,\"#fdca26\"],[1.0,\"#f0f921\"]]}],\"heatmapgl\":[{\"type\":\"heatmapgl\",\"colorbar\":{\"outlinewidth\":0,\"ticks\":\"\"},\"colorscale\":[[0.0,\"#0d0887\"],[0.1111111111111111,\"#46039f\"],[0.2222222222222222,\"#7201a8\"],[0.3333333333333333,\"#9c179e\"],[0.4444444444444444,\"#bd3786\"],[0.5555555555555556,\"#d8576b\"],[0.6666666666666666,\"#ed7953\"],[0.7777777777777778,\"#fb9f3a\"],[0.8888888888888888,\"#fdca26\"],[1.0,\"#f0f921\"]]}],\"contourcarpet\":[{\"type\":\"contourcarpet\",\"colorbar\":{\"outlinewidth\":0,\"ticks\":\"\"}}],\"contour\":[{\"type\":\"contour\",\"colorbar\":{\"outlinewidth\":0,\"ticks\":\"\"},\"colorscale\":[[0.0,\"#0d0887\"],[0.1111111111111111,\"#46039f\"],[0.2222222222222222,\"#7201a8\"],[0.3333333333333333,\"#9c179e\"],[0.4444444444444444,\"#bd3786\"],[0.5555555555555556,\"#d8576b\"],[0.6666666666666666,\"#ed7953\"],[0.7777777777777778,\"#fb9f3a\"],[0.8888888888888888,\"#fdca26\"],[1.0,\"#f0f921\"]]}],\"surface\":[{\"type\":\"surface\",\"colorbar\":{\"outlinewidth\":0,\"ticks\":\"\"},\"colorscale\":[[0.0,\"#0d0887\"],[0.1111111111111111,\"#46039f\"],[0.2222222222222222,\"#7201a8\"],[0.3333333333333333,\"#9c179e\"],[0.4444444444444444,\"#bd3786\"],[0.5555555555555556,\"#d8576b\"],[0.6666666666666666,\"#ed7953\"],[0.7777777777777778,\"#fb9f3a\"],[0.8888888888888888,\"#fdca26\"],[1.0,\"#f0f921\"]]}],\"mesh3d\":[{\"type\":\"mesh3d\",\"colorbar\":{\"outlinewidth\":0,\"ticks\":\"\"}}],\"scatter\":[{\"fillpattern\":{\"fillmode\":\"overlay\",\"size\":10,\"solidity\":0.2},\"type\":\"scatter\"}],\"parcoords\":[{\"type\":\"parcoords\",\"line\":{\"colorbar\":{\"outlinewidth\":0,\"ticks\":\"\"}}}],\"scatterpolargl\":[{\"type\":\"scatterpolargl\",\"marker\":{\"colorbar\":{\"outlinewidth\":0,\"ticks\":\"\"}}}],\"bar\":[{\"error_x\":{\"color\":\"#2a3f5f\"},\"error_y\":{\"color\":\"#2a3f5f\"},\"marker\":{\"line\":{\"color\":\"#E5ECF6\",\"width\":0.5},\"pattern\":{\"fillmode\":\"overlay\",\"size\":10,\"solidity\":0.2}},\"type\":\"bar\"}],\"scattergeo\":[{\"type\":\"scattergeo\",\"marker\":{\"colorbar\":{\"outlinewidth\":0,\"ticks\":\"\"}}}],\"scatterpolar\":[{\"type\":\"scatterpolar\",\"marker\":{\"colorbar\":{\"outlinewidth\":0,\"ticks\":\"\"}}}],\"histogram\":[{\"marker\":{\"pattern\":{\"fillmode\":\"overlay\",\"size\":10,\"solidity\":0.2}},\"type\":\"histogram\"}],\"scattergl\":[{\"type\":\"scattergl\",\"marker\":{\"colorbar\":{\"outlinewidth\":0,\"ticks\":\"\"}}}],\"scatter3d\":[{\"type\":\"scatter3d\",\"line\":{\"colorbar\":{\"outlinewidth\":0,\"ticks\":\"\"}},\"marker\":{\"colorbar\":{\"outlinewidth\":0,\"ticks\":\"\"}}}],\"scattermapbox\":[{\"type\":\"scattermapbox\",\"marker\":{\"colorbar\":{\"outlinewidth\":0,\"ticks\":\"\"}}}],\"scatterternary\":[{\"type\":\"scatterternary\",\"marker\":{\"colorbar\":{\"outlinewidth\":0,\"ticks\":\"\"}}}],\"scattercarpet\":[{\"type\":\"scattercarpet\",\"marker\":{\"colorbar\":{\"outlinewidth\":0,\"ticks\":\"\"}}}],\"carpet\":[{\"aaxis\":{\"endlinecolor\":\"#2a3f5f\",\"gridcolor\":\"white\",\"linecolor\":\"white\",\"minorgridcolor\":\"white\",\"startlinecolor\":\"#2a3f5f\"},\"baxis\":{\"endlinecolor\":\"#2a3f5f\",\"gridcolor\":\"white\",\"linecolor\":\"white\",\"minorgridcolor\":\"white\",\"startlinecolor\":\"#2a3f5f\"},\"type\":\"carpet\"}],\"table\":[{\"cells\":{\"fill\":{\"color\":\"#EBF0F8\"},\"line\":{\"color\":\"white\"}},\"header\":{\"fill\":{\"color\":\"#C8D4E3\"},\"line\":{\"color\":\"white\"}},\"type\":\"table\"}],\"barpolar\":[{\"marker\":{\"line\":{\"color\":\"#E5ECF6\",\"width\":0.5},\"pattern\":{\"fillmode\":\"overlay\",\"size\":10,\"solidity\":0.2}},\"type\":\"barpolar\"}],\"pie\":[{\"automargin\":true,\"type\":\"pie\"}]},\"layout\":{\"autotypenumbers\":\"strict\",\"colorway\":[\"#636efa\",\"#EF553B\",\"#00cc96\",\"#ab63fa\",\"#FFA15A\",\"#19d3f3\",\"#FF6692\",\"#B6E880\",\"#FF97FF\",\"#FECB52\"],\"font\":{\"color\":\"#2a3f5f\"},\"hovermode\":\"closest\",\"hoverlabel\":{\"align\":\"left\"},\"paper_bgcolor\":\"white\",\"plot_bgcolor\":\"#E5ECF6\",\"polar\":{\"bgcolor\":\"#E5ECF6\",\"angularaxis\":{\"gridcolor\":\"white\",\"linecolor\":\"white\",\"ticks\":\"\"},\"radialaxis\":{\"gridcolor\":\"white\",\"linecolor\":\"white\",\"ticks\":\"\"}},\"ternary\":{\"bgcolor\":\"#E5ECF6\",\"aaxis\":{\"gridcolor\":\"white\",\"linecolor\":\"white\",\"ticks\":\"\"},\"baxis\":{\"gridcolor\":\"white\",\"linecolor\":\"white\",\"ticks\":\"\"},\"caxis\":{\"gridcolor\":\"white\",\"linecolor\":\"white\",\"ticks\":\"\"}},\"coloraxis\":{\"colorbar\":{\"outlinewidth\":0,\"ticks\":\"\"}},\"colorscale\":{\"sequential\":[[0.0,\"#0d0887\"],[0.1111111111111111,\"#46039f\"],[0.2222222222222222,\"#7201a8\"],[0.3333333333333333,\"#9c179e\"],[0.4444444444444444,\"#bd3786\"],[0.5555555555555556,\"#d8576b\"],[0.6666666666666666,\"#ed7953\"],[0.7777777777777778,\"#fb9f3a\"],[0.8888888888888888,\"#fdca26\"],[1.0,\"#f0f921\"]],\"sequentialminus\":[[0.0,\"#0d0887\"],[0.1111111111111111,\"#46039f\"],[0.2222222222222222,\"#7201a8\"],[0.3333333333333333,\"#9c179e\"],[0.4444444444444444,\"#bd3786\"],[0.5555555555555556,\"#d8576b\"],[0.6666666666666666,\"#ed7953\"],[0.7777777777777778,\"#fb9f3a\"],[0.8888888888888888,\"#fdca26\"],[1.0,\"#f0f921\"]],\"diverging\":[[0,\"#8e0152\"],[0.1,\"#c51b7d\"],[0.2,\"#de77ae\"],[0.3,\"#f1b6da\"],[0.4,\"#fde0ef\"],[0.5,\"#f7f7f7\"],[0.6,\"#e6f5d0\"],[0.7,\"#b8e186\"],[0.8,\"#7fbc41\"],[0.9,\"#4d9221\"],[1,\"#276419\"]]},\"xaxis\":{\"gridcolor\":\"white\",\"linecolor\":\"white\",\"ticks\":\"\",\"title\":{\"standoff\":15},\"zerolinecolor\":\"white\",\"automargin\":true,\"zerolinewidth\":2},\"yaxis\":{\"gridcolor\":\"white\",\"linecolor\":\"white\",\"ticks\":\"\",\"title\":{\"standoff\":15},\"zerolinecolor\":\"white\",\"automargin\":true,\"zerolinewidth\":2},\"scene\":{\"xaxis\":{\"backgroundcolor\":\"#E5ECF6\",\"gridcolor\":\"white\",\"linecolor\":\"white\",\"showbackground\":true,\"ticks\":\"\",\"zerolinecolor\":\"white\",\"gridwidth\":2},\"yaxis\":{\"backgroundcolor\":\"#E5ECF6\",\"gridcolor\":\"white\",\"linecolor\":\"white\",\"showbackground\":true,\"ticks\":\"\",\"zerolinecolor\":\"white\",\"gridwidth\":2},\"zaxis\":{\"backgroundcolor\":\"#E5ECF6\",\"gridcolor\":\"white\",\"linecolor\":\"white\",\"showbackground\":true,\"ticks\":\"\",\"zerolinecolor\":\"white\",\"gridwidth\":2}},\"shapedefaults\":{\"line\":{\"color\":\"#2a3f5f\"}},\"annotationdefaults\":{\"arrowcolor\":\"#2a3f5f\",\"arrowhead\":0,\"arrowwidth\":1},\"geo\":{\"bgcolor\":\"white\",\"landcolor\":\"#E5ECF6\",\"subunitcolor\":\"white\",\"showland\":true,\"showlakes\":true,\"lakecolor\":\"white\"},\"title\":{\"x\":0.05},\"mapbox\":{\"style\":\"light\"}}},\"title\":{\"text\":\"XGBoost \\ubaa8\\ub378\\uc758 \\ud2b9\\uc131 \\uc911\\uc694\\ub3c4\"},\"xaxis\":{\"title\":{\"text\":\"\\uc911\\uc694\\ub3c4\"}},\"yaxis\":{\"title\":{\"text\":\"\\uc8fc\\uc131\\ubd84\"}},\"height\":600,\"width\":800},                        {\"responsive\": true}                    ).then(function(){\n",
       "                            \n",
       "var gd = document.getElementById('069ed0ad-7ed6-4169-ad45-ee04ce874cf3');\n",
       "var x = new MutationObserver(function (mutations, observer) {{\n",
       "        var display = window.getComputedStyle(gd).display;\n",
       "        if (!display || display === 'none') {{\n",
       "            console.log([gd, 'removed!']);\n",
       "            Plotly.purge(gd);\n",
       "            observer.disconnect();\n",
       "        }}\n",
       "}});\n",
       "\n",
       "// Listen for the removal of the full notebook cells\n",
       "var notebookContainer = gd.closest('#notebook-container');\n",
       "if (notebookContainer) {{\n",
       "    x.observe(notebookContainer, {childList: true});\n",
       "}}\n",
       "\n",
       "// Listen for the clearing of the current output cell\n",
       "var outputEl = gd.closest('.output');\n",
       "if (outputEl) {{\n",
       "    x.observe(outputEl, {childList: true});\n",
       "}}\n",
       "\n",
       "                        })                };                });            </script>        </div>"
      ]
     },
     "metadata": {},
     "output_type": "display_data"
    }
   ],
   "source": [
    "# 특성 중요도 시각화\n",
    "feature_importance = xgb_model.feature_importances_\n",
    "feature_names = [f'PC{i+1}' for i in range(len(feature_importance))]\n",
    "\n",
    "# 특성 중요도를 내림차순으로 정렬\n",
    "sorted_idx = np.argsort(feature_importance)\n",
    "sorted_feature_names = [feature_names[i] for i in sorted_idx]\n",
    "sorted_feature_importance = feature_importance[sorted_idx]\n",
    "\n",
    "# 막대 그래프 생성\n",
    "fig = go.Figure(go.Bar(\n",
    "    x=sorted_feature_importance,\n",
    "    y=sorted_feature_names,\n",
    "    orientation='h'\n",
    "))\n",
    "\n",
    "# 레이아웃 설정\n",
    "fig.update_layout(\n",
    "    title='XGBoost 모델의 특성 중요도',\n",
    "    xaxis_title='중요도',\n",
    "    yaxis_title='주성분',\n",
    "    height=600,\n",
    "    width=800\n",
    ")\n",
    "\n",
    "# 그래프 표시\n",
    "fig.show()\n"
   ]
  },
  {
   "cell_type": "markdown",
   "metadata": {},
   "source": [
    "### SageMaker 클라우드 모드\n",
    "---"
   ]
  },
  {
   "cell_type": "markdown",
   "metadata": {},
   "source": [
    "데이터 업로드"
   ]
  },
  {
   "cell_type": "code",
   "execution_count": 132,
   "metadata": {},
   "outputs": [],
   "source": [
    "# import io\n",
    "# import numpy as np\n",
    "# import sagemaker.amazon.common as smac\n",
    "# import boto3\n",
    "\n",
    "# def numpy_to_recordio_protobuf(array):\n",
    "#     buffer = io.BytesIO()\n",
    "#     smac.write_numpy_to_dense_tensor(buffer, array)\n",
    "#     return buffer.getvalue()\n",
    "\n",
    "# # S3 클라이언트 생성\n",
    "# s3_client = boto3.client('s3')\n",
    "\n",
    "# # 버킷 이름과 파일 키(경로) 설정\n",
    "# bucket_name = 'your-bucket-name'\n",
    "# train_key = 'path/to/train_data.recordio'\n",
    "# val_key = 'path/to/val_data.recordio'\n",
    "\n",
    "# # 데이터를 RecordIO-protobuf 형식으로 변환\n",
    "# train_data_recordio = numpy_to_recordio_protobuf(X_train.values)\n",
    "# val_data_recordio = numpy_to_recordio_protobuf(X_val.values)\n",
    "\n",
    "# # S3에 업로드\n",
    "# s3_client.put_object(Body=train_data_recordio, Bucket=bucket_name, Key=train_key)\n",
    "# s3_client.put_object(Body=val_data_recordio, Bucket=bucket_name, Key=val_key)"
   ]
  },
  {
   "cell_type": "code",
   "execution_count": 133,
   "metadata": {},
   "outputs": [],
   "source": [
    "from sagemaker.amazon.common import RecordSerializer\n",
    "serializer = RecordSerializer()\n",
    "wr.s3.upload(serializer.serialize(X_train.values), train_path, boto3_session=boto3_session)\n",
    "wr.s3.upload(serializer.serialize(X_val.values), val_path, boto3_session=boto3_session)"
   ]
  },
  {
   "cell_type": "markdown",
   "metadata": {},
   "source": [
    "PCA 빌트인 모델 및 하이퍼파라미터 설정"
   ]
  },
  {
   "cell_type": "code",
   "execution_count": 134,
   "metadata": {},
   "outputs": [],
   "source": [
    "container = sagemaker.image_uris.retrieve('pca', sagemaker_session.boto_region_name)\n",
    "use_spot_instances = True\n",
    "max_run = 60 * 60 # 1시간\n",
    "max_wait = 60 * 60 # 1시간\n",
    "training_instance_type = \"ml.m5.xlarge\"\n",
    "content_type = 'text/csv'"
   ]
  },
  {
   "cell_type": "code",
   "execution_count": 135,
   "metadata": {},
   "outputs": [],
   "source": [
    "from sagemaker.utils import name_from_base\n",
    "\n",
    "pca_estimator =  sagemaker.estimator.Estimator(\n",
    "    container,\n",
    "    role, \n",
    "    sagemaker_session=sagemaker_session,\n",
    "    instance_count=1, \n",
    "    instance_type=training_instance_type,\n",
    "    output_path=output_path,\n",
    "    base_job_name = name_from_base(project_name),\n",
    "    use_spot_instances=use_spot_instances,\n",
    "    max_run=max_run,\n",
    "    max_wait=max_wait,\n",
    ")"
   ]
  },
  {
   "cell_type": "code",
   "execution_count": 136,
   "metadata": {},
   "outputs": [],
   "source": [
    "# https://docs.aws.amazon.com/ko_kr/sagemaker/latest/dg/PCA-reference.html\n",
    "pca_estimator.set_hyperparameters(\n",
    "    feature_dim=14,\n",
    "    num_components=12,\n",
    "    subtract_mean=False,\n",
    "    algorithm_mode='regular',\n",
    "    mini_batch_size=200\n",
    ")"
   ]
  },
  {
   "cell_type": "code",
   "execution_count": 137,
   "metadata": {},
   "outputs": [
    {
     "name": "stderr",
     "output_type": "stream",
     "text": [
      "INFO:sagemaker:Creating training-job with name: adult-income-classification-2024-10-21--2024-10-21-10-51-03-354\n"
     ]
    },
    {
     "name": "stdout",
     "output_type": "stream",
     "text": [
      "2024-10-21 10:51:04 Starting - Starting the training job...\n",
      "2024-10-21 10:51:19 Starting - Preparing the instances for training...\n",
      "2024-10-21 10:51:55 Downloading - Downloading the training image......\n",
      "2024-10-21 10:53:01 Training - Training image download completed. Training in progress..Docker entrypoint called with argument(s): train\n",
      "Running default environment configuration script\n",
      "/opt/amazon/lib/python3.8/site-packages/mxnet/model.py:97: SyntaxWarning: \"is\" with a literal. Did you mean \"==\"?\n",
      "  if num_device is 1 and 'dist' not in kvstore:\n",
      "[10/21/2024 10:53:11 INFO 139668033648448] Reading default configuration from /opt/amazon/lib/python3.8/site-packages/algorithm/resources/default-conf.json: {'algorithm_mode': 'regular', 'subtract_mean': 'true', 'extra_components': '-1', 'force_dense': 'true', 'epochs': 1, '_log_level': 'info', '_kvstore': 'dist_sync', '_num_kv_servers': 'auto', '_num_gpus': 'auto'}\n",
      "[10/21/2024 10:53:11 INFO 139668033648448] Merging with provided configuration from /opt/ml/input/config/hyperparameters.json: {'algorithm_mode': 'regular', 'feature_dim': '14', 'mini_batch_size': '200', 'num_components': '12', 'subtract_mean': 'False'}\n",
      "[10/21/2024 10:53:11 INFO 139668033648448] Final configuration: {'algorithm_mode': 'regular', 'subtract_mean': 'False', 'extra_components': '-1', 'force_dense': 'true', 'epochs': 1, '_log_level': 'info', '_kvstore': 'dist_sync', '_num_kv_servers': 'auto', '_num_gpus': 'auto', 'feature_dim': '14', 'mini_batch_size': '200', 'num_components': '12'}\n",
      "[10/21/2024 10:53:11 WARNING 139668033648448] Loggers have already been setup.\n",
      "[10/21/2024 10:53:11 INFO 139668033648448] Launching parameter server for role scheduler\n",
      "[10/21/2024 10:53:11 INFO 139668033648448] {'ENVROOT': '/opt/amazon', 'PROTOCOL_BUFFERS_PYTHON_IMPLEMENTATION': 'cpp', 'HOSTNAME': 'ip-10-0-194-98.ap-northeast-2.compute.internal', 'TRAINING_JOB_NAME': 'adult-income-classification-2024-10-21--2024-10-21-10-51-03-354', 'NVIDIA_REQUIRE_CUDA': 'cuda>=9.0', 'TRAINING_JOB_ARN': 'arn:aws:sagemaker:ap-northeast-2:905418381372:training-job/adult-income-classification-2024-10-21--2024-10-21-10-51-03-354', 'AWS_CONTAINER_CREDENTIALS_RELATIVE_URI': '/v2/credentials/proxy-587df5f63889a0e524dcf842a8f89d675f7ec37f460f10f8d901698b5b2f6381-customer', 'CANONICAL_ENVROOT': '/opt/amazon', 'PYTHONUNBUFFERED': 'TRUE', 'NVIDIA_VISIBLE_DEVICES': 'all', 'LD_LIBRARY_PATH': '/opt/amazon/lib/python3.8/site-packages/cv2/../../../../lib:/usr/local/nvidia/lib64:/opt/amazon/lib', 'NVIDIA_DRIVER_CAPABILITIES': 'compute,utility', 'SAGEMAKER_MANAGED_WARMPOOL_CACHE_DIRECTORY': '/opt/ml/sagemaker/warmpoolcache', 'PATH': '/opt/amazon/bin:/usr/local/nvidia/bin:/usr/local/sbin:/usr/local/bin:/usr/sbin:/usr/bin:/sbin:/bin', 'PWD': '/', 'LANG': 'en_US.utf8', 'AWS_REGION': 'ap-northeast-2', 'CUDA_VERSION': '11.1', 'HOME': '/root', 'SHLVL': '1', 'CUDA_COMPAT_NDRIVER_SUPPORTED_VERSION': '455.32.00', 'PROTOCOL_BUFFERS_PYTHON_IMPLEMENTATION_VERSION': '2', 'OMP_NUM_THREADS': '2', 'DMLC_INTERFACE': 'eth0', 'SAGEMAKER_HTTP_PORT': '8080', 'SAGEMAKER_DATA_PATH': '/opt/ml'}\n",
      "[10/21/2024 10:53:11 INFO 139668033648448] envs={'ENVROOT': '/opt/amazon', 'PROTOCOL_BUFFERS_PYTHON_IMPLEMENTATION': 'cpp', 'HOSTNAME': 'ip-10-0-194-98.ap-northeast-2.compute.internal', 'TRAINING_JOB_NAME': 'adult-income-classification-2024-10-21--2024-10-21-10-51-03-354', 'NVIDIA_REQUIRE_CUDA': 'cuda>=9.0', 'TRAINING_JOB_ARN': 'arn:aws:sagemaker:ap-northeast-2:905418381372:training-job/adult-income-classification-2024-10-21--2024-10-21-10-51-03-354', 'AWS_CONTAINER_CREDENTIALS_RELATIVE_URI': '/v2/credentials/proxy-587df5f63889a0e524dcf842a8f89d675f7ec37f460f10f8d901698b5b2f6381-customer', 'CANONICAL_ENVROOT': '/opt/amazon', 'PYTHONUNBUFFERED': 'TRUE', 'NVIDIA_VISIBLE_DEVICES': 'all', 'LD_LIBRARY_PATH': '/opt/amazon/lib/python3.8/site-packages/cv2/../../../../lib:/usr/local/nvidia/lib64:/opt/amazon/lib', 'NVIDIA_DRIVER_CAPABILITIES': 'compute,utility', 'SAGEMAKER_MANAGED_WARMPOOL_CACHE_DIRECTORY': '/opt/ml/sagemaker/warmpoolcache', 'PATH': '/opt/amazon/bin:/usr/local/nvidia/bin:/usr/local/sbin:/usr/local/bin:/usr/sbin:/usr/bin:/sbin:/bin', 'PWD': '/', 'LANG': 'en_US.utf8', 'AWS_REGION': 'ap-northeast-2', 'CUDA_VERSION': '11.1', 'HOME': '/root', 'SHLVL': '1', 'CUDA_COMPAT_NDRIVER_SUPPORTED_VERSION': '455.32.00', 'PROTOCOL_BUFFERS_PYTHON_IMPLEMENTATION_VERSION': '2', 'OMP_NUM_THREADS': '2', 'DMLC_INTERFACE': 'eth0', 'SAGEMAKER_HTTP_PORT': '8080', 'SAGEMAKER_DATA_PATH': '/opt/ml', 'DMLC_ROLE': 'scheduler', 'DMLC_PS_ROOT_URI': '10.0.194.98', 'DMLC_PS_ROOT_PORT': '9000', 'DMLC_NUM_SERVER': '1', 'DMLC_NUM_WORKER': '1'}\n",
      "[10/21/2024 10:53:11 INFO 139668033648448] Launching parameter server for role server\n",
      "[10/21/2024 10:53:11 INFO 139668033648448] {'ENVROOT': '/opt/amazon', 'PROTOCOL_BUFFERS_PYTHON_IMPLEMENTATION': 'cpp', 'HOSTNAME': 'ip-10-0-194-98.ap-northeast-2.compute.internal', 'TRAINING_JOB_NAME': 'adult-income-classification-2024-10-21--2024-10-21-10-51-03-354', 'NVIDIA_REQUIRE_CUDA': 'cuda>=9.0', 'TRAINING_JOB_ARN': 'arn:aws:sagemaker:ap-northeast-2:905418381372:training-job/adult-income-classification-2024-10-21--2024-10-21-10-51-03-354', 'AWS_CONTAINER_CREDENTIALS_RELATIVE_URI': '/v2/credentials/proxy-587df5f63889a0e524dcf842a8f89d675f7ec37f460f10f8d901698b5b2f6381-customer', 'CANONICAL_ENVROOT': '/opt/amazon', 'PYTHONUNBUFFERED': 'TRUE', 'NVIDIA_VISIBLE_DEVICES': 'all', 'LD_LIBRARY_PATH': '/opt/amazon/lib/python3.8/site-packages/cv2/../../../../lib:/usr/local/nvidia/lib64:/opt/amazon/lib', 'NVIDIA_DRIVER_CAPABILITIES': 'compute,utility', 'SAGEMAKER_MANAGED_WARMPOOL_CACHE_DIRECTORY': '/opt/ml/sagemaker/warmpoolcache', 'PATH': '/opt/amazon/bin:/usr/local/nvidia/bin:/usr/local/sbin:/usr/local/bin:/usr/sbin:/usr/bin:/sbin:/bin', 'PWD': '/', 'LANG': 'en_US.utf8', 'AWS_REGION': 'ap-northeast-2', 'CUDA_VERSION': '11.1', 'HOME': '/root', 'SHLVL': '1', 'CUDA_COMPAT_NDRIVER_SUPPORTED_VERSION': '455.32.00', 'PROTOCOL_BUFFERS_PYTHON_IMPLEMENTATION_VERSION': '2', 'OMP_NUM_THREADS': '2', 'DMLC_INTERFACE': 'eth0', 'SAGEMAKER_HTTP_PORT': '8080', 'SAGEMAKER_DATA_PATH': '/opt/ml'}\n",
      "[10/21/2024 10:53:11 INFO 139668033648448] envs={'ENVROOT': '/opt/amazon', 'PROTOCOL_BUFFERS_PYTHON_IMPLEMENTATION': 'cpp', 'HOSTNAME': 'ip-10-0-194-98.ap-northeast-2.compute.internal', 'TRAINING_JOB_NAME': 'adult-income-classification-2024-10-21--2024-10-21-10-51-03-354', 'NVIDIA_REQUIRE_CUDA': 'cuda>=9.0', 'TRAINING_JOB_ARN': 'arn:aws:sagemaker:ap-northeast-2:905418381372:training-job/adult-income-classification-2024-10-21--2024-10-21-10-51-03-354', 'AWS_CONTAINER_CREDENTIALS_RELATIVE_URI': '/v2/credentials/proxy-587df5f63889a0e524dcf842a8f89d675f7ec37f460f10f8d901698b5b2f6381-customer', 'CANONICAL_ENVROOT': '/opt/amazon', 'PYTHONUNBUFFERED': 'TRUE', 'NVIDIA_VISIBLE_DEVICES': 'all', 'LD_LIBRARY_PATH': '/opt/amazon/lib/python3.8/site-packages/cv2/../../../../lib:/usr/local/nvidia/lib64:/opt/amazon/lib', 'NVIDIA_DRIVER_CAPABILITIES': 'compute,utility', 'SAGEMAKER_MANAGED_WARMPOOL_CACHE_DIRECTORY': '/opt/ml/sagemaker/warmpoolcache', 'PATH': '/opt/amazon/bin:/usr/local/nvidia/bin:/usr/local/sbin:/usr/local/bin:/usr/sbin:/usr/bin:/sbin:/bin', 'PWD': '/', 'LANG': 'en_US.utf8', 'AWS_REGION': 'ap-northeast-2', 'CUDA_VERSION': '11.1', 'HOME': '/root', 'SHLVL': '1', 'CUDA_COMPAT_NDRIVER_SUPPORTED_VERSION': '455.32.00', 'PROTOCOL_BUFFERS_PYTHON_IMPLEMENTATION_VERSION': '2', 'OMP_NUM_THREADS': '2', 'DMLC_INTERFACE': 'eth0', 'SAGEMAKER_HTTP_PORT': '8080', 'SAGEMAKER_DATA_PATH': '/opt/ml', 'DMLC_ROLE': 'server', 'DMLC_PS_ROOT_URI': '10.0.194.98', 'DMLC_PS_ROOT_PORT': '9000', 'DMLC_NUM_SERVER': '1', 'DMLC_NUM_WORKER': '1'}\n",
      "[10/21/2024 10:53:11 INFO 139668033648448] Environment: {'ENVROOT': '/opt/amazon', 'PROTOCOL_BUFFERS_PYTHON_IMPLEMENTATION': 'cpp', 'HOSTNAME': 'ip-10-0-194-98.ap-northeast-2.compute.internal', 'TRAINING_JOB_NAME': 'adult-income-classification-2024-10-21--2024-10-21-10-51-03-354', 'NVIDIA_REQUIRE_CUDA': 'cuda>=9.0', 'TRAINING_JOB_ARN': 'arn:aws:sagemaker:ap-northeast-2:905418381372:training-job/adult-income-classification-2024-10-21--2024-10-21-10-51-03-354', 'AWS_CONTAINER_CREDENTIALS_RELATIVE_URI': '/v2/credentials/proxy-587df5f63889a0e524dcf842a8f89d675f7ec37f460f10f8d901698b5b2f6381-customer', 'CANONICAL_ENVROOT': '/opt/amazon', 'PYTHONUNBUFFERED': 'TRUE', 'NVIDIA_VISIBLE_DEVICES': 'all', 'LD_LIBRARY_PATH': '/opt/amazon/lib/python3.8/site-packages/cv2/../../../../lib:/usr/local/nvidia/lib64:/opt/amazon/lib', 'NVIDIA_DRIVER_CAPABILITIES': 'compute,utility', 'SAGEMAKER_MANAGED_WARMPOOL_CACHE_DIRECTORY': '/opt/ml/sagemaker/warmpoolcache', 'PATH': '/opt/amazon/bin:/usr/local/nvidia/bin:/usr/local/sbin:/usr/local/bin:/usr/sbin:/usr/bin:/sbin:/bin', 'PWD': '/', 'LANG': 'en_US.utf8', 'AWS_REGION': 'ap-northeast-2', 'CUDA_VERSION': '11.1', 'HOME': '/root', 'SHLVL': '1', 'CUDA_COMPAT_NDRIVER_SUPPORTED_VERSION': '455.32.00', 'PROTOCOL_BUFFERS_PYTHON_IMPLEMENTATION_VERSION': '2', 'OMP_NUM_THREADS': '2', 'DMLC_INTERFACE': 'eth0', 'SAGEMAKER_HTTP_PORT': '8080', 'SAGEMAKER_DATA_PATH': '/opt/ml', 'DMLC_ROLE': 'worker', 'DMLC_PS_ROOT_URI': '10.0.194.98', 'DMLC_PS_ROOT_PORT': '9000', 'DMLC_NUM_SERVER': '1', 'DMLC_NUM_WORKER': '1'}\n",
      "Process 35 is a shell:scheduler.\n",
      "Process 44 is a shell:server.\n",
      "Process 8 is a worker.\n",
      "[10/21/2024 10:53:11 INFO 139668033648448] Using default worker.\n",
      "[10/21/2024 10:53:11 INFO 139668033648448] Loaded iterator creator application/x-labeled-vector-protobuf for content type ('application/x-labeled-vector-protobuf', '1.0')\n",
      "[10/21/2024 10:53:11 INFO 139668033648448] Loaded iterator creator application/x-recordio-protobuf for content type ('application/x-recordio-protobuf', '1.0')\n",
      "[10/21/2024 10:53:11 INFO 139668033648448] Loaded iterator creator protobuf for content type ('protobuf', '1.0')\n",
      "[10/21/2024 10:53:11 INFO 139668033648448] Checkpoint loading and saving are disabled.\n",
      "[10/21/2024 10:53:11 INFO 139668033648448] Create Store: dist_sync\n",
      "/opt/amazon/python3.8/lib/python3.8/subprocess.py:848: RuntimeWarning: line buffering (buffering=1) isn't supported in binary mode, the default buffer size will be used\n",
      "  self.stdout = io.open(c2pread, 'rb', bufsize)\n",
      "[10/21/2024 10:53:12 INFO 139668033648448] nvidia-smi: took 0.030 seconds to run.\n",
      "[10/21/2024 10:53:12 INFO 139668033648448] nvidia-smi identified 0 GPUs.\n",
      "[10/21/2024 10:53:12 INFO 139668033648448] Number of GPUs being used: 0\n",
      "[10/21/2024 10:53:12 INFO 139668033648448] The default executor is <PCAExecutor on cpu(0)>.\n",
      "[10/21/2024 10:53:12 INFO 139668033648448] 14 feature(s) found in 'data'.\n",
      "[10/21/2024 10:53:12 INFO 139668033648448] <PCAExecutor on cpu(0)> is assigned to batch slice from 0 to 199.\n",
      "#metrics {\"StartTime\": 1729507991.6616154, \"EndTime\": 1729507992.4389145, \"Dimensions\": {\"Algorithm\": \"PCA\", \"Host\": \"algo-1\", \"Operation\": \"training\"}, \"Metrics\": {\"initialize.time\": {\"sum\": 771.1081504821777, \"count\": 1, \"min\": 771.1081504821777, \"max\": 771.1081504821777}}}\n",
      "#metrics {\"StartTime\": 1729507992.4390802, \"EndTime\": 1729507992.439123, \"Dimensions\": {\"Algorithm\": \"PCA\", \"Host\": \"algo-1\", \"Operation\": \"training\", \"Meta\": \"init_train_data_iter\"}, \"Metrics\": {\"Total Records Seen\": {\"sum\": 0.0, \"count\": 1, \"min\": 0, \"max\": 0}, \"Total Batches Seen\": {\"sum\": 0.0, \"count\": 1, \"min\": 0, \"max\": 0}, \"Max Records Seen Between Resets\": {\"sum\": 0.0, \"count\": 1, \"min\": 0, \"max\": 0}, \"Max Batches Seen Between Resets\": {\"sum\": 0.0, \"count\": 1, \"min\": 0, \"max\": 0}, \"Reset Count\": {\"sum\": 0.0, \"count\": 1, \"min\": 0, \"max\": 0}, \"Number of Records Since Last Reset\": {\"sum\": 0.0, \"count\": 1, \"min\": 0, \"max\": 0}, \"Number of Batches Since Last Reset\": {\"sum\": 0.0, \"count\": 1, \"min\": 0, \"max\": 0}}}\n",
      "[2024-10-21 10:53:12.439] [tensorio] [info] epoch_stats={\"data_pipeline\": \"/opt/ml/input/data/train\", \"epoch\": 0, \"duration\": 777, \"num_examples\": 1, \"num_bytes\": 27200}\n",
      "[2024-10-21 10:53:12.503] [tensorio] [info] epoch_stats={\"data_pipeline\": \"/opt/ml/input/data/train\", \"epoch\": 1, \"duration\": 59, \"num_examples\": 154, \"num_bytes\": 4184584}\n",
      "#metrics {\"StartTime\": 1729507992.4390197, \"EndTime\": 1729507992.5032973, \"Dimensions\": {\"Algorithm\": \"PCA\", \"Host\": \"algo-1\", \"Operation\": \"training\"}, \"Metrics\": {\"epochs\": {\"sum\": 1.0, \"count\": 1, \"min\": 1, \"max\": 1}, \"update.time\": {\"sum\": 63.56620788574219, \"count\": 1, \"min\": 63.56620788574219, \"max\": 63.56620788574219}}}\n",
      "[10/21/2024 10:53:12 INFO 139668033648448] #progress_metric: host=algo-1, completed 100.0 % of epochs\n",
      "#metrics {\"StartTime\": 1729507992.4397035, \"EndTime\": 1729507992.504042, \"Dimensions\": {\"Algorithm\": \"PCA\", \"Host\": \"algo-1\", \"Operation\": \"training\", \"epoch\": 0, \"Meta\": \"training_data_iter\"}, \"Metrics\": {\"Total Records Seen\": {\"sum\": 30769.0, \"count\": 1, \"min\": 30769, \"max\": 30769}, \"Total Batches Seen\": {\"sum\": 154.0, \"count\": 1, \"min\": 154, \"max\": 154}, \"Max Records Seen Between Resets\": {\"sum\": 30769.0, \"count\": 1, \"min\": 30769, \"max\": 30769}, \"Max Batches Seen Between Resets\": {\"sum\": 154.0, \"count\": 1, \"min\": 154, \"max\": 154}, \"Reset Count\": {\"sum\": 1.0, \"count\": 1, \"min\": 1, \"max\": 1}, \"Number of Records Since Last Reset\": {\"sum\": 30769.0, \"count\": 1, \"min\": 30769, \"max\": 30769}, \"Number of Batches Since Last Reset\": {\"sum\": 154.0, \"count\": 1, \"min\": 154, \"max\": 154}}}\n",
      "[10/21/2024 10:53:12 INFO 139668033648448] #throughput_metric: host=algo-1, train throughput=477338.0224956817 records/second\n",
      "#metrics {\"StartTime\": 1729507992.5038111, \"EndTime\": 1729507992.5055885, \"Dimensions\": {\"Algorithm\": \"PCA\", \"Host\": \"algo-1\", \"Operation\": \"training\"}, \"Metrics\": {\"finalize.time\": {\"sum\": 1.1601448059082031, \"count\": 1, \"min\": 1.1601448059082031, \"max\": 1.1601448059082031}}}\n",
      "[10/21/2024 10:53:12 INFO 139668033648448] Test data is not provided.\n",
      "#metrics {\"StartTime\": 1729507992.5056615, \"EndTime\": 1729507992.5061507, \"Dimensions\": {\"Algorithm\": \"PCA\", \"Host\": \"algo-1\", \"Operation\": \"training\"}, \"Metrics\": {\"setuptime\": {\"sum\": 19.047975540161133, \"count\": 1, \"min\": 19.047975540161133, \"max\": 19.047975540161133}, \"totaltime\": {\"sum\": 964.7479057312012, \"count\": 1, \"min\": 964.7479057312012, \"max\": 964.7479057312012}}}\n",
      "\n",
      "2024-10-21 10:53:29 Uploading - Uploading generated training model\n",
      "2024-10-21 10:53:29 Completed - Training job completed\n",
      "Training seconds: 109\n",
      "Billable seconds: 27\n",
      "Managed Spot Training savings: 75.2%\n"
     ]
    }
   ],
   "source": [
    "pca_estimator.fit({'train': train_path})"
   ]
  },
  {
   "cell_type": "markdown",
   "metadata": {},
   "source": [
    "차원축소 엔드포인트 생성"
   ]
  },
  {
   "cell_type": "code",
   "execution_count": 138,
   "metadata": {},
   "outputs": [
    {
     "name": "stderr",
     "output_type": "stream",
     "text": [
      "INFO:sagemaker:Creating model with name: adult-income-classification-2024-10-21--2024-10-21-10-53-51-445\n"
     ]
    },
    {
     "name": "stderr",
     "output_type": "stream",
     "text": [
      "INFO:sagemaker:Creating endpoint-config with name adult-income-classification-pca-2024-10-21-10-53-51-445\n",
      "INFO:sagemaker:Creating endpoint with name adult-income-classification-pca-2024-10-21-10-53-51-445\n"
     ]
    },
    {
     "name": "stdout",
     "output_type": "stream",
     "text": [
      "------!"
     ]
    }
   ],
   "source": [
    "from sagemaker.serializers import CSVSerializer\n",
    "from sagemaker.deserializers import JSONDeserializer\n",
    "import pandas as pd\n",
    "\n",
    "class CustomJSONDeserializer(JSONDeserializer):\n",
    "    def deserialize(self, data, content_type):\n",
    "        result = super().deserialize(data, content_type)\n",
    "        projections = [proj['projection'] for proj in result['projections']]\n",
    "        return pd.DataFrame(projections, columns=[f'PC{i+1}' for i in range(len(projections[0]))])\n",
    "\n",
    "\n",
    "pca_predictor = pca_estimator.deploy(\n",
    "    initial_instance_count=1, \n",
    "    instance_type=training_instance_type,\n",
    "    endpoint_name=name_from_base(project_name + '-pca'),\n",
    "    serializer=CSVSerializer(),\n",
    "    deserializer=CustomJSONDeserializer()\n",
    ")"
   ]
  },
  {
   "cell_type": "markdown",
   "metadata": {},
   "source": [
    "차원축소 실행"
   ]
  },
  {
   "cell_type": "markdown",
   "metadata": {},
   "source": [
    "* 훈련, 검증 데이터셋"
   ]
  },
  {
   "cell_type": "code",
   "execution_count": 139,
   "metadata": {},
   "outputs": [],
   "source": [
    "# 데이터를 배치로 나누어 처리\n",
    "batch_size = 10000  # 적절한 배치 크기 설정\n",
    "\n",
    "X_train_pca = []\n",
    "for i in range(0, len(X_train), batch_size):\n",
    "    batch = X_train.iloc[i:i+batch_size].values\n",
    "    batch_pca = pca_predictor.predict(batch)\n",
    "    X_train_pca.append(batch_pca)\n",
    "X_train_pca = pd.concat(X_train_pca, ignore_index=True)\n",
    "\n",
    "X_val_pca = []\n",
    "for i in range(0, len(X_val), batch_size):\n",
    "    batch = X_val.iloc[i:i+batch_size].values\n",
    "    batch_pca = pca_predictor.predict(batch)\n",
    "    X_val_pca.append(batch_pca)\n",
    "X_val_pca = pd.concat(X_val_pca, ignore_index=True)"
   ]
  },
  {
   "cell_type": "markdown",
   "metadata": {},
   "source": [
    "* 테스트 데이터셋"
   ]
  },
  {
   "cell_type": "code",
   "execution_count": 140,
   "metadata": {},
   "outputs": [],
   "source": [
    "# 데이터 다운로드\n",
    "test_df = wr.s3.read_csv(test_path, boto3_session=boto3_session)\n",
    "X_test = test_df.iloc[:, 1:]\n",
    "y_test = test_df.iloc[:, 0]"
   ]
  },
  {
   "cell_type": "code",
   "execution_count": 141,
   "metadata": {},
   "outputs": [],
   "source": [
    "wr.s3.download(os.path.join(asset_path, 'adult_encoders.pkl'), 'dataset/adult_encoders.pkl', boto3_session=boto3_session)\n",
    "wr.s3.download(os.path.join(asset_path, 'adult_scaler.pkl'), 'dataset/adult_scaler.pkl', boto3_session=boto3_session)\n",
    "with open('dataset/adult_encoders.pkl', 'rb') as f:\n",
    "    feature_encoders = pickle.load(f)\n",
    "with open('dataset/adult_scaler.pkl', 'rb') as f:\n",
    "    scaler = pickle.load(f)"
   ]
  },
  {
   "cell_type": "code",
   "execution_count": 142,
   "metadata": {},
   "outputs": [],
   "source": [
    "# 전처리\n",
    "# '?' 값을 NaN으로 대체\n",
    "X_test[X_test == '?'] = np.nan\n",
    "# workclass, occupation, native-country 열은 결측치가 존재하기 때문에 이를 최빈값을 보간합니다.\n",
    "X_test['workclass'].fillna(X_test['workclass'].mode()[0], inplace=True)\n",
    "X_test['occupation'].fillna(X_test['occupation'].mode()[0], inplace=True)\n",
    "X_test['native-country'].fillna(X_test['native-country'].mode()[0], inplace=True)"
   ]
  },
  {
   "cell_type": "code",
   "execution_count": 146,
   "metadata": {},
   "outputs": [
    {
     "name": "stdout",
     "output_type": "stream",
     "text": [
      "X_test shape: (4885, 14)\n",
      "y_test shape: (4885,)\n"
     ]
    }
   ],
   "source": [
    "# 인코딩 / 스케일링\n",
    "X_test_encoded = X_test.copy()\n",
    "# 로드한 레이블 인코더를 사용하여 범주형 변수 인코딩\n",
    "for col in feature_encoders.keys():\n",
    "    # 새로운 범주가 있는지 확인\n",
    "    unseen_categories = set(X_test_encoded[col]) - set(feature_encoders[col].classes_)\n",
    "    if unseen_categories:\n",
    "        # 새로운 범주가 있으면 인코더 업데이트\n",
    "        feature_encoders[col].classes_ = np.append(feature_encoders[col].classes_, list(unseen_categories))\n",
    "    # 인코딩 진행\n",
    "    X_test_encoded[col] = feature_encoders[col].transform(X_test_encoded[col])\n",
    "\n",
    "# 수치형 변수 정규화\n",
    "X_test_scaled = scaler.transform(X_test_encoded)\n",
    "\n",
    "# 전처리된 데이터를 DataFrame으로 변환\n",
    "X_test_processed = pd.DataFrame(X_test_scaled, columns=X_test_encoded.columns)\n",
    "\n",
    "print(\"X_test shape:\", X_test_processed.shape)\n",
    "print(\"y_test shape:\", y_test.shape)\n"
   ]
  },
  {
   "cell_type": "code",
   "execution_count": 147,
   "metadata": {},
   "outputs": [
    {
     "data": {
      "text/html": [
       "<div>\n",
       "<style scoped>\n",
       "    .dataframe tbody tr th:only-of-type {\n",
       "        vertical-align: middle;\n",
       "    }\n",
       "\n",
       "    .dataframe tbody tr th {\n",
       "        vertical-align: top;\n",
       "    }\n",
       "\n",
       "    .dataframe thead th {\n",
       "        text-align: right;\n",
       "    }\n",
       "</style>\n",
       "<table border=\"1\" class=\"dataframe\">\n",
       "  <thead>\n",
       "    <tr style=\"text-align: right;\">\n",
       "      <th></th>\n",
       "      <th>PC1</th>\n",
       "      <th>PC2</th>\n",
       "      <th>PC3</th>\n",
       "      <th>PC4</th>\n",
       "      <th>PC5</th>\n",
       "      <th>PC6</th>\n",
       "      <th>PC7</th>\n",
       "      <th>PC8</th>\n",
       "      <th>PC9</th>\n",
       "      <th>PC10</th>\n",
       "      <th>PC11</th>\n",
       "      <th>PC12</th>\n",
       "    </tr>\n",
       "  </thead>\n",
       "  <tbody>\n",
       "    <tr>\n",
       "      <th>0</th>\n",
       "      <td>-1.854052</td>\n",
       "      <td>-1.611059</td>\n",
       "      <td>1.518132</td>\n",
       "      <td>8.121953</td>\n",
       "      <td>4.125352</td>\n",
       "      <td>-1.661083</td>\n",
       "      <td>-3.113461</td>\n",
       "      <td>-2.954618</td>\n",
       "      <td>0.848511</td>\n",
       "      <td>3.388551</td>\n",
       "      <td>1.463064</td>\n",
       "      <td>7.132072</td>\n",
       "    </tr>\n",
       "    <tr>\n",
       "      <th>1</th>\n",
       "      <td>-1.360219</td>\n",
       "      <td>-4.307003</td>\n",
       "      <td>0.849553</td>\n",
       "      <td>7.699219</td>\n",
       "      <td>4.182195</td>\n",
       "      <td>1.559687</td>\n",
       "      <td>-3.648826</td>\n",
       "      <td>-3.052536</td>\n",
       "      <td>1.038673</td>\n",
       "      <td>4.662076</td>\n",
       "      <td>-0.256844</td>\n",
       "      <td>5.532094</td>\n",
       "    </tr>\n",
       "    <tr>\n",
       "      <th>2</th>\n",
       "      <td>-1.163707</td>\n",
       "      <td>-2.752522</td>\n",
       "      <td>0.145521</td>\n",
       "      <td>8.630344</td>\n",
       "      <td>2.714113</td>\n",
       "      <td>-0.148636</td>\n",
       "      <td>-2.237233</td>\n",
       "      <td>-3.518494</td>\n",
       "      <td>1.175824</td>\n",
       "      <td>2.531605</td>\n",
       "      <td>3.149301</td>\n",
       "      <td>3.417424</td>\n",
       "    </tr>\n",
       "    <tr>\n",
       "      <th>3</th>\n",
       "      <td>-0.646073</td>\n",
       "      <td>-1.727187</td>\n",
       "      <td>1.890225</td>\n",
       "      <td>8.260570</td>\n",
       "      <td>3.107603</td>\n",
       "      <td>-0.159877</td>\n",
       "      <td>-2.474569</td>\n",
       "      <td>-3.881232</td>\n",
       "      <td>2.901913</td>\n",
       "      <td>2.375993</td>\n",
       "      <td>2.844999</td>\n",
       "      <td>2.544449</td>\n",
       "    </tr>\n",
       "    <tr>\n",
       "      <th>4</th>\n",
       "      <td>-0.777944</td>\n",
       "      <td>-2.774834</td>\n",
       "      <td>0.531698</td>\n",
       "      <td>8.632375</td>\n",
       "      <td>3.062000</td>\n",
       "      <td>0.328825</td>\n",
       "      <td>-2.474372</td>\n",
       "      <td>-3.198385</td>\n",
       "      <td>1.341331</td>\n",
       "      <td>1.405606</td>\n",
       "      <td>1.589867</td>\n",
       "      <td>4.180598</td>\n",
       "    </tr>\n",
       "  </tbody>\n",
       "</table>\n",
       "</div>"
      ],
      "text/plain": [
       "        PC1       PC2       PC3       PC4       PC5       PC6       PC7  \\\n",
       "0 -1.854052 -1.611059  1.518132  8.121953  4.125352 -1.661083 -3.113461   \n",
       "1 -1.360219 -4.307003  0.849553  7.699219  4.182195  1.559687 -3.648826   \n",
       "2 -1.163707 -2.752522  0.145521  8.630344  2.714113 -0.148636 -2.237233   \n",
       "3 -0.646073 -1.727187  1.890225  8.260570  3.107603 -0.159877 -2.474569   \n",
       "4 -0.777944 -2.774834  0.531698  8.632375  3.062000  0.328825 -2.474372   \n",
       "\n",
       "        PC8       PC9      PC10      PC11      PC12  \n",
       "0 -2.954618  0.848511  3.388551  1.463064  7.132072  \n",
       "1 -3.052536  1.038673  4.662076 -0.256844  5.532094  \n",
       "2 -3.518494  1.175824  2.531605  3.149301  3.417424  \n",
       "3 -3.881232  2.901913  2.375993  2.844999  2.544449  \n",
       "4 -3.198385  1.341331  1.405606  1.589867  4.180598  "
      ]
     },
     "execution_count": 147,
     "metadata": {},
     "output_type": "execute_result"
    }
   ],
   "source": [
    "X_test_pca = pca_predictor.predict(X_test_processed.values)\n",
    "X_test_pca.head()"
   ]
  },
  {
   "cell_type": "code",
   "execution_count": 136,
   "metadata": {},
   "outputs": [
    {
     "name": "stderr",
     "output_type": "stream",
     "text": [
      "INFO:sagemaker:Deleting endpoint configuration with name: adult-income-classification-pca-2024-08-01-03-11-46-170\n",
      "INFO:sagemaker:Deleting endpoint with name: adult-income-classification-pca-2024-08-01-03-11-46-170\n"
     ]
    }
   ],
   "source": [
    "pca_predictor.delete_endpoint()"
   ]
  },
  {
   "cell_type": "markdown",
   "metadata": {},
   "source": [
    "차원축소 데이터 S3 업로드"
   ]
  },
  {
   "cell_type": "code",
   "execution_count": 137,
   "metadata": {},
   "outputs": [],
   "source": [
    "import io\n",
    "import pickle\n",
    "import numpy as np\n",
    "from sagemaker.amazon.common import write_numpy_to_dense_tensor\n",
    "\n",
    "# RecordIO 형식으로 데이터를 변환하고 S3에 저장하는 헬퍼 함수\n",
    "def convert_to_recordio_protobuf(feature_values : np.ndarray, target_values : np.ndarray, s3_path : str):\n",
    "\n",
    "    # RecordIO-Protobuf 형식으로 변환\n",
    "    buf = io.BytesIO()\n",
    "    write_numpy_to_dense_tensor(buf, feature_values, target_values)\n",
    "    buf.seek(0)\n",
    "    \n",
    "    # S3에 업로드\n",
    "    wr.s3.upload(local_file=buf, path=s3_path, boto3_session=boto3_session)\n",
    "    print(f\"데이터가 {s3_path}에 RecordIO-Protobuf 형식으로 저장되었습니다.\")"
   ]
  },
  {
   "cell_type": "code",
   "execution_count": 149,
   "metadata": {},
   "outputs": [
    {
     "name": "stdout",
     "output_type": "stream",
     "text": [
      "데이터가 s3://dante-sagemaker/adult-income-classification/pca/train/train-pca.recordio에 RecordIO-Protobuf 형식으로 저장되었습니다.\n",
      "데이터가 s3://dante-sagemaker/adult-income-classification/pca/val/val-pca.recordio에 RecordIO-Protobuf 형식으로 저장되었습니다.\n",
      "데이터가 s3://dante-sagemaker/adult-income-classification/pca/test/test-pca.recordio에 RecordIO-Protobuf 형식으로 저장되었습니다.\n"
     ]
    }
   ],
   "source": [
    "convert_to_recordio_protobuf(X_train_pca.values, y_train.values.flatten(), os.path.join(pca_path, 'train/train-pca.recordio'))\n",
    "convert_to_recordio_protobuf(X_val_pca.values, y_val.values.flatten(), os.path.join(pca_path, 'val/val-pca.recordio'))\n",
    "convert_to_recordio_protobuf(X_test_pca.values, y_test.values.flatten(), os.path.join(pca_path, 'test/test-pca.recordio'))"
   ]
  },
  {
   "cell_type": "markdown",
   "metadata": {},
   "source": [
    "XGBoost 빌트인 모델 및 하이퍼파라미터 설정"
   ]
  },
  {
   "cell_type": "code",
   "execution_count": 150,
   "metadata": {},
   "outputs": [
    {
     "name": "stderr",
     "output_type": "stream",
     "text": [
      "INFO:sagemaker.image_uris:Ignoring unnecessary instance type: None.\n"
     ]
    }
   ],
   "source": [
    "container = sagemaker.image_uris.retrieve(\"xgboost\",sagemaker_session.boto_region_name,version=\"1.7-1\")"
   ]
  },
  {
   "cell_type": "code",
   "execution_count": 151,
   "metadata": {},
   "outputs": [],
   "source": [
    "xgb_estimator = sagemaker.estimator.Estimator(\n",
    "    image_uri=container,  # 사용할 Docker 이미지의 URI\n",
    "    role=role,  # IAM 역할 ARN\n",
    "    sagemaker_session=sagemaker_session,  # SageMaker 세션 객체\n",
    "    instance_count=1,  # 사용할 인스턴스 수\n",
    "    instance_type=training_instance_type,  # 사용할 인스턴스 유형\n",
    "    max_run=max_run,  # 최대 실행 시간 (초)\n",
    "    use_spot_instances=use_spot_instances,  # 스팟 인스턴스 사용 여부\n",
    "    max_wait=max_wait,  # 스팟 인스턴스 대기 최대 시간 (초)\n",
    "    output_path=output_path,  # 모델 아티팩트 저장 경로\n",
    "    base_job_name=project_name,  # 훈련 작업 이름의 기본 접두사\n",
    ")"
   ]
  },
  {
   "cell_type": "code",
   "execution_count": 152,
   "metadata": {},
   "outputs": [],
   "source": [
    "xgb_estimator.set_hyperparameters(\n",
    "    max_depth=5,\n",
    "    eta=0.1,\n",
    "    gamma=4,\n",
    "    min_child_weight=6,\n",
    "    subsample=0.8,\n",
    "    objective='binary:logistic',\n",
    "    num_round=200,\n",
    "    early_stopping_rounds=10,\n",
    "    eval_metric='logloss'\n",
    ")"
   ]
  },
  {
   "cell_type": "code",
   "execution_count": 153,
   "metadata": {},
   "outputs": [
    {
     "name": "stderr",
     "output_type": "stream",
     "text": [
      "INFO:sagemaker:Creating training-job with name: adult-income-classification-2024-08-01-03-32-59-239\n"
     ]
    },
    {
     "name": "stdout",
     "output_type": "stream",
     "text": [
      "2024-08-01 03:32:59 Starting - Starting the training job...\n",
      "2024-08-01 03:33:13 Starting - Preparing the instances for training...\n",
      "2024-08-01 03:33:55 Downloading - Downloading the training image......\n",
      "2024-08-01 03:34:56 Training - Training image download completed. Training in progress...[2024-08-01 03:35:02.923 ip-10-0-243-133.ap-northeast-2.compute.internal:7 INFO utils.py:28] RULE_JOB_STOP_SIGNAL_FILENAME: None\n",
      "[2024-08-01 03:35:02.948 ip-10-0-243-133.ap-northeast-2.compute.internal:7 INFO profiler_config_parser.py:111] User has disabled profiler.\n",
      "[2024-08-01:03:35:03:INFO] Imported framework sagemaker_xgboost_container.training\n",
      "[2024-08-01:03:35:03:INFO] Failed to parse hyperparameter eval_metric value logloss to Json.\n",
      "Returning the value itself\n",
      "[2024-08-01:03:35:03:INFO] Failed to parse hyperparameter objective value binary:logistic to Json.\n",
      "Returning the value itself\n",
      "[2024-08-01:03:35:03:INFO] No GPUs detected (normal if no gpus installed)\n",
      "[2024-08-01:03:35:03:INFO] Running XGBoost Sagemaker in algorithm mode\n",
      "[2024-08-01:03:35:03:INFO] Determined 0 GPU(s) available on the instance.\n",
      "[2024-08-01:03:35:03:INFO] File path /opt/ml/input/data/train of input files\n",
      "[2024-08-01:03:35:03:INFO] Making smlinks from folder /opt/ml/input/data/train to folder /tmp/sagemaker_xgboost_input_data\n",
      "[2024-08-01:03:35:03:INFO] creating symlink between Path /opt/ml/input/data/train/train-pca.recordio and destination /tmp/sagemaker_xgboost_input_data/train-pca.recordio5176676287309619381\n",
      "[2024-08-01:03:35:03:INFO] files path: /tmp/sagemaker_xgboost_input_data\n",
      "[2024-08-01:03:35:03:INFO] File path /opt/ml/input/data/validation of input files\n",
      "[2024-08-01:03:35:03:INFO] Making smlinks from folder /opt/ml/input/data/validation to folder /tmp/sagemaker_xgboost_input_data\n",
      "[2024-08-01:03:35:03:INFO] creating symlink between Path /opt/ml/input/data/validation/val-pca.recordio and destination /tmp/sagemaker_xgboost_input_data/val-pca.recordio-7041627087732820733\n",
      "[2024-08-01:03:35:03:INFO] files path: /tmp/sagemaker_xgboost_input_data\n",
      "[2024-08-01:03:35:03:INFO] Single node training.\n",
      "[2024-08-01:03:35:03:INFO] Train matrix has 30769 rows and 12 columns\n",
      "[2024-08-01:03:35:03:INFO] Validation matrix has 13188 rows\n",
      "[2024-08-01 03:35:03.472 ip-10-0-243-133.ap-northeast-2.compute.internal:7 INFO json_config.py:92] Creating hook from json_config at /opt/ml/input/config/debughookconfig.json.\n",
      "[2024-08-01 03:35:03.473 ip-10-0-243-133.ap-northeast-2.compute.internal:7 INFO hook.py:206] tensorboard_dir has not been set for the hook. SMDebug will not be exporting tensorboard summaries.\n",
      "[2024-08-01 03:35:03.474 ip-10-0-243-133.ap-northeast-2.compute.internal:7 INFO hook.py:259] Saving to /opt/ml/output/tensors\n",
      "[2024-08-01 03:35:03.474 ip-10-0-243-133.ap-northeast-2.compute.internal:7 INFO state_store.py:77] The checkpoint config file /opt/ml/input/config/checkpointconfig.json does not exist.\n",
      "[2024-08-01:03:35:03:INFO] Debug hook created from config\n",
      "[0]#011train-logloss:0.64519#011validation-logloss:0.64566\n",
      "[2024-08-01 03:35:03.519 ip-10-0-243-133.ap-northeast-2.compute.internal:7 INFO hook.py:427] Monitoring the collections: metrics\n",
      "[2024-08-01 03:35:03.522 ip-10-0-243-133.ap-northeast-2.compute.internal:7 INFO hook.py:491] Hook is writing from the hook with pid: 7\n",
      "[1]#011train-logloss:0.60571#011validation-logloss:0.60655\n",
      "[2]#011train-logloss:0.57245#011validation-logloss:0.57405\n",
      "[3]#011train-logloss:0.54422#011validation-logloss:0.54652\n",
      "[4]#011train-logloss:0.52033#011validation-logloss:0.52298\n",
      "[5]#011train-logloss:0.49966#011validation-logloss:0.50297\n",
      "[6]#011train-logloss:0.48154#011validation-logloss:0.48538\n",
      "[7]#011train-logloss:0.46595#011validation-logloss:0.47065\n",
      "[8]#011train-logloss:0.45238#011validation-logloss:0.45763\n",
      "[9]#011train-logloss:0.44026#011validation-logloss:0.44602\n",
      "[10]#011train-logloss:0.42948#011validation-logloss:0.43585\n",
      "[11]#011train-logloss:0.41993#011validation-logloss:0.42672\n",
      "[12]#011train-logloss:0.41116#011validation-logloss:0.41856\n",
      "[13]#011train-logloss:0.40358#011validation-logloss:0.41167\n",
      "[14]#011train-logloss:0.39683#011validation-logloss:0.40541\n",
      "[15]#011train-logloss:0.39075#011validation-logloss:0.39973\n",
      "[16]#011train-logloss:0.38514#011validation-logloss:0.39454\n",
      "[17]#011train-logloss:0.37992#011validation-logloss:0.38988\n",
      "[18]#011train-logloss:0.37554#011validation-logloss:0.38574\n",
      "[19]#011train-logloss:0.37150#011validation-logloss:0.38218\n",
      "[20]#011train-logloss:0.36786#011validation-logloss:0.37901\n",
      "[21]#011train-logloss:0.36408#011validation-logloss:0.37594\n",
      "[22]#011train-logloss:0.36041#011validation-logloss:0.37286\n",
      "[23]#011train-logloss:0.35769#011validation-logloss:0.37045\n",
      "[24]#011train-logloss:0.35503#011validation-logloss:0.36835\n",
      "[25]#011train-logloss:0.35219#011validation-logloss:0.36609\n",
      "[26]#011train-logloss:0.34960#011validation-logloss:0.36420\n",
      "[27]#011train-logloss:0.34699#011validation-logloss:0.36217\n",
      "[28]#011train-logloss:0.34511#011validation-logloss:0.36080\n",
      "[29]#011train-logloss:0.34341#011validation-logloss:0.35936\n",
      "[30]#011train-logloss:0.34105#011validation-logloss:0.35760\n",
      "[31]#011train-logloss:0.33947#011validation-logloss:0.35644\n",
      "[32]#011train-logloss:0.33741#011validation-logloss:0.35478\n",
      "[33]#011train-logloss:0.33605#011validation-logloss:0.35380\n",
      "[34]#011train-logloss:0.33432#011validation-logloss:0.35256\n",
      "[35]#011train-logloss:0.33310#011validation-logloss:0.35152\n",
      "[36]#011train-logloss:0.33199#011validation-logloss:0.35078\n",
      "[37]#011train-logloss:0.33099#011validation-logloss:0.35009\n",
      "[38]#011train-logloss:0.32984#011validation-logloss:0.34941\n",
      "[39]#011train-logloss:0.32907#011validation-logloss:0.34888\n",
      "[40]#011train-logloss:0.32805#011validation-logloss:0.34808\n",
      "[41]#011train-logloss:0.32704#011validation-logloss:0.34746\n",
      "[42]#011train-logloss:0.32628#011validation-logloss:0.34694\n",
      "[43]#011train-logloss:0.32504#011validation-logloss:0.34622\n",
      "[44]#011train-logloss:0.32387#011validation-logloss:0.34540\n",
      "[45]#011train-logloss:0.32300#011validation-logloss:0.34482\n",
      "[46]#011train-logloss:0.32202#011validation-logloss:0.34420\n",
      "[47]#011train-logloss:0.32095#011validation-logloss:0.34359\n",
      "[48]#011train-logloss:0.32028#011validation-logloss:0.34317\n",
      "[49]#011train-logloss:0.31943#011validation-logloss:0.34244\n",
      "[50]#011train-logloss:0.31877#011validation-logloss:0.34214\n",
      "[51]#011train-logloss:0.31774#011validation-logloss:0.34151\n",
      "[52]#011train-logloss:0.31707#011validation-logloss:0.34113\n",
      "[53]#011train-logloss:0.31641#011validation-logloss:0.34082\n",
      "[54]#011train-logloss:0.31580#011validation-logloss:0.34048\n",
      "[55]#011train-logloss:0.31493#011validation-logloss:0.34009\n",
      "[56]#011train-logloss:0.31442#011validation-logloss:0.33976\n",
      "[57]#011train-logloss:0.31384#011validation-logloss:0.33931\n",
      "[58]#011train-logloss:0.31330#011validation-logloss:0.33900\n",
      "[59]#011train-logloss:0.31273#011validation-logloss:0.33878\n",
      "[60]#011train-logloss:0.31213#011validation-logloss:0.33845\n",
      "[61]#011train-logloss:0.31182#011validation-logloss:0.33825\n",
      "[62]#011train-logloss:0.31118#011validation-logloss:0.33803\n",
      "[63]#011train-logloss:0.31016#011validation-logloss:0.33758\n",
      "[64]#011train-logloss:0.30971#011validation-logloss:0.33745\n",
      "[65]#011train-logloss:0.30930#011validation-logloss:0.33724\n",
      "[66]#011train-logloss:0.30910#011validation-logloss:0.33709\n",
      "[67]#011train-logloss:0.30851#011validation-logloss:0.33688\n",
      "[68]#011train-logloss:0.30817#011validation-logloss:0.33669\n",
      "[69]#011train-logloss:0.30748#011validation-logloss:0.33633\n",
      "[70]#011train-logloss:0.30693#011validation-logloss:0.33612\n",
      "[71]#011train-logloss:0.30605#011validation-logloss:0.33563\n",
      "[72]#011train-logloss:0.30558#011validation-logloss:0.33540\n",
      "[73]#011train-logloss:0.30483#011validation-logloss:0.33497\n",
      "[74]#011train-logloss:0.30458#011validation-logloss:0.33486\n",
      "[75]#011train-logloss:0.30377#011validation-logloss:0.33459\n",
      "[76]#011train-logloss:0.30342#011validation-logloss:0.33440\n",
      "[77]#011train-logloss:0.30326#011validation-logloss:0.33442\n",
      "[78]#011train-logloss:0.30294#011validation-logloss:0.33443\n",
      "[79]#011train-logloss:0.30250#011validation-logloss:0.33434\n",
      "[80]#011train-logloss:0.30196#011validation-logloss:0.33410\n",
      "[81]#011train-logloss:0.30162#011validation-logloss:0.33403\n",
      "[82]#011train-logloss:0.30132#011validation-logloss:0.33397\n",
      "[83]#011train-logloss:0.30099#011validation-logloss:0.33383\n",
      "[84]#011train-logloss:0.30067#011validation-logloss:0.33373\n",
      "[85]#011train-logloss:0.30056#011validation-logloss:0.33374\n",
      "[86]#011train-logloss:0.30029#011validation-logloss:0.33360\n",
      "[87]#011train-logloss:0.30000#011validation-logloss:0.33356\n",
      "[88]#011train-logloss:0.29970#011validation-logloss:0.33347\n",
      "[89]#011train-logloss:0.29938#011validation-logloss:0.33348\n",
      "[90]#011train-logloss:0.29909#011validation-logloss:0.33337\n",
      "[91]#011train-logloss:0.29865#011validation-logloss:0.33319\n",
      "[92]#011train-logloss:0.29814#011validation-logloss:0.33302\n",
      "[93]#011train-logloss:0.29788#011validation-logloss:0.33299\n",
      "[94]#011train-logloss:0.29755#011validation-logloss:0.33288\n",
      "[95]#011train-logloss:0.29689#011validation-logloss:0.33276\n",
      "[96]#011train-logloss:0.29663#011validation-logloss:0.33271\n",
      "[97]#011train-logloss:0.29623#011validation-logloss:0.33253\n",
      "[98]#011train-logloss:0.29608#011validation-logloss:0.33247\n",
      "[99]#011train-logloss:0.29567#011validation-logloss:0.33237\n",
      "[100]#011train-logloss:0.29556#011validation-logloss:0.33242\n",
      "[101]#011train-logloss:0.29531#011validation-logloss:0.33238\n",
      "[102]#011train-logloss:0.29489#011validation-logloss:0.33220\n",
      "[103]#011train-logloss:0.29437#011validation-logloss:0.33199\n",
      "[104]#011train-logloss:0.29394#011validation-logloss:0.33195\n",
      "[105]#011train-logloss:0.29365#011validation-logloss:0.33190\n",
      "[106]#011train-logloss:0.29314#011validation-logloss:0.33173\n",
      "[107]#011train-logloss:0.29307#011validation-logloss:0.33171\n",
      "[108]#011train-logloss:0.29264#011validation-logloss:0.33164\n",
      "[109]#011train-logloss:0.29210#011validation-logloss:0.33142\n",
      "[110]#011train-logloss:0.29152#011validation-logloss:0.33110\n",
      "[111]#011train-logloss:0.29128#011validation-logloss:0.33109\n",
      "[112]#011train-logloss:0.29096#011validation-logloss:0.33104\n",
      "[113]#011train-logloss:0.29047#011validation-logloss:0.33101\n",
      "[114]#011train-logloss:0.28993#011validation-logloss:0.33078\n",
      "[115]#011train-logloss:0.28982#011validation-logloss:0.33077\n",
      "[116]#011train-logloss:0.28943#011validation-logloss:0.33070\n",
      "[117]#011train-logloss:0.28929#011validation-logloss:0.33068\n",
      "[118]#011train-logloss:0.28901#011validation-logloss:0.33063\n",
      "[119]#011train-logloss:0.28877#011validation-logloss:0.33062\n",
      "[120]#011train-logloss:0.28867#011validation-logloss:0.33054\n",
      "[121]#011train-logloss:0.28829#011validation-logloss:0.33050\n",
      "[122]#011train-logloss:0.28794#011validation-logloss:0.33041\n",
      "[123]#011train-logloss:0.28774#011validation-logloss:0.33034\n",
      "[124]#011train-logloss:0.28743#011validation-logloss:0.33033\n",
      "[125]#011train-logloss:0.28724#011validation-logloss:0.33034\n",
      "[126]#011train-logloss:0.28691#011validation-logloss:0.33032\n",
      "[127]#011train-logloss:0.28665#011validation-logloss:0.33021\n",
      "[128]#011train-logloss:0.28632#011validation-logloss:0.33010\n",
      "[129]#011train-logloss:0.28612#011validation-logloss:0.33005\n",
      "[130]#011train-logloss:0.28599#011validation-logloss:0.33007\n",
      "[131]#011train-logloss:0.28583#011validation-logloss:0.33001\n",
      "[132]#011train-logloss:0.28556#011validation-logloss:0.33005\n",
      "[133]#011train-logloss:0.28538#011validation-logloss:0.33002\n",
      "[134]#011train-logloss:0.28497#011validation-logloss:0.32990\n",
      "[135]#011train-logloss:0.28469#011validation-logloss:0.32989\n",
      "[136]#011train-logloss:0.28446#011validation-logloss:0.32986\n",
      "[137]#011train-logloss:0.28418#011validation-logloss:0.32982\n",
      "[138]#011train-logloss:0.28395#011validation-logloss:0.32984\n",
      "[139]#011train-logloss:0.28384#011validation-logloss:0.32981\n",
      "[140]#011train-logloss:0.28355#011validation-logloss:0.32982\n",
      "[141]#011train-logloss:0.28333#011validation-logloss:0.32977\n",
      "[142]#011train-logloss:0.28294#011validation-logloss:0.32958\n",
      "[143]#011train-logloss:0.28268#011validation-logloss:0.32944\n",
      "[144]#011train-logloss:0.28258#011validation-logloss:0.32945\n",
      "[145]#011train-logloss:0.28241#011validation-logloss:0.32938\n",
      "[146]#011train-logloss:0.28220#011validation-logloss:0.32942\n",
      "[147]#011train-logloss:0.28193#011validation-logloss:0.32942\n",
      "[148]#011train-logloss:0.28177#011validation-logloss:0.32938\n",
      "[149]#011train-logloss:0.28155#011validation-logloss:0.32934\n",
      "[150]#011train-logloss:0.28142#011validation-logloss:0.32934\n",
      "[151]#011train-logloss:0.28108#011validation-logloss:0.32930\n",
      "[152]#011train-logloss:0.28078#011validation-logloss:0.32928\n",
      "[153]#011train-logloss:0.28069#011validation-logloss:0.32936\n",
      "[154]#011train-logloss:0.28061#011validation-logloss:0.32938\n",
      "[155]#011train-logloss:0.28030#011validation-logloss:0.32939\n",
      "[156]#011train-logloss:0.28011#011validation-logloss:0.32935\n",
      "[157]#011train-logloss:0.27985#011validation-logloss:0.32921\n",
      "[158]#011train-logloss:0.27956#011validation-logloss:0.32920\n",
      "[159]#011train-logloss:0.27925#011validation-logloss:0.32899\n",
      "[160]#011train-logloss:0.27888#011validation-logloss:0.32887\n",
      "[161]#011train-logloss:0.27868#011validation-logloss:0.32889\n",
      "[162]#011train-logloss:0.27851#011validation-logloss:0.32891\n",
      "[163]#011train-logloss:0.27835#011validation-logloss:0.32888\n",
      "[164]#011train-logloss:0.27818#011validation-logloss:0.32876\n",
      "[165]#011train-logloss:0.27780#011validation-logloss:0.32869\n",
      "[166]#011train-logloss:0.27763#011validation-logloss:0.32869\n",
      "[167]#011train-logloss:0.27728#011validation-logloss:0.32862\n",
      "[168]#011train-logloss:0.27706#011validation-logloss:0.32859\n",
      "[169]#011train-logloss:0.27681#011validation-logloss:0.32863\n",
      "[170]#011train-logloss:0.27651#011validation-logloss:0.32860\n",
      "[171]#011train-logloss:0.27625#011validation-logloss:0.32856\n",
      "[172]#011train-logloss:0.27595#011validation-logloss:0.32843\n",
      "[173]#011train-logloss:0.27574#011validation-logloss:0.32835\n",
      "[174]#011train-logloss:0.27553#011validation-logloss:0.32843\n",
      "[175]#011train-logloss:0.27523#011validation-logloss:0.32837\n",
      "[176]#011train-logloss:0.27520#011validation-logloss:0.32834\n",
      "[177]#011train-logloss:0.27499#011validation-logloss:0.32840\n",
      "[178]#011train-logloss:0.27478#011validation-logloss:0.32834\n",
      "[179]#011train-logloss:0.27461#011validation-logloss:0.32836\n",
      "[180]#011train-logloss:0.27419#011validation-logloss:0.32838\n",
      "[181]#011train-logloss:0.27389#011validation-logloss:0.32838\n",
      "[182]#011train-logloss:0.27375#011validation-logloss:0.32841\n",
      "[183]#011train-logloss:0.27360#011validation-logloss:0.32848\n",
      "[184]#011train-logloss:0.27345#011validation-logloss:0.32843\n",
      "[185]#011train-logloss:0.27331#011validation-logloss:0.32839\n",
      "[186]#011train-logloss:0.27289#011validation-logloss:0.32841\n",
      "[187]#011train-logloss:0.27270#011validation-logloss:0.32836\n",
      "\n",
      "2024-08-01 03:35:24 Uploading - Uploading generated training model\n",
      "2024-08-01 03:35:24 Completed - Training job completed\n",
      "Training seconds: 109\n",
      "Billable seconds: 23\n",
      "Managed Spot Training savings: 78.9%\n"
     ]
    }
   ],
   "source": [
    "training_input_config = sagemaker.session.TrainingInput(\n",
    "    s3_data=os.path.join(pca_path, 'train'),\n",
    "    content_type='application/x-recordio-protobuf',\n",
    ")\n",
    "\n",
    "validation_input_config = sagemaker.session.TrainingInput(\n",
    "    s3_data=os.path.join(pca_path, 'val'),\n",
    "    content_type='application/x-recordio-protobuf',\n",
    ")\n",
    "\n",
    "data_channels = {'train': training_input_config, 'validation': validation_input_config}\n",
    "\n",
    "xgb_estimator.fit(inputs=data_channels, logs=True)"
   ]
  },
  {
   "cell_type": "code",
   "execution_count": 154,
   "metadata": {},
   "outputs": [
    {
     "name": "stderr",
     "output_type": "stream",
     "text": [
      "INFO:sagemaker:Creating model with name: adult-income-classification-2024-08-01-05-04-42-748\n",
      "INFO:sagemaker:Creating endpoint-config with name adult-income-classification-xgb-2024-08-01-05-04-42-748\n",
      "INFO:sagemaker:Creating endpoint with name adult-income-classification-xgb-2024-08-01-05-04-42-748\n"
     ]
    },
    {
     "name": "stdout",
     "output_type": "stream",
     "text": [
      "-------!"
     ]
    }
   ],
   "source": [
    "from sagemaker.serializers import CSVSerializer\n",
    "from sagemaker.deserializers import CSVDeserializer\n",
    "import numpy as np\n",
    "\n",
    "class CustomCSVDeserializer(CSVDeserializer):\n",
    "    def deserialize(self, stream, content_type):\n",
    "        result = super().deserialize(stream, content_type)\n",
    "        return np.array([float(item[0]) for item in result])\n",
    "    \n",
    "    \n",
    "xgb_predictor = xgb_estimator.deploy(\n",
    "    initial_instance_count=1,\n",
    "    instance_type='ml.m5.xlarge',\n",
    "    endpoint_name = name_from_base(project_name + \"-xgb\"),\n",
    "    serialize = CSVSerializer(),\n",
    "    deserializer = CustomCSVDeserializer()\n",
    ")"
   ]
  },
  {
   "cell_type": "code",
   "execution_count": 160,
   "metadata": {},
   "outputs": [],
   "source": [
    "y_preds = xgb_predictor.predict(X_test_pca)\n",
    "y_preds = [1 if pred > 0.5 else 0 for pred in y_preds] # 확률값 0.5기준으로 바이너리화"
   ]
  },
  {
   "cell_type": "code",
   "execution_count": 165,
   "metadata": {},
   "outputs": [
    {
     "name": "stdout",
     "output_type": "stream",
     "text": [
      "분류 보고서:\n",
      "              precision    recall  f1-score   support\n",
      "\n",
      "           0       0.86      0.93      0.90      3699\n",
      "           1       0.73      0.54      0.62      1186\n",
      "\n",
      "    accuracy                           0.84      4885\n",
      "   macro avg       0.80      0.74      0.76      4885\n",
      "weighted avg       0.83      0.84      0.83      4885\n",
      "\n"
     ]
    }
   ],
   "source": [
    "from sklearn.metrics import classification_report\n",
    "\n",
    "# 분류 보고서 생성\n",
    "report = classification_report(y_test, y_preds)\n",
    "\n",
    "print(\"분류 보고서:\")\n",
    "print(report)\n"
   ]
  },
  {
   "cell_type": "code",
   "execution_count": 166,
   "metadata": {},
   "outputs": [
    {
     "name": "stderr",
     "output_type": "stream",
     "text": [
      "INFO:sagemaker:Deleting endpoint configuration with name: adult-income-classification-xgb-2024-08-01-05-04-42-748\n",
      "INFO:sagemaker:Deleting endpoint with name: adult-income-classification-xgb-2024-08-01-05-04-42-748\n"
     ]
    }
   ],
   "source": [
    "xgb_predictor.delete_endpoint()"
   ]
  }
 ],
 "metadata": {
  "kernelspec": {
   "display_name": "Python 3",
   "language": "python",
   "name": "python3"
  },
  "language_info": {
   "codemirror_mode": {
    "name": "ipython",
    "version": 3
   },
   "file_extension": ".py",
   "mimetype": "text/x-python",
   "name": "python",
   "nbconvert_exporter": "python",
   "pygments_lexer": "ipython3",
   "version": "3.12.7"
  }
 },
 "nbformat": 4,
 "nbformat_minor": 2
}
