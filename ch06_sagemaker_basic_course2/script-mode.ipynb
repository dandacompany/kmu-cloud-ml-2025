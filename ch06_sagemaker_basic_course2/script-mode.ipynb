{
 "cells": [
  {
   "cell_type": "markdown",
   "metadata": {},
   "source": [
    "## 스크립트 모드"
   ]
  },
  {
   "cell_type": "markdown",
   "metadata": {},
   "source": [
    "### 로컬모드 수행"
   ]
  },
  {
   "cell_type": "markdown",
   "metadata": {},
   "source": [
    "라이브러리"
   ]
  },
  {
   "cell_type": "code",
   "execution_count": 2,
   "metadata": {},
   "outputs": [
    {
     "data": {
      "text/html": [
       "        <script type=\"text/javascript\">\n",
       "        window.PlotlyConfig = {MathJaxConfig: 'local'};\n",
       "        if (window.MathJax && window.MathJax.Hub && window.MathJax.Hub.Config) {window.MathJax.Hub.Config({SVG: {font: \"STIX-Web\"}});}\n",
       "        if (typeof require !== 'undefined') {\n",
       "        require.undef(\"plotly\");\n",
       "        requirejs.config({\n",
       "            paths: {\n",
       "                'plotly': ['https://cdn.plot.ly/plotly-2.32.0.min']\n",
       "            }\n",
       "        });\n",
       "        require(['plotly'], function(Plotly) {\n",
       "            window._Plotly = Plotly;\n",
       "        });\n",
       "        }\n",
       "        </script>\n",
       "        "
      ]
     },
     "metadata": {},
     "output_type": "display_data"
    }
   ],
   "source": [
    "# 시각화 라이브러리\n",
    "import plotly.express as px\n",
    "import plotly.graph_objects as go\n",
    "from plotly.subplots import make_subplots\n",
    "import chart_studio.plotly as py\n",
    "import cufflinks as cf\n",
    "cf.go_offline(connected=True)"
   ]
  },
  {
   "cell_type": "code",
   "execution_count": 3,
   "metadata": {},
   "outputs": [
    {
     "data": {
      "text/plain": [
       "True"
      ]
     },
     "execution_count": 3,
     "metadata": {},
     "output_type": "execute_result"
    }
   ],
   "source": [
    "# 전처리 및 기타 라이브러리\n",
    "import warnings\n",
    "warnings.filterwarnings('ignore')\n",
    "import numpy as np\n",
    "import pandas as pd\n",
    "pd.set_option('display.max_columns', None)\n",
    "pd.set_option('display.max_rows', 500)\n",
    "pd.set_option('display.max_colwidth', None)\n",
    "pd.set_option('display.width', None)\n",
    "pd.set_option('display.max_colwidth', None)\n",
    "import awswrangler as wr\n",
    "import os\n",
    "import boto3\n",
    "from dotenv import load_dotenv\n",
    "load_dotenv('../.env')"
   ]
  },
  {
   "cell_type": "code",
   "execution_count": 4,
   "metadata": {},
   "outputs": [],
   "source": [
    "# 머신러닝 라이브러리\n",
    "from sklearn.preprocessing import StandardScaler\n",
    "from sklearn.decomposition import PCA\n",
    "from sklearn.model_selection import train_test_split\n",
    "from sklearn.preprocessing import LabelEncoder\n",
    "from sklearn.metrics import accuracy_score, f1_score, precision_score, recall_score\n",
    "import xgboost as xgb"
   ]
  },
  {
   "cell_type": "code",
   "execution_count": 5,
   "metadata": {},
   "outputs": [
    {
     "name": "stdout",
     "output_type": "stream",
     "text": [
      "sagemaker.config INFO - Not applying SDK defaults from location: /Library/Application Support/sagemaker/config.yaml\n",
      "sagemaker.config INFO - Not applying SDK defaults from location: /Users/dante/Library/Application Support/sagemaker/config.yaml\n"
     ]
    }
   ],
   "source": [
    "# SageMaker 라이브러리\n",
    "import sagemaker\n",
    "from sagemaker.sklearn.processing import SKLearnProcessor\n",
    "from sagemaker.processing import ProcessingInput, ProcessingOutput\n",
    "from sagemaker.inputs import TrainingInput\n",
    "from sagemaker.utils import name_from_base\n",
    "from sagemaker.xgboost import XGBoost\n",
    "from sagemaker.xgboost.model import XGBoostModel\n",
    "from sagemaker.serializers import CSVSerializer\n",
    "from sagemaker.deserializers import CSVDeserializer"
   ]
  },
  {
   "cell_type": "markdown",
   "metadata": {},
   "source": [
    "SageMaker 세션 및 역할 설정"
   ]
  },
  {
   "cell_type": "code",
   "execution_count": 6,
   "metadata": {},
   "outputs": [],
   "source": [
    "boto3_session = boto3.Session(profile_name='awstutor')\n",
    "sagemaker_session = sagemaker.Session(boto_session=boto3_session)\n",
    "role = os.environ.get('SAGEMAKER_EXECUTION_ROLE_ARN')"
   ]
  },
  {
   "cell_type": "markdown",
   "metadata": {},
   "source": [
    "데이터셋 다운로드"
   ]
  },
  {
   "cell_type": "markdown",
   "metadata": {},
   "source": [
    "> ucimlrepo 라이브러리가 더이상 서비스하지 않는 문제가 있으니, 아래 주석 내용을 제외하고, sklearn.datasets 라이브러리를 사용하여 데이터셋을 로드합니다.\n",
    "> \n",
    "> 라이브러리가 변경되어, 타겟변수가 정수형으로 변경되어 일부 스크립트가 변경되었으니 확인바랍니다."
   ]
  },
  {
   "cell_type": "code",
   "execution_count": 7,
   "metadata": {},
   "outputs": [
    {
     "name": "stdout",
     "output_type": "stream",
     "text": [
      "데이터셋 로드 완료\n",
      "특성 데이터 형태: (48842, 14)\n",
      "타겟 데이터 형태: (48842,)\n"
     ]
    }
   ],
   "source": [
    "from sklearn.datasets import fetch_openml\n",
    "import pandas as pd\n",
    "\n",
    "# Adult 데이터셋 가져오기\n",
    "adult = fetch_openml(name='adult', version=1, as_frame=True)\n",
    "\n",
    "# 특성과 타겟 분리\n",
    "X = adult.data\n",
    "y = adult.target\n",
    "y.name = 'income'\n",
    "\n",
    "# 타겟 변수를 이진 형태로 변환\n",
    "y = y.map({'<=50K': 0, '>50K': 1})\n",
    "\n",
    "print(\"데이터셋 로드 완료\")\n",
    "print(\"특성 데이터 형태:\", X.shape)\n",
    "print(\"타겟 데이터 형태:\", y.shape)"
   ]
  },
  {
   "cell_type": "markdown",
   "metadata": {},
   "source": [
    "로컬 모드 테스트"
   ]
  },
  {
   "cell_type": "code",
   "execution_count": 8,
   "metadata": {},
   "outputs": [
    {
     "name": "stdout",
     "output_type": "stream",
     "text": [
      "특성 표준화 중\n",
      "PCA 전처리 완료\n"
     ]
    }
   ],
   "source": [
    "# 테스트 데이터 분리\n",
    "X_tmp, X_test, y_tmp, y_test = train_test_split(X, y, test_size=0.2, random_state=42)\n",
    "\n",
    "# 결측치 처리\n",
    "X_tmp = X_tmp.replace('?', np.nan)\n",
    "\n",
    "# 범주형 변수와 수치형 변수 구분\n",
    "categorical_features = X_tmp.select_dtypes(include=['object', 'category']).columns.tolist()\n",
    "numeric_features = X_tmp.select_dtypes(include=['int64', 'float64']).columns.tolist()\n",
    "\n",
    "# 범주형 변수에 'Unknown' 카테고리 추가 및 결측치 처리\n",
    "for feature in categorical_features:\n",
    "    X_tmp[feature] = X_tmp[feature].astype('category')\n",
    "    X_tmp[feature] = X_tmp[feature].cat.add_categories('Unknown')\n",
    "    X_tmp[feature] = X_tmp[feature].fillna('Unknown')\n",
    "\n",
    "# 수치형 특성의 결측치는 중앙값으로 대체\n",
    "for feature in numeric_features:\n",
    "    X_tmp[feature] = X_tmp[feature].fillna(X_tmp[feature].median())\n",
    "\n",
    "# 훈련 / 검증 데이터 분리\n",
    "X_train, X_val, y_train, y_val = train_test_split(X_tmp, y_tmp, test_size=0.2, random_state=2024)\n",
    "\n",
    "# 범주형 컬럼 레이블 인코딩\n",
    "label_encoders = {}\n",
    "for feature in categorical_features:\n",
    "    le = LabelEncoder()\n",
    "    X_train[feature] = le.fit_transform(X_train[feature])\n",
    "    X_val[feature] = le.transform(X_val[feature])\n",
    "    label_encoders[feature] = le\n",
    "\n",
    "# 표준화\n",
    "print(\"특성 표준화 중\")\n",
    "scaler = StandardScaler()\n",
    "X_train_scaled = scaler.fit_transform(X_train)\n",
    "X_val_scaled = scaler.transform(X_val)\n",
    "\n",
    "# PCA 적용\n",
    "pca = PCA(n_components=0.9)\n",
    "X_train_pca = pca.fit_transform(X_train_scaled)\n",
    "X_val_pca = pca.transform(X_val_scaled)\n",
    "\n",
    "# PCA 결과를 DataFrame으로 변환\n",
    "train_data = pd.concat([pd.Series(y_train, name='income'), pd.DataFrame(X_train_pca, columns=[f'PC{i+1}' for i in range(X_train_pca.shape[1])], index=X_train.index)], axis=1)\n",
    "val_data = pd.concat([pd.Series(y_val, name='income'), pd.DataFrame(X_val_pca, columns=[f'PC{i+1}' for i in range(X_val_pca.shape[1])], index=X_val.index)], axis=1)\n",
    "test_data = pd.concat([y_test, X_test], axis=1)\n",
    "\n",
    "print(\"PCA 전처리 완료\")"
   ]
  },
  {
   "cell_type": "code",
   "execution_count": 9,
   "metadata": {},
   "outputs": [
    {
     "data": {
      "text/html": [
       "<div>\n",
       "<style scoped>\n",
       "    .dataframe tbody tr th:only-of-type {\n",
       "        vertical-align: middle;\n",
       "    }\n",
       "\n",
       "    .dataframe tbody tr th {\n",
       "        vertical-align: top;\n",
       "    }\n",
       "\n",
       "    .dataframe thead th {\n",
       "        text-align: right;\n",
       "    }\n",
       "</style>\n",
       "<table border=\"1\" class=\"dataframe\">\n",
       "  <thead>\n",
       "    <tr style=\"text-align: right;\">\n",
       "      <th></th>\n",
       "      <th>income</th>\n",
       "      <th>PC1</th>\n",
       "      <th>PC2</th>\n",
       "      <th>PC3</th>\n",
       "      <th>PC4</th>\n",
       "      <th>PC5</th>\n",
       "      <th>PC6</th>\n",
       "      <th>PC7</th>\n",
       "      <th>PC8</th>\n",
       "      <th>PC9</th>\n",
       "      <th>PC10</th>\n",
       "      <th>PC11</th>\n",
       "      <th>PC12</th>\n",
       "    </tr>\n",
       "  </thead>\n",
       "  <tbody>\n",
       "    <tr>\n",
       "      <th>19357</th>\n",
       "      <td>0</td>\n",
       "      <td>0.847677</td>\n",
       "      <td>0.740701</td>\n",
       "      <td>0.314253</td>\n",
       "      <td>-0.963488</td>\n",
       "      <td>-0.074096</td>\n",
       "      <td>-0.341373</td>\n",
       "      <td>0.935778</td>\n",
       "      <td>0.184683</td>\n",
       "      <td>0.108200</td>\n",
       "      <td>0.357192</td>\n",
       "      <td>-0.809655</td>\n",
       "      <td>1.010002</td>\n",
       "    </tr>\n",
       "    <tr>\n",
       "      <th>23471</th>\n",
       "      <td>1</td>\n",
       "      <td>-0.537448</td>\n",
       "      <td>0.173578</td>\n",
       "      <td>0.179786</td>\n",
       "      <td>-1.993763</td>\n",
       "      <td>-0.092885</td>\n",
       "      <td>-0.433510</td>\n",
       "      <td>0.578782</td>\n",
       "      <td>0.163811</td>\n",
       "      <td>0.354912</td>\n",
       "      <td>0.830392</td>\n",
       "      <td>-0.461574</td>\n",
       "      <td>0.941602</td>\n",
       "    </tr>\n",
       "    <tr>\n",
       "      <th>20840</th>\n",
       "      <td>0</td>\n",
       "      <td>-0.543073</td>\n",
       "      <td>-0.461562</td>\n",
       "      <td>-0.637295</td>\n",
       "      <td>-0.217027</td>\n",
       "      <td>0.751043</td>\n",
       "      <td>-0.308462</td>\n",
       "      <td>0.247126</td>\n",
       "      <td>-0.514735</td>\n",
       "      <td>-0.101227</td>\n",
       "      <td>-1.443150</td>\n",
       "      <td>0.159678</td>\n",
       "      <td>-0.567373</td>\n",
       "    </tr>\n",
       "    <tr>\n",
       "      <th>22208</th>\n",
       "      <td>1</td>\n",
       "      <td>2.419338</td>\n",
       "      <td>0.470762</td>\n",
       "      <td>-0.826800</td>\n",
       "      <td>-0.074531</td>\n",
       "      <td>-1.565616</td>\n",
       "      <td>0.097889</td>\n",
       "      <td>2.119097</td>\n",
       "      <td>-0.697977</td>\n",
       "      <td>1.627574</td>\n",
       "      <td>0.389173</td>\n",
       "      <td>1.864680</td>\n",
       "      <td>-0.277610</td>\n",
       "    </tr>\n",
       "    <tr>\n",
       "      <th>9849</th>\n",
       "      <td>0</td>\n",
       "      <td>1.556354</td>\n",
       "      <td>0.864994</td>\n",
       "      <td>0.135481</td>\n",
       "      <td>-1.021607</td>\n",
       "      <td>-0.530510</td>\n",
       "      <td>0.281886</td>\n",
       "      <td>-1.656057</td>\n",
       "      <td>-0.083072</td>\n",
       "      <td>1.124826</td>\n",
       "      <td>-0.772528</td>\n",
       "      <td>0.169173</td>\n",
       "      <td>-1.080851</td>\n",
       "    </tr>\n",
       "  </tbody>\n",
       "</table>\n",
       "</div>"
      ],
      "text/plain": [
       "      income       PC1       PC2       PC3       PC4       PC5       PC6  \\\n",
       "19357      0  0.847677  0.740701  0.314253 -0.963488 -0.074096 -0.341373   \n",
       "23471      1 -0.537448  0.173578  0.179786 -1.993763 -0.092885 -0.433510   \n",
       "20840      0 -0.543073 -0.461562 -0.637295 -0.217027  0.751043 -0.308462   \n",
       "22208      1  2.419338  0.470762 -0.826800 -0.074531 -1.565616  0.097889   \n",
       "9849       0  1.556354  0.864994  0.135481 -1.021607 -0.530510  0.281886   \n",
       "\n",
       "            PC7       PC8       PC9      PC10      PC11      PC12  \n",
       "19357  0.935778  0.184683  0.108200  0.357192 -0.809655  1.010002  \n",
       "23471  0.578782  0.163811  0.354912  0.830392 -0.461574  0.941602  \n",
       "20840  0.247126 -0.514735 -0.101227 -1.443150  0.159678 -0.567373  \n",
       "22208  2.119097 -0.697977  1.627574  0.389173  1.864680 -0.277610  \n",
       "9849  -1.656057 -0.083072  1.124826 -0.772528  0.169173 -1.080851  "
      ]
     },
     "execution_count": 9,
     "metadata": {},
     "output_type": "execute_result"
    }
   ],
   "source": [
    "train_data.head()"
   ]
  },
  {
   "cell_type": "code",
   "execution_count": 10,
   "metadata": {},
   "outputs": [],
   "source": [
    "# XGBoost 모델 데이터 입력형식으로 변환\n",
    "d_train =xgb.DMatrix(train_data.iloc[:, 1:], label=train_data.iloc[:, 0])\n",
    "d_val = xgb.DMatrix(val_data.iloc[:, 1:], label=val_data.iloc[:, 0])"
   ]
  },
  {
   "cell_type": "markdown",
   "metadata": {},
   "source": [
    "> ##### 주요 하이퍼파라미터\n",
    "\n",
    "| 분류 | 파라미터 | 설명 |\n",
    "|------|----------|------|\n",
    "| 학습 관련 | max_depth | 트리의 최대 깊이 |\n",
    "| | learning_rate | 학습률 (eta) |\n",
    "| | n_estimators | 생성할 트리의 개수 |\n",
    "| 정규화 관련 | reg_alpha | L1 정규화 파라미터 |\n",
    "| | reg_lambda | L2 정규화 파라미터 |\n",
    "| 샘플링 관련 | subsample | 각 트리마다 사용할 샘플의 비율 |\n",
    "| | colsample_bytree | 각 트리마다 사용할 특성의 비율 |\n",
    "| 조기 종료 관련 | early_stopping_rounds | 성능 개선이 없을 때 조기 종료할 라운드 수 |\n",
    "| 기타 | objective | 목적 함수 ('binary:logistic' 등) |\n",
    "| | eval_metric | 평가 지표 ('auc', 'error' 등) |\n",
    "| | random_state | 랜덤 시드 |\n"
   ]
  },
  {
   "cell_type": "code",
   "execution_count": 11,
   "metadata": {},
   "outputs": [
    {
     "name": "stdout",
     "output_type": "stream",
     "text": [
      "[0]\t훈련-auc:0.67304\t검증-auc:0.67756\n"
     ]
    },
    {
     "name": "stdout",
     "output_type": "stream",
     "text": [
      "[10]\t훈련-auc:0.85496\t검증-auc:0.85127\n",
      "[20]\t훈련-auc:0.87169\t검증-auc:0.86833\n",
      "[30]\t훈련-auc:0.87973\t검증-auc:0.87590\n",
      "[40]\t훈련-auc:0.88553\t검증-auc:0.88120\n",
      "[50]\t훈련-auc:0.88867\t검증-auc:0.88363\n",
      "[60]\t훈련-auc:0.89151\t검증-auc:0.88629\n",
      "[70]\t훈련-auc:0.89381\t검증-auc:0.88821\n",
      "[80]\t훈련-auc:0.89527\t검증-auc:0.88931\n",
      "[90]\t훈련-auc:0.89650\t검증-auc:0.88986\n",
      "[100]\t훈련-auc:0.89780\t검증-auc:0.89034\n",
      "[110]\t훈련-auc:0.89890\t검증-auc:0.89117\n",
      "[120]\t훈련-auc:0.90008\t검증-auc:0.89174\n",
      "[130]\t훈련-auc:0.90099\t검증-auc:0.89203\n",
      "[140]\t훈련-auc:0.90214\t검증-auc:0.89274\n",
      "[150]\t훈련-auc:0.90315\t검증-auc:0.89317\n",
      "[160]\t훈련-auc:0.90420\t검증-auc:0.89317\n",
      "[170]\t훈련-auc:0.90535\t검증-auc:0.89363\n",
      "[180]\t훈련-auc:0.90659\t검증-auc:0.89439\n",
      "[190]\t훈련-auc:0.90746\t검증-auc:0.89454\n",
      "[199]\t훈련-auc:0.90806\t검증-auc:0.89486\n",
      "모델 훈련이 완료되었습니다.\n"
     ]
    }
   ],
   "source": [
    "# XGBoost 모델 파라미터 설정\n",
    "params = {\n",
    "    'max_depth': 3,\n",
    "    'learning_rate': 0.1,\n",
    "    'n_estimators': 200,\n",
    "    'reg_alpha': 1,\n",
    "    'reg_lambda': 1,\n",
    "    'subsample': 0.5,\n",
    "    'colsample_bytree': 0.5,\n",
    "    'objective': 'binary:logistic',\n",
    "    'eval_metric': 'auc'\n",
    "}\n",
    "\n",
    "# 모델 훈련\n",
    "num_round = 200\n",
    "watchlist = [(d_train, '훈련'), (d_val, '검증')]\n",
    "xgb_model = xgb.train(params, d_train, num_round, watchlist, early_stopping_rounds=20, verbose_eval=10)\n",
    "\n",
    "# 모델 저장\n",
    "xgb_model.save_model('xgboost_model.json')\n",
    "\n",
    "print(\"모델 훈련이 완료되었습니다.\")\n"
   ]
  },
  {
   "cell_type": "code",
   "execution_count": 12,
   "metadata": {},
   "outputs": [
    {
     "name": "stdout",
     "output_type": "stream",
     "text": [
      "테스트 데이터 전처리 완료\n"
     ]
    }
   ],
   "source": [
    "# 테스트 데이터 분리\n",
    "X_tmp, X_test, y_tmp, y_test = train_test_split(X, y, test_size=0.2, random_state=42)\n",
    "\n",
    "# 결측치 처리\n",
    "X_test = X_test.replace('?', np.nan)\n",
    "\n",
    "# 범주형 변수와 수치형 변수 구분\n",
    "categorical_features = X_test.select_dtypes(include=['object', 'category']).columns.tolist()\n",
    "numeric_features = X_test.select_dtypes(include=['int64', 'float64']).columns.tolist()\n",
    "\n",
    "# 범주형 변수에 'Unknown' 카테고리 추가 및 결측치 처리\n",
    "for feature in categorical_features:\n",
    "    X_test[feature] = X_test[feature].astype('category')\n",
    "    X_test[feature] = X_test[feature].cat.add_categories('Unknown')\n",
    "    X_test[feature] = X_test[feature].fillna('Unknown')\n",
    "\n",
    "# 수치형 특성의 결측치는 중앙값으로 대체\n",
    "for feature in numeric_features:\n",
    "    X_test[feature] = X_test[feature].fillna(X_test[feature].median())\n",
    "\n",
    "# 범주형 컬럼 레이블 인코딩\n",
    "for feature in categorical_features:\n",
    "    le = label_encoders[feature]\n",
    "    # 새로운 카테고리 처리\n",
    "    new_categories = set(X_test[feature]) - set(le.classes_)\n",
    "    if new_categories:\n",
    "        le.classes_ = np.append(le.classes_, list(new_categories))\n",
    "    X_test[feature] = le.transform(X_test[feature])\n",
    "\n",
    "# 표준화\n",
    "X_test_scaled = scaler.transform(X_test)\n",
    "\n",
    "# PCA 적용\n",
    "X_test_pca = pca.transform(X_test_scaled)\n",
    "\n",
    "# PCA 결과를 DataFrame으로 변환\n",
    "test_data = pd.concat([pd.Series(y_test, name='income'), pd.DataFrame(X_test_pca, columns=[f'PC{i+1}' for i in range(X_test_pca.shape[1])], index=X_test.index)], axis=1)\n",
    "\n",
    "# XGBoost 입력 형식으로 변환\n",
    "d_test = xgb.DMatrix(test_data.iloc[:, 1:], label=test_data.iloc[:, 0])\n",
    "\n",
    "# 예측\n",
    "y_pred = xgb_model.predict(d_test)\n",
    "\n",
    "print(\"테스트 데이터 전처리 완료\")\n"
   ]
  },
  {
   "cell_type": "code",
   "execution_count": 13,
   "metadata": {},
   "outputs": [
    {
     "name": "stdout",
     "output_type": "stream",
     "text": [
      "테스트 셋 성능:\n",
      "정확도: 0.8447\n",
      "정밀도: 0.7450\n",
      "재현율: 0.5410\n",
      "F1 점수: 0.6268\n"
     ]
    }
   ],
   "source": [
    "# 이진 분류를 위한 임계값 설정 (예: 0.5)\n",
    "y_pred_binary = (y_pred > 0.5).astype(int)\n",
    "\n",
    "# 실제 레이블 가져오기 (d_test에서 레이블 추출)\n",
    "y_test = d_test.get_label()\n",
    "\n",
    "# 성능 평가\n",
    "accuracy = accuracy_score(y_test, y_pred_binary)\n",
    "precision = precision_score(y_test, y_pred_binary)\n",
    "recall = recall_score(y_test, y_pred_binary)\n",
    "f1 = f1_score(y_test, y_pred_binary)\n",
    "\n",
    "print(\"테스트 셋 성능:\")\n",
    "print(f\"정확도: {accuracy:.4f}\")\n",
    "print(f\"정밀도: {precision:.4f}\")\n",
    "print(f\"재현율: {recall:.4f}\")\n",
    "print(f\"F1 점수: {f1:.4f}\")"
   ]
  },
  {
   "cell_type": "markdown",
   "metadata": {},
   "source": [
    "### 스크립트 작성"
   ]
  },
  {
   "cell_type": "markdown",
   "metadata": {},
   "source": [
    "전처리 프로세싱 스크립트 (pca_preprocessing.py)"
   ]
  },
  {
   "cell_type": "code",
   "execution_count": 14,
   "metadata": {},
   "outputs": [],
   "source": [
    "os.makedirs('script', exist_ok=True)"
   ]
  },
  {
   "cell_type": "code",
   "execution_count": 15,
   "metadata": {},
   "outputs": [
    {
     "name": "stdout",
     "output_type": "stream",
     "text": [
      "Overwriting script/pca_preprocessing.py\n"
     ]
    }
   ],
   "source": [
    "%%writefile script/pca_preprocessing.py\n",
    "import argparse\n",
    "import os\n",
    "import pandas as pd\n",
    "import numpy as np\n",
    "from sklearn.preprocessing import StandardScaler\n",
    "from sklearn.decomposition import PCA\n",
    "from sklearn.model_selection import train_test_split\n",
    "from sklearn.preprocessing import LabelEncoder\n",
    "import pickle\n",
    "from glob import glob\n",
    "\n",
    "# 입력 인수 파싱\n",
    "parser = argparse.ArgumentParser()\n",
    "parser.add_argument('--n_components', type=int, default=4)\n",
    "parser.add_argument('--train-test-split-ratio', type=float, default=0.3)\n",
    "args, _ = parser.parse_known_args()\n",
    "\n",
    "# SageMaker 데이터 경로\n",
    "input_data_path = '/opt/ml/processing/input'\n",
    "train_data_path = '/opt/ml/processing/train'\n",
    "validation_data_path = '/opt/ml/processing/validation'\n",
    "test_data_path = '/opt/ml/processing/test'\n",
    "asset_path = '/opt/ml/processing/asset'\n",
    "\n",
    "# 데이터 로드\n",
    "print(\"데이터 로드 중\")\n",
    "\n",
    "input_files = glob(os.path.join(input_data_path, '*.csv'))\n",
    "df = pd.concat([pd.read_csv(file, low_memory=False) for file in input_files])\n",
    "\n",
    "# 특성과 타겟 분리\n",
    "print(\"특성과 타겟 준비 중\")\n",
    "X = df.drop('income', axis=1)\n",
    "y = df['income']\n",
    "\n",
    "# 테스트 데이터 분리\n",
    "X_tmp, X_test, y_tmp, y_test = train_test_split(X, y, test_size=0.2, random_state=42)\n",
    "\n",
    "# 타겟 변수가 이미 숫자형인지 확인\n",
    "if y.dtype == 'object':\n",
    "    # 문자열인 경우에만 매핑 적용\n",
    "    y = y.map({\n",
    "        '<=50K': 0,\n",
    "        '<=50K.': 0,\n",
    "        '>50K': 1,\n",
    "        '>50K.': 1\n",
    "    })\n",
    "else:\n",
    "    # 이미 숫자형인 경우 그대로 사용\n",
    "    print(\"타겟 변수가 이미 숫자형입니다.\")\n",
    "\n",
    "# 결측치 처리\n",
    "X_tmp = X_tmp.replace('?', np.nan)\n",
    "\n",
    "# 범주형 변수와 수치형 변수 구분\n",
    "categorical_features = X_tmp.select_dtypes(include=['object', 'category']).columns.tolist()\n",
    "numeric_features = X_tmp.select_dtypes(include=['int64', 'float64']).columns.tolist()\n",
    "\n",
    "# 범주형 변수에 'Unknown' 카테고리 추가 및 결측치 처리\n",
    "for feature in categorical_features:\n",
    "    X_tmp[feature] = X_tmp[feature].astype('category')\n",
    "    X_tmp[feature] = X_tmp[feature].cat.add_categories('Unknown')\n",
    "    X_tmp[feature] = X_tmp[feature].fillna('Unknown')\n",
    "\n",
    "# 수치형 특성의 결측치는 중앙값으로 대체\n",
    "for feature in numeric_features:\n",
    "    X_tmp[feature] = X_tmp[feature].fillna(X_tmp[feature].median())\n",
    "\n",
    "# 훈련 / 검증 데이터 분리\n",
    "X_train, X_val, y_train, y_val = train_test_split(X_tmp, y_tmp, test_size=0.2, random_state=2024)\n",
    "\n",
    "# 범주형 컬럼 레이블 인코딩\n",
    "label_encoders = {}\n",
    "for feature in categorical_features:\n",
    "    le = LabelEncoder()\n",
    "    X_train[feature] = le.fit_transform(X_train[feature])\n",
    "    X_val[feature] = le.transform(X_val[feature])\n",
    "    label_encoders[feature] = le\n",
    "\n",
    "# 표준화\n",
    "print(\"특성 표준화 중\")\n",
    "scaler = StandardScaler()\n",
    "X_train_scaled = scaler.fit_transform(X_train)\n",
    "X_val_scaled = scaler.transform(X_val)\n",
    "\n",
    "# PCA 적용\n",
    "pca = PCA(n_components=args.n_components)\n",
    "X_train_pca = pca.fit_transform(X_train_scaled)\n",
    "X_val_pca = pca.transform(X_val_scaled)\n",
    "\n",
    "# PCA 결과를 DataFrame으로 변환\n",
    "train_data = pd.concat([pd.Series(y_train, name='income'), pd.DataFrame(X_train_pca, columns=[f'PC{i+1}' for i in range(X_train_pca.shape[1])], index=X_train.index)], axis=1)\n",
    "val_data = pd.concat([pd.Series(y_val, name='income'), pd.DataFrame(X_val_pca, columns=[f'PC{i+1}' for i in range(X_val_pca.shape[1])], index=X_val.index)], axis=1)\n",
    "test_data = pd.concat([y_test, X_test], axis=1)\n",
    "\n",
    "# 전처리 데이터 저장\n",
    "print(\"결과 저장 중\")\n",
    "train_file_path = os.path.join(train_data_path, \"train.csv\")\n",
    "train_data.to_csv(train_file_path, index=False)\n",
    "val_file_path = os.path.join(validation_data_path, \"validation.csv\")\n",
    "val_data.to_csv(val_file_path, index=False)\n",
    "test_file_path = os.path.join(test_data_path, \"test.csv\")\n",
    "test_data.to_csv(test_file_path, index=False)\n",
    "\n",
    "# 에셋 저장\n",
    "with open(f'{asset_path}/adult_encoders.pkl', 'wb') as f:\n",
    "    pickle.dump(label_encoders, f)\n",
    "with open(f'{asset_path}/adult_scaler.pkl', 'wb') as f:\n",
    "    pickle.dump(scaler, f)\n",
    "with open(f'{asset_path}/adult_pca.pkl', 'wb') as f:\n",
    "    pickle.dump(pca, f)\n",
    "    \n",
    "print(\"PCA 전처리 완료\")"
   ]
  },
  {
   "cell_type": "markdown",
   "metadata": {},
   "source": [
    "모델 훈련 스크립트 (train.py)"
   ]
  },
  {
   "cell_type": "code",
   "execution_count": 16,
   "metadata": {},
   "outputs": [
    {
     "name": "stdout",
     "output_type": "stream",
     "text": [
      "Overwriting script/train.py\n"
     ]
    }
   ],
   "source": [
    "%%writefile script/train.py\n",
    "import argparse\n",
    "import os\n",
    "import pandas as pd\n",
    "import numpy as np\n",
    "from sklearn.metrics import accuracy_score, precision_score, recall_score, f1_score\n",
    "import xgboost as xgb\n",
    "import pickle as pkl\n",
    "from glob import glob\n",
    "\n",
    "def main(args):  \n",
    "    # 훈련 / 검증 데이터 로드\n",
    "    train_files = glob(os.path.join(args.train, \"*.csv\"))\n",
    "    print(f\"훈련 데이터 파일 목록: {train_files}\")\n",
    "    train_data = pd.concat([pd.read_csv(file) for file in train_files], ignore_index=True)\n",
    "    val_files = glob(os.path.join(args.validation, \"*.csv\"))\n",
    "    print(f\"검증 데이터 파일 목록: {val_files}\")\n",
    "    val_data = pd.concat([pd.read_csv(file) for file in val_files], ignore_index=True)\n",
    "\n",
    "    # XGBoost 입력 데이터 형식 변환\n",
    "    X_train = train_data.iloc[:, 1:]\n",
    "    y_train = train_data.iloc[:, 0].astype(int)  # 타겟 변수를 정수형으로 변환\n",
    "    X_val = val_data.iloc[:, 1:]\n",
    "    y_val = val_data.iloc[:, 0].astype(int)  # 타겟 변수를 정수형으로 변환\n",
    "    \n",
    "    d_train = xgb.DMatrix(X_train, label=y_train)\n",
    "    d_val = xgb.DMatrix(X_val, label=y_val)\n",
    "\n",
    "    # XGBoost 모델 생성 및 훈련\n",
    "    watchlist = [(d_train, '훈련'), (d_val, '검증')]\n",
    "    params = {\n",
    "        'max_depth': args.max_depth,\n",
    "        'learning_rate': args.learning_rate,\n",
    "        'reg_alpha': args.reg_alpha,\n",
    "        'reg_lambda': args.reg_lambda,\n",
    "        'subsample': args.subsample,\n",
    "        'colsample_bytree': args.colsample_bytree,\n",
    "        'objective': args.objective,\n",
    "        'eval_metric': args.eval_metric,\n",
    "    }\n",
    "    xgb_model = xgb.train(params, d_train, args.num_round, watchlist, early_stopping_rounds=args.early_stopping_rounds, verbose_eval=10)\n",
    "       \n",
    "    # 검증 데이터로 성능 평가\n",
    "    y_pred = xgb_model.predict(d_val)\n",
    "    y_pred_binary = (y_pred > 0.5).astype(int)\n",
    "\n",
    "    accuracy = accuracy_score(y_val, y_pred_binary)\n",
    "    precision = precision_score(y_val, y_pred_binary)\n",
    "    recall = recall_score(y_val, y_pred_binary)\n",
    "    f1 = f1_score(y_val, y_pred_binary)\n",
    "\n",
    "    print(f'검증 정확도: {accuracy:.4f}')\n",
    "    print(f'검증 정밀도: {precision:.4f}')\n",
    "    print(f'검증 재현율: {recall:.4f}')\n",
    "    print(f'검증 F1 점수: {f1:.4f}')\n",
    "\n",
    "    # 모델 저장\n",
    "    model_path = os.path.join(args.model_dir, 'xgboost-model')\n",
    "    pkl.dump(xgb_model, open(model_path, 'wb'))\n",
    "    print(f'모델이 {model_path}에 저장되었습니다.')\n",
    "\n",
    "if __name__ == '__main__':\n",
    "    \n",
    "    parser = argparse.ArgumentParser()\n",
    "    # SageMaker 특정 인자 설정 (기본값은 환경 변수에서 가져옴)\n",
    "    parser.add_argument('--output_data_dir', type=str, default=os.environ.get('SM_OUTPUT_DATA_DIR'))\n",
    "    parser.add_argument('--train', type=str, default=os.environ.get('SM_CHANNEL_TRAIN'))\n",
    "    parser.add_argument('--validation', type=str, default=os.environ.get('SM_CHANNEL_VALIDATION'))\n",
    "    parser.add_argument('--model-dir', type=str, default=os.environ.get('SM_MODEL_DIR'))\n",
    "    # 하이퍼파라미터 설정\n",
    "    parser.add_argument('--max-depth', type=int, default=3)\n",
    "    parser.add_argument('--learning-rate', type=float, default=0.1)\n",
    "    parser.add_argument('--reg-alpha', type=float, default=0)\n",
    "    parser.add_argument('--reg-lambda', type=float, default=1)\n",
    "    parser.add_argument('--subsample', type=float, default=1)\n",
    "    parser.add_argument('--colsample-bytree', type=float, default=1)\n",
    "    parser.add_argument('--num-round', type=int, default=200)\n",
    "    parser.add_argument('--early-stopping-rounds', type=int, default=10)\n",
    "    parser.add_argument('--objective', type=str, default='binary:logistic')\n",
    "    parser.add_argument('--eval-metric', type=str, default='auc')\n",
    "    args, _ = parser.parse_known_args()\n",
    "    \n",
    "    main(args)"
   ]
  },
  {
   "cell_type": "markdown",
   "metadata": {},
   "source": [
    "모델 추론 스크립트 (inference.py)"
   ]
  },
  {
   "cell_type": "code",
   "execution_count": 17,
   "metadata": {},
   "outputs": [
    {
     "name": "stdout",
     "output_type": "stream",
     "text": [
      "Overwriting script/inference.py\n"
     ]
    }
   ],
   "source": [
    "%%writefile script/inference.py\n",
    "import os\n",
    "import json\n",
    "import pickle as pkl\n",
    "import numpy as np\n",
    "import xgboost as xgb\n",
    "import pandas as pd\n",
    "import io\n",
    "import boto3\n",
    "\n",
    "def model_fn(model_dir):\n",
    "    \"\"\"XGBoost 모델과 필요한 자산을 `model_dir`에서 로드합니다.\"\"\"\n",
    "    # 모델 객체 로드\n",
    "    model_file = 'xgboost-model'\n",
    "    xgb_model = pkl.load(open(os.path.join(model_dir, model_file), 'rb'))\n",
    "    \n",
    "    # S3에서 asset 파일을 로컬로 복사\n",
    "    s3 = boto3.client('s3')\n",
    "    bucket_name = 'dante-sagemaker' # 본인의 버킷명으로 반드시 수정하세요!\n",
    "    project_name = 'adult-income-classification-v2'\n",
    "    \n",
    "    # 자산 파일 로드\n",
    "    scaler_key = f'{project_name}/asset/adult_scaler.pkl'\n",
    "    encoder_key = f'{project_name}/asset/adult_encoders.pkl'\n",
    "    pca_key = f'{project_name}/asset/adult_pca.pkl'\n",
    "    \n",
    "    local_scaler_path = os.path.join(model_dir, 'adult_scaler.pkl')\n",
    "    local_encoder_path = os.path.join(model_dir, 'adult_encoders.pkl')\n",
    "    local_pca_path = os.path.join(model_dir, 'adult_pca.pkl')\n",
    "    \n",
    "    scaler_obj = s3.get_object(Bucket=bucket_name, Key=scaler_key)\n",
    "    encoder_obj = s3.get_object(Bucket=bucket_name, Key=encoder_key)\n",
    "    pca_obj = s3.get_object(Bucket=bucket_name, Key=pca_key)\n",
    "    \n",
    "    scaler = pkl.loads(scaler_obj['Body'].read())\n",
    "    encoders = pkl.loads(encoder_obj['Body'].read())\n",
    "    pca = pkl.loads(pca_obj['Body'].read())\n",
    "    \n",
    "    return xgb_model, (scaler, encoders, pca)\n",
    "\n",
    "def input_fn(request_body, request_content_type):\n",
    "    \"\"\"입력 데이터 페이로드를 파싱합니다.\"\"\"\n",
    "    if request_content_type != \"text/csv\":\n",
    "        raise ValueError(f\"지원되지 않는 컨텐츠 타입입니다: {request_content_type}\")\n",
    "    df = pd.read_csv(io.StringIO(request_body), header=None)\n",
    "    return df.values\n",
    "\n",
    "def output_fn(prediction, accept):\n",
    "    \"\"\"예측 출력을 포맷팅합니다.\"\"\"\n",
    "    if accept != \"text/csv\":\n",
    "        raise ValueError(f\"지원되지 않는 accept 타입입니다: {accept}\")\n",
    "    return ','.join(map(str, prediction))\n",
    "\n",
    "def predict_fn(input_data, model):\n",
    "    \"\"\"로드된 모델로 예측을 수행합니다.\"\"\"\n",
    "    xgb_model, (scaler, encoders, pca) = model\n",
    "    prep_input_data = preprocess_input_data(input_data, (scaler, encoders, pca))\n",
    "    dmatrix = xgb.DMatrix(prep_input_data)\n",
    "    return xgb_model.predict(dmatrix)\n",
    "\n",
    "\n",
    "def preprocess_input_data(input_data, assets):\n",
    "    \"\"\"입력 데이터를 전처리합니다.\"\"\"\n",
    "    scaler, encoders, pca = assets\n",
    "    \n",
    "    total_cols = ['age', 'workclass', 'fnlwgt', 'education', 'education-num',\n",
    "       'marital-status', 'occupation', 'relationship', 'race', 'sex',\n",
    "       'capital-gain', 'capital-loss', 'hours-per-week', 'native-country']\n",
    "    numeric_cols = ['age', 'fnlwgt', 'education-num', 'capital-gain', 'capital-loss',\n",
    "       'hours-per-week']\n",
    "\n",
    "    \n",
    "    X = pd.DataFrame(input_data, columns=total_cols)\n",
    "\n",
    "    # 전처리\n",
    "    X[X == '?'] = np.nan\n",
    "    X['workclass'].fillna(X['workclass'].mode()[0], inplace=True)\n",
    "    X['occupation'].fillna(X['occupation'].mode()[0], inplace=True)\n",
    "    X['native-country'].fillna(X['native-country'].mode()[0], inplace=True)\n",
    "    X[numeric_cols] = X[numeric_cols].astype('float64')\n",
    "    \n",
    "    # 범주형 컬럼 레이블 인코딩\n",
    "    for feature in encoders.keys() :\n",
    "        le = encoders[feature]\n",
    "        X[feature] = X[feature].astype(str)\n",
    "        # 인코더 업데이트\n",
    "        unique_values = np.unique(X[feature])\n",
    "        le.classes_ = np.unique(np.concatenate([le.classes_, unique_values]))\n",
    "        # 변환 처리\n",
    "        X[feature] = le.transform(X[feature])\n",
    "\n",
    "    # 스케일링\n",
    "    X_scaled = scaler.transform(X)\n",
    "\n",
    "    # PCA 차원축소\n",
    "    X_pca = pca.transform(X_scaled)\n",
    "    \n",
    "    return pd.DataFrame(X_pca, columns=[f'PC{i}' for i in range(1, pca.n_components_ + 1)])\n",
    "   "
   ]
  },
  {
   "cell_type": "markdown",
   "metadata": {},
   "source": [
    "### SageMaker 컨테이너 실행 코드"
   ]
  },
  {
   "cell_type": "markdown",
   "metadata": {},
   "source": [
    "S3 경로 설정"
   ]
  },
  {
   "cell_type": "code",
   "execution_count": 18,
   "metadata": {},
   "outputs": [
    {
     "name": "stdout",
     "output_type": "stream",
     "text": [
      "train_path: s3://dante-sagemaker/adult-income-classification-v2/input/train/\n",
      "val_path: s3://dante-sagemaker/adult-income-classification-v2/input/val/\n",
      "test_path: s3://dante-sagemaker/adult-income-classification-v2/input/test/\n",
      "model_path: s3://dante-sagemaker/adult-income-classification-v2/model\n",
      "asset_path: s3://dante-sagemaker/adult-income-classification-v2/asset\n",
      "checkpoint_path: s3://dante-sagemaker/adult-income-classification-v2/checkpoints\n",
      "pca_path: s3://dante-sagemaker/adult-income-classification-v2/pca\n"
     ]
    }
   ],
   "source": [
    "bucket_name = 'dante-sagemaker' # 본인의 버킷명으로 반드시 수정하세요!\n",
    "project_name = 'adult-income-classification-v2'\n",
    "\n",
    "\n",
    "origin_file_path = f's3://{bucket_name}/{project_name}/origin'\n",
    "input_path = f's3://{bucket_name}/{project_name}/input'\n",
    "output_path = f's3://{bucket_name}/{project_name}/output'\n",
    "model_path = f's3://{bucket_name}/{project_name}/model'\n",
    "asset_path = f's3://{bucket_name}/{project_name}/asset'\n",
    "checkpoint_path = f's3://{bucket_name}/{project_name}/checkpoints'\n",
    "pca_path = f's3://{bucket_name}/{project_name}/pca'\n",
    "\n",
    "train_path = f'{input_path}/train/'\n",
    "val_path = f'{input_path}/val/'\n",
    "test_path = f'{input_path}/test/'\n",
    "\n",
    "print('train_path:', train_path)\n",
    "print('val_path:', val_path)\n",
    "print('test_path:', test_path)\n",
    "print('model_path:', model_path)\n",
    "print('asset_path:', asset_path)\n",
    "print('checkpoint_path:', checkpoint_path)\n",
    "print('pca_path:', pca_path)"
   ]
  },
  {
   "cell_type": "code",
   "execution_count": 19,
   "metadata": {},
   "outputs": [],
   "source": [
    "wr.s3.delete_objects(input_path, boto3_session=boto3_session)\n",
    "wr.s3.delete_objects(output_path, boto3_session=boto3_session)\n",
    "wr.s3.delete_objects(model_path, boto3_session=boto3_session)\n",
    "wr.s3.delete_objects(asset_path, boto3_session=boto3_session)\n",
    "wr.s3.delete_objects(checkpoint_path, boto3_session=boto3_session)\n",
    "wr.s3.delete_objects(pca_path, boto3_session=boto3_session)"
   ]
  },
  {
   "cell_type": "markdown",
   "metadata": {},
   "source": [
    "원본 데이터 S3 업로드"
   ]
  },
  {
   "cell_type": "code",
   "execution_count": 20,
   "metadata": {},
   "outputs": [
    {
     "data": {
      "text/plain": [
       "{'paths': ['s3://dante-sagemaker/adult-income-classification-v2/origin/adult.csv'],\n",
       " 'partitions_values': {}}"
      ]
     },
     "execution_count": 20,
     "metadata": {},
     "output_type": "execute_result"
    }
   ],
   "source": [
    "wr.s3.to_csv(pd.concat([y, X], axis=1), f'{origin_file_path}/adult.csv', index=False, boto3_session=boto3_session)"
   ]
  },
  {
   "cell_type": "markdown",
   "metadata": {},
   "source": [
    "전처리 프로세싱"
   ]
  },
  {
   "cell_type": "code",
   "execution_count": 21,
   "metadata": {},
   "outputs": [],
   "source": [
    "# PCA 처리 단계 정의\n",
    "sklearn_processor = SKLearnProcessor(\n",
    "    framework_version='0.23-1',\n",
    "    role=role,\n",
    "    sagemaker_session=sagemaker_session,\n",
    "    instance_type='ml.m5.xlarge',\n",
    "    instance_count=1,\n",
    ")"
   ]
  },
  {
   "cell_type": "code",
   "execution_count": 22,
   "metadata": {},
   "outputs": [
    {
     "name": "stderr",
     "output_type": "stream",
     "text": [
      "INFO:sagemaker:Creating processing-job with name sagemaker-scikit-learn-2024-10-21-11-08-42-813\n"
     ]
    },
    {
     "name": "stdout",
     "output_type": "stream",
     "text": [
      "..........데이터 로드 중\n",
      "특성과 타겟 준비 중\n",
      "타겟 변수가 이미 숫자형입니다.\n",
      "/opt/ml/processing/input/code/pca_preprocessing.py:76: SettingWithCopyWarning: \n",
      "A value is trying to be set on a copy of a slice from a DataFrame.\n",
      "Try using .loc[row_indexer,col_indexer] = value instead\n",
      "See the caveats in the documentation: https://pandas.pydata.org/pandas-docs/stable/user_guide/indexing.html#returning-a-view-versus-a-copy\n",
      "  X_train[feature] = le.fit_transform(X_train[feature])\n",
      "/opt/ml/processing/input/code/pca_preprocessing.py:77: SettingWithCopyWarning: \n",
      "A value is trying to be set on a copy of a slice from a DataFrame.\n",
      "Try using .loc[row_indexer,col_indexer] = value instead\n",
      "See the caveats in the documentation: https://pandas.pydata.org/pandas-docs/stable/user_guide/indexing.html#returning-a-view-versus-a-copy\n",
      "  X_val[feature] = le.transform(X_val[feature])\n",
      "특성 표준화 중\n",
      "결과 저장 중\n",
      "PCA 전처리 완료\n",
      "\n"
     ]
    }
   ],
   "source": [
    "sklearn_processor.run(\n",
    "    code=\"script/pca_preprocessing.py\",\n",
    "    inputs=[ProcessingInput(input_name=\"origin\", source=origin_file_path, destination=\"/opt/ml/processing/input\")],\n",
    "    outputs=[\n",
    "        ProcessingOutput(output_name=\"train\", source=\"/opt/ml/processing/train/\", destination=train_path),\n",
    "        ProcessingOutput(output_name=\"validation\", source=\"/opt/ml/processing/validation/\", destination=val_path),\n",
    "        ProcessingOutput(output_name=\"test\", source=\"/opt/ml/processing/test/\", destination=test_path),\n",
    "        ProcessingOutput(output_name=\"asset\", source=\"/opt/ml/processing/asset/\", destination=asset_path),\n",
    "    ],\n",
    "    arguments=[\n",
    "        \"--n_components\", \"12\", \n",
    "        \"--train-test-split-ratio\", \"0.3\",\n",
    "    ],\n",
    ")"
   ]
  },
  {
   "cell_type": "markdown",
   "metadata": {},
   "source": [
    "모델 훈련"
   ]
  },
  {
   "cell_type": "code",
   "execution_count": 23,
   "metadata": {},
   "outputs": [],
   "source": [
    "use_spot_instances=True\n",
    "max_run=60*60 # 스팟 인스턴스 최대 실행 시간\n",
    "max_wait=60*60 # 스팟 인스턴스 최대 대기 시간"
   ]
  },
  {
   "cell_type": "code",
   "execution_count": 24,
   "metadata": {},
   "outputs": [],
   "source": [
    "# 하이퍼 파라미터 설정\n",
    "hyperparams = {\n",
    "    \"max_depth\": \"5\",\n",
    "    \"eta\": \"0.2\",\n",
    "    \"gamma\": \"4\",\n",
    "    \"min_child_weight\": \"6\",\n",
    "    \"subsample\": \"0.7\",\n",
    "    \"objective\": \"binary:logistic\",\n",
    "    \"num_round\": \"200\",\n",
    "    \"early_stopping_rounds\": \"10\",\n",
    "    \"eval_metric\": \"logloss\",\n",
    "}\n"
   ]
  },
  {
   "cell_type": "code",
   "execution_count": 25,
   "metadata": {},
   "outputs": [
    {
     "name": "stderr",
     "output_type": "stream",
     "text": [
      "INFO:botocore.credentials:Found credentials in shared credentials file: ~/.aws/credentials\n",
      "INFO:sagemaker.image_uris:Ignoring unnecessary Python version: py3.\n",
      "INFO:sagemaker.image_uris:Ignoring unnecessary instance type: ml.m5.xlarge.\n"
     ]
    }
   ],
   "source": [
    "# 컨테이너 설정\n",
    "xgb_estimator = XGBoost(\n",
    "    role=role,\n",
    "    entry_point=\"script/train.py\",\n",
    "    framework_version=\"1.7-1\",\n",
    "    output_path=output_path,\n",
    "    sagemaker_session=sagemaker_session,\n",
    "    instance_count=1,\n",
    "    instance_type='ml.m5.xlarge',\n",
    "    base_job_name=project_name + \"-train\",\n",
    "    max_run=max_run,\n",
    "    max_wait=max_wait,\n",
    "    use_spot_instances=use_spot_instances,\n",
    "    hyperparameters=hyperparams,\n",
    ")"
   ]
  },
  {
   "cell_type": "code",
   "execution_count": 26,
   "metadata": {},
   "outputs": [
    {
     "name": "stderr",
     "output_type": "stream",
     "text": [
      "INFO:sagemaker:Creating training-job with name: adult-income-classification-v2-train-2024-10-21-11-15-28-047\n"
     ]
    },
    {
     "name": "stdout",
     "output_type": "stream",
     "text": [
      "2024-10-21 11:15:29 Starting - Starting the training job...\n",
      "2024-10-21 11:15:44 Starting - Preparing the instances for training...\n",
      "2024-10-21 11:16:26 Downloading - Downloading the training image......\n",
      "2024-10-21 11:17:32 Training - Training image download completed. Training in progress.\n",
      "2024-10-21 11:17:32 Uploading - Uploading generated training model[2024-10-21 11:17:22.534 ip-10-0-112-90.ap-northeast-2.compute.internal:7 INFO utils.py:28] RULE_JOB_STOP_SIGNAL_FILENAME: None\n",
      "[2024-10-21 11:17:22.556 ip-10-0-112-90.ap-northeast-2.compute.internal:7 INFO profiler_config_parser.py:111] User has disabled profiler.\n",
      "[2024-10-21:11:17:22:INFO] Imported framework sagemaker_xgboost_container.training\n",
      "[2024-10-21:11:17:22:INFO] No GPUs detected (normal if no gpus installed)\n",
      "[2024-10-21:11:17:22:INFO] Invoking user training script.\n",
      "[2024-10-21:11:17:23:INFO] Module train does not provide a setup.py. \n",
      "Generating setup.py\n",
      "[2024-10-21:11:17:23:INFO] Generating setup.cfg\n",
      "[2024-10-21:11:17:23:INFO] Generating MANIFEST.in\n",
      "[2024-10-21:11:17:23:INFO] Installing module with the following command:\n",
      "/miniconda3/bin/python3 -m pip install . \n",
      "Processing /opt/ml/code\n",
      "  Preparing metadata (setup.py): started\n",
      "  Preparing metadata (setup.py): finished with status 'done'\n",
      "Building wheels for collected packages: train\n",
      "  Building wheel for train (setup.py): started\n",
      "  Building wheel for train (setup.py): finished with status 'done'\n",
      "  Created wheel for train: filename=train-1.0.0-py2.py3-none-any.whl size=5321 sha256=b054ad6e5e05b10427a5b207818a10ab4caee7cb07fb4df512134a6e80b0b577\n",
      "  Stored in directory: /home/model-server/tmp/pip-ephem-wheel-cache-axklbhiz/wheels/f3/75/57/158162e9eab7af12b5c338c279b3a81f103b89d74eeb911c00\n",
      "Successfully built train\n",
      "Installing collected packages: train\n",
      "Successfully installed train-1.0.0\n",
      "WARNING: Running pip as the 'root' user can result in broken permissions and conflicting behaviour with the system package manager, possibly rendering your system unusable.It is recommended to use a virtual environment instead: https://pip.pypa.io/warnings/venv. Use the --root-user-action option if you know what you are doing and want to suppress this warning.\n",
      "[2024-10-21:11:17:24:INFO] No GPUs detected (normal if no gpus installed)\n",
      "[2024-10-21:11:17:24:INFO] Invoking user script\n",
      "Training Env:\n",
      "{\n",
      "    \"additional_framework_parameters\": {},\n",
      "    \"channel_input_dirs\": {\n",
      "        \"asset\": \"/opt/ml/input/data/asset\",\n",
      "        \"train\": \"/opt/ml/input/data/train\",\n",
      "        \"validation\": \"/opt/ml/input/data/validation\"\n",
      "    },\n",
      "    \"current_host\": \"algo-1\",\n",
      "    \"framework_module\": \"sagemaker_xgboost_container.training:main\",\n",
      "    \"hosts\": [\n",
      "        \"algo-1\"\n",
      "    ],\n",
      "    \"hyperparameters\": {\n",
      "        \"early_stopping_rounds\": \"10\",\n",
      "        \"eta\": \"0.2\",\n",
      "        \"eval_metric\": \"logloss\",\n",
      "        \"gamma\": \"4\",\n",
      "        \"max_depth\": \"5\",\n",
      "        \"min_child_weight\": \"6\",\n",
      "        \"num_round\": \"200\",\n",
      "        \"objective\": \"binary:logistic\",\n",
      "        \"subsample\": \"0.7\"\n",
      "    },\n",
      "    \"input_config_dir\": \"/opt/ml/input/config\",\n",
      "    \"input_data_config\": {\n",
      "        \"asset\": {\n",
      "            \"ContentType\": \"text/csv\",\n",
      "            \"TrainingInputMode\": \"File\",\n",
      "            \"S3DistributionType\": \"FullyReplicated\",\n",
      "            \"RecordWrapperType\": \"None\"\n",
      "        },\n",
      "        \"train\": {\n",
      "            \"ContentType\": \"text/csv\",\n",
      "            \"TrainingInputMode\": \"File\",\n",
      "            \"S3DistributionType\": \"FullyReplicated\",\n",
      "            \"RecordWrapperType\": \"None\"\n",
      "        },\n",
      "        \"validation\": {\n",
      "            \"ContentType\": \"text/csv\",\n",
      "            \"TrainingInputMode\": \"File\",\n",
      "            \"S3DistributionType\": \"FullyReplicated\",\n",
      "            \"RecordWrapperType\": \"None\"\n",
      "        }\n",
      "    },\n",
      "    \"input_dir\": \"/opt/ml/input\",\n",
      "    \"is_master\": true,\n",
      "    \"job_name\": \"adult-income-classification-v2-train-2024-10-21-11-15-28-047\",\n",
      "    \"log_level\": 20,\n",
      "    \"master_hostname\": \"algo-1\",\n",
      "    \"model_dir\": \"/opt/ml/model\",\n",
      "    \"module_dir\": \"s3://dante-sagemaker/adult-income-classification-v2-train-2024-10-21-11-15-28-047/source/sourcedir.tar.gz\",\n",
      "    \"module_name\": \"train\",\n",
      "    \"network_interface_name\": \"eth0\",\n",
      "    \"num_cpus\": 4,\n",
      "    \"num_gpus\": 0,\n",
      "    \"output_data_dir\": \"/opt/ml/output/data\",\n",
      "    \"output_dir\": \"/opt/ml/output\",\n",
      "    \"output_intermediate_dir\": \"/opt/ml/output/intermediate\",\n",
      "    \"resource_config\": {\n",
      "        \"current_host\": \"algo-1\",\n",
      "        \"current_instance_type\": \"ml.m5.xlarge\",\n",
      "        \"current_group_name\": \"homogeneousCluster\",\n",
      "        \"hosts\": [\n",
      "            \"algo-1\"\n",
      "        ],\n",
      "        \"instance_groups\": [\n",
      "            {\n",
      "                \"instance_group_name\": \"homogeneousCluster\",\n",
      "                \"instance_type\": \"ml.m5.xlarge\",\n",
      "                \"hosts\": [\n",
      "                    \"algo-1\"\n",
      "                ]\n",
      "            }\n",
      "        ],\n",
      "        \"network_interface_name\": \"eth0\"\n",
      "    },\n",
      "    \"user_entry_point\": \"train.py\"\n",
      "}\n",
      "Environment variables:\n",
      "SM_HOSTS=[\"algo-1\"]\n",
      "SM_NETWORK_INTERFACE_NAME=eth0\n",
      "SM_HPS={\"early_stopping_rounds\":\"10\",\"eta\":\"0.2\",\"eval_metric\":\"logloss\",\"gamma\":\"4\",\"max_depth\":\"5\",\"min_child_weight\":\"6\",\"num_round\":\"200\",\"objective\":\"binary:logistic\",\"subsample\":\"0.7\"}\n",
      "SM_USER_ENTRY_POINT=train.py\n",
      "SM_FRAMEWORK_PARAMS={}\n",
      "SM_RESOURCE_CONFIG={\"current_group_name\":\"homogeneousCluster\",\"current_host\":\"algo-1\",\"current_instance_type\":\"ml.m5.xlarge\",\"hosts\":[\"algo-1\"],\"instance_groups\":[{\"hosts\":[\"algo-1\"],\"instance_group_name\":\"homogeneousCluster\",\"instance_type\":\"ml.m5.xlarge\"}],\"network_interface_name\":\"eth0\"}\n",
      "SM_INPUT_DATA_CONFIG={\"asset\":{\"ContentType\":\"text/csv\",\"RecordWrapperType\":\"None\",\"S3DistributionType\":\"FullyReplicated\",\"TrainingInputMode\":\"File\"},\"train\":{\"ContentType\":\"text/csv\",\"RecordWrapperType\":\"None\",\"S3DistributionType\":\"FullyReplicated\",\"TrainingInputMode\":\"File\"},\"validation\":{\"ContentType\":\"text/csv\",\"RecordWrapperType\":\"None\",\"S3DistributionType\":\"FullyReplicated\",\"TrainingInputMode\":\"File\"}}\n",
      "SM_OUTPUT_DATA_DIR=/opt/ml/output/data\n",
      "SM_CHANNELS=[\"asset\",\"train\",\"validation\"]\n",
      "SM_CURRENT_HOST=algo-1\n",
      "SM_MODULE_NAME=train\n",
      "SM_LOG_LEVEL=20\n",
      "SM_FRAMEWORK_MODULE=sagemaker_xgboost_container.training:main\n",
      "SM_INPUT_DIR=/opt/ml/input\n",
      "SM_INPUT_CONFIG_DIR=/opt/ml/input/config\n",
      "SM_OUTPUT_DIR=/opt/ml/output\n",
      "SM_NUM_CPUS=4\n",
      "SM_NUM_GPUS=0\n",
      "SM_MODEL_DIR=/opt/ml/model\n",
      "SM_MODULE_DIR=s3://dante-sagemaker/adult-income-classification-v2-train-2024-10-21-11-15-28-047/source/sourcedir.tar.gz\n",
      "SM_TRAINING_ENV={\"additional_framework_parameters\":{},\"channel_input_dirs\":{\"asset\":\"/opt/ml/input/data/asset\",\"train\":\"/opt/ml/input/data/train\",\"validation\":\"/opt/ml/input/data/validation\"},\"current_host\":\"algo-1\",\"framework_module\":\"sagemaker_xgboost_container.training:main\",\"hosts\":[\"algo-1\"],\"hyperparameters\":{\"early_stopping_rounds\":\"10\",\"eta\":\"0.2\",\"eval_metric\":\"logloss\",\"gamma\":\"4\",\"max_depth\":\"5\",\"min_child_weight\":\"6\",\"num_round\":\"200\",\"objective\":\"binary:logistic\",\"subsample\":\"0.7\"},\"input_config_dir\":\"/opt/ml/input/config\",\"input_data_config\":{\"asset\":{\"ContentType\":\"text/csv\",\"RecordWrapperType\":\"None\",\"S3DistributionType\":\"FullyReplicated\",\"TrainingInputMode\":\"File\"},\"train\":{\"ContentType\":\"text/csv\",\"RecordWrapperType\":\"None\",\"S3DistributionType\":\"FullyReplicated\",\"TrainingInputMode\":\"File\"},\"validation\":{\"ContentType\":\"text/csv\",\"RecordWrapperType\":\"None\",\"S3DistributionType\":\"FullyReplicated\",\"TrainingInputMode\":\"File\"}},\"input_dir\":\"/opt/ml/input\",\"is_master\":true,\"job_name\":\"adult-income-classification-v2-train-2024-10-21-11-15-28-047\",\"log_level\":20,\"master_hostname\":\"algo-1\",\"model_dir\":\"/opt/ml/model\",\"module_dir\":\"s3://dante-sagemaker/adult-income-classification-v2-train-2024-10-21-11-15-28-047/source/sourcedir.tar.gz\",\"module_name\":\"train\",\"network_interface_name\":\"eth0\",\"num_cpus\":4,\"num_gpus\":0,\"output_data_dir\":\"/opt/ml/output/data\",\"output_dir\":\"/opt/ml/output\",\"output_intermediate_dir\":\"/opt/ml/output/intermediate\",\"resource_config\":{\"current_group_name\":\"homogeneousCluster\",\"current_host\":\"algo-1\",\"current_instance_type\":\"ml.m5.xlarge\",\"hosts\":[\"algo-1\"],\"instance_groups\":[{\"hosts\":[\"algo-1\"],\"instance_group_name\":\"homogeneousCluster\",\"instance_type\":\"ml.m5.xlarge\"}],\"network_interface_name\":\"eth0\"},\"user_entry_point\":\"train.py\"}\n",
      "SM_USER_ARGS=[\"--early_stopping_rounds\",\"10\",\"--eta\",\"0.2\",\"--eval_metric\",\"logloss\",\"--gamma\",\"4\",\"--max_depth\",\"5\",\"--min_child_weight\",\"6\",\"--num_round\",\"200\",\"--objective\",\"binary:logistic\",\"--subsample\",\"0.7\"]\n",
      "SM_OUTPUT_INTERMEDIATE_DIR=/opt/ml/output/intermediate\n",
      "SM_CHANNEL_ASSET=/opt/ml/input/data/asset\n",
      "SM_CHANNEL_TRAIN=/opt/ml/input/data/train\n",
      "SM_CHANNEL_VALIDATION=/opt/ml/input/data/validation\n",
      "SM_HP_EARLY_STOPPING_ROUNDS=10\n",
      "SM_HP_ETA=0.2\n",
      "SM_HP_EVAL_METRIC=logloss\n",
      "SM_HP_GAMMA=4\n",
      "SM_HP_MAX_DEPTH=5\n",
      "SM_HP_MIN_CHILD_WEIGHT=6\n",
      "SM_HP_NUM_ROUND=200\n",
      "SM_HP_OBJECTIVE=binary:logistic\n",
      "SM_HP_SUBSAMPLE=0.7\n",
      "PYTHONPATH=/miniconda3/bin:/:/miniconda3/lib/python/site-packages/xgboost/dmlc-core/tracker:/miniconda3/lib/python38.zip:/miniconda3/lib/python3.8:/miniconda3/lib/python3.8/lib-dynload:/miniconda3/lib/python3.8/site-packages:/miniconda3/lib/python3.8/site-packages/setuptools/_vendor\n",
      "Invoking script with the following command:\n",
      "/miniconda3/bin/python3 -m train --early_stopping_rounds 10 --eta 0.2 --eval_metric logloss --gamma 4 --max_depth 5 --min_child_weight 6 --num_round 200 --objective binary:logistic --subsample 0.7\n",
      "훈련 데이터 파일 목록: ['/opt/ml/input/data/train/train.csv']\n",
      "검증 데이터 파일 목록: ['/opt/ml/input/data/validation/validation.csv']\n",
      "/miniconda3/lib/python3.8/site-packages/xgboost/core.py:617: FutureWarning: Pass `evals` as keyword args.\n",
      "  warnings.warn(msg, FutureWarning)\n",
      "[0]#011훈련-auc:0.81981#011검증-auc:0.82070\n",
      "[10]#011훈련-auc:0.86215#011검증-auc:0.86137\n",
      "[20]#011훈련-auc:0.87554#011검증-auc:0.87232\n",
      "[30]#011훈련-auc:0.88106#011검증-auc:0.87719\n",
      "[40]#011훈련-auc:0.88668#011검증-auc:0.88129\n",
      "[50]#011훈련-auc:0.89027#011검증-auc:0.88381\n",
      "[60]#011훈련-auc:0.89325#011검증-auc:0.88603\n",
      "[70]#011훈련-auc:0.89560#011검증-auc:0.88744\n",
      "[80]#011훈련-auc:0.89757#011검증-auc:0.88847\n",
      "[90]#011훈련-auc:0.89910#011검증-auc:0.88941\n",
      "[100]#011훈련-auc:0.90092#011검증-auc:0.89045\n",
      "[110]#011훈련-auc:0.90221#011검증-auc:0.89101\n",
      "[120]#011훈련-auc:0.90340#011검증-auc:0.89148\n",
      "[130]#011훈련-auc:0.90448#011검증-auc:0.89207\n",
      "[140]#011훈련-auc:0.90555#011검증-auc:0.89250\n",
      "[150]#011훈련-auc:0.90681#011검증-auc:0.89319\n",
      "[160]#011훈련-auc:0.90791#011검증-auc:0.89379\n",
      "[170]#011훈련-auc:0.90874#011검증-auc:0.89403\n",
      "[180]#011훈련-auc:0.90979#011검증-auc:0.89434\n",
      "[190]#011훈련-auc:0.91066#011검증-auc:0.89465\n",
      "[199]#011훈련-auc:0.91143#011검증-auc:0.89502\n",
      "검증 정확도: 0.8459\n",
      "검증 정밀도: 0.7402\n",
      "검증 재현율: 0.5659\n",
      "검증 F1 점수: 0.6415\n",
      "모델이 /opt/ml/model/xgboost-model에 저장되었습니다.\n",
      "\n",
      "2024-10-21 11:17:45 Completed - Training job completed\n",
      "Training seconds: 100\n",
      "Billable seconds: 27\n",
      "Managed Spot Training savings: 73.0%\n",
      "XGBoost 모델 훈련이 완료되었습니다.\n"
     ]
    }
   ],
   "source": [
    "# XGBoost 모델 훈련 실행\n",
    "xgb_estimator.fit(\n",
    "    inputs={\n",
    "        \"train\": TrainingInput(s3_data=train_path, content_type='text/csv'),\n",
    "        \"validation\": TrainingInput(s3_data=val_path, content_type='text/csv'),\n",
    "        \"asset\": TrainingInput(s3_data=asset_path, content_type='text/csv'),\n",
    "    },\n",
    "    wait=True,\n",
    "    logs=True,\n",
    "    job_name=name_from_base(project_name + \"-train\"),\n",
    ")\n",
    "\n",
    "print(\"XGBoost 모델 훈련이 완료되었습니다.\")"
   ]
  },
  {
   "cell_type": "code",
   "execution_count": 27,
   "metadata": {},
   "outputs": [
    {
     "name": "stdout",
     "output_type": "stream",
     "text": [
      "훈련된 모델 이름: s3://dante-sagemaker/adult-income-classification-v2/output/adult-income-classification-v2-train-2024-10-21-11-15-28-047/output/model.tar.gz\n",
      "훈련 작업 이름: adult-income-classification-v2-train-2024-10-21-11-15-28-047\n"
     ]
    }
   ],
   "source": [
    "# 훈련된 모델 정보 출력\n",
    "print(f\"훈련된 모델 이름: {xgb_estimator.model_data}\")\n",
    "print(f\"훈련 작업 이름: {xgb_estimator.latest_training_job.job_name}\")"
   ]
  },
  {
   "cell_type": "markdown",
   "metadata": {},
   "source": [
    "\b모델 추론"
   ]
  },
  {
   "cell_type": "code",
   "execution_count": 28,
   "metadata": {},
   "outputs": [],
   "source": [
    "# XGBoost 모델 객체 생성\n",
    "xgb_inf_estimator = XGBoostModel(\n",
    "    model_data=xgb_estimator.model_data,\n",
    "    role=role,\n",
    "    entry_point=\"script/inference.py\",\n",
    "    framework_version=\"1.7-1\",\n",
    "    sagemaker_session=sagemaker_session,\n",
    ")"
   ]
  },
  {
   "cell_type": "code",
   "execution_count": 29,
   "metadata": {},
   "outputs": [],
   "source": [
    "# 역직렬화 클래스 정의\n",
    "class CustomDeserializer(CSVDeserializer):\n",
    "    def deserialize(self, stream, content_type):\n",
    "        result = super().deserialize(stream, content_type)\n",
    "        if isinstance(result, list) and len(result) == 1:\n",
    "            result = result[0]\n",
    "        result = [float(x) for x in result]\n",
    "        result = [int(x > 0.5) for x in result]\n",
    "        return result"
   ]
  },
  {
   "cell_type": "code",
   "execution_count": 30,
   "metadata": {},
   "outputs": [
    {
     "name": "stderr",
     "output_type": "stream",
     "text": [
      "INFO:sagemaker.image_uris:Ignoring unnecessary instance type: ml.m5.xlarge.\n"
     ]
    },
    {
     "name": "stderr",
     "output_type": "stream",
     "text": [
      "INFO:sagemaker:Creating model with name: sagemaker-xgboost-2024-10-21-11-20-05-040\n",
      "INFO:sagemaker:Creating endpoint-config with name sagemaker-xgboost-2024-10-21-11-20-05-606\n",
      "INFO:sagemaker:Creating endpoint with name sagemaker-xgboost-2024-10-21-11-20-05-606\n"
     ]
    },
    {
     "name": "stdout",
     "output_type": "stream",
     "text": [
      "-----!"
     ]
    }
   ],
   "source": [
    "# 모델 배포\n",
    "predictor = xgb_inf_estimator.deploy(\n",
    "    initial_instance_count=1,\n",
    "    instance_type='ml.m5.xlarge',\n",
    "    serializer=CSVSerializer(),\n",
    "    deserializer=CustomDeserializer(),\n",
    ")\n",
    "# 추론 모델 컨텐츠 타입 설정\n",
    "predictor.content_type = 'text/csv'\n",
    "predictor.accept = 'text/csv'"
   ]
  },
  {
   "cell_type": "code",
   "execution_count": 31,
   "metadata": {},
   "outputs": [],
   "source": [
    "test_data = wr.s3.read_csv(os.path.join(test_path, 'test.csv'), boto3_session=boto3_session)\n",
    "X_test, y_test = test_data.iloc[:, 1:], test_data.iloc[:, 0]"
   ]
  },
  {
   "cell_type": "code",
   "execution_count": 32,
   "metadata": {},
   "outputs": [
    {
     "data": {
      "text/html": [
       "<div>\n",
       "<style scoped>\n",
       "    .dataframe tbody tr th:only-of-type {\n",
       "        vertical-align: middle;\n",
       "    }\n",
       "\n",
       "    .dataframe tbody tr th {\n",
       "        vertical-align: top;\n",
       "    }\n",
       "\n",
       "    .dataframe thead th {\n",
       "        text-align: right;\n",
       "    }\n",
       "</style>\n",
       "<table border=\"1\" class=\"dataframe\">\n",
       "  <thead>\n",
       "    <tr style=\"text-align: right;\">\n",
       "      <th></th>\n",
       "      <th>age</th>\n",
       "      <th>workclass</th>\n",
       "      <th>fnlwgt</th>\n",
       "      <th>education</th>\n",
       "      <th>education-num</th>\n",
       "      <th>marital-status</th>\n",
       "      <th>occupation</th>\n",
       "      <th>relationship</th>\n",
       "      <th>race</th>\n",
       "      <th>sex</th>\n",
       "      <th>capitalgain</th>\n",
       "      <th>capitalloss</th>\n",
       "      <th>hoursperweek</th>\n",
       "      <th>native-country</th>\n",
       "    </tr>\n",
       "  </thead>\n",
       "  <tbody>\n",
       "    <tr>\n",
       "      <th>0</th>\n",
       "      <td>0</td>\n",
       "      <td>Private</td>\n",
       "      <td>423024</td>\n",
       "      <td>HS-grad</td>\n",
       "      <td>9</td>\n",
       "      <td>Never-married</td>\n",
       "      <td>Other-service</td>\n",
       "      <td>Not-in-family</td>\n",
       "      <td>White</td>\n",
       "      <td>Male</td>\n",
       "      <td>0</td>\n",
       "      <td>0</td>\n",
       "      <td>0</td>\n",
       "      <td>United-States</td>\n",
       "    </tr>\n",
       "    <tr>\n",
       "      <th>1</th>\n",
       "      <td>0</td>\n",
       "      <td>Private</td>\n",
       "      <td>178953</td>\n",
       "      <td>12th</td>\n",
       "      <td>8</td>\n",
       "      <td>Never-married</td>\n",
       "      <td>Sales</td>\n",
       "      <td>Own-child</td>\n",
       "      <td>White</td>\n",
       "      <td>Female</td>\n",
       "      <td>0</td>\n",
       "      <td>0</td>\n",
       "      <td>0</td>\n",
       "      <td>United-States</td>\n",
       "    </tr>\n",
       "    <tr>\n",
       "      <th>2</th>\n",
       "      <td>0</td>\n",
       "      <td>Local-gov</td>\n",
       "      <td>348986</td>\n",
       "      <td>HS-grad</td>\n",
       "      <td>9</td>\n",
       "      <td>Never-married</td>\n",
       "      <td>Handlers-cleaners</td>\n",
       "      <td>Other-relative</td>\n",
       "      <td>Black</td>\n",
       "      <td>Male</td>\n",
       "      <td>0</td>\n",
       "      <td>0</td>\n",
       "      <td>2</td>\n",
       "      <td>United-States</td>\n",
       "    </tr>\n",
       "    <tr>\n",
       "      <th>3</th>\n",
       "      <td>0</td>\n",
       "      <td>Private</td>\n",
       "      <td>218215</td>\n",
       "      <td>Some-college</td>\n",
       "      <td>10</td>\n",
       "      <td>Never-married</td>\n",
       "      <td>Sales</td>\n",
       "      <td>Own-child</td>\n",
       "      <td>White</td>\n",
       "      <td>Female</td>\n",
       "      <td>0</td>\n",
       "      <td>0</td>\n",
       "      <td>1</td>\n",
       "      <td>United-States</td>\n",
       "    </tr>\n",
       "    <tr>\n",
       "      <th>4</th>\n",
       "      <td>3</td>\n",
       "      <td>Private</td>\n",
       "      <td>244025</td>\n",
       "      <td>HS-grad</td>\n",
       "      <td>9</td>\n",
       "      <td>Never-married</td>\n",
       "      <td>Machine-op-inspct</td>\n",
       "      <td>Unmarried</td>\n",
       "      <td>Amer-Indian-Eskimo</td>\n",
       "      <td>Male</td>\n",
       "      <td>0</td>\n",
       "      <td>0</td>\n",
       "      <td>3</td>\n",
       "      <td>Puerto-Rico</td>\n",
       "    </tr>\n",
       "  </tbody>\n",
       "</table>\n",
       "</div>"
      ],
      "text/plain": [
       "   age  workclass  fnlwgt     education  education-num marital-status  \\\n",
       "0    0    Private  423024       HS-grad              9  Never-married   \n",
       "1    0    Private  178953          12th              8  Never-married   \n",
       "2    0  Local-gov  348986       HS-grad              9  Never-married   \n",
       "3    0    Private  218215  Some-college             10  Never-married   \n",
       "4    3    Private  244025       HS-grad              9  Never-married   \n",
       "\n",
       "          occupation    relationship                race     sex  capitalgain  \\\n",
       "0      Other-service   Not-in-family               White    Male            0   \n",
       "1              Sales       Own-child               White  Female            0   \n",
       "2  Handlers-cleaners  Other-relative               Black    Male            0   \n",
       "3              Sales       Own-child               White  Female            0   \n",
       "4  Machine-op-inspct       Unmarried  Amer-Indian-Eskimo    Male            0   \n",
       "\n",
       "   capitalloss  hoursperweek native-country  \n",
       "0            0             0  United-States  \n",
       "1            0             0  United-States  \n",
       "2            0             2  United-States  \n",
       "3            0             1  United-States  \n",
       "4            0             3    Puerto-Rico  "
      ]
     },
     "execution_count": 32,
     "metadata": {},
     "output_type": "execute_result"
    }
   ],
   "source": [
    "X_test.head()"
   ]
  },
  {
   "cell_type": "code",
   "execution_count": 33,
   "metadata": {},
   "outputs": [
    {
     "data": {
      "text/plain": [
       "0       0\n",
       "1       0\n",
       "2       0\n",
       "3       0\n",
       "4       0\n",
       "       ..\n",
       "9764    0\n",
       "9765    0\n",
       "9766    0\n",
       "9767    0\n",
       "9768    1\n",
       "Name: income, Length: 9769, dtype: int64"
      ]
     },
     "execution_count": 33,
     "metadata": {},
     "output_type": "execute_result"
    }
   ],
   "source": [
    "y_test"
   ]
  },
  {
   "cell_type": "code",
   "execution_count": 34,
   "metadata": {},
   "outputs": [],
   "source": [
    "y_preds = predictor.predict(X_test)"
   ]
  },
  {
   "cell_type": "markdown",
   "metadata": {},
   "source": [
    "예측 평가"
   ]
  },
  {
   "cell_type": "code",
   "execution_count": 35,
   "metadata": {},
   "outputs": [
    {
     "name": "stdout",
     "output_type": "stream",
     "text": [
      "정확도: 0.8434\n",
      "정밀도: 0.7361\n",
      "재현율: 0.5461\n",
      "F1 점수: 0.6270\n"
     ]
    },
    {
     "data": {
      "application/vnd.plotly.v1+json": {
       "config": {
        "plotlyServerURL": "https://plot.ly"
       },
       "data": [
        {
         "colorscale": [
          [
           0,
           "rgb(247,251,255)"
          ],
          [
           0.125,
           "rgb(222,235,247)"
          ],
          [
           0.25,
           "rgb(198,219,239)"
          ],
          [
           0.375,
           "rgb(158,202,225)"
          ],
          [
           0.5,
           "rgb(107,174,214)"
          ],
          [
           0.625,
           "rgb(66,146,198)"
          ],
          [
           0.75,
           "rgb(33,113,181)"
          ],
          [
           0.875,
           "rgb(8,81,156)"
          ],
          [
           1,
           "rgb(8,48,107)"
          ]
         ],
         "hoverongaps": false,
         "text": [
          [
           6953,
           461
          ],
          [
           1069,
           1286
          ]
         ],
         "texttemplate": "%{text}",
         "type": "heatmap",
         "x": [
          "예측 0",
          "예측 1"
         ],
         "y": [
          "실제 0",
          "실제 1"
         ],
         "z": [
          [
           6953,
           461
          ],
          [
           1069,
           1286
          ]
         ]
        }
       ],
       "layout": {
        "template": {
         "data": {
          "bar": [
           {
            "error_x": {
             "color": "#2a3f5f"
            },
            "error_y": {
             "color": "#2a3f5f"
            },
            "marker": {
             "line": {
              "color": "#E5ECF6",
              "width": 0.5
             },
             "pattern": {
              "fillmode": "overlay",
              "size": 10,
              "solidity": 0.2
             }
            },
            "type": "bar"
           }
          ],
          "barpolar": [
           {
            "marker": {
             "line": {
              "color": "#E5ECF6",
              "width": 0.5
             },
             "pattern": {
              "fillmode": "overlay",
              "size": 10,
              "solidity": 0.2
             }
            },
            "type": "barpolar"
           }
          ],
          "carpet": [
           {
            "aaxis": {
             "endlinecolor": "#2a3f5f",
             "gridcolor": "white",
             "linecolor": "white",
             "minorgridcolor": "white",
             "startlinecolor": "#2a3f5f"
            },
            "baxis": {
             "endlinecolor": "#2a3f5f",
             "gridcolor": "white",
             "linecolor": "white",
             "minorgridcolor": "white",
             "startlinecolor": "#2a3f5f"
            },
            "type": "carpet"
           }
          ],
          "choropleth": [
           {
            "colorbar": {
             "outlinewidth": 0,
             "ticks": ""
            },
            "type": "choropleth"
           }
          ],
          "contour": [
           {
            "colorbar": {
             "outlinewidth": 0,
             "ticks": ""
            },
            "colorscale": [
             [
              0,
              "#0d0887"
             ],
             [
              0.1111111111111111,
              "#46039f"
             ],
             [
              0.2222222222222222,
              "#7201a8"
             ],
             [
              0.3333333333333333,
              "#9c179e"
             ],
             [
              0.4444444444444444,
              "#bd3786"
             ],
             [
              0.5555555555555556,
              "#d8576b"
             ],
             [
              0.6666666666666666,
              "#ed7953"
             ],
             [
              0.7777777777777778,
              "#fb9f3a"
             ],
             [
              0.8888888888888888,
              "#fdca26"
             ],
             [
              1,
              "#f0f921"
             ]
            ],
            "type": "contour"
           }
          ],
          "contourcarpet": [
           {
            "colorbar": {
             "outlinewidth": 0,
             "ticks": ""
            },
            "type": "contourcarpet"
           }
          ],
          "heatmap": [
           {
            "colorbar": {
             "outlinewidth": 0,
             "ticks": ""
            },
            "colorscale": [
             [
              0,
              "#0d0887"
             ],
             [
              0.1111111111111111,
              "#46039f"
             ],
             [
              0.2222222222222222,
              "#7201a8"
             ],
             [
              0.3333333333333333,
              "#9c179e"
             ],
             [
              0.4444444444444444,
              "#bd3786"
             ],
             [
              0.5555555555555556,
              "#d8576b"
             ],
             [
              0.6666666666666666,
              "#ed7953"
             ],
             [
              0.7777777777777778,
              "#fb9f3a"
             ],
             [
              0.8888888888888888,
              "#fdca26"
             ],
             [
              1,
              "#f0f921"
             ]
            ],
            "type": "heatmap"
           }
          ],
          "heatmapgl": [
           {
            "colorbar": {
             "outlinewidth": 0,
             "ticks": ""
            },
            "colorscale": [
             [
              0,
              "#0d0887"
             ],
             [
              0.1111111111111111,
              "#46039f"
             ],
             [
              0.2222222222222222,
              "#7201a8"
             ],
             [
              0.3333333333333333,
              "#9c179e"
             ],
             [
              0.4444444444444444,
              "#bd3786"
             ],
             [
              0.5555555555555556,
              "#d8576b"
             ],
             [
              0.6666666666666666,
              "#ed7953"
             ],
             [
              0.7777777777777778,
              "#fb9f3a"
             ],
             [
              0.8888888888888888,
              "#fdca26"
             ],
             [
              1,
              "#f0f921"
             ]
            ],
            "type": "heatmapgl"
           }
          ],
          "histogram": [
           {
            "marker": {
             "pattern": {
              "fillmode": "overlay",
              "size": 10,
              "solidity": 0.2
             }
            },
            "type": "histogram"
           }
          ],
          "histogram2d": [
           {
            "colorbar": {
             "outlinewidth": 0,
             "ticks": ""
            },
            "colorscale": [
             [
              0,
              "#0d0887"
             ],
             [
              0.1111111111111111,
              "#46039f"
             ],
             [
              0.2222222222222222,
              "#7201a8"
             ],
             [
              0.3333333333333333,
              "#9c179e"
             ],
             [
              0.4444444444444444,
              "#bd3786"
             ],
             [
              0.5555555555555556,
              "#d8576b"
             ],
             [
              0.6666666666666666,
              "#ed7953"
             ],
             [
              0.7777777777777778,
              "#fb9f3a"
             ],
             [
              0.8888888888888888,
              "#fdca26"
             ],
             [
              1,
              "#f0f921"
             ]
            ],
            "type": "histogram2d"
           }
          ],
          "histogram2dcontour": [
           {
            "colorbar": {
             "outlinewidth": 0,
             "ticks": ""
            },
            "colorscale": [
             [
              0,
              "#0d0887"
             ],
             [
              0.1111111111111111,
              "#46039f"
             ],
             [
              0.2222222222222222,
              "#7201a8"
             ],
             [
              0.3333333333333333,
              "#9c179e"
             ],
             [
              0.4444444444444444,
              "#bd3786"
             ],
             [
              0.5555555555555556,
              "#d8576b"
             ],
             [
              0.6666666666666666,
              "#ed7953"
             ],
             [
              0.7777777777777778,
              "#fb9f3a"
             ],
             [
              0.8888888888888888,
              "#fdca26"
             ],
             [
              1,
              "#f0f921"
             ]
            ],
            "type": "histogram2dcontour"
           }
          ],
          "mesh3d": [
           {
            "colorbar": {
             "outlinewidth": 0,
             "ticks": ""
            },
            "type": "mesh3d"
           }
          ],
          "parcoords": [
           {
            "line": {
             "colorbar": {
              "outlinewidth": 0,
              "ticks": ""
             }
            },
            "type": "parcoords"
           }
          ],
          "pie": [
           {
            "automargin": true,
            "type": "pie"
           }
          ],
          "scatter": [
           {
            "fillpattern": {
             "fillmode": "overlay",
             "size": 10,
             "solidity": 0.2
            },
            "type": "scatter"
           }
          ],
          "scatter3d": [
           {
            "line": {
             "colorbar": {
              "outlinewidth": 0,
              "ticks": ""
             }
            },
            "marker": {
             "colorbar": {
              "outlinewidth": 0,
              "ticks": ""
             }
            },
            "type": "scatter3d"
           }
          ],
          "scattercarpet": [
           {
            "marker": {
             "colorbar": {
              "outlinewidth": 0,
              "ticks": ""
             }
            },
            "type": "scattercarpet"
           }
          ],
          "scattergeo": [
           {
            "marker": {
             "colorbar": {
              "outlinewidth": 0,
              "ticks": ""
             }
            },
            "type": "scattergeo"
           }
          ],
          "scattergl": [
           {
            "marker": {
             "colorbar": {
              "outlinewidth": 0,
              "ticks": ""
             }
            },
            "type": "scattergl"
           }
          ],
          "scattermapbox": [
           {
            "marker": {
             "colorbar": {
              "outlinewidth": 0,
              "ticks": ""
             }
            },
            "type": "scattermapbox"
           }
          ],
          "scatterpolar": [
           {
            "marker": {
             "colorbar": {
              "outlinewidth": 0,
              "ticks": ""
             }
            },
            "type": "scatterpolar"
           }
          ],
          "scatterpolargl": [
           {
            "marker": {
             "colorbar": {
              "outlinewidth": 0,
              "ticks": ""
             }
            },
            "type": "scatterpolargl"
           }
          ],
          "scatterternary": [
           {
            "marker": {
             "colorbar": {
              "outlinewidth": 0,
              "ticks": ""
             }
            },
            "type": "scatterternary"
           }
          ],
          "surface": [
           {
            "colorbar": {
             "outlinewidth": 0,
             "ticks": ""
            },
            "colorscale": [
             [
              0,
              "#0d0887"
             ],
             [
              0.1111111111111111,
              "#46039f"
             ],
             [
              0.2222222222222222,
              "#7201a8"
             ],
             [
              0.3333333333333333,
              "#9c179e"
             ],
             [
              0.4444444444444444,
              "#bd3786"
             ],
             [
              0.5555555555555556,
              "#d8576b"
             ],
             [
              0.6666666666666666,
              "#ed7953"
             ],
             [
              0.7777777777777778,
              "#fb9f3a"
             ],
             [
              0.8888888888888888,
              "#fdca26"
             ],
             [
              1,
              "#f0f921"
             ]
            ],
            "type": "surface"
           }
          ],
          "table": [
           {
            "cells": {
             "fill": {
              "color": "#EBF0F8"
             },
             "line": {
              "color": "white"
             }
            },
            "header": {
             "fill": {
              "color": "#C8D4E3"
             },
             "line": {
              "color": "white"
             }
            },
            "type": "table"
           }
          ]
         },
         "layout": {
          "annotationdefaults": {
           "arrowcolor": "#2a3f5f",
           "arrowhead": 0,
           "arrowwidth": 1
          },
          "autotypenumbers": "strict",
          "coloraxis": {
           "colorbar": {
            "outlinewidth": 0,
            "ticks": ""
           }
          },
          "colorscale": {
           "diverging": [
            [
             0,
             "#8e0152"
            ],
            [
             0.1,
             "#c51b7d"
            ],
            [
             0.2,
             "#de77ae"
            ],
            [
             0.3,
             "#f1b6da"
            ],
            [
             0.4,
             "#fde0ef"
            ],
            [
             0.5,
             "#f7f7f7"
            ],
            [
             0.6,
             "#e6f5d0"
            ],
            [
             0.7,
             "#b8e186"
            ],
            [
             0.8,
             "#7fbc41"
            ],
            [
             0.9,
             "#4d9221"
            ],
            [
             1,
             "#276419"
            ]
           ],
           "sequential": [
            [
             0,
             "#0d0887"
            ],
            [
             0.1111111111111111,
             "#46039f"
            ],
            [
             0.2222222222222222,
             "#7201a8"
            ],
            [
             0.3333333333333333,
             "#9c179e"
            ],
            [
             0.4444444444444444,
             "#bd3786"
            ],
            [
             0.5555555555555556,
             "#d8576b"
            ],
            [
             0.6666666666666666,
             "#ed7953"
            ],
            [
             0.7777777777777778,
             "#fb9f3a"
            ],
            [
             0.8888888888888888,
             "#fdca26"
            ],
            [
             1,
             "#f0f921"
            ]
           ],
           "sequentialminus": [
            [
             0,
             "#0d0887"
            ],
            [
             0.1111111111111111,
             "#46039f"
            ],
            [
             0.2222222222222222,
             "#7201a8"
            ],
            [
             0.3333333333333333,
             "#9c179e"
            ],
            [
             0.4444444444444444,
             "#bd3786"
            ],
            [
             0.5555555555555556,
             "#d8576b"
            ],
            [
             0.6666666666666666,
             "#ed7953"
            ],
            [
             0.7777777777777778,
             "#fb9f3a"
            ],
            [
             0.8888888888888888,
             "#fdca26"
            ],
            [
             1,
             "#f0f921"
            ]
           ]
          },
          "colorway": [
           "#636efa",
           "#EF553B",
           "#00cc96",
           "#ab63fa",
           "#FFA15A",
           "#19d3f3",
           "#FF6692",
           "#B6E880",
           "#FF97FF",
           "#FECB52"
          ],
          "font": {
           "color": "#2a3f5f"
          },
          "geo": {
           "bgcolor": "white",
           "lakecolor": "white",
           "landcolor": "#E5ECF6",
           "showlakes": true,
           "showland": true,
           "subunitcolor": "white"
          },
          "hoverlabel": {
           "align": "left"
          },
          "hovermode": "closest",
          "mapbox": {
           "style": "light"
          },
          "paper_bgcolor": "white",
          "plot_bgcolor": "#E5ECF6",
          "polar": {
           "angularaxis": {
            "gridcolor": "white",
            "linecolor": "white",
            "ticks": ""
           },
           "bgcolor": "#E5ECF6",
           "radialaxis": {
            "gridcolor": "white",
            "linecolor": "white",
            "ticks": ""
           }
          },
          "scene": {
           "xaxis": {
            "backgroundcolor": "#E5ECF6",
            "gridcolor": "white",
            "gridwidth": 2,
            "linecolor": "white",
            "showbackground": true,
            "ticks": "",
            "zerolinecolor": "white"
           },
           "yaxis": {
            "backgroundcolor": "#E5ECF6",
            "gridcolor": "white",
            "gridwidth": 2,
            "linecolor": "white",
            "showbackground": true,
            "ticks": "",
            "zerolinecolor": "white"
           },
           "zaxis": {
            "backgroundcolor": "#E5ECF6",
            "gridcolor": "white",
            "gridwidth": 2,
            "linecolor": "white",
            "showbackground": true,
            "ticks": "",
            "zerolinecolor": "white"
           }
          },
          "shapedefaults": {
           "line": {
            "color": "#2a3f5f"
           }
          },
          "ternary": {
           "aaxis": {
            "gridcolor": "white",
            "linecolor": "white",
            "ticks": ""
           },
           "baxis": {
            "gridcolor": "white",
            "linecolor": "white",
            "ticks": ""
           },
           "bgcolor": "#E5ECF6",
           "caxis": {
            "gridcolor": "white",
            "linecolor": "white",
            "ticks": ""
           }
          },
          "title": {
           "x": 0.05
          },
          "xaxis": {
           "automargin": true,
           "gridcolor": "white",
           "linecolor": "white",
           "ticks": "",
           "title": {
            "standoff": 15
           },
           "zerolinecolor": "white",
           "zerolinewidth": 2
          },
          "yaxis": {
           "automargin": true,
           "gridcolor": "white",
           "linecolor": "white",
           "ticks": "",
           "title": {
            "standoff": 15
           },
           "zerolinecolor": "white",
           "zerolinewidth": 2
          }
         }
        },
        "title": {
         "text": "혼동 행렬"
        },
        "xaxis": {
         "title": {
          "text": "예측"
         }
        },
        "yaxis": {
         "title": {
          "text": "실제"
         }
        }
       }
      },
      "text/html": [
       "<div>                            <div id=\"4a7049e5-5299-457e-b8c5-78d484e10541\" class=\"plotly-graph-div\" style=\"height:525px; width:100%;\"></div>            <script type=\"text/javascript\">                require([\"plotly\"], function(Plotly) {                    window.PLOTLYENV=window.PLOTLYENV || {};                                    if (document.getElementById(\"4a7049e5-5299-457e-b8c5-78d484e10541\")) {                    Plotly.newPlot(                        \"4a7049e5-5299-457e-b8c5-78d484e10541\",                        [{\"colorscale\":[[0.0,\"rgb(247,251,255)\"],[0.125,\"rgb(222,235,247)\"],[0.25,\"rgb(198,219,239)\"],[0.375,\"rgb(158,202,225)\"],[0.5,\"rgb(107,174,214)\"],[0.625,\"rgb(66,146,198)\"],[0.75,\"rgb(33,113,181)\"],[0.875,\"rgb(8,81,156)\"],[1.0,\"rgb(8,48,107)\"]],\"hoverongaps\":false,\"text\":[[6953,461],[1069,1286]],\"texttemplate\":\"%{text}\",\"x\":[\"\\uc608\\uce21 0\",\"\\uc608\\uce21 1\"],\"y\":[\"\\uc2e4\\uc81c 0\",\"\\uc2e4\\uc81c 1\"],\"z\":[[6953,461],[1069,1286]],\"type\":\"heatmap\"}],                        {\"template\":{\"data\":{\"histogram2dcontour\":[{\"type\":\"histogram2dcontour\",\"colorbar\":{\"outlinewidth\":0,\"ticks\":\"\"},\"colorscale\":[[0.0,\"#0d0887\"],[0.1111111111111111,\"#46039f\"],[0.2222222222222222,\"#7201a8\"],[0.3333333333333333,\"#9c179e\"],[0.4444444444444444,\"#bd3786\"],[0.5555555555555556,\"#d8576b\"],[0.6666666666666666,\"#ed7953\"],[0.7777777777777778,\"#fb9f3a\"],[0.8888888888888888,\"#fdca26\"],[1.0,\"#f0f921\"]]}],\"choropleth\":[{\"type\":\"choropleth\",\"colorbar\":{\"outlinewidth\":0,\"ticks\":\"\"}}],\"histogram2d\":[{\"type\":\"histogram2d\",\"colorbar\":{\"outlinewidth\":0,\"ticks\":\"\"},\"colorscale\":[[0.0,\"#0d0887\"],[0.1111111111111111,\"#46039f\"],[0.2222222222222222,\"#7201a8\"],[0.3333333333333333,\"#9c179e\"],[0.4444444444444444,\"#bd3786\"],[0.5555555555555556,\"#d8576b\"],[0.6666666666666666,\"#ed7953\"],[0.7777777777777778,\"#fb9f3a\"],[0.8888888888888888,\"#fdca26\"],[1.0,\"#f0f921\"]]}],\"heatmap\":[{\"type\":\"heatmap\",\"colorbar\":{\"outlinewidth\":0,\"ticks\":\"\"},\"colorscale\":[[0.0,\"#0d0887\"],[0.1111111111111111,\"#46039f\"],[0.2222222222222222,\"#7201a8\"],[0.3333333333333333,\"#9c179e\"],[0.4444444444444444,\"#bd3786\"],[0.5555555555555556,\"#d8576b\"],[0.6666666666666666,\"#ed7953\"],[0.7777777777777778,\"#fb9f3a\"],[0.8888888888888888,\"#fdca26\"],[1.0,\"#f0f921\"]]}],\"heatmapgl\":[{\"type\":\"heatmapgl\",\"colorbar\":{\"outlinewidth\":0,\"ticks\":\"\"},\"colorscale\":[[0.0,\"#0d0887\"],[0.1111111111111111,\"#46039f\"],[0.2222222222222222,\"#7201a8\"],[0.3333333333333333,\"#9c179e\"],[0.4444444444444444,\"#bd3786\"],[0.5555555555555556,\"#d8576b\"],[0.6666666666666666,\"#ed7953\"],[0.7777777777777778,\"#fb9f3a\"],[0.8888888888888888,\"#fdca26\"],[1.0,\"#f0f921\"]]}],\"contourcarpet\":[{\"type\":\"contourcarpet\",\"colorbar\":{\"outlinewidth\":0,\"ticks\":\"\"}}],\"contour\":[{\"type\":\"contour\",\"colorbar\":{\"outlinewidth\":0,\"ticks\":\"\"},\"colorscale\":[[0.0,\"#0d0887\"],[0.1111111111111111,\"#46039f\"],[0.2222222222222222,\"#7201a8\"],[0.3333333333333333,\"#9c179e\"],[0.4444444444444444,\"#bd3786\"],[0.5555555555555556,\"#d8576b\"],[0.6666666666666666,\"#ed7953\"],[0.7777777777777778,\"#fb9f3a\"],[0.8888888888888888,\"#fdca26\"],[1.0,\"#f0f921\"]]}],\"surface\":[{\"type\":\"surface\",\"colorbar\":{\"outlinewidth\":0,\"ticks\":\"\"},\"colorscale\":[[0.0,\"#0d0887\"],[0.1111111111111111,\"#46039f\"],[0.2222222222222222,\"#7201a8\"],[0.3333333333333333,\"#9c179e\"],[0.4444444444444444,\"#bd3786\"],[0.5555555555555556,\"#d8576b\"],[0.6666666666666666,\"#ed7953\"],[0.7777777777777778,\"#fb9f3a\"],[0.8888888888888888,\"#fdca26\"],[1.0,\"#f0f921\"]]}],\"mesh3d\":[{\"type\":\"mesh3d\",\"colorbar\":{\"outlinewidth\":0,\"ticks\":\"\"}}],\"scatter\":[{\"fillpattern\":{\"fillmode\":\"overlay\",\"size\":10,\"solidity\":0.2},\"type\":\"scatter\"}],\"parcoords\":[{\"type\":\"parcoords\",\"line\":{\"colorbar\":{\"outlinewidth\":0,\"ticks\":\"\"}}}],\"scatterpolargl\":[{\"type\":\"scatterpolargl\",\"marker\":{\"colorbar\":{\"outlinewidth\":0,\"ticks\":\"\"}}}],\"bar\":[{\"error_x\":{\"color\":\"#2a3f5f\"},\"error_y\":{\"color\":\"#2a3f5f\"},\"marker\":{\"line\":{\"color\":\"#E5ECF6\",\"width\":0.5},\"pattern\":{\"fillmode\":\"overlay\",\"size\":10,\"solidity\":0.2}},\"type\":\"bar\"}],\"scattergeo\":[{\"type\":\"scattergeo\",\"marker\":{\"colorbar\":{\"outlinewidth\":0,\"ticks\":\"\"}}}],\"scatterpolar\":[{\"type\":\"scatterpolar\",\"marker\":{\"colorbar\":{\"outlinewidth\":0,\"ticks\":\"\"}}}],\"histogram\":[{\"marker\":{\"pattern\":{\"fillmode\":\"overlay\",\"size\":10,\"solidity\":0.2}},\"type\":\"histogram\"}],\"scattergl\":[{\"type\":\"scattergl\",\"marker\":{\"colorbar\":{\"outlinewidth\":0,\"ticks\":\"\"}}}],\"scatter3d\":[{\"type\":\"scatter3d\",\"line\":{\"colorbar\":{\"outlinewidth\":0,\"ticks\":\"\"}},\"marker\":{\"colorbar\":{\"outlinewidth\":0,\"ticks\":\"\"}}}],\"scattermapbox\":[{\"type\":\"scattermapbox\",\"marker\":{\"colorbar\":{\"outlinewidth\":0,\"ticks\":\"\"}}}],\"scatterternary\":[{\"type\":\"scatterternary\",\"marker\":{\"colorbar\":{\"outlinewidth\":0,\"ticks\":\"\"}}}],\"scattercarpet\":[{\"type\":\"scattercarpet\",\"marker\":{\"colorbar\":{\"outlinewidth\":0,\"ticks\":\"\"}}}],\"carpet\":[{\"aaxis\":{\"endlinecolor\":\"#2a3f5f\",\"gridcolor\":\"white\",\"linecolor\":\"white\",\"minorgridcolor\":\"white\",\"startlinecolor\":\"#2a3f5f\"},\"baxis\":{\"endlinecolor\":\"#2a3f5f\",\"gridcolor\":\"white\",\"linecolor\":\"white\",\"minorgridcolor\":\"white\",\"startlinecolor\":\"#2a3f5f\"},\"type\":\"carpet\"}],\"table\":[{\"cells\":{\"fill\":{\"color\":\"#EBF0F8\"},\"line\":{\"color\":\"white\"}},\"header\":{\"fill\":{\"color\":\"#C8D4E3\"},\"line\":{\"color\":\"white\"}},\"type\":\"table\"}],\"barpolar\":[{\"marker\":{\"line\":{\"color\":\"#E5ECF6\",\"width\":0.5},\"pattern\":{\"fillmode\":\"overlay\",\"size\":10,\"solidity\":0.2}},\"type\":\"barpolar\"}],\"pie\":[{\"automargin\":true,\"type\":\"pie\"}]},\"layout\":{\"autotypenumbers\":\"strict\",\"colorway\":[\"#636efa\",\"#EF553B\",\"#00cc96\",\"#ab63fa\",\"#FFA15A\",\"#19d3f3\",\"#FF6692\",\"#B6E880\",\"#FF97FF\",\"#FECB52\"],\"font\":{\"color\":\"#2a3f5f\"},\"hovermode\":\"closest\",\"hoverlabel\":{\"align\":\"left\"},\"paper_bgcolor\":\"white\",\"plot_bgcolor\":\"#E5ECF6\",\"polar\":{\"bgcolor\":\"#E5ECF6\",\"angularaxis\":{\"gridcolor\":\"white\",\"linecolor\":\"white\",\"ticks\":\"\"},\"radialaxis\":{\"gridcolor\":\"white\",\"linecolor\":\"white\",\"ticks\":\"\"}},\"ternary\":{\"bgcolor\":\"#E5ECF6\",\"aaxis\":{\"gridcolor\":\"white\",\"linecolor\":\"white\",\"ticks\":\"\"},\"baxis\":{\"gridcolor\":\"white\",\"linecolor\":\"white\",\"ticks\":\"\"},\"caxis\":{\"gridcolor\":\"white\",\"linecolor\":\"white\",\"ticks\":\"\"}},\"coloraxis\":{\"colorbar\":{\"outlinewidth\":0,\"ticks\":\"\"}},\"colorscale\":{\"sequential\":[[0.0,\"#0d0887\"],[0.1111111111111111,\"#46039f\"],[0.2222222222222222,\"#7201a8\"],[0.3333333333333333,\"#9c179e\"],[0.4444444444444444,\"#bd3786\"],[0.5555555555555556,\"#d8576b\"],[0.6666666666666666,\"#ed7953\"],[0.7777777777777778,\"#fb9f3a\"],[0.8888888888888888,\"#fdca26\"],[1.0,\"#f0f921\"]],\"sequentialminus\":[[0.0,\"#0d0887\"],[0.1111111111111111,\"#46039f\"],[0.2222222222222222,\"#7201a8\"],[0.3333333333333333,\"#9c179e\"],[0.4444444444444444,\"#bd3786\"],[0.5555555555555556,\"#d8576b\"],[0.6666666666666666,\"#ed7953\"],[0.7777777777777778,\"#fb9f3a\"],[0.8888888888888888,\"#fdca26\"],[1.0,\"#f0f921\"]],\"diverging\":[[0,\"#8e0152\"],[0.1,\"#c51b7d\"],[0.2,\"#de77ae\"],[0.3,\"#f1b6da\"],[0.4,\"#fde0ef\"],[0.5,\"#f7f7f7\"],[0.6,\"#e6f5d0\"],[0.7,\"#b8e186\"],[0.8,\"#7fbc41\"],[0.9,\"#4d9221\"],[1,\"#276419\"]]},\"xaxis\":{\"gridcolor\":\"white\",\"linecolor\":\"white\",\"ticks\":\"\",\"title\":{\"standoff\":15},\"zerolinecolor\":\"white\",\"automargin\":true,\"zerolinewidth\":2},\"yaxis\":{\"gridcolor\":\"white\",\"linecolor\":\"white\",\"ticks\":\"\",\"title\":{\"standoff\":15},\"zerolinecolor\":\"white\",\"automargin\":true,\"zerolinewidth\":2},\"scene\":{\"xaxis\":{\"backgroundcolor\":\"#E5ECF6\",\"gridcolor\":\"white\",\"linecolor\":\"white\",\"showbackground\":true,\"ticks\":\"\",\"zerolinecolor\":\"white\",\"gridwidth\":2},\"yaxis\":{\"backgroundcolor\":\"#E5ECF6\",\"gridcolor\":\"white\",\"linecolor\":\"white\",\"showbackground\":true,\"ticks\":\"\",\"zerolinecolor\":\"white\",\"gridwidth\":2},\"zaxis\":{\"backgroundcolor\":\"#E5ECF6\",\"gridcolor\":\"white\",\"linecolor\":\"white\",\"showbackground\":true,\"ticks\":\"\",\"zerolinecolor\":\"white\",\"gridwidth\":2}},\"shapedefaults\":{\"line\":{\"color\":\"#2a3f5f\"}},\"annotationdefaults\":{\"arrowcolor\":\"#2a3f5f\",\"arrowhead\":0,\"arrowwidth\":1},\"geo\":{\"bgcolor\":\"white\",\"landcolor\":\"#E5ECF6\",\"subunitcolor\":\"white\",\"showland\":true,\"showlakes\":true,\"lakecolor\":\"white\"},\"title\":{\"x\":0.05},\"mapbox\":{\"style\":\"light\"}}},\"title\":{\"text\":\"\\ud63c\\ub3d9 \\ud589\\ub82c\"},\"xaxis\":{\"title\":{\"text\":\"\\uc608\\uce21\"}},\"yaxis\":{\"title\":{\"text\":\"\\uc2e4\\uc81c\"}}},                        {\"responsive\": true}                    ).then(function(){\n",
       "                            \n",
       "var gd = document.getElementById('4a7049e5-5299-457e-b8c5-78d484e10541');\n",
       "var x = new MutationObserver(function (mutations, observer) {{\n",
       "        var display = window.getComputedStyle(gd).display;\n",
       "        if (!display || display === 'none') {{\n",
       "            console.log([gd, 'removed!']);\n",
       "            Plotly.purge(gd);\n",
       "            observer.disconnect();\n",
       "        }}\n",
       "}});\n",
       "\n",
       "// Listen for the removal of the full notebook cells\n",
       "var notebookContainer = gd.closest('#notebook-container');\n",
       "if (notebookContainer) {{\n",
       "    x.observe(notebookContainer, {childList: true});\n",
       "}}\n",
       "\n",
       "// Listen for the clearing of the current output cell\n",
       "var outputEl = gd.closest('.output');\n",
       "if (outputEl) {{\n",
       "    x.observe(outputEl, {childList: true});\n",
       "}}\n",
       "\n",
       "                        })                };                });            </script>        </div>"
      ]
     },
     "metadata": {},
     "output_type": "display_data"
    }
   ],
   "source": [
    "# 실제 테스트 데이터의 레이블 (income 열)\n",
    "y_true = y_test.replace({\n",
    "    '<=50K': 0,\n",
    "    '<=50K.': 0,\n",
    "    '>50K': 1,\n",
    "    '>50K.': 1\n",
    "})\n",
    "\n",
    "# 정확도 계산\n",
    "accuracy = accuracy_score(y_true, y_preds)\n",
    "print(f'정확도: {accuracy:.4f}')\n",
    "\n",
    "# 정밀도 계산\n",
    "precision = precision_score(y_true, y_preds)\n",
    "print(f'정밀도: {precision:.4f}')\n",
    "\n",
    "# 재현율 계산\n",
    "recall = recall_score(y_true, y_preds)\n",
    "print(f'재현율: {recall:.4f}')\n",
    "\n",
    "# F1 점수 계산\n",
    "f1 = f1_score(y_true, y_preds)\n",
    "print(f'F1 점수: {f1:.4f}')\n",
    "\n",
    "# 혼동 행렬 출력\n",
    "from sklearn.metrics import confusion_matrix\n",
    "import plotly.graph_objects as go\n",
    "\n",
    "cm = confusion_matrix(y_true, y_preds)\n",
    "\n",
    "fig = go.Figure(data=go.Heatmap(\n",
    "    z=cm,\n",
    "    x=['예측 0', '예측 1'],\n",
    "    y=['실제 0', '실제 1'],\n",
    "    hoverongaps = False,\n",
    "    text=cm,\n",
    "    texttemplate=\"%{text}\",\n",
    "    colorscale='Blues'\n",
    "))\n",
    "\n",
    "fig.update_layout(\n",
    "    title='혼동 행렬',\n",
    "    xaxis_title='예측',\n",
    "    yaxis_title='실제'\n",
    ")\n",
    "\n",
    "fig.show()\n"
   ]
  },
  {
   "cell_type": "code",
   "execution_count": 36,
   "metadata": {},
   "outputs": [
    {
     "name": "stderr",
     "output_type": "stream",
     "text": [
      "INFO:sagemaker:Deleting endpoint configuration with name: sagemaker-xgboost-2024-10-21-11-20-05-606\n",
      "INFO:sagemaker:Deleting endpoint with name: sagemaker-xgboost-2024-10-21-11-20-05-606\n"
     ]
    }
   ],
   "source": [
    "predictor.delete_endpoint()"
   ]
  }
 ],
 "metadata": {
  "kernelspec": {
   "display_name": "Python 3",
   "language": "python",
   "name": "python3"
  },
  "language_info": {
   "codemirror_mode": {
    "name": "ipython",
    "version": 3
   },
   "file_extension": ".py",
   "mimetype": "text/x-python",
   "name": "python",
   "nbconvert_exporter": "python",
   "pygments_lexer": "ipython3",
   "version": "3.12.4"
  }
 },
 "nbformat": 4,
 "nbformat_minor": 2
}
